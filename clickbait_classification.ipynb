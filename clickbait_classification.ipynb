{
  "nbformat": 4,
  "nbformat_minor": 0,
  "metadata": {
    "colab": {
      "provenance": [],
      "include_colab_link": true
    },
    "kernelspec": {
      "name": "python3",
      "display_name": "Python 3"
    },
    "language_info": {
      "name": "python"
    }
  },
  "cells": [
    {
      "cell_type": "markdown",
      "metadata": {
        "id": "view-in-github",
        "colab_type": "text"
      },
      "source": [
        "<a href=\"https://colab.research.google.com/github/parimalakettymuthu/MachineLearning-Projects/blob/main/clickbait_classification.ipynb\" target=\"_parent\"><img src=\"https://colab.research.google.com/assets/colab-badge.svg\" alt=\"Open In Colab\"/></a>"
      ]
    },
    {
      "cell_type": "code",
      "execution_count": 52,
      "metadata": {
        "id": "nTh20nyHWu4f"
      },
      "outputs": [],
      "source": [
        "%load_ext autoreload\n",
        "%autoreload 2"
      ]
    },
    {
      "cell_type": "code",
      "source": [
        "import sys\n",
        "sys.path.append('/content/drive/MyDrive/NLP_Projects/custom_functions')"
      ],
      "metadata": {
        "id": "2d49jS7RW2BZ"
      },
      "execution_count": 53,
      "outputs": []
    },
    {
      "cell_type": "code",
      "source": [
        "if 'google.colab' in str(get_ipython):\n",
        "  from google.colab import drive\n",
        "  drive.mount('/content/drive')\n",
        "  !pip install -U swifter -qq\n",
        "  !pip install -U nltk -qq\n",
        "  !pip install -U spacy -qq\n",
        "  !python -m spacy download en_core_web_sm -qq\n",
        "  \n",
        "  base_path = '/content/drive/MyDrive/NLP_Projects/Clickbait'\n",
        "  "
      ],
      "metadata": {
        "id": "VtOdY0EZXESt",
        "colab": {
          "base_uri": "https://localhost:8080/"
        },
        "outputId": "0ba76bc6-5e4d-4624-cc51-19a1dc60b4c7"
      },
      "execution_count": 54,
      "outputs": [
        {
          "output_type": "stream",
          "name": "stdout",
          "text": [
            "Drive already mounted at /content/drive; to attempt to forcibly remount, call drive.mount(\"/content/drive\", force_remount=True).\n",
            "/usr/local/lib/python3.9/dist-packages/torch/cuda/__init__.py:497: UserWarning: Can't initialize NVML\n",
            "  warnings.warn(\"Can't initialize NVML\")\n",
            "2023-03-25 02:11:37.584848: W tensorflow/compiler/xla/stream_executor/platform/default/dso_loader.cc:64] Could not load dynamic library 'libnvinfer.so.7'; dlerror: libnvinfer.so.7: cannot open shared object file: No such file or directory; LD_LIBRARY_PATH: /usr/local/nvidia/lib:/usr/local/nvidia/lib64\n",
            "2023-03-25 02:11:37.585028: W tensorflow/compiler/xla/stream_executor/platform/default/dso_loader.cc:64] Could not load dynamic library 'libnvinfer_plugin.so.7'; dlerror: libnvinfer_plugin.so.7: cannot open shared object file: No such file or directory; LD_LIBRARY_PATH: /usr/local/nvidia/lib:/usr/local/nvidia/lib64\n",
            "2023-03-25 02:11:37.585056: W tensorflow/compiler/tf2tensorrt/utils/py_utils.cc:38] TF-TRT Warning: Cannot dlopen some TensorRT libraries. If you would like to use Nvidia GPU with TensorRT, please make sure the missing libraries mentioned above are installed properly.\n",
            "2023-03-25 02:11:40.565335: E tensorflow/compiler/xla/stream_executor/cuda/cuda_driver.cc:267] failed call to cuInit: CUDA_ERROR_NO_DEVICE: no CUDA-capable device is detected\n",
            "\u001b[2K     \u001b[90m━━━━━━━━━━━━━━━━━━━━━━━━━━━━━━━━━━━━━━━━\u001b[0m \u001b[32m12.8/12.8 MB\u001b[0m \u001b[31m46.6 MB/s\u001b[0m eta \u001b[36m0:00:00\u001b[0m\n",
            "\u001b[?25h\u001b[38;5;2m✔ Download and installation successful\u001b[0m\n",
            "You can now load the package via spacy.load('en_core_web_sm')\n"
          ]
        }
      ]
    },
    {
      "cell_type": "code",
      "source": [
        "from pathlib import Path\n",
        "import pandas as pd\n",
        "import spacy as sp\n",
        "import swifter as sw"
      ],
      "metadata": {
        "id": "tWcURYHFYyZ1"
      },
      "execution_count": 55,
      "outputs": []
    },
    {
      "cell_type": "code",
      "source": [
        "import custom_preprocessor_mod as cpm\n",
        "from sklearn.pipeline import Pipeline\n",
        "from sklearn.feature_extraction.text import TfidfVectorizer\n",
        "from sklearn.linear_model import LogisticRegression\n",
        "from sklearn.model_selection import GridSearchCV\n",
        "from sklearn.metrics import classification_report\n",
        "#import plot_learning_curve as plt"
      ],
      "metadata": {
        "id": "zdqz9eZ7dHZS"
      },
      "execution_count": 62,
      "outputs": []
    },
    {
      "cell_type": "code",
      "source": [
        "base_folder = Path(base_path)\n",
        "data_folder = base_folder"
      ],
      "metadata": {
        "id": "2o_sxdeeZz5r"
      },
      "execution_count": 7,
      "outputs": []
    },
    {
      "cell_type": "code",
      "source": [
        "for file in base_folder.iterdir():\n",
        "  print(file)"
      ],
      "metadata": {
        "colab": {
          "base_uri": "https://localhost:8080/"
        },
        "id": "JZ67Fd4DZ_-X",
        "outputId": "9e52a155-8efa-41f4-bb8a-dfc4b59c6d08"
      },
      "execution_count": 8,
      "outputs": [
        {
          "output_type": "stream",
          "name": "stdout",
          "text": [
            "/content/drive/MyDrive/NLP_Projects/Clickbait/clickbait_classification.ipynb\n",
            "/content/drive/MyDrive/NLP_Projects/Clickbait/clickbait_data.csv\n"
          ]
        }
      ]
    },
    {
      "cell_type": "code",
      "source": [
        "clickBait = pd.read_csv(data_folder/ \"clickbait_data.csv\",encoding = 'ISO-8859-1')\n",
        "print(clickBait.shape)"
      ],
      "metadata": {
        "colab": {
          "base_uri": "https://localhost:8080/"
        },
        "id": "UuWgRVgOaGF1",
        "outputId": "f661bf0e-aa12-4b60-db48-71c7750805e2"
      },
      "execution_count": 12,
      "outputs": [
        {
          "output_type": "stream",
          "name": "stdout",
          "text": [
            "(32000, 2)\n"
          ]
        }
      ]
    },
    {
      "cell_type": "code",
      "source": [
        "print(clickBait.head(4))"
      ],
      "metadata": {
        "colab": {
          "base_uri": "https://localhost:8080/"
        },
        "id": "6-SWr3Zbal1A",
        "outputId": "31897141-1d96-48ae-8b65-e05cf640640e"
      },
      "execution_count": 13,
      "outputs": [
        {
          "output_type": "stream",
          "name": "stdout",
          "text": [
            "                                            headline  clickbait\n",
            "0                                 Should I Get Bings          1\n",
            "1      Which TV Female Friend Group Do You Belong In          1\n",
            "2  The New \"Star Wars: The Force Awakens\" Trailer...          1\n",
            "3  This Vine Of New York On \"Celebrity Big Brothe...          1\n"
          ]
        }
      ]
    },
    {
      "cell_type": "code",
      "source": [
        "print(clickBait['headline'][100])"
      ],
      "metadata": {
        "colab": {
          "base_uri": "https://localhost:8080/"
        },
        "id": "FEGwkBwLateZ",
        "outputId": "ef9f1288-5a60-4eff-870b-4989a6f54254"
      },
      "execution_count": 17,
      "outputs": [
        {
          "output_type": "stream",
          "name": "stdout",
          "text": [
            "We Taught These Grandmas How To Do The Nae Nae And It Was Cute AF\n"
          ]
        }
      ]
    },
    {
      "cell_type": "code",
      "source": [
        "trainData = clickBait.sample(frac=0.1, replace=True, random_state=1) #Get 10% of data as train dataset\n",
        "testData = clickBait.sample(frac=0.1, replace=True, random_state=1) #Get 10% of data as test dataset\n",
        "xtrain = clickBait['headline'].values  # extract \"messages\" values for x train variable\n",
        "xtest = clickBait['headline'].values # extract \"messages\" values for x test variable\n",
        "ytrain = clickBait['clickbait'].values\n",
        "ytest = clickBait['clickbait'].values\n",
        "print(f'X Train data:{xtrain.shape} Y Train data: {ytrain.shape}') # Display the train dataset's shape\n",
        "print(f'X Test data: {xtest.shape} Y Test data: {ytest.shape}')"
      ],
      "metadata": {
        "colab": {
          "base_uri": "https://localhost:8080/"
        },
        "id": "eON0NccWa6gX",
        "outputId": "fd93698a-7c15-4359-cb70-c46306b802bc"
      },
      "execution_count": 18,
      "outputs": [
        {
          "output_type": "stream",
          "name": "stdout",
          "text": [
            "X Train data:(32000,) Y Train data: (32000,)\n",
            "X Test data: (32000,) Y Test data: (32000,)\n"
          ]
        }
      ]
    },
    {
      "cell_type": "code",
      "source": [
        "xtrain_preprocess = cpm.SpacyPreprocessor('en_core_web_sm').transform(xtrain)"
      ],
      "metadata": {
        "colab": {
          "base_uri": "https://localhost:8080/"
        },
        "id": "034qYvFncmHg",
        "outputId": "0761dfd3-cb2d-4d2c-d30b-6cb0bdedb2f8"
      },
      "execution_count": 27,
      "outputs": [
        {
          "output_type": "stream",
          "name": "stderr",
          "text": [
            "/content/drive/MyDrive/NLP_Projects/custom_functions/custom_preprocessor_mod.py:84: MarkupResemblesLocatorWarning: The input looks more like a filename than markup. You may want to open this file and pass the filehandle into Beautiful Soup.\n",
            "  soup = BeautifulSoup(text, \"html.parser\")\n"
          ]
        }
      ]
    },
    {
      "cell_type": "code",
      "source": [
        "tfidf_classifier = Pipeline([\n",
        "    ('vectorizer', TfidfVectorizer(analyzer='word', token_pattern=r\"[\\S]+\")),\n",
        "    ('classifier', LogisticRegression())\n",
        "])"
      ],
      "metadata": {
        "id": "_M5dxQjAeCLj"
      },
      "execution_count": 35,
      "outputs": []
    },
    {
      "cell_type": "code",
      "source": [
        "tfidf_param_grid = {'vectorizer__max_features': [100,500,1000], 'classifier__C': [0.01, 0.1, 0.5, 1]}"
      ],
      "metadata": {
        "id": "a4bogJFAftrF"
      },
      "execution_count": 44,
      "outputs": []
    },
    {
      "cell_type": "code",
      "source": [
        "tfidf_grid_classifier = GridSearchCV(estimator=tfidf_classifier, param_grid=tfidf_param_grid, cv=3)\n",
        "tfidf_grid_classifier.fit(xtrain_preprocess,ytrain)"
      ],
      "metadata": {
        "colab": {
          "base_uri": "https://localhost:8080/",
          "height": 284
        },
        "id": "0w6BbB6_gRhD",
        "outputId": "4db42857-b17e-4668-e71c-2b0eb2addeb2"
      },
      "execution_count": 45,
      "outputs": [
        {
          "output_type": "execute_result",
          "data": {
            "text/plain": [
              "GridSearchCV(cv=3,\n",
              "             estimator=Pipeline(steps=[('vectorizer',\n",
              "                                        TfidfVectorizer(token_pattern='[\\\\S]+')),\n",
              "                                       ('classifier', LogisticRegression())]),\n",
              "             param_grid={'classifier__C': [0.01, 0.1, 0.5, 1],\n",
              "                         'vectorizer__max_features': [100, 500, 1000]})"
            ],
            "text/html": [
              "<style>#sk-container-id-1 {color: black;background-color: white;}#sk-container-id-1 pre{padding: 0;}#sk-container-id-1 div.sk-toggleable {background-color: white;}#sk-container-id-1 label.sk-toggleable__label {cursor: pointer;display: block;width: 100%;margin-bottom: 0;padding: 0.3em;box-sizing: border-box;text-align: center;}#sk-container-id-1 label.sk-toggleable__label-arrow:before {content: \"▸\";float: left;margin-right: 0.25em;color: #696969;}#sk-container-id-1 label.sk-toggleable__label-arrow:hover:before {color: black;}#sk-container-id-1 div.sk-estimator:hover label.sk-toggleable__label-arrow:before {color: black;}#sk-container-id-1 div.sk-toggleable__content {max-height: 0;max-width: 0;overflow: hidden;text-align: left;background-color: #f0f8ff;}#sk-container-id-1 div.sk-toggleable__content pre {margin: 0.2em;color: black;border-radius: 0.25em;background-color: #f0f8ff;}#sk-container-id-1 input.sk-toggleable__control:checked~div.sk-toggleable__content {max-height: 200px;max-width: 100%;overflow: auto;}#sk-container-id-1 input.sk-toggleable__control:checked~label.sk-toggleable__label-arrow:before {content: \"▾\";}#sk-container-id-1 div.sk-estimator input.sk-toggleable__control:checked~label.sk-toggleable__label {background-color: #d4ebff;}#sk-container-id-1 div.sk-label input.sk-toggleable__control:checked~label.sk-toggleable__label {background-color: #d4ebff;}#sk-container-id-1 input.sk-hidden--visually {border: 0;clip: rect(1px 1px 1px 1px);clip: rect(1px, 1px, 1px, 1px);height: 1px;margin: -1px;overflow: hidden;padding: 0;position: absolute;width: 1px;}#sk-container-id-1 div.sk-estimator {font-family: monospace;background-color: #f0f8ff;border: 1px dotted black;border-radius: 0.25em;box-sizing: border-box;margin-bottom: 0.5em;}#sk-container-id-1 div.sk-estimator:hover {background-color: #d4ebff;}#sk-container-id-1 div.sk-parallel-item::after {content: \"\";width: 100%;border-bottom: 1px solid gray;flex-grow: 1;}#sk-container-id-1 div.sk-label:hover label.sk-toggleable__label {background-color: #d4ebff;}#sk-container-id-1 div.sk-serial::before {content: \"\";position: absolute;border-left: 1px solid gray;box-sizing: border-box;top: 0;bottom: 0;left: 50%;z-index: 0;}#sk-container-id-1 div.sk-serial {display: flex;flex-direction: column;align-items: center;background-color: white;padding-right: 0.2em;padding-left: 0.2em;position: relative;}#sk-container-id-1 div.sk-item {position: relative;z-index: 1;}#sk-container-id-1 div.sk-parallel {display: flex;align-items: stretch;justify-content: center;background-color: white;position: relative;}#sk-container-id-1 div.sk-item::before, #sk-container-id-1 div.sk-parallel-item::before {content: \"\";position: absolute;border-left: 1px solid gray;box-sizing: border-box;top: 0;bottom: 0;left: 50%;z-index: -1;}#sk-container-id-1 div.sk-parallel-item {display: flex;flex-direction: column;z-index: 1;position: relative;background-color: white;}#sk-container-id-1 div.sk-parallel-item:first-child::after {align-self: flex-end;width: 50%;}#sk-container-id-1 div.sk-parallel-item:last-child::after {align-self: flex-start;width: 50%;}#sk-container-id-1 div.sk-parallel-item:only-child::after {width: 0;}#sk-container-id-1 div.sk-dashed-wrapped {border: 1px dashed gray;margin: 0 0.4em 0.5em 0.4em;box-sizing: border-box;padding-bottom: 0.4em;background-color: white;}#sk-container-id-1 div.sk-label label {font-family: monospace;font-weight: bold;display: inline-block;line-height: 1.2em;}#sk-container-id-1 div.sk-label-container {text-align: center;}#sk-container-id-1 div.sk-container {/* jupyter's `normalize.less` sets `[hidden] { display: none; }` but bootstrap.min.css set `[hidden] { display: none !important; }` so we also need the `!important` here to be able to override the default hidden behavior on the sphinx rendered scikit-learn.org. See: https://github.com/scikit-learn/scikit-learn/issues/21755 */display: inline-block !important;position: relative;}#sk-container-id-1 div.sk-text-repr-fallback {display: none;}</style><div id=\"sk-container-id-1\" class=\"sk-top-container\"><div class=\"sk-text-repr-fallback\"><pre>GridSearchCV(cv=3,\n",
              "             estimator=Pipeline(steps=[(&#x27;vectorizer&#x27;,\n",
              "                                        TfidfVectorizer(token_pattern=&#x27;[\\\\S]+&#x27;)),\n",
              "                                       (&#x27;classifier&#x27;, LogisticRegression())]),\n",
              "             param_grid={&#x27;classifier__C&#x27;: [0.01, 0.1, 0.5, 1],\n",
              "                         &#x27;vectorizer__max_features&#x27;: [100, 500, 1000]})</pre><b>In a Jupyter environment, please rerun this cell to show the HTML representation or trust the notebook. <br />On GitHub, the HTML representation is unable to render, please try loading this page with nbviewer.org.</b></div><div class=\"sk-container\" hidden><div class=\"sk-item sk-dashed-wrapped\"><div class=\"sk-label-container\"><div class=\"sk-label sk-toggleable\"><input class=\"sk-toggleable__control sk-hidden--visually\" id=\"sk-estimator-id-1\" type=\"checkbox\" ><label for=\"sk-estimator-id-1\" class=\"sk-toggleable__label sk-toggleable__label-arrow\">GridSearchCV</label><div class=\"sk-toggleable__content\"><pre>GridSearchCV(cv=3,\n",
              "             estimator=Pipeline(steps=[(&#x27;vectorizer&#x27;,\n",
              "                                        TfidfVectorizer(token_pattern=&#x27;[\\\\S]+&#x27;)),\n",
              "                                       (&#x27;classifier&#x27;, LogisticRegression())]),\n",
              "             param_grid={&#x27;classifier__C&#x27;: [0.01, 0.1, 0.5, 1],\n",
              "                         &#x27;vectorizer__max_features&#x27;: [100, 500, 1000]})</pre></div></div></div><div class=\"sk-parallel\"><div class=\"sk-parallel-item\"><div class=\"sk-item\"><div class=\"sk-label-container\"><div class=\"sk-label sk-toggleable\"><input class=\"sk-toggleable__control sk-hidden--visually\" id=\"sk-estimator-id-2\" type=\"checkbox\" ><label for=\"sk-estimator-id-2\" class=\"sk-toggleable__label sk-toggleable__label-arrow\">estimator: Pipeline</label><div class=\"sk-toggleable__content\"><pre>Pipeline(steps=[(&#x27;vectorizer&#x27;, TfidfVectorizer(token_pattern=&#x27;[\\\\S]+&#x27;)),\n",
              "                (&#x27;classifier&#x27;, LogisticRegression())])</pre></div></div></div><div class=\"sk-serial\"><div class=\"sk-item\"><div class=\"sk-serial\"><div class=\"sk-item\"><div class=\"sk-estimator sk-toggleable\"><input class=\"sk-toggleable__control sk-hidden--visually\" id=\"sk-estimator-id-3\" type=\"checkbox\" ><label for=\"sk-estimator-id-3\" class=\"sk-toggleable__label sk-toggleable__label-arrow\">TfidfVectorizer</label><div class=\"sk-toggleable__content\"><pre>TfidfVectorizer(token_pattern=&#x27;[\\\\S]+&#x27;)</pre></div></div></div><div class=\"sk-item\"><div class=\"sk-estimator sk-toggleable\"><input class=\"sk-toggleable__control sk-hidden--visually\" id=\"sk-estimator-id-4\" type=\"checkbox\" ><label for=\"sk-estimator-id-4\" class=\"sk-toggleable__label sk-toggleable__label-arrow\">LogisticRegression</label><div class=\"sk-toggleable__content\"><pre>LogisticRegression()</pre></div></div></div></div></div></div></div></div></div></div></div></div>"
            ]
          },
          "metadata": {},
          "execution_count": 45
        }
      ]
    },
    {
      "cell_type": "code",
      "source": [
        "print(f'Best cross-validation score: {tfidf_grid_classifier.best_score_:.2f}')\n",
        "print(\"\\nBest parameters: \", tfidf_grid_classifier.best_params_)\n",
        "print(\"\\nBest estimator: \", tfidf_grid_classifier.best_estimator_)"
      ],
      "metadata": {
        "colab": {
          "base_uri": "https://localhost:8080/"
        },
        "id": "4HeemyesgwfB",
        "outputId": "25f1f225-36f3-4293-cd0a-9f611a434bb0"
      },
      "execution_count": 46,
      "outputs": [
        {
          "output_type": "stream",
          "name": "stdout",
          "text": [
            "Best cross-validation score: 0.92\n",
            "\n",
            "Best parameters:  {'classifier__C': 1, 'vectorizer__max_features': 1000}\n",
            "\n",
            "Best estimator:  Pipeline(steps=[('vectorizer',\n",
            "                 TfidfVectorizer(max_features=1000, token_pattern='[\\\\S]+')),\n",
            "                ('classifier', LogisticRegression(C=1))])\n"
          ]
        }
      ]
    },
    {
      "cell_type": "code",
      "source": [
        "#printed the results of best estimator score xtrain & ytain\n",
        "print(tfidf_grid_classifier.score(xtrain_preprocess, ytrain))\n",
        "print(tfidf_grid_classifier.best_score_)"
      ],
      "metadata": {
        "colab": {
          "base_uri": "https://localhost:8080/"
        },
        "id": "NVEGa-aFObBI",
        "outputId": "4e51dae9-22f9-40aa-b91b-82452b2f3dcf"
      },
      "execution_count": 60,
      "outputs": [
        {
          "output_type": "stream",
          "name": "stdout",
          "text": [
            "0.926125\n",
            "0.9162499773747812\n"
          ]
        }
      ]
    },
    {
      "cell_type": "code",
      "source": [
        "tfidf_xtest_preprocess = cpm.SpacyPreprocessor(model='en_core_web_sm').transform(xtest)\n",
        "tfidf_ytest_pred = tfidf_grid_classifier.predict(tfidf_xtest_preprocess)\n",
        "\n",
        "print('\\nTest set report: \\n\\n', \n",
        "      classification_report(ytest, tfidf_ytest_pred))"
      ],
      "metadata": {
        "colab": {
          "base_uri": "https://localhost:8080/"
        },
        "id": "bO57tIXjjP1O",
        "outputId": "84ade0e8-090f-45d3-ee90-45d93186c02b"
      },
      "execution_count": 63,
      "outputs": [
        {
          "output_type": "stream",
          "name": "stderr",
          "text": [
            "/content/drive/MyDrive/NLP_Projects/custom_functions/custom_preprocessor_mod.py:84: MarkupResemblesLocatorWarning: The input looks more like a filename than markup. You may want to open this file and pass the filehandle into Beautiful Soup.\n",
            "  soup = BeautifulSoup(text, \"html.parser\")\n"
          ]
        },
        {
          "output_type": "stream",
          "name": "stdout",
          "text": [
            "\n",
            "Test set report: \n",
            "\n",
            "               precision    recall  f1-score   support\n",
            "\n",
            "           0       0.91      0.95      0.93     16001\n",
            "           1       0.94      0.91      0.92     15999\n",
            "\n",
            "    accuracy                           0.93     32000\n",
            "   macro avg       0.93      0.93      0.93     32000\n",
            "weighted avg       0.93      0.93      0.93     32000\n",
            "\n"
          ]
        }
      ]
    },
    {
      "cell_type": "code",
      "source": [],
      "metadata": {
        "id": "Lhwydh4ijPlW"
      },
      "execution_count": null,
      "outputs": []
    }
  ]
}