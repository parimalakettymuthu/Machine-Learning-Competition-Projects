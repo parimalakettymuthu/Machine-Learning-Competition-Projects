{
  "nbformat": 4,
  "nbformat_minor": 0,
  "metadata": {
    "colab": {
      "provenance": [],
      "authorship_tag": "ABX9TyMGvx9rtr6nU8M0BvvchP5+",
      "include_colab_link": true
    },
    "kernelspec": {
      "name": "python3",
      "display_name": "Python 3"
    },
    "language_info": {
      "name": "python"
    }
  },
  "cells": [
    {
      "cell_type": "markdown",
      "metadata": {
        "id": "view-in-github",
        "colab_type": "text"
      },
      "source": [
        "<a href=\"https://colab.research.google.com/github/parimalakettymuthu/MachineLearning-Projects/blob/main/Multiclass_Classification_assignment5.ipynb\" target=\"_parent\"><img src=\"https://colab.research.google.com/assets/colab-badge.svg\" alt=\"Open In Colab\"/></a>"
      ]
    },
    {
      "cell_type": "code",
      "execution_count": 1,
      "metadata": {
        "id": "uwfUJqYkNAO0"
      },
      "outputs": [],
      "source": [
        "%load_ext autoreload\n",
        "%autoreload 2"
      ]
    },
    {
      "cell_type": "code",
      "source": [
        "import sys \n",
        "sys.path.append('/content/drive/MyDrive/NLP/custom-functions')"
      ],
      "metadata": {
        "id": "n_ca_2ktNolQ"
      },
      "execution_count": 2,
      "outputs": []
    },
    {
      "cell_type": "code",
      "source": [
        "if 'google.colab' in str(get_ipython()):\n",
        "  from google.colab import drive\n",
        "  drive.mount('/content/drive')\n",
        "  !pip install -U swifter -qq\n",
        "  !pip install -U nltk -qq\n",
        "  !pip install -U spacy -qq\n",
        "  !python -m spacy download en_core_web_sm -qq\n",
        "  !pip install torchtext --upgrade\n",
        "  base_path = '/content/drive/MyDrive/NLP/assignment5'"
      ],
      "metadata": {
        "colab": {
          "base_uri": "https://localhost:8080/"
        },
        "id": "LCabWijON3X5",
        "outputId": "11a3460e-3a64-4c1e-bc58-f6e3def6d8f7"
      },
      "execution_count": 3,
      "outputs": [
        {
          "output_type": "stream",
          "name": "stdout",
          "text": [
            "Mounted at /content/drive\n",
            "\u001b[2K     \u001b[90m━━━━━━━━━━━━━━━━━━━━━━━━━━━━━━━━━━━━━━\u001b[0m \u001b[32m830.9/830.9 KB\u001b[0m \u001b[31m13.8 MB/s\u001b[0m eta \u001b[36m0:00:00\u001b[0m\n",
            "\u001b[?25h  Preparing metadata (setup.py) ... \u001b[?25l\u001b[?25hdone\n",
            "\u001b[2K     \u001b[90m━━━━━━━━━━━━━━━━━━━━━━━━━━━━━━━━━━━━━━━━\u001b[0m \u001b[32m1.6/1.6 MB\u001b[0m \u001b[31m70.6 MB/s\u001b[0m eta \u001b[36m0:00:00\u001b[0m\n",
            "\u001b[?25h  Building wheel for swifter (setup.py) ... \u001b[?25l\u001b[?25hdone\n",
            "/usr/local/lib/python3.9/dist-packages/torch/cuda/__init__.py:497: UserWarning: Can't initialize NVML\n",
            "  warnings.warn(\"Can't initialize NVML\")\n",
            "2023-04-02 12:49:17.400396: I tensorflow/core/platform/cpu_feature_guard.cc:182] This TensorFlow binary is optimized to use available CPU instructions in performance-critical operations.\n",
            "To enable the following instructions: AVX2 FMA, in other operations, rebuild TensorFlow with the appropriate compiler flags.\n",
            "2023-04-02 12:49:18.267104: W tensorflow/compiler/tf2tensorrt/utils/py_utils.cc:38] TF-TRT Warning: Could not find TensorRT\n",
            "2023-04-02 12:49:19.594949: E tensorflow/compiler/xla/stream_executor/cuda/cuda_driver.cc:266] failed call to cuInit: CUDA_ERROR_NO_DEVICE: no CUDA-capable device is detected\n",
            "\u001b[2K     \u001b[90m━━━━━━━━━━━━━━━━━━━━━━━━━━━━━━━━━━━━━━━━\u001b[0m \u001b[32m12.8/12.8 MB\u001b[0m \u001b[31m95.8 MB/s\u001b[0m eta \u001b[36m0:00:00\u001b[0m\n",
            "\u001b[?25h\u001b[38;5;2m✔ Download and installation successful\u001b[0m\n",
            "You can now load the package via spacy.load('en_core_web_sm')\n",
            "Looking in indexes: https://pypi.org/simple, https://us-python.pkg.dev/colab-wheels/public/simple/\n",
            "Requirement already satisfied: torchtext in /usr/local/lib/python3.9/dist-packages (0.14.1)\n",
            "Collecting torchtext\n",
            "  Downloading torchtext-0.15.1-cp39-cp39-manylinux1_x86_64.whl (2.0 MB)\n",
            "\u001b[2K     \u001b[90m━━━━━━━━━━━━━━━━━━━━━━━━━━━━━━━━━━━━━━━━\u001b[0m \u001b[32m2.0/2.0 MB\u001b[0m \u001b[31m27.9 MB/s\u001b[0m eta \u001b[36m0:00:00\u001b[0m\n",
            "\u001b[?25hRequirement already satisfied: numpy in /usr/local/lib/python3.9/dist-packages (from torchtext) (1.22.4)\n",
            "Requirement already satisfied: tqdm in /usr/local/lib/python3.9/dist-packages (from torchtext) (4.65.0)\n",
            "Collecting torchdata==0.6.0\n",
            "  Downloading torchdata-0.6.0-cp39-cp39-manylinux_2_17_x86_64.manylinux2014_x86_64.whl (4.6 MB)\n",
            "\u001b[2K     \u001b[90m━━━━━━━━━━━━━━━━━━━━━━━━━━━━━━━━━━━━━━━━\u001b[0m \u001b[32m4.6/4.6 MB\u001b[0m \u001b[31m103.4 MB/s\u001b[0m eta \u001b[36m0:00:00\u001b[0m\n",
            "\u001b[?25hRequirement already satisfied: requests in /usr/local/lib/python3.9/dist-packages (from torchtext) (2.27.1)\n",
            "Collecting torch==2.0.0\n",
            "  Downloading torch-2.0.0-cp39-cp39-manylinux1_x86_64.whl (619.9 MB)\n",
            "\u001b[2K     \u001b[90m━━━━━━━━━━━━━━━━━━━━━━━━━━━━━━━━━━━━━━━\u001b[0m \u001b[32m619.9/619.9 MB\u001b[0m \u001b[31m3.2 MB/s\u001b[0m eta \u001b[36m0:00:00\u001b[0m\n",
            "\u001b[?25hCollecting triton==2.0.0\n",
            "  Downloading triton-2.0.0-1-cp39-cp39-manylinux2014_x86_64.manylinux_2_17_x86_64.whl (63.3 MB)\n",
            "\u001b[2K     \u001b[90m━━━━━━━━━━━━━━━━━━━━━━━━━━━━━━━━━━━━━━━━\u001b[0m \u001b[32m63.3/63.3 MB\u001b[0m \u001b[31m13.5 MB/s\u001b[0m eta \u001b[36m0:00:00\u001b[0m\n",
            "\u001b[?25hRequirement already satisfied: typing-extensions in /usr/local/lib/python3.9/dist-packages (from torch==2.0.0->torchtext) (4.5.0)\n",
            "Collecting nvidia-curand-cu11==10.2.10.91\n",
            "  Downloading nvidia_curand_cu11-10.2.10.91-py3-none-manylinux1_x86_64.whl (54.6 MB)\n",
            "\u001b[2K     \u001b[90m━━━━━━━━━━━━━━━━━━━━━━━━━━━━━━━━━━━━━━━━\u001b[0m \u001b[32m54.6/54.6 MB\u001b[0m \u001b[31m14.9 MB/s\u001b[0m eta \u001b[36m0:00:00\u001b[0m\n",
            "\u001b[?25hCollecting nvidia-nvtx-cu11==11.7.91\n",
            "  Downloading nvidia_nvtx_cu11-11.7.91-py3-none-manylinux1_x86_64.whl (98 kB)\n",
            "\u001b[2K     \u001b[90m━━━━━━━━━━━━━━━━━━━━━━━━━━━━━━━━━━━━━━━━\u001b[0m \u001b[32m98.6/98.6 KB\u001b[0m \u001b[31m15.5 MB/s\u001b[0m eta \u001b[36m0:00:00\u001b[0m\n",
            "\u001b[?25hCollecting nvidia-cuda-cupti-cu11==11.7.101\n",
            "  Downloading nvidia_cuda_cupti_cu11-11.7.101-py3-none-manylinux1_x86_64.whl (11.8 MB)\n",
            "\u001b[2K     \u001b[90m━━━━━━━━━━━━━━━━━━━━━━━━━━━━━━━━━━━━━━━\u001b[0m \u001b[32m11.8/11.8 MB\u001b[0m \u001b[31m112.1 MB/s\u001b[0m eta \u001b[36m0:00:00\u001b[0m\n",
            "\u001b[?25hCollecting nvidia-cuda-nvrtc-cu11==11.7.99\n",
            "  Downloading nvidia_cuda_nvrtc_cu11-11.7.99-2-py3-none-manylinux1_x86_64.whl (21.0 MB)\n",
            "\u001b[2K     \u001b[90m━━━━━━━━━━━━━━━━━━━━━━━━━━━━━━━━━━━━━━━━\u001b[0m \u001b[32m21.0/21.0 MB\u001b[0m \u001b[31m89.0 MB/s\u001b[0m eta \u001b[36m0:00:00\u001b[0m\n",
            "\u001b[?25hRequirement already satisfied: filelock in /usr/local/lib/python3.9/dist-packages (from torch==2.0.0->torchtext) (3.10.7)\n",
            "Collecting nvidia-cusolver-cu11==11.4.0.1\n",
            "  Downloading nvidia_cusolver_cu11-11.4.0.1-2-py3-none-manylinux1_x86_64.whl (102.6 MB)\n",
            "\u001b[2K     \u001b[90m━━━━━━━━━━━━━━━━━━━━━━━━━━━━━━━━━━━━━━\u001b[0m \u001b[32m102.6/102.6 MB\u001b[0m \u001b[31m10.3 MB/s\u001b[0m eta \u001b[36m0:00:00\u001b[0m\n",
            "\u001b[?25hRequirement already satisfied: networkx in /usr/local/lib/python3.9/dist-packages (from torch==2.0.0->torchtext) (3.0)\n",
            "Collecting nvidia-cuda-runtime-cu11==11.7.99\n",
            "  Downloading nvidia_cuda_runtime_cu11-11.7.99-py3-none-manylinux1_x86_64.whl (849 kB)\n",
            "\u001b[2K     \u001b[90m━━━━━━━━━━━━━━━━━━━━━━━━━━━━━━━━━━━━━━\u001b[0m \u001b[32m849.3/849.3 KB\u001b[0m \u001b[31m76.8 MB/s\u001b[0m eta \u001b[36m0:00:00\u001b[0m\n",
            "\u001b[?25hCollecting nvidia-cusparse-cu11==11.7.4.91\n",
            "  Downloading nvidia_cusparse_cu11-11.7.4.91-py3-none-manylinux1_x86_64.whl (173.2 MB)\n",
            "\u001b[2K     \u001b[90m━━━━━━━━━━━━━━━━━━━━━━━━━━━━━━━━━━━━━━━\u001b[0m \u001b[32m173.2/173.2 MB\u001b[0m \u001b[31m7.5 MB/s\u001b[0m eta \u001b[36m0:00:00\u001b[0m\n",
            "\u001b[?25hCollecting nvidia-cublas-cu11==11.10.3.66\n",
            "  Downloading nvidia_cublas_cu11-11.10.3.66-py3-none-manylinux1_x86_64.whl (317.1 MB)\n",
            "\u001b[2K     \u001b[90m━━━━━━━━━━━━━━━━━━━━━━━━━━━━━━━━━━━━━━━\u001b[0m \u001b[32m317.1/317.1 MB\u001b[0m \u001b[31m4.9 MB/s\u001b[0m eta \u001b[36m0:00:00\u001b[0m\n",
            "\u001b[?25hCollecting nvidia-nccl-cu11==2.14.3\n",
            "  Downloading nvidia_nccl_cu11-2.14.3-py3-none-manylinux1_x86_64.whl (177.1 MB)\n",
            "\u001b[2K     \u001b[90m━━━━━━━━━━━━━━━━━━━━━━━━━━━━━━━━━━━━━━━\u001b[0m \u001b[32m177.1/177.1 MB\u001b[0m \u001b[31m6.5 MB/s\u001b[0m eta \u001b[36m0:00:00\u001b[0m\n",
            "\u001b[?25hRequirement already satisfied: jinja2 in /usr/local/lib/python3.9/dist-packages (from torch==2.0.0->torchtext) (3.1.2)\n",
            "Requirement already satisfied: sympy in /usr/local/lib/python3.9/dist-packages (from torch==2.0.0->torchtext) (1.11.1)\n",
            "Collecting nvidia-cufft-cu11==10.9.0.58\n",
            "  Downloading nvidia_cufft_cu11-10.9.0.58-py3-none-manylinux1_x86_64.whl (168.4 MB)\n",
            "\u001b[2K     \u001b[90m━━━━━━━━━━━━━━━━━━━━━━━━━━━━━━━━━━━━━━━\u001b[0m \u001b[32m168.4/168.4 MB\u001b[0m \u001b[31m8.0 MB/s\u001b[0m eta \u001b[36m0:00:00\u001b[0m\n",
            "\u001b[?25hCollecting nvidia-cudnn-cu11==8.5.0.96\n",
            "  Downloading nvidia_cudnn_cu11-8.5.0.96-2-py3-none-manylinux1_x86_64.whl (557.1 MB)\n",
            "\u001b[2K     \u001b[90m━━━━━━━━━━━━━━━━━━━━━━━━━━━━━━━━━━━━━━━\u001b[0m \u001b[32m557.1/557.1 MB\u001b[0m \u001b[31m3.3 MB/s\u001b[0m eta \u001b[36m0:00:00\u001b[0m\n",
            "\u001b[?25hRequirement already satisfied: urllib3>=1.25 in /usr/local/lib/python3.9/dist-packages (from torchdata==0.6.0->torchtext) (1.26.15)\n",
            "Requirement already satisfied: setuptools in /usr/local/lib/python3.9/dist-packages (from nvidia-cublas-cu11==11.10.3.66->torch==2.0.0->torchtext) (67.6.1)\n",
            "Requirement already satisfied: wheel in /usr/local/lib/python3.9/dist-packages (from nvidia-cublas-cu11==11.10.3.66->torch==2.0.0->torchtext) (0.40.0)\n",
            "Requirement already satisfied: cmake in /usr/local/lib/python3.9/dist-packages (from triton==2.0.0->torch==2.0.0->torchtext) (3.25.2)\n",
            "Collecting lit\n",
            "  Downloading lit-16.0.0.tar.gz (144 kB)\n",
            "\u001b[2K     \u001b[90m━━━━━━━━━━━━━━━━━━━━━━━━━━━━━━━━━━━━━━\u001b[0m \u001b[32m145.0/145.0 KB\u001b[0m \u001b[31m22.2 MB/s\u001b[0m eta \u001b[36m0:00:00\u001b[0m\n",
            "\u001b[?25h  Preparing metadata (setup.py) ... \u001b[?25l\u001b[?25hdone\n",
            "Requirement already satisfied: idna<4,>=2.5 in /usr/local/lib/python3.9/dist-packages (from requests->torchtext) (3.4)\n",
            "Requirement already satisfied: certifi>=2017.4.17 in /usr/local/lib/python3.9/dist-packages (from requests->torchtext) (2022.12.7)\n",
            "Requirement already satisfied: charset-normalizer~=2.0.0 in /usr/local/lib/python3.9/dist-packages (from requests->torchtext) (2.0.12)\n",
            "Requirement already satisfied: MarkupSafe>=2.0 in /usr/local/lib/python3.9/dist-packages (from jinja2->torch==2.0.0->torchtext) (2.1.2)\n",
            "Requirement already satisfied: mpmath>=0.19 in /usr/local/lib/python3.9/dist-packages (from sympy->torch==2.0.0->torchtext) (1.3.0)\n",
            "Building wheels for collected packages: lit\n",
            "  Building wheel for lit (setup.py) ... \u001b[?25l\u001b[?25hdone\n",
            "  Created wheel for lit: filename=lit-16.0.0-py3-none-any.whl size=93601 sha256=fa7424f898d7479caec1b84bfac4eb424b11a38ea6ca0b3a213069612f01add5\n",
            "  Stored in directory: /root/.cache/pip/wheels/c7/ee/80/1520ca86c3557f70e5504b802072f7fc3b0e2147f376b133ed\n",
            "Successfully built lit\n",
            "Installing collected packages: lit, nvidia-nvtx-cu11, nvidia-nccl-cu11, nvidia-cusparse-cu11, nvidia-curand-cu11, nvidia-cufft-cu11, nvidia-cuda-runtime-cu11, nvidia-cuda-nvrtc-cu11, nvidia-cuda-cupti-cu11, nvidia-cublas-cu11, nvidia-cusolver-cu11, nvidia-cudnn-cu11, triton, torch, torchdata, torchtext\n",
            "  Attempting uninstall: torch\n",
            "    Found existing installation: torch 1.13.1+cu116\n",
            "    Uninstalling torch-1.13.1+cu116:\n",
            "      Successfully uninstalled torch-1.13.1+cu116\n",
            "  Attempting uninstall: torchtext\n",
            "    Found existing installation: torchtext 0.14.1\n",
            "    Uninstalling torchtext-0.14.1:\n",
            "      Successfully uninstalled torchtext-0.14.1\n",
            "\u001b[31mERROR: pip's dependency resolver does not currently take into account all the packages that are installed. This behaviour is the source of the following dependency conflicts.\n",
            "torchvision 0.14.1+cu116 requires torch==1.13.1, but you have torch 2.0.0 which is incompatible.\n",
            "torchaudio 0.13.1+cu116 requires torch==1.13.1, but you have torch 2.0.0 which is incompatible.\u001b[0m\u001b[31m\n",
            "\u001b[0mSuccessfully installed lit-16.0.0 nvidia-cublas-cu11-11.10.3.66 nvidia-cuda-cupti-cu11-11.7.101 nvidia-cuda-nvrtc-cu11-11.7.99 nvidia-cuda-runtime-cu11-11.7.99 nvidia-cudnn-cu11-8.5.0.96 nvidia-cufft-cu11-10.9.0.58 nvidia-curand-cu11-10.2.10.91 nvidia-cusolver-cu11-11.4.0.1 nvidia-cusparse-cu11-11.7.4.91 nvidia-nccl-cu11-2.14.3 nvidia-nvtx-cu11-11.7.91 torch-2.0.0 torchdata-0.6.0 torchtext-0.15.1 triton-2.0.0\n"
          ]
        }
      ]
    },
    {
      "cell_type": "code",
      "source": [
        "from pathlib import Path\n",
        "import pandas as pd\n",
        "import torch\n",
        "import torch.nn as inn\n",
        "from torchtext.vocab import vocab\n",
        "from collections import Counter\n",
        "from torch.utils.data import Dataset, DataLoader\n"
      ],
      "metadata": {
        "id": "4UCObZsEOAuP"
      },
      "execution_count": 4,
      "outputs": []
    },
    {
      "cell_type": "code",
      "source": [
        "data_folder = Path(base_path)\n",
        "for entries in data_folder.iterdir():\n",
        "  print(entries.name)"
      ],
      "metadata": {
        "colab": {
          "base_uri": "https://localhost:8080/"
        },
        "id": "-0yT4KHrQQ8Y",
        "outputId": "20dc5f57-7b83-4137-9739-d22d9e3fe74e"
      },
      "execution_count": 5,
      "outputs": [
        {
          "output_type": "stream",
          "name": "stdout",
          "text": [
            "multiclass_hw_cleaned.csv\n",
            "Multiclass_Classification_assignment5.ipynb\n"
          ]
        }
      ]
    },
    {
      "cell_type": "code",
      "source": [
        "stackExchange1 = pd.read_csv(data_folder/ 'multiclass_hw_cleaned.csv', encoding = 'ISO-8859-1')\n",
        "print(stackExchange1.shape)\n",
        "print(stackExchange1.head(2))"
      ],
      "metadata": {
        "colab": {
          "base_uri": "https://localhost:8080/"
        },
        "id": "wn5ARljiShrr",
        "outputId": "95d08207-d4fc-40b4-8c2e-0c328e405dd7"
      },
      "execution_count": 6,
      "outputs": [
        {
          "output_type": "stream",
          "name": "stdout",
          "text": [
            "(188878, 6)\n",
            "   Unnamed: 0                                     Title  \\\n",
            "0           0   detail disclosure indicator on UIButton   \n",
            "1           1  hello world fails to show up in emulator   \n",
            "\n",
            "                                                Body  \\\n",
            "0  <p>Is there a simple way to place a detail dis...   \n",
            "1  <p>I followed Hello World tutorial exactly.  E...   \n",
            "\n",
            "                                        cleaned_text     Tags  \\\n",
            "0  detail disclosure indicator uibutton simple wa...   iphone   \n",
            "1  hello world fail emulator follow hello world t...  android   \n",
            "\n",
            "   Tag_Number_final  \n",
            "0                 8  \n",
            "1                 4  \n"
          ]
        }
      ]
    },
    {
      "cell_type": "code",
      "source": [
        "stackExchange = pd.DataFrame().assign(cleaned_text=stackExchange1['cleaned_text'], Tag_Number_final=stackExchange1['Tag_Number_final'])\n",
        "print(stackExchange)"
      ],
      "metadata": {
        "colab": {
          "base_uri": "https://localhost:8080/"
        },
        "id": "hW1_DFXlS-pF",
        "outputId": "104f40fd-fa46-47ae-8012-3f48245b081c"
      },
      "execution_count": 7,
      "outputs": [
        {
          "output_type": "stream",
          "name": "stdout",
          "text": [
            "                                             cleaned_text  Tag_Number_final\n",
            "0       detail disclosure indicator uibutton simple wa...                 8\n",
            "1       hello world fail emulator follow hello world t...                 4\n",
            "2       jshint throw possible strict violation line tr...                 3\n",
            "3       programmatically bound column invisible try da...                 9\n",
            "4       edittext get focus soft keyboard android home ...                 4\n",
            "...                                                   ...               ...\n",
            "188873  reload tab activity tab change reload activity...                 4\n",
            "188874  learning index loop list contain list inner li...                 7\n",
            "188875  module pattern | private access pass reference...                 3\n",
            "188876  listener homebutton android   possible duplica...                 4\n",
            "188877  php optimize multiple conditional loop multipl...                 2\n",
            "\n",
            "[188878 rows x 2 columns]\n"
          ]
        }
      ]
    },
    {
      "cell_type": "code",
      "source": [
        "stackExchange.dropna(inplace=True)\n",
        "print(stackExchange)"
      ],
      "metadata": {
        "colab": {
          "base_uri": "https://localhost:8080/"
        },
        "id": "DnMHXsYFhiam",
        "outputId": "ec499435-374b-4db8-d0d1-af190ab02e73"
      },
      "execution_count": 8,
      "outputs": [
        {
          "output_type": "stream",
          "name": "stdout",
          "text": [
            "                                             cleaned_text  Tag_Number_final\n",
            "0       detail disclosure indicator uibutton simple wa...                 8\n",
            "1       hello world fail emulator follow hello world t...                 4\n",
            "2       jshint throw possible strict violation line tr...                 3\n",
            "3       programmatically bound column invisible try da...                 9\n",
            "4       edittext get focus soft keyboard android home ...                 4\n",
            "...                                                   ...               ...\n",
            "188873  reload tab activity tab change reload activity...                 4\n",
            "188874  learning index loop list contain list inner li...                 7\n",
            "188875  module pattern | private access pass reference...                 3\n",
            "188876  listener homebutton android   possible duplica...                 4\n",
            "188877  php optimize multiple conditional loop multipl...                 2\n",
            "\n",
            "[188874 rows x 2 columns]\n"
          ]
        }
      ]
    },
    {
      "cell_type": "code",
      "source": [
        "from sklearn.model_selection import train_test_split\n",
        "\n",
        "# Split data into train and test sets (80/20 split)\n",
        "SExchangeTrain, test_val = train_test_split(stackExchange, test_size=0.2, random_state=42)\n",
        "\n",
        "# Split train set into train and validation sets (50/50 split)\n",
        "SExchangeTest, SExchangeVal = train_test_split(test_val, test_size=0.5, random_state=42)\n",
        "\n",
        "# Print the shapes & percentage of split of the resulting datasets\n",
        "print(\"Train set shape: \", SExchangeTrain.shape, \"Split %: \", len(SExchangeTrain)/len(stackExchange))\n",
        "print(\"Validation set shape: \", SExchangeVal.shape,\"Split %: \", len(SExchangeVal)/len(stackExchange))\n",
        "print(\"Test set shape: \", SExchangeTest.shape, \"Split %: \", len(SExchangeTest)/len(stackExchange))"
      ],
      "metadata": {
        "colab": {
          "base_uri": "https://localhost:8080/"
        },
        "id": "yJESKH-IUoYl",
        "outputId": "70cad9f9-bc39-4fcf-b306-df2086b12fbd"
      },
      "execution_count": 9,
      "outputs": [
        {
          "output_type": "stream",
          "name": "stdout",
          "text": [
            "Train set shape:  (151099, 2) Split %:  0.7999989410930038\n",
            "Validation set shape:  (18888, 2) Split %:  0.1000031767209886\n",
            "Test set shape:  (18887, 2) Split %:  0.09999788218600761\n"
          ]
        }
      ]
    },
    {
      "cell_type": "code",
      "source": [
        "X_SExchangeTrain = SExchangeTrain[\"cleaned_text\"]\n",
        "X_SExchangeTest = SExchangeTest[\"cleaned_text\"]\n",
        "X_SExchangeValid = SExchangeVal[\"cleaned_text\"]\n",
        "\n",
        "Y_SExchangeTrain = SExchangeTrain[\"Tag_Number_final\"]\n",
        "Y_SExchangeTest = SExchangeTest[\"Tag_Number_final\"]\n",
        "Y_SExchangeValid = SExchangeVal[\"Tag_Number_final\"]"
      ],
      "metadata": {
        "id": "jGkAnIy1fkVR"
      },
      "execution_count": 10,
      "outputs": []
    },
    {
      "cell_type": "code",
      "source": [
        "from sklearn.feature_extraction.text import TfidfVectorizer\n",
        "!pip install wandb -qq\n",
        "import wandb\n",
        "import numpy as np"
      ],
      "metadata": {
        "id": "zB1VXi2iWjOg",
        "colab": {
          "base_uri": "https://localhost:8080/"
        },
        "outputId": "95e92685-e1bc-4f36-af14-07d96c0fdc1c"
      },
      "execution_count": 11,
      "outputs": [
        {
          "output_type": "stream",
          "name": "stdout",
          "text": [
            "\u001b[2K     \u001b[90m━━━━━━━━━━━━━━━━━━━━━━━━━━━━━━━━━━━━━━━━\u001b[0m \u001b[32m2.0/2.0 MB\u001b[0m \u001b[31m10.5 MB/s\u001b[0m eta \u001b[36m0:00:00\u001b[0m\n",
            "\u001b[?25h  Preparing metadata (setup.py) ... \u001b[?25l\u001b[?25hdone\n",
            "\u001b[2K     \u001b[90m━━━━━━━━━━━━━━━━━━━━━━━━━━━━━━━━━━━━━━\u001b[0m \u001b[32m194.8/194.8 KB\u001b[0m \u001b[31m23.7 MB/s\u001b[0m eta \u001b[36m0:00:00\u001b[0m\n",
            "\u001b[2K     \u001b[90m━━━━━━━━━━━━━━━━━━━━━━━━━━━━━━━━━━━━━━\u001b[0m \u001b[32m184.3/184.3 KB\u001b[0m \u001b[31m19.3 MB/s\u001b[0m eta \u001b[36m0:00:00\u001b[0m\n",
            "\u001b[2K     \u001b[90m━━━━━━━━━━━━━━━━━━━━━━━━━━━━━━━━━━━━━━━━\u001b[0m \u001b[32m62.7/62.7 KB\u001b[0m \u001b[31m7.5 MB/s\u001b[0m eta \u001b[36m0:00:00\u001b[0m\n",
            "\u001b[?25h  Building wheel for pathtools (setup.py) ... \u001b[?25l\u001b[?25hdone\n"
          ]
        }
      ]
    },
    {
      "cell_type": "markdown",
      "source": [
        "# Create Vectors using Tfidf"
      ],
      "metadata": {
        "id": "qiPbtwjid5PX"
      }
    },
    {
      "cell_type": "code",
      "source": [
        "#vectorizer = TfidfVectorizer(\n",
        " #   stop_words='english', min_df=4, max_features=5000).fit(X_SExchangeTrain)\n",
        "#X_SEtrain_vec = vectorizer.transform(X_SExchangeTrain)\n",
        "#X_SEvalid_vec = vectorizer.transform(X_SExchangeValid)\n",
        "#X_SEtest_vec = vectorizer.transform(X_SExchangeTest)"
      ],
      "metadata": {
        "id": "3snImmxudgXW"
      },
      "execution_count": 12,
      "outputs": []
    },
    {
      "cell_type": "markdown",
      "source": [
        "#Create PyTorch Tensors"
      ],
      "metadata": {
        "id": "VShDEqegiMDx"
      }
    },
    {
      "cell_type": "code",
      "source": [
        "# Creating a tensors of data\n",
        "#X_SEtrain_Tensor = torch.tensor(X_SEtrain_vec.toarray()).float()\n",
        "#X_SEvalid_Tensor = torch.tensor(X_SEvalid_vec.toarray()).float()\n",
        "#X_SEtest_Tensor = torch.tensor(X_SEtest_vec.toarray()).float()\n",
        "\n",
        "#y_SEtrain_Tensor = torch.tensor(np.array(Y_SExchangeTrain)).long()\n",
        "#y_SEvalid_Tensor = torch.tensor(np.array(Y_SExchangeValid)).long()\n",
        "#y_SEtest_Tensor = torch.tensor(np.array(Y_SExchangeTest)).long()\n"
      ],
      "metadata": {
        "id": "FPlrCdRihdfy"
      },
      "execution_count": 13,
      "outputs": []
    },
    {
      "cell_type": "markdown",
      "source": [
        "#Create PyTorch Dataset"
      ],
      "metadata": {
        "id": "GyPMTu95lejQ"
      }
    },
    {
      "cell_type": "code",
      "source": [
        "# Creating tensor dataset\n",
        "#SETrain_set = torch.utils.data.TensorDataset(X_SEtrain_Tensor, y_SEtrain_Tensor)\n",
        "#SETest_set = torch.utils.data.TensorDataset(X_SEtest_Tensor, y_SEtest_Tensor)\n",
        "#SEValid_set = torch.utils.data.TensorDataset(X_SEvalid_Tensor, y_SEvalid_Tensor)"
      ],
      "metadata": {
        "id": "J9f8FPamePcb"
      },
      "execution_count": 14,
      "outputs": []
    },
    {
      "cell_type": "markdown",
      "source": [
        "#Custom class"
      ],
      "metadata": {
        "id": "9CleI-fhb8pI"
      }
    },
    {
      "cell_type": "code",
      "source": [
        "class CustomClass(Dataset):\n",
        "  def __init__(self, X, y):\n",
        "    self.X = X\n",
        "    self.y = y \n",
        "  def __len__(self):\n",
        "        return len(self.X)\n",
        "\n",
        "  def __getitem__(self, idx):\n",
        "    text = self.X.iloc[idx]\n",
        "    labels = self.y.iloc[idx]\n",
        "    tup = (labels, text)\n",
        "    return tup"
      ],
      "metadata": {
        "id": "lGO1HxWHb2Iq"
      },
      "execution_count": 15,
      "outputs": []
    },
    {
      "cell_type": "code",
      "source": [
        "SEtrain_dataset = CustomClass(X_SExchangeTrain, Y_SExchangeTrain)\n",
        "i=0\n",
        "for i, (x,y) in enumerate(SEtrain_dataset):\n",
        "  if(i<=10):\n",
        "    print(i, x,y)\n",
        "    i+=1\n",
        "  else:\n",
        "    break\n",
        "SEtrain_dataset.__getitem__([2])\n",
        "SEtrain_dataset[2]"
      ],
      "metadata": {
        "colab": {
          "base_uri": "https://localhost:8080/"
        },
        "id": "oP_DPkMtc8Vs",
        "outputId": "81871d21-efb6-47dc-f5ab-a7f528c90c42"
      },
      "execution_count": 16,
      "outputs": [
        {
          "output_type": "stream",
          "name": "stdout",
          "text": [
            "0 7 python read ini file python want transform joomla ini language file sql joomla ini file actually miss section example translation rawconfigparser job demand section construct temp file dummy section name      fout = tempfile namedtemporaryfile(delete = true      fin = file(self._infilename r      fout.write(\"[all]\\n      f              fout.write(f      config = configparser rawconfigparser(allow_no_value = true           c config.items(\"all              self._ini2sql(unicode(c[0]).upper unicode('de unicode(c[1][1:-1   def elegant solution tip pythonic\n",
            "1 2 php data difference give fatal error date value come database want calculate difference today date database date date come database 2012 06 11 18:20:40   use code value      echo date('y m d h s      echo $ result['dt_pub_date   write code $ val = date('y m d h s ->diff($result['dt_pub_date   get error fatal error member function diff non object   thank\n",
            "2 4 convert arraylist message convert arraylist message convert msg arraylist arraylist extractdata = arraylist   opposite right message msg=(message arraylist  \n",
            "3 0 select certain text text file enter text box hi sql script text file follow create view dbo].[budget_change-22 select projectname projectnumber location client       openrowset('sqlncli server = aabb1089\\abcworkss_sto;uid = abcworkss;pwd = abcdef                         set nocount on;set fmtonly off;exec abcworks_sto sp_budget_444 38 workchanged_444        script select server value aabb1089\\abcworkss_sto uid value(abcwork pwd value(abcdef replace text box edit create new text file different\n",
            "4 0 .net know main method application clr identify main method application order begin execution exactly sequence operation clr take execute .exe file\n",
            "5 0 add 48 string number string c like string only_number   assign value = 40 check only_number[0 52 check only_number[1 48 add 48 character current position suggest\n",
            "6 4 android finish acitivitie application 10 activity activity contain click button activity finished(it mean like logout gmail 2 step work 1 clear stack intent.addflags(intent flag_activity_clear_top activity call 2 button click listener    implement anybody help thank\n",
            "7 4 android alignment image accord device size have image button linear layout fit fine large device come small device image come line small device align properly landscape screen portrait mode   xml code          < linearlayout              android id=\"@+id linearlayout7              android layout_width=\"fill_parent              android layout_height=\"wrap_content android layout_marginleft=\"5dp android layout_marginright=\"5dp android layout_marginbottom=\"5dp android gravity=\"left android layout_gravity=\"left android fitssystemwindows=\"true >               < imagebutton                  android id=\"@+id stopservicebutton                  android layout_width=\"wrap_content                  android layout_height=\"wrap_content                  android src=\"@drawable stop_service_button_selector android background=\"@null android layout_gravity=\"left android paddingbottom=\"5dp android paddingright=\"5dp android paddingtop=\"5dp\"/ >               < imagebutton                  android id=\"@+id calibratebutton                  android layout_width=\"wrap_content                  android layout_height=\"wrap_content                  android src=\"@drawable calibrate_button_selector android background=\"@null android layout_gravity=\"left android padding=\"5dp\"/ >               < imagebutton                  android id=\"@+id donebutton                  android layout_width=\"wrap_content                  android layout_height=\"wrap_content                  android src=\"@drawable done_button_selector android background=\"@null android layout_gravity=\"left android padding=\"5dp\"/ >           < /linearlayout >  \n",
            "8 4 android application d android application d programatically method communicate application d\n",
            "9 7 replace nth occurrence list string build function kind new python problem write script element ex str replacefrom replaceto n find character replace nth occurrence    example > > > replaeceit(\"mississippi s l 2 mislissippi > > > replaeceit(\"mississippi s l 0 mississippi   n 2 code change second s l n=0 dosen't nything honestly know implement n equation code far n def replaceit(str replacefrom replaceto      new=      letter str          letter== replacefrom              new = new+replaceto                        new = new+lett      return new  \n",
            "10 4 play sound broadcastreceiver able message box broadcastreceiver play sound instead\n"
          ]
        },
        {
          "output_type": "execute_result",
          "data": {
            "text/plain": [
              "(4,\n",
              " 'convert arraylist message convert arraylist message convert msg arraylist arraylist extractdata = arraylist   opposite right message msg=(message arraylist  ')"
            ]
          },
          "metadata": {},
          "execution_count": 16
        }
      ]
    },
    {
      "cell_type": "code",
      "source": [
        "SEtest_dataset = CustomClass(X_SExchangeTest, Y_SExchangeTest)\n",
        "i=0\n",
        "for i, (x,y) in enumerate(SEtest_dataset):\n",
        "  if(i<=10):\n",
        "    print(i, x,y)\n",
        "    i+=1\n",
        "  else:\n",
        "    break"
      ],
      "metadata": {
        "colab": {
          "base_uri": "https://localhost:8080/"
        },
        "id": "Vj56h-6J16gj",
        "outputId": "7e9b73d1-54f3-462a-d18d-39799b0c9304"
      },
      "execution_count": 17,
      "outputs": [
        {
          "output_type": "stream",
          "name": "stdout",
          "text": [
            "0 4 android tab support v4l2 usb host functionality need know name android tablet v4l2 support host functionality suppose plug usb camera tablet functionality thank lot advance\n",
            "1 2 filename php $ str = /d file shop/7c0ea5b0b96a490a9c78255ddb559943.jpg   filename path thank lot\n",
            "2 6 c++ ` my_map[i = ` std::map < int int > my_map my_map[0 =   my_map[0 0 1 undefined\n",
            "3 0 code path return value method public bool userexistsactivedir     try            const int ads_uf_accountdisable = 0x00000002        directoryentry de = new directoryentry        de path = ldap://domainname        directorysearcher objadsearcher = new directorysearcher(de        de authenticationtype = authenticationtypes secure         objadsearcher searchroot = de        objadsearcher filter = samaccountname= + txtusername text +        searchresult result = objadsearcher findone         result tostring =                  int flag = convert toint32(results properties[\"useraccountcontrol\"][0].tostre           //results properties[\"useraccountcontrol\"][0].tostring().equals(\"514           convert toboolean(flag ads_uf_accountdisable                        return false                                            return true                          catch exception ex            lblerror text = ex message tostring        return false                  go wrong say miss return far know return statement\n",
            "4 1 convert app java version 6 5 solution convert java'a high application create   netbean ide 6.5.1 low version java version 5  \n",
            "5 8 integrate apple payment gate way iphone want integrate apple payment gateway iphone app i.e suppose user want purchase gold online store payment apple payment gatway anybody know advise\n",
            "6 1 java string.equalsignorecase work develop small application java following condition true body know actual reason public int foo   string stitle = title stitle.equalsignorecase(mycustomobject.stitle      return 5      return 6   return 6 run debug mode see string contain value try swap position string like mycustomobject.stitle.equalsignorecase(stitle   work\n",
            "7 3 javascript import datum browser page url hash way provide datum browser page example want save user setting server retreive user pc hash possible generate url ask user save url shortcut usb flash way\n",
            "8 4 user google market account user market account account install application google market code\n",
            "9 1 display result java need display result program number person associate    example tom=20 john=10 paul=0 2 1 tom 2 john a=20 b=0 c=0 2 1 tom 2 score think statement get messy long way easy idea   thank > = b    > = c max= b > = c min= c min= b   max= c min= b b > = c   max= b > = c min= c min= max= c > = b min= b min=    kind idea  \n",
            "10 0 external file project dataset file want include visual studio 2010 c project it(need suggestion read fileinfo project pc different developer good hardcode path\n"
          ]
        }
      ]
    },
    {
      "cell_type": "code",
      "source": [
        "SEvalid_dataset = CustomClass(X_SExchangeValid, Y_SExchangeValid)\n",
        "i=0\n",
        "for i, (x,y) in enumerate(SEvalid_dataset):\n",
        "  if(i<=10):\n",
        "    print(i, x,y)\n",
        "    i+=1"
      ],
      "metadata": {
        "colab": {
          "base_uri": "https://localhost:8080/"
        },
        "id": "gF4hxACo2Ahf",
        "outputId": "26d6197b-f4a7-429b-ac80-4e59014c992e"
      },
      "execution_count": 18,
      "outputs": [
        {
          "output_type": "stream",
          "name": "stdout",
          "text": [
            "0 3 cross domain ajax activexobject ie activexobject object ie submit cross domain request\n",
            "1 5 wrap script function professional approach right work little training code try code semi fixed page element result   $ document).ready(function      var elementposition = $ header\").offset      var elementheight = $ header\").outerheight      $ header\").before(\"<div id='placeholder style='display height + elementheight + px'></div >      $ window).scroll(function          checkattached(\"#header            function checkattached(element          var windowdepth = $ window).scrolltop          windowdepth > =              $ element).addclass(\"attached              $ placeholder\").css(\"display block                       $ element).removeclass(\"attache              $ placeholder\").css(\"display                 thing happy solution like little flexible goal independent function allow address page element like attachthis(element   right have trouble scroll event inside function know good solution overwrite elementposition current solution define outside function clean course expect deliver well script maybe push right direction point suitable technique love know professional approach task\n",
            "2 1 confusing loop java let look follow day day example java package loop   final public class main        public static void main(string args                 long temp=1000000000           while(temp--!=0                       temp-=temp++              system.out.println(\"inside loop = + temp                   system.out.println(\"outside loop = + temp         simple code loop iterate local variable temp type long contain large value 1000000000   statement system.out.println(\"inside loop = + temp display inside loop = 0 statement system.out.println(\"outside loop = + temp display outside loop = -1\n",
            "3 4 android augmented reality application greeting want develop ar app want match real time image store database app want display marker recognize image brief introduction search lot find way start kindly provide nice tutorial ar start app try create\n",
            "4 4 retrieve image url custom list view android image url code work properly get image app get crash error show exact solution help code level 06 20 19:16:55.254 d dalvikvm(335 gc_external_alloc free 62 k 52 free 2589k/5379 k external 1942k/2137 k pause 59ms 06 20 19:16:56.164 d dalvikvm(335 gc_external_alloc free 506 k 52 free 2902k/6023 k external 2342k/2858 k pause 43ms 06 20 19:16:56.194 e dalvikvm heap(335 28959048 byte external allocation large process 06 20 19:16:56.233 e graphicsjni(335 vm will let allocate 28959048 byte 06 20 19:16:56.233 d dalvikvm(335 gc_for_malloc free 184 k 55 free 2717k/6023 k external 2342k/2858 k pause 25ms 06 20 19:16:56.233 d skia(335 decoder->decode return false 06 20 19:16:56.233 d androidruntime(335 shut vm 06 20 19:16:56.233 w dalvikvm(335 threadid=1 thread exit uncaught exception group=0x40015560 06 20 19:16:56.273 e androidruntime(335 fatal exception main 06 20 19:16:56.273 e androidruntime(335 outofmemoryerror bitmap size exceed vm budget 06 20 19:16:56.273 e androidruntime(335   bitmapfactory.nativedecodestream(native method 06 20 19:16:56.273 e androidruntime(335   bitmapfactory.decodestream(bitmapfactory.java:470 06 20 19:16:56.273 e androidruntime(335   bitmapfactory.decoderesourcestream(bitmapfactory.java:336 06 20 19:16:56.273 e androidruntime(335   drawable.createfromresourcestream(drawable.java:697 06 20 19:16:56.273 e androidruntime(335   drawable.createfromstream(drawable.java:657 06 20 19:16:56.273 e androidruntime(335   customadaptor loadimagefromweboperations(customadaptor.java:97 06 20 19:16:56.273 e androidruntime(335   customadaptor.getview(customadaptor.java:73 06 20 19:16:56.273 e androidruntime(335   abslistview.obtainview(abslistview.java:1409 06 20 19:16:56.273 e androidruntime(335   listview.measureheightofchildren(listview.java:1216 06 20 19:16:56.273 e androidruntime(335   listview.onmeasure(listview.java:1127 06 20 19:16:56.273 e androidruntime(335   view.measure(view.java:8313 06 20 19:16:56.273 e androidruntime(335   viewgroup.measurechildwithmargins(viewgroup.java:3138 06 20 19:16:56.273 e androidruntime(335   linearlayout.measurechildbeforelayout(linearlayout.java:1017 06 20 19:16:56.273 e androidruntime(335   linearlayout.measurevertical(linearlayout.java:386 06 20 19:16:56.273 e androidruntime(335   linearlayout.onmeasure(linearlayout.java:309 06 20 19:16:56.273 e androidruntime(335   view.measure(view.java:8313 06 20 19:16:56.273 e androidruntime(335   viewgroup.measurechildwithmargins(viewgroup.java:3138 06 20 19:16:56.273 e androidruntime(335   framelayout.onmeasure(framelayout.java:250 06 20 19:16:56.273 e androidruntime(335   view.measure(view.java:8313 06 20 19:16:56.273 e androidruntime(335   linearlayout.measurevertical(linearlayout.java:531 06 20 19:16:56.273 e androidruntime(335   linearlayout.onmeasure(linearlayout.java:309 06 20 19:16:56.273 e androidruntime(335   view.measure(view.java:8313 06 20 19:16:56.273 e androidruntime(335   viewgroup.measurechildwithmargins(viewgroup.java:3138 06 20 19:16:56.273 e androidruntime(335   framelayout.onmeasure(framelayout.java:250 06 20 19:16:56.273 e androidruntime(335   view.measure(view.java:8313 06 20 19:16:56.273 e androidruntime(335   viewroot.performtraversals(viewroot.java:839 06 20 19:16:56.273 e androidruntime(335   viewroot.handlemessage(viewroot.java:1859 06 20 19:16:56.273 e androidruntime(335   handler.dispatchmessage(handler.java:99 06 20 19:16:56.273 e androidruntime(335   looper.loop(looper.java:123 06 20 19:16:56.273 e androidruntime(335   activitythread.main(activitythread.java:3683 06 20 19:16:56.273 e androidruntime(335   method.invokenative(native method 06 20 19:16:56.273 e androidruntime(335   method.invoke(method.java:507 06 20 19:16:56.273 e androidruntime(335   zygoteinit$methodandargscaller.run(zygoteinit.java:839 06 20 19:16:56.273 e androidruntime(335   zygoteinit.main(zygoteinit.java:597 06 20 19:16:56.273 e androidruntime(335   nativestart.main(native method 06 20 19:21:56.314 process(335 send signal pid 335 sig 9 06 20 19:47:17.034 d dalvikvm(369 gc_external_alloc free 63 k 52 free 2589k/5379 k external 1942k/2137 k pause 47ms 06 20 19:47:17.794 d dalvikvm(369 gc_external_alloc free 506 k 52 free 2902k/6023 k external 2342k/2858 k pause 43ms 06 20 19:47:17.824 e dalvikvm heap(369 28959048 byte external allocation large process 06 20 19:47:17.864 e graphicsjni(369 vm will let allocate 28959048 byte 06 20 19:47:17.864 d dalvikvm(369 gc_for_malloc free 184 k 55 free 2717k/6023 k external 2342k/2858 k pause 27ms 06 20 19:47:17.864 d skia(369 decoder->decode return false 06 20 19:47:17.864 d androidruntime(369 shut vm 06 20 19:47:17.864 w dalvikvm(369 threadid=1 thread exit uncaught exception group=0x40015560 06 20 19:47:17.884 e androidruntime(369 fatal exception main 06 20 19:47:17.884 e androidruntime(369 outofmemoryerror bitmap size exceed vm budget 06 20 19:47:17.884 e androidruntime(369   bitmapfactory.nativedecodestream(native method 06 20 19:47:17.884 e androidruntime(369   bitmapfactory.decodestream(bitmapfactory.java:470 06 20 19:47:17.884 e androidruntime(369   bitmapfactory.decoderesourcestream(bitmapfactory.java:336 06 20 19:47:17.884 e androidruntime(369   drawable.createfromresourcestream(drawable.java:697 06 20 19:47:17.884 e androidruntime(369   drawable.createfromstream(drawable.java:657 06 20 19:47:17.884 e androidruntime(369   customadaptor loadimagefromweboperations(customadaptor.java:97 06 20 19:47:17.884 e androidruntime(369   customadaptor.getview(customadaptor.java:73 06 20 19:47:17.884 e androidruntime(369   abslistview.obtainview(abslistview.java:1409 06 20 19:47:17.884 e androidruntime(369   listview.measureheightofchildren(listview.java:1216 06 20 19:47:17.884 e androidruntime(369   listview.onmeasure(listview.java:1127 06 20 19:47:17.884 e androidruntime(369   view.measure(view.java:8313 06 20 19:47:17.884 e androidruntime(369   viewgroup.measurechildwithmargins(viewgroup.java:3138 06 20 19:47:17.884 e androidruntime(369   linearlayout.measurechildbeforelayout(linearlayout.java:1017 06 20 19:47:17.884 e androidruntime(369   linearlayout.measurevertical(linearlayout.java:386 06 20 19:47:17.884 e androidruntime(369   linearlayout.onmeasure(linearlayout.java:309 06 20 19:47:17.884 e androidruntime(369   view.measure(view.java:8313 06 20 19:47:17.884 e androidruntime(369   viewgroup.measurechildwithmargins(viewgroup.java:3138 06 20 19:47:17.884 e androidruntime(369   framelayout.onmeasure(framelayout.java:250 06 20 19:47:17.884 e androidruntime(369   view.measure(view.java:8313 06 20 19:47:17.884 e androidruntime(369   linearlayout.measurevertical(linearlayout.java:531 06 20 19:47:17.884 e androidruntime(369   linearlayout.onmeasure(linearlayout.java:309 06 20 19:47:17.884 e androidruntime(369   view.measure(view.java:8313 06 20 19:47:17.884 e androidruntime(369   viewgroup.measurechildwithmargins(viewgroup.java:3138 06 20 19:47:17.884 e androidruntime(369   framelayout.onmeasure(framelayout.java:250 06 20 19:47:17.884 e androidruntime(369   view.measure(view.java:8313 06 20 19:47:17.884 e androidruntime(369   viewroot.performtraversals(viewroot.java:839 06 20 19:47:17.884 e androidruntime(369   viewroot.handlemessage(viewroot.java:1859 06 20 19:47:17.884 e androidruntime(369   handler.dispatchmessage(handler.java:99 06 20 19:47:17.884 e androidruntime(369   looper.loop(looper.java:123 06 20 19:47:17.884 e androidruntime(369   activitythread.main(activitythread.java:3683 06 20 19:47:17.884 e androidruntime(369   method.invokenative(native method 06 20 19:47:17.884 e androidruntime(369   method.invoke(method.java:507 06 20 19:47:17.884 e androidruntime(369   zygoteinit$methodandargscaller.run(zygoteinit.java:839 06 20 19:47:17.884 e androidruntime(369   zygoteinit.main(zygoteinit.java:597 06 20 19:47:17.884 e androidruntime(369   nativestart.main(native method  \n",
            "5 4 android spinner widget develop new kind app android phone problem spinner widget think class vars realy know real problem code public class bhac extend activity      string tzids = new string[10000 string stext   override public void oncreate(bundle savedinstancestate      super.oncreate(savedinstancestate      setcontentview(r.layout.bhac       try               tzids = timezone.getavailableids           spinner spinner = spinner findviewbyid(r.id.spinner1          arrayadapter < string > spinnerarrayadapter = new arrayadapter < string>(this android r.layout.simple_spinner_dropdown_item tzids          spinnerarrayadapter.setdropdownviewresource(android r.layout.simple_spinner_dropdown_item          spinner.setselection(1          spinner.setadapter(spinnerarrayadapter           try                         spinner.setonitemselectedlistener(new adapterview onitemselectedlistener                                public void onitemselected(adapterview < > parent view view int pos long d                                         stext= tzids[po                       simpledateformat formatter = new simpledateformat(\"yyyy mm dd't'hh mm ss sss'z                      formatter.settimezone(timezone.gettimezone(\"utc                       string timestamp = formatter.format(timezone.gettimezone(stext                       textview t = textview)findviewbyid(r.id.textview2                      t.settext(timestamp                                    public void onnothingselected(adapterview < > parent                                                                   catch exception x                       context context = getapplicationcontext              charsequence text =   android exception bhac + x              int duration = toast length_short               toast toast = toast.maketext(context text duration                           log.e whwjdakdjkajkldjskkkkkk dadada + x            logcat 05 06 19:53:50.950 e global(334 deprecated thread method support 05 06 19:53:50.950 e global(334 unsupportedoperationexception 05 06 19:53:50.950 e global(334   vmthread.stop(vmthread.java:85 05 06 19:53:50.950 e global(334   thread.stop(thread.java:1280 05 06 19:53:50.950 e global(334   thread.stop(thread.java:1247 05 06 19:53:50.950 e global(334   smaleactivity$1.run(smaleactivity.java:58 05 06 19:53:51.748 d dalvikvm(334 gc_external_alloc free 62 k 53 free 2569k/5379 k external 2034k/2137 k pause 98ms 05 06 19:56:36.559 d androidruntime(334 shut vm 05 06 19:56:36.559 w dalvikvm(334 threadid=1 thread exit uncaught exception group=0x40015560 05 06 19:56:36.659 e androidruntime(334 fatal exception main 05 06 19:56:36.659 e androidruntime(334 illegalargumentexception 05 06 19:56:36.659 e androidruntime(334   dateformat.format(dateformat.java:365 05 06 19:56:36.659 e androidruntime(334   format.format(format.java:93 05 06 19:56:36.659 e androidruntime(334   bhac$1.onitemselected(bhac.java:62 05 06 19:56:36.659 e androidruntime(334   adapterview.fireonselected(adapterview.java:871 05 06 19:56:36.659 e androidruntime(334   adapterview.access$200(adapterview.java:42 05 06 19:56:36.659 e androidruntime(334   adapterview$selectionnotifier.run(adapterview.java:837 05 06 19:56:36.659 e androidruntime(334   handler.handlecallback(handler.java:587 05 06 19:56:36.659 e androidruntime(334   handler.dispatchmessage(handler.java:92 05 06 19:56:36.659 e androidruntime(334   looper.loop(looper.java:123 05 06 19:56:36.659 e androidruntime(334   activitythread.main(activitythread.java:3683 05 06 19:56:36.659 e androidruntime(334   method.invokenative(native method 05 06 19:56:36.659 e androidruntime(334   method.invoke(method.java:507 05 06 19:56:36.659 e androidruntime(334   zygoteinit$methodandargscaller.run(zygoteinit.java:839 05 06 19:56:36.659 e androidruntime(334   zygoteinit.main(zygoteinit.java:597 05 06 19:56:36.659 e androidruntime(334   nativestart.main(native method   idea\n",
            "6 6 access private member variable class instance think possible instance class allow access private member copy constructor fact copy constructor reason allow break encapsulation\n",
            "7 4 text activity button activity want know text edittext activity b text button activity a. want press enter button activity b text edittext replace text button activity a. think like       public void pressenter view v      edittext et = edittext findviewbyid(r.id.edittext1      string t = et.gettext().tostring      button p1_button = button)findviewbyid(r.id.button1      p1_button.settext(t   not know id button activity want set text\n",
            "8 2 php function call returned stop run code study user php code right understand learn well   code user class   code block format like   if(!$this->isloggedin      //do stuff   code like $ this->isloggedin      return false   function couple time return value   question return call run code   like end script function    case run $ this->isloggedin          return false   continue run code   function   < php private function logout($redir = true      $ this->isloggedin          return false       $ this->obj->session->sess_destroy       $ this->iscookieloggedin               setcookie('user time()-36000          setcookie('pass time()-36000           $ redir          return       header('location .$this->homepageurl      die >  \n",
            "9 4 unable build eclipse library project adt update main project mainapp develop android eclipse use facebook android sdk library fblib separate eclipse project project property check library project property > android section mainapp fblib add library work fine   need create new version mainapp use different database file asset subdirectory create new eclipse project newapp setup mainapp library project property > android   work fine late adt update get error try build run newapp conversion dalvik format fail error 1 mainapp uncheck library project property > android build mainapp regular application work fine search multiple jar file project directory update proguard 4.8beta delete add jar build path remove export add export delete dependency add lib directory clean restart reboot pretty google turn avail   work fine adt 16 confused add library project application incorporate library project deprecate working\n",
            "10 6 prevent function return pointer go scope open directory opendir return dir want reuse dir constantly object   originaly open directory constructor store pointer private variable obviously fail soon constructor end pointer scope memory free question directory reference class reopen time   try copy dir type complaint dir fully define   doubt figure dir define copy constructor anyways   way scope\n"
          ]
        }
      ]
    },
    {
      "cell_type": "markdown",
      "source": [
        "#Create Vocab"
      ],
      "metadata": {
        "id": "XdfLvKcibZfi"
      }
    },
    {
      "cell_type": "code",
      "source": [
        "def createVocab(Dataset):\n",
        "  counter = Counter()\n",
        "  for (label, line) in Dataset:\n",
        "    counter.update(str(line).split())\n",
        "  my_vocab = vocab(counter, min_freq=5)\n",
        "  # get mapping of words to index\n",
        "  my_vocab.get_stoi()\n",
        "  # insert '<unk>' token to represent any unknown word\n",
        "  my_vocab.insert_token('<unk>', 0)\n",
        "  # set the default index to zero\n",
        "  # thus any uknown word will be represented b index 0 or token '<unk>'\n",
        "  my_vocab.set_default_index(0)\n",
        "  return my_vocab"
      ],
      "metadata": {
        "id": "g7UXq_UUbYpR"
      },
      "execution_count": 19,
      "outputs": []
    },
    {
      "cell_type": "code",
      "source": [
        "SETrain_vocab = createVocab(SEtrain_dataset)\n",
        "SETest_vocab = createVocab(SEtest_dataset)\n",
        "SEValid_vocab = createVocab(SEvalid_dataset)"
      ],
      "metadata": {
        "id": "o3LjUZD5-AOJ"
      },
      "execution_count": 20,
      "outputs": []
    },
    {
      "cell_type": "code",
      "source": [
        "#SEValid_vocab.get_stoi()"
      ],
      "metadata": {
        "id": "djFJGP3I_JZ8"
      },
      "execution_count": 21,
      "outputs": []
    },
    {
      "cell_type": "markdown",
      "source": [
        "#Create collate_batch function"
      ],
      "metadata": {
        "id": "uTLvN2f7Bqif"
      }
    },
    {
      "cell_type": "code",
      "source": [
        "# Creating a lambda function objects that will be used to get the indices of words from vocab\n",
        "def text_pipeline(x, vocab):\n",
        "    \"\"\"Converts text to a list of indices using a vocabulary dictionary\"\"\"\n",
        "    return [vocab[token] for token in str(x).split()]"
      ],
      "metadata": {
        "id": "Opzi3AHWY-Pn"
      },
      "execution_count": 22,
      "outputs": []
    },
    {
      "cell_type": "code",
      "source": [
        "def collate_batch(batch, my_vocab):\n",
        "    labels, texts = zip(*batch)\n",
        "    labels = torch.tensor(labels, dtype=torch.int64)\n",
        "    list_of_list_of_indices = [text_pipeline(text, my_vocab) for text in texts]\n",
        "    \n",
        "    offsets = [0] + [len(i) for i in list_of_list_of_indices]\n",
        "    offsets = torch.tensor(offsets[:-1]).cumsum(dim=0)\n",
        "    texts = torch.cat([torch.tensor(i, dtype=torch.int64) for i in list_of_list_of_indices])\n",
        "    return labels, texts, offsets"
      ],
      "metadata": {
        "id": "3Oc1ngAaIAAx"
      },
      "execution_count": 23,
      "outputs": []
    },
    {
      "cell_type": "markdown",
      "source": [
        "#Create DataLoaders"
      ],
      "metadata": {
        "id": "5tDmsVFLmAa-"
      }
    },
    {
      "cell_type": "code",
      "source": [
        "#Initiale the batch size \n",
        "\n",
        "\n",
        "# create DataLoader now\n",
        "torch.manual_seed(0)\n",
        "batch_size = 256\n",
        "SEtrain_loader = torch.utils.data.DataLoader(dataset=SEtrain_dataset,\n",
        "                                           batch_size=batch_size,\n",
        "                                           shuffle=True,\n",
        "                                           collate_fn=collate_batch,\n",
        "                                           )\n",
        "\n",
        "SEvalid_loader = torch.utils.data.DataLoader(dataset=SEvalid_dataset,\n",
        "                                           batch_size=batch_size,\n",
        "                                           shuffle=True,\n",
        "                                           collate_fn=collate_batch,\n",
        "                                           )\n",
        "SEtest_loader = torch.utils.data.DataLoader(dataset=SEtest_dataset,\n",
        "                                           batch_size=batch_size,\n",
        "                                           shuffle=True,\n",
        "                                           collate_fn=collate_batch,\n",
        "                                           )\n"
      ],
      "metadata": {
        "id": "6K6PmifCl8W3"
      },
      "execution_count": 24,
      "outputs": []
    },
    {
      "cell_type": "markdown",
      "source": [
        "#Model"
      ],
      "metadata": {
        "id": "lJq1oZooaDD8"
      }
    },
    {
      "cell_type": "code",
      "source": [
        "import torch.nn as nn\n",
        "\n",
        "class MLPCustom(nn.Module):\n",
        "    def __init__(self, vocab_size, embed_dim=300, n_hidden1=200, n_hidden2=100, n_outs=1, dropout1=0.5, dropout2=0.5):\n",
        "        super().__init__()\n",
        "\n",
        "        self.embedding = nn.EmbeddingBag(vocab_size, embed_dim)\n",
        "\n",
        "        self.hidden_layer1 = nn.Linear(embed_dim, n_hidden1)\n",
        "        self.relu1 = nn.ReLU()\n",
        "        self.dropout1 = nn.Dropout(p=dropout1)\n",
        "        self.batchnorm1 = nn.BatchNorm1d(n_hidden1)\n",
        "\n",
        "        self.hidden_layer2 = nn.Linear(n_hidden1, n_hidden2)\n",
        "        self.relu2 = nn.ReLU()\n",
        "        self.dropout2 = nn.Dropout(p=dropout2)\n",
        "        self.batchnorm2 = nn.BatchNorm1d(n_hidden2)\n",
        "\n",
        "        self.output_layer = nn.Linear(n_hidden2, n_outs)\n",
        "\n",
        "    def forward(self, input, offsets):\n",
        "        # input: tensor of shape (batch_size, seq_len)\n",
        "        # offsets: tensor of shape (batch_size,) containing the starting indices of each sequence in the input tensor\n",
        "\n",
        "        embedded = self.embedding(input, offsets)\n",
        "        # embedded: tensor of shape (batch_size, embed_dim)\n",
        "\n",
        "        h1 = self.hidden_layer1(embedded)\n",
        "        h1 = self.relu1(h1)\n",
        "        h1 = self.dropout1(h1)\n",
        "        h1 = self.batchnorm1(h1)\n",
        "        # h1: tensor of shape (batch_size, n_hidden1)\n",
        "\n",
        "        h2 = self.hidden_layer2(h1)\n",
        "        h2 = self.relu2(h2)\n",
        "        h2 = self.dropout2(h2)\n",
        "        h2 = self.batchnorm2(h2)\n",
        "        # h2: tensor of shape (batch_size, n_hidden2)\n",
        "\n",
        "        ypred = self.output_layer(h2)\n",
        "        # ypred: tensor of shape (batch_size, n_outs)\n",
        "\n",
        "        return ypred"
      ],
      "metadata": {
        "id": "9halWKCvn1ra"
      },
      "execution_count": 26,
      "outputs": []
    },
    {
      "cell_type": "code",
      "source": [
        "# Initialize a new project\n",
        "wandb.init(name=\"imdb_shallow_non_seq\", project='nlps23_L7')\n",
        "\n",
        "# Initialize number of epochs, learning rate and batch size\n",
        "learning_rate = 0.2\n",
        "wandb.log({'learning_rate': learning_rate})\n",
        "epochs = 20\n",
        "\n",
        "# device\n",
        "device = torch.device('cuda:0' if torch.cuda.is_available() else 'cpu')\n",
        "\n",
        "#n_inputs = train_set.tensors[0].shape[1]\n",
        "\n",
        "model = MLPCustom(vocab_size, embed_dim=300, n_hidden1=200, n_hidden2=100, n_outs=1, dropout1=0.5, dropout2=0.5)\n",
        "\n",
        "#model = MLPCustom(n_inputs, n_hidden1, n_hidden2,n_outputs, non_linearity, bias=True)\n",
        "\n",
        "# loss_function\n",
        "loss_function = nn.CrossEntropyLoss()\n",
        "\n",
        "# optimizer\n",
        "optimizer = torch.optim.SGD(model.parameters(), learning_rate)"
      ],
      "metadata": {
        "id": "31VWRnu5CTZu"
      },
      "execution_count": null,
      "outputs": []
    }
  ]
}