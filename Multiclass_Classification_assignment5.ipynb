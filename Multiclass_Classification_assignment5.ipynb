{
  "nbformat": 4,
  "nbformat_minor": 0,
  "metadata": {
    "colab": {
      "provenance": [],
      "machine_shape": "hm",
      "authorship_tag": "ABX9TyMnS+VQylq5I7lhC6gqW84k",
      "include_colab_link": true
    },
    "kernelspec": {
      "name": "python3",
      "display_name": "Python 3"
    },
    "language_info": {
      "name": "python"
    },
    "accelerator": "GPU",
    "gpuClass": "standard",
    "widgets": {
      "application/vnd.jupyter.widget-state+json": {
        "9c656e1e7d1b4d0fbefb586dc79bd493": {
          "model_module": "@jupyter-widgets/controls",
          "model_name": "VBoxModel",
          "model_module_version": "1.5.0",
          "state": {
            "_dom_classes": [],
            "_model_module": "@jupyter-widgets/controls",
            "_model_module_version": "1.5.0",
            "_model_name": "VBoxModel",
            "_view_count": null,
            "_view_module": "@jupyter-widgets/controls",
            "_view_module_version": "1.5.0",
            "_view_name": "VBoxView",
            "box_style": "",
            "children": [
              "IPY_MODEL_d32c9f19e0af443aa47f992fdb66e26d",
              "IPY_MODEL_e169ccd6b23044e3bd10c90f9b13ed5e"
            ],
            "layout": "IPY_MODEL_9f0899f3f85844488760b22e15ad5339"
          }
        },
        "d32c9f19e0af443aa47f992fdb66e26d": {
          "model_module": "@jupyter-widgets/controls",
          "model_name": "LabelModel",
          "model_module_version": "1.5.0",
          "state": {
            "_dom_classes": [],
            "_model_module": "@jupyter-widgets/controls",
            "_model_module_version": "1.5.0",
            "_model_name": "LabelModel",
            "_view_count": null,
            "_view_module": "@jupyter-widgets/controls",
            "_view_module_version": "1.5.0",
            "_view_name": "LabelView",
            "description": "",
            "description_tooltip": null,
            "layout": "IPY_MODEL_360afdd4b7514910b461c42446e6728f",
            "placeholder": "​",
            "style": "IPY_MODEL_a78eea484e0a44a7a73cc33588a21a06",
            "value": "0.005 MB of 0.007 MB uploaded (0.000 MB deduped)\r"
          }
        },
        "e169ccd6b23044e3bd10c90f9b13ed5e": {
          "model_module": "@jupyter-widgets/controls",
          "model_name": "FloatProgressModel",
          "model_module_version": "1.5.0",
          "state": {
            "_dom_classes": [],
            "_model_module": "@jupyter-widgets/controls",
            "_model_module_version": "1.5.0",
            "_model_name": "FloatProgressModel",
            "_view_count": null,
            "_view_module": "@jupyter-widgets/controls",
            "_view_module_version": "1.5.0",
            "_view_name": "ProgressView",
            "bar_style": "",
            "description": "",
            "description_tooltip": null,
            "layout": "IPY_MODEL_a4331606c3db4e8abd0591e556e12cf4",
            "max": 1,
            "min": 0,
            "orientation": "horizontal",
            "style": "IPY_MODEL_2c46dc05cfa44996809b15ab18cf1e3c",
            "value": 0.6276045122760451
          }
        },
        "9f0899f3f85844488760b22e15ad5339": {
          "model_module": "@jupyter-widgets/base",
          "model_name": "LayoutModel",
          "model_module_version": "1.2.0",
          "state": {
            "_model_module": "@jupyter-widgets/base",
            "_model_module_version": "1.2.0",
            "_model_name": "LayoutModel",
            "_view_count": null,
            "_view_module": "@jupyter-widgets/base",
            "_view_module_version": "1.2.0",
            "_view_name": "LayoutView",
            "align_content": null,
            "align_items": null,
            "align_self": null,
            "border": null,
            "bottom": null,
            "display": null,
            "flex": null,
            "flex_flow": null,
            "grid_area": null,
            "grid_auto_columns": null,
            "grid_auto_flow": null,
            "grid_auto_rows": null,
            "grid_column": null,
            "grid_gap": null,
            "grid_row": null,
            "grid_template_areas": null,
            "grid_template_columns": null,
            "grid_template_rows": null,
            "height": null,
            "justify_content": null,
            "justify_items": null,
            "left": null,
            "margin": null,
            "max_height": null,
            "max_width": null,
            "min_height": null,
            "min_width": null,
            "object_fit": null,
            "object_position": null,
            "order": null,
            "overflow": null,
            "overflow_x": null,
            "overflow_y": null,
            "padding": null,
            "right": null,
            "top": null,
            "visibility": null,
            "width": null
          }
        },
        "360afdd4b7514910b461c42446e6728f": {
          "model_module": "@jupyter-widgets/base",
          "model_name": "LayoutModel",
          "model_module_version": "1.2.0",
          "state": {
            "_model_module": "@jupyter-widgets/base",
            "_model_module_version": "1.2.0",
            "_model_name": "LayoutModel",
            "_view_count": null,
            "_view_module": "@jupyter-widgets/base",
            "_view_module_version": "1.2.0",
            "_view_name": "LayoutView",
            "align_content": null,
            "align_items": null,
            "align_self": null,
            "border": null,
            "bottom": null,
            "display": null,
            "flex": null,
            "flex_flow": null,
            "grid_area": null,
            "grid_auto_columns": null,
            "grid_auto_flow": null,
            "grid_auto_rows": null,
            "grid_column": null,
            "grid_gap": null,
            "grid_row": null,
            "grid_template_areas": null,
            "grid_template_columns": null,
            "grid_template_rows": null,
            "height": null,
            "justify_content": null,
            "justify_items": null,
            "left": null,
            "margin": null,
            "max_height": null,
            "max_width": null,
            "min_height": null,
            "min_width": null,
            "object_fit": null,
            "object_position": null,
            "order": null,
            "overflow": null,
            "overflow_x": null,
            "overflow_y": null,
            "padding": null,
            "right": null,
            "top": null,
            "visibility": null,
            "width": null
          }
        },
        "a78eea484e0a44a7a73cc33588a21a06": {
          "model_module": "@jupyter-widgets/controls",
          "model_name": "DescriptionStyleModel",
          "model_module_version": "1.5.0",
          "state": {
            "_model_module": "@jupyter-widgets/controls",
            "_model_module_version": "1.5.0",
            "_model_name": "DescriptionStyleModel",
            "_view_count": null,
            "_view_module": "@jupyter-widgets/base",
            "_view_module_version": "1.2.0",
            "_view_name": "StyleView",
            "description_width": ""
          }
        },
        "a4331606c3db4e8abd0591e556e12cf4": {
          "model_module": "@jupyter-widgets/base",
          "model_name": "LayoutModel",
          "model_module_version": "1.2.0",
          "state": {
            "_model_module": "@jupyter-widgets/base",
            "_model_module_version": "1.2.0",
            "_model_name": "LayoutModel",
            "_view_count": null,
            "_view_module": "@jupyter-widgets/base",
            "_view_module_version": "1.2.0",
            "_view_name": "LayoutView",
            "align_content": null,
            "align_items": null,
            "align_self": null,
            "border": null,
            "bottom": null,
            "display": null,
            "flex": null,
            "flex_flow": null,
            "grid_area": null,
            "grid_auto_columns": null,
            "grid_auto_flow": null,
            "grid_auto_rows": null,
            "grid_column": null,
            "grid_gap": null,
            "grid_row": null,
            "grid_template_areas": null,
            "grid_template_columns": null,
            "grid_template_rows": null,
            "height": null,
            "justify_content": null,
            "justify_items": null,
            "left": null,
            "margin": null,
            "max_height": null,
            "max_width": null,
            "min_height": null,
            "min_width": null,
            "object_fit": null,
            "object_position": null,
            "order": null,
            "overflow": null,
            "overflow_x": null,
            "overflow_y": null,
            "padding": null,
            "right": null,
            "top": null,
            "visibility": null,
            "width": null
          }
        },
        "2c46dc05cfa44996809b15ab18cf1e3c": {
          "model_module": "@jupyter-widgets/controls",
          "model_name": "ProgressStyleModel",
          "model_module_version": "1.5.0",
          "state": {
            "_model_module": "@jupyter-widgets/controls",
            "_model_module_version": "1.5.0",
            "_model_name": "ProgressStyleModel",
            "_view_count": null,
            "_view_module": "@jupyter-widgets/base",
            "_view_module_version": "1.2.0",
            "_view_name": "StyleView",
            "bar_color": null,
            "description_width": ""
          }
        }
      }
    }
  },
  "cells": [
    {
      "cell_type": "markdown",
      "metadata": {
        "id": "view-in-github",
        "colab_type": "text"
      },
      "source": [
        "<a href=\"https://colab.research.google.com/github/parimalakettymuthu/MachineLearning-Projects/blob/main/Multiclass_Classification_assignment5.ipynb\" target=\"_parent\"><img src=\"https://colab.research.google.com/assets/colab-badge.svg\" alt=\"Open In Colab\"/></a>"
      ]
    },
    {
      "cell_type": "code",
      "execution_count": 216,
      "metadata": {
        "id": "uwfUJqYkNAO0",
        "colab": {
          "base_uri": "https://localhost:8080/"
        },
        "outputId": "a3fb9c7f-776b-4dc3-aeb0-fce206123d26"
      },
      "outputs": [
        {
          "output_type": "stream",
          "name": "stdout",
          "text": [
            "The autoreload extension is already loaded. To reload it, use:\n",
            "  %reload_ext autoreload\n"
          ]
        }
      ],
      "source": [
        "%load_ext autoreload\n",
        "%autoreload 2"
      ]
    },
    {
      "cell_type": "code",
      "source": [
        "import sys \n",
        "sys.path.append('/content/drive/MyDrive/NLP/custom-functions')"
      ],
      "metadata": {
        "id": "n_ca_2ktNolQ"
      },
      "execution_count": 217,
      "outputs": []
    },
    {
      "cell_type": "code",
      "source": [
        "if 'google.colab' in str(get_ipython()):\n",
        "  from google.colab import drive\n",
        "  drive.mount('/content/drive')\n",
        "  !pip install torchtext --upgrade -qq\n",
        "  base_path = '/content/drive/MyDrive/NLP/assignment5'"
      ],
      "metadata": {
        "colab": {
          "base_uri": "https://localhost:8080/"
        },
        "id": "LCabWijON3X5",
        "outputId": "40a8144a-b5c5-4477-945a-8d11a20ff3bd"
      },
      "execution_count": 218,
      "outputs": [
        {
          "output_type": "stream",
          "name": "stdout",
          "text": [
            "Drive already mounted at /content/drive; to attempt to forcibly remount, call drive.mount(\"/content/drive\", force_remount=True).\n"
          ]
        }
      ]
    },
    {
      "cell_type": "code",
      "source": [
        "from pathlib import Path\n",
        "import pandas as pd\n",
        "import torch\n",
        "import torch.nn as nn\n",
        "from torchtext.vocab import vocab\n",
        "from collections import Counter\n",
        "from torch.utils.data import Dataset, DataLoader\n"
      ],
      "metadata": {
        "id": "4UCObZsEOAuP"
      },
      "execution_count": 219,
      "outputs": []
    },
    {
      "cell_type": "code",
      "source": [
        "data_folder = Path(base_path)\n",
        "for entries in data_folder.iterdir():\n",
        "  print(entries.name)"
      ],
      "metadata": {
        "colab": {
          "base_uri": "https://localhost:8080/"
        },
        "id": "-0yT4KHrQQ8Y",
        "outputId": "17bdaba9-e231-4441-9680-b4880096c9ae"
      },
      "execution_count": 220,
      "outputs": [
        {
          "output_type": "stream",
          "name": "stdout",
          "text": [
            "multiclass_hw_cleaned.csv\n",
            "Multiclass_Classification_assignment5.ipynb\n"
          ]
        }
      ]
    },
    {
      "cell_type": "code",
      "source": [
        "stackExchange1 = pd.read_csv(data_folder/ 'multiclass_hw_cleaned.csv', encoding = 'ISO-8859-1')\n",
        "print(stackExchange1.shape)\n",
        "print(stackExchange1.head(2))"
      ],
      "metadata": {
        "colab": {
          "base_uri": "https://localhost:8080/"
        },
        "id": "wn5ARljiShrr",
        "outputId": "d0d12724-303f-434a-ad2a-f5931dda4fc4"
      },
      "execution_count": 221,
      "outputs": [
        {
          "output_type": "stream",
          "name": "stdout",
          "text": [
            "(188878, 6)\n",
            "   Unnamed: 0                                     Title  \\\n",
            "0           0   detail disclosure indicator on UIButton   \n",
            "1           1  hello world fails to show up in emulator   \n",
            "\n",
            "                                                Body  \\\n",
            "0  <p>Is there a simple way to place a detail dis...   \n",
            "1  <p>I followed Hello World tutorial exactly.  E...   \n",
            "\n",
            "                                        cleaned_text     Tags  \\\n",
            "0  detail disclosure indicator uibutton simple wa...   iphone   \n",
            "1  hello world fail emulator follow hello world t...  android   \n",
            "\n",
            "   Tag_Number_final  \n",
            "0                 8  \n",
            "1                 4  \n"
          ]
        }
      ]
    },
    {
      "cell_type": "code",
      "source": [
        "stackExchange = pd.DataFrame().assign(cleaned_text=stackExchange1['cleaned_text'], Tag_Number_final=stackExchange1['Tag_Number_final'])\n",
        "print(stackExchange)"
      ],
      "metadata": {
        "colab": {
          "base_uri": "https://localhost:8080/"
        },
        "id": "hW1_DFXlS-pF",
        "outputId": "32c313ac-32e2-41b2-cc87-262f8ba00d76"
      },
      "execution_count": 222,
      "outputs": [
        {
          "output_type": "stream",
          "name": "stdout",
          "text": [
            "                                             cleaned_text  Tag_Number_final\n",
            "0       detail disclosure indicator uibutton simple wa...                 8\n",
            "1       hello world fail emulator follow hello world t...                 4\n",
            "2       jshint throw possible strict violation line tr...                 3\n",
            "3       programmatically bound column invisible try da...                 9\n",
            "4       edittext get focus soft keyboard android home ...                 4\n",
            "...                                                   ...               ...\n",
            "188873  reload tab activity tab change reload activity...                 4\n",
            "188874  learning index loop list contain list inner li...                 7\n",
            "188875  module pattern | private access pass reference...                 3\n",
            "188876  listener homebutton android   possible duplica...                 4\n",
            "188877  php optimize multiple conditional loop multipl...                 2\n",
            "\n",
            "[188878 rows x 2 columns]\n"
          ]
        }
      ]
    },
    {
      "cell_type": "code",
      "source": [
        "stackExchange.dropna(inplace=True)\n",
        "print(stackExchange)"
      ],
      "metadata": {
        "colab": {
          "base_uri": "https://localhost:8080/"
        },
        "id": "DnMHXsYFhiam",
        "outputId": "ba968b0e-7f86-440a-dd44-586bbd0a0f98"
      },
      "execution_count": 223,
      "outputs": [
        {
          "output_type": "stream",
          "name": "stdout",
          "text": [
            "                                             cleaned_text  Tag_Number_final\n",
            "0       detail disclosure indicator uibutton simple wa...                 8\n",
            "1       hello world fail emulator follow hello world t...                 4\n",
            "2       jshint throw possible strict violation line tr...                 3\n",
            "3       programmatically bound column invisible try da...                 9\n",
            "4       edittext get focus soft keyboard android home ...                 4\n",
            "...                                                   ...               ...\n",
            "188873  reload tab activity tab change reload activity...                 4\n",
            "188874  learning index loop list contain list inner li...                 7\n",
            "188875  module pattern | private access pass reference...                 3\n",
            "188876  listener homebutton android   possible duplica...                 4\n",
            "188877  php optimize multiple conditional loop multipl...                 2\n",
            "\n",
            "[188874 rows x 2 columns]\n"
          ]
        }
      ]
    },
    {
      "cell_type": "code",
      "source": [
        "from sklearn.model_selection import train_test_split\n",
        "\n",
        "# Split data into train and test sets (80/20 split)\n",
        "SExchangeTrain, test_val = train_test_split(stackExchange, test_size=0.2, random_state=42)\n",
        "\n",
        "# Split train set into train and validation sets (50/50 split)\n",
        "SExchangeTest, SExchangeVal = train_test_split(test_val, test_size=0.5, random_state=42)\n",
        "\n",
        "# Print the shapes & percentage of split of the resulting datasets\n",
        "print(\"Train set shape: \", SExchangeTrain.shape, \"Split %: \", len(SExchangeTrain)/len(stackExchange))\n",
        "print(\"Validation set shape: \", SExchangeVal.shape,\"Split %: \", len(SExchangeVal)/len(stackExchange))\n",
        "print(\"Test set shape: \", SExchangeTest.shape, \"Split %: \", len(SExchangeTest)/len(stackExchange))"
      ],
      "metadata": {
        "colab": {
          "base_uri": "https://localhost:8080/"
        },
        "id": "yJESKH-IUoYl",
        "outputId": "af29e598-8fb2-4bb4-d6d3-0fbcb02fd40f"
      },
      "execution_count": 224,
      "outputs": [
        {
          "output_type": "stream",
          "name": "stdout",
          "text": [
            "Train set shape:  (151099, 2) Split %:  0.7999989410930038\n",
            "Validation set shape:  (18888, 2) Split %:  0.1000031767209886\n",
            "Test set shape:  (18887, 2) Split %:  0.09999788218600761\n"
          ]
        }
      ]
    },
    {
      "cell_type": "code",
      "source": [
        "X_SExchangeTrain = SExchangeTrain[\"cleaned_text\"]    #Train, Test & Valid dataset's  cleaned_text X variable\n",
        "X_SExchangeTest = SExchangeTest[\"cleaned_text\"]\n",
        "X_SExchangeValid = SExchangeVal[\"cleaned_text\"]\n",
        "\n",
        "Y_SExchangeTrain = SExchangeTrain[\"Tag_Number_final\"]  #Train, Test & Valid dataset's  Tag_Number_final y variable\n",
        "Y_SExchangeTest = SExchangeTest[\"Tag_Number_final\"]\n",
        "Y_SExchangeValid = SExchangeVal[\"Tag_Number_final\"]"
      ],
      "metadata": {
        "id": "jGkAnIy1fkVR"
      },
      "execution_count": 225,
      "outputs": []
    },
    {
      "cell_type": "code",
      "source": [
        "!pip install wandb -qq\n",
        "import wandb\n",
        "import numpy as np"
      ],
      "metadata": {
        "id": "zB1VXi2iWjOg"
      },
      "execution_count": 227,
      "outputs": []
    },
    {
      "cell_type": "markdown",
      "source": [
        "#Custom class"
      ],
      "metadata": {
        "id": "9CleI-fhb8pI"
      }
    },
    {
      "cell_type": "code",
      "source": [
        "class CustomClass(Dataset):   #Custom class with init, len, & getitem to initialize and indexing\n",
        "  def __init__(self, X, y):\n",
        "    self.X = X\n",
        "    self.y = y \n",
        "\n",
        "  def __len__(self):\n",
        "    return len(self.X)\n",
        "\n",
        "  def __getitem__(self, idx):\n",
        "    text = self.X.iloc[idx]\n",
        "    labels = self.y.iloc[idx]\n",
        "    tup = (labels, text)\n",
        "    return tup"
      ],
      "metadata": {
        "id": "lGO1HxWHb2Iq"
      },
      "execution_count": 228,
      "outputs": []
    },
    {
      "cell_type": "code",
      "source": [
        "SEtrain_dataset = CustomClass(X_SExchangeTrain, Y_SExchangeTrain)   #Applying CustomClass class on train dataset\n",
        "i=0\n",
        "for i, (x,y) in enumerate(SEtrain_dataset):\n",
        "  if(i<=3):\n",
        "    print(i, x,y)\n",
        "    i+=1\n",
        "  else:\n",
        "    break"
      ],
      "metadata": {
        "colab": {
          "base_uri": "https://localhost:8080/"
        },
        "id": "oP_DPkMtc8Vs",
        "outputId": "34c373f7-de7e-4f99-bf0d-fa833d3bc6a5"
      },
      "execution_count": 229,
      "outputs": [
        {
          "output_type": "stream",
          "name": "stdout",
          "text": [
            "0 7 python read ini file python want transform joomla ini language file sql joomla ini file actually miss section example translation rawconfigparser job demand section construct temp file dummy section name      fout = tempfile namedtemporaryfile(delete = true      fin = file(self._infilename r      fout.write(\"[all]\\n      f              fout.write(f      config = configparser rawconfigparser(allow_no_value = true           c config.items(\"all              self._ini2sql(unicode(c[0]).upper unicode('de unicode(c[1][1:-1   def elegant solution tip pythonic\n",
            "1 2 php data difference give fatal error date value come database want calculate difference today date database date date come database 2012 06 11 18:20:40   use code value      echo date('y m d h s      echo $ result['dt_pub_date   write code $ val = date('y m d h s ->diff($result['dt_pub_date   get error fatal error member function diff non object   thank\n",
            "2 4 convert arraylist message convert arraylist message convert msg arraylist arraylist extractdata = arraylist   opposite right message msg=(message arraylist  \n",
            "3 0 select certain text text file enter text box hi sql script text file follow create view dbo].[budget_change-22 select projectname projectnumber location client       openrowset('sqlncli server = aabb1089\\abcworkss_sto;uid = abcworkss;pwd = abcdef                         set nocount on;set fmtonly off;exec abcworks_sto sp_budget_444 38 workchanged_444        script select server value aabb1089\\abcworkss_sto uid value(abcwork pwd value(abcdef replace text box edit create new text file different\n"
          ]
        }
      ]
    },
    {
      "cell_type": "code",
      "source": [
        "SEtest_dataset = CustomClass(X_SExchangeTest, Y_SExchangeTest)   #Applying CustomClass class on test dataset\n",
        "i=0; SEtest_labels=[]\n",
        "for x,y in SEtest_dataset:\n",
        "  SEtest_labels.append(int(x))\n",
        "for i, (x,y) in enumerate(SEtest_dataset):\n",
        "  if(i<=3):\n",
        "    print(i, x,y)\n",
        "    i+=1\n",
        "  else:\n",
        "    break"
      ],
      "metadata": {
        "colab": {
          "base_uri": "https://localhost:8080/"
        },
        "id": "Vj56h-6J16gj",
        "outputId": "16c31cab-7105-4405-8c07-87835bd48665"
      },
      "execution_count": 230,
      "outputs": [
        {
          "output_type": "stream",
          "name": "stdout",
          "text": [
            "0 4 android tab support v4l2 usb host functionality need know name android tablet v4l2 support host functionality suppose plug usb camera tablet functionality thank lot advance\n",
            "1 2 filename php $ str = /d file shop/7c0ea5b0b96a490a9c78255ddb559943.jpg   filename path thank lot\n",
            "2 6 c++ ` my_map[i = ` std::map < int int > my_map my_map[0 =   my_map[0 0 1 undefined\n",
            "3 0 code path return value method public bool userexistsactivedir     try            const int ads_uf_accountdisable = 0x00000002        directoryentry de = new directoryentry        de path = ldap://domainname        directorysearcher objadsearcher = new directorysearcher(de        de authenticationtype = authenticationtypes secure         objadsearcher searchroot = de        objadsearcher filter = samaccountname= + txtusername text +        searchresult result = objadsearcher findone         result tostring =                  int flag = convert toint32(results properties[\"useraccountcontrol\"][0].tostre           //results properties[\"useraccountcontrol\"][0].tostring().equals(\"514           convert toboolean(flag ads_uf_accountdisable                        return false                                            return true                          catch exception ex            lblerror text = ex message tostring        return false                  go wrong say miss return far know return statement\n"
          ]
        }
      ]
    },
    {
      "cell_type": "code",
      "source": [
        "SEvalid_dataset = CustomClass(X_SExchangeValid, Y_SExchangeValid)   #Applying CustomClass class on valid dataset\n",
        "i=0\n",
        "for i, (x,y) in enumerate(SEvalid_dataset):\n",
        "  if(i<=3):\n",
        "    print(i, x,y)\n",
        "    i+=1"
      ],
      "metadata": {
        "colab": {
          "base_uri": "https://localhost:8080/"
        },
        "id": "gF4hxACo2Ahf",
        "outputId": "e8ccab69-683c-451e-97fa-c5fdb823bd12"
      },
      "execution_count": 231,
      "outputs": [
        {
          "output_type": "stream",
          "name": "stdout",
          "text": [
            "0 3 cross domain ajax activexobject ie activexobject object ie submit cross domain request\n",
            "1 5 wrap script function professional approach right work little training code try code semi fixed page element result   $ document).ready(function      var elementposition = $ header\").offset      var elementheight = $ header\").outerheight      $ header\").before(\"<div id='placeholder style='display height + elementheight + px'></div >      $ window).scroll(function          checkattached(\"#header            function checkattached(element          var windowdepth = $ window).scrolltop          windowdepth > =              $ element).addclass(\"attached              $ placeholder\").css(\"display block                       $ element).removeclass(\"attache              $ placeholder\").css(\"display                 thing happy solution like little flexible goal independent function allow address page element like attachthis(element   right have trouble scroll event inside function know good solution overwrite elementposition current solution define outside function clean course expect deliver well script maybe push right direction point suitable technique love know professional approach task\n",
            "2 1 confusing loop java let look follow day day example java package loop   final public class main        public static void main(string args                 long temp=1000000000           while(temp--!=0                       temp-=temp++              system.out.println(\"inside loop = + temp                   system.out.println(\"outside loop = + temp         simple code loop iterate local variable temp type long contain large value 1000000000   statement system.out.println(\"inside loop = + temp display inside loop = 0 statement system.out.println(\"outside loop = + temp display outside loop = -1\n",
            "3 4 android augmented reality application greeting want develop ar app want match real time image store database app want display marker recognize image brief introduction search lot find way start kindly provide nice tutorial ar start app try create\n"
          ]
        }
      ]
    },
    {
      "cell_type": "markdown",
      "source": [
        "#Create Vocab"
      ],
      "metadata": {
        "id": "XdfLvKcibZfi"
      }
    },
    {
      "cell_type": "code",
      "source": [
        "def createVocab(Dataset):    #General createVocab function to generate count after splitting, insert token, and set default index\n",
        "  counter = Counter()\n",
        "  for (label, line) in Dataset:\n",
        "    counter.update(str(line).split())\n",
        "  my_vocab = vocab(counter, min_freq=5)    #assinged min frequence as 5\n",
        "  my_vocab.get_stoi()     #getting the index\n",
        "  \n",
        "  my_vocab.insert_token('<unk>', 0) # '<unk>' token for representing any unknown word\n",
        "  my_vocab.set_default_index(0)   # setting the default index to zero  \n",
        "\n",
        "  return my_vocab"
      ],
      "metadata": {
        "id": "g7UXq_UUbYpR"
      },
      "execution_count": 232,
      "outputs": []
    },
    {
      "cell_type": "code",
      "source": [
        "SETrain_vocab = createVocab(SEtrain_dataset)   #Called the createVocab function for train, test & valid dataset\n",
        "SETest_vocab = createVocab(SEtest_dataset)\n",
        "SEValid_vocab = createVocab(SEvalid_dataset)"
      ],
      "metadata": {
        "id": "o3LjUZD5-AOJ"
      },
      "execution_count": 233,
      "outputs": []
    },
    {
      "cell_type": "markdown",
      "source": [
        "#collate_batch function"
      ],
      "metadata": {
        "id": "uTLvN2f7Bqif"
      }
    },
    {
      "cell_type": "code",
      "source": [
        "# general function to get the indices of words from vocab\n",
        "def text_pipeline(x, vocab):\n",
        "    \"\"\"Converts text to a list of indices using a vocabulary dictionary\"\"\"\n",
        "    return [vocab[token] for token in str(x).split()]"
      ],
      "metadata": {
        "id": "Opzi3AHWY-Pn"
      },
      "execution_count": 234,
      "outputs": []
    },
    {
      "cell_type": "code",
      "source": [
        "def collate_batch(batch,vocab):    #general function to create labels, texts & offset based on input \n",
        "    labels, texts = zip(*batch)\n",
        "    labels = torch.tensor(labels, dtype=torch.int64)\n",
        "    #if \n",
        "    list_of_list_of_indices = [text_pipeline(text, vocab) for text in texts]\n",
        "    \n",
        "    offsets = [0] + [len(i) for i in list_of_list_of_indices]\n",
        "    offsets = torch.tensor(offsets[:-1]).cumsum(dim=0)\n",
        "    texts = torch.cat([torch.tensor(i, dtype=torch.int64) for i in list_of_list_of_indices])\n",
        "    return labels, texts, offsets"
      ],
      "metadata": {
        "id": "3Oc1ngAaIAAx"
      },
      "execution_count": 235,
      "outputs": []
    },
    {
      "cell_type": "markdown",
      "source": [
        "#DataLoaders"
      ],
      "metadata": {
        "id": "5tDmsVFLmAa-"
      }
    },
    {
      "cell_type": "code",
      "source": [
        "#Created train, test & valid DataLoader based on input parameters and called collate_batch function\n",
        "torch.manual_seed(0)\n",
        "batch_size = 256\n",
        "SEtrain_loader = torch.utils.data.DataLoader(dataset=SEtrain_dataset,\n",
        "                                           batch_size=batch_size,\n",
        "                                           shuffle=False,\n",
        "                                           collate_fn=lambda batch: collate_batch(batch, SETrain_vocab)\n",
        "                                           )\n",
        "\n",
        "SEvalid_loader = torch.utils.data.DataLoader(dataset=SEvalid_dataset,\n",
        "                                           batch_size=batch_size,\n",
        "                                           shuffle=False,\n",
        "                                           collate_fn=lambda batch: collate_batch(batch, SEValid_vocab)\n",
        "                                           )\n",
        "SEtest_loader = torch.utils.data.DataLoader(dataset=SEtest_dataset,\n",
        "                                           batch_size=batch_size,\n",
        "                                           shuffle=False,\n",
        "                                           collate_fn=lambda batch: collate_batch(batch, SETest_vocab)\n",
        "                                           )\n"
      ],
      "metadata": {
        "id": "6K6PmifCl8W3"
      },
      "execution_count": 236,
      "outputs": []
    },
    {
      "cell_type": "markdown",
      "source": [
        "#Model"
      ],
      "metadata": {
        "id": "lJq1oZooaDD8"
      }
    },
    {
      "cell_type": "code",
      "source": [
        "import torch.nn as nn\n",
        "#Defined the MLPCustom class to instantiate the variables, layers and writted forward to apply the layers required using dropouts\n",
        "class MLPCustom(nn.Module):\n",
        "    def __init__(self, vocab, embed_dim=300, n_hidden1=200, n_hidden2=100, n_outs=10, dropout1=0.5, dropout2=0.5):\n",
        "        super().__init__()\n",
        "\n",
        "        self.embedding = nn.EmbeddingBag(len(vocab),embed_dim)\n",
        "\n",
        "        self.hidden_layer1 = nn.Linear(embed_dim, n_hidden1)\n",
        "        self.relu1 = nn.ReLU()\n",
        "        self.dropout1 = nn.Dropout(p=dropout1)\n",
        "        self.batchnorm1 = nn.BatchNorm1d(n_hidden1)\n",
        "\n",
        "        self.hidden_layer2 = nn.Linear(n_hidden1, n_hidden2)\n",
        "        self.relu2 = nn.ReLU()\n",
        "        self.dropout2 = nn.Dropout(p=dropout2)\n",
        "        self.batchnorm2 = nn.BatchNorm1d(n_hidden2)\n",
        "\n",
        "        self.output_layer = nn.Linear(n_hidden2,n_outs)\n",
        "\n",
        "    def forward(self, texts, offsets, vocab):\n",
        "        # input: tensor of shape (batch_size, seq_len)\n",
        "        # offsets: tensor of shape (batch_size,) containing the starting indices of each sequence in the input tensor\n",
        "\n",
        "        embedded = self.embedding(texts, offsets)\n",
        "\n",
        "        h1 = self.hidden_layer1(embedded)\n",
        "        h1 = self.relu1(h1)\n",
        "        h1 = self.dropout1(h1)\n",
        "        h1 = self.batchnorm1(h1)\n",
        "\n",
        "        h2 = self.hidden_layer2(h1)\n",
        "        h2 = self.relu2(h2)\n",
        "        h2 = self.dropout2(h2)\n",
        "        h2 = self.batchnorm2(h2)\n",
        "\n",
        "        ypred = self.output_layer(h2)   \n",
        "\n",
        "        return ypred"
      ],
      "metadata": {
        "id": "9halWKCvn1ra"
      },
      "execution_count": 239,
      "outputs": []
    },
    {
      "cell_type": "code",
      "source": [
        "# Initialize a new project\n",
        "wandb.init(name=\"imdb_shallow_non_seq\", project='nlps23_L7')\n",
        "#20efc82737d336646269a333588441a0c04c4c0d        --API Key\n",
        "# Initialized number of epochs, learning rate and batch size\n",
        "learning_rate = 0.2\n",
        "wandb.log({'learning_rate': learning_rate})\n",
        "epochs = 20\n",
        "\n",
        "# device\n",
        "device = torch.device('cuda:0' if torch.cuda.is_available() else 'cpu')\n",
        "\n",
        "embed_dim=300\n",
        "n_hidden1=200\n",
        "n_hidden2=100\n",
        "n_outs=10\n",
        "dropout1=0.5\n",
        "dropout2=0.5\n",
        "\n",
        "model = MLPCustom(SETrain_vocab, embed_dim, n_hidden1, n_hidden2, n_outs, dropout1, dropout2)\n",
        "\n",
        "# loss_function\n",
        "loss_function = nn.CrossEntropyLoss()\n",
        "\n",
        "# optimizer SGD\n",
        "optimizer = torch.optim.SGD(model.parameters(), learning_rate)"
      ],
      "metadata": {
        "colab": {
          "base_uri": "https://localhost:8080/",
          "height": 104
        },
        "id": "31VWRnu5CTZu",
        "outputId": "970e51f8-6a92-437e-b156-2bb799ef0a35"
      },
      "execution_count": 240,
      "outputs": [
        {
          "output_type": "display_data",
          "data": {
            "text/plain": [
              "<IPython.core.display.HTML object>"
            ],
            "text/html": [
              "Tracking run with wandb version 0.14.0"
            ]
          },
          "metadata": {}
        },
        {
          "output_type": "display_data",
          "data": {
            "text/plain": [
              "<IPython.core.display.HTML object>"
            ],
            "text/html": [
              "Run data is saved locally in <code>/content/wandb/run-20230403_020426-t1j8rjrc</code>"
            ]
          },
          "metadata": {}
        },
        {
          "output_type": "display_data",
          "data": {
            "text/plain": [
              "<IPython.core.display.HTML object>"
            ],
            "text/html": [
              "Syncing run <strong><a href='https://wandb.ai/parimala/nlps23_L7/runs/t1j8rjrc' target=\"_blank\">imdb_shallow_non_seq</a></strong> to <a href='https://wandb.ai/parimala/nlps23_L7' target=\"_blank\">Weights & Biases</a> (<a href='https://wandb.me/run' target=\"_blank\">docs</a>)<br/>"
            ]
          },
          "metadata": {}
        },
        {
          "output_type": "display_data",
          "data": {
            "text/plain": [
              "<IPython.core.display.HTML object>"
            ],
            "text/html": [
              " View project at <a href='https://wandb.ai/parimala/nlps23_L7' target=\"_blank\">https://wandb.ai/parimala/nlps23_L7</a>"
            ]
          },
          "metadata": {}
        },
        {
          "output_type": "display_data",
          "data": {
            "text/plain": [
              "<IPython.core.display.HTML object>"
            ],
            "text/html": [
              " View run at <a href='https://wandb.ai/parimala/nlps23_L7/runs/t1j8rjrc' target=\"_blank\">https://wandb.ai/parimala/nlps23_L7/runs/t1j8rjrc</a>"
            ]
          },
          "metadata": {}
        }
      ]
    },
    {
      "cell_type": "markdown",
      "source": [
        "#Calling the user definition functions"
      ],
      "metadata": {
        "id": "1EARBHrkN0D3"
      }
    },
    {
      "cell_type": "code",
      "execution_count": 241,
      "metadata": {
        "colab": {
          "base_uri": "https://localhost:8080/"
        },
        "execution": {
          "iopub.execute_input": "2022-10-02T11:18:59.063373Z",
          "iopub.status.busy": "2022-10-02T11:18:59.063161Z",
          "iopub.status.idle": "2022-10-02T11:19:10.388677Z",
          "shell.execute_reply": "2022-10-02T11:19:10.388079Z",
          "shell.execute_reply.started": "2022-10-02T11:18:59.063359Z"
        },
        "id": "LckLb_9bhZDw",
        "outputId": "8fd74930-c7e2-4434-e47b-05943751cf64",
        "tags": []
      },
      "outputs": [
        {
          "output_type": "stream",
          "name": "stdout",
          "text": [
            "Epoch 1/20\n",
            "Train Loss: 1.0319 | Train Accuracy: 0.04%\n",
            "Valid Loss: 2.7657 | Valid Accuracy: 0.11%\n",
            "\n",
            "Epoch 2/20\n",
            "Train Loss: 0.7933 | Train Accuracy: 0.04%\n",
            "Valid Loss: 2.8550 | Valid Accuracy: 0.06%\n",
            "\n",
            "Epoch 3/20\n",
            "Train Loss: 0.7302 | Train Accuracy: 0.05%\n",
            "Valid Loss: 2.9253 | Valid Accuracy: 0.04%\n",
            "\n",
            "Epoch 4/20\n",
            "Train Loss: 0.6969 | Train Accuracy: 0.03%\n",
            "Valid Loss: 2.8994 | Valid Accuracy: 0.07%\n",
            "\n",
            "Epoch 5/20\n",
            "Train Loss: 0.6667 | Train Accuracy: 0.04%\n",
            "Valid Loss: 2.8945 | Valid Accuracy: 0.06%\n",
            "\n",
            "Epoch 6/20\n",
            "Train Loss: 0.6445 | Train Accuracy: 0.03%\n",
            "Valid Loss: 2.9177 | Valid Accuracy: 0.07%\n",
            "\n",
            "Epoch 7/20\n",
            "Train Loss: 0.6275 | Train Accuracy: 0.04%\n",
            "Valid Loss: 2.9963 | Valid Accuracy: 0.06%\n",
            "\n",
            "Epoch 8/20\n",
            "Train Loss: 0.6107 | Train Accuracy: 0.05%\n",
            "Valid Loss: 3.0509 | Valid Accuracy: 0.04%\n",
            "\n",
            "Epoch 9/20\n",
            "Train Loss: 0.5994 | Train Accuracy: 0.03%\n",
            "Valid Loss: 2.9164 | Valid Accuracy: 0.07%\n",
            "\n",
            "Epoch 10/20\n",
            "Train Loss: 0.5842 | Train Accuracy: 0.05%\n",
            "Valid Loss: 3.0010 | Valid Accuracy: 0.05%\n",
            "\n",
            "Epoch 11/20\n",
            "Train Loss: 0.5727 | Train Accuracy: 0.04%\n",
            "Valid Loss: 3.1226 | Valid Accuracy: 0.05%\n",
            "\n",
            "Epoch 12/20\n",
            "Train Loss: 0.5605 | Train Accuracy: 0.04%\n",
            "Valid Loss: 3.0310 | Valid Accuracy: 0.03%\n",
            "\n",
            "Epoch 13/20\n",
            "Train Loss: 0.5519 | Train Accuracy: 0.05%\n",
            "Valid Loss: 3.1862 | Valid Accuracy: 0.03%\n",
            "\n",
            "Epoch 14/20\n",
            "Train Loss: 0.5442 | Train Accuracy: 0.03%\n",
            "Valid Loss: 3.1773 | Valid Accuracy: 0.03%\n",
            "\n",
            "Epoch 15/20\n",
            "Train Loss: 0.5365 | Train Accuracy: 0.04%\n",
            "Valid Loss: 3.1277 | Valid Accuracy: 0.06%\n",
            "\n",
            "Epoch 16/20\n",
            "Train Loss: 0.5302 | Train Accuracy: 0.04%\n",
            "Valid Loss: 3.1673 | Valid Accuracy: 0.04%\n",
            "\n",
            "Epoch 17/20\n",
            "Train Loss: 0.5208 | Train Accuracy: 0.03%\n",
            "Valid Loss: 3.1395 | Valid Accuracy: 0.07%\n",
            "\n",
            "Epoch 18/20\n",
            "Train Loss: 0.5162 | Train Accuracy: 0.04%\n",
            "Valid Loss: 3.1194 | Valid Accuracy: 0.04%\n",
            "\n",
            "Epoch 19/20\n",
            "Train Loss: 0.5097 | Train Accuracy: 0.04%\n",
            "Valid Loss: 3.1853 | Valid Accuracy: 0.08%\n",
            "\n",
            "Epoch 20/20\n",
            "Train Loss: 0.5022 | Train Accuracy: 0.05%\n",
            "Valid Loss: 3.1614 | Valid Accuracy: 0.05%\n",
            "\n"
          ]
        }
      ],
      "source": [
        "train_loss_history, train_acc_history, valid_loss_history, valid_acc_history = train(SEtrain_loader,\n",
        "                                                                                     SEvalid_loader,\n",
        "                                                                                     model,\n",
        "                                                                                     optimizer,\n",
        "                                                                                     loss_function,\n",
        "                                                                                     epochs,\n",
        "                                                                                     device,SETrain_vocab,SEValid_vocab)\n",
        " "
      ]
    },
    {
      "cell_type": "markdown",
      "source": [
        "#Get Accuracy, Predictions"
      ],
      "metadata": {
        "id": "jnKFiscJTEwv"
      }
    },
    {
      "cell_type": "code",
      "source": [
        "# Get the prediction and accuracy for the test dataseta\n",
        "predictions_test, acc_test = get_acc_pred(SEtest_loader, model, device)"
      ],
      "metadata": {
        "id": "gcVqBgo-Qjo4"
      },
      "execution_count": 242,
      "outputs": []
    },
    {
      "cell_type": "code",
      "source": [
        "# Test Accuracy\n",
        "print('Test accuracy', acc_test * 100)"
      ],
      "metadata": {
        "colab": {
          "base_uri": "https://localhost:8080/"
        },
        "id": "qntQ2tpmTJm2",
        "outputId": "615b7fb4-07a0-4b4d-f65c-784347484772"
      },
      "execution_count": 243,
      "outputs": [
        {
          "output_type": "stream",
          "name": "stdout",
          "text": [
            "Test accuracy tensor(9.3503, device='cuda:0')\n"
          ]
        }
      ]
    },
    {
      "cell_type": "code",
      "source": [
        "wandb.log({'Test_Acc': acc_test})"
      ],
      "metadata": {
        "id": "UY8ZYLz5TMPO"
      },
      "execution_count": 244,
      "outputs": []
    },
    {
      "cell_type": "markdown",
      "source": [
        "#Confusion Matrix for Test Data"
      ],
      "metadata": {
        "id": "qS1cTdT1ULFc"
      }
    },
    {
      "cell_type": "code",
      "source": [
        "#Generated Confusion matrix\n",
        "wandb.log({\"conf_mat\": wandb.plot.confusion_matrix(\n",
        "    probs=None,\n",
        "    y_true=SEtest_labels,\n",
        "    preds=predictions_test.to('cpu').numpy(),\n",
        "    class_names=['c#', 'java', 'php', 'javascript','android', 'jquery', 'c++','python', 'iphone', 'asp.net'])})"
      ],
      "metadata": {
        "id": "6mq0jSJ4Vzw7"
      },
      "execution_count": 245,
      "outputs": []
    },
    {
      "cell_type": "code",
      "source": [
        "wandb.finish()"
      ],
      "metadata": {
        "colab": {
          "base_uri": "https://localhost:8080/",
          "height": 407,
          "referenced_widgets": [
            "9c656e1e7d1b4d0fbefb586dc79bd493",
            "d32c9f19e0af443aa47f992fdb66e26d",
            "e169ccd6b23044e3bd10c90f9b13ed5e",
            "9f0899f3f85844488760b22e15ad5339",
            "360afdd4b7514910b461c42446e6728f",
            "a78eea484e0a44a7a73cc33588a21a06",
            "a4331606c3db4e8abd0591e556e12cf4",
            "2c46dc05cfa44996809b15ab18cf1e3c"
          ]
        },
        "id": "bGjk1uVKWhDa",
        "outputId": "c0a94fc0-b57b-48da-c92b-349dc21ee918"
      },
      "execution_count": 246,
      "outputs": [
        {
          "output_type": "display_data",
          "data": {
            "text/plain": [
              "<IPython.core.display.HTML object>"
            ],
            "text/html": [
              "Waiting for W&B process to finish... <strong style=\"color:green\">(success).</strong>"
            ]
          },
          "metadata": {}
        },
        {
          "output_type": "display_data",
          "data": {
            "text/plain": [
              "VBox(children=(Label(value='0.005 MB of 0.007 MB uploaded (0.000 MB deduped)\\r'), FloatProgress(value=0.627604…"
            ],
            "application/vnd.jupyter.widget-view+json": {
              "version_major": 2,
              "version_minor": 0,
              "model_id": "9c656e1e7d1b4d0fbefb586dc79bd493"
            }
          },
          "metadata": {}
        },
        {
          "output_type": "display_data",
          "data": {
            "text/plain": [
              "<IPython.core.display.HTML object>"
            ],
            "text/html": [
              "<style>\n",
              "    table.wandb td:nth-child(1) { padding: 0 10px; text-align: left ; width: auto;} td:nth-child(2) {text-align: left ; width: 100%}\n",
              "    .wandb-row { display: flex; flex-direction: row; flex-wrap: wrap; justify-content: flex-start; width: 100% }\n",
              "    .wandb-col { display: flex; flex-direction: column; flex-basis: 100%; flex: 1; padding: 10px; }\n",
              "    </style>\n",
              "<div class=\"wandb-row\"><div class=\"wandb-col\"><h3>Run history:</h3><br/><table class=\"wandb\"><tr><td>Test_Acc</td><td>▁</td></tr><tr><td>Train Accuracy</td><td>▄▅▇▂▄▁▄▆▃▇▅▅▇▃▄▄▃▅▅█</td></tr><tr><td>Train Loss</td><td>█▅▄▄▃▃▃▂▂▂▂▂▂▂▁▁▁▁▁▁</td></tr><tr><td>Valid Accuracy</td><td>█▄▂▅▄▅▄▂▅▃▃▁▁▁▄▂▅▂▆▃</td></tr><tr><td>Valid Loss</td><td>▁▂▄▃▃▄▅▆▄▅▇▅██▇█▇▇██</td></tr><tr><td>learning_rate</td><td>▁</td></tr></table><br/></div><div class=\"wandb-col\"><h3>Run summary:</h3><br/><table class=\"wandb\"><tr><td>Test_Acc</td><td>0.0935</td></tr><tr><td>Train Accuracy</td><td>0.00051</td></tr><tr><td>Train Loss</td><td>0.50218</td></tr><tr><td>Valid Accuracy</td><td>0.00048</td></tr><tr><td>Valid Loss</td><td>3.1614</td></tr><tr><td>learning_rate</td><td>0.2</td></tr></table><br/></div></div>"
            ]
          },
          "metadata": {}
        },
        {
          "output_type": "display_data",
          "data": {
            "text/plain": [
              "<IPython.core.display.HTML object>"
            ],
            "text/html": [
              " View run <strong style=\"color:#cdcd00\">imdb_shallow_non_seq</strong> at: <a href='https://wandb.ai/parimala/nlps23_L7/runs/t1j8rjrc' target=\"_blank\">https://wandb.ai/parimala/nlps23_L7/runs/t1j8rjrc</a><br/>Synced 5 W&B file(s), 1 media file(s), 1 artifact file(s) and 0 other file(s)"
            ]
          },
          "metadata": {}
        },
        {
          "output_type": "display_data",
          "data": {
            "text/plain": [
              "<IPython.core.display.HTML object>"
            ],
            "text/html": [
              "Find logs at: <code>./wandb/run-20230403_020426-t1j8rjrc/logs</code>"
            ]
          },
          "metadata": {}
        }
      ]
    }
  ]
}