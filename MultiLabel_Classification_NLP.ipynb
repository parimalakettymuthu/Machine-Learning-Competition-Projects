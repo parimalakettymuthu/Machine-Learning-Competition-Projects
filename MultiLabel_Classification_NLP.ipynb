{
  "nbformat": 4,
  "nbformat_minor": 0,
  "metadata": {
    "colab": {
      "provenance": [],
      "authorship_tag": "ABX9TyOuBtdEzEoeqdgV/hzDp0aK",
      "include_colab_link": true
    },
    "kernelspec": {
      "name": "python3",
      "display_name": "Python 3"
    },
    "language_info": {
      "name": "python"
    }
  },
  "cells": [
    {
      "cell_type": "markdown",
      "metadata": {
        "id": "view-in-github",
        "colab_type": "text"
      },
      "source": [
        "<a href=\"https://colab.research.google.com/github/parimalakettymuthu/MachineLearning-Projects/blob/main/MultiLabel_Classification_NLP.ipynb\" target=\"_parent\"><img src=\"https://colab.research.google.com/assets/colab-badge.svg\" alt=\"Open In Colab\"/></a>"
      ]
    },
    {
      "cell_type": "code",
      "source": [
        "%load_ext autoreload\n",
        "%autoreload 2"
      ],
      "metadata": {
        "id": "0hAyTHurT-lH",
        "colab": {
          "base_uri": "https://localhost:8080/"
        },
        "outputId": "b4eef00d-3b99-482e-a579-8879206dd38f"
      },
      "execution_count": 1144,
      "outputs": [
        {
          "output_type": "stream",
          "name": "stdout",
          "text": [
            "The autoreload extension is already loaded. To reload it, use:\n",
            "  %reload_ext autoreload\n"
          ]
        }
      ]
    },
    {
      "cell_type": "code",
      "source": [
        "import sys \n",
        "#sys.path.append('/content/drive/MyDrive/NLP/custom-functions')"
      ],
      "metadata": {
        "id": "zT63hu4OUC82"
      },
      "execution_count": 1145,
      "outputs": []
    },
    {
      "cell_type": "code",
      "execution_count": 1146,
      "metadata": {
        "id": "3Kdp7KNWRxSa"
      },
      "outputs": [],
      "source": [
        "import pandas as pd\n",
        "from pathlib import Path\n",
        "import joblib\n",
        "# Importing the necessary libraries\n",
        "import torch\n",
        "import torch.nn as nn\n",
        "import torch.nn.functional as F\n",
        "from torchtext.vocab import  vocab\n",
        "\n",
        "import random\n",
        "import numpy as np\n",
        "import pandas as pd\n",
        "import joblib\n",
        "from collections import Counter\n",
        "\n",
        "\n",
        "from pathlib import Path\n",
        "import sys\n",
        "\n",
        "from sklearn.model_selection import train_test_split\n",
        "!pip install wandb -qq\n",
        "import wandb"
      ]
    },
    {
      "cell_type": "code",
      "source": [
        "if 'google.colab' in str(get_ipython()):\n",
        "  from google.colab import drive\n",
        "  drive.mount('/content/drive')   \n",
        "  base_path = '/content/drive/MyDrive/NLP'\n",
        "  sys.path.append('/content/drive/MyDrive/NLP/user-defined-fns')\n",
        "  sys.path.append('/content/drive/MyDrive/NLP/user-defined-fn')\n",
        "  sys.path.append('/content/drive/MyDrive/NLP/user-defined')"
      ],
      "metadata": {
        "colab": {
          "base_uri": "https://localhost:8080/"
        },
        "id": "vEqI31NGSB8E",
        "outputId": "bdbec4ba-9689-4409-9d94-04fcb41edf22"
      },
      "execution_count": 1147,
      "outputs": [
        {
          "output_type": "stream",
          "name": "stdout",
          "text": [
            "Drive already mounted at /content/drive; to attempt to forcibly remount, call drive.mount(\"/content/drive\", force_remount=True).\n"
          ]
        }
      ]
    },
    {
      "cell_type": "code",
      "source": [
        "base_folder = Path(base_path)\n",
        "assignment_fldr = base_folder/ 'assignment6'\n",
        "custom_fldr = base_folder/ 'user-defined-fn'\n",
        "\n",
        "#Check contents in data folder\n",
        "for entries in custom_fldr.iterdir():\n",
        "  print(entries.name)"
      ],
      "metadata": {
        "colab": {
          "base_uri": "https://localhost:8080/"
        },
        "id": "3-o_n-FkS2qs",
        "outputId": "3186313a-1dfb-4f08-9135-4b308287f2ae"
      },
      "execution_count": 1148,
      "outputs": [
        {
          "output_type": "stream",
          "name": "stdout",
          "text": [
            "data_preparation_imdb_rev0.py\n",
            ".ipynb_checkpoints\n",
            "__pycache__\n"
          ]
        }
      ]
    },
    {
      "cell_type": "code",
      "source": [
        "#sys.path.append('/content/drive/MyDrive/NLP/custom-functions')\n",
        "sys.path = list(set(sys.path))"
      ],
      "metadata": {
        "id": "cUbDeEuAmSGX"
      },
      "execution_count": 1149,
      "outputs": []
    },
    {
      "cell_type": "code",
      "source": [
        "sys.path"
      ],
      "metadata": {
        "colab": {
          "base_uri": "https://localhost:8080/"
        },
        "id": "63DrEKz6mVWO",
        "outputId": "19b2cd30-3238-4f9b-b86a-92c6a33407f6"
      },
      "execution_count": 1150,
      "outputs": [
        {
          "output_type": "execute_result",
          "data": {
            "text/plain": [
              "['/content',\n",
              " '',\n",
              " '/usr/local/lib/python3.9/dist-packages/IPython/extensions',\n",
              " '/env/python',\n",
              " '/root/.ipython',\n",
              " '/content/drive/MyDrive/NLP/user-defined-fns',\n",
              " '/content/drive/MyDrive/NLP/user-defined',\n",
              " '/usr/local/lib/python3.9/dist-packages',\n",
              " '/usr/lib/python3.9/lib-dynload',\n",
              " '/content/drive/MyDrive/NLP/user-defined-fn',\n",
              " '/usr/lib/python39.zip',\n",
              " '/usr/lib/python3/dist-packages',\n",
              " '/usr/lib/python3.9']"
            ]
          },
          "metadata": {},
          "execution_count": 1150
        }
      ]
    },
    {
      "cell_type": "code",
      "source": [
        "!pip install torchmetrics -qq"
      ],
      "metadata": {
        "id": "Qdu0GC2FG-v7"
      },
      "execution_count": 1151,
      "outputs": []
    },
    {
      "cell_type": "code",
      "source": [
        "from Trainer_v2 import Trainer\n",
        "from ff_3_layer_sequential_model import MLPCustom"
      ],
      "metadata": {
        "id": "C29fXsrflwoO"
      },
      "execution_count": 1152,
      "outputs": []
    },
    {
      "cell_type": "code",
      "source": [
        "from data_preparation_imdb_rev0 import *"
      ],
      "metadata": {
        "id": "KegW-cQiIjui"
      },
      "execution_count": 1153,
      "outputs": []
    },
    {
      "cell_type": "code",
      "source": [
        "df_multilable_data = assignment_fldr/ 'df_multilabel_hw_cleaned.joblib'\n",
        "multiLabel_Data = joblib.load(df_multilable_data)"
      ],
      "metadata": {
        "id": "8CMy-nX9TQvM"
      },
      "execution_count": 1154,
      "outputs": []
    },
    {
      "cell_type": "code",
      "source": [
        "multiLabel_Data.columns"
      ],
      "metadata": {
        "id": "hFG1VYkjadBh",
        "colab": {
          "base_uri": "https://localhost:8080/"
        },
        "outputId": "bfbd6c93-4bd1-4fff-edae-73f7d817db88"
      },
      "execution_count": 1155,
      "outputs": [
        {
          "output_type": "execute_result",
          "data": {
            "text/plain": [
              "Index(['cleaned_text', 'Tags', 'Tag_Number'], dtype='object')"
            ]
          },
          "metadata": {},
          "execution_count": 1155
        }
      ]
    },
    {
      "cell_type": "code",
      "source": [
        "multiLabel_Data.shape"
      ],
      "metadata": {
        "id": "qM9YdVq5air3",
        "colab": {
          "base_uri": "https://localhost:8080/"
        },
        "outputId": "ab9f9499-4cdb-4641-ff5f-4d58972c65fc"
      },
      "execution_count": 1156,
      "outputs": [
        {
          "output_type": "execute_result",
          "data": {
            "text/plain": [
              "(47427, 3)"
            ]
          },
          "metadata": {},
          "execution_count": 1156
        }
      ]
    },
    {
      "cell_type": "code",
      "source": [
        "print(set(multiLabel_Data['Tag_Number']))"
      ],
      "metadata": {
        "colab": {
          "base_uri": "https://localhost:8080/"
        },
        "id": "zIJIeqfYpZeG",
        "outputId": "9e3b9c26-f6b6-4405-c76f-17909d033bdb"
      },
      "execution_count": 1157,
      "outputs": [
        {
          "output_type": "stream",
          "name": "stdout",
          "text": [
            "{'[1, 2, 8, 6, 4]', '[1, 3, 4]', '[2, 5]', '[0, 2, 9]', '[2, 3, 4]', '[8, 9]', '[0, 1, 6, 4]', '[1, 2, 6]', '[0, 3, 5]', '[0, 7]', '[0, 1, 5]', '[0, 2, 9, 5]', '[0, 5, 9]', '[2, 5, 3]', '[2, 8, 4]', '[5, 8]', '[0, 9, 5]', '[2, 3, 8]', '[9, 7]', '[4, 8]', '[8, 7]', '[0, 9, 6]', '[3, 4, 5]', '[3, 5, 8, 4]', '[1, 4]', '[2, 1, 7, 3]', '[3, 2]', '[0, 1, 2, 9]', '[5, 4]', '[0, 4]', '[1, 4, 6]', '[0, 3, 5, 9]', '[1, 6, 7]', '[5, 9]', '[2, 5, 7]', '[1, 2, 5]', '[1, 4, 7]', '[1, 2, 7]', '[8, 6]', '[3, 8, 9]', '[8, 4, 7]', '[2, 3]', '[3, 4, 5, 8]', '[1, 3]', '[5, 2]', '[1, 8, 4]', '[1, 2, 3, 4]', '[0, 1, 3]', '[4, 7]', '[1, 3, 5, 4]', '[0, 2, 3, 5, 9]', '[3, 7]', '[4, 9]', '[0, 1, 3, 6, 7]', '[2, 5, 9]', '[2, 3, 7]', '[1, 0, 6]', '[3, 9, 4]', '[0, 3, 4, 9]', '[0, 1, 3, 7]', '[5, 9, 4]', '[4, 6]', '[9, 5]', '[0, 1, 7]', '[9, 0]', '[0, 1, 3, 5]', '[3, 6]', '[1, 7]', '[2, 0]', '[2, 3, 5, 4]', '[0, 9]', '[3, 5, 4]', '[2, 8]', '[3, 8]', '[1, 2, 3, 7]', '[1, 3, 4, 5]', '[6, 3]', '[6, 2]', '[0, 3, 9]', '[0, 4, 8, 9]', '[0, 2, 3, 9, 5]', '[0, 3, 9, 5]', '[3, 8, 6]', '[4, 1]', '[1, 2, 9]', '[2, 6]', '[1, 3, 9]', '[3, 5, 8]', '[2, 7]', '[1, 8, 9, 4]', '[3, 9, 5]', '[0, 3]', '[1, 6]', '[0, 5, 3]', '[1, 8]', '[0, 2, 5, 9]', '[2, 3, 9]', '[0, 8, 4]', '[3, 9, 5, 6]', '[0, 2, 3, 9]', '[0, 9, 7]', '[2, 4, 8]', '[6, 4]', '[2, 3, 5, 9]', '[0, 8]', '[4, 5]', '[1, 2, 3, 5]', '[4, 8, 9]', '[3, 5, 7]', '[1, 0]', '[6, 8]', '[0, 1, 2, 3, 4]', '[0, 6]', '[0, 1, 2]', '[1, 2, 3]', '[6, 7]', '[1, 3, 6]', '[1, 2, 4]', '[0, 1, 2, 3, 5]', '[0, 1, 6]', '[2, 9, 3]', '[1, 0, 4]', '[3, 4]', '[0, 2]', '[0, 1]', '[2, 9, 5]', '[7, 4]', '[3, 5, 4, 9]', '[1, 4, 9]', '[1, 2, 3, 6, 7]', '[1, 3, 5]', '[0, 1, 3, 4]', '[5, 7]', '[0, 2, 3]', '[1, 6, 8]', '[1, 5]', '[0, 1, 2, 3]', '[1, 3, 9, 6]', '[8, 4]', '[0, 1, 4]', '[0, 8, 9]', '[0, 6, 7]', '[3, 5]', '[5, 3]', '[1, 6, 4]', '[3, 9]', '[2, 5, 4]', '[0, 2, 3, 5]', '[0, 1, 8]', '[1, 4, 8]', '[9, 8]', '[7, 3]', '[3, 5, 9]', '[0, 2, 3, 6]', '[0, 4, 9]', '[0, 9, 3]', '[0, 6, 9]', '[1, 2]', '[1, 4, 6, 8]', '[0, 9, 3, 5]', '[3, 8, 4]', '[2, 9]', '[2, 1]', '[2, 3, 6]', '[0, 2, 3, 9, 6]', '[1, 3, 7]', '[0, 9, 8]', '[0, 2, 6]', '[9, 3]', '[2, 4]', '[0, 1, 9]', '[2, 3, 5]', '[0, 3, 6]', '[9, 3, 5]', '[0, 5]', '[1, 9]'}\n"
          ]
        }
      ]
    },
    {
      "cell_type": "code",
      "source": [
        "import ast\n",
        "# assume 'df' is your pandas DataFrame\n",
        "multiLabel_Data['Tag_Number'] = multiLabel_Data['Tag_Number'].apply(lambda x: [int(i) for i in ast.literal_eval(x)])"
      ],
      "metadata": {
        "id": "9aTsr8lshC_w"
      },
      "execution_count": 1158,
      "outputs": []
    },
    {
      "cell_type": "code",
      "source": [
        "from sklearn.preprocessing import MultiLabelBinarizer\n",
        "\n",
        "# assume 'labels' is your list of labels (i.e., 'Tag_Number' column after conversion to integers)\n",
        "mlb = MultiLabelBinarizer()\n",
        "multiLabel_Data['Tag_Number'] = mlb.fit_transform(multiLabel_Data['Tag_Number'])\n"
      ],
      "metadata": {
        "id": "iAJsrBAvhIXe"
      },
      "execution_count": 1159,
      "outputs": []
    },
    {
      "cell_type": "code",
      "source": [
        "multiLabel_Data['Tag_Number']"
      ],
      "metadata": {
        "id": "g8p-TlPthWgX",
        "colab": {
          "base_uri": "https://localhost:8080/"
        },
        "outputId": "0d13bb0b-55f2-4c16-f9bb-d302fdbf93bf"
      },
      "execution_count": 1160,
      "outputs": [
        {
          "output_type": "execute_result",
          "data": {
            "text/plain": [
              "0        1\n",
              "1        0\n",
              "2        1\n",
              "3        0\n",
              "4        0\n",
              "        ..\n",
              "47422    0\n",
              "47423    0\n",
              "47424    0\n",
              "47425    0\n",
              "47426    0\n",
              "Name: Tag_Number, Length: 47427, dtype: int64"
            ]
          },
          "metadata": {},
          "execution_count": 1160
        }
      ]
    },
    {
      "cell_type": "code",
      "source": [
        "multiLabel_Data['Tag_Number'].shape\n"
      ],
      "metadata": {
        "colab": {
          "base_uri": "https://localhost:8080/"
        },
        "id": "gmyrfly2t-iK",
        "outputId": "7079ac82-f1b4-47a2-a33d-a5028a6df00f"
      },
      "execution_count": 1161,
      "outputs": [
        {
          "output_type": "execute_result",
          "data": {
            "text/plain": [
              "(47427,)"
            ]
          },
          "metadata": {},
          "execution_count": 1161
        }
      ]
    },
    {
      "cell_type": "code",
      "source": [
        "X_final = multiLabel_Data['cleaned_text'].values"
      ],
      "metadata": {
        "id": "9Et9mS4IaowM"
      },
      "execution_count": 1162,
      "outputs": []
    },
    {
      "cell_type": "code",
      "source": [
        "print(type(X_final), X_final.shape)"
      ],
      "metadata": {
        "id": "UDdLbzfpegsG",
        "colab": {
          "base_uri": "https://localhost:8080/"
        },
        "outputId": "520a819b-fa89-49f6-9308-c273d058b335"
      },
      "execution_count": 1163,
      "outputs": [
        {
          "output_type": "stream",
          "name": "stdout",
          "text": [
            "<class 'numpy.ndarray'> (47427,)\n"
          ]
        }
      ]
    },
    {
      "cell_type": "code",
      "source": [
        "y_final = multiLabel_Data['Tag_Number'].values\n",
        "unique_labels = np.unique(y_final)\n",
        "print(unique_labels)"
      ],
      "metadata": {
        "id": "BrRAxTxZejaF",
        "colab": {
          "base_uri": "https://localhost:8080/"
        },
        "outputId": "6db7503b-fdb1-400b-f96c-30cd10fd1b6a"
      },
      "execution_count": 1164,
      "outputs": [
        {
          "output_type": "stream",
          "name": "stdout",
          "text": [
            "[0 1]\n"
          ]
        }
      ]
    },
    {
      "cell_type": "code",
      "source": [
        "print(type(y_final), y_final.shape)"
      ],
      "metadata": {
        "id": "V4-ktoCfelQE",
        "colab": {
          "base_uri": "https://localhost:8080/"
        },
        "outputId": "b25459af-365d-499d-b8a1-8056a495ad92"
      },
      "execution_count": 1165,
      "outputs": [
        {
          "output_type": "stream",
          "name": "stdout",
          "text": [
            "<class 'numpy.ndarray'> (47427,)\n"
          ]
        }
      ]
    },
    {
      "cell_type": "markdown",
      "source": [
        "#Create Train/Test/Valid Split"
      ],
      "metadata": {
        "id": "_Soz3Y_feyv7"
      }
    },
    {
      "cell_type": "code",
      "source": [
        "X_train, x_valid_test, y_train, y_valid_test = train_test_split(X_final, y_final, test_size = 0.4, stratify = y_final)"
      ],
      "metadata": {
        "id": "a0XiDspOewFT"
      },
      "execution_count": 1166,
      "outputs": []
    },
    {
      "cell_type": "code",
      "source": [
        "X_valid, X_test, y_valid, y_test = train_test_split(x_valid_test, y_valid_test, test_size = 0.5, stratify = y_valid_test)"
      ],
      "metadata": {
        "id": "e2Ko3qrwe1hb"
      },
      "execution_count": 1167,
      "outputs": []
    },
    {
      "cell_type": "code",
      "source": [
        "print(\"Train set shape: \", X_train.shape, \"Split %: \", len(X_train)/len(X_final))\n",
        "print(\"Validation set shape: \", X_valid.shape,\"Split %: \", len(X_valid)/len(X_final))\n",
        "print(\"Test set shape: \", X_test.shape, \"Split %: \", len(X_test)/len(X_final))"
      ],
      "metadata": {
        "id": "2Hn0kveegX79",
        "colab": {
          "base_uri": "https://localhost:8080/"
        },
        "outputId": "55348bf4-8a32-4f5a-81ef-2eb93e05219e"
      },
      "execution_count": 1168,
      "outputs": [
        {
          "output_type": "stream",
          "name": "stdout",
          "text": [
            "Train set shape:  (28456,) Split %:  0.59999578299281\n",
            "Validation set shape:  (9485,) Split %:  0.19999156598562\n",
            "Test set shape:  (9486,) Split %:  0.20001265102156998\n"
          ]
        }
      ]
    },
    {
      "cell_type": "code",
      "source": [
        "trainset = CustomDataset(X_train,y_train)\n",
        "validset = CustomDataset(X_valid,y_valid)\n",
        "testset = CustomDataset(X_test,y_test)"
      ],
      "metadata": {
        "id": "U3058MHPgpht"
      },
      "execution_count": 1169,
      "outputs": []
    },
    {
      "cell_type": "code",
      "source": [
        "print(set(y_train),set(y_valid),set(y_test))"
      ],
      "metadata": {
        "colab": {
          "base_uri": "https://localhost:8080/"
        },
        "id": "FRxGI1DZljV0",
        "outputId": "0468ac60-3af6-4053-843b-0d121efacfb1"
      },
      "execution_count": 1170,
      "outputs": [
        {
          "output_type": "stream",
          "name": "stdout",
          "text": [
            "{0, 1} {0, 1} {0, 1}\n"
          ]
        }
      ]
    },
    {
      "cell_type": "markdown",
      "source": [
        "#Create vocab"
      ],
      "metadata": {
        "id": "Pml3PuH3j-V-"
      }
    },
    {
      "cell_type": "code",
      "source": [
        "multilabel_vocab = get_vocab(trainset, min_freq=2)"
      ],
      "metadata": {
        "id": "Lkxzji92j63N"
      },
      "execution_count": 1171,
      "outputs": []
    },
    {
      "cell_type": "code",
      "source": [
        "len(multilabel_vocab)"
      ],
      "metadata": {
        "colab": {
          "base_uri": "https://localhost:8080/"
        },
        "id": "vtFsMZgEOk5o",
        "outputId": "bfc775b5-24d8-46c3-d848-6feb57d5cb8a"
      },
      "execution_count": 1172,
      "outputs": [
        {
          "output_type": "execute_result",
          "data": {
            "text/plain": [
              "91260"
            ]
          },
          "metadata": {},
          "execution_count": 1172
        }
      ]
    },
    {
      "cell_type": "code",
      "source": [
        "valid_multilabel_vocab = get_vocab(validset, min_freq=2)"
      ],
      "metadata": {
        "id": "SI264seClU5-"
      },
      "execution_count": 1173,
      "outputs": []
    },
    {
      "cell_type": "markdown",
      "source": [
        "#Meta Data"
      ],
      "metadata": {
        "id": "jmnuyTRbOzew"
      }
    },
    {
      "cell_type": "code",
      "source": [
        "from types import SimpleNamespace\n",
        "\n",
        "hyperparameters = SimpleNamespace(\n",
        "    # model Parameters\n",
        "    EMBED_DIM=300,\n",
        "    VOCAB_SIZE=len(multilabel_vocab),\n",
        "    OUTPUT_DIM=10,\n",
        "    HIDDEN_DIM1=200,\n",
        "    HIDDEN_DIM2=100,\n",
        "    NON_LINEARITY=F.relu,\n",
        "    \n",
        "    # training \n",
        "    EPOCHS=5,\n",
        "    BATCH_SIZE=128,\n",
        "    LEARNING_RATE=0.001,\n",
        "    WEIGHT_DECAY=0.000,\n",
        "    CLIP_TYPE = 'value',\n",
        "    CLIP_VALUE = 10,\n",
        "    PATIENCE=5,\n",
        "    MOMENTUM=0,  \n",
        ")"
      ],
      "metadata": {
        "id": "jHqulM93Ovrf"
      },
      "execution_count": 1174,
      "outputs": []
    },
    {
      "cell_type": "code",
      "source": [],
      "metadata": {
        "id": "V6vcrQFljyuf"
      },
      "execution_count": 1174,
      "outputs": []
    },
    {
      "cell_type": "markdown",
      "source": [
        "#Trainer Configuration"
      ],
      "metadata": {
        "id": "Bxoww9DhPvJF"
      }
    },
    {
      "cell_type": "code",
      "source": [
        "def collate_batch_multilabel(batch, vocab, num_classes):\n",
        "    labels, texts = zip(*batch)\n",
        "    labels = torch.tensor(labels, dtype=torch.float32)\n",
        "    #labels = torch.tensor(labels, dtype=torch.float32).to(torch.float32)\n",
        "    labels = torch.nn.functional.one_hot(labels.to(torch.int64), num_classes=num_classes)\n",
        "\n",
        "    list_of_list_of_indices = [text_pipeline(text, vocab) for text in texts]\n",
        "\n",
        "    offsets = [0] + [len(i) for i in list_of_list_of_indices]\n",
        "    offsets = torch.tensor(offsets[:-1]).cumsum(dim=0)\n",
        "    texts = torch.cat([torch.tensor(i, dtype=torch.int64) for i in list_of_list_of_indices])\n",
        "\n",
        "    return (texts, offsets), labels.to(torch.float32)"
      ],
      "metadata": {
        "id": "IdONRbhvkBHx"
      },
      "execution_count": 1175,
      "outputs": []
    },
    {
      "cell_type": "code",
      "source": [
        "# Fix seed value\n",
        "Trainer.set_seed()\n",
        "\n",
        "collate_fn = partial(collate_batch, vocab=multilabel_vocab)\n",
        "train_loader = torch.utils.data.DataLoader(dataset=trainset,\n",
        "                                           batch_size=hyperparameters.BATCH_SIZE,\n",
        "                                           collate_fn=lambda batch: collate_batch_multilabel(batch, multilabel_vocab, 10),\n",
        "                                           shuffle=True)\n",
        "\n",
        "valid_loader = torch.utils.data.DataLoader(dataset=validset,\n",
        "                                           batch_size=hyperparameters.BATCH_SIZE,\n",
        "                                           collate_fn=lambda batch: collate_batch_multilabel(batch, multilabel_vocab, 10),\n",
        "                                           shuffle=False)\n",
        "\n",
        "# Data Loader\n",
        "#train_loader, valid_loader = get_loaders(trainset, validset, batch_size_= hyperparameters.BATCH_SIZE, \n",
        "                                        # collate_fn=collate_fn)\n",
        "\n",
        "# cross entropy loss function\n",
        "#loss_function = nn.CrossEntropyLoss()\n",
        "loss_function = torch.nn.BCEWithLogitsLoss()\n",
        "# model\n",
        "model_imdb = MLPCustom(hyperparameters.EMBED_DIM,\n",
        "                       hyperparameters.VOCAB_SIZE,\n",
        "                       hyperparameters.HIDDEN_DIM1,\n",
        "                       hyperparameters.HIDDEN_DIM2,\n",
        "                       hyperparameters.OUTPUT_DIM,\n",
        "                       hyperparameters.NON_LINEARITY)\n",
        "\n",
        "def init_weights(m):\n",
        "    if type(m) == nn.Linear:\n",
        "        torch.nn.init.kaiming_normal_(m.weight)\n",
        "        torch.nn.init.zeros_(m.bias)\n",
        "\n",
        "\n",
        "# apply initialization recursively  to all modules\n",
        "model_imdb.apply(init_weights)\n",
        "\n",
        "# Intialize stochiastic gradient descent optimizer\n",
        "optimizer = torch.optim.Adam(model_imdb.parameters(),\n",
        "                             lr=hyperparameters.LEARNING_RATE,\n",
        "                             weight_decay=hyperparameters.WEIGHT_DECAY,\n",
        "                             )\n",
        "device = torch.device('cuda:0' if torch.cuda.is_available() else 'cpu')"
      ],
      "metadata": {
        "id": "BCIHHBEKoyjH"
      },
      "execution_count": 1176,
      "outputs": []
    },
    {
      "cell_type": "code",
      "source": [
        "#print(train_loader.shape, train_loader.shape)\n",
        "#for inputs, targets in train_loader:\n",
        " # print(inputs, targets.size())\n",
        " # break"
      ],
      "metadata": {
        "id": "mpLBXT3pj4_W"
      },
      "execution_count": 1177,
      "outputs": []
    },
    {
      "cell_type": "markdown",
      "source": [
        "#Training Model"
      ],
      "metadata": {
        "id": "D_i3Q8ygQPv3"
      }
    },
    {
      "cell_type": "code",
      "source": [
        "trainer = Trainer(model=model_imdb, optimizer=optimizer,\n",
        "                  criterion=loss_function, device=device)"
      ],
      "metadata": {
        "id": "hJyQaLgkQUCH"
      },
      "execution_count": 1178,
      "outputs": []
    },
    {
      "cell_type": "code",
      "source": [
        "#from torchmetrics.classification import Accuracy\n",
        "from torchmetrics.classification import HammingDistance\n",
        "run_folder = assignment_fldr/'rev2'\n",
        "run_folder.mkdir(exist_ok=True)\n",
        "\n",
        "# set loaders\n",
        "trainer.set_loaders(train_loader, valid_loader)\n",
        "\n",
        "# set metric -- OPTIONAL\n",
        "#train_metric = Accuracy(task='binary')\n",
        "train_metric = HammingDistance(mode='multilabel',task='multilabel', num_labels=10,compute_on_step=False)\n",
        "#valid_metric = Accuracy(task='binary')\n",
        "valid_metric = HammingDistance(mode='multilabel',task='multilabel', num_labels=10,compute_on_step=False)\n",
        "trainer.set_metric(train_metric.to(device), valid_metric.to(device))\n",
        "\n",
        "# set checkpoint -- OPTIONAL\n",
        "trainer.set_checkpoint(save_path=run_folder,\n",
        "                       save_best=True, save_every_n_epochs=5, save_last_epoch=False)\n",
        "\n",
        "# set early stopping -- OPTIONAL\n",
        "trainer.set_early_stopping(patience = hyperparameters.PATIENCE)\n",
        "\n",
        "# set gradient Clipping  -- OPTIONAL\n",
        "# trainer.set_gradient_clipping(hyperparameters.CLIP_TYPE, hyperparameters.CLIP_VALUE, norm_type=2)"
      ],
      "metadata": {
        "id": "tAmN1W-TQcgo"
      },
      "execution_count": 1179,
      "outputs": []
    },
    {
      "cell_type": "code",
      "source": [
        "for (text, offsets) , labels in train_loader:\n",
        "  print(labels, text, offsets)\n",
        "  break"
      ],
      "metadata": {
        "id": "XfdDWT9PmLRN",
        "colab": {
          "base_uri": "https://localhost:8080/"
        },
        "outputId": "39eb0c29-918c-43cf-fb29-bbf2f41fd1e6"
      },
      "execution_count": 1180,
      "outputs": [
        {
          "output_type": "stream",
          "name": "stdout",
          "text": [
            "tensor([[0., 1., 0.,  ..., 0., 0., 0.],\n",
            "        [1., 0., 0.,  ..., 0., 0., 0.],\n",
            "        [0., 1., 0.,  ..., 0., 0., 0.],\n",
            "        ...,\n",
            "        [1., 0., 0.,  ..., 0., 0., 0.],\n",
            "        [1., 0., 0.,  ..., 0., 0., 0.],\n",
            "        [1., 0., 0.,  ..., 0., 0., 0.]]) tensor([  139,  1599,  2177,  ..., 22546,     0,    40]) tensor([   0,   61,  280,  382,  421,  483,  850,  864,  898,  924,  941,  973,\n",
            "        1072, 1171, 1212, 1308, 1407, 1483, 1508, 1582, 1630, 1691, 1735, 1759,\n",
            "        1946, 1982, 2029, 2158, 2216, 2337, 2362, 2451, 2593, 2616, 2652, 2673,\n",
            "        2705, 2749, 2804, 2873, 2929, 2958, 3022, 3058, 3133, 3224, 3279, 3317,\n",
            "        3547, 3566, 3597, 3651, 3710, 3727, 3743, 3835, 3869, 3886, 4093, 4181,\n",
            "        4205, 4225, 4249, 4300, 4338, 4368, 4383, 4506, 4580, 4617, 4687, 4728,\n",
            "        5222, 5442, 5465, 5516, 5529, 5564, 5585, 5630, 5692, 5712, 5813, 5883,\n",
            "        5903, 5972, 6023, 6064, 6174, 6208, 6251, 6319, 6360, 6506, 6664, 6775,\n",
            "        6888, 6977, 6997, 7013, 7125, 7219, 7314, 7338, 7339, 7430, 7673, 7702,\n",
            "        7740, 7757, 7778, 7908, 7944, 8077, 8111, 8153, 8181, 8250, 8304, 8499,\n",
            "        8529, 8545, 8651, 8829, 8872, 9191, 9229, 9261])\n"
          ]
        }
      ]
    },
    {
      "cell_type": "code",
      "source": [
        "trainer.sanity_check(num_classes=2)"
      ],
      "metadata": {
        "id": "lbRc3MKcRAKC",
        "colab": {
          "base_uri": "https://localhost:8080/"
        },
        "outputId": "2c975336-32ea-4e8d-8c21-5f788e939b26"
      },
      "execution_count": 1181,
      "outputs": [
        {
          "output_type": "stream",
          "name": "stdout",
          "text": [
            "Actual loss: 0.6936160326004028\n",
            "Expected Theoretical loss: 0.6931471805599453\n"
          ]
        }
      ]
    },
    {
      "cell_type": "code",
      "source": [
        "trainer.train(num_epochs=hyperparameters.EPOCHS, multilabel=True)"
      ],
      "metadata": {
        "id": "vX0wRIdJREc6",
        "colab": {
          "base_uri": "https://localhost:8080/"
        },
        "outputId": "05b41af3-e4f8-4a70-bd15-34f32c6f3ab4"
      },
      "execution_count": 1182,
      "outputs": [
        {
          "output_type": "stream",
          "name": "stdout",
          "text": [
            "Epoch 1/5 - Train Loss: 0.5552, Train Metric: 0.2600, Train Time: 0:01:04.825646\n",
            "Epoch 1/5 - Val Loss: 0.1335, Val Metric: 0.0269, Val Time: 0:00:00.913820\n",
            "\n",
            "Epoch 2/5 - Train Loss: 0.1078, Train Metric: 0.0304, Train Time: 0:00:50.099416\n",
            "Epoch 2/5 - Val Loss: 0.0550, Val Metric: 0.0193, Val Time: 0:00:00.966851\n",
            "\n",
            "Epoch 3/5 - Train Loss: 0.0597, Train Metric: 0.0202, Train Time: 0:00:50.125130\n",
            "Epoch 3/5 - Val Loss: 0.0454, Val Metric: 0.0171, Val Time: 0:00:00.953583\n",
            "\n",
            "Epoch 4/5 - Train Loss: 0.0442, Train Metric: 0.0149, Train Time: 0:00:58.928315\n",
            "Epoch 4/5 - Val Loss: 0.0390, Val Metric: 0.0146, Val Time: 0:00:00.950769\n",
            "\n",
            "Epoch 5/5 - Train Loss: 0.0352, Train Metric: 0.0122, Train Time: 0:00:48.752565\n",
            "Epoch 5/5 - Val Loss: 0.0368, Val Metric: 0.0140, Val Time: 0:00:00.926721\n",
            "\n"
          ]
        }
      ]
    },
    {
      "cell_type": "code",
      "source": [
        "trainer.plot_history()"
      ],
      "metadata": {
        "id": "UsSEIC6dmgN8",
        "colab": {
          "base_uri": "https://localhost:8080/",
          "height": 881
        },
        "outputId": "74b21064-5f57-47d0-9a52-8ede5496ed3b"
      },
      "execution_count": 1183,
      "outputs": [
        {
          "output_type": "display_data",
          "data": {
            "text/plain": [
              "<Figure size 640x480 with 1 Axes>"
            ],
            "image/png": "[encoded data removed]"
          },
          "metadata": {}
        },
        {
          "output_type": "display_data",
          "data": {
            "text/plain": [
              "<Figure size 640x480 with 1 Axes>"
            ],
            "image/png": "[encoded data removed]"
          },
          "metadata": {}
        }
      ]
    },
    {
      "cell_type": "code",
      "source": [
        "trainer.best_epoch"
      ],
      "metadata": {
        "id": "N7AjYIIBmmf0",
        "colab": {
          "base_uri": "https://localhost:8080/"
        },
        "outputId": "e829b15e-55e5-48c8-99ab-620a95f521a2"
      },
      "execution_count": 1184,
      "outputs": [
        {
          "output_type": "execute_result",
          "data": {
            "text/plain": [
              "5"
            ]
          },
          "metadata": {},
          "execution_count": 1184
        }
      ]
    },
    {
      "cell_type": "markdown",
      "source": [
        "#Get Accuracy, Predictions"
      ],
      "metadata": {
        "id": "cMVMdF1Fmq1N"
      }
    },
    {
      "cell_type": "code",
      "source": [
        "testset = CustomDataset(X_test, y_test)"
      ],
      "metadata": {
        "id": "tW0F0JwDmo-N"
      },
      "execution_count": 1185,
      "outputs": []
    },
    {
      "cell_type": "code",
      "source": [
        "test_loader = get_test_loaders(testset, batch_size_=hyperparameters.BATCH_SIZE,\n",
        "                               collate_fn=collate_fn)"
      ],
      "metadata": {
        "id": "1-UxWIofmyjT"
      },
      "execution_count": 1186,
      "outputs": []
    },
    {
      "cell_type": "code",
      "source": [
        "# Get the prediction and accuracy for the test dataset\n",
        "\n",
        "predictions_test, target_test = trainer.predict(\n",
        "    test_loader, return_targets=True)\n",
        "predictions_train, target_train = trainer.predict(\n",
        "    train_loader, return_targets=True)\n",
        "predictions_valid, target_valid = trainer.predict(\n",
        "    valid_loader, return_targets=True)\n"
      ],
      "metadata": {
        "id": "Tiht4zHDm6DL"
      },
      "execution_count": 1187,
      "outputs": []
    },
    {
      "cell_type": "code",
      "source": [
        "import torchmetrics\n",
        "metric = torchmetrics.functional.accuracy\n",
        "acc_train = metric(predictions_train, target_train,\n",
        "                   task='multiclass', num_classes=10)\n",
        "acc_valid = metric(predictions_valid, target_valid,\n",
        "                   task='multiclass', num_classes=10)\n",
        "acc_test = metric(predictions_test, target_test,\n",
        "                  task='multiclass', num_classes=10)"
      ],
      "metadata": {
        "id": "yjl98LkpnjGa",
        "colab": {
          "base_uri": "https://localhost:8080/",
          "height": 415
        },
        "outputId": "f31be42e-f524-4792-a8dc-0a9a90027b4a"
      },
      "execution_count": 1188,
      "outputs": [
        {
          "output_type": "error",
          "ename": "ValueError",
          "evalue": "ignored",
          "traceback": [
            "\u001b[0;31m---------------------------------------------------------------------------\u001b[0m",
            "\u001b[0;31mValueError\u001b[0m                                Traceback (most recent call last)",
            "\u001b[0;32m<ipython-input-1188-2289affe8581>\u001b[0m in \u001b[0;36m<cell line: 3>\u001b[0;34m()\u001b[0m\n\u001b[1;32m      1\u001b[0m \u001b[0;32mimport\u001b[0m \u001b[0mtorchmetrics\u001b[0m\u001b[0;34m\u001b[0m\u001b[0;34m\u001b[0m\u001b[0m\n\u001b[1;32m      2\u001b[0m \u001b[0mmetric\u001b[0m \u001b[0;34m=\u001b[0m \u001b[0mtorchmetrics\u001b[0m\u001b[0;34m.\u001b[0m\u001b[0mfunctional\u001b[0m\u001b[0;34m.\u001b[0m\u001b[0maccuracy\u001b[0m\u001b[0;34m\u001b[0m\u001b[0;34m\u001b[0m\u001b[0m\n\u001b[0;32m----> 3\u001b[0;31m acc_train = metric(predictions_train, target_train,\n\u001b[0m\u001b[1;32m      4\u001b[0m                    task='multiclass', num_classes=10)\n\u001b[1;32m      5\u001b[0m acc_valid = metric(predictions_valid, target_valid,\n",
            "\u001b[0;32m/usr/local/lib/python3.9/dist-packages/torchmetrics/functional/classification/accuracy.py\u001b[0m in \u001b[0;36maccuracy\u001b[0;34m(preds, target, task, threshold, num_classes, num_labels, average, multidim_average, top_k, ignore_index, validate_args)\u001b[0m\n\u001b[1;32m    416\u001b[0m         \u001b[0;32massert\u001b[0m \u001b[0misinstance\u001b[0m\u001b[0;34m(\u001b[0m\u001b[0mnum_classes\u001b[0m\u001b[0;34m,\u001b[0m \u001b[0mint\u001b[0m\u001b[0;34m)\u001b[0m\u001b[0;34m\u001b[0m\u001b[0;34m\u001b[0m\u001b[0m\n\u001b[1;32m    417\u001b[0m         \u001b[0;32massert\u001b[0m \u001b[0misinstance\u001b[0m\u001b[0;34m(\u001b[0m\u001b[0mtop_k\u001b[0m\u001b[0;34m,\u001b[0m \u001b[0mint\u001b[0m\u001b[0;34m)\u001b[0m\u001b[0;34m\u001b[0m\u001b[0;34m\u001b[0m\u001b[0m\n\u001b[0;32m--> 418\u001b[0;31m         return multiclass_accuracy(\n\u001b[0m\u001b[1;32m    419\u001b[0m             \u001b[0mpreds\u001b[0m\u001b[0;34m,\u001b[0m \u001b[0mtarget\u001b[0m\u001b[0;34m,\u001b[0m \u001b[0mnum_classes\u001b[0m\u001b[0;34m,\u001b[0m \u001b[0maverage\u001b[0m\u001b[0;34m,\u001b[0m \u001b[0mtop_k\u001b[0m\u001b[0;34m,\u001b[0m \u001b[0mmultidim_average\u001b[0m\u001b[0;34m,\u001b[0m \u001b[0mignore_index\u001b[0m\u001b[0;34m,\u001b[0m \u001b[0mvalidate_args\u001b[0m\u001b[0;34m\u001b[0m\u001b[0;34m\u001b[0m\u001b[0m\n\u001b[1;32m    420\u001b[0m         )\n",
            "\u001b[0;32m/usr/local/lib/python3.9/dist-packages/torchmetrics/functional/classification/accuracy.py\u001b[0m in \u001b[0;36mmulticlass_accuracy\u001b[0;34m(preds, target, num_classes, average, top_k, multidim_average, ignore_index, validate_args)\u001b[0m\n\u001b[1;32m    261\u001b[0m     \u001b[0;32mif\u001b[0m \u001b[0mvalidate_args\u001b[0m\u001b[0;34m:\u001b[0m\u001b[0;34m\u001b[0m\u001b[0;34m\u001b[0m\u001b[0m\n\u001b[1;32m    262\u001b[0m         \u001b[0m_multiclass_stat_scores_arg_validation\u001b[0m\u001b[0;34m(\u001b[0m\u001b[0mnum_classes\u001b[0m\u001b[0;34m,\u001b[0m \u001b[0mtop_k\u001b[0m\u001b[0;34m,\u001b[0m \u001b[0maverage\u001b[0m\u001b[0;34m,\u001b[0m \u001b[0mmultidim_average\u001b[0m\u001b[0;34m,\u001b[0m \u001b[0mignore_index\u001b[0m\u001b[0;34m)\u001b[0m\u001b[0;34m\u001b[0m\u001b[0;34m\u001b[0m\u001b[0m\n\u001b[0;32m--> 263\u001b[0;31m         \u001b[0m_multiclass_stat_scores_tensor_validation\u001b[0m\u001b[0;34m(\u001b[0m\u001b[0mpreds\u001b[0m\u001b[0;34m,\u001b[0m \u001b[0mtarget\u001b[0m\u001b[0;34m,\u001b[0m \u001b[0mnum_classes\u001b[0m\u001b[0;34m,\u001b[0m \u001b[0mmultidim_average\u001b[0m\u001b[0;34m,\u001b[0m \u001b[0mignore_index\u001b[0m\u001b[0;34m)\u001b[0m\u001b[0;34m\u001b[0m\u001b[0;34m\u001b[0m\u001b[0m\n\u001b[0m\u001b[1;32m    264\u001b[0m     \u001b[0mpreds\u001b[0m\u001b[0;34m,\u001b[0m \u001b[0mtarget\u001b[0m \u001b[0;34m=\u001b[0m \u001b[0m_multiclass_stat_scores_format\u001b[0m\u001b[0;34m(\u001b[0m\u001b[0mpreds\u001b[0m\u001b[0;34m,\u001b[0m \u001b[0mtarget\u001b[0m\u001b[0;34m,\u001b[0m \u001b[0mtop_k\u001b[0m\u001b[0;34m)\u001b[0m\u001b[0;34m\u001b[0m\u001b[0;34m\u001b[0m\u001b[0m\n\u001b[1;32m    265\u001b[0m     tp, fp, tn, fn = _multiclass_stat_scores_update(\n",
            "\u001b[0;32m/usr/local/lib/python3.9/dist-packages/torchmetrics/functional/classification/stat_scores.py\u001b[0m in \u001b[0;36m_multiclass_stat_scores_tensor_validation\u001b[0;34m(preds, target, num_classes, multidim_average, ignore_index)\u001b[0m\n\u001b[1;32m    296\u001b[0m             )\n\u001b[1;32m    297\u001b[0m     \u001b[0;32melse\u001b[0m\u001b[0;34m:\u001b[0m\u001b[0;34m\u001b[0m\u001b[0;34m\u001b[0m\u001b[0m\n\u001b[0;32m--> 298\u001b[0;31m         raise ValueError(\n\u001b[0m\u001b[1;32m    299\u001b[0m             \u001b[0;34m\"Either `preds` and `target` both should have the (same) shape (N, ...), or `target` should be (N, ...)\"\u001b[0m\u001b[0;34m\u001b[0m\u001b[0;34m\u001b[0m\u001b[0m\n\u001b[1;32m    300\u001b[0m             \u001b[0;34m\" and `preds` should be (N, C, ...).\"\u001b[0m\u001b[0;34m\u001b[0m\u001b[0;34m\u001b[0m\u001b[0m\n",
            "\u001b[0;31mValueError\u001b[0m: Either `preds` and `target` both should have the (same) shape (N, ...), or `target` should be (N, ...) and `preds` should be (N, C, ...)."
          ]
        }
      ]
    },
    {
      "cell_type": "code",
      "source": [
        "# Print Test Accuracy\n",
        "print('Test accuracy', acc_test * 100)\n",
        "print('Train accuracy', acc_train * 100)\n",
        "print('Valid accuracy', acc_valid * 100)"
      ],
      "metadata": {
        "id": "CaKl1OUGnsnS"
      },
      "execution_count": null,
      "outputs": []
    },
    {
      "cell_type": "code",
      "source": [
        "from sklearn.metrics import accuracy_score, f1_score\n",
        "print(accuracy_score(predictions_test, target_test)*100)\n",
        "print(accuracy_score(predictions_train, target_train)*100)\n",
        "print(accuracy_score(predictions_valid, target_valid)*100)"
      ],
      "metadata": {
        "id": "kahxGQvxn_Lq"
      },
      "execution_count": null,
      "outputs": []
    },
    {
      "cell_type": "code",
      "source": [
        "metric = torchmetrics.functional.f1_score\n",
        "f1_train = metric(predictions_train, target_train,\n",
        "                  task='multiclass', num_classes=10)\n",
        "f1_valid = metric(predictions_valid, target_valid,\n",
        "                  task='multiclass', num_classes=10)\n",
        "f1_test = metric(predictions_test, target_test,\n",
        "                 task='multiclass', num_classes=10)"
      ],
      "metadata": {
        "id": "pYWcOnGmoI5R"
      },
      "execution_count": null,
      "outputs": []
    },
    {
      "cell_type": "code",
      "source": [
        "# Print Test Accuracy\n",
        "print('Test f1score', f1_test * 100)\n",
        "print('Train f1score', f1_train * 100)\n",
        "print('Valid f1score', f1_valid * 100)"
      ],
      "metadata": {
        "id": "ZIAqaoqdoOxx"
      },
      "execution_count": null,
      "outputs": []
    },
    {
      "cell_type": "code",
      "source": [
        "print(f1_score(predictions_test.numpy(), target_test.numpy(), average='micro') * 100)\n",
        "print(f1_score(predictions_train.numpy(),\n",
        "      target_train.numpy(), average='micro') * 100)\n",
        "print(f1_score(predictions_valid.numpy(),\n",
        "      target_valid.numpy(), average='micro') * 100)"
      ],
      "metadata": {
        "id": "ff_8AshHoRqh"
      },
      "execution_count": null,
      "outputs": []
    }
  ]
}