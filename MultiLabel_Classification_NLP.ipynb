{
  "nbformat": 4,
  "nbformat_minor": 0,
  "metadata": {
    "colab": {
      "provenance": [],
      "authorship_tag": "ABX9TyMo4/s3YbkGB3nBSaXCURIl",
      "include_colab_link": true
    },
    "kernelspec": {
      "name": "python3",
      "display_name": "Python 3"
    },
    "language_info": {
      "name": "python"
    }
  },
  "cells": [
    {
      "cell_type": "markdown",
      "metadata": {
        "id": "view-in-github",
        "colab_type": "text"
      },
      "source": [
        "<a href=\"https://colab.research.google.com/github/parimalakettymuthu/MachineLearning-Projects/blob/main/MultiLabel_Classification_NLP.ipynb\" target=\"_parent\"><img src=\"https://colab.research.google.com/assets/colab-badge.svg\" alt=\"Open In Colab\"/></a>"
      ]
    },
    {
      "cell_type": "code",
      "source": [
        "%load_ext autoreload\n",
        "%autoreload 2"
      ],
      "metadata": {
        "id": "0hAyTHurT-lH",
        "colab": {
          "base_uri": "https://localhost:8080/"
        },
        "outputId": "9a54b347-7963-493e-ff5c-a133e44b2f99"
      },
      "execution_count": 501,
      "outputs": [
        {
          "output_type": "stream",
          "name": "stdout",
          "text": [
            "The autoreload extension is already loaded. To reload it, use:\n",
            "  %reload_ext autoreload\n"
          ]
        }
      ]
    },
    {
      "cell_type": "code",
      "source": [
        "import sys \n",
        "#sys.path.append('/content/drive/MyDrive/NLP/custom-functions')"
      ],
      "metadata": {
        "id": "zT63hu4OUC82"
      },
      "execution_count": 502,
      "outputs": []
    },
    {
      "cell_type": "code",
      "execution_count": 503,
      "metadata": {
        "id": "3Kdp7KNWRxSa"
      },
      "outputs": [],
      "source": [
        "import pandas as pd\n",
        "from pathlib import Path\n",
        "import joblib\n",
        "# Importing the necessary libraries\n",
        "import torch\n",
        "import torch.nn as nn\n",
        "import torch.nn.functional as F\n",
        "from torchtext.vocab import  vocab\n",
        "\n",
        "import random\n",
        "import numpy as np\n",
        "import pandas as pd\n",
        "import joblib\n",
        "from collections import Counter\n",
        "\n",
        "\n",
        "from pathlib import Path\n",
        "import sys\n",
        "\n",
        "from sklearn.model_selection import train_test_split\n",
        "!pip install wandb -qq\n",
        "import wandb"
      ]
    },
    {
      "cell_type": "code",
      "source": [
        "if 'google.colab' in str(get_ipython()):\n",
        "  from google.colab import drive\n",
        "  drive.mount('/content/drive')   \n",
        "  base_path = '/content/drive/MyDrive/NLP'\n",
        "  sys.path.append('/content/drive/MyDrive/NLP/user-defined-fns')\n",
        "  sys.path.append('/content/drive/MyDrive/NLP/user-defined-fn')\n",
        "  sys.path.append('/content/drive/MyDrive/NLP/user-defined')"
      ],
      "metadata": {
        "colab": {
          "base_uri": "https://localhost:8080/"
        },
        "id": "vEqI31NGSB8E",
        "outputId": "10d0b366-bef1-4d02-e5e5-333cf980d9a7"
      },
      "execution_count": 504,
      "outputs": [
        {
          "output_type": "stream",
          "name": "stdout",
          "text": [
            "Drive already mounted at /content/drive; to attempt to forcibly remount, call drive.mount(\"/content/drive\", force_remount=True).\n"
          ]
        }
      ]
    },
    {
      "cell_type": "code",
      "source": [
        "base_folder = Path(base_path)\n",
        "assignment_fldr = base_folder/ 'assignment6'\n",
        "custom_fldr = base_folder/ 'user-defined-fn'\n",
        "\n",
        "#Check contents in data folder\n",
        "for entries in custom_fldr.iterdir():\n",
        "  print(entries.name)"
      ],
      "metadata": {
        "colab": {
          "base_uri": "https://localhost:8080/"
        },
        "id": "3-o_n-FkS2qs",
        "outputId": "c3457421-48d2-4b05-8f73-d36a101e555c"
      },
      "execution_count": 505,
      "outputs": [
        {
          "output_type": "stream",
          "name": "stdout",
          "text": [
            "data_preparation_imdb_rev0.py\n",
            ".ipynb_checkpoints\n",
            "__pycache__\n"
          ]
        }
      ]
    },
    {
      "cell_type": "code",
      "source": [
        "#sys.path.append('/content/drive/MyDrive/NLP/custom-functions')\n",
        "sys.path = list(set(sys.path))"
      ],
      "metadata": {
        "id": "cUbDeEuAmSGX"
      },
      "execution_count": 506,
      "outputs": []
    },
    {
      "cell_type": "code",
      "source": [
        "sys.path"
      ],
      "metadata": {
        "colab": {
          "base_uri": "https://localhost:8080/"
        },
        "id": "63DrEKz6mVWO",
        "outputId": "f4d450ff-0dc6-42d7-fc16-894b205019ba"
      },
      "execution_count": 507,
      "outputs": [
        {
          "output_type": "execute_result",
          "data": {
            "text/plain": [
              "['',\n",
              " '/root/.ipython',\n",
              " '/content/drive/MyDrive/NLP/user-defined',\n",
              " '/content/drive/MyDrive/NLP/user-defined-fns',\n",
              " '/content',\n",
              " '/content/drive/MyDrive/NLP/user-defined-fn',\n",
              " '/usr/lib/python3.9',\n",
              " '/usr/lib/python3.9/lib-dynload',\n",
              " '/usr/local/lib/python3.9/dist-packages',\n",
              " '/usr/local/lib/python3.9/dist-packages/IPython/extensions',\n",
              " '/usr/lib/python39.zip',\n",
              " '/usr/lib/python3/dist-packages',\n",
              " '/env/python']"
            ]
          },
          "metadata": {},
          "execution_count": 507
        }
      ]
    },
    {
      "cell_type": "code",
      "source": [
        "!pip install torchmetrics -qq"
      ],
      "metadata": {
        "id": "Qdu0GC2FG-v7"
      },
      "execution_count": 508,
      "outputs": []
    },
    {
      "cell_type": "code",
      "source": [
        "from Trainer_v2 import Trainer\n",
        "from ff_3_layer_sequential_model import MLPCustom"
      ],
      "metadata": {
        "id": "C29fXsrflwoO"
      },
      "execution_count": 509,
      "outputs": []
    },
    {
      "cell_type": "code",
      "source": [
        "from data_preparation_imdb_rev0 import *"
      ],
      "metadata": {
        "id": "KegW-cQiIjui"
      },
      "execution_count": 510,
      "outputs": []
    },
    {
      "cell_type": "code",
      "source": [
        "df_multilable_data = assignment_fldr/ 'df_multilabel_hw_cleaned.joblib'\n",
        "multiLabel_Data = joblib.load(df_multilable_data)"
      ],
      "metadata": {
        "id": "8CMy-nX9TQvM"
      },
      "execution_count": 511,
      "outputs": []
    },
    {
      "cell_type": "code",
      "source": [
        "multiLabel_Data.columns"
      ],
      "metadata": {
        "id": "hFG1VYkjadBh",
        "colab": {
          "base_uri": "https://localhost:8080/"
        },
        "outputId": "21364efc-9814-47e6-ceb8-c35249b371ec"
      },
      "execution_count": 512,
      "outputs": [
        {
          "output_type": "execute_result",
          "data": {
            "text/plain": [
              "Index(['cleaned_text', 'Tags', 'Tag_Number'], dtype='object')"
            ]
          },
          "metadata": {},
          "execution_count": 512
        }
      ]
    },
    {
      "cell_type": "code",
      "source": [
        "multiLabel_Data.shape"
      ],
      "metadata": {
        "id": "qM9YdVq5air3",
        "colab": {
          "base_uri": "https://localhost:8080/"
        },
        "outputId": "b6ad05b3-4226-4f9b-91d0-63acbafe070c"
      },
      "execution_count": 513,
      "outputs": [
        {
          "output_type": "execute_result",
          "data": {
            "text/plain": [
              "(47427, 3)"
            ]
          },
          "metadata": {},
          "execution_count": 513
        }
      ]
    },
    {
      "cell_type": "code",
      "source": [
        "print(set(multiLabel_Data['Tag_Number']))"
      ],
      "metadata": {
        "colab": {
          "base_uri": "https://localhost:8080/"
        },
        "id": "zIJIeqfYpZeG",
        "outputId": "ce39e462-6605-4c9e-cff5-764998dd7577"
      },
      "execution_count": 514,
      "outputs": [
        {
          "output_type": "stream",
          "name": "stdout",
          "text": [
            "{'[0, 2, 3, 9, 6]', '[0, 2, 5, 9]', '[2, 3, 5, 9]', '[0, 1, 3, 5]', '[8, 6]', '[0, 2, 3, 9, 5]', '[2, 5, 7]', '[0, 1, 2, 3, 4]', '[3, 5, 9]', '[3, 5]', '[0, 3, 9, 5]', '[0, 9, 3]', '[7, 3]', '[0, 6]', '[3, 4, 5, 8]', '[0, 3]', '[1, 2, 3, 6, 7]', '[4, 1]', '[0, 2, 3, 5, 9]', '[2, 9]', '[4, 5]', '[1, 2, 3, 5]', '[2, 4]', '[2, 3]', '[0, 2, 9]', '[0, 8]', '[0, 1, 7]', '[4, 8]', '[1, 2, 9]', '[9, 3, 5]', '[1, 8, 9, 4]', '[1, 2, 5]', '[0, 1, 2, 3, 5]', '[3, 9, 4]', '[2, 5, 3]', '[3, 5, 4]', '[3, 9, 5]', '[2, 3, 6]', '[0, 2, 3, 9]', '[0, 6, 7]', '[1, 4, 9]', '[3, 6]', '[8, 4, 7]', '[0, 8, 4]', '[0, 9, 8]', '[3, 8, 9]', '[9, 3]', '[2, 3, 8]', '[0, 2, 3, 6]', '[2, 3, 7]', '[1, 4, 6]', '[1, 6, 8]', '[0, 8, 9]', '[0, 5, 3]', '[1, 2, 4]', '[0, 9]', '[0, 7]', '[2, 3, 5]', '[3, 5, 8]', '[1, 2, 3, 4]', '[0, 2, 3]', '[0, 1, 2, 9]', '[0, 3, 5]', '[1, 2, 7]', '[3, 7]', '[0, 9, 7]', '[6, 2]', '[0, 4]', '[0, 9, 6]', '[0, 4, 8, 9]', '[0, 4, 9]', '[5, 7]', '[1, 3, 6]', '[1, 6]', '[1, 8]', '[1, 3, 5, 4]', '[0, 1, 3]', '[1, 0, 6]', '[9, 8]', '[1, 4]', '[2, 3, 5, 4]', '[0, 1, 3, 4]', '[0, 9, 5]', '[0, 3, 4, 9]', '[8, 9]', '[2, 8, 4]', '[4, 6]', '[5, 4]', '[0, 5]', '[6, 4]', '[4, 8, 9]', '[2, 9, 3]', '[0, 5, 9]', '[3, 8]', '[1, 2, 3, 7]', '[6, 8]', '[3, 2]', '[1, 5]', '[1, 6, 7]', '[4, 9]', '[1, 2, 8, 6, 4]', '[2, 1, 7, 3]', '[2, 8]', '[0, 1, 6, 4]', '[0, 1, 5]', '[1, 2, 6]', '[9, 7]', '[0, 1, 6]', '[1, 3, 4]', '[0, 9, 3, 5]', '[2, 7]', '[0, 1]', '[0, 1, 4]', '[0, 6, 9]', '[4, 7]', '[5, 9, 4]', '[1, 7]', '[1, 2, 3]', '[3, 8, 6]', '[0, 2]', '[5, 9]', '[0, 2, 3, 5]', '[1, 4, 7]', '[3, 5, 8, 4]', '[1, 4, 6, 8]', '[1, 3, 5]', '[2, 1]', '[1, 8, 4]', '[2, 4, 8]', '[0, 2, 6]', '[8, 7]', '[3, 4]', '[5, 3]', '[2, 3, 4]', '[1, 6, 4]', '[2, 6]', '[0, 1, 8]', '[6, 3]', '[1, 3, 4, 5]', '[2, 5]', '[0, 2, 9, 5]', '[3, 9]', '[3, 4, 5]', '[3, 5, 7]', '[3, 8, 4]', '[0, 3, 9]', '[3, 5, 4, 9]', '[1, 3, 9, 6]', '[1, 3, 9]', '[2, 0]', '[1, 0, 4]', '[1, 9]', '[5, 2]', '[0, 1, 2]', '[2, 9, 5]', '[0, 3, 5, 9]', '[1, 4, 8]', '[3, 9, 5, 6]', '[0, 3, 6]', '[9, 0]', '[2, 5, 9]', '[1, 2]', '[9, 5]', '[2, 5, 4]', '[5, 8]', '[0, 1, 2, 3]', '[2, 3, 9]', '[1, 3, 7]', '[0, 1, 3, 6, 7]', '[1, 3]', '[0, 1, 9]', '[0, 1, 3, 7]', '[7, 4]', '[6, 7]', '[1, 0]', '[8, 4]'}\n"
          ]
        }
      ]
    },
    {
      "cell_type": "code",
      "source": [
        "import ast\n",
        "# assume 'df' is your pandas DataFrame\n",
        "multiLabel_Data['Tag_Number'] = multiLabel_Data['Tag_Number'].apply(lambda x: [int(i) for i in ast.literal_eval(x)])"
      ],
      "metadata": {
        "id": "9aTsr8lshC_w"
      },
      "execution_count": 515,
      "outputs": []
    },
    {
      "cell_type": "code",
      "source": [
        "from sklearn.preprocessing import MultiLabelBinarizer\n",
        "\n",
        "# assume 'labels' is your list of labels (i.e., 'Tag_Number' column after conversion to integers)\n",
        "mlb = MultiLabelBinarizer()\n",
        "multiLabel_Data['Tag_Number'] = mlb.fit_transform(multiLabel_Data['Tag_Number'])\n"
      ],
      "metadata": {
        "id": "iAJsrBAvhIXe"
      },
      "execution_count": 516,
      "outputs": []
    },
    {
      "cell_type": "code",
      "source": [
        "multiLabel_Data['Tag_Number']"
      ],
      "metadata": {
        "id": "g8p-TlPthWgX",
        "colab": {
          "base_uri": "https://localhost:8080/"
        },
        "outputId": "2510b5a5-ab4f-47eb-f05a-5ba4235d7aeb"
      },
      "execution_count": 517,
      "outputs": [
        {
          "output_type": "execute_result",
          "data": {
            "text/plain": [
              "0        1\n",
              "1        0\n",
              "2        1\n",
              "3        0\n",
              "4        0\n",
              "        ..\n",
              "47422    0\n",
              "47423    0\n",
              "47424    0\n",
              "47425    0\n",
              "47426    0\n",
              "Name: Tag_Number, Length: 47427, dtype: int64"
            ]
          },
          "metadata": {},
          "execution_count": 517
        }
      ]
    },
    {
      "cell_type": "code",
      "source": [
        "multiLabel_Data['Tag_Number'].shape\n"
      ],
      "metadata": {
        "colab": {
          "base_uri": "https://localhost:8080/"
        },
        "id": "gmyrfly2t-iK",
        "outputId": "50764b36-6090-4b8b-8596-c7d9f1a21ae5"
      },
      "execution_count": 518,
      "outputs": [
        {
          "output_type": "execute_result",
          "data": {
            "text/plain": [
              "(47427,)"
            ]
          },
          "metadata": {},
          "execution_count": 518
        }
      ]
    },
    {
      "cell_type": "code",
      "source": [
        "X_final = multiLabel_Data['cleaned_text'].values"
      ],
      "metadata": {
        "id": "9Et9mS4IaowM"
      },
      "execution_count": 519,
      "outputs": []
    },
    {
      "cell_type": "code",
      "source": [
        "print(type(X_final), X_final.shape)"
      ],
      "metadata": {
        "id": "UDdLbzfpegsG",
        "colab": {
          "base_uri": "https://localhost:8080/"
        },
        "outputId": "be1f9304-ee6b-48ee-a161-90003fa22899"
      },
      "execution_count": 520,
      "outputs": [
        {
          "output_type": "stream",
          "name": "stdout",
          "text": [
            "<class 'numpy.ndarray'> (47427,)\n"
          ]
        }
      ]
    },
    {
      "cell_type": "code",
      "source": [
        "y_final = multiLabel_Data['Tag_Number'].values\n",
        "unique_labels = np.unique(y_final)\n",
        "print(unique_labels)"
      ],
      "metadata": {
        "id": "BrRAxTxZejaF",
        "colab": {
          "base_uri": "https://localhost:8080/"
        },
        "outputId": "4d3e9ea4-985b-4611-e97b-6b4295ccb7be"
      },
      "execution_count": 521,
      "outputs": [
        {
          "output_type": "stream",
          "name": "stdout",
          "text": [
            "[0 1]\n"
          ]
        }
      ]
    },
    {
      "cell_type": "code",
      "source": [
        "print(type(y_final), y_final.shape)"
      ],
      "metadata": {
        "id": "V4-ktoCfelQE",
        "colab": {
          "base_uri": "https://localhost:8080/"
        },
        "outputId": "f334c516-1d39-460b-9a02-8e56b8b71ac9"
      },
      "execution_count": 522,
      "outputs": [
        {
          "output_type": "stream",
          "name": "stdout",
          "text": [
            "<class 'numpy.ndarray'> (47427,)\n"
          ]
        }
      ]
    },
    {
      "cell_type": "markdown",
      "source": [
        "#Create Train/Test/Valid Split"
      ],
      "metadata": {
        "id": "_Soz3Y_feyv7"
      }
    },
    {
      "cell_type": "code",
      "source": [
        "X_train, x_valid_test, y_train, y_valid_test = train_test_split(X_final, y_final, test_size = 0.4, stratify = y_final)"
      ],
      "metadata": {
        "id": "a0XiDspOewFT"
      },
      "execution_count": 523,
      "outputs": []
    },
    {
      "cell_type": "code",
      "source": [
        "X_valid, X_test, y_valid, y_test = train_test_split(x_valid_test, y_valid_test, test_size = 0.5, stratify = y_valid_test)"
      ],
      "metadata": {
        "id": "e2Ko3qrwe1hb"
      },
      "execution_count": 524,
      "outputs": []
    },
    {
      "cell_type": "code",
      "source": [
        "print(\"Train set shape: \", X_train.shape, \"Split %: \", len(X_train)/len(X_final))\n",
        "print(\"Validation set shape: \", X_valid.shape,\"Split %: \", len(X_valid)/len(X_final))\n",
        "print(\"Test set shape: \", X_test.shape, \"Split %: \", len(X_test)/len(X_final))"
      ],
      "metadata": {
        "id": "2Hn0kveegX79",
        "colab": {
          "base_uri": "https://localhost:8080/"
        },
        "outputId": "6eba26a5-11de-4128-97d0-de0162ad4346"
      },
      "execution_count": 525,
      "outputs": [
        {
          "output_type": "stream",
          "name": "stdout",
          "text": [
            "Train set shape:  (28456,) Split %:  0.59999578299281\n",
            "Validation set shape:  (9485,) Split %:  0.19999156598562\n",
            "Test set shape:  (9486,) Split %:  0.20001265102156998\n"
          ]
        }
      ]
    },
    {
      "cell_type": "code",
      "source": [
        "trainset = CustomDataset(X_train,y_train)\n",
        "validset = CustomDataset(X_valid,y_valid)\n",
        "testset = CustomDataset(X_test,y_test)"
      ],
      "metadata": {
        "id": "U3058MHPgpht"
      },
      "execution_count": 526,
      "outputs": []
    },
    {
      "cell_type": "code",
      "source": [
        "print(set(y_train),set(y_valid),set(y_test))"
      ],
      "metadata": {
        "colab": {
          "base_uri": "https://localhost:8080/"
        },
        "id": "FRxGI1DZljV0",
        "outputId": "b5136e85-7010-4fe9-aee2-736c37a78ba8"
      },
      "execution_count": 527,
      "outputs": [
        {
          "output_type": "stream",
          "name": "stdout",
          "text": [
            "{0, 1} {0, 1} {0, 1}\n"
          ]
        }
      ]
    },
    {
      "cell_type": "markdown",
      "source": [
        "#Create vocab"
      ],
      "metadata": {
        "id": "Pml3PuH3j-V-"
      }
    },
    {
      "cell_type": "code",
      "source": [
        "multilabel_vocab = get_vocab(trainset, min_freq=2)"
      ],
      "metadata": {
        "id": "Lkxzji92j63N"
      },
      "execution_count": 528,
      "outputs": []
    },
    {
      "cell_type": "code",
      "source": [
        "len(multilabel_vocab)"
      ],
      "metadata": {
        "colab": {
          "base_uri": "https://localhost:8080/"
        },
        "id": "vtFsMZgEOk5o",
        "outputId": "d3747daa-100f-45f1-e709-b4c2111f53a7"
      },
      "execution_count": 529,
      "outputs": [
        {
          "output_type": "execute_result",
          "data": {
            "text/plain": [
              "91260"
            ]
          },
          "metadata": {},
          "execution_count": 529
        }
      ]
    },
    {
      "cell_type": "code",
      "source": [
        "valid_multilabel_vocab = get_vocab(validset, min_freq=2)"
      ],
      "metadata": {
        "id": "SI264seClU5-"
      },
      "execution_count": 530,
      "outputs": []
    },
    {
      "cell_type": "markdown",
      "source": [
        "#Meta Data"
      ],
      "metadata": {
        "id": "jmnuyTRbOzew"
      }
    },
    {
      "cell_type": "code",
      "source": [
        "from types import SimpleNamespace\n",
        "\n",
        "hyperparameters = SimpleNamespace(\n",
        "    # model Parameters\n",
        "    EMBED_DIM=300,\n",
        "    VOCAB_SIZE=len(multilabel_vocab),\n",
        "    OUTPUT_DIM=10,\n",
        "    HIDDEN_DIM1=200,\n",
        "    HIDDEN_DIM2=100,\n",
        "    NON_LINEARITY=F.relu,\n",
        "    \n",
        "    # training \n",
        "    EPOCHS=5,\n",
        "    BATCH_SIZE=128,\n",
        "    LEARNING_RATE=0.001,\n",
        "    WEIGHT_DECAY=0.000,\n",
        "    CLIP_TYPE = 'value',\n",
        "    CLIP_VALUE = 10,\n",
        "    PATIENCE=5,\n",
        "    MOMENTUM=0,  \n",
        ")"
      ],
      "metadata": {
        "id": "jHqulM93Ovrf"
      },
      "execution_count": 531,
      "outputs": []
    },
    {
      "cell_type": "code",
      "source": [],
      "metadata": {
        "id": "V6vcrQFljyuf"
      },
      "execution_count": 531,
      "outputs": []
    },
    {
      "cell_type": "markdown",
      "source": [
        "#Trainer Configuration"
      ],
      "metadata": {
        "id": "Bxoww9DhPvJF"
      }
    },
    {
      "cell_type": "code",
      "source": [
        "'''def collate_batch_multilabel(batch, vocab, num_classes):\n",
        "    labels, texts = zip(*batch)\n",
        "    labels = torch.tensor(labels, dtype=torch.float32)\n",
        "    #labels = torch.tensor(labels, dtype=torch.float32).to(torch.float32)\n",
        "    labels = torch.nn.functional.one_hot(labels.to(torch.int64), num_classes=num_classes)\n",
        "\n",
        "    list_of_list_of_indices = [text_pipeline(text, vocab) for text in texts]\n",
        "\n",
        "    offsets = [0] + [len(i) for i in list_of_list_of_indices]\n",
        "    offsets = torch.tensor(offsets[:-1]).cumsum(dim=0)\n",
        "    texts = torch.cat([torch.tensor(i, dtype=torch.int64) for i in list_of_list_of_indices])\n",
        "\n",
        "    return (texts, offsets), labels.to(torch.float32)'''"
      ],
      "metadata": {
        "id": "IdONRbhvkBHx"
      },
      "execution_count": 532,
      "outputs": []
    },
    {
      "cell_type": "code",
      "source": [
        "def collate_batch_multilabel(batch, vocab):\n",
        "    labels, texts = zip(*batch)\n",
        "    labels = torch.tensor(labels, dtype=torch.float32)\n",
        "    list_of_list_of_indices = [text_pipeline(text, vocab) for text in texts]\n",
        "    offsets = [0] + [len(i) for i in list_of_list_of_indices]\n",
        "    offsets = torch.tensor(offsets[:-1]).cumsum(dim=0)\n",
        "    texts = torch.cat([torch.tensor(i, dtype=torch.int64) for i in list_of_list_of_indices])\n",
        "    return (texts, offsets), labels"
      ],
      "metadata": {
        "id": "lYYqyVZw3Yh2"
      },
      "execution_count": null,
      "outputs": []
    },
    {
      "cell_type": "code",
      "source": [
        "from functools import partial\n",
        "# Fix seed value\n",
        "Trainer.set_seed()\n",
        "\n",
        "collate_fn = partial(collate_batch, vocab=multilabel_vocab)\n",
        "train_loader = torch.utils.data.DataLoader(dataset=trainset,\n",
        "                                           batch_size=hyperparameters.BATCH_SIZE,\n",
        "                                           collate_fn=lambda batch: collate_batch_multilabel(batch, multilabel_vocab),\n",
        "                                           shuffle=False)\n",
        "\n",
        "valid_loader = torch.utils.data.DataLoader(dataset=validset,\n",
        "                                           batch_size=hyperparameters.BATCH_SIZE,\n",
        "                                           collate_fn=lambda batch: collate_batch_multilabel(batch, valid_multilabel_vocab),\n",
        "                                           shuffle=False)\n",
        "\n",
        "# Data Loader\n",
        "#train_loader, valid_loader = get_loaders(trainset, validset, batch_size_= hyperparameters.BATCH_SIZE, \n",
        "                                        # collate_fn=collate_fn)\n",
        "\n",
        "# cross entropy loss function\n",
        "#loss_function = nn.CrossEntropyLoss()\n",
        "loss_function = torch.nn.BCEWithLogitsLoss()\n",
        "# model\n",
        "model_imdb = MLPCustom(hyperparameters.EMBED_DIM,\n",
        "                       hyperparameters.VOCAB_SIZE,\n",
        "                       hyperparameters.HIDDEN_DIM1,\n",
        "                       hyperparameters.HIDDEN_DIM2,\n",
        "                       hyperparameters.OUTPUT_DIM,\n",
        "                       hyperparameters.NON_LINEARITY)\n",
        "\n",
        "def init_weights(m):\n",
        "    if type(m) == nn.Linear:\n",
        "        torch.nn.init.kaiming_normal_(m.weight)\n",
        "        torch.nn.init.zeros_(m.bias)\n",
        "\n",
        "\n",
        "# apply initialization recursively  to all modules\n",
        "model_imdb.apply(init_weights)\n",
        "\n",
        "# Intialize stochiastic gradient descent optimizer\n",
        "optimizer = torch.optim.Adam(model_imdb.parameters(),\n",
        "                             lr=hyperparameters.LEARNING_RATE,\n",
        "                             weight_decay=hyperparameters.WEIGHT_DECAY,\n",
        "                             )\n",
        "device = torch.device('cuda:0' if torch.cuda.is_available() else 'cpu')"
      ],
      "metadata": {
        "id": "BCIHHBEKoyjH"
      },
      "execution_count": 533,
      "outputs": []
    },
    {
      "cell_type": "code",
      "source": [
        "#print(train_loader.shape, train_loader.shape)\n",
        "#for inputs, targets in train_loader:\n",
        " # print(inputs, targets.size())\n",
        " # break"
      ],
      "metadata": {
        "id": "mpLBXT3pj4_W"
      },
      "execution_count": 534,
      "outputs": []
    },
    {
      "cell_type": "markdown",
      "source": [
        "#Training Model"
      ],
      "metadata": {
        "id": "D_i3Q8ygQPv3"
      }
    },
    {
      "cell_type": "code",
      "source": [
        "trainer = Trainer(model=model_imdb, optimizer=optimizer,\n",
        "                  criterion=loss_function, device=device)"
      ],
      "metadata": {
        "id": "hJyQaLgkQUCH"
      },
      "execution_count": 535,
      "outputs": []
    },
    {
      "cell_type": "code",
      "source": [
        "#from torchmetrics.classification import Accuracy\n",
        "from torchmetrics.classification import HammingDistance\n",
        "run_folder = assignment_fldr/'rev2'\n",
        "run_folder.mkdir(exist_ok=True)\n",
        "\n",
        "# set loaders\n",
        "trainer.set_loaders(train_loader, valid_loader)\n",
        "\n",
        "# set metric -- OPTIONAL\n",
        "#train_metric = Accuracy(task='binary')\n",
        "train_metric = HammingDistance(mode='multilabel',task='multilabel', num_labels=10,compute_on_step=False)\n",
        "#valid_metric = Accuracy(task='binary')\n",
        "valid_metric = HammingDistance(mode='multilabel',task='multilabel', num_labels=10,compute_on_step=False)\n",
        "trainer.set_metric(train_metric.to(device), valid_metric.to(device))\n",
        "\n",
        "# set checkpoint -- OPTIONAL\n",
        "trainer.set_checkpoint(save_path=run_folder,\n",
        "                       save_best=True, save_every_n_epochs=5, save_last_epoch=False)\n",
        "\n",
        "# set early stopping -- OPTIONAL\n",
        "trainer.set_early_stopping(patience = hyperparameters.PATIENCE)\n",
        "\n",
        "# set gradient Clipping  -- OPTIONAL\n",
        "# trainer.set_gradient_clipping(hyperparameters.CLIP_TYPE, hyperparameters.CLIP_VALUE, norm_type=2)"
      ],
      "metadata": {
        "id": "tAmN1W-TQcgo"
      },
      "execution_count": 536,
      "outputs": []
    },
    {
      "cell_type": "code",
      "source": [
        "for (text, offsets) , labels in train_loader:\n",
        "  print(labels, text, offsets)\n",
        "  break"
      ],
      "metadata": {
        "id": "XfdDWT9PmLRN",
        "colab": {
          "base_uri": "https://localhost:8080/"
        },
        "outputId": "8b7c176e-12d0-45cc-93dd-77c552284ac6"
      },
      "execution_count": 537,
      "outputs": [
        {
          "output_type": "stream",
          "name": "stdout",
          "text": [
            "tensor([[1., 0., 0.,  ..., 0., 0., 0.],\n",
            "        [0., 1., 0.,  ..., 0., 0., 0.],\n",
            "        [1., 0., 0.,  ..., 0., 0., 0.],\n",
            "        ...,\n",
            "        [1., 0., 0.,  ..., 0., 0., 0.],\n",
            "        [1., 0., 0.,  ..., 0., 0., 0.],\n",
            "        [1., 0., 0.,  ..., 0., 0., 0.]]) tensor([   1,    2,    3,  ..., 2404,    0, 2417]) tensor([    0,   134,   165,   256,   280,   366,   632,   741,   821,   881,\n",
            "          986,  1019,  1045,  1135,  1177,  1211,  1266,  1285,  1358,  1404,\n",
            "         1456,  2911,  2984,  3022,  3091,  3183,  3214,  3251,  3274,  3337,\n",
            "         3356,  3424,  3476,  3590,  3630,  3705,  3803,  3824,  3874,  3957,\n",
            "         3982,  4040,  4112,  4133,  4204,  4308,  4341,  4406,  4485,  4494,\n",
            "         4574,  4626,  4668,  4696,  4784,  4870,  4984,  5232,  5268,  6137,\n",
            "         6183,  6209,  6242,  6268,  6347,  6428,  6453,  6465,  6616,  6801,\n",
            "         6833,  6915,  6965,  6987,  6999,  7019,  7038,  7092,  7205,  7239,\n",
            "         7519,  7594,  7751,  7935,  7952,  8212,  8227,  8445,  8462,  9457,\n",
            "         9614,  9638,  9686,  9712,  9790,  9892, 10007, 10022, 10050, 10135,\n",
            "        10207, 10462, 10476, 10488, 10513, 10597, 10614, 10660, 10773, 10887,\n",
            "        10968, 11047, 11094, 11108, 11152, 11170, 11219, 11279, 11304, 11439,\n",
            "        11491, 11516, 11585, 11603, 11689, 11897, 12020, 12084])\n"
          ]
        }
      ]
    },
    {
      "cell_type": "code",
      "source": [
        "trainer.sanity_check(num_classes=2)"
      ],
      "metadata": {
        "id": "lbRc3MKcRAKC",
        "colab": {
          "base_uri": "https://localhost:8080/"
        },
        "outputId": "934be83f-a9cf-41b8-c5c6-2b2155d77a1e"
      },
      "execution_count": 538,
      "outputs": [
        {
          "output_type": "stream",
          "name": "stdout",
          "text": [
            "Actual loss: 0.6926652193069458\n",
            "Expected Theoretical loss: 0.6931471805599453\n"
          ]
        }
      ]
    },
    {
      "cell_type": "code",
      "source": [
        "trainer.train(num_epochs=hyperparameters.EPOCHS, multilabel=True)"
      ],
      "metadata": {
        "id": "vX0wRIdJREc6",
        "colab": {
          "base_uri": "https://localhost:8080/"
        },
        "outputId": "ce118d4b-7923-4467-80b3-c19c261f83b4"
      },
      "execution_count": 539,
      "outputs": [
        {
          "output_type": "stream",
          "name": "stdout",
          "text": [
            "Epoch 1/5 - Train Loss: 0.5581, Train Metric: 0.2620, Train Time: 0:01:43.155092\n",
            "Epoch 1/5 - Val Loss: 0.1888, Val Metric: 0.0541, Val Time: 0:00:01.042657\n",
            "\n",
            "Epoch 2/5 - Train Loss: 0.1077, Train Metric: 0.0307, Train Time: 0:01:32.306721\n",
            "Epoch 2/5 - Val Loss: 0.1392, Val Metric: 0.0535, Val Time: 0:00:01.011679\n",
            "\n",
            "EarlyStopping counter: 1 out of 5\n",
            "Epoch 3/5 - Train Loss: 0.0590, Train Metric: 0.0197, Train Time: 0:01:18.317008\n",
            "Epoch 3/5 - Val Loss: 0.1439, Val Metric: 0.0561, Val Time: 0:00:01.044490\n",
            "\n",
            "EarlyStopping counter: 2 out of 5\n",
            "Epoch 4/5 - Train Loss: 0.0437, Train Metric: 0.0147, Train Time: 0:01:18.282035\n",
            "Epoch 4/5 - Val Loss: 0.1567, Val Metric: 0.0596, Val Time: 0:00:01.767252\n",
            "\n",
            "EarlyStopping counter: 3 out of 5\n",
            "Epoch 5/5 - Train Loss: 0.0347, Train Metric: 0.0121, Train Time: 0:01:19.093470\n",
            "Epoch 5/5 - Val Loss: 0.1694, Val Metric: 0.0622, Val Time: 0:00:01.007873\n",
            "\n"
          ]
        }
      ]
    },
    {
      "cell_type": "code",
      "source": [
        "trainer.plot_history()"
      ],
      "metadata": {
        "id": "UsSEIC6dmgN8",
        "colab": {
          "base_uri": "https://localhost:8080/",
          "height": 881
        },
        "outputId": "48a6a708-efbb-4733-a729-1280b1ee9b87"
      },
      "execution_count": 540,
      "outputs": [
        {
          "output_type": "display_data",
          "data": {
            "text/plain": [
              "<Figure size 640x480 with 1 Axes>"
            ],
            "image/png": "[encoded data removed]"
          },
          "metadata": {}
        },
        {
          "output_type": "display_data",
          "data": {
            "text/plain": [
              "<Figure size 640x480 with 1 Axes>"
            ],
            "image/png": "[encoded data removed]"
          },
          "metadata": {}
        }
      ]
    },
    {
      "cell_type": "code",
      "source": [
        "trainer.best_epoch"
      ],
      "metadata": {
        "id": "N7AjYIIBmmf0",
        "colab": {
          "base_uri": "https://localhost:8080/"
        },
        "outputId": "c5304d04-52ec-4441-b307-71a34edc4fb6"
      },
      "execution_count": 541,
      "outputs": [
        {
          "output_type": "execute_result",
          "data": {
            "text/plain": [
              "2"
            ]
          },
          "metadata": {},
          "execution_count": 541
        }
      ]
    },
    {
      "cell_type": "markdown",
      "source": [
        "#Get Accuracy, Predictions"
      ],
      "metadata": {
        "id": "cMVMdF1Fmq1N"
      }
    },
    {
      "cell_type": "code",
      "source": [
        "testset = CustomDataset(X_test, y_test)"
      ],
      "metadata": {
        "id": "tW0F0JwDmo-N"
      },
      "execution_count": 542,
      "outputs": []
    },
    {
      "cell_type": "code",
      "source": [
        "test_multilabel_vocab = get_vocab(testset, min_freq=2)"
      ],
      "metadata": {
        "id": "TGJf7kGb67Gr"
      },
      "execution_count": 543,
      "outputs": []
    },
    {
      "cell_type": "code",
      "source": [
        "#test_loader = get_test_loaders(testset, batch_size_=hyperparameters.BATCH_SIZE,\n",
        " #                              collate_fn=collate_fn)\n",
        "test_loader = torch.utils.data.DataLoader(dataset=validset,\n",
        "                                           batch_size=hyperparameters.BATCH_SIZE,\n",
        "                                           collate_fn=lambda batch: collate_batch_multilabel(batch, test_multilabel_vocab),\n",
        "                                           shuffle=True)"
      ],
      "metadata": {
        "id": "1-UxWIofmyjT"
      },
      "execution_count": 544,
      "outputs": []
    },
    {
      "cell_type": "code",
      "source": [
        "# Get the prediction and accuracy for the test dataset\n",
        "\n",
        "predictions_train, target_train = trainer.predict(\n",
        "    train_loader, return_targets=True)\n",
        "predictions_valid, target_valid = trainer.predict(\n",
        "    valid_loader, return_targets=True)\n",
        "predictions_test, target_test = trainer.predict(\n",
        "    test_loader, return_targets=True)"
      ],
      "metadata": {
        "id": "Tiht4zHDm6DL"
      },
      "execution_count": 545,
      "outputs": []
    },
    {
      "cell_type": "code",
      "source": [
        "print(target_train.shape, predictions_train.shape)\n",
        "print(target_valid.shape, predictions_valid.shape)\n",
        "print(target_test.shape, predictions_test.shape)"
      ],
      "metadata": {
        "colab": {
          "base_uri": "https://localhost:8080/"
        },
        "id": "PdTmCwu0H3xO",
        "outputId": "2782530f-dae5-4d17-9db5-cbd6da9f54d2"
      },
      "execution_count": 546,
      "outputs": [
        {
          "output_type": "stream",
          "name": "stdout",
          "text": [
            "torch.Size([28456, 10]) torch.Size([28456])\n",
            "torch.Size([9485, 10]) torch.Size([9485])\n",
            "torch.Size([9485, 10]) torch.Size([9485])\n"
          ]
        }
      ]
    },
    {
      "cell_type": "code",
      "source": [
        "train_labels = torch.unique(target_train)\n",
        "valid_labels = torch.unique(target_valid)\n",
        "test_labels = torch.unique(target_test)\n",
        "print(train_labels, valid_labels, test_labels)"
      ],
      "metadata": {
        "colab": {
          "base_uri": "https://localhost:8080/"
        },
        "id": "4J7bRxtTR0O2",
        "outputId": "63167b0e-2609-4f45-aec2-97a3263e6388"
      },
      "execution_count": 547,
      "outputs": [
        {
          "output_type": "stream",
          "name": "stdout",
          "text": [
            "tensor([0., 1.]) tensor([0., 1.]) tensor([0., 1.])\n"
          ]
        }
      ]
    },
    {
      "cell_type": "code",
      "source": [
        "import torchmetrics\n",
        "#metric = torchmetrics.functional.accuracy\n",
        "##metric = torchmetrics.functional.hamming_distance\n",
        "###num_classes = len(train_labels)\n",
        "###print(num_classes)\n",
        "#len(torch.unique(torch.cat((target_train, target_valid, target_test), dim=0)))\n",
        "###metric = HammingDistance(mode='multilabel', task='multilabel',num_labels=num_classes,compute_on_step=False)\n",
        "#train_labels = len(torch.unique(target_train))\n",
        "#valid_labels = len(torch.unique(target_valid))\n",
        "#test_labels = len(torch.unique(target_test))\n",
        "#num_classes = len(torch.unique(torch.cat((target_train, target_valid, target_test), dim=0)))\n",
        "\n",
        "#print(train_labels, valid_labels, test_labels)\n",
        "#acc_train = metric(predictions_train, target_train, task='multilabel', num_classes=int(num_classes))\n",
        "#acc_valid = metric(predictions_valid, target_valid, task='multilabel', num_classes=int(num_classes))\n",
        "#acc_test = metric(predictions_test, target_test, task='multilabel', num_classes=int(num_classes))\n",
        "#predictions_train = predictions_train.view(-1, 2)\n",
        "#target_train = target_train.view(-1, 2)\n",
        "##num_samples = len(trainset)\n",
        "###num_classes = len(train_labels)\n",
        "#predictions_train = Trainer(trainset)\n",
        "###predictions_train = predictions_train.view(num_samples, num_classes)\n",
        "\n",
        "###acc_train = metric(predictions_train, target_train)\n",
        "##acc_valid = metric(predictions_valid, target_valid)\n",
        "##acc_test = metric(predictions_test, target_test)"
      ],
      "metadata": {
        "id": "yjl98LkpnjGa"
      },
      "execution_count": 548,
      "outputs": []
    },
    {
      "cell_type": "code",
      "source": [
        "# Print Test Accuracy\n",
        "##print('Test accuracy', acc_test * 100)\n",
        "##print('Train accuracy', acc_train * 100)\n",
        "##print('Valid accuracy', acc_valid * 100)"
      ],
      "metadata": {
        "id": "CaKl1OUGnsnS"
      },
      "execution_count": 549,
      "outputs": []
    },
    {
      "cell_type": "code",
      "source": [
        "from sklearn.metrics import accuracy_score, f1_score\n",
        "#print(accuracy_score(predictions_test, target_test)*100)\n",
        "#print(accuracy_score(predictions_train, target_train)*100)\n",
        "#print(accuracy_score(predictions_valid, target_valid)*100)"
      ],
      "metadata": {
        "id": "kahxGQvxn_Lq"
      },
      "execution_count": 550,
      "outputs": []
    },
    {
      "cell_type": "code",
      "source": [
        "#metric = torchmetrics.functional.f1_score\n",
        "#f1_train = metric(predictions_train, target_train,\n",
        "                #  task='multilabel', num_classes=int(10))\n",
        "#f1_valid = metric(predictions_valid, target_valid,\n",
        "                  #task='multilabel', num_classes=10)\n",
        "#f1_test = metric(predictions_test, target_test,\n",
        "               #  task='multilabel', num_classes=10)"
      ],
      "metadata": {
        "id": "pYWcOnGmoI5R"
      },
      "execution_count": 551,
      "outputs": []
    },
    {
      "cell_type": "code",
      "source": [
        "# Print Test Accuracy\n",
        "#print('Test f1score', f1_test * 100)\n",
        "#print('Train f1score', f1_train * 100)\n",
        "#print('Valid f1score', f1_valid * 100)"
      ],
      "metadata": {
        "id": "ZIAqaoqdoOxx"
      },
      "execution_count": 552,
      "outputs": []
    },
    {
      "cell_type": "code",
      "source": [
        "#print(f1_score(predictions_test.numpy(), target_test.numpy(), average='micro') * 100)\n",
        "#print(f1_score(predictions_train.numpy(), target_train.numpy(), average='micro') * 100)\n",
        "#print(f1_score(predictions_valid.numpy(), target_valid.numpy(), average='micro') * 100)\n",
        "from torchmetrics.functional.classification import multilabel_f1_score, multilabel_hamming_distance\n",
        "#num_classes = target_train.shape[-1]\n",
        "threshold = 0.5\n",
        "average='micro'\n",
        "#binary_predictions_train = (predictions_train > threshold).int()\n",
        "#binary_predictions_valid = (predictions_valid > threshold).int()\n",
        "#binary_predictions_test = (predictions_test > threshold).int()\n",
        "import torch.nn.functional as F\n",
        "num_classes = target_train.shape[-1]\n",
        "binary_predictions_train = F.one_hot(predictions_train, num_classes=num_classes)\n",
        "print(\"Train binary predictions: \", binary_predictions_train.shape)\n",
        "f1_score_train = multilabel_f1_score(binary_predictions_train, target_train,num_labels=num_classes, threshold=threshold, average=average)\n",
        "hamming_distance_train = multilabel_hamming_distance(binary_predictions_train, target_train, num_labels=num_classes)\n",
        "print(\"Train F1 Score: \",f1_score_train, \" Train hamming distance: \", hamming_distance_train)\n",
        "\n",
        "num_classes = target_valid.shape[-1]\n",
        "binary_predictions_valid = F.one_hot(predictions_valid, num_classes=num_classes)\n",
        "print(\"Valid binary predictions: \", binary_predictions_valid.shape)\n",
        "f1_score_valid = multilabel_f1_score(binary_predictions_valid, target_valid, num_labels=num_classes, threshold=threshold, average=average)\n",
        "hamming_distance_valid = multilabel_hamming_distance(binary_predictions_valid, target_valid, num_labels=num_classes)\n",
        "print(\"Train F1 Score: \",f1_score_valid, \" Train hamming distance: \", hamming_distance_valid)\n",
        "\n",
        "num_classes = target_test.shape[-1]\n",
        "binary_predictions_test = F.one_hot(predictions_test, num_classes=num_classes)\n",
        "print(\"Valid binary predictions: \", binary_predictions_test.shape)\n",
        "f1_score_test = multilabel_f1_score(binary_predictions_test, target_test, num_labels=num_classes, threshold=threshold, average=average)\n",
        "hamming_distance_test = multilabel_hamming_distance(binary_predictions_test, target_test, num_labels=num_classes)\n",
        "print(\"Train F1 Score: \",f1_score_test, \" Train hamming distance: \", hamming_distance_test)\n",
        "\n",
        "# assuming y_true and y_pred are the ground truth and predicted labels, respectively\n",
        "#f1_score = multilabel_f1_score(predictions_train, target_train, num_classes=num_classes, threshold=threshold, average=average)\n",
        "#hamming_distance = multilabel_hamming_distance(predictions_train, target_train, num_labels=num_labels)"
      ],
      "metadata": {
        "id": "ff_8AshHoRqh",
        "colab": {
          "base_uri": "https://localhost:8080/"
        },
        "outputId": "4eb46979-960e-4151-9650-005a9d21816e"
      },
      "execution_count": 568,
      "outputs": [
        {
          "output_type": "stream",
          "name": "stdout",
          "text": [
            "Train binary predictions:  torch.Size([28456, 10])\n",
            "Train F1 Score:  tensor(0.9614)  Train hamming distance:  tensor(0.0077)\n",
            "Valid binary predictions:  torch.Size([9485, 10])\n",
            "Train F1 Score:  tensor(0.6892)  Train hamming distance:  tensor(0.0622)\n",
            "Valid binary predictions:  torch.Size([9485, 10])\n",
            "Train F1 Score:  tensor(0.7153)  Train hamming distance:  tensor(0.0569)\n"
          ]
        }
      ]
    },
    {
      "cell_type": "code",
      "source": [],
      "metadata": {
        "id": "YsOJYtpB0YC_"
      },
      "execution_count": null,
      "outputs": []
    }
  ]
}