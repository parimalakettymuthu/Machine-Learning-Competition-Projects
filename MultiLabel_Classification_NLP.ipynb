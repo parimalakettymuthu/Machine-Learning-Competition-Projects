{
  "nbformat": 4,
  "nbformat_minor": 0,
  "metadata": {
    "colab": {
      "provenance": [],
      "authorship_tag": "ABX9TyNkbmmWy4CXdpyA1/lMYWvB",
      "include_colab_link": true
    },
    "kernelspec": {
      "name": "python3",
      "display_name": "Python 3"
    },
    "language_info": {
      "name": "python"
    }
  },
  "cells": [
    {
      "cell_type": "markdown",
      "metadata": {
        "id": "view-in-github",
        "colab_type": "text"
      },
      "source": [
        "<a href=\"https://colab.research.google.com/github/parimalakettymuthu/MachineLearning-Projects/blob/main/MultiLabel_Classification_NLP.ipynb\" target=\"_parent\"><img src=\"https://colab.research.google.com/assets/colab-badge.svg\" alt=\"Open In Colab\"/></a>"
      ]
    },
    {
      "cell_type": "code",
      "source": [
        "%load_ext autoreload\n",
        "%autoreload 2"
      ],
      "metadata": {
        "id": "0hAyTHurT-lH"
      },
      "execution_count": 1,
      "outputs": []
    },
    {
      "cell_type": "code",
      "source": [
        "import sys \n",
        "#sys.path.append('/content/drive/MyDrive/NLP/custom-functions')"
      ],
      "metadata": {
        "id": "zT63hu4OUC82"
      },
      "execution_count": 2,
      "outputs": []
    },
    {
      "cell_type": "code",
      "execution_count": 3,
      "metadata": {
        "id": "3Kdp7KNWRxSa"
      },
      "outputs": [],
      "source": [
        "import pandas as pd\n",
        "from pathlib import Path\n",
        "import joblib\n",
        "# Importing the necessary libraries\n",
        "import torch\n",
        "import torch.nn as nn\n",
        "import torch.nn.functional as F\n",
        "from torchtext.vocab import  vocab\n",
        "\n",
        "import random\n",
        "import numpy as np\n",
        "import pandas as pd\n",
        "import joblib\n",
        "from collections import Counter\n",
        "\n",
        "\n",
        "from pathlib import Path\n",
        "import sys\n",
        "\n",
        "from sklearn.model_selection import train_test_split\n",
        "!pip install wandb -qq\n",
        "import wandb"
      ]
    },
    {
      "cell_type": "code",
      "source": [
        "if 'google.colab' in str(get_ipython()):\n",
        "  from google.colab import drive\n",
        "  drive.mount('/content/drive')   \n",
        "  base_path = '/content/drive/MyDrive/NLP'\n",
        "  sys.path.append('/content/drive/MyDrive/NLP/user-defined-fns')\n",
        "  sys.path.append('/content/drive/MyDrive/NLP/user-defined-fn')\n",
        "  sys.path.append('/content/drive/MyDrive/NLP/user-defined')"
      ],
      "metadata": {
        "colab": {
          "base_uri": "https://localhost:8080/"
        },
        "id": "vEqI31NGSB8E",
        "outputId": "cea37e17-d060-46a4-ea8d-3299cc28f606"
      },
      "execution_count": 4,
      "outputs": [
        {
          "output_type": "stream",
          "name": "stdout",
          "text": [
            "Drive already mounted at /content/drive; to attempt to forcibly remount, call drive.mount(\"/content/drive\", force_remount=True).\n"
          ]
        }
      ]
    },
    {
      "cell_type": "code",
      "source": [
        "base_folder = Path(base_path)\n",
        "assignment_fldr = base_folder/ 'assignment6'\n",
        "custom_fldr = base_folder/ 'user-defined-fn'\n",
        "\n",
        "#Check contents in data folder\n",
        "for entries in custom_fldr.iterdir():\n",
        "  print(entries.name)"
      ],
      "metadata": {
        "colab": {
          "base_uri": "https://localhost:8080/"
        },
        "id": "3-o_n-FkS2qs",
        "outputId": "b56ca800-db6a-4c5a-e84f-289db4d0c476"
      },
      "execution_count": 5,
      "outputs": [
        {
          "output_type": "stream",
          "name": "stdout",
          "text": [
            "data_preparation_imdb_rev0.py\n",
            ".ipynb_checkpoints\n",
            "__pycache__\n"
          ]
        }
      ]
    },
    {
      "cell_type": "code",
      "source": [
        "#sys.path.append('/content/drive/MyDrive/NLP/custom-functions')\n",
        "sys.path = list(set(sys.path))"
      ],
      "metadata": {
        "id": "cUbDeEuAmSGX"
      },
      "execution_count": 6,
      "outputs": []
    },
    {
      "cell_type": "code",
      "source": [
        "sys.path"
      ],
      "metadata": {
        "colab": {
          "base_uri": "https://localhost:8080/"
        },
        "id": "63DrEKz6mVWO",
        "outputId": "364757ab-a267-444a-b9e9-ce1ead27cade"
      },
      "execution_count": 7,
      "outputs": [
        {
          "output_type": "execute_result",
          "data": {
            "text/plain": [
              "['',\n",
              " '/content/drive/MyDrive/NLP/user-defined',\n",
              " '/usr/lib/python3.9/lib-dynload',\n",
              " '/usr/lib/python39.zip',\n",
              " '/usr/local/lib/python3.9/dist-packages',\n",
              " '/content',\n",
              " '/usr/lib/python3/dist-packages',\n",
              " '/root/.ipython',\n",
              " '/usr/lib/python3.9',\n",
              " '/usr/local/lib/python3.9/dist-packages/IPython/extensions',\n",
              " '/content/drive/MyDrive/NLP/user-defined-fn',\n",
              " '/content/drive/MyDrive/NLP/user-defined-fns',\n",
              " '/env/python']"
            ]
          },
          "metadata": {},
          "execution_count": 7
        }
      ]
    },
    {
      "cell_type": "code",
      "source": [
        "!pip install torchmetrics -qq"
      ],
      "metadata": {
        "id": "Qdu0GC2FG-v7"
      },
      "execution_count": 8,
      "outputs": []
    },
    {
      "cell_type": "code",
      "source": [
        "from Trainer_v2 import Trainer\n",
        "from ff_3_layer_sequential_model import MLPCustom"
      ],
      "metadata": {
        "id": "C29fXsrflwoO"
      },
      "execution_count": 9,
      "outputs": []
    },
    {
      "cell_type": "code",
      "source": [
        "from data_preparation_imdb_rev0 import *"
      ],
      "metadata": {
        "id": "KegW-cQiIjui"
      },
      "execution_count": 10,
      "outputs": []
    },
    {
      "cell_type": "code",
      "source": [
        "df_multilable_data = assignment_fldr/ 'df_multilabel_hw_cleaned.joblib'\n",
        "multiLabel_Data = joblib.load(df_multilable_data)"
      ],
      "metadata": {
        "id": "8CMy-nX9TQvM"
      },
      "execution_count": 11,
      "outputs": []
    },
    {
      "cell_type": "code",
      "source": [
        "multiLabel_Data.columns"
      ],
      "metadata": {
        "id": "hFG1VYkjadBh",
        "colab": {
          "base_uri": "https://localhost:8080/"
        },
        "outputId": "92f26597-9842-4bc0-cde6-f9576b8bb7ef"
      },
      "execution_count": 12,
      "outputs": [
        {
          "output_type": "execute_result",
          "data": {
            "text/plain": [
              "Index(['cleaned_text', 'Tags', 'Tag_Number'], dtype='object')"
            ]
          },
          "metadata": {},
          "execution_count": 12
        }
      ]
    },
    {
      "cell_type": "code",
      "source": [
        "multiLabel_Data.shape"
      ],
      "metadata": {
        "id": "qM9YdVq5air3",
        "colab": {
          "base_uri": "https://localhost:8080/"
        },
        "outputId": "f92a66fa-600a-4897-ebdc-fcdc6b6df35f"
      },
      "execution_count": 13,
      "outputs": [
        {
          "output_type": "execute_result",
          "data": {
            "text/plain": [
              "(47427, 3)"
            ]
          },
          "metadata": {},
          "execution_count": 13
        }
      ]
    },
    {
      "cell_type": "code",
      "source": [],
      "metadata": {
        "id": "zIJIeqfYpZeG"
      },
      "execution_count": 13,
      "outputs": []
    },
    {
      "cell_type": "code",
      "source": [
        "import ast\n",
        "# assume 'df' is your pandas DataFrame\n",
        "multiLabel_Data['Tag_Number'] = multiLabel_Data['Tag_Number'].apply(lambda x: [int(i) for i in ast.literal_eval(x)])"
      ],
      "metadata": {
        "id": "9aTsr8lshC_w"
      },
      "execution_count": 14,
      "outputs": []
    },
    {
      "cell_type": "code",
      "source": [
        "from sklearn.preprocessing import MultiLabelBinarizer\n",
        "\n",
        "# assume 'labels' is your list of labels (i.e., 'Tag_Number' column after conversion to integers)\n",
        "mlb = MultiLabelBinarizer()\n",
        "one_hot_labels= mlb.fit_transform(multiLabel_Data['Tag_Number'])\n",
        "for i in range(len(mlb.classes_)):\n",
        "    multiLabel_Data[f\"one_hot_{mlb.classes_[i]}\"] = one_hot_labels[:, i]"
      ],
      "metadata": {
        "id": "iAJsrBAvhIXe"
      },
      "execution_count": 15,
      "outputs": []
    },
    {
      "cell_type": "code",
      "source": [
        "multiLabel_Data.columns"
      ],
      "metadata": {
        "colab": {
          "base_uri": "https://localhost:8080/"
        },
        "id": "WQMyUmyx7fiu",
        "outputId": "2eb94a36-ec5b-47f8-c2e0-10efbfca9136"
      },
      "execution_count": 16,
      "outputs": [
        {
          "output_type": "execute_result",
          "data": {
            "text/plain": [
              "Index(['cleaned_text', 'Tags', 'Tag_Number', 'one_hot_0', 'one_hot_1',\n",
              "       'one_hot_2', 'one_hot_3', 'one_hot_4', 'one_hot_5', 'one_hot_6',\n",
              "       'one_hot_7', 'one_hot_8', 'one_hot_9'],\n",
              "      dtype='object')"
            ]
          },
          "metadata": {},
          "execution_count": 16
        }
      ]
    },
    {
      "cell_type": "code",
      "source": [
        "#multiLabel_Data['Tag_Number_encoded']"
      ],
      "metadata": {
        "id": "g8p-TlPthWgX"
      },
      "execution_count": 17,
      "outputs": []
    },
    {
      "cell_type": "code",
      "source": [
        "#multiLabel_Data['Tag_Number_encoded'].shape\n"
      ],
      "metadata": {
        "id": "gmyrfly2t-iK"
      },
      "execution_count": 18,
      "outputs": []
    },
    {
      "cell_type": "code",
      "source": [
        "X_final = multiLabel_Data['cleaned_text'].values"
      ],
      "metadata": {
        "id": "9Et9mS4IaowM"
      },
      "execution_count": 19,
      "outputs": []
    },
    {
      "cell_type": "code",
      "source": [
        "y_final = multiLabel_Data.loc[:, 'one_hot_0':'one_hot_9'].values\n",
        "unique_labels = np.unique(y_final)\n",
        "print(unique_labels)"
      ],
      "metadata": {
        "id": "BrRAxTxZejaF",
        "colab": {
          "base_uri": "https://localhost:8080/"
        },
        "outputId": "4b090a1a-4faa-4c5a-8ddf-842903b09c59"
      },
      "execution_count": 20,
      "outputs": [
        {
          "output_type": "stream",
          "name": "stdout",
          "text": [
            "[0 1]\n"
          ]
        }
      ]
    },
    {
      "cell_type": "code",
      "source": [
        "print(type(y_final), y_final.shape)"
      ],
      "metadata": {
        "id": "V4-ktoCfelQE",
        "colab": {
          "base_uri": "https://localhost:8080/"
        },
        "outputId": "188bb02a-4d88-4f60-cbf8-b8ed63346a4d"
      },
      "execution_count": 21,
      "outputs": [
        {
          "output_type": "stream",
          "name": "stdout",
          "text": [
            "<class 'numpy.ndarray'> (47427, 10)\n"
          ]
        }
      ]
    },
    {
      "cell_type": "markdown",
      "source": [
        "#Create Train/Test/Valid Split"
      ],
      "metadata": {
        "id": "_Soz3Y_feyv7"
      }
    },
    {
      "cell_type": "code",
      "source": [
        "#X_train, x_valid_test, y_train, y_valid_test = train_test_split(X_final, y_final, test_size = 0.4, stratify = y_final)\n",
        "X_train, x_valid_test, y_train, y_valid_test = train_test_split(X_final, y_final, test_size = 0.4)"
      ],
      "metadata": {
        "id": "a0XiDspOewFT"
      },
      "execution_count": 22,
      "outputs": []
    },
    {
      "cell_type": "code",
      "source": [
        "#X_valid, X_test, y_valid, y_test = train_test_split(x_valid_test, y_valid_test, test_size = 0.5, stratify = y_valid_test)\n",
        "X_valid, X_test, y_valid, y_test = train_test_split(x_valid_test, y_valid_test, test_size = 0.5)"
      ],
      "metadata": {
        "id": "e2Ko3qrwe1hb"
      },
      "execution_count": 23,
      "outputs": []
    },
    {
      "cell_type": "code",
      "source": [
        "print(\"Train set shape: \", X_train.shape, \"Split %: \", len(X_train)/len(X_final))\n",
        "print(\"Validation set shape: \", X_valid.shape,\"Split %: \", len(X_valid)/len(X_final))\n",
        "print(\"Test set shape: \", X_test.shape, \"Split %: \", len(X_test)/len(X_final))"
      ],
      "metadata": {
        "id": "2Hn0kveegX79",
        "colab": {
          "base_uri": "https://localhost:8080/"
        },
        "outputId": "8b10a90a-96fa-4eb1-d632-ec201f067a86"
      },
      "execution_count": 24,
      "outputs": [
        {
          "output_type": "stream",
          "name": "stdout",
          "text": [
            "Train set shape:  (28456,) Split %:  0.59999578299281\n",
            "Validation set shape:  (9485,) Split %:  0.19999156598562\n",
            "Test set shape:  (9486,) Split %:  0.20001265102156998\n"
          ]
        }
      ]
    },
    {
      "cell_type": "code",
      "source": [
        "trainset = CustomDataset(X_train,y_train)\n",
        "validset = CustomDataset(X_valid,y_valid)\n",
        "testset = CustomDataset(X_test,y_test)"
      ],
      "metadata": {
        "id": "U3058MHPgpht"
      },
      "execution_count": 25,
      "outputs": []
    },
    {
      "cell_type": "code",
      "source": [
        "print(np.unique(y_train), np.unique(y_valid), np.unique(y_test))"
      ],
      "metadata": {
        "colab": {
          "base_uri": "https://localhost:8080/"
        },
        "id": "FRxGI1DZljV0",
        "outputId": "6cd888a5-52b1-4f8a-dc64-67ff80bcebff"
      },
      "execution_count": 26,
      "outputs": [
        {
          "output_type": "stream",
          "name": "stdout",
          "text": [
            "[0 1] [0 1] [0 1]\n"
          ]
        }
      ]
    },
    {
      "cell_type": "markdown",
      "source": [
        "#Create vocab"
      ],
      "metadata": {
        "id": "Pml3PuH3j-V-"
      }
    },
    {
      "cell_type": "code",
      "source": [
        "multilabel_vocab = get_vocab(trainset, min_freq=2)"
      ],
      "metadata": {
        "id": "Lkxzji92j63N"
      },
      "execution_count": 27,
      "outputs": []
    },
    {
      "cell_type": "code",
      "source": [
        "len(multilabel_vocab)"
      ],
      "metadata": {
        "colab": {
          "base_uri": "https://localhost:8080/"
        },
        "id": "vtFsMZgEOk5o",
        "outputId": "7e6c66af-d2e5-42a4-b4cc-f72a125fe59b"
      },
      "execution_count": 28,
      "outputs": [
        {
          "output_type": "execute_result",
          "data": {
            "text/plain": [
              "90538"
            ]
          },
          "metadata": {},
          "execution_count": 28
        }
      ]
    },
    {
      "cell_type": "code",
      "source": [
        "valid_multilabel_vocab = get_vocab(validset, min_freq=2)"
      ],
      "metadata": {
        "id": "SI264seClU5-"
      },
      "execution_count": 29,
      "outputs": []
    },
    {
      "cell_type": "markdown",
      "source": [
        "#Meta Data"
      ],
      "metadata": {
        "id": "jmnuyTRbOzew"
      }
    },
    {
      "cell_type": "code",
      "source": [
        "from types import SimpleNamespace\n",
        "\n",
        "hyperparameters = SimpleNamespace(\n",
        "    # model Parameters\n",
        "    EMBED_DIM=300,\n",
        "    VOCAB_SIZE=len(multilabel_vocab),\n",
        "    OUTPUT_DIM=10,\n",
        "    HIDDEN_DIM1=200,\n",
        "    HIDDEN_DIM2=100,\n",
        "    NON_LINEARITY=F.relu,\n",
        "    \n",
        "    # training \n",
        "    EPOCHS=5,\n",
        "    BATCH_SIZE=128,\n",
        "    LEARNING_RATE=0.001,\n",
        "    WEIGHT_DECAY=0.000,\n",
        "    CLIP_TYPE = 'value',\n",
        "    CLIP_VALUE = 10,\n",
        "    PATIENCE=5,\n",
        "    MOMENTUM=0,  \n",
        ")"
      ],
      "metadata": {
        "id": "jHqulM93Ovrf"
      },
      "execution_count": 30,
      "outputs": []
    },
    {
      "cell_type": "markdown",
      "source": [
        "#Trainer Configuration"
      ],
      "metadata": {
        "id": "Bxoww9DhPvJF"
      }
    },
    {
      "cell_type": "code",
      "source": [
        "'''def collate_batch_multilabel(batch, vocab, num_classes):\n",
        "    labels, texts = zip(*batch)\n",
        "    labels = torch.tensor(labels, dtype=torch.float32)\n",
        "    #labels = torch.tensor(labels, dtype=torch.float32).to(torch.float32)\n",
        "    labels = torch.nn.functional.one_hot(labels.to(torch.int64), num_classes=num_classes)\n",
        "\n",
        "    list_of_list_of_indices = [text_pipeline(text, vocab) for text in texts]\n",
        "\n",
        "    offsets = [0] + [len(i) for i in list_of_list_of_indices]\n",
        "    offsets = torch.tensor(offsets[:-1]).cumsum(dim=0)\n",
        "    texts = torch.cat([torch.tensor(i, dtype=torch.int64) for i in list_of_list_of_indices])\n",
        "\n",
        "    return (texts, offsets), labels.to(torch.float32)'''"
      ],
      "metadata": {
        "id": "IdONRbhvkBHx",
        "colab": {
          "base_uri": "https://localhost:8080/",
          "height": 105
        },
        "outputId": "19ce33e8-f176-483e-a4ff-c09b636fc475"
      },
      "execution_count": 31,
      "outputs": [
        {
          "output_type": "execute_result",
          "data": {
            "text/plain": [
              "'def collate_batch_multilabel(batch, vocab, num_classes):\\n    labels, texts = zip(*batch)\\n    labels = torch.tensor(labels, dtype=torch.float32)\\n    #labels = torch.tensor(labels, dtype=torch.float32).to(torch.float32)\\n    labels = torch.nn.functional.one_hot(labels.to(torch.int64), num_classes=num_classes)\\n\\n    list_of_list_of_indices = [text_pipeline(text, vocab) for text in texts]\\n\\n    offsets = [0] + [len(i) for i in list_of_list_of_indices]\\n    offsets = torch.tensor(offsets[:-1]).cumsum(dim=0)\\n    texts = torch.cat([torch.tensor(i, dtype=torch.int64) for i in list_of_list_of_indices])\\n\\n    return (texts, offsets), labels.to(torch.float32)'"
            ],
            "application/vnd.google.colaboratory.intrinsic+json": {
              "type": "string"
            }
          },
          "metadata": {},
          "execution_count": 31
        }
      ]
    },
    {
      "cell_type": "code",
      "source": [
        "def collate_batch_multilabel(batch, vocab):\n",
        "    labels, texts = zip(*batch)\n",
        "    labels = torch.tensor(labels, dtype=torch.float32)\n",
        "    list_of_list_of_indices = [text_pipeline(text, vocab) for text in texts]\n",
        "    offsets = [0] + [len(i) for i in list_of_list_of_indices]\n",
        "    offsets = torch.tensor(offsets[:-1]).cumsum(dim=0)\n",
        "    texts = torch.cat([torch.tensor(i, dtype=torch.int64) for i in list_of_list_of_indices])\n",
        "    return (texts, offsets), labels"
      ],
      "metadata": {
        "id": "lYYqyVZw3Yh2"
      },
      "execution_count": 32,
      "outputs": []
    },
    {
      "cell_type": "code",
      "source": [
        "from functools import partial\n",
        "# Fix seed value\n",
        "Trainer.set_seed()\n",
        "\n",
        "collate_fn = partial(collate_batch_multilabel, vocab=multilabel_vocab)\n",
        "#train_loader = torch.utils.data.DataLoader(dataset=trainset,\n",
        "                                           #batch_size=hyperparameters.BATCH_SIZE,\n",
        "                                           #collate_fn=collate_fn,\n",
        "                                           #shuffle=True)\n",
        "#collate_fn = partial(collate_batch_multilabel, vocab=valid_multilabel_vocab)\n",
        "#valid_loader = torch.utils.data.DataLoader(dataset=validset,\n",
        " #                                          batch_size=hyperparameters.BATCH_SIZE,\n",
        "  #                                         collate_fn=lambda batch: collate_batch_multilabel(batch, valid_multilabel_vocab),\n",
        "   #                                        shuffle=False)\n",
        "#valid_loader = torch.utils.data.DataLoader(dataset=validset,\n",
        "                                          # batch_size=hyperparameters.BATCH_SIZE,\n",
        "                                          # collate_fn=collate_fn,\n",
        "                                          # shuffle=True)\n",
        "\n",
        "# Data Loader\n",
        "train_loader, valid_loader = get_loaders(trainset, validset, batch_size_= hyperparameters.BATCH_SIZE, \n",
        "                                         collate_fn=collate_fn)\n",
        "\n",
        "# cross entropy loss function\n",
        "#loss_function = nn.CrossEntropyLoss()\n",
        "loss_function = torch.nn.BCEWithLogitsLoss()\n",
        "# model\n",
        "model_imdb = MLPCustom(hyperparameters.EMBED_DIM,\n",
        "                       hyperparameters.VOCAB_SIZE,\n",
        "                       hyperparameters.HIDDEN_DIM1,\n",
        "                       hyperparameters.HIDDEN_DIM2,\n",
        "                       hyperparameters.OUTPUT_DIM,\n",
        "                       hyperparameters.NON_LINEARITY)\n",
        "\n",
        "def init_weights(m):\n",
        "    if type(m) == nn.Linear:\n",
        "        torch.nn.init.kaiming_normal_(m.weight)\n",
        "        torch.nn.init.zeros_(m.bias)\n",
        "\n",
        "\n",
        "# apply initialization recursively  to all modules\n",
        "model_imdb.apply(init_weights)\n",
        "\n",
        "# Intialize stochiastic gradient descent optimizer\n",
        "optimizer = torch.optim.Adam(model_imdb.parameters(),\n",
        "                             lr=hyperparameters.LEARNING_RATE,\n",
        "                             weight_decay=hyperparameters.WEIGHT_DECAY,\n",
        "                             )\n",
        "device = torch.device('cuda:0' if torch.cuda.is_available() else 'cpu')"
      ],
      "metadata": {
        "id": "BCIHHBEKoyjH"
      },
      "execution_count": 33,
      "outputs": []
    },
    {
      "cell_type": "code",
      "source": [
        "#print(train_loader.shape, train_loader.shape)\n",
        "for (texts, offsets), labels in valid_loader:\n",
        "  print(labels, texts, offsets)\n",
        "  break"
      ],
      "metadata": {
        "id": "mpLBXT3pj4_W",
        "colab": {
          "base_uri": "https://localhost:8080/"
        },
        "outputId": "15f36bd5-4aed-4354-e839-b5f8561754fe"
      },
      "execution_count": 34,
      "outputs": [
        {
          "output_type": "stream",
          "name": "stdout",
          "text": [
            "tensor([[0., 0., 0.,  ..., 0., 0., 0.],\n",
            "        [0., 0., 0.,  ..., 0., 0., 0.],\n",
            "        [1., 0., 0.,  ..., 0., 0., 1.],\n",
            "        ...,\n",
            "        [1., 0., 0.,  ..., 0., 0., 1.],\n",
            "        [0., 0., 0.,  ..., 0., 0., 0.],\n",
            "        [0., 1., 0.,  ..., 0., 0., 0.]]) tensor([1058,  283,  302,  ...,    0,   49,    0]) tensor([    0,    58,   110,   309,   395,   457,   589,   736,   761,   795,\n",
            "          914,   952,  1016,  1027,  1173,  1234,  1318,  1416,  1792,  1843,\n",
            "         1868,  1904,  2010,  2121,  2169,  2314,  2450,  2473,  2603,  2949,\n",
            "         2972,  2995,  3086,  3132,  3220,  3259,  3352,  3375,  3414,  3480,\n",
            "         3548,  3685,  3724,  3801,  4533,  4557,  4628,  4747,  4856,  4883,\n",
            "         5149,  5258,  5286,  5315,  5364,  5608,  5718,  5755,  5816,  5912,\n",
            "         5925,  5961,  6100,  6145,  6168,  6384,  6430,  6502,  6684,  7328,\n",
            "         7393,  7436,  7479,  7541,  7614,  7685,  7704,  7920,  7999,  8035,\n",
            "         8059,  8108,  8224,  8330,  8464,  8786,  8839,  8913,  9068,  9102,\n",
            "         9132,  9158,  9221,  9256,  9278,  9403,  9648,  9684,  9724,  9745,\n",
            "        10026, 10038, 10132, 10230, 10285, 10586, 10667, 10687, 10745, 10784,\n",
            "        10868, 11017, 11052, 11259, 11323, 11355, 11626, 11691, 11748, 11924,\n",
            "        11949, 11969, 12226, 12357, 12390, 12536, 12631, 12784])\n"
          ]
        },
        {
          "output_type": "stream",
          "name": "stderr",
          "text": [
            "<ipython-input-32-0afa194fa4de>:3: UserWarning: Creating a tensor from a list of numpy.ndarrays is extremely slow. Please consider converting the list to a single numpy.ndarray with numpy.array() before converting to a tensor. (Triggered internally at ../torch/csrc/utils/tensor_new.cpp:245.)\n",
            "  labels = torch.tensor(labels, dtype=torch.float32)\n"
          ]
        }
      ]
    },
    {
      "cell_type": "markdown",
      "source": [
        "#Training Model"
      ],
      "metadata": {
        "id": "D_i3Q8ygQPv3"
      }
    },
    {
      "cell_type": "code",
      "source": [
        "trainer = Trainer(model=model_imdb, optimizer=optimizer,\n",
        "                  criterion=loss_function, device=device)"
      ],
      "metadata": {
        "id": "hJyQaLgkQUCH"
      },
      "execution_count": 35,
      "outputs": []
    },
    {
      "cell_type": "code",
      "source": [
        "#from torchmetrics.classification import Accuracy\n",
        "from torchmetrics.classification import HammingDistance\n",
        "run_folder = assignment_fldr/'rev2'\n",
        "run_folder.mkdir(exist_ok=True)\n",
        "\n",
        "# set loaders\n",
        "trainer.set_loaders(train_loader, valid_loader)\n",
        "\n",
        "# set metric -- OPTIONAL\n",
        "#train_metric = Accuracy(task='binary')\n",
        "train_metric = HammingDistance(mode='multilabel',task='multilabel', num_labels=10,compute_on_step=False)\n",
        "#valid_metric = Accuracy(task='binary')\n",
        "valid_metric = HammingDistance(mode='multilabel',task='multilabel', num_labels=10,compute_on_step=False)\n",
        "trainer.set_metric(train_metric.to(device), valid_metric.to(device))\n",
        "\n",
        "# set checkpoint -- OPTIONAL\n",
        "trainer.set_checkpoint(save_path=run_folder,\n",
        "                       save_best=True, save_every_n_epochs=1, save_last_epoch=False)\n",
        "\n",
        "# set early stopping -- OPTIONAL\n",
        "trainer.set_early_stopping(patience = hyperparameters.PATIENCE)\n",
        "\n",
        "# set gradient Clipping  -- OPTIONAL\n",
        "trainer.set_gradient_clipping(hyperparameters.CLIP_TYPE, hyperparameters.CLIP_VALUE, norm_type=2)"
      ],
      "metadata": {
        "id": "tAmN1W-TQcgo"
      },
      "execution_count": 36,
      "outputs": []
    },
    {
      "cell_type": "code",
      "source": [
        "trainer.sanity_check(num_classes=2)"
      ],
      "metadata": {
        "id": "lbRc3MKcRAKC",
        "colab": {
          "base_uri": "https://localhost:8080/"
        },
        "outputId": "130da42f-bab0-4164-cfdf-1a382d5ad018"
      },
      "execution_count": 37,
      "outputs": [
        {
          "output_type": "stream",
          "name": "stdout",
          "text": [
            "Actual loss: 0.7231895327568054\n",
            "Expected Theoretical loss: 0.6931471805599453\n"
          ]
        }
      ]
    },
    {
      "cell_type": "code",
      "source": [
        "trainer.train(num_epochs=hyperparameters.EPOCHS, multilabel=True)"
      ],
      "metadata": {
        "id": "vX0wRIdJREc6",
        "colab": {
          "base_uri": "https://localhost:8080/"
        },
        "outputId": "d1179ab9-477e-42d3-bacf-dcdfa5823918"
      },
      "execution_count": 38,
      "outputs": [
        {
          "output_type": "stream",
          "name": "stdout",
          "text": [
            "Epoch 1/5 - Train Loss: 0.5762, Train Metric: 0.2655, Train Time: 0:01:46.584139\n",
            "Epoch 1/5 - Val Loss: 0.2285, Val Metric: 0.0729, Val Time: 0:00:00.962347\n",
            "\n",
            "Epoch 2/5 - Train Loss: 0.2331, Train Metric: 0.0830, Train Time: 0:01:23.711080\n",
            "Epoch 2/5 - Val Loss: 0.1648, Val Metric: 0.0605, Val Time: 0:00:01.166872\n",
            "\n",
            "Epoch 3/5 - Train Loss: 0.1770, Train Metric: 0.0626, Train Time: 0:01:19.985982\n",
            "Epoch 3/5 - Val Loss: 0.1447, Val Metric: 0.0528, Val Time: 0:00:00.942895\n",
            "\n",
            "Epoch 4/5 - Train Loss: 0.1500, Train Metric: 0.0531, Train Time: 0:01:21.166316\n",
            "Epoch 4/5 - Val Loss: 0.1319, Val Metric: 0.0481, Val Time: 0:00:00.965853\n",
            "\n",
            "Epoch 5/5 - Train Loss: 0.1329, Train Metric: 0.0472, Train Time: 0:01:19.129662\n",
            "Epoch 5/5 - Val Loss: 0.1235, Val Metric: 0.0451, Val Time: 0:00:01.309178\n",
            "\n"
          ]
        }
      ]
    },
    {
      "cell_type": "code",
      "source": [
        "trainer.plot_history()"
      ],
      "metadata": {
        "id": "UsSEIC6dmgN8",
        "colab": {
          "base_uri": "https://localhost:8080/",
          "height": 881
        },
        "outputId": "95b320d6-052d-4ffb-cf03-06f9b0892188"
      },
      "execution_count": 39,
      "outputs": [
        {
          "output_type": "display_data",
          "data": {
            "text/plain": [
              "<Figure size 640x480 with 1 Axes>"
            ],
            "image/png": "[encoded data removed]"
          },
          "metadata": {}
        },
        {
          "output_type": "display_data",
          "data": {
            "text/plain": [
              "<Figure size 640x480 with 1 Axes>"
            ],
            "image/png": "[encoded data removed]"
          },
          "metadata": {}
        }
      ]
    },
    {
      "cell_type": "code",
      "source": [
        "trainer.best_epoch"
      ],
      "metadata": {
        "id": "N7AjYIIBmmf0",
        "colab": {
          "base_uri": "https://localhost:8080/"
        },
        "outputId": "30c47259-4105-4081-ddef-4885ac9cd861"
      },
      "execution_count": 40,
      "outputs": [
        {
          "output_type": "execute_result",
          "data": {
            "text/plain": [
              "5"
            ]
          },
          "metadata": {},
          "execution_count": 40
        }
      ]
    },
    {
      "cell_type": "code",
      "source": [
        "file = 'checkpoint_' + str(trainer.timestamp) + '_best.pt'\n",
        "trainer.load_checkpoint(run_folder /file)"
      ],
      "metadata": {
        "id": "HDSHzqxuVsa3",
        "outputId": "9bb0c985-54d5-49e1-f605-f7f13a393544",
        "colab": {
          "base_uri": "https://localhost:8080/"
        }
      },
      "execution_count": 49,
      "outputs": [
        {
          "output_type": "stream",
          "name": "stdout",
          "text": [
            "Loaded checkpoint from '/content/drive/MyDrive/NLP/assignment6/rev2/checkpoint_2023-04-09_23-14-12_best.pt'.\n"
          ]
        }
      ]
    },
    {
      "cell_type": "code",
      "source": [
        "trainer.train(num_epochs=10, multilabel=True)"
      ],
      "metadata": {
        "id": "dhxHEmM3VxNY",
        "outputId": "e349880b-2776-4e80-bae7-1741dd709dd8",
        "colab": {
          "base_uri": "https://localhost:8080/"
        }
      },
      "execution_count": 50,
      "outputs": [
        {
          "output_type": "stream",
          "name": "stdout",
          "text": [
            "Epoch 1/10 - Train Loss: 0.1195, Train Metric: 0.0425, Train Time: 0:01:23.544345\n",
            "Epoch 1/10 - Val Loss: 0.1154, Val Metric: 0.0422, Val Time: 0:00:00.963920\n",
            "\n",
            "Epoch 2/10 - Train Loss: 0.1067, Train Metric: 0.0377, Train Time: 0:01:25.170896\n",
            "Epoch 2/10 - Val Loss: 0.1107, Val Metric: 0.0400, Val Time: 0:00:01.428602\n",
            "\n",
            "Epoch 3/10 - Train Loss: 0.0969, Train Metric: 0.0349, Train Time: 0:01:19.483922\n",
            "Epoch 3/10 - Val Loss: 0.1088, Val Metric: 0.0389, Val Time: 0:00:00.944626\n",
            "\n",
            "Epoch 4/10 - Train Loss: 0.0879, Train Metric: 0.0313, Train Time: 0:01:36.732818\n",
            "Epoch 4/10 - Val Loss: 0.1052, Val Metric: 0.0378, Val Time: 0:00:01.720965\n",
            "\n",
            "Epoch 5/10 - Train Loss: 0.0811, Train Metric: 0.0290, Train Time: 0:01:20.414917\n",
            "Epoch 5/10 - Val Loss: 0.1045, Val Metric: 0.0370, Val Time: 0:00:00.953255\n",
            "\n",
            "EarlyStopping counter: 1 out of 5\n",
            "Epoch 6/10 - Train Loss: 0.0743, Train Metric: 0.0264, Train Time: 0:01:20.376981\n",
            "Epoch 6/10 - Val Loss: 0.1046, Val Metric: 0.0370, Val Time: 0:00:01.759468\n",
            "\n",
            "Epoch 7/10 - Train Loss: 0.0681, Train Metric: 0.0244, Train Time: 0:01:19.623453\n",
            "Epoch 7/10 - Val Loss: 0.1022, Val Metric: 0.0352, Val Time: 0:00:00.940709\n",
            "\n",
            "EarlyStopping counter: 1 out of 5\n",
            "Epoch 8/10 - Train Loss: 0.0628, Train Metric: 0.0227, Train Time: 0:01:18.421609\n",
            "Epoch 8/10 - Val Loss: 0.1025, Val Metric: 0.0349, Val Time: 0:00:00.944996\n",
            "\n",
            "EarlyStopping counter: 2 out of 5\n",
            "Epoch 9/10 - Train Loss: 0.0584, Train Metric: 0.0209, Train Time: 0:01:21.041150\n",
            "Epoch 9/10 - Val Loss: 0.1049, Val Metric: 0.0345, Val Time: 0:00:01.712927\n",
            "\n",
            "EarlyStopping counter: 3 out of 5\n",
            "Epoch 10/10 - Train Loss: 0.0537, Train Metric: 0.0188, Train Time: 0:01:18.689685\n",
            "Epoch 10/10 - Val Loss: 0.1066, Val Metric: 0.0347, Val Time: 0:00:01.016434\n",
            "\n"
          ]
        }
      ]
    },
    {
      "cell_type": "code",
      "source": [
        "trainer.plot_history()"
      ],
      "metadata": {
        "id": "mDEICWB_W6G_",
        "outputId": "fddd7491-0f72-433f-fb27-0fac5aaef7aa",
        "colab": {
          "base_uri": "https://localhost:8080/",
          "height": 885
        }
      },
      "execution_count": 51,
      "outputs": [
        {
          "output_type": "display_data",
          "data": {
            "text/plain": [
              "<Figure size 640x480 with 1 Axes>"
            ],
            "image/png": "[encoded data removed]"
          },
          "metadata": {}
        },
        {
          "output_type": "display_data",
          "data": {
            "text/plain": [
              "<Figure size 640x480 with 1 Axes>"
            ],
            "image/png": "[encoded data removed]"
          },
          "metadata": {}
        }
      ]
    },
    {
      "cell_type": "code",
      "source": [
        "trainer.best_epoch"
      ],
      "metadata": {
        "id": "_2wQdEoKW9Jh",
        "outputId": "c0ac9d8f-5f91-4422-8f13-683478bbc714",
        "colab": {
          "base_uri": "https://localhost:8080/"
        }
      },
      "execution_count": 52,
      "outputs": [
        {
          "output_type": "execute_result",
          "data": {
            "text/plain": [
              "11"
            ]
          },
          "metadata": {},
          "execution_count": 52
        }
      ]
    },
    {
      "cell_type": "markdown",
      "source": [
        "#Get Accuracy, Predictions"
      ],
      "metadata": {
        "id": "cMVMdF1Fmq1N"
      }
    },
    {
      "cell_type": "code",
      "source": [
        "testset = CustomDataset(X_test, y_test)"
      ],
      "metadata": {
        "id": "tW0F0JwDmo-N"
      },
      "execution_count": 60,
      "outputs": []
    },
    {
      "cell_type": "code",
      "source": [
        "test_multilabel_vocab = get_vocab(testset, min_freq=2)"
      ],
      "metadata": {
        "id": "TGJf7kGb67Gr"
      },
      "execution_count": 61,
      "outputs": []
    },
    {
      "cell_type": "code",
      "source": [
        "collate_fn = partial(collate_batch_multilabel, vocab=test_multilabel_vocab)\n",
        "test_loader = get_test_loaders(testset, batch_size_=hyperparameters.BATCH_SIZE,\n",
        "                               collate_fn=collate_fn)\n",
        "#collate_fn = partial(collate_batch_multilabel, vocab=test_multilabel_vocab)\n",
        "#test_loader = torch.utils.data.DataLoader(dataset=validset,\n",
        "                                          # batch_size=hyperparameters.BATCH_SIZE,\n",
        "                                           #collate_fn=collate_fn,\n",
        "                                          # shuffle=False)\n",
        "#test_loader = torch.utils.data.DataLoader(dataset=validset,\n",
        " #                                          batch_size=hyperparameters.BATCH_SIZE,\n",
        "  #                                         collate_fn=lambda batch: collate_batch_multilabel(batch, test_multilabel_vocab),\n",
        "   #                                        shuffle=True)"
      ],
      "metadata": {
        "id": "1-UxWIofmyjT"
      },
      "execution_count": 62,
      "outputs": []
    },
    {
      "cell_type": "code",
      "source": [
        "# Get the prediction and accuracy for the test dataset\n",
        "\n",
        "predictions_train, target_train = trainer.predict(\n",
        "    train_loader, return_targets=True)\n",
        "predictions_valid, target_valid = trainer.predict(\n",
        "    valid_loader, return_targets=True)\n",
        "predictions_test, target_test = trainer.predict(\n",
        "    test_loader, return_targets=True)"
      ],
      "metadata": {
        "id": "Tiht4zHDm6DL"
      },
      "execution_count": 63,
      "outputs": []
    },
    {
      "cell_type": "code",
      "source": [
        "print(target_train.shape, predictions_train.shape)\n",
        "print(target_valid.shape, predictions_valid.shape)\n",
        "print(target_test.shape, predictions_test.shape)"
      ],
      "metadata": {
        "colab": {
          "base_uri": "https://localhost:8080/"
        },
        "id": "PdTmCwu0H3xO",
        "outputId": "f8457942-ceb4-4473-d81c-b709fa621eca"
      },
      "execution_count": 64,
      "outputs": [
        {
          "output_type": "stream",
          "name": "stdout",
          "text": [
            "torch.Size([28456, 10]) torch.Size([28456])\n",
            "torch.Size([9485, 10]) torch.Size([9485])\n",
            "torch.Size([9486, 10]) torch.Size([9486])\n"
          ]
        }
      ]
    },
    {
      "cell_type": "code",
      "source": [
        "import torchmetrics"
      ],
      "metadata": {
        "id": "yjl98LkpnjGa"
      },
      "execution_count": 65,
      "outputs": []
    },
    {
      "cell_type": "code",
      "source": [
        "from sklearn.metrics import accuracy_score, f1_score"
      ],
      "metadata": {
        "id": "kahxGQvxn_Lq"
      },
      "execution_count": 66,
      "outputs": []
    },
    {
      "cell_type": "code",
      "source": [
        "from torchmetrics.functional.classification import multilabel_f1_score, multilabel_hamming_distance\n",
        "#num_classes = target_train.shape[-1]\n",
        "threshold = 0.5\n",
        "average='micro'\n",
        "#binary_predictions_train = (predictions_train > threshold).int()\n",
        "#binary_predictions_valid = (predictions_valid > threshold).int()\n",
        "#binary_predictions_test = (predictions_test > threshold).int()\n",
        "import torch.nn.functional as F\n",
        "\n",
        "num_classes = target_train.shape[-1]\n",
        "binary_target_train = torch.zeros(target_train.shape[0], num_classes, dtype=torch.float32)\n",
        "binary_target_train.scatter_(1, torch.tensor(target_train, dtype=torch.int64), 1)\n",
        "# compute binary predictions\n",
        "binary_predictions_train = (predictions_train > threshold).int()\n",
        "#print(\"Train binary predictions: \", binary_predictions_train.shape)\n",
        "print(\"Train binary targets: \", binary_target_train.shape)\n",
        "print(\"Train binary predictions: \", binary_predictions_train.shape)\n",
        "f1_score_train = f1_score(binary_target_train, binary_predictions_train, average='micro')\n",
        "hamming_distance_train = multilabel_hamming_distance(binary_predictions_train, target_train, num_labels=num_classes)\n",
        "print(\"Train F1 Score: \",f1_score_train, \" Train hamming distance: \", hamming_distance_train)\n",
        "#f1_score_train = multilabel_f1_score(binary_predictions_train, target_train,num_labels=num_classes, threshold=threshold, average=average)\n",
        "f1_score_train = f1_score(binary_target_train, binary_predictions_train, average='micro')\n",
        "hamming_distance_train = multilabel_hamming_distance(binary_predictions_train, target_train, num_labels=num_classes)\n",
        "print(\"Train F1 Score: \",f1_score_train, \" Train hamming distance: \", hamming_distance_train)\n",
        "\n",
        "num_classes = target_valid.shape[-1]\n",
        "binary_predictions_valid = F.one_hot(predictions_valid, num_classes=num_classes)\n",
        "print(\"Valid binary predictions: \", binary_predictions_valid.shape)\n",
        "f1_score_valid = multilabel_f1_score(binary_predictions_valid, target_valid, num_labels=num_classes, threshold=threshold, average=average)\n",
        "hamming_distance_valid = multilabel_hamming_distance(binary_predictions_valid, target_valid, num_labels=num_classes)\n",
        "print(\"Train F1 Score: \",f1_score_valid, \" Train hamming distance: \", hamming_distance_valid)\n",
        "\n",
        "num_classes = target_test.shape[-1]\n",
        "binary_predictions_test = F.one_hot(predictions_test, num_classes=num_classes)\n",
        "print(\"Test binary predictions: \", binary_predictions_test.shape)\n",
        "f1_score_test = multilabel_f1_score(binary_predictions_test, target_test, num_labels=num_classes, threshold=threshold, average=average)\n",
        "hamming_distance_test = multilabel_hamming_distance(binary_predictions_test, target_test, num_labels=num_classes)\n",
        "print(\"Test F1 Score: \",f1_score_test, \" Test hamming distance: \", hamming_distance_test)\n",
        "\n",
        "# assuming y_true and y_pred are the ground truth and predicted labels, respectively\n",
        "#f1_score = multilabel_f1_score(predictions_train, target_train, num_classes=num_classes, threshold=threshold, average=average)\n",
        "#hamming_distance = multilabel_hamming_distance(predictions_train, target_train, num_labels=num_labels)"
      ],
      "metadata": {
        "id": "ff_8AshHoRqh"
      },
      "execution_count": null,
      "outputs": []
    },
    {
      "cell_type": "code",
      "source": [],
      "metadata": {
        "id": "YsOJYtpB0YC_"
      },
      "execution_count": null,
      "outputs": []
    }
  ]
}