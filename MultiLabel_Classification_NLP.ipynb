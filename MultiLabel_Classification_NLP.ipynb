{
  "nbformat": 4,
  "nbformat_minor": 0,
  "metadata": {
    "colab": {
      "provenance": [],
      "authorship_tag": "ABX9TyNw+XgamHM6suF/UpVEUnbr",
      "include_colab_link": true
    },
    "kernelspec": {
      "name": "python3",
      "display_name": "Python 3"
    },
    "language_info": {
      "name": "python"
    }
  },
  "cells": [
    {
      "cell_type": "markdown",
      "metadata": {
        "id": "view-in-github",
        "colab_type": "text"
      },
      "source": [
        "<a href=\"https://colab.research.google.com/github/parimalakettymuthu/MachineLearning-Projects/blob/main/MultiLabel_Classification_NLP.ipynb\" target=\"_parent\"><img src=\"https://colab.research.google.com/assets/colab-badge.svg\" alt=\"Open In Colab\"/></a>"
      ]
    },
    {
      "cell_type": "code",
      "source": [
        "%load_ext autoreload\n",
        "%autoreload 2"
      ],
      "metadata": {
        "id": "0hAyTHurT-lH",
        "colab": {
          "base_uri": "https://localhost:8080/"
        },
        "outputId": "290272dc-b759-4b11-86de-863417c0528d"
      },
      "execution_count": 127,
      "outputs": [
        {
          "output_type": "stream",
          "name": "stdout",
          "text": [
            "The autoreload extension is already loaded. To reload it, use:\n",
            "  %reload_ext autoreload\n"
          ]
        }
      ]
    },
    {
      "cell_type": "code",
      "source": [
        "import sys \n",
        "#sys.path.append('/content/drive/MyDrive/NLP/custom-functions')"
      ],
      "metadata": {
        "id": "zT63hu4OUC82"
      },
      "execution_count": 128,
      "outputs": []
    },
    {
      "cell_type": "code",
      "execution_count": 129,
      "metadata": {
        "id": "3Kdp7KNWRxSa"
      },
      "outputs": [],
      "source": [
        "import pandas as pd\n",
        "from pathlib import Path\n",
        "import joblib\n",
        "# Importing the necessary libraries\n",
        "import torch\n",
        "import torch.nn as nn\n",
        "import torch.nn.functional as F\n",
        "from torchtext.vocab import  vocab\n",
        "\n",
        "import random\n",
        "import numpy as np\n",
        "import pandas as pd\n",
        "import joblib\n",
        "from collections import Counter\n",
        "\n",
        "\n",
        "from pathlib import Path\n",
        "import sys\n",
        "\n",
        "from sklearn.model_selection import train_test_split\n",
        "!pip install wandb -qq\n",
        "import wandb"
      ]
    },
    {
      "cell_type": "code",
      "source": [
        "if 'google.colab' in str(get_ipython()):\n",
        "  from google.colab import drive\n",
        "  drive.mount('/content/drive')   \n",
        "  base_path = '/content/drive/MyDrive/NLP'\n",
        "  sys.path.append('/content/drive/MyDrive/NLP/user-defined-fns')\n",
        "  sys.path.append('/content/drive/MyDrive/NLP/user-defined-fn')\n",
        "  sys.path.append('/content/drive/MyDrive/NLP/user-defined')"
      ],
      "metadata": {
        "colab": {
          "base_uri": "https://localhost:8080/"
        },
        "id": "vEqI31NGSB8E",
        "outputId": "5300e779-c054-4165-91a6-b019b4d770a3"
      },
      "execution_count": 130,
      "outputs": [
        {
          "output_type": "stream",
          "name": "stdout",
          "text": [
            "Drive already mounted at /content/drive; to attempt to forcibly remount, call drive.mount(\"/content/drive\", force_remount=True).\n"
          ]
        }
      ]
    },
    {
      "cell_type": "code",
      "source": [
        "base_folder = Path(base_path)\n",
        "assignment_fldr = base_folder/ 'assignment6'\n",
        "custom_fldr = base_folder/ 'user-defined-fn'\n",
        "\n",
        "#Check contents in data folder\n",
        "for entries in custom_fldr.iterdir():\n",
        "  print(entries.name)"
      ],
      "metadata": {
        "colab": {
          "base_uri": "https://localhost:8080/"
        },
        "id": "3-o_n-FkS2qs",
        "outputId": "55c7e7ab-be2d-4572-bb54-aafabca01794"
      },
      "execution_count": 131,
      "outputs": [
        {
          "output_type": "stream",
          "name": "stdout",
          "text": [
            "data_preparation_imdb_rev0.py\n",
            ".ipynb_checkpoints\n",
            "__pycache__\n"
          ]
        }
      ]
    },
    {
      "cell_type": "code",
      "source": [
        "#sys.path.append('/content/drive/MyDrive/NLP/custom-functions')\n",
        "sys.path = list(set(sys.path))"
      ],
      "metadata": {
        "id": "cUbDeEuAmSGX"
      },
      "execution_count": 132,
      "outputs": []
    },
    {
      "cell_type": "code",
      "source": [
        "sys.path"
      ],
      "metadata": {
        "colab": {
          "base_uri": "https://localhost:8080/"
        },
        "id": "63DrEKz6mVWO",
        "outputId": "a28bdf8c-fa75-4f31-fe6a-305ab619e6a4"
      },
      "execution_count": 133,
      "outputs": [
        {
          "output_type": "execute_result",
          "data": {
            "text/plain": [
              "['',\n",
              " '/root/.ipython',\n",
              " '/content/drive/MyDrive/NLP/user-defined',\n",
              " '/content/drive/MyDrive/NLP/user-defined-fns',\n",
              " '/content',\n",
              " '/content/drive/MyDrive/NLP/user-defined-fn',\n",
              " '/usr/lib/python3.9',\n",
              " '/usr/lib/python3.9/lib-dynload',\n",
              " '/usr/local/lib/python3.9/dist-packages',\n",
              " '/usr/local/lib/python3.9/dist-packages/IPython/extensions',\n",
              " '/env/python',\n",
              " '/usr/lib/python39.zip',\n",
              " '/usr/lib/python3/dist-packages']"
            ]
          },
          "metadata": {},
          "execution_count": 133
        }
      ]
    },
    {
      "cell_type": "code",
      "source": [
        "!pip install torchmetrics -qq"
      ],
      "metadata": {
        "id": "Qdu0GC2FG-v7"
      },
      "execution_count": 134,
      "outputs": []
    },
    {
      "cell_type": "code",
      "source": [
        "from Trainer_v2 import Trainer\n",
        "from ff_3_layer_sequential_model import MLPCustom"
      ],
      "metadata": {
        "id": "C29fXsrflwoO"
      },
      "execution_count": 135,
      "outputs": []
    },
    {
      "cell_type": "code",
      "source": [
        "from data_preparation_imdb_rev0 import *"
      ],
      "metadata": {
        "id": "KegW-cQiIjui"
      },
      "execution_count": 136,
      "outputs": []
    },
    {
      "cell_type": "code",
      "source": [
        "df_multilable_data = assignment_fldr/ 'df_multilabel_hw_cleaned.joblib'\n",
        "multiLabel_Data = joblib.load(df_multilable_data)"
      ],
      "metadata": {
        "id": "8CMy-nX9TQvM"
      },
      "execution_count": 137,
      "outputs": []
    },
    {
      "cell_type": "code",
      "source": [
        "multiLabel_Data.columns"
      ],
      "metadata": {
        "id": "hFG1VYkjadBh",
        "colab": {
          "base_uri": "https://localhost:8080/"
        },
        "outputId": "0a8bfc1a-8cf2-43f9-f298-06a1ffb4b94e"
      },
      "execution_count": 138,
      "outputs": [
        {
          "output_type": "execute_result",
          "data": {
            "text/plain": [
              "Index(['cleaned_text', 'Tags', 'Tag_Number'], dtype='object')"
            ]
          },
          "metadata": {},
          "execution_count": 138
        }
      ]
    },
    {
      "cell_type": "code",
      "source": [
        "multiLabel_Data.shape"
      ],
      "metadata": {
        "id": "qM9YdVq5air3",
        "colab": {
          "base_uri": "https://localhost:8080/"
        },
        "outputId": "d49ad525-63a9-43b2-9e6e-101a70a120fe"
      },
      "execution_count": 139,
      "outputs": [
        {
          "output_type": "execute_result",
          "data": {
            "text/plain": [
              "(47427, 3)"
            ]
          },
          "metadata": {},
          "execution_count": 139
        }
      ]
    },
    {
      "cell_type": "code",
      "source": [
        "print(set(multiLabel_Data['Tag_Number']))"
      ],
      "metadata": {
        "colab": {
          "base_uri": "https://localhost:8080/"
        },
        "id": "zIJIeqfYpZeG",
        "outputId": "42317dfa-7188-4228-8e6a-7bf0a58cb72e"
      },
      "execution_count": 140,
      "outputs": [
        {
          "output_type": "stream",
          "name": "stdout",
          "text": [
            "{'[0, 2, 3, 9, 6]', '[0, 2, 5, 9]', '[2, 3, 5, 9]', '[0, 1, 3, 5]', '[8, 6]', '[0, 2, 3, 9, 5]', '[2, 5, 7]', '[0, 1, 2, 3, 4]', '[3, 5, 9]', '[3, 5]', '[0, 3, 9, 5]', '[0, 9, 3]', '[7, 3]', '[0, 6]', '[3, 4, 5, 8]', '[0, 3]', '[1, 2, 3, 6, 7]', '[4, 1]', '[0, 2, 3, 5, 9]', '[2, 9]', '[4, 5]', '[1, 2, 3, 5]', '[2, 4]', '[2, 3]', '[0, 2, 9]', '[0, 8]', '[0, 1, 7]', '[4, 8]', '[1, 2, 9]', '[9, 3, 5]', '[1, 8, 9, 4]', '[1, 2, 5]', '[0, 1, 2, 3, 5]', '[3, 9, 4]', '[2, 5, 3]', '[3, 5, 4]', '[3, 9, 5]', '[2, 3, 6]', '[0, 2, 3, 9]', '[0, 6, 7]', '[1, 4, 9]', '[3, 6]', '[8, 4, 7]', '[0, 8, 4]', '[0, 9, 8]', '[3, 8, 9]', '[9, 3]', '[2, 3, 8]', '[0, 2, 3, 6]', '[2, 3, 7]', '[1, 4, 6]', '[1, 6, 8]', '[0, 8, 9]', '[0, 5, 3]', '[1, 2, 4]', '[0, 9]', '[0, 7]', '[2, 3, 5]', '[3, 5, 8]', '[1, 2, 3, 4]', '[0, 2, 3]', '[0, 1, 2, 9]', '[0, 3, 5]', '[1, 2, 7]', '[3, 7]', '[0, 9, 7]', '[6, 2]', '[0, 4]', '[0, 9, 6]', '[0, 4, 8, 9]', '[0, 4, 9]', '[5, 7]', '[1, 3, 6]', '[1, 6]', '[1, 8]', '[1, 3, 5, 4]', '[0, 1, 3]', '[1, 0, 6]', '[9, 8]', '[1, 4]', '[2, 3, 5, 4]', '[0, 1, 3, 4]', '[0, 9, 5]', '[0, 3, 4, 9]', '[8, 9]', '[2, 8, 4]', '[4, 6]', '[5, 4]', '[0, 5]', '[6, 4]', '[4, 8, 9]', '[2, 9, 3]', '[0, 5, 9]', '[3, 8]', '[1, 2, 3, 7]', '[6, 8]', '[3, 2]', '[1, 5]', '[1, 6, 7]', '[4, 9]', '[1, 2, 8, 6, 4]', '[2, 1, 7, 3]', '[2, 8]', '[0, 1, 6, 4]', '[0, 1, 5]', '[1, 2, 6]', '[9, 7]', '[0, 1, 6]', '[1, 3, 4]', '[0, 9, 3, 5]', '[2, 7]', '[0, 1]', '[0, 1, 4]', '[0, 6, 9]', '[4, 7]', '[5, 9, 4]', '[1, 7]', '[1, 2, 3]', '[3, 8, 6]', '[0, 2]', '[5, 9]', '[0, 2, 3, 5]', '[1, 4, 7]', '[3, 5, 8, 4]', '[1, 4, 6, 8]', '[1, 3, 5]', '[2, 1]', '[1, 8, 4]', '[2, 4, 8]', '[0, 2, 6]', '[8, 7]', '[3, 4]', '[5, 3]', '[2, 3, 4]', '[1, 6, 4]', '[2, 6]', '[0, 1, 8]', '[6, 3]', '[1, 3, 4, 5]', '[2, 5]', '[0, 2, 9, 5]', '[3, 9]', '[3, 4, 5]', '[3, 5, 7]', '[3, 8, 4]', '[0, 3, 9]', '[3, 5, 4, 9]', '[1, 3, 9, 6]', '[1, 3, 9]', '[2, 0]', '[1, 0, 4]', '[1, 9]', '[5, 2]', '[0, 1, 2]', '[2, 9, 5]', '[0, 3, 5, 9]', '[1, 4, 8]', '[3, 9, 5, 6]', '[0, 3, 6]', '[9, 0]', '[2, 5, 9]', '[1, 2]', '[9, 5]', '[2, 5, 4]', '[5, 8]', '[0, 1, 2, 3]', '[2, 3, 9]', '[1, 3, 7]', '[0, 1, 3, 6, 7]', '[1, 3]', '[0, 1, 9]', '[0, 1, 3, 7]', '[7, 4]', '[6, 7]', '[1, 0]', '[8, 4]'}\n"
          ]
        }
      ]
    },
    {
      "cell_type": "code",
      "source": [
        "import ast\n",
        "# assume 'df' is your pandas DataFrame\n",
        "multiLabel_Data['Tag_Number'] = multiLabel_Data['Tag_Number'].apply(lambda x: [int(i) for i in ast.literal_eval(x)])"
      ],
      "metadata": {
        "id": "9aTsr8lshC_w"
      },
      "execution_count": 141,
      "outputs": []
    },
    {
      "cell_type": "code",
      "source": [
        "from sklearn.preprocessing import MultiLabelBinarizer\n",
        "\n",
        "# assume 'labels' is your list of labels (i.e., 'Tag_Number' column after conversion to integers)\n",
        "mlb = MultiLabelBinarizer()\n",
        "multiLabel_Data['Tag_Number'] = mlb.fit_transform(multiLabel_Data['Tag_Number'])\n"
      ],
      "metadata": {
        "id": "iAJsrBAvhIXe"
      },
      "execution_count": 142,
      "outputs": []
    },
    {
      "cell_type": "code",
      "source": [
        "multiLabel_Data['Tag_Number']"
      ],
      "metadata": {
        "id": "g8p-TlPthWgX",
        "colab": {
          "base_uri": "https://localhost:8080/"
        },
        "outputId": "7aa8d851-ad57-4433-827a-46c6edfd7947"
      },
      "execution_count": 143,
      "outputs": [
        {
          "output_type": "execute_result",
          "data": {
            "text/plain": [
              "0        1\n",
              "1        0\n",
              "2        1\n",
              "3        0\n",
              "4        0\n",
              "        ..\n",
              "47422    0\n",
              "47423    0\n",
              "47424    0\n",
              "47425    0\n",
              "47426    0\n",
              "Name: Tag_Number, Length: 47427, dtype: int64"
            ]
          },
          "metadata": {},
          "execution_count": 143
        }
      ]
    },
    {
      "cell_type": "code",
      "source": [
        "multiLabel_Data['Tag_Number'].shape\n"
      ],
      "metadata": {
        "colab": {
          "base_uri": "https://localhost:8080/"
        },
        "id": "gmyrfly2t-iK",
        "outputId": "e81a4743-3c13-4a80-88fa-23a30906f7ab"
      },
      "execution_count": 144,
      "outputs": [
        {
          "output_type": "execute_result",
          "data": {
            "text/plain": [
              "(47427,)"
            ]
          },
          "metadata": {},
          "execution_count": 144
        }
      ]
    },
    {
      "cell_type": "code",
      "source": [
        "X_final = multiLabel_Data['cleaned_text'].values"
      ],
      "metadata": {
        "id": "9Et9mS4IaowM"
      },
      "execution_count": 145,
      "outputs": []
    },
    {
      "cell_type": "code",
      "source": [
        "print(type(X_final), X_final.shape)"
      ],
      "metadata": {
        "id": "UDdLbzfpegsG",
        "colab": {
          "base_uri": "https://localhost:8080/"
        },
        "outputId": "2e151e4e-46d1-4198-a052-579bcf61869b"
      },
      "execution_count": 146,
      "outputs": [
        {
          "output_type": "stream",
          "name": "stdout",
          "text": [
            "<class 'numpy.ndarray'> (47427,)\n"
          ]
        }
      ]
    },
    {
      "cell_type": "code",
      "source": [
        "y_final = multiLabel_Data['Tag_Number'].values\n",
        "unique_labels = np.unique(y_final)\n",
        "print(unique_labels)"
      ],
      "metadata": {
        "id": "BrRAxTxZejaF",
        "colab": {
          "base_uri": "https://localhost:8080/"
        },
        "outputId": "9e49d986-7286-4a01-d437-fc206ca1c7ed"
      },
      "execution_count": 147,
      "outputs": [
        {
          "output_type": "stream",
          "name": "stdout",
          "text": [
            "[0 1]\n"
          ]
        }
      ]
    },
    {
      "cell_type": "code",
      "source": [
        "print(type(y_final), y_final.shape)"
      ],
      "metadata": {
        "id": "V4-ktoCfelQE",
        "colab": {
          "base_uri": "https://localhost:8080/"
        },
        "outputId": "3639d72b-9aad-424f-b41a-27a617b9d7f9"
      },
      "execution_count": 148,
      "outputs": [
        {
          "output_type": "stream",
          "name": "stdout",
          "text": [
            "<class 'numpy.ndarray'> (47427,)\n"
          ]
        }
      ]
    },
    {
      "cell_type": "markdown",
      "source": [
        "#Create Train/Test/Valid Split"
      ],
      "metadata": {
        "id": "_Soz3Y_feyv7"
      }
    },
    {
      "cell_type": "code",
      "source": [
        "X_train, x_valid_test, y_train, y_valid_test = train_test_split(X_final, y_final, test_size = 0.4, stratify = y_final)"
      ],
      "metadata": {
        "id": "a0XiDspOewFT"
      },
      "execution_count": 149,
      "outputs": []
    },
    {
      "cell_type": "code",
      "source": [
        "X_valid, X_test, y_valid, y_test = train_test_split(x_valid_test, y_valid_test, test_size = 0.5, stratify = y_valid_test)"
      ],
      "metadata": {
        "id": "e2Ko3qrwe1hb"
      },
      "execution_count": 150,
      "outputs": []
    },
    {
      "cell_type": "code",
      "source": [
        "print(\"Train set shape: \", X_train.shape, \"Split %: \", len(X_train)/len(X_final))\n",
        "print(\"Validation set shape: \", X_valid.shape,\"Split %: \", len(X_valid)/len(X_final))\n",
        "print(\"Test set shape: \", X_test.shape, \"Split %: \", len(X_test)/len(X_final))"
      ],
      "metadata": {
        "id": "2Hn0kveegX79",
        "colab": {
          "base_uri": "https://localhost:8080/"
        },
        "outputId": "f7ac12e9-6889-492f-e2bf-632d4facaba4"
      },
      "execution_count": 151,
      "outputs": [
        {
          "output_type": "stream",
          "name": "stdout",
          "text": [
            "Train set shape:  (28456,) Split %:  0.59999578299281\n",
            "Validation set shape:  (9485,) Split %:  0.19999156598562\n",
            "Test set shape:  (9486,) Split %:  0.20001265102156998\n"
          ]
        }
      ]
    },
    {
      "cell_type": "code",
      "source": [
        "trainset = CustomDataset(X_train,y_train)\n",
        "validset = CustomDataset(X_valid,y_valid)\n",
        "testset = CustomDataset(X_test,y_test)"
      ],
      "metadata": {
        "id": "U3058MHPgpht"
      },
      "execution_count": 152,
      "outputs": []
    },
    {
      "cell_type": "code",
      "source": [
        "print(set(y_train),set(y_valid),set(y_test))"
      ],
      "metadata": {
        "colab": {
          "base_uri": "https://localhost:8080/"
        },
        "id": "FRxGI1DZljV0",
        "outputId": "ffa990b4-e243-4e10-b215-92ad17d272bc"
      },
      "execution_count": 153,
      "outputs": [
        {
          "output_type": "stream",
          "name": "stdout",
          "text": [
            "{0, 1} {0, 1} {0, 1}\n"
          ]
        }
      ]
    },
    {
      "cell_type": "markdown",
      "source": [
        "#Create vocab"
      ],
      "metadata": {
        "id": "Pml3PuH3j-V-"
      }
    },
    {
      "cell_type": "code",
      "source": [
        "multilabel_vocab = get_vocab(trainset, min_freq=2)"
      ],
      "metadata": {
        "id": "Lkxzji92j63N"
      },
      "execution_count": 154,
      "outputs": []
    },
    {
      "cell_type": "code",
      "source": [
        "len(multilabel_vocab)"
      ],
      "metadata": {
        "colab": {
          "base_uri": "https://localhost:8080/"
        },
        "id": "vtFsMZgEOk5o",
        "outputId": "83abc95a-42c8-4a19-ca7a-6c5f61539e1e"
      },
      "execution_count": 155,
      "outputs": [
        {
          "output_type": "execute_result",
          "data": {
            "text/plain": [
              "91260"
            ]
          },
          "metadata": {},
          "execution_count": 155
        }
      ]
    },
    {
      "cell_type": "code",
      "source": [
        "valid_multilabel_vocab = get_vocab(validset, min_freq=2)"
      ],
      "metadata": {
        "id": "SI264seClU5-"
      },
      "execution_count": 156,
      "outputs": []
    },
    {
      "cell_type": "markdown",
      "source": [
        "#Meta Data"
      ],
      "metadata": {
        "id": "jmnuyTRbOzew"
      }
    },
    {
      "cell_type": "code",
      "source": [
        "from types import SimpleNamespace\n",
        "\n",
        "hyperparameters = SimpleNamespace(\n",
        "    # model Parameters\n",
        "    EMBED_DIM=300,\n",
        "    VOCAB_SIZE=len(multilabel_vocab),\n",
        "    OUTPUT_DIM=10,\n",
        "    HIDDEN_DIM1=200,\n",
        "    HIDDEN_DIM2=100,\n",
        "    NON_LINEARITY=F.relu,\n",
        "    \n",
        "    # training \n",
        "    EPOCHS=5,\n",
        "    BATCH_SIZE=128,\n",
        "    LEARNING_RATE=0.001,\n",
        "    WEIGHT_DECAY=0.000,\n",
        "    CLIP_TYPE = 'value',\n",
        "    CLIP_VALUE = 10,\n",
        "    PATIENCE=5,\n",
        "    MOMENTUM=0,  \n",
        ")"
      ],
      "metadata": {
        "id": "jHqulM93Ovrf"
      },
      "execution_count": 157,
      "outputs": []
    },
    {
      "cell_type": "code",
      "source": [],
      "metadata": {
        "id": "V6vcrQFljyuf"
      },
      "execution_count": 157,
      "outputs": []
    },
    {
      "cell_type": "markdown",
      "source": [
        "#Trainer Configuration"
      ],
      "metadata": {
        "id": "Bxoww9DhPvJF"
      }
    },
    {
      "cell_type": "code",
      "source": [
        "def collate_batch_multilabel(batch, vocab, num_classes):\n",
        "    labels, texts = zip(*batch)\n",
        "    labels = torch.tensor(labels, dtype=torch.float32)\n",
        "    #labels = torch.tensor(labels, dtype=torch.float32).to(torch.float32)\n",
        "    labels = torch.nn.functional.one_hot(labels.to(torch.int64), num_classes=num_classes)\n",
        "\n",
        "    list_of_list_of_indices = [text_pipeline(text, vocab) for text in texts]\n",
        "\n",
        "    offsets = [0] + [len(i) for i in list_of_list_of_indices]\n",
        "    offsets = torch.tensor(offsets[:-1]).cumsum(dim=0)\n",
        "    texts = torch.cat([torch.tensor(i, dtype=torch.int64) for i in list_of_list_of_indices])\n",
        "\n",
        "    return (texts, offsets), labels.to(torch.float32)"
      ],
      "metadata": {
        "id": "IdONRbhvkBHx"
      },
      "execution_count": 158,
      "outputs": []
    },
    {
      "cell_type": "code",
      "source": [
        "from functools import partial\n",
        "# Fix seed value\n",
        "Trainer.set_seed()\n",
        "\n",
        "collate_fn = partial(collate_batch, vocab=multilabel_vocab)\n",
        "train_loader = torch.utils.data.DataLoader(dataset=trainset,\n",
        "                                           batch_size=hyperparameters.BATCH_SIZE,\n",
        "                                           collate_fn=lambda batch: collate_batch_multilabel(batch, multilabel_vocab, 10),\n",
        "                                           shuffle=True)\n",
        "\n",
        "valid_loader = torch.utils.data.DataLoader(dataset=validset,\n",
        "                                           batch_size=hyperparameters.BATCH_SIZE,\n",
        "                                           collate_fn=lambda batch: collate_batch_multilabel(batch, valid_multilabel_vocab, 10),\n",
        "                                           shuffle=False)\n",
        "\n",
        "# Data Loader\n",
        "#train_loader, valid_loader = get_loaders(trainset, validset, batch_size_= hyperparameters.BATCH_SIZE, \n",
        "                                        # collate_fn=collate_fn)\n",
        "\n",
        "# cross entropy loss function\n",
        "#loss_function = nn.CrossEntropyLoss()\n",
        "loss_function = torch.nn.BCEWithLogitsLoss()\n",
        "# model\n",
        "model_imdb = MLPCustom(hyperparameters.EMBED_DIM,\n",
        "                       hyperparameters.VOCAB_SIZE,\n",
        "                       hyperparameters.HIDDEN_DIM1,\n",
        "                       hyperparameters.HIDDEN_DIM2,\n",
        "                       hyperparameters.OUTPUT_DIM,\n",
        "                       hyperparameters.NON_LINEARITY)\n",
        "\n",
        "def init_weights(m):\n",
        "    if type(m) == nn.Linear:\n",
        "        torch.nn.init.kaiming_normal_(m.weight)\n",
        "        torch.nn.init.zeros_(m.bias)\n",
        "\n",
        "\n",
        "# apply initialization recursively  to all modules\n",
        "model_imdb.apply(init_weights)\n",
        "\n",
        "# Intialize stochiastic gradient descent optimizer\n",
        "optimizer = torch.optim.Adam(model_imdb.parameters(),\n",
        "                             lr=hyperparameters.LEARNING_RATE,\n",
        "                             weight_decay=hyperparameters.WEIGHT_DECAY,\n",
        "                             )\n",
        "device = torch.device('cuda:0' if torch.cuda.is_available() else 'cpu')"
      ],
      "metadata": {
        "id": "BCIHHBEKoyjH"
      },
      "execution_count": 159,
      "outputs": []
    },
    {
      "cell_type": "code",
      "source": [
        "#print(train_loader.shape, train_loader.shape)\n",
        "#for inputs, targets in train_loader:\n",
        " # print(inputs, targets.size())\n",
        " # break"
      ],
      "metadata": {
        "id": "mpLBXT3pj4_W"
      },
      "execution_count": 160,
      "outputs": []
    },
    {
      "cell_type": "markdown",
      "source": [
        "#Training Model"
      ],
      "metadata": {
        "id": "D_i3Q8ygQPv3"
      }
    },
    {
      "cell_type": "code",
      "source": [
        "trainer = Trainer(model=model_imdb, optimizer=optimizer,\n",
        "                  criterion=loss_function, device=device)"
      ],
      "metadata": {
        "id": "hJyQaLgkQUCH"
      },
      "execution_count": 161,
      "outputs": []
    },
    {
      "cell_type": "code",
      "source": [
        "#from torchmetrics.classification import Accuracy\n",
        "from torchmetrics.classification import HammingDistance\n",
        "run_folder = assignment_fldr/'rev2'\n",
        "run_folder.mkdir(exist_ok=True)\n",
        "\n",
        "# set loaders\n",
        "trainer.set_loaders(train_loader, valid_loader)\n",
        "\n",
        "# set metric -- OPTIONAL\n",
        "#train_metric = Accuracy(task='binary')\n",
        "train_metric = HammingDistance(mode='multilabel',task='multilabel', num_labels=10,compute_on_step=False)\n",
        "#valid_metric = Accuracy(task='binary')\n",
        "valid_metric = HammingDistance(mode='multilabel',task='multilabel', num_labels=10,compute_on_step=False)\n",
        "trainer.set_metric(train_metric.to(device), valid_metric.to(device))\n",
        "\n",
        "# set checkpoint -- OPTIONAL\n",
        "trainer.set_checkpoint(save_path=run_folder,\n",
        "                       save_best=True, save_every_n_epochs=5, save_last_epoch=False)\n",
        "\n",
        "# set early stopping -- OPTIONAL\n",
        "trainer.set_early_stopping(patience = hyperparameters.PATIENCE)\n",
        "\n",
        "# set gradient Clipping  -- OPTIONAL\n",
        "# trainer.set_gradient_clipping(hyperparameters.CLIP_TYPE, hyperparameters.CLIP_VALUE, norm_type=2)"
      ],
      "metadata": {
        "id": "tAmN1W-TQcgo"
      },
      "execution_count": 162,
      "outputs": []
    },
    {
      "cell_type": "code",
      "source": [
        "for (text, offsets) , labels in train_loader:\n",
        "  print(labels, text, offsets)\n",
        "  break"
      ],
      "metadata": {
        "id": "XfdDWT9PmLRN",
        "colab": {
          "base_uri": "https://localhost:8080/"
        },
        "outputId": "d7756d9f-811c-4141-8c85-07351624cb7f"
      },
      "execution_count": 163,
      "outputs": [
        {
          "output_type": "stream",
          "name": "stdout",
          "text": [
            "tensor([[0., 1., 0.,  ..., 0., 0., 0.],\n",
            "        [1., 0., 0.,  ..., 0., 0., 0.],\n",
            "        [0., 1., 0.,  ..., 0., 0., 0.],\n",
            "        ...,\n",
            "        [1., 0., 0.,  ..., 0., 0., 0.],\n",
            "        [1., 0., 0.,  ..., 0., 0., 0.],\n",
            "        [1., 0., 0.,  ..., 0., 0., 0.]]) tensor([  139,  1599,  2177,  ..., 22546,     0,    40]) tensor([   0,   61,  280,  382,  421,  483,  850,  864,  898,  924,  941,  973,\n",
            "        1072, 1171, 1212, 1308, 1407, 1483, 1508, 1582, 1630, 1691, 1735, 1759,\n",
            "        1946, 1982, 2029, 2158, 2216, 2337, 2362, 2451, 2593, 2616, 2652, 2673,\n",
            "        2705, 2749, 2804, 2873, 2929, 2958, 3022, 3058, 3133, 3224, 3279, 3317,\n",
            "        3547, 3566, 3597, 3651, 3710, 3727, 3743, 3835, 3869, 3886, 4093, 4181,\n",
            "        4205, 4225, 4249, 4300, 4338, 4368, 4383, 4506, 4580, 4617, 4687, 4728,\n",
            "        5222, 5442, 5465, 5516, 5529, 5564, 5585, 5630, 5692, 5712, 5813, 5883,\n",
            "        5903, 5972, 6023, 6064, 6174, 6208, 6251, 6319, 6360, 6506, 6664, 6775,\n",
            "        6888, 6977, 6997, 7013, 7125, 7219, 7314, 7338, 7339, 7430, 7673, 7702,\n",
            "        7740, 7757, 7778, 7908, 7944, 8077, 8111, 8153, 8181, 8250, 8304, 8499,\n",
            "        8529, 8545, 8651, 8829, 8872, 9191, 9229, 9261])\n"
          ]
        }
      ]
    },
    {
      "cell_type": "code",
      "source": [
        "trainer.sanity_check(num_classes=2)"
      ],
      "metadata": {
        "id": "lbRc3MKcRAKC",
        "colab": {
          "base_uri": "https://localhost:8080/"
        },
        "outputId": "b8d3d6e4-682a-478b-9a9f-0ddede64358b"
      },
      "execution_count": 164,
      "outputs": [
        {
          "output_type": "stream",
          "name": "stdout",
          "text": [
            "Actual loss: 0.6936160326004028\n",
            "Expected Theoretical loss: 0.6931471805599453\n"
          ]
        }
      ]
    },
    {
      "cell_type": "code",
      "source": [
        "trainer.train(num_epochs=hyperparameters.EPOCHS, multilabel=True)"
      ],
      "metadata": {
        "id": "vX0wRIdJREc6",
        "colab": {
          "base_uri": "https://localhost:8080/"
        },
        "outputId": "b039e771-ae4a-4aac-8e11-bef0bece9925"
      },
      "execution_count": 165,
      "outputs": [
        {
          "output_type": "stream",
          "name": "stdout",
          "text": [
            "Epoch 1/5 - Train Loss: 0.5551, Train Metric: 0.2600, Train Time: 0:01:49.542608\n",
            "Epoch 1/5 - Val Loss: 0.1866, Val Metric: 0.0531, Val Time: 0:00:02.596065\n",
            "\n",
            "Epoch 2/5 - Train Loss: 0.1077, Train Metric: 0.0304, Train Time: 0:01:21.000272\n",
            "Epoch 2/5 - Val Loss: 0.1380, Val Metric: 0.0540, Val Time: 0:00:00.981951\n",
            "\n",
            "EarlyStopping counter: 1 out of 5\n",
            "Epoch 3/5 - Train Loss: 0.0596, Train Metric: 0.0202, Train Time: 0:01:18.282172\n",
            "Epoch 3/5 - Val Loss: 0.1415, Val Metric: 0.0559, Val Time: 0:00:00.984974\n",
            "\n",
            "EarlyStopping counter: 2 out of 5\n",
            "Epoch 4/5 - Train Loss: 0.0441, Train Metric: 0.0148, Train Time: 0:01:17.133193\n",
            "Epoch 4/5 - Val Loss: 0.1516, Val Metric: 0.0583, Val Time: 0:00:01.530828\n",
            "\n",
            "EarlyStopping counter: 3 out of 5\n",
            "Epoch 5/5 - Train Loss: 0.0351, Train Metric: 0.0121, Train Time: 0:01:17.289838\n",
            "Epoch 5/5 - Val Loss: 0.1624, Val Metric: 0.0556, Val Time: 0:00:01.663643\n",
            "\n"
          ]
        }
      ]
    },
    {
      "cell_type": "code",
      "source": [
        "trainer.plot_history()"
      ],
      "metadata": {
        "id": "UsSEIC6dmgN8",
        "colab": {
          "base_uri": "https://localhost:8080/",
          "height": 881
        },
        "outputId": "9b0912aa-d5e4-4f4e-b448-accc050b5639"
      },
      "execution_count": 166,
      "outputs": [
        {
          "output_type": "display_data",
          "data": {
            "text/plain": [
              "<Figure size 640x480 with 1 Axes>"
            ],
            "image/png": "[encoded data removed]"
          },
          "metadata": {}
        },
        {
          "output_type": "display_data",
          "data": {
            "text/plain": [
              "<Figure size 640x480 with 1 Axes>"
            ],
            "image/png": "[encoded data removed]"
          },
          "metadata": {}
        }
      ]
    },
    {
      "cell_type": "code",
      "source": [
        "trainer.best_epoch"
      ],
      "metadata": {
        "id": "N7AjYIIBmmf0",
        "colab": {
          "base_uri": "https://localhost:8080/"
        },
        "outputId": "a9280025-0601-4fdb-d69c-9cd268745080"
      },
      "execution_count": 167,
      "outputs": [
        {
          "output_type": "execute_result",
          "data": {
            "text/plain": [
              "2"
            ]
          },
          "metadata": {},
          "execution_count": 167
        }
      ]
    },
    {
      "cell_type": "markdown",
      "source": [
        "#Get Accuracy, Predictions"
      ],
      "metadata": {
        "id": "cMVMdF1Fmq1N"
      }
    },
    {
      "cell_type": "code",
      "source": [
        "testset = CustomDataset(X_test, y_test)"
      ],
      "metadata": {
        "id": "tW0F0JwDmo-N"
      },
      "execution_count": 168,
      "outputs": []
    },
    {
      "cell_type": "code",
      "source": [
        "test_multilabel_vocab = get_vocab(testset, min_freq=2)"
      ],
      "metadata": {
        "id": "TGJf7kGb67Gr"
      },
      "execution_count": 169,
      "outputs": []
    },
    {
      "cell_type": "code",
      "source": [
        "#test_loader = get_test_loaders(testset, batch_size_=hyperparameters.BATCH_SIZE,\n",
        " #                              collate_fn=collate_fn)\n",
        "test_loader = torch.utils.data.DataLoader(dataset=validset,\n",
        "                                           batch_size=hyperparameters.BATCH_SIZE,\n",
        "                                           collate_fn=lambda batch: collate_batch_multilabel(batch, test_multilabel_vocab, 10),\n",
        "                                           shuffle=False)"
      ],
      "metadata": {
        "id": "1-UxWIofmyjT"
      },
      "execution_count": 170,
      "outputs": []
    },
    {
      "cell_type": "code",
      "source": [
        "# Get the prediction and accuracy for the test dataset\n",
        "\n",
        "predictions_test, target_test = trainer.predict(\n",
        "    test_loader, return_targets=True)\n",
        "predictions_train, target_train = trainer.predict(\n",
        "    train_loader, return_targets=True)\n",
        "predictions_valid, target_valid = trainer.predict(\n",
        "    valid_loader, return_targets=True)\n"
      ],
      "metadata": {
        "id": "Tiht4zHDm6DL"
      },
      "execution_count": 171,
      "outputs": []
    },
    {
      "cell_type": "code",
      "source": [
        "import torchmetrics\n",
        "#metric = torchmetrics.functional.accuracy\n",
        "metric = torchmetrics.functional.hamming_distance\n",
        "train_labels = len(torch.unique(target_train))\n",
        "valid_labels = len(torch.unique(target_valid))\n",
        "test_labels = len(torch.unique(target_test))\n",
        "acc_train = metric(predictions_train, target_train,\n",
        "                   task='multilabel', num_classes=train_labels)\n",
        "acc_valid = metric(predictions_valid, target_valid,\n",
        "                   task='multilabel', num_classes=valid_labels)\n",
        "acc_test = metric(predictions_test, target_test,\n",
        "                  task='multilabel', num_classes=test_labels)"
      ],
      "metadata": {
        "id": "yjl98LkpnjGa",
        "colab": {
          "base_uri": "https://localhost:8080/",
          "height": 373
        },
        "outputId": "c6c4b971-1b00-48f0-a9e5-6c01d6fcf5c2"
      },
      "execution_count": 173,
      "outputs": [
        {
          "output_type": "error",
          "ename": "AssertionError",
          "evalue": "ignored",
          "traceback": [
            "\u001b[0;31m---------------------------------------------------------------------------\u001b[0m",
            "\u001b[0;31mAssertionError\u001b[0m                            Traceback (most recent call last)",
            "\u001b[0;32m<ipython-input-173-004e5c2ef443>\u001b[0m in \u001b[0;36m<cell line: 5>\u001b[0;34m()\u001b[0m\n\u001b[1;32m      3\u001b[0m \u001b[0mtrain_labels\u001b[0m \u001b[0;34m=\u001b[0m \u001b[0mlen\u001b[0m\u001b[0;34m(\u001b[0m\u001b[0mtorch\u001b[0m\u001b[0;34m.\u001b[0m\u001b[0munique\u001b[0m\u001b[0;34m(\u001b[0m\u001b[0mtarget_train\u001b[0m\u001b[0;34m)\u001b[0m\u001b[0;34m)\u001b[0m\u001b[0;34m\u001b[0m\u001b[0;34m\u001b[0m\u001b[0m\n\u001b[1;32m      4\u001b[0m \u001b[0mvalid_labels\u001b[0m \u001b[0;34m=\u001b[0m \u001b[0mlen\u001b[0m\u001b[0;34m(\u001b[0m\u001b[0mtorch\u001b[0m\u001b[0;34m.\u001b[0m\u001b[0munique\u001b[0m\u001b[0;34m(\u001b[0m\u001b[0mtarget_valid\u001b[0m\u001b[0;34m)\u001b[0m\u001b[0;34m)\u001b[0m\u001b[0;34m\u001b[0m\u001b[0;34m\u001b[0m\u001b[0m\n\u001b[0;32m----> 5\u001b[0;31m acc_train = metric(predictions_train, target_train,\n\u001b[0m\u001b[1;32m      6\u001b[0m                    task='multilabel', num_classes=train_labels)\n\u001b[1;32m      7\u001b[0m acc_valid = metric(predictions_valid, target_valid,\n",
            "\u001b[0;32m/usr/local/lib/python3.9/dist-packages/torchmetrics/functional/classification/accuracy.py\u001b[0m in \u001b[0;36maccuracy\u001b[0;34m(preds, target, task, threshold, num_classes, num_labels, average, multidim_average, top_k, ignore_index, validate_args)\u001b[0m\n\u001b[1;32m    420\u001b[0m         )\n\u001b[1;32m    421\u001b[0m     \u001b[0;32mif\u001b[0m \u001b[0mtask\u001b[0m \u001b[0;34m==\u001b[0m \u001b[0;34m\"multilabel\"\u001b[0m\u001b[0;34m:\u001b[0m\u001b[0;34m\u001b[0m\u001b[0;34m\u001b[0m\u001b[0m\n\u001b[0;32m--> 422\u001b[0;31m         \u001b[0;32massert\u001b[0m \u001b[0misinstance\u001b[0m\u001b[0;34m(\u001b[0m\u001b[0mnum_labels\u001b[0m\u001b[0;34m,\u001b[0m \u001b[0mint\u001b[0m\u001b[0;34m)\u001b[0m\u001b[0;34m\u001b[0m\u001b[0;34m\u001b[0m\u001b[0m\n\u001b[0m\u001b[1;32m    423\u001b[0m         return multilabel_accuracy(\n\u001b[1;32m    424\u001b[0m             \u001b[0mpreds\u001b[0m\u001b[0;34m,\u001b[0m \u001b[0mtarget\u001b[0m\u001b[0;34m,\u001b[0m \u001b[0mnum_labels\u001b[0m\u001b[0;34m,\u001b[0m \u001b[0mthreshold\u001b[0m\u001b[0;34m,\u001b[0m \u001b[0maverage\u001b[0m\u001b[0;34m,\u001b[0m \u001b[0mmultidim_average\u001b[0m\u001b[0;34m,\u001b[0m \u001b[0mignore_index\u001b[0m\u001b[0;34m,\u001b[0m \u001b[0mvalidate_args\u001b[0m\u001b[0;34m\u001b[0m\u001b[0;34m\u001b[0m\u001b[0m\n",
            "\u001b[0;31mAssertionError\u001b[0m: "
          ]
        }
      ]
    },
    {
      "cell_type": "code",
      "source": [
        "# Print Test Accuracy\n",
        "print('Test accuracy', acc_test * 100)\n",
        "print('Train accuracy', acc_train * 100)\n",
        "print('Valid accuracy', acc_valid * 100)"
      ],
      "metadata": {
        "id": "CaKl1OUGnsnS"
      },
      "execution_count": null,
      "outputs": []
    },
    {
      "cell_type": "code",
      "source": [
        "from sklearn.metrics import accuracy_score, f1_score\n",
        "print(accuracy_score(predictions_test, target_test)*100)\n",
        "print(accuracy_score(predictions_train, target_train)*100)\n",
        "print(accuracy_score(predictions_valid, target_valid)*100)"
      ],
      "metadata": {
        "id": "kahxGQvxn_Lq"
      },
      "execution_count": null,
      "outputs": []
    },
    {
      "cell_type": "code",
      "source": [
        "metric = torchmetrics.functional.f1_score\n",
        "f1_train = metric(predictions_train, target_train,\n",
        "                  task='multilabel', num_classes=10)\n",
        "f1_valid = metric(predictions_valid, target_valid,\n",
        "                  task='multilabel', num_classes=10)\n",
        "f1_test = metric(predictions_test, target_test,\n",
        "                 task='multilabel', num_classes=10)"
      ],
      "metadata": {
        "id": "pYWcOnGmoI5R"
      },
      "execution_count": null,
      "outputs": []
    },
    {
      "cell_type": "code",
      "source": [
        "# Print Test Accuracy\n",
        "print('Test f1score', f1_test * 100)\n",
        "print('Train f1score', f1_train * 100)\n",
        "print('Valid f1score', f1_valid * 100)"
      ],
      "metadata": {
        "id": "ZIAqaoqdoOxx"
      },
      "execution_count": null,
      "outputs": []
    },
    {
      "cell_type": "code",
      "source": [
        "print(f1_score(predictions_test.numpy(), target_test.numpy(), average='micro') * 100)\n",
        "print(f1_score(predictions_train.numpy(),\n",
        "      target_train.numpy(), average='micro') * 100)\n",
        "print(f1_score(predictions_valid.numpy(),\n",
        "      target_valid.numpy(), average='micro') * 100)"
      ],
      "metadata": {
        "id": "ff_8AshHoRqh"
      },
      "execution_count": null,
      "outputs": []
    }
  ]
}