{
  "nbformat": 4,
  "nbformat_minor": 0,
  "metadata": {
    "colab": {
      "provenance": [],
      "authorship_tag": "ABX9TyPO5PXv8Mk8mHCN5Y1+04+B",
      "include_colab_link": true
    },
    "kernelspec": {
      "name": "python3",
      "display_name": "Python 3"
    },
    "language_info": {
      "name": "python"
    }
  },
  "cells": [
    {
      "cell_type": "markdown",
      "metadata": {
        "id": "view-in-github",
        "colab_type": "text"
      },
      "source": [
        "<a href=\"https://colab.research.google.com/github/parimalakettymuthu/MachineLearning-Projects/blob/main/MultiLabel_Classification_NLP.ipynb\" target=\"_parent\"><img src=\"https://colab.research.google.com/assets/colab-badge.svg\" alt=\"Open In Colab\"/></a>"
      ]
    },
    {
      "cell_type": "code",
      "source": [
        "%load_ext autoreload\n",
        "%autoreload 2"
      ],
      "metadata": {
        "id": "0hAyTHurT-lH"
      },
      "execution_count": 1,
      "outputs": []
    },
    {
      "cell_type": "code",
      "source": [
        "import sys \n",
        "#sys.path.append('/content/drive/MyDrive/NLP/custom-functions')"
      ],
      "metadata": {
        "id": "zT63hu4OUC82"
      },
      "execution_count": 2,
      "outputs": []
    },
    {
      "cell_type": "code",
      "execution_count": 3,
      "metadata": {
        "id": "3Kdp7KNWRxSa"
      },
      "outputs": [],
      "source": [
        "import pandas as pd\n",
        "from pathlib import Path\n",
        "import joblib\n",
        "# Importing the necessary libraries\n",
        "import torch\n",
        "import torch.nn as nn\n",
        "import torch.nn.functional as F\n",
        "from torchtext.vocab import  vocab\n",
        "\n",
        "import random\n",
        "import numpy as np\n",
        "import pandas as pd\n",
        "import joblib\n",
        "from collections import Counter\n",
        "\n",
        "\n",
        "from pathlib import Path\n",
        "import sys\n",
        "\n",
        "from sklearn.model_selection import train_test_split\n",
        "!pip install wandb -qq\n",
        "import wandb"
      ]
    },
    {
      "cell_type": "code",
      "source": [
        "if 'google.colab' in str(get_ipython()):\n",
        "  from google.colab import drive\n",
        "  drive.mount('/content/drive')   \n",
        "  base_path = '/content/drive/MyDrive/NLP'\n",
        "  sys.path.append('/content/drive/MyDrive/NLP/user-defined-fns')\n",
        "  sys.path.append('/content/drive/MyDrive/NLP/user-defined-fn')\n",
        "  sys.path.append('/content/drive/MyDrive/NLP/user-defined')"
      ],
      "metadata": {
        "colab": {
          "base_uri": "https://localhost:8080/"
        },
        "id": "vEqI31NGSB8E",
        "outputId": "ac9ce411-e4a3-4f2f-a00b-f58363707bd2"
      },
      "execution_count": 4,
      "outputs": [
        {
          "output_type": "stream",
          "name": "stdout",
          "text": [
            "Drive already mounted at /content/drive; to attempt to forcibly remount, call drive.mount(\"/content/drive\", force_remount=True).\n"
          ]
        }
      ]
    },
    {
      "cell_type": "code",
      "source": [
        "base_folder = Path(base_path)\n",
        "assignment_fldr = base_folder/ 'assignment6'\n",
        "custom_fldr = base_folder/ 'user-defined-fn'\n",
        "\n",
        "#Check contents in data folder\n",
        "for entries in custom_fldr.iterdir():\n",
        "  print(entries.name)"
      ],
      "metadata": {
        "colab": {
          "base_uri": "https://localhost:8080/"
        },
        "id": "3-o_n-FkS2qs",
        "outputId": "d3614306-8d5d-4bdd-e071-ec32b2b9f11c"
      },
      "execution_count": 5,
      "outputs": [
        {
          "output_type": "stream",
          "name": "stdout",
          "text": [
            ".ipynb_checkpoints\n",
            "data_preparation_imdb_rev0.py\n"
          ]
        }
      ]
    },
    {
      "cell_type": "code",
      "source": [
        "#sys.path.append('/content/drive/MyDrive/NLP/custom-functions')\n",
        "sys.path = list(set(sys.path))"
      ],
      "metadata": {
        "id": "cUbDeEuAmSGX"
      },
      "execution_count": 6,
      "outputs": []
    },
    {
      "cell_type": "code",
      "source": [
        "sys.path"
      ],
      "metadata": {
        "colab": {
          "base_uri": "https://localhost:8080/"
        },
        "id": "63DrEKz6mVWO",
        "outputId": "58cd7392-ea36-499d-b95f-62fa591a3392"
      },
      "execution_count": 7,
      "outputs": [
        {
          "output_type": "execute_result",
          "data": {
            "text/plain": [
              "['',\n",
              " '/usr/lib/python3.9',\n",
              " '/content/drive/MyDrive/NLP/user-defined',\n",
              " '/usr/lib/python3/dist-packages',\n",
              " '/usr/lib/python3.9/lib-dynload',\n",
              " '/content/drive/MyDrive/NLP/user-defined-fn',\n",
              " '/usr/local/lib/python3.9/dist-packages',\n",
              " '/usr/local/lib/python3.9/dist-packages/IPython/extensions',\n",
              " '/env/python',\n",
              " '/content/drive/MyDrive/NLP/user-defined-fns',\n",
              " '/usr/lib/python39.zip',\n",
              " '/root/.ipython',\n",
              " '/content']"
            ]
          },
          "metadata": {},
          "execution_count": 7
        }
      ]
    },
    {
      "cell_type": "code",
      "source": [
        "!pip install torchmetrics -qq"
      ],
      "metadata": {
        "id": "Qdu0GC2FG-v7"
      },
      "execution_count": 8,
      "outputs": []
    },
    {
      "cell_type": "code",
      "source": [
        "from Trainer_v2 import Trainer\n",
        "from ff_3_layer_sequential_model import MLPCustom"
      ],
      "metadata": {
        "id": "C29fXsrflwoO"
      },
      "execution_count": 9,
      "outputs": []
    },
    {
      "cell_type": "code",
      "source": [
        "from data_preparation_imdb_rev0 import *"
      ],
      "metadata": {
        "id": "KegW-cQiIjui"
      },
      "execution_count": 10,
      "outputs": []
    },
    {
      "cell_type": "code",
      "source": [
        "df_multilable_data = assignment_fldr/ 'df_multilabel_hw_cleaned.joblib'\n",
        "multiLabel_Data = joblib.load(df_multilable_data)"
      ],
      "metadata": {
        "id": "8CMy-nX9TQvM"
      },
      "execution_count": 11,
      "outputs": []
    },
    {
      "cell_type": "code",
      "source": [
        "multiLabel_Data.columns"
      ],
      "metadata": {
        "id": "hFG1VYkjadBh",
        "colab": {
          "base_uri": "https://localhost:8080/"
        },
        "outputId": "3606d361-f14b-425e-ae04-63ac8cdbae1a"
      },
      "execution_count": 12,
      "outputs": [
        {
          "output_type": "execute_result",
          "data": {
            "text/plain": [
              "Index(['cleaned_text', 'Tags', 'Tag_Number'], dtype='object')"
            ]
          },
          "metadata": {},
          "execution_count": 12
        }
      ]
    },
    {
      "cell_type": "code",
      "source": [
        "multiLabel_Data.shape"
      ],
      "metadata": {
        "id": "qM9YdVq5air3",
        "colab": {
          "base_uri": "https://localhost:8080/"
        },
        "outputId": "6059e24c-877b-4903-bbf6-a9240ece486a"
      },
      "execution_count": 13,
      "outputs": [
        {
          "output_type": "execute_result",
          "data": {
            "text/plain": [
              "(47427, 3)"
            ]
          },
          "metadata": {},
          "execution_count": 13
        }
      ]
    },
    {
      "cell_type": "code",
      "source": [
        "import ast\n",
        "# assume 'df' is your pandas DataFrame\n",
        "multiLabel_Data['Tag_Number'] = multiLabel_Data['Tag_Number'].apply(lambda x: [int(i) for i in ast.literal_eval(x)])"
      ],
      "metadata": {
        "id": "9aTsr8lshC_w"
      },
      "execution_count": 14,
      "outputs": []
    },
    {
      "cell_type": "code",
      "source": [
        "from sklearn.preprocessing import MultiLabelBinarizer\n",
        "\n",
        "# assume 'labels' is your list of labels (i.e., 'Tag_Number' column after conversion to integers)\n",
        "mlb = MultiLabelBinarizer()\n",
        "multiLabel_Data['Tag_Number'] = mlb.fit_transform(multiLabel_Data['Tag_Number'])\n"
      ],
      "metadata": {
        "id": "iAJsrBAvhIXe"
      },
      "execution_count": 15,
      "outputs": []
    },
    {
      "cell_type": "code",
      "source": [
        "multiLabel_Data['Tag_Number']"
      ],
      "metadata": {
        "id": "g8p-TlPthWgX",
        "colab": {
          "base_uri": "https://localhost:8080/"
        },
        "outputId": "be922dda-6972-4c02-a192-6a9731159026"
      },
      "execution_count": 16,
      "outputs": [
        {
          "output_type": "execute_result",
          "data": {
            "text/plain": [
              "0        1\n",
              "1        0\n",
              "2        1\n",
              "3        0\n",
              "4        0\n",
              "        ..\n",
              "47422    0\n",
              "47423    0\n",
              "47424    0\n",
              "47425    0\n",
              "47426    0\n",
              "Name: Tag_Number, Length: 47427, dtype: int64"
            ]
          },
          "metadata": {},
          "execution_count": 16
        }
      ]
    },
    {
      "cell_type": "code",
      "source": [
        "X_final = multiLabel_Data['cleaned_text'].values"
      ],
      "metadata": {
        "id": "9Et9mS4IaowM"
      },
      "execution_count": 17,
      "outputs": []
    },
    {
      "cell_type": "code",
      "source": [
        "print(type(X_final), X_final.shape)"
      ],
      "metadata": {
        "id": "UDdLbzfpegsG",
        "colab": {
          "base_uri": "https://localhost:8080/"
        },
        "outputId": "c0dcdc5e-2ad7-4b91-f653-d0763542d799"
      },
      "execution_count": 18,
      "outputs": [
        {
          "output_type": "stream",
          "name": "stdout",
          "text": [
            "<class 'numpy.ndarray'> (47427,)\n"
          ]
        }
      ]
    },
    {
      "cell_type": "code",
      "source": [
        "y_final = multiLabel_Data['Tag_Number'].values"
      ],
      "metadata": {
        "id": "BrRAxTxZejaF"
      },
      "execution_count": 19,
      "outputs": []
    },
    {
      "cell_type": "code",
      "source": [
        "print(type(y_final), y_final.shape)"
      ],
      "metadata": {
        "id": "V4-ktoCfelQE",
        "colab": {
          "base_uri": "https://localhost:8080/"
        },
        "outputId": "ca45be14-1659-401d-801e-b56d44f32d03"
      },
      "execution_count": 20,
      "outputs": [
        {
          "output_type": "stream",
          "name": "stdout",
          "text": [
            "<class 'numpy.ndarray'> (47427,)\n"
          ]
        }
      ]
    },
    {
      "cell_type": "markdown",
      "source": [
        "#Create Train/Test/Valid Split"
      ],
      "metadata": {
        "id": "_Soz3Y_feyv7"
      }
    },
    {
      "cell_type": "code",
      "source": [
        "X_train, x_valid_test, y_train, y_valid_test = train_test_split(X_final, y_final, test_size = 0.4, stratify = y_final)"
      ],
      "metadata": {
        "id": "a0XiDspOewFT"
      },
      "execution_count": 21,
      "outputs": []
    },
    {
      "cell_type": "code",
      "source": [
        "X_valid, X_test, y_valid, y_test = train_test_split(x_valid_test, y_valid_test, test_size = 0.5, stratify = y_valid_test)"
      ],
      "metadata": {
        "id": "e2Ko3qrwe1hb"
      },
      "execution_count": 22,
      "outputs": []
    },
    {
      "cell_type": "code",
      "source": [
        "print(\"Train set shape: \", X_train.shape, \"Split %: \", len(X_train)/len(X_final))\n",
        "print(\"Validation set shape: \", X_valid.shape,\"Split %: \", len(X_valid)/len(X_final))\n",
        "print(\"Test set shape: \", X_test.shape, \"Split %: \", len(X_test)/len(X_final))"
      ],
      "metadata": {
        "id": "2Hn0kveegX79",
        "colab": {
          "base_uri": "https://localhost:8080/"
        },
        "outputId": "ac79de57-9fa7-46ea-8a5b-17f736ec2eb2"
      },
      "execution_count": 23,
      "outputs": [
        {
          "output_type": "stream",
          "name": "stdout",
          "text": [
            "Train set shape:  (28456,) Split %:  0.59999578299281\n",
            "Validation set shape:  (9485,) Split %:  0.19999156598562\n",
            "Test set shape:  (9486,) Split %:  0.20001265102156998\n"
          ]
        }
      ]
    },
    {
      "cell_type": "code",
      "source": [
        "trainset = CustomDataset(X_train,y_train)\n",
        "validset = CustomDataset(X_valid,y_valid)\n",
        "testset = CustomDataset(X_test,y_test)"
      ],
      "metadata": {
        "id": "U3058MHPgpht"
      },
      "execution_count": 24,
      "outputs": []
    },
    {
      "cell_type": "markdown",
      "source": [
        "#Create vocab"
      ],
      "metadata": {
        "id": "Pml3PuH3j-V-"
      }
    },
    {
      "cell_type": "code",
      "source": [
        "multilabel_vocab = get_vocab(trainset, min_freq=2)"
      ],
      "metadata": {
        "id": "Lkxzji92j63N"
      },
      "execution_count": 28,
      "outputs": []
    },
    {
      "cell_type": "code",
      "source": [
        "len(multilabel_vocab)"
      ],
      "metadata": {
        "colab": {
          "base_uri": "https://localhost:8080/"
        },
        "id": "vtFsMZgEOk5o",
        "outputId": "50bcb11b-2df2-426a-c528-86b79bc8254a"
      },
      "execution_count": 29,
      "outputs": [
        {
          "output_type": "execute_result",
          "data": {
            "text/plain": [
              "90308"
            ]
          },
          "metadata": {},
          "execution_count": 29
        }
      ]
    },
    {
      "cell_type": "markdown",
      "source": [
        "#Meta Data"
      ],
      "metadata": {
        "id": "jmnuyTRbOzew"
      }
    },
    {
      "cell_type": "code",
      "source": [
        "from types import SimpleNamespace\n",
        "\n",
        "hyperparameters = SimpleNamespace(\n",
        "    # model Parameters\n",
        "    EMBED_DIM=300,\n",
        "    VOCAB_SIZE=len(imdb_vocab),\n",
        "    OUTPUT_DIM=2,\n",
        "    HIDDEN_DIM1=200,\n",
        "    HIDDEN_DIM2=100,\n",
        "    NON_LINEARITY=F.relu,\n",
        "    \n",
        "    # training \n",
        "    EPOCHS=12,\n",
        "    BATCH_SIZE=128,\n",
        "    LEARNING_RATE=0.001,\n",
        "    WEIGHT_DECAY=0.000,\n",
        "    CLIP_TYPE = 'value',\n",
        "    CLIP_VALUE = 2,\n",
        "    PATIENCE=5,\n",
        "    MOMENTUM=0,  \n",
        ")"
      ],
      "metadata": {
        "id": "jHqulM93Ovrf"
      },
      "execution_count": 31,
      "outputs": []
    },
    {
      "cell_type": "markdown",
      "source": [
        "#Trainer Configuration"
      ],
      "metadata": {
        "id": "Bxoww9DhPvJF"
      }
    },
    {
      "cell_type": "code",
      "source": [
        "from functools import partial\n",
        "\n",
        "# Fix seed value\n",
        "Trainer.set_seed()\n",
        "\n",
        "collate_fn = partial(collate_batch, vocab=imdb_vocab)\n",
        "\n",
        "# Data Loader\n",
        "train_loader, valid_loader = get_loaders(trainset, validset, batch_size_= hyperparameters.BATCH_SIZE, \n",
        "                                         collate_fn=collate_fn)\n",
        "\n",
        "# cross entropy loss function\n",
        "loss_function = nn.CrossEntropyLoss()\n",
        "\n",
        "# model\n",
        "model_imdb = MLPCustom(hyperparameters.EMBED_DIM,\n",
        "                       hyperparameters.VOCAB_SIZE,\n",
        "                       hyperparameters.HIDDEN_DIM1,\n",
        "                       hyperparameters.HIDDEN_DIM2,\n",
        "                       hyperparameters.OUTPUT_DIM,\n",
        "                       hyperparameters.NON_LINEARITY)\n",
        "\n",
        "def init_weights(m):\n",
        "    if type(m) == nn.Linear:\n",
        "        torch.nn.init.kaiming_normal_(m.weight)\n",
        "        torch.nn.init.zeros_(m.bias)\n",
        "\n",
        "\n",
        "# apply initialization recursively  to all modules\n",
        "model_imdb.apply(init_weights)\n",
        "\n",
        "# Intialize stochiastic gradient descent optimizer\n",
        "optimizer = torch.optim.Adam(model_imdb.parameters(),\n",
        "                             lr=hyperparameters.LEARNING_RATE,\n",
        "                             weight_decay=hyperparameters.WEIGHT_DECAY,\n",
        "                             )\n",
        "device = torch.device('cuda:0' if torch.cuda.is_available() else 'cpu')"
      ],
      "metadata": {
        "id": "8VyDP1UrP0MW"
      },
      "execution_count": 33,
      "outputs": []
    },
    {
      "cell_type": "markdown",
      "source": [
        "#Training Model"
      ],
      "metadata": {
        "id": "D_i3Q8ygQPv3"
      }
    },
    {
      "cell_type": "code",
      "source": [
        "trainer = Trainer(model=model_imdb, optimizer=optimizer,\n",
        "                  criterion=loss_function, device=device)"
      ],
      "metadata": {
        "id": "hJyQaLgkQUCH"
      },
      "execution_count": 36,
      "outputs": []
    },
    {
      "cell_type": "code",
      "source": [
        "from torchmetrics.classification import Accuracy\n",
        "run_folder = assignment_fldr/'rev2'\n",
        "run_folder.mkdir(exist_ok=True)\n",
        "\n",
        "# set loaders\n",
        "trainer.set_loaders(train_loader, valid_loader)\n",
        "\n",
        "# set metric -- OPTIONAL\n",
        "train_metric = Accuracy(task='binary')\n",
        "valid_metric = Accuracy(task='binary')\n",
        "trainer.set_metric(train_metric.to(device), valid_metric.to(device))\n",
        "\n",
        "# set checkpoint -- OPTIONAL\n",
        "trainer.set_checkpoint(save_path=run_folder,\n",
        "                       save_best=True, save_every_n_epochs=5, save_last_epoch=True)\n",
        "\n",
        "# set early stopping -- OPTIONAL\n",
        "trainer.set_early_stopping(patience = hyperparameters.PATIENCE)\n",
        "\n",
        "# set gradient Clipping  -- OPTIONAL\n",
        "# trainer.set_gradient_clipping(hyperparameters.CLIP_TYPE, hyperparameters.CLIP_VALUE, norm_type=2)"
      ],
      "metadata": {
        "id": "tAmN1W-TQcgo"
      },
      "execution_count": 38,
      "outputs": []
    },
    {
      "cell_type": "code",
      "source": [
        "trainer.sanity_check(num_classes=2)"
      ],
      "metadata": {
        "colab": {
          "base_uri": "https://localhost:8080/"
        },
        "id": "lbRc3MKcRAKC",
        "outputId": "d9395f9f-4db8-4ef2-c857-d531797017cc"
      },
      "execution_count": 39,
      "outputs": [
        {
          "output_type": "stream",
          "name": "stdout",
          "text": [
            "Actual loss: 0.7343217134475708\n",
            "Expected Theoretical loss: 0.6931471805599453\n"
          ]
        }
      ]
    },
    {
      "cell_type": "code",
      "source": [
        "trainer.train(num_epochs=hyperparameters.EPOCHS)"
      ],
      "metadata": {
        "colab": {
          "base_uri": "https://localhost:8080/"
        },
        "id": "vX0wRIdJREc6",
        "outputId": "c93063ca-1c84-4f60-89e7-7a52e2affb83"
      },
      "execution_count": 40,
      "outputs": [
        {
          "output_type": "stream",
          "name": "stdout",
          "text": [
            "Epoch 1/12 - Train Loss: 0.5832, Train Metric: 0.7478, Train Time: 0:01:24.745792\n",
            "Epoch 1/12 - Val Loss: 0.2646, Val Metric: 0.8943, Val Time: 0:00:01.116724\n",
            "\n",
            "Epoch 2/12 - Train Loss: 0.2978, Train Metric: 0.8824, Train Time: 0:01:30.821188\n",
            "Epoch 2/12 - Val Loss: 0.2125, Val Metric: 0.9176, Val Time: 0:00:01.713143\n",
            "\n",
            "Epoch 3/12 - Train Loss: 0.2246, Train Metric: 0.9154, Train Time: 0:01:17.333145\n",
            "Epoch 3/12 - Val Loss: 0.1881, Val Metric: 0.9276, Val Time: 0:00:01.007116\n",
            "\n",
            "Epoch 4/12 - Train Loss: 0.1834, Train Metric: 0.9345, Train Time: 0:01:17.677362\n",
            "Epoch 4/12 - Val Loss: 0.1822, Val Metric: 0.9302, Val Time: 0:00:01.003438\n",
            "\n",
            "Epoch 5/12 - Train Loss: 0.1523, Train Metric: 0.9461, Train Time: 0:01:18.224593\n",
            "Epoch 5/12 - Val Loss: 0.1601, Val Metric: 0.9402, Val Time: 0:00:01.743882\n",
            "\n",
            "Epoch 6/12 - Train Loss: 0.1278, Train Metric: 0.9552, Train Time: 0:01:18.787383\n",
            "Epoch 6/12 - Val Loss: 0.1563, Val Metric: 0.9403, Val Time: 0:00:00.977637\n",
            "\n",
            "Epoch 7/12 - Train Loss: 0.1088, Train Metric: 0.9623, Train Time: 0:01:17.659763\n",
            "Epoch 7/12 - Val Loss: 0.1517, Val Metric: 0.9430, Val Time: 0:00:00.985081\n",
            "\n",
            "EarlyStopping counter: 1 out of 5\n",
            "Epoch 8/12 - Train Loss: 0.0910, Train Metric: 0.9692, Train Time: 0:01:18.070342\n",
            "Epoch 8/12 - Val Loss: 0.1585, Val Metric: 0.9438, Val Time: 0:00:01.734736\n",
            "\n",
            "EarlyStopping counter: 2 out of 5\n",
            "Epoch 9/12 - Train Loss: 0.0771, Train Metric: 0.9736, Train Time: 0:01:26.521344\n",
            "Epoch 9/12 - Val Loss: 0.1677, Val Metric: 0.9445, Val Time: 0:00:01.035423\n",
            "\n",
            "EarlyStopping counter: 3 out of 5\n",
            "Epoch 10/12 - Train Loss: 0.0651, Train Metric: 0.9790, Train Time: 0:01:17.160778\n",
            "Epoch 10/12 - Val Loss: 0.1669, Val Metric: 0.9478, Val Time: 0:00:01.356892\n",
            "\n",
            "EarlyStopping counter: 4 out of 5\n",
            "Epoch 11/12 - Train Loss: 0.0542, Train Metric: 0.9814, Train Time: 0:01:20.461784\n",
            "Epoch 11/12 - Val Loss: 0.1692, Val Metric: 0.9475, Val Time: 0:00:00.999573\n",
            "\n",
            "EarlyStopping counter: 5 out of 5\n",
            "Early stopping triggered\n"
          ]
        }
      ]
    },
    {
      "cell_type": "code",
      "source": [
        "trainer.plot_history()"
      ],
      "metadata": {
        "colab": {
          "base_uri": "https://localhost:8080/",
          "height": 881
        },
        "id": "UsSEIC6dmgN8",
        "outputId": "8e49f98e-d3be-49c7-deac-d8fd5fb457d8"
      },
      "execution_count": 41,
      "outputs": [
        {
          "output_type": "display_data",
          "data": {
            "text/plain": [
              "<Figure size 640x480 with 1 Axes>"
            ],
            "image/png": "[encoded data removed]"
          },
          "metadata": {}
        },
        {
          "output_type": "display_data",
          "data": {
            "text/plain": [
              "<Figure size 640x480 with 1 Axes>"
            ],
            "image/png": "[encoded data removed]"
          },
          "metadata": {}
        }
      ]
    },
    {
      "cell_type": "code",
      "source": [
        "trainer.best_epoch"
      ],
      "metadata": {
        "colab": {
          "base_uri": "https://localhost:8080/"
        },
        "id": "N7AjYIIBmmf0",
        "outputId": "16b18a53-0d1b-4d5b-9681-db2e2df84d1b"
      },
      "execution_count": 42,
      "outputs": [
        {
          "output_type": "execute_result",
          "data": {
            "text/plain": [
              "7"
            ]
          },
          "metadata": {},
          "execution_count": 42
        }
      ]
    },
    {
      "cell_type": "markdown",
      "source": [
        "#Get Accuracy, Predictions"
      ],
      "metadata": {
        "id": "cMVMdF1Fmq1N"
      }
    },
    {
      "cell_type": "code",
      "source": [
        "testset = CustomDataset(X_test, y_test)"
      ],
      "metadata": {
        "id": "tW0F0JwDmo-N"
      },
      "execution_count": 44,
      "outputs": []
    },
    {
      "cell_type": "code",
      "source": [
        "test_loader = get_test_loaders(testset, batch_size_=hyperparameters.BATCH_SIZE,\n",
        "                               collate_fn=collate_fn)"
      ],
      "metadata": {
        "id": "1-UxWIofmyjT"
      },
      "execution_count": 45,
      "outputs": []
    },
    {
      "cell_type": "code",
      "source": [
        "# Get the prediction and accuracy for the test dataset\n",
        "\n",
        "predictions_test, target_test = trainer.predict(\n",
        "    test_loader, return_targets=True)\n",
        "predictions_train, target_train = trainer.predict(\n",
        "    train_loader, return_targets=True)\n",
        "predictions_valid, target_valid = trainer.predict(\n",
        "    valid_loader, return_targets=True)\n"
      ],
      "metadata": {
        "id": "Tiht4zHDm6DL"
      },
      "execution_count": 46,
      "outputs": []
    },
    {
      "cell_type": "code",
      "source": [
        "import torchmetrics\n",
        "metric = torchmetrics.functional.accuracy\n",
        "acc_train = metric(predictions_train, target_train,\n",
        "                   task='multiclass', num_classes=10)\n",
        "acc_valid = metric(predictions_valid, target_valid,\n",
        "                   task='multiclass', num_classes=10)\n",
        "acc_test = metric(predictions_test, target_test,\n",
        "                  task='multiclass', num_classes=10)"
      ],
      "metadata": {
        "id": "yjl98LkpnjGa"
      },
      "execution_count": 50,
      "outputs": []
    },
    {
      "cell_type": "code",
      "source": [
        "# Print Test Accuracy\n",
        "print('Test accuracy', acc_test * 100)\n",
        "print('Train accuracy', acc_train * 100)\n",
        "print('Valid accuracy', acc_valid * 100)"
      ],
      "metadata": {
        "colab": {
          "base_uri": "https://localhost:8080/"
        },
        "id": "CaKl1OUGnsnS",
        "outputId": "469c97ac-39f2-40eb-da14-ecf76b66d56e"
      },
      "execution_count": 51,
      "outputs": [
        {
          "output_type": "stream",
          "name": "stdout",
          "text": [
            "Test accuracy tensor(94.6026)\n",
            "Train accuracy tensor(99.3604)\n",
            "Valid accuracy tensor(94.6125)\n"
          ]
        }
      ]
    },
    {
      "cell_type": "code",
      "source": [
        "from sklearn.metrics import accuracy_score, f1_score\n",
        "print(accuracy_score(predictions_test, target_test)*100)\n",
        "print(accuracy_score(predictions_train, target_train)*100)\n",
        "print(accuracy_score(predictions_valid, target_valid)*100)"
      ],
      "metadata": {
        "colab": {
          "base_uri": "https://localhost:8080/"
        },
        "id": "kahxGQvxn_Lq",
        "outputId": "7c877bb5-7728-4ad9-90ca-e8352d2803be"
      },
      "execution_count": 53,
      "outputs": [
        {
          "output_type": "stream",
          "name": "stdout",
          "text": [
            "94.60257221168037\n",
            "99.36041608096711\n",
            "94.61254612546125\n"
          ]
        }
      ]
    },
    {
      "cell_type": "code",
      "source": [
        "metric = torchmetrics.functional.f1_score\n",
        "f1_train = metric(predictions_train, target_train,\n",
        "                  task='multiclass', num_classes=10)\n",
        "f1_valid = metric(predictions_valid, target_valid,\n",
        "                  task='multiclass', num_classes=10)\n",
        "f1_test = metric(predictions_test, target_test,\n",
        "                 task='multiclass', num_classes=10)"
      ],
      "metadata": {
        "id": "pYWcOnGmoI5R"
      },
      "execution_count": 54,
      "outputs": []
    },
    {
      "cell_type": "code",
      "source": [
        "# Print Test Accuracy\n",
        "print('Test f1score', f1_test * 100)\n",
        "print('Train f1score', f1_train * 100)\n",
        "print('Valid f1score', f1_valid * 100)"
      ],
      "metadata": {
        "colab": {
          "base_uri": "https://localhost:8080/"
        },
        "id": "ZIAqaoqdoOxx",
        "outputId": "7bd66701-0a7f-45e1-8eca-aa7acbb74609"
      },
      "execution_count": 55,
      "outputs": [
        {
          "output_type": "stream",
          "name": "stdout",
          "text": [
            "Test f1score tensor(94.6026)\n",
            "Train f1score tensor(99.3604)\n",
            "Valid f1score tensor(94.6125)\n"
          ]
        }
      ]
    },
    {
      "cell_type": "code",
      "source": [
        "print(f1_score(predictions_test.numpy(), target_test.numpy(), average='micro') * 100)\n",
        "print(f1_score(predictions_train.numpy(),\n",
        "      target_train.numpy(), average='micro') * 100)\n",
        "print(f1_score(predictions_valid.numpy(),\n",
        "      target_valid.numpy(), average='micro') * 100)"
      ],
      "metadata": {
        "colab": {
          "base_uri": "https://localhost:8080/"
        },
        "id": "ff_8AshHoRqh",
        "outputId": "bfbe5e80-1179-4eeb-e5e7-e1bfbb131d8c"
      },
      "execution_count": 56,
      "outputs": [
        {
          "output_type": "stream",
          "name": "stdout",
          "text": [
            "94.60257221168037\n",
            "99.36041608096711\n",
            "94.61254612546125\n"
          ]
        }
      ]
    }
  ]
}