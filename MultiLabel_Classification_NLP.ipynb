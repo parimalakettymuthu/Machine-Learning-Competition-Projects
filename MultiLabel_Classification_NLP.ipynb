{
  "nbformat": 4,
  "nbformat_minor": 0,
  "metadata": {
    "colab": {
      "provenance": [],
      "machine_shape": "hm",
      "authorship_tag": "ABX9TyNS+1ytWckZE0YyB0bh/jtD",
      "include_colab_link": true
    },
    "kernelspec": {
      "name": "python3",
      "display_name": "Python 3"
    },
    "language_info": {
      "name": "python"
    },
    "accelerator": "GPU",
    "gpuClass": "premium"
  },
  "cells": [
    {
      "cell_type": "markdown",
      "metadata": {
        "id": "view-in-github",
        "colab_type": "text"
      },
      "source": [
        "<a href=\"https://colab.research.google.com/github/parimalakettymuthu/MachineLearning-Projects/blob/main/MultiLabel_Classification_NLP.ipynb\" target=\"_parent\"><img src=\"https://colab.research.google.com/assets/colab-badge.svg\" alt=\"Open In Colab\"/></a>"
      ]
    },
    {
      "cell_type": "code",
      "source": [
        "%load_ext autoreload\n",
        "%autoreload 2"
      ],
      "metadata": {
        "id": "0hAyTHurT-lH"
      },
      "execution_count": 1,
      "outputs": []
    },
    {
      "cell_type": "code",
      "source": [
        "import sys \n",
        "#sys.path.append('/content/drive/MyDrive/NLP/custom-functions')"
      ],
      "metadata": {
        "id": "zT63hu4OUC82"
      },
      "execution_count": 2,
      "outputs": []
    },
    {
      "cell_type": "code",
      "execution_count": 3,
      "metadata": {
        "id": "3Kdp7KNWRxSa",
        "colab": {
          "base_uri": "https://localhost:8080/"
        },
        "outputId": "95b154e1-a15d-408b-fbc0-3df257ecaf57"
      },
      "outputs": [
        {
          "output_type": "stream",
          "name": "stdout",
          "text": [
            "\u001b[2K     \u001b[90m━━━━━━━━━━━━━━━━━━━━━━━━━━━━━━━━━━━━━━━━\u001b[0m \u001b[32m2.0/2.0 MB\u001b[0m \u001b[31m66.2 MB/s\u001b[0m eta \u001b[36m0:00:00\u001b[0m\n",
            "\u001b[2K     \u001b[90m━━━━━━━━━━━━━━━━━━━━━━━━━━━━━━━━━━━━━━\u001b[0m \u001b[32m199.2/199.2 KB\u001b[0m \u001b[31m23.4 MB/s\u001b[0m eta \u001b[36m0:00:00\u001b[0m\n",
            "\u001b[2K     \u001b[90m━━━━━━━━━━━━━━━━━━━━━━━━━━━━━━━━━━━━━━━\u001b[0m \u001b[32m184.3/184.3 KB\u001b[0m \u001b[31m9.8 MB/s\u001b[0m eta \u001b[36m0:00:00\u001b[0m\n",
            "\u001b[?25h  Preparing metadata (setup.py) ... \u001b[?25l\u001b[?25hdone\n",
            "\u001b[2K     \u001b[90m━━━━━━━━━━━━━━━━━━━━━━━━━━━━━━━━━━━━━━━━\u001b[0m \u001b[32m62.7/62.7 KB\u001b[0m \u001b[31m9.6 MB/s\u001b[0m eta \u001b[36m0:00:00\u001b[0m\n",
            "\u001b[?25h  Building wheel for pathtools (setup.py) ... \u001b[?25l\u001b[?25hdone\n"
          ]
        }
      ],
      "source": [
        "import pandas as pd\n",
        "from pathlib import Path\n",
        "import joblib\n",
        "# Importing the necessary libraries\n",
        "import torch\n",
        "import torch.nn as nn\n",
        "import torch.nn.functional as F\n",
        "from torchtext.vocab import  vocab\n",
        "\n",
        "import random\n",
        "import numpy as np\n",
        "import pandas as pd\n",
        "import joblib\n",
        "from collections import Counter\n",
        "\n",
        "\n",
        "from pathlib import Path\n",
        "import sys\n",
        "\n",
        "from sklearn.model_selection import train_test_split\n",
        "!pip install wandb -qq\n",
        "import wandb"
      ]
    },
    {
      "cell_type": "code",
      "source": [
        "if 'google.colab' in str(get_ipython()):\n",
        "  from google.colab import drive\n",
        "  drive.mount('/content/drive')   \n",
        "  base_path = '/content/drive/MyDrive/NLP'\n",
        "  sys.path.append('/content/drive/MyDrive/NLP/user-defined-fns')\n",
        "  sys.path.append('/content/drive/MyDrive/NLP/user-defined-fn')\n",
        "  sys.path.append('/content/drive/MyDrive/NLP/user-defined')"
      ],
      "metadata": {
        "colab": {
          "base_uri": "https://localhost:8080/"
        },
        "id": "vEqI31NGSB8E",
        "outputId": "eab721ad-7390-43bb-a674-357144cfbe68"
      },
      "execution_count": 4,
      "outputs": [
        {
          "output_type": "stream",
          "name": "stdout",
          "text": [
            "Mounted at /content/drive\n"
          ]
        }
      ]
    },
    {
      "cell_type": "code",
      "source": [
        "base_folder = Path(base_path)\n",
        "assignment_fldr = base_folder/ 'assignment6'\n",
        "custom_fldr = base_folder/ 'user-defined-fn'\n",
        "\n",
        "#Check contents in data folder\n",
        "for entries in custom_fldr.iterdir():\n",
        "  print(entries.name)"
      ],
      "metadata": {
        "colab": {
          "base_uri": "https://localhost:8080/"
        },
        "id": "3-o_n-FkS2qs",
        "outputId": "ea09588a-df89-420b-b762-a9cf37a4c1b5"
      },
      "execution_count": 5,
      "outputs": [
        {
          "output_type": "stream",
          "name": "stdout",
          "text": [
            "data_preparation_imdb_rev0.py\n",
            ".ipynb_checkpoints\n",
            "__pycache__\n"
          ]
        }
      ]
    },
    {
      "cell_type": "code",
      "source": [
        "#sys.path.append('/content/drive/MyDrive/NLP/custom-functions')\n",
        "sys.path = list(set(sys.path))"
      ],
      "metadata": {
        "id": "cUbDeEuAmSGX"
      },
      "execution_count": 6,
      "outputs": []
    },
    {
      "cell_type": "code",
      "source": [
        "sys.path"
      ],
      "metadata": {
        "colab": {
          "base_uri": "https://localhost:8080/"
        },
        "id": "63DrEKz6mVWO",
        "outputId": "0752acce-f6ba-4e06-97f7-15f31ee4d079"
      },
      "execution_count": 7,
      "outputs": [
        {
          "output_type": "execute_result",
          "data": {
            "text/plain": [
              "['',\n",
              " '/root/.ipython',\n",
              " '/usr/local/lib/python3.9/dist-packages',\n",
              " '/content/drive/MyDrive/NLP/user-defined',\n",
              " '/usr/lib/python3.9/lib-dynload',\n",
              " '/env/python',\n",
              " '/usr/lib/python3/dist-packages',\n",
              " '/usr/lib/python39.zip',\n",
              " '/content/drive/MyDrive/NLP/user-defined-fns',\n",
              " '/usr/local/lib/python3.9/dist-packages/IPython/extensions',\n",
              " '/content/drive/MyDrive/NLP/user-defined-fn',\n",
              " '/usr/lib/python3.9',\n",
              " '/content']"
            ]
          },
          "metadata": {},
          "execution_count": 7
        }
      ]
    },
    {
      "cell_type": "code",
      "source": [
        "!pip install torchmetrics -qq"
      ],
      "metadata": {
        "id": "Qdu0GC2FG-v7",
        "colab": {
          "base_uri": "https://localhost:8080/"
        },
        "outputId": "e01f62da-2e81-4e2c-9ab5-c2d774369c83"
      },
      "execution_count": 8,
      "outputs": [
        {
          "output_type": "stream",
          "name": "stdout",
          "text": [
            "\u001b[?25l     \u001b[90m━━━━━━━━━━━━━━━━━━━━━━━━━━━━━━━━━━━━━━━━\u001b[0m \u001b[32m0.0/519.2 KB\u001b[0m \u001b[31m?\u001b[0m eta \u001b[36m-:--:--\u001b[0m\r\u001b[2K     \u001b[90m━━━━━━━━━━━━━━━━━━━━━━━━━━━━━━━━━━━━━━\u001b[0m \u001b[32m519.2/519.2 KB\u001b[0m \u001b[31m27.8 MB/s\u001b[0m eta \u001b[36m0:00:00\u001b[0m\n",
            "\u001b[?25h"
          ]
        }
      ]
    },
    {
      "cell_type": "code",
      "source": [
        "from Trainer_v2 import Trainer\n",
        "from ff_3_layer_sequential_model import MLPCustom"
      ],
      "metadata": {
        "id": "C29fXsrflwoO"
      },
      "execution_count": 9,
      "outputs": []
    },
    {
      "cell_type": "code",
      "source": [
        "from data_preparation_imdb_rev0 import *"
      ],
      "metadata": {
        "id": "KegW-cQiIjui"
      },
      "execution_count": 10,
      "outputs": []
    },
    {
      "cell_type": "code",
      "source": [
        "df_multilable_data = assignment_fldr/ 'df_multilabel_hw_cleaned.joblib'\n",
        "multiLabel_Data = joblib.load(df_multilable_data)"
      ],
      "metadata": {
        "id": "8CMy-nX9TQvM"
      },
      "execution_count": 11,
      "outputs": []
    },
    {
      "cell_type": "code",
      "source": [
        "multiLabel_Data.columns"
      ],
      "metadata": {
        "id": "hFG1VYkjadBh",
        "colab": {
          "base_uri": "https://localhost:8080/"
        },
        "outputId": "e07ab749-8b6e-4489-eae7-0967aebd38aa"
      },
      "execution_count": 12,
      "outputs": [
        {
          "output_type": "execute_result",
          "data": {
            "text/plain": [
              "Index(['cleaned_text', 'Tags', 'Tag_Number'], dtype='object')"
            ]
          },
          "metadata": {},
          "execution_count": 12
        }
      ]
    },
    {
      "cell_type": "code",
      "source": [
        "multiLabel_Data.shape"
      ],
      "metadata": {
        "id": "qM9YdVq5air3",
        "colab": {
          "base_uri": "https://localhost:8080/"
        },
        "outputId": "36a26a88-d572-45a6-8b2a-ada1276807d8"
      },
      "execution_count": 13,
      "outputs": [
        {
          "output_type": "execute_result",
          "data": {
            "text/plain": [
              "(47427, 3)"
            ]
          },
          "metadata": {},
          "execution_count": 13
        }
      ]
    },
    {
      "cell_type": "code",
      "source": [],
      "metadata": {
        "id": "zIJIeqfYpZeG"
      },
      "execution_count": 13,
      "outputs": []
    },
    {
      "cell_type": "code",
      "source": [
        "import ast\n",
        "# assume 'df' is your pandas DataFrame\n",
        "multiLabel_Data['Tag_Number'] = multiLabel_Data['Tag_Number'].apply(lambda x: [int(i) for i in ast.literal_eval(x)])"
      ],
      "metadata": {
        "id": "9aTsr8lshC_w"
      },
      "execution_count": 14,
      "outputs": []
    },
    {
      "cell_type": "code",
      "source": [
        "from sklearn.preprocessing import MultiLabelBinarizer\n",
        "\n",
        "# assume 'labels' is your list of labels (i.e., 'Tag_Number' column after conversion to integers)\n",
        "mlb = MultiLabelBinarizer()\n",
        "one_hot_labels= mlb.fit_transform(multiLabel_Data['Tag_Number'])\n",
        "for i in range(len(mlb.classes_)):\n",
        "    multiLabel_Data[f\"one_hot_{mlb.classes_[i]}\"] = one_hot_labels[:, i]"
      ],
      "metadata": {
        "id": "iAJsrBAvhIXe"
      },
      "execution_count": 15,
      "outputs": []
    },
    {
      "cell_type": "code",
      "source": [
        "multiLabel_Data.columns"
      ],
      "metadata": {
        "colab": {
          "base_uri": "https://localhost:8080/"
        },
        "id": "WQMyUmyx7fiu",
        "outputId": "f468cbec-7352-4960-a391-a33786fa5920"
      },
      "execution_count": 16,
      "outputs": [
        {
          "output_type": "execute_result",
          "data": {
            "text/plain": [
              "Index(['cleaned_text', 'Tags', 'Tag_Number', 'one_hot_0', 'one_hot_1',\n",
              "       'one_hot_2', 'one_hot_3', 'one_hot_4', 'one_hot_5', 'one_hot_6',\n",
              "       'one_hot_7', 'one_hot_8', 'one_hot_9'],\n",
              "      dtype='object')"
            ]
          },
          "metadata": {},
          "execution_count": 16
        }
      ]
    },
    {
      "cell_type": "code",
      "source": [
        "#multiLabel_Data['Tag_Number_encoded']"
      ],
      "metadata": {
        "id": "g8p-TlPthWgX"
      },
      "execution_count": 17,
      "outputs": []
    },
    {
      "cell_type": "code",
      "source": [
        "#multiLabel_Data['Tag_Number_encoded'].shape\n"
      ],
      "metadata": {
        "id": "gmyrfly2t-iK"
      },
      "execution_count": 18,
      "outputs": []
    },
    {
      "cell_type": "code",
      "source": [
        "X_final = multiLabel_Data['cleaned_text'].values"
      ],
      "metadata": {
        "id": "9Et9mS4IaowM"
      },
      "execution_count": 19,
      "outputs": []
    },
    {
      "cell_type": "code",
      "source": [
        "y_final = multiLabel_Data.loc[:, 'one_hot_0':'one_hot_9'].values\n",
        "unique_labels = np.unique(y_final)\n",
        "print(unique_labels)"
      ],
      "metadata": {
        "id": "BrRAxTxZejaF",
        "colab": {
          "base_uri": "https://localhost:8080/"
        },
        "outputId": "13174af2-1763-42be-8d8a-e041632617e4"
      },
      "execution_count": 20,
      "outputs": [
        {
          "output_type": "stream",
          "name": "stdout",
          "text": [
            "[0 1]\n"
          ]
        }
      ]
    },
    {
      "cell_type": "code",
      "source": [
        "print(type(y_final), y_final.shape)"
      ],
      "metadata": {
        "id": "V4-ktoCfelQE",
        "colab": {
          "base_uri": "https://localhost:8080/"
        },
        "outputId": "f2cc7741-d0ab-4782-93d8-682987a63351"
      },
      "execution_count": 21,
      "outputs": [
        {
          "output_type": "stream",
          "name": "stdout",
          "text": [
            "<class 'numpy.ndarray'> (47427, 10)\n"
          ]
        }
      ]
    },
    {
      "cell_type": "markdown",
      "source": [
        "#Create Train/Test/Valid Split"
      ],
      "metadata": {
        "id": "_Soz3Y_feyv7"
      }
    },
    {
      "cell_type": "code",
      "source": [
        "#X_train, x_valid_test, y_train, y_valid_test = train_test_split(X_final, y_final, test_size = 0.4, stratify = y_final)\n",
        "X_train, x_valid_test, y_train, y_valid_test = train_test_split(X_final, y_final, test_size = 0.4)"
      ],
      "metadata": {
        "id": "a0XiDspOewFT"
      },
      "execution_count": 22,
      "outputs": []
    },
    {
      "cell_type": "code",
      "source": [
        "#X_valid, X_test, y_valid, y_test = train_test_split(x_valid_test, y_valid_test, test_size = 0.5, stratify = y_valid_test)\n",
        "X_valid, X_test, y_valid, y_test = train_test_split(x_valid_test, y_valid_test, test_size = 0.5)"
      ],
      "metadata": {
        "id": "e2Ko3qrwe1hb"
      },
      "execution_count": 23,
      "outputs": []
    },
    {
      "cell_type": "code",
      "source": [
        "print(\"Train set shape: \", X_train.shape, \"Split %: \", len(X_train)/len(X_final))\n",
        "print(\"Validation set shape: \", X_valid.shape,\"Split %: \", len(X_valid)/len(X_final))\n",
        "print(\"Test set shape: \", X_test.shape, \"Split %: \", len(X_test)/len(X_final))"
      ],
      "metadata": {
        "id": "2Hn0kveegX79",
        "colab": {
          "base_uri": "https://localhost:8080/"
        },
        "outputId": "e6fbdc4c-e9fa-4f38-9443-04259580aecb"
      },
      "execution_count": 24,
      "outputs": [
        {
          "output_type": "stream",
          "name": "stdout",
          "text": [
            "Train set shape:  (28456,) Split %:  0.59999578299281\n",
            "Validation set shape:  (9485,) Split %:  0.19999156598562\n",
            "Test set shape:  (9486,) Split %:  0.20001265102156998\n"
          ]
        }
      ]
    },
    {
      "cell_type": "code",
      "source": [
        "trainset = CustomDataset(X_train,y_train)\n",
        "validset = CustomDataset(X_valid,y_valid)\n",
        "testset = CustomDataset(X_test,y_test)"
      ],
      "metadata": {
        "id": "U3058MHPgpht"
      },
      "execution_count": 25,
      "outputs": []
    },
    {
      "cell_type": "code",
      "source": [
        "print(np.unique(y_train), np.unique(y_valid), np.unique(y_test))"
      ],
      "metadata": {
        "colab": {
          "base_uri": "https://localhost:8080/"
        },
        "id": "FRxGI1DZljV0",
        "outputId": "799f7c22-b1cf-4c5e-e524-f4501cb8e0a2"
      },
      "execution_count": 26,
      "outputs": [
        {
          "output_type": "stream",
          "name": "stdout",
          "text": [
            "[0 1] [0 1] [0 1]\n"
          ]
        }
      ]
    },
    {
      "cell_type": "markdown",
      "source": [
        "#Create vocab"
      ],
      "metadata": {
        "id": "Pml3PuH3j-V-"
      }
    },
    {
      "cell_type": "code",
      "source": [
        "multilabel_vocab = get_vocab(trainset, min_freq=2)"
      ],
      "metadata": {
        "id": "Lkxzji92j63N"
      },
      "execution_count": 27,
      "outputs": []
    },
    {
      "cell_type": "code",
      "source": [
        "len(multilabel_vocab)"
      ],
      "metadata": {
        "colab": {
          "base_uri": "https://localhost:8080/"
        },
        "id": "vtFsMZgEOk5o",
        "outputId": "01480a72-5003-4b48-a18b-918a9175f8e6"
      },
      "execution_count": 28,
      "outputs": [
        {
          "output_type": "execute_result",
          "data": {
            "text/plain": [
              "89552"
            ]
          },
          "metadata": {},
          "execution_count": 28
        }
      ]
    },
    {
      "cell_type": "code",
      "source": [
        "valid_multilabel_vocab = get_vocab(validset, min_freq=2)"
      ],
      "metadata": {
        "id": "SI264seClU5-"
      },
      "execution_count": 29,
      "outputs": []
    },
    {
      "cell_type": "markdown",
      "source": [
        "#Meta Data"
      ],
      "metadata": {
        "id": "jmnuyTRbOzew"
      }
    },
    {
      "cell_type": "code",
      "source": [
        "from types import SimpleNamespace\n",
        "\n",
        "hyperparameters = SimpleNamespace(\n",
        "    # model Parameters\n",
        "    EMBED_DIM=300,\n",
        "    VOCAB_SIZE=len(multilabel_vocab),\n",
        "    OUTPUT_DIM=10,\n",
        "    HIDDEN_DIM1=200,\n",
        "    HIDDEN_DIM2=100,\n",
        "    NON_LINEARITY=F.relu,\n",
        "    \n",
        "    # training \n",
        "    EPOCHS=5,\n",
        "    BATCH_SIZE=128,\n",
        "    LEARNING_RATE=0.001,\n",
        "    WEIGHT_DECAY=0.000,\n",
        "    CLIP_TYPE = 'value',\n",
        "    CLIP_VALUE = 10,\n",
        "    PATIENCE=5,\n",
        "    MOMENTUM=0,  \n",
        ")"
      ],
      "metadata": {
        "id": "jHqulM93Ovrf"
      },
      "execution_count": 30,
      "outputs": []
    },
    {
      "cell_type": "markdown",
      "source": [
        "#Trainer Configuration"
      ],
      "metadata": {
        "id": "Bxoww9DhPvJF"
      }
    },
    {
      "cell_type": "code",
      "source": [
        "'''def collate_batch_multilabel(batch, vocab, num_classes):\n",
        "    labels, texts = zip(*batch)\n",
        "    labels = torch.tensor(labels, dtype=torch.float32)\n",
        "    #labels = torch.tensor(labels, dtype=torch.float32).to(torch.float32)\n",
        "    labels = torch.nn.functional.one_hot(labels.to(torch.int64), num_classes=num_classes)\n",
        "\n",
        "    list_of_list_of_indices = [text_pipeline(text, vocab) for text in texts]\n",
        "\n",
        "    offsets = [0] + [len(i) for i in list_of_list_of_indices]\n",
        "    offsets = torch.tensor(offsets[:-1]).cumsum(dim=0)\n",
        "    texts = torch.cat([torch.tensor(i, dtype=torch.int64) for i in list_of_list_of_indices])\n",
        "\n",
        "    return (texts, offsets), labels.to(torch.float32)'''"
      ],
      "metadata": {
        "id": "IdONRbhvkBHx",
        "colab": {
          "base_uri": "https://localhost:8080/",
          "height": 105
        },
        "outputId": "83ea0336-119f-440e-87be-9aa22e0cfd7c"
      },
      "execution_count": 31,
      "outputs": [
        {
          "output_type": "execute_result",
          "data": {
            "text/plain": [
              "'def collate_batch_multilabel(batch, vocab, num_classes):\\n    labels, texts = zip(*batch)\\n    labels = torch.tensor(labels, dtype=torch.float32)\\n    #labels = torch.tensor(labels, dtype=torch.float32).to(torch.float32)\\n    labels = torch.nn.functional.one_hot(labels.to(torch.int64), num_classes=num_classes)\\n\\n    list_of_list_of_indices = [text_pipeline(text, vocab) for text in texts]\\n\\n    offsets = [0] + [len(i) for i in list_of_list_of_indices]\\n    offsets = torch.tensor(offsets[:-1]).cumsum(dim=0)\\n    texts = torch.cat([torch.tensor(i, dtype=torch.int64) for i in list_of_list_of_indices])\\n\\n    return (texts, offsets), labels.to(torch.float32)'"
            ],
            "application/vnd.google.colaboratory.intrinsic+json": {
              "type": "string"
            }
          },
          "metadata": {},
          "execution_count": 31
        }
      ]
    },
    {
      "cell_type": "code",
      "source": [
        "def collate_batch_multilabel(batch, vocab):\n",
        "    labels, texts = zip(*batch)\n",
        "    labels = torch.tensor(labels, dtype=torch.float32)\n",
        "    list_of_list_of_indices = [text_pipeline(text, vocab) for text in texts]\n",
        "    offsets = [0] + [len(i) for i in list_of_list_of_indices]\n",
        "    offsets = torch.tensor(offsets[:-1]).cumsum(dim=0)\n",
        "    texts = torch.cat([torch.tensor(i, dtype=torch.int64) for i in list_of_list_of_indices])\n",
        "    return (texts, offsets), labels"
      ],
      "metadata": {
        "id": "lYYqyVZw3Yh2"
      },
      "execution_count": 32,
      "outputs": []
    },
    {
      "cell_type": "code",
      "source": [
        "from functools import partial\n",
        "# Fix seed value\n",
        "Trainer.set_seed()\n",
        "\n",
        "collate_fn = partial(collate_batch_multilabel, vocab=multilabel_vocab)\n",
        "#train_loader = torch.utils.data.DataLoader(dataset=trainset,\n",
        "                                           #batch_size=hyperparameters.BATCH_SIZE,\n",
        "                                           #collate_fn=collate_fn,\n",
        "                                           #shuffle=True)\n",
        "#collate_fn = partial(collate_batch_multilabel, vocab=valid_multilabel_vocab)\n",
        "#valid_loader = torch.utils.data.DataLoader(dataset=validset,\n",
        " #                                          batch_size=hyperparameters.BATCH_SIZE,\n",
        "  #                                         collate_fn=lambda batch: collate_batch_multilabel(batch, valid_multilabel_vocab),\n",
        "   #                                        shuffle=False)\n",
        "#valid_loader = torch.utils.data.DataLoader(dataset=validset,\n",
        "                                          # batch_size=hyperparameters.BATCH_SIZE,\n",
        "                                          # collate_fn=collate_fn,\n",
        "                                          # shuffle=True)\n",
        "\n",
        "# Data Loader\n",
        "train_loader, valid_loader = get_loaders(trainset, validset, batch_size_= hyperparameters.BATCH_SIZE, \n",
        "                                         collate_fn=collate_fn)\n",
        "\n",
        "# cross entropy loss function\n",
        "#loss_function = nn.CrossEntropyLoss()\n",
        "loss_function = torch.nn.BCEWithLogitsLoss()\n",
        "# model\n",
        "model_imdb = MLPCustom(hyperparameters.EMBED_DIM,\n",
        "                       hyperparameters.VOCAB_SIZE,\n",
        "                       hyperparameters.HIDDEN_DIM1,\n",
        "                       hyperparameters.HIDDEN_DIM2,\n",
        "                       hyperparameters.OUTPUT_DIM,\n",
        "                       hyperparameters.NON_LINEARITY)\n",
        "\n",
        "def init_weights(m):\n",
        "    if type(m) == nn.Linear:\n",
        "        torch.nn.init.kaiming_normal_(m.weight)\n",
        "        torch.nn.init.zeros_(m.bias)\n",
        "\n",
        "\n",
        "# apply initialization recursively  to all modules\n",
        "model_imdb.apply(init_weights)\n",
        "\n",
        "# Intialize stochiastic gradient descent optimizer\n",
        "optimizer = torch.optim.Adam(model_imdb.parameters(),\n",
        "                             lr=hyperparameters.LEARNING_RATE,\n",
        "                             weight_decay=hyperparameters.WEIGHT_DECAY,\n",
        "                             )\n",
        "device = torch.device('cuda:0' if torch.cuda.is_available() else 'cpu')"
      ],
      "metadata": {
        "id": "BCIHHBEKoyjH"
      },
      "execution_count": 33,
      "outputs": []
    },
    {
      "cell_type": "code",
      "source": [
        "#print(train_loader.shape, train_loader.shape)\n",
        "for (texts, offsets), labels in valid_loader:\n",
        "  print(labels, texts, offsets)\n",
        "  break"
      ],
      "metadata": {
        "id": "mpLBXT3pj4_W",
        "colab": {
          "base_uri": "https://localhost:8080/"
        },
        "outputId": "2b4d2f36-fdfc-4f2d-8b7a-7dabcf30b4cf"
      },
      "execution_count": 34,
      "outputs": [
        {
          "output_type": "stream",
          "name": "stdout",
          "text": [
            "tensor([[0., 0., 0.,  ..., 0., 0., 0.],\n",
            "        [0., 1., 0.,  ..., 0., 0., 0.],\n",
            "        [0., 1., 0.,  ..., 0., 0., 0.],\n",
            "        ...,\n",
            "        [0., 1., 0.,  ..., 0., 0., 0.],\n",
            "        [1., 0., 0.,  ..., 0., 0., 1.],\n",
            "        [1., 0., 0.,  ..., 0., 0., 1.]]) tensor([ 243,    0,  527,  ..., 1082,  239,  768]) tensor([   0,  414,  439,  455,  560,  576,  622,  655,  706,  732,  776,  821,\n",
            "         878,  979, 1011, 1053, 1075, 1277, 1628, 1661, 1728, 1871, 1979, 2012,\n",
            "        2072, 2097, 2208, 2286, 2395, 2493, 2593, 2668, 2762, 2930, 2952, 2992,\n",
            "        3007, 3044, 3097, 3367, 3440, 3477, 3544, 3575, 3659, 3682, 3739, 3769,\n",
            "        3847, 3919, 3981, 4072, 4097, 4132, 4287, 4314, 4333, 4401, 4421, 4770,\n",
            "        4842, 4900, 4944, 5003, 5038, 5085, 5140, 5251, 5277, 5328, 5340, 5564,\n",
            "        5578, 5637, 5670, 5685, 5732, 5776, 5804, 5879, 5892, 5929, 5966, 6038,\n",
            "        6102, 6229, 6296, 6349, 6370, 6608, 6730, 6949, 6978, 7043, 7055, 7111,\n",
            "        7165, 7188, 7225, 7264, 7306, 7361, 7431, 7501, 7534, 7593, 7655, 7702,\n",
            "        7739, 7774, 7796, 7847, 7881, 7920, 8000, 8131, 8226, 8290, 8459, 8497,\n",
            "        8528, 8559, 8715, 8771, 8867, 8886, 8942, 9082])\n"
          ]
        },
        {
          "output_type": "stream",
          "name": "stderr",
          "text": [
            "<ipython-input-32-0afa194fa4de>:3: UserWarning: Creating a tensor from a list of numpy.ndarrays is extremely slow. Please consider converting the list to a single numpy.ndarray with numpy.array() before converting to a tensor. (Triggered internally at ../torch/csrc/utils/tensor_new.cpp:245.)\n",
            "  labels = torch.tensor(labels, dtype=torch.float32)\n"
          ]
        }
      ]
    },
    {
      "cell_type": "markdown",
      "source": [
        "#Training Model"
      ],
      "metadata": {
        "id": "D_i3Q8ygQPv3"
      }
    },
    {
      "cell_type": "code",
      "source": [
        "trainer = Trainer(model=model_imdb, optimizer=optimizer,\n",
        "                  criterion=loss_function, device=device)"
      ],
      "metadata": {
        "id": "hJyQaLgkQUCH"
      },
      "execution_count": 35,
      "outputs": []
    },
    {
      "cell_type": "code",
      "source": [
        "#from torchmetrics.classification import Accuracy\n",
        "from torchmetrics.classification import MultilabelHammingDistance\n",
        "run_folder = assignment_fldr/'rev2'\n",
        "run_folder.mkdir(exist_ok=True)\n",
        "\n",
        "# set loaders\n",
        "trainer.set_loaders(train_loader, valid_loader)\n",
        "\n",
        "# set metric -- OPTIONAL\n",
        "train_metric = MultilabelHammingDistance(mode='multilabel',task='multilabel', num_labels=10,compute_on_step=False)\n",
        "valid_metric = MultilabelHammingDistance(mode='multilabel',task='multilabel', num_labels=10,compute_on_step=False)\n",
        "trainer.set_metric(train_metric.to(device), valid_metric.to(device))\n",
        "\n",
        "# set checkpoint -- OPTIONAL\n",
        "trainer.set_checkpoint(save_path=run_folder,\n",
        "                       save_best=True, save_every_n_epochs=1, save_last_epoch=False)\n",
        "\n",
        "# set early stopping -- OPTIONAL\n",
        "trainer.set_early_stopping(patience = hyperparameters.PATIENCE)\n",
        "\n",
        "# set gradient Clipping  -- OPTIONAL\n",
        "trainer.set_gradient_clipping(hyperparameters.CLIP_TYPE, hyperparameters.CLIP_VALUE, norm_type=2)"
      ],
      "metadata": {
        "id": "tAmN1W-TQcgo"
      },
      "execution_count": 36,
      "outputs": []
    },
    {
      "cell_type": "markdown",
      "source": [
        "Add a brief description about the metric and why it is a good metric for multilabel classification problems.\n",
        "\n",
        "\n",
        "Answer: MultilabelHammingDistance is a metric used for evaluating the performance of multilabel classification models. It calculates the proportion of labels that are incorrectly predicted by the model, i.e., the average number of labels that differ between the predicted and true labels across all samples. It takes into account the fact that each sample can have multiple labels, and penalizes the model for making incorrect predictions for each label independently. This is different from other metrics like accuracy, which only consider the overall percentage of correctly classified samples, without taking into account the number of labels each sample has. And robust to imbalanced classes, which is a common issue in multilabel classification problems where some labels might be more frequent than others. Because it considers the total number of label predictions rather than the number of correctly predicted labels, making it less sensitive to the distribution of the labels.\n",
        "\n",
        "> Indented block\n",
        "\n"
      ],
      "metadata": {
        "id": "jURC1lAIqT6X"
      }
    },
    {
      "cell_type": "code",
      "source": [
        "trainer.sanity_check(num_classes=2)"
      ],
      "metadata": {
        "id": "lbRc3MKcRAKC",
        "colab": {
          "base_uri": "https://localhost:8080/"
        },
        "outputId": "34dafb57-b518-4e45-b470-38d280cb2c8d"
      },
      "execution_count": 37,
      "outputs": [
        {
          "output_type": "stream",
          "name": "stdout",
          "text": [
            "Actual loss: 0.7093979120254517\n",
            "Expected Theoretical loss: 0.6931471805599453\n"
          ]
        }
      ]
    },
    {
      "cell_type": "code",
      "source": [
        "trainer.train(num_epochs=hyperparameters.EPOCHS, multilabel=True)"
      ],
      "metadata": {
        "id": "vX0wRIdJREc6",
        "colab": {
          "base_uri": "https://localhost:8080/"
        },
        "outputId": "d2a0d95d-cabe-46fd-dbd8-68df9a9a9138"
      },
      "execution_count": 38,
      "outputs": [
        {
          "output_type": "stream",
          "name": "stdout",
          "text": [
            "Epoch 1/5 - Train Loss: 0.5620, Train Metric: 0.2622, Train Time: 0:00:03.270923\n",
            "Epoch 1/5 - Val Loss: 0.2335, Val Metric: 0.0742, Val Time: 0:00:00.811598\n",
            "\n",
            "Epoch 2/5 - Train Loss: 0.2326, Train Metric: 0.0830, Train Time: 0:00:03.227590\n",
            "Epoch 2/5 - Val Loss: 0.1628, Val Metric: 0.0594, Val Time: 0:00:00.812545\n",
            "\n",
            "Epoch 3/5 - Train Loss: 0.1754, Train Metric: 0.0628, Train Time: 0:00:03.162936\n",
            "Epoch 3/5 - Val Loss: 0.1439, Val Metric: 0.0526, Val Time: 0:00:00.810027\n",
            "\n",
            "Epoch 4/5 - Train Loss: 0.1484, Train Metric: 0.0531, Train Time: 0:00:03.203557\n",
            "Epoch 4/5 - Val Loss: 0.1300, Val Metric: 0.0485, Val Time: 0:00:00.879370\n",
            "\n",
            "Epoch 5/5 - Train Loss: 0.1310, Train Metric: 0.0469, Train Time: 0:00:03.320661\n",
            "Epoch 5/5 - Val Loss: 0.1210, Val Metric: 0.0453, Val Time: 0:00:00.813868\n",
            "\n"
          ]
        }
      ]
    },
    {
      "cell_type": "code",
      "source": [
        "trainer.plot_history()"
      ],
      "metadata": {
        "id": "UsSEIC6dmgN8",
        "colab": {
          "base_uri": "https://localhost:8080/",
          "height": 881
        },
        "outputId": "874e0d7a-d8e9-4619-b10a-ac0269d1f61a"
      },
      "execution_count": 39,
      "outputs": [
        {
          "output_type": "display_data",
          "data": {
            "text/plain": [
              "<Figure size 640x480 with 1 Axes>"
            ],
            "image/png": "[encoded data removed]"
          },
          "metadata": {}
        },
        {
          "output_type": "display_data",
          "data": {
            "text/plain": [
              "<Figure size 640x480 with 1 Axes>"
            ],
            "image/png": "[encoded data removed]"
          },
          "metadata": {}
        }
      ]
    },
    {
      "cell_type": "code",
      "source": [
        "trainer.best_epoch"
      ],
      "metadata": {
        "id": "N7AjYIIBmmf0",
        "colab": {
          "base_uri": "https://localhost:8080/"
        },
        "outputId": "22149e8e-5f02-4ffe-e71d-d294ae6709cb"
      },
      "execution_count": 40,
      "outputs": [
        {
          "output_type": "execute_result",
          "data": {
            "text/plain": [
              "5"
            ]
          },
          "metadata": {},
          "execution_count": 40
        }
      ]
    },
    {
      "cell_type": "code",
      "source": [
        "file = 'checkpoint_' + str(trainer.timestamp) + '_best.pt'\n",
        "trainer.load_checkpoint(run_folder /file)"
      ],
      "metadata": {
        "colab": {
          "base_uri": "https://localhost:8080/"
        },
        "id": "HDSHzqxuVsa3",
        "outputId": "2b3726bc-ff10-48e6-d83e-09778cc78242"
      },
      "execution_count": 41,
      "outputs": [
        {
          "output_type": "stream",
          "name": "stdout",
          "text": [
            "Loaded checkpoint from '/content/drive/MyDrive/NLP/assignment6/rev2/checkpoint_2023-04-10_01-52-31_best.pt'.\n"
          ]
        }
      ]
    },
    {
      "cell_type": "code",
      "source": [
        "trainer.train(num_epochs=10, multilabel=True)"
      ],
      "metadata": {
        "colab": {
          "base_uri": "https://localhost:8080/"
        },
        "id": "dhxHEmM3VxNY",
        "outputId": "bf6d99cb-75c9-42f3-dd45-cd690f375306"
      },
      "execution_count": 42,
      "outputs": [
        {
          "output_type": "stream",
          "name": "stdout",
          "text": [
            "Epoch 1/10 - Train Loss: 0.1158, Train Metric: 0.0414, Train Time: 0:00:03.174735\n",
            "Epoch 1/10 - Val Loss: 0.1137, Val Metric: 0.0420, Val Time: 0:00:00.806494\n",
            "\n",
            "Epoch 2/10 - Train Loss: 0.1049, Train Metric: 0.0378, Train Time: 0:00:03.161365\n",
            "Epoch 2/10 - Val Loss: 0.1101, Val Metric: 0.0406, Val Time: 0:00:00.796754\n",
            "\n",
            "Epoch 3/10 - Train Loss: 0.0945, Train Metric: 0.0340, Train Time: 0:00:03.111044\n",
            "Epoch 3/10 - Val Loss: 0.1060, Val Metric: 0.0387, Val Time: 0:00:00.813430\n",
            "\n",
            "Epoch 4/10 - Train Loss: 0.0865, Train Metric: 0.0311, Train Time: 0:00:03.157670\n",
            "Epoch 4/10 - Val Loss: 0.1041, Val Metric: 0.0371, Val Time: 0:00:00.805561\n",
            "\n",
            "Epoch 5/10 - Train Loss: 0.0785, Train Metric: 0.0286, Train Time: 0:00:03.121945\n",
            "Epoch 5/10 - Val Loss: 0.1018, Val Metric: 0.0359, Val Time: 0:00:00.801134\n",
            "\n",
            "EarlyStopping counter: 1 out of 5\n",
            "Epoch 6/10 - Train Loss: 0.0722, Train Metric: 0.0257, Train Time: 0:00:03.183127\n",
            "Epoch 6/10 - Val Loss: 0.1030, Val Metric: 0.0355, Val Time: 0:00:00.807933\n",
            "\n",
            "EarlyStopping counter: 2 out of 5\n",
            "Epoch 7/10 - Train Loss: 0.0659, Train Metric: 0.0238, Train Time: 0:00:03.113198\n",
            "Epoch 7/10 - Val Loss: 0.1025, Val Metric: 0.0344, Val Time: 0:00:00.810300\n",
            "\n",
            "EarlyStopping counter: 3 out of 5\n",
            "Epoch 8/10 - Train Loss: 0.0617, Train Metric: 0.0220, Train Time: 0:00:03.147969\n",
            "Epoch 8/10 - Val Loss: 0.1046, Val Metric: 0.0347, Val Time: 0:00:00.818716\n",
            "\n",
            "EarlyStopping counter: 4 out of 5\n",
            "Epoch 9/10 - Train Loss: 0.0568, Train Metric: 0.0203, Train Time: 0:00:03.167062\n",
            "Epoch 9/10 - Val Loss: 0.1045, Val Metric: 0.0331, Val Time: 0:00:00.809141\n",
            "\n",
            "EarlyStopping counter: 5 out of 5\n",
            "Early stopping triggered\n"
          ]
        }
      ]
    },
    {
      "cell_type": "code",
      "source": [
        "trainer.plot_history()"
      ],
      "metadata": {
        "colab": {
          "base_uri": "https://localhost:8080/",
          "height": 881
        },
        "id": "mDEICWB_W6G_",
        "outputId": "0522dcd2-eb15-4c05-9ef0-581664de5044"
      },
      "execution_count": 43,
      "outputs": [
        {
          "output_type": "display_data",
          "data": {
            "text/plain": [
              "<Figure size 640x480 with 1 Axes>"
            ],
            "image/png": "[encoded data removed]"
          },
          "metadata": {}
        },
        {
          "output_type": "display_data",
          "data": {
            "text/plain": [
              "<Figure size 640x480 with 1 Axes>"
            ],
            "image/png": "[encoded data removed]"
          },
          "metadata": {}
        }
      ]
    },
    {
      "cell_type": "code",
      "source": [
        "trainer.best_epoch"
      ],
      "metadata": {
        "colab": {
          "base_uri": "https://localhost:8080/"
        },
        "id": "_2wQdEoKW9Jh",
        "outputId": "bc6b6169-d0c9-4afc-cd43-5bd6eb237254"
      },
      "execution_count": 44,
      "outputs": [
        {
          "output_type": "execute_result",
          "data": {
            "text/plain": [
              "9"
            ]
          },
          "metadata": {},
          "execution_count": 44
        }
      ]
    },
    {
      "cell_type": "markdown",
      "source": [
        "#Get Accuracy, Predictions"
      ],
      "metadata": {
        "id": "cMVMdF1Fmq1N"
      }
    },
    {
      "cell_type": "code",
      "source": [
        "testset = CustomDataset(X_test, y_test)"
      ],
      "metadata": {
        "id": "tW0F0JwDmo-N"
      },
      "execution_count": 45,
      "outputs": []
    },
    {
      "cell_type": "code",
      "source": [
        "test_multilabel_vocab = get_vocab(testset, min_freq=2)"
      ],
      "metadata": {
        "id": "TGJf7kGb67Gr"
      },
      "execution_count": 46,
      "outputs": []
    },
    {
      "cell_type": "code",
      "source": [
        "collate_fn = partial(collate_batch_multilabel, vocab=test_multilabel_vocab)\n",
        "test_loader = get_test_loaders(testset, batch_size_=hyperparameters.BATCH_SIZE,\n",
        "                               collate_fn=collate_fn)\n",
        "#collate_fn = partial(collate_batch_multilabel, vocab=test_multilabel_vocab)\n",
        "#test_loader = torch.utils.data.DataLoader(dataset=validset,\n",
        "                                          # batch_size=hyperparameters.BATCH_SIZE,\n",
        "                                           #collate_fn=collate_fn,\n",
        "                                          # shuffle=False)\n",
        "#test_loader = torch.utils.data.DataLoader(dataset=validset,\n",
        " #                                          batch_size=hyperparameters.BATCH_SIZE,\n",
        "  #                                         collate_fn=lambda batch: collate_batch_multilabel(batch, test_multilabel_vocab),\n",
        "   #                                        shuffle=True)"
      ],
      "metadata": {
        "id": "1-UxWIofmyjT"
      },
      "execution_count": 47,
      "outputs": []
    },
    {
      "cell_type": "code",
      "source": [
        "# Get the prediction and accuracy for the test dataset\n",
        "\n",
        "predictions_train, target_train = trainer.predict(\n",
        "    train_loader, multilabel=True, return_targets=True)\n",
        "predictions_valid, target_valid = trainer.predict(\n",
        "    valid_loader, multilabel=True, return_targets=True)\n",
        "predictions_test, target_test = trainer.predict(\n",
        "    test_loader, multilabel=True, return_targets=True)"
      ],
      "metadata": {
        "id": "Tiht4zHDm6DL"
      },
      "execution_count": 55,
      "outputs": []
    },
    {
      "cell_type": "code",
      "source": [
        "print(target_train.shape, predictions_train.shape)\n",
        "print(target_valid.shape, predictions_valid.shape)\n",
        "print(target_test.shape, predictions_test.shape)"
      ],
      "metadata": {
        "colab": {
          "base_uri": "https://localhost:8080/"
        },
        "id": "PdTmCwu0H3xO",
        "outputId": "de17b001-a329-4b3e-cb10-24700cf8bdaa"
      },
      "execution_count": 56,
      "outputs": [
        {
          "output_type": "stream",
          "name": "stdout",
          "text": [
            "torch.Size([28456, 10]) torch.Size([28456, 10])\n",
            "torch.Size([9485, 10]) torch.Size([9485, 10])\n",
            "torch.Size([9486, 10]) torch.Size([9486, 10])\n"
          ]
        }
      ]
    },
    {
      "cell_type": "code",
      "source": [
        "import torchmetrics"
      ],
      "metadata": {
        "id": "yjl98LkpnjGa"
      },
      "execution_count": 50,
      "outputs": []
    },
    {
      "cell_type": "code",
      "source": [
        "#from sklearn.metrics import accuracy_score, f1_score\n",
        "from torchmetrics.functional.classification import multilabel_f1_score, multilabel_hamming_distance\n",
        "num_classes = target_train.shape[-1]\n",
        "f1_score_train = multilabel_f1_score(target_train, predictions_train, average='micro',num_labels=num_classes)\n",
        "hamming_distance_train = multilabel_hamming_distance(target_train,predictions_train, num_labels=num_classes)\n",
        "print(\"Train F1 Score: \",f1_score_train, \" Train hamming distance: \", hamming_distance_train)\n",
        "\n",
        "f1_score_valid = multilabel_f1_score(target_valid,predictions_valid, average='micro',num_labels=num_classes)\n",
        "hamming_distance_valid = multilabel_hamming_distance(target_valid,predictions_valid, num_labels=num_classes)\n",
        "print(\"Train F1 Score: \",f1_score_valid, \" Train hamming distance: \", hamming_distance_valid)\n",
        "\n",
        "f1_score_test = multilabel_f1_score(target_test,predictions_test, average='micro', num_labels=num_classes)\n",
        "hamming_distance_test = multilabel_hamming_distance(target_test,predictions_test,num_labels=num_classes)\n",
        "print(\"Test F1 Score: \",f1_score_test, \" Test hamming distance: \", hamming_distance_test)"
      ],
      "metadata": {
        "id": "kahxGQvxn_Lq",
        "colab": {
          "base_uri": "https://localhost:8080/"
        },
        "outputId": "4cda1d18-fa40-4a8e-b78e-3f04bd404fe3"
      },
      "execution_count": 58,
      "outputs": [
        {
          "output_type": "stream",
          "name": "stdout",
          "text": [
            "Train F1 Score:  tensor(0.9766)  Train hamming distance:  tensor(0.0097)\n"
          ]
        }
      ]
    },
    {
      "cell_type": "code",
      "source": [],
      "metadata": {
        "id": "A7CgGn-K34Yx"
      },
      "execution_count": null,
      "outputs": []
    },
    {
      "cell_type": "code",
      "source": [
        "from torchmetrics.functional.classification import multilabel_f1_score, multilabel_hamming_distance\n",
        "#num_classes = target_train.shape[-1]\n",
        "\n",
        "\n",
        "multilabel_f1_score\n",
        "threshold = 0.5\n",
        "average='micro'\n",
        "#binary_predictions_train = (predictions_train > threshold).int()\n",
        "#binary_predictions_valid = (predictions_valid > threshold).int()\n",
        "#binary_predictions_test = (predictions_test > threshold).int()\n",
        "#import torch.nn.functional as F\n",
        "\n",
        "num_classes = target_train.shape[-1]\n",
        "binary_target_train = torch.zeros(target_train.shape[0], num_classes, dtype=torch.float32)\n",
        "binary_target_train.scatter_(1, torch.tensor(target_train, dtype=torch.int64), 1)\n",
        "# compute binary predictions\n",
        "binary_predictions_train = (predictions_train > threshold).int()\n",
        "#print(\"Train binary predictions: \", binary_predictions_train.shape)\n",
        "print(\"Train binary targets: \", binary_target_train.shape)\n",
        "print(\"Train binary predictions: \", binary_predictions_train.shape)\n",
        "f1_score_train = f1_score(binary_target_train, binary_predictions_train, average='micro')\n",
        "hamming_distance_train = multilabel_hamming_distance(binary_predictions_train, target_train, num_labels=num_classes)\n",
        "print(\"Train F1 Score: \",f1_score_train, \" Train hamming distance: \", hamming_distance_train)\n",
        "#f1_score_train = multilabel_f1_score(binary_predictions_train, target_train,num_labels=num_classes, threshold=threshold, average=average)\n",
        "f1_score_train = f1_score(binary_target_train, binary_predictions_train, average='micro')\n",
        "hamming_distance_train = multilabel_hamming_distance(binary_predictions_train, target_train, num_labels=num_classes)\n",
        "print(\"Train F1 Score: \",f1_score_train, \" Train hamming distance: \", hamming_distance_train)\n",
        "\n",
        "num_classes = target_valid.shape[-1]\n",
        "binary_predictions_valid = F.one_hot(predictions_valid, num_classes=num_classes)\n",
        "print(\"Valid binary predictions: \", binary_predictions_valid.shape)\n",
        "f1_score_valid = multilabel_f1_score(binary_predictions_valid, target_valid, num_labels=num_classes, threshold=threshold, average=average)\n",
        "hamming_distance_valid = multilabel_hamming_distance(binary_predictions_valid, target_valid, num_labels=num_classes)\n",
        "print(\"Train F1 Score: \",f1_score_valid, \" Train hamming distance: \", hamming_distance_valid)\n",
        "\n",
        "num_classes = target_test.shape[-1]\n",
        "binary_predictions_test = F.one_hot(predictions_test, num_classes=num_classes)\n",
        "print(\"Test binary predictions: \", binary_predictions_test.shape)\n",
        "f1_score_test = multilabel_f1_score(binary_predictions_test, target_test, num_labels=num_classes, threshold=threshold, average=average)\n",
        "hamming_distance_test = multilabel_hamming_distance(binary_predictions_test, target_test, num_labels=num_classes)\n",
        "print(\"Test F1 Score: \",f1_score_test, \" Test hamming distance: \", hamming_distance_test)\n",
        "\n",
        "# assuming y_true and y_pred are the ground truth and predicted labels, respectively\n",
        "#f1_score = multilabel_f1_score(predictions_train, target_train, num_classes=num_classes, threshold=threshold, average=average)\n",
        "#hamming_distance = multilabel_hamming_distance(predictions_train, target_train, num_labels=num_labels)"
      ],
      "metadata": {
        "id": "ff_8AshHoRqh",
        "colab": {
          "base_uri": "https://localhost:8080/",
          "height": 470
        },
        "outputId": "52154326-6ddc-45fa-88ac-da26fcebf347"
      },
      "execution_count": 52,
      "outputs": [
        {
          "output_type": "stream",
          "name": "stdout",
          "text": [
            "Train binary targets:  torch.Size([28456, 10])\n",
            "Train binary predictions:  torch.Size([28456])\n"
          ]
        },
        {
          "output_type": "stream",
          "name": "stderr",
          "text": [
            "<ipython-input-52-68f2aa12e99d>:12: UserWarning: To copy construct from a tensor, it is recommended to use sourceTensor.clone().detach() or sourceTensor.clone().detach().requires_grad_(True), rather than torch.tensor(sourceTensor).\n",
            "  binary_target_train.scatter_(1, torch.tensor(target_train, dtype=torch.int64), 1)\n"
          ]
        },
        {
          "output_type": "error",
          "ename": "ValueError",
          "evalue": "ignored",
          "traceback": [
            "\u001b[0;31m---------------------------------------------------------------------------\u001b[0m",
            "\u001b[0;31mValueError\u001b[0m                                Traceback (most recent call last)",
            "\u001b[0;32m<ipython-input-52-68f2aa12e99d>\u001b[0m in \u001b[0;36m<cell line: 18>\u001b[0;34m()\u001b[0m\n\u001b[1;32m     16\u001b[0m \u001b[0mprint\u001b[0m\u001b[0;34m(\u001b[0m\u001b[0;34m\"Train binary targets: \"\u001b[0m\u001b[0;34m,\u001b[0m \u001b[0mbinary_target_train\u001b[0m\u001b[0;34m.\u001b[0m\u001b[0mshape\u001b[0m\u001b[0;34m)\u001b[0m\u001b[0;34m\u001b[0m\u001b[0;34m\u001b[0m\u001b[0m\n\u001b[1;32m     17\u001b[0m \u001b[0mprint\u001b[0m\u001b[0;34m(\u001b[0m\u001b[0;34m\"Train binary predictions: \"\u001b[0m\u001b[0;34m,\u001b[0m \u001b[0mbinary_predictions_train\u001b[0m\u001b[0;34m.\u001b[0m\u001b[0mshape\u001b[0m\u001b[0;34m)\u001b[0m\u001b[0;34m\u001b[0m\u001b[0;34m\u001b[0m\u001b[0m\n\u001b[0;32m---> 18\u001b[0;31m \u001b[0mf1_score_train\u001b[0m \u001b[0;34m=\u001b[0m \u001b[0mf1_score\u001b[0m\u001b[0;34m(\u001b[0m\u001b[0mbinary_target_train\u001b[0m\u001b[0;34m,\u001b[0m \u001b[0mbinary_predictions_train\u001b[0m\u001b[0;34m,\u001b[0m \u001b[0maverage\u001b[0m\u001b[0;34m=\u001b[0m\u001b[0;34m'micro'\u001b[0m\u001b[0;34m)\u001b[0m\u001b[0;34m\u001b[0m\u001b[0;34m\u001b[0m\u001b[0m\n\u001b[0m\u001b[1;32m     19\u001b[0m \u001b[0mhamming_distance_train\u001b[0m \u001b[0;34m=\u001b[0m \u001b[0mmultilabel_hamming_distance\u001b[0m\u001b[0;34m(\u001b[0m\u001b[0mbinary_predictions_train\u001b[0m\u001b[0;34m,\u001b[0m \u001b[0mtarget_train\u001b[0m\u001b[0;34m,\u001b[0m \u001b[0mnum_labels\u001b[0m\u001b[0;34m=\u001b[0m\u001b[0mnum_classes\u001b[0m\u001b[0;34m)\u001b[0m\u001b[0;34m\u001b[0m\u001b[0;34m\u001b[0m\u001b[0m\n\u001b[1;32m     20\u001b[0m \u001b[0mprint\u001b[0m\u001b[0;34m(\u001b[0m\u001b[0;34m\"Train F1 Score: \"\u001b[0m\u001b[0;34m,\u001b[0m\u001b[0mf1_score_train\u001b[0m\u001b[0;34m,\u001b[0m \u001b[0;34m\" Train hamming distance: \"\u001b[0m\u001b[0;34m,\u001b[0m \u001b[0mhamming_distance_train\u001b[0m\u001b[0;34m)\u001b[0m\u001b[0;34m\u001b[0m\u001b[0;34m\u001b[0m\u001b[0m\n",
            "\u001b[0;32m/usr/local/lib/python3.9/dist-packages/sklearn/metrics/_classification.py\u001b[0m in \u001b[0;36mf1_score\u001b[0;34m(y_true, y_pred, labels, pos_label, average, sample_weight, zero_division)\u001b[0m\n\u001b[1;32m   1144\u001b[0m     \u001b[0marray\u001b[0m\u001b[0;34m(\u001b[0m\u001b[0;34m[\u001b[0m\u001b[0;36m0.66666667\u001b[0m\u001b[0;34m,\u001b[0m \u001b[0;36m1.\u001b[0m        \u001b[0;34m,\u001b[0m \u001b[0;36m0.66666667\u001b[0m\u001b[0;34m]\u001b[0m\u001b[0;34m)\u001b[0m\u001b[0;34m\u001b[0m\u001b[0;34m\u001b[0m\u001b[0m\n\u001b[1;32m   1145\u001b[0m     \"\"\"\n\u001b[0;32m-> 1146\u001b[0;31m     return fbeta_score(\n\u001b[0m\u001b[1;32m   1147\u001b[0m         \u001b[0my_true\u001b[0m\u001b[0;34m,\u001b[0m\u001b[0;34m\u001b[0m\u001b[0;34m\u001b[0m\u001b[0m\n\u001b[1;32m   1148\u001b[0m         \u001b[0my_pred\u001b[0m\u001b[0;34m,\u001b[0m\u001b[0;34m\u001b[0m\u001b[0;34m\u001b[0m\u001b[0m\n",
            "\u001b[0;32m/usr/local/lib/python3.9/dist-packages/sklearn/metrics/_classification.py\u001b[0m in \u001b[0;36mfbeta_score\u001b[0;34m(y_true, y_pred, beta, labels, pos_label, average, sample_weight, zero_division)\u001b[0m\n\u001b[1;32m   1285\u001b[0m     \"\"\"\n\u001b[1;32m   1286\u001b[0m \u001b[0;34m\u001b[0m\u001b[0m\n\u001b[0;32m-> 1287\u001b[0;31m     _, _, f, _ = precision_recall_fscore_support(\n\u001b[0m\u001b[1;32m   1288\u001b[0m         \u001b[0my_true\u001b[0m\u001b[0;34m,\u001b[0m\u001b[0;34m\u001b[0m\u001b[0;34m\u001b[0m\u001b[0m\n\u001b[1;32m   1289\u001b[0m         \u001b[0my_pred\u001b[0m\u001b[0;34m,\u001b[0m\u001b[0;34m\u001b[0m\u001b[0;34m\u001b[0m\u001b[0m\n",
            "\u001b[0;32m/usr/local/lib/python3.9/dist-packages/sklearn/metrics/_classification.py\u001b[0m in \u001b[0;36mprecision_recall_fscore_support\u001b[0;34m(y_true, y_pred, beta, labels, pos_label, average, warn_for, sample_weight, zero_division)\u001b[0m\n\u001b[1;32m   1571\u001b[0m     \u001b[0;32mif\u001b[0m \u001b[0mbeta\u001b[0m \u001b[0;34m<\u001b[0m \u001b[0;36m0\u001b[0m\u001b[0;34m:\u001b[0m\u001b[0;34m\u001b[0m\u001b[0;34m\u001b[0m\u001b[0m\n\u001b[1;32m   1572\u001b[0m         \u001b[0;32mraise\u001b[0m \u001b[0mValueError\u001b[0m\u001b[0;34m(\u001b[0m\u001b[0;34m\"beta should be >=0 in the F-beta score\"\u001b[0m\u001b[0;34m)\u001b[0m\u001b[0;34m\u001b[0m\u001b[0;34m\u001b[0m\u001b[0m\n\u001b[0;32m-> 1573\u001b[0;31m     \u001b[0mlabels\u001b[0m \u001b[0;34m=\u001b[0m \u001b[0m_check_set_wise_labels\u001b[0m\u001b[0;34m(\u001b[0m\u001b[0my_true\u001b[0m\u001b[0;34m,\u001b[0m \u001b[0my_pred\u001b[0m\u001b[0;34m,\u001b[0m \u001b[0maverage\u001b[0m\u001b[0;34m,\u001b[0m \u001b[0mlabels\u001b[0m\u001b[0;34m,\u001b[0m \u001b[0mpos_label\u001b[0m\u001b[0;34m)\u001b[0m\u001b[0;34m\u001b[0m\u001b[0;34m\u001b[0m\u001b[0m\n\u001b[0m\u001b[1;32m   1574\u001b[0m \u001b[0;34m\u001b[0m\u001b[0m\n\u001b[1;32m   1575\u001b[0m     \u001b[0;31m# Calculate tp_sum, pred_sum, true_sum ###\u001b[0m\u001b[0;34m\u001b[0m\u001b[0;34m\u001b[0m\u001b[0m\n",
            "\u001b[0;32m/usr/local/lib/python3.9/dist-packages/sklearn/metrics/_classification.py\u001b[0m in \u001b[0;36m_check_set_wise_labels\u001b[0;34m(y_true, y_pred, average, labels, pos_label)\u001b[0m\n\u001b[1;32m   1372\u001b[0m         \u001b[0;32mraise\u001b[0m \u001b[0mValueError\u001b[0m\u001b[0;34m(\u001b[0m\u001b[0;34m\"average has to be one of \"\u001b[0m \u001b[0;34m+\u001b[0m \u001b[0mstr\u001b[0m\u001b[0;34m(\u001b[0m\u001b[0maverage_options\u001b[0m\u001b[0;34m)\u001b[0m\u001b[0;34m)\u001b[0m\u001b[0;34m\u001b[0m\u001b[0;34m\u001b[0m\u001b[0m\n\u001b[1;32m   1373\u001b[0m \u001b[0;34m\u001b[0m\u001b[0m\n\u001b[0;32m-> 1374\u001b[0;31m     \u001b[0my_type\u001b[0m\u001b[0;34m,\u001b[0m \u001b[0my_true\u001b[0m\u001b[0;34m,\u001b[0m \u001b[0my_pred\u001b[0m \u001b[0;34m=\u001b[0m \u001b[0m_check_targets\u001b[0m\u001b[0;34m(\u001b[0m\u001b[0my_true\u001b[0m\u001b[0;34m,\u001b[0m \u001b[0my_pred\u001b[0m\u001b[0;34m)\u001b[0m\u001b[0;34m\u001b[0m\u001b[0;34m\u001b[0m\u001b[0m\n\u001b[0m\u001b[1;32m   1375\u001b[0m     \u001b[0;31m# Convert to Python primitive type to avoid NumPy type / Python str\u001b[0m\u001b[0;34m\u001b[0m\u001b[0;34m\u001b[0m\u001b[0m\n\u001b[1;32m   1376\u001b[0m     \u001b[0;31m# comparison. See https://github.com/numpy/numpy/issues/6784\u001b[0m\u001b[0;34m\u001b[0m\u001b[0;34m\u001b[0m\u001b[0m\n",
            "\u001b[0;32m/usr/local/lib/python3.9/dist-packages/sklearn/metrics/_classification.py\u001b[0m in \u001b[0;36m_check_targets\u001b[0;34m(y_true, y_pred)\u001b[0m\n\u001b[1;32m     93\u001b[0m \u001b[0;34m\u001b[0m\u001b[0m\n\u001b[1;32m     94\u001b[0m     \u001b[0;32mif\u001b[0m \u001b[0mlen\u001b[0m\u001b[0;34m(\u001b[0m\u001b[0my_type\u001b[0m\u001b[0;34m)\u001b[0m \u001b[0;34m>\u001b[0m \u001b[0;36m1\u001b[0m\u001b[0;34m:\u001b[0m\u001b[0;34m\u001b[0m\u001b[0;34m\u001b[0m\u001b[0m\n\u001b[0;32m---> 95\u001b[0;31m         raise ValueError(\n\u001b[0m\u001b[1;32m     96\u001b[0m             \"Classification metrics can't handle a mix of {0} and {1} targets\".format(\n\u001b[1;32m     97\u001b[0m                 \u001b[0mtype_true\u001b[0m\u001b[0;34m,\u001b[0m \u001b[0mtype_pred\u001b[0m\u001b[0;34m\u001b[0m\u001b[0;34m\u001b[0m\u001b[0m\n",
            "\u001b[0;31mValueError\u001b[0m: Classification metrics can't handle a mix of multilabel-indicator and binary targets"
          ]
        }
      ]
    },
    {
      "cell_type": "code",
      "source": [],
      "metadata": {
        "id": "YsOJYtpB0YC_"
      },
      "execution_count": null,
      "outputs": []
    }
  ]
}