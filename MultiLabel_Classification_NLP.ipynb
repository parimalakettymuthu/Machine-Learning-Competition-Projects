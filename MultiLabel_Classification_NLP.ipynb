{
  "nbformat": 4,
  "nbformat_minor": 0,
  "metadata": {
    "colab": {
      "provenance": [],
      "machine_shape": "hm",
      "authorship_tag": "ABX9TyMVoWHmTHw7yOwRk0L2zPaX",
      "include_colab_link": true
    },
    "kernelspec": {
      "name": "python3",
      "display_name": "Python 3"
    },
    "language_info": {
      "name": "python"
    },
    "accelerator": "GPU",
    "gpuClass": "premium"
  },
  "cells": [
    {
      "cell_type": "markdown",
      "metadata": {
        "id": "view-in-github",
        "colab_type": "text"
      },
      "source": [
        "<a href=\"https://colab.research.google.com/github/parimalakettymuthu/MachineLearning-Projects/blob/main/MultiLabel_Classification_NLP.ipynb\" target=\"_parent\"><img src=\"https://colab.research.google.com/assets/colab-badge.svg\" alt=\"Open In Colab\"/></a>"
      ]
    },
    {
      "cell_type": "code",
      "source": [
        "%load_ext autoreload\n",
        "%autoreload 2"
      ],
      "metadata": {
        "id": "0hAyTHurT-lH"
      },
      "execution_count": 1,
      "outputs": []
    },
    {
      "cell_type": "code",
      "source": [
        "import sys "
      ],
      "metadata": {
        "id": "zT63hu4OUC82"
      },
      "execution_count": 2,
      "outputs": []
    },
    {
      "cell_type": "code",
      "execution_count": 3,
      "metadata": {
        "id": "3Kdp7KNWRxSa"
      },
      "outputs": [],
      "source": [
        "# Importing the necessary libraries\n",
        "import torch\n",
        "import torch.nn as nn\n",
        "import torch.nn.functional as F\n",
        "from torchtext.vocab import  vocab\n",
        "\n",
        "import random\n",
        "import numpy as np\n",
        "import pandas as pd\n",
        "import joblib\n",
        "from collections import Counter\n",
        "\n",
        "\n",
        "from pathlib import Path\n",
        "import sys\n",
        "\n",
        "from sklearn.model_selection import train_test_split\n",
        "!pip install wandb -qq\n",
        "import wandb"
      ]
    },
    {
      "cell_type": "code",
      "source": [
        "#Accessing google colab and append custom functions folder\n",
        "if 'google.colab' in str(get_ipython()):\n",
        "  from google.colab import drive\n",
        "  drive.mount('/content/drive')   \n",
        "  base_path = '/content/drive/MyDrive/NLP'\n",
        "  sys.path.append('/content/drive/MyDrive/NLP/user-defined-fns')\n",
        "  sys.path.append('/content/drive/MyDrive/NLP/user-defined-fn')\n",
        "  sys.path.append('/content/drive/MyDrive/NLP/user-defined')"
      ],
      "metadata": {
        "colab": {
          "base_uri": "https://localhost:8080/",
          "height": 0
        },
        "id": "vEqI31NGSB8E",
        "outputId": "05c251e6-3885-4f96-9bed-837bd6bc039f"
      },
      "execution_count": 4,
      "outputs": [
        {
          "output_type": "stream",
          "name": "stdout",
          "text": [
            "Drive already mounted at /content/drive; to attempt to forcibly remount, call drive.mount(\"/content/drive\", force_remount=True).\n"
          ]
        }
      ]
    },
    {
      "cell_type": "code",
      "source": [
        "#Defining the path and traversing the contents in the folder\n",
        "base_folder = Path(base_path)\n",
        "assignment_fldr = base_folder/ 'assignment6'\n",
        "custom_fldr = base_folder/ 'user-defined-fn'\n",
        "\n",
        "#Check contents in data folder\n",
        "for entries in custom_fldr.iterdir():\n",
        "  print(entries.name)"
      ],
      "metadata": {
        "colab": {
          "base_uri": "https://localhost:8080/",
          "height": 0
        },
        "id": "3-o_n-FkS2qs",
        "outputId": "623b9056-d73c-4289-e6a7-5d5a274b3239"
      },
      "execution_count": 5,
      "outputs": [
        {
          "output_type": "stream",
          "name": "stdout",
          "text": [
            "data_preparation_imdb_rev0.py\n",
            ".ipynb_checkpoints\n",
            "__pycache__\n"
          ]
        }
      ]
    },
    {
      "cell_type": "code",
      "source": [
        "sys.path = list(set(sys.path))"
      ],
      "metadata": {
        "id": "cUbDeEuAmSGX"
      },
      "execution_count": 6,
      "outputs": []
    },
    {
      "cell_type": "code",
      "source": [
        "sys.path"
      ],
      "metadata": {
        "colab": {
          "base_uri": "https://localhost:8080/",
          "height": 0
        },
        "id": "63DrEKz6mVWO",
        "outputId": "54bb7e30-2c84-49c9-d334-c2980fd570fa"
      },
      "execution_count": 7,
      "outputs": [
        {
          "output_type": "execute_result",
          "data": {
            "text/plain": [
              "['',\n",
              " '/usr/lib/python3.9/lib-dynload',\n",
              " '/content',\n",
              " '/usr/local/lib/python3.9/dist-packages/IPython/extensions',\n",
              " '/root/.ipython',\n",
              " '/usr/lib/python39.zip',\n",
              " '/usr/lib/python3/dist-packages',\n",
              " '/content/drive/MyDrive/NLP/user-defined-fn',\n",
              " '/content/drive/MyDrive/NLP/user-defined',\n",
              " '/env/python',\n",
              " '/usr/local/lib/python3.9/dist-packages',\n",
              " '/content/drive/MyDrive/NLP/user-defined-fns',\n",
              " '/usr/lib/python3.9']"
            ]
          },
          "metadata": {},
          "execution_count": 7
        }
      ]
    },
    {
      "cell_type": "code",
      "source": [
        "!pip install torchmetrics -qq"
      ],
      "metadata": {
        "id": "Qdu0GC2FG-v7"
      },
      "execution_count": 8,
      "outputs": []
    },
    {
      "cell_type": "code",
      "source": [
        "from Trainer_v2 import Trainer\n",
        "from ff_3_layer_sequential_model import MLPCustom"
      ],
      "metadata": {
        "id": "C29fXsrflwoO"
      },
      "execution_count": 9,
      "outputs": []
    },
    {
      "cell_type": "code",
      "source": [
        "from data_preparation_imdb_rev0 import *"
      ],
      "metadata": {
        "id": "KegW-cQiIjui"
      },
      "execution_count": 10,
      "outputs": []
    },
    {
      "cell_type": "code",
      "source": [
        "#Loading the contents from folder\n",
        "df_multilable_data = assignment_fldr/ 'df_multilabel_hw_cleaned.joblib'\n",
        "multiLabel_Data = joblib.load(df_multilable_data)"
      ],
      "metadata": {
        "id": "8CMy-nX9TQvM"
      },
      "execution_count": 11,
      "outputs": []
    },
    {
      "cell_type": "code",
      "source": [
        "multiLabel_Data.columns #Printing all df columns"
      ],
      "metadata": {
        "id": "hFG1VYkjadBh",
        "colab": {
          "base_uri": "https://localhost:8080/",
          "height": 0
        },
        "outputId": "73e5fe50-e20d-4197-fa57-b9e687471b92"
      },
      "execution_count": 12,
      "outputs": [
        {
          "output_type": "execute_result",
          "data": {
            "text/plain": [
              "Index(['cleaned_text', 'Tags', 'Tag_Number'], dtype='object')"
            ]
          },
          "metadata": {},
          "execution_count": 12
        }
      ]
    },
    {
      "cell_type": "code",
      "source": [
        "multiLabel_Data.shape"
      ],
      "metadata": {
        "id": "qM9YdVq5air3",
        "colab": {
          "base_uri": "https://localhost:8080/",
          "height": 0
        },
        "outputId": "628831e3-6f41-40b9-e1dc-915bfa337123"
      },
      "execution_count": 13,
      "outputs": [
        {
          "output_type": "execute_result",
          "data": {
            "text/plain": [
              "(47427, 3)"
            ]
          },
          "metadata": {},
          "execution_count": 13
        }
      ]
    },
    {
      "cell_type": "code",
      "source": [
        "import ast\n",
        "# assume 'df' is your pandas DataFrame\n",
        "multiLabel_Data['Tag_Number'] = multiLabel_Data['Tag_Number'].apply(lambda x: [int(i) for i in ast.literal_eval(x)])"
      ],
      "metadata": {
        "id": "9aTsr8lshC_w"
      },
      "execution_count": 14,
      "outputs": []
    },
    {
      "cell_type": "code",
      "source": [
        "from sklearn.preprocessing import MultiLabelBinarizer   #Implementing MultiLabelBinarizer for multiLabel classification\n",
        "\n",
        "# assume 'labels' is your list of labels (i.e., 'Tag_Number' column after conversion to integers)\n",
        "mlb = MultiLabelBinarizer()\n",
        "one_hot_labels= mlb.fit_transform(multiLabel_Data['Tag_Number'])\n",
        "for i in range(len(mlb.classes_)):\n",
        "    multiLabel_Data[f\"one_hot_{mlb.classes_[i]}\"] = one_hot_labels[:, i]"
      ],
      "metadata": {
        "id": "iAJsrBAvhIXe"
      },
      "execution_count": 15,
      "outputs": []
    },
    {
      "cell_type": "code",
      "source": [
        "multiLabel_Data.columns"
      ],
      "metadata": {
        "colab": {
          "base_uri": "https://localhost:8080/",
          "height": 0
        },
        "id": "WQMyUmyx7fiu",
        "outputId": "3fb50991-bd94-4fec-c6e9-b36246ef26c5"
      },
      "execution_count": 16,
      "outputs": [
        {
          "output_type": "execute_result",
          "data": {
            "text/plain": [
              "Index(['cleaned_text', 'Tags', 'Tag_Number', 'one_hot_0', 'one_hot_1',\n",
              "       'one_hot_2', 'one_hot_3', 'one_hot_4', 'one_hot_5', 'one_hot_6',\n",
              "       'one_hot_7', 'one_hot_8', 'one_hot_9'],\n",
              "      dtype='object')"
            ]
          },
          "metadata": {},
          "execution_count": 16
        }
      ]
    },
    {
      "cell_type": "code",
      "source": [
        "X_final = multiLabel_Data['cleaned_text'].values"
      ],
      "metadata": {
        "id": "9Et9mS4IaowM"
      },
      "execution_count": 17,
      "outputs": []
    },
    {
      "cell_type": "code",
      "source": [
        "y_final = multiLabel_Data.loc[:, 'one_hot_0':'one_hot_9'].values    #Checking one-hot encoding values\n",
        "unique_labels = np.unique(y_final)\n",
        "print(unique_labels)"
      ],
      "metadata": {
        "id": "BrRAxTxZejaF",
        "colab": {
          "base_uri": "https://localhost:8080/",
          "height": 0
        },
        "outputId": "e8fca5b5-07bb-43a3-9ffe-77fde1fef04d"
      },
      "execution_count": 18,
      "outputs": [
        {
          "output_type": "stream",
          "name": "stdout",
          "text": [
            "[0 1]\n"
          ]
        }
      ]
    },
    {
      "cell_type": "code",
      "source": [
        "print(type(y_final), y_final.shape)"
      ],
      "metadata": {
        "id": "V4-ktoCfelQE",
        "colab": {
          "base_uri": "https://localhost:8080/",
          "height": 0
        },
        "outputId": "7130d0ed-235c-4a93-dd9a-b68ed4e69fb1"
      },
      "execution_count": 19,
      "outputs": [
        {
          "output_type": "stream",
          "name": "stdout",
          "text": [
            "<class 'numpy.ndarray'> (47427, 10)\n"
          ]
        }
      ]
    },
    {
      "cell_type": "markdown",
      "source": [
        "#Create Train/Test/Valid Split"
      ],
      "metadata": {
        "id": "_Soz3Y_feyv7"
      }
    },
    {
      "cell_type": "code",
      "source": [
        "X_train, x_valid_test, y_train, y_valid_test = train_test_split(X_final, y_final, test_size = 0.4)   #Splitting the data"
      ],
      "metadata": {
        "id": "a0XiDspOewFT"
      },
      "execution_count": 20,
      "outputs": []
    },
    {
      "cell_type": "code",
      "source": [
        "X_valid, X_test, y_valid, y_test = train_test_split(x_valid_test, y_valid_test, test_size = 0.5)"
      ],
      "metadata": {
        "id": "e2Ko3qrwe1hb"
      },
      "execution_count": 21,
      "outputs": []
    },
    {
      "cell_type": "code",
      "source": [
        "print(\"Train set shape: \", X_train.shape, \"Split %: \", len(X_train)/len(X_final))\n",
        "print(\"Validation set shape: \", X_valid.shape,\"Split %: \", len(X_valid)/len(X_final))\n",
        "print(\"Test set shape: \", X_test.shape, \"Split %: \", len(X_test)/len(X_final))"
      ],
      "metadata": {
        "id": "2Hn0kveegX79",
        "colab": {
          "base_uri": "https://localhost:8080/",
          "height": 0
        },
        "outputId": "b9b498a7-2bc0-4af7-ad69-63a3a27a5c74"
      },
      "execution_count": 22,
      "outputs": [
        {
          "output_type": "stream",
          "name": "stdout",
          "text": [
            "Train set shape:  (28456,) Split %:  0.59999578299281\n",
            "Validation set shape:  (9485,) Split %:  0.19999156598562\n",
            "Test set shape:  (9486,) Split %:  0.20001265102156998\n"
          ]
        }
      ]
    },
    {
      "cell_type": "code",
      "source": [
        "trainset = CustomDataset(X_train,y_train)   #Creating train, valid & test set using custom class\n",
        "validset = CustomDataset(X_valid,y_valid)\n",
        "testset = CustomDataset(X_test,y_test)"
      ],
      "metadata": {
        "id": "U3058MHPgpht"
      },
      "execution_count": 23,
      "outputs": []
    },
    {
      "cell_type": "code",
      "source": [
        "print(np.unique(y_train), np.unique(y_valid), np.unique(y_test))"
      ],
      "metadata": {
        "colab": {
          "base_uri": "https://localhost:8080/",
          "height": 0
        },
        "id": "FRxGI1DZljV0",
        "outputId": "d8202104-b8ff-4ab2-fb0e-9e7ce5c46bd9"
      },
      "execution_count": 24,
      "outputs": [
        {
          "output_type": "stream",
          "name": "stdout",
          "text": [
            "[0 1] [0 1] [0 1]\n"
          ]
        }
      ]
    },
    {
      "cell_type": "markdown",
      "source": [
        "#Create vocab"
      ],
      "metadata": {
        "id": "Pml3PuH3j-V-"
      }
    },
    {
      "cell_type": "code",
      "source": [
        "multilabel_vocab = get_vocab(trainset, min_freq=2)   #Creating vocab"
      ],
      "metadata": {
        "id": "Lkxzji92j63N"
      },
      "execution_count": 25,
      "outputs": []
    },
    {
      "cell_type": "code",
      "source": [
        "len(multilabel_vocab)"
      ],
      "metadata": {
        "colab": {
          "base_uri": "https://localhost:8080/",
          "height": 0
        },
        "id": "vtFsMZgEOk5o",
        "outputId": "26a70e10-a3de-4ab3-b5b2-d19889a342ab"
      },
      "execution_count": 26,
      "outputs": [
        {
          "output_type": "execute_result",
          "data": {
            "text/plain": [
              "92242"
            ]
          },
          "metadata": {},
          "execution_count": 26
        }
      ]
    },
    {
      "cell_type": "code",
      "source": [
        "valid_multilabel_vocab = get_vocab(validset, min_freq=2)"
      ],
      "metadata": {
        "id": "SI264seClU5-"
      },
      "execution_count": 27,
      "outputs": []
    },
    {
      "cell_type": "markdown",
      "source": [
        "#Meta Data"
      ],
      "metadata": {
        "id": "jmnuyTRbOzew"
      }
    },
    {
      "cell_type": "code",
      "source": [
        "from types import SimpleNamespace    #Defining parameters \n",
        "\n",
        "hyperparameters = SimpleNamespace(\n",
        "    # model Parameters\n",
        "    EMBED_DIM=300,\n",
        "    VOCAB_SIZE=len(multilabel_vocab),\n",
        "    OUTPUT_DIM=10,\n",
        "    HIDDEN_DIM1=200,\n",
        "    HIDDEN_DIM2=100,\n",
        "    NON_LINEARITY=F.relu,\n",
        "    \n",
        "    # training \n",
        "    EPOCHS=5,\n",
        "    BATCH_SIZE=128,\n",
        "    LEARNING_RATE=0.001,\n",
        "    WEIGHT_DECAY=0.000,\n",
        "    CLIP_TYPE = 'value',\n",
        "    CLIP_VALUE = 10,\n",
        "    PATIENCE=5,\n",
        "    MOMENTUM=0,  \n",
        ")"
      ],
      "metadata": {
        "id": "jHqulM93Ovrf"
      },
      "execution_count": 28,
      "outputs": []
    },
    {
      "cell_type": "markdown",
      "source": [
        "#Trainer Configuration"
      ],
      "metadata": {
        "id": "Bxoww9DhPvJF"
      }
    },
    {
      "cell_type": "code",
      "source": [
        "def collate_batch_multilabel(batch, vocab):   #Defined collate batch function to support multilabel classification\n",
        "    labels, texts = zip(*batch)\n",
        "    labels = torch.tensor(labels, dtype=torch.float32)\n",
        "    list_of_list_of_indices = [text_pipeline(text, vocab) for text in texts]\n",
        "    offsets = [0] + [len(i) for i in list_of_list_of_indices]\n",
        "    offsets = torch.tensor(offsets[:-1]).cumsum(dim=0)\n",
        "    texts = torch.cat([torch.tensor(i, dtype=torch.int64) for i in list_of_list_of_indices])\n",
        "    return (texts, offsets), labels"
      ],
      "metadata": {
        "id": "HxR9W5jA-Nqj"
      },
      "execution_count": 29,
      "outputs": []
    },
    {
      "cell_type": "code",
      "source": [
        "from functools import partial   #Defined all required class instances & Other variables\n",
        "# Fix seed value\n",
        "Trainer.set_seed()\n",
        "\n",
        "collate_fn = partial(collate_batch_multilabel, vocab=multilabel_vocab)\n",
        "\n",
        "# Data Loader\n",
        "train_loader, valid_loader = get_loaders(trainset, validset, batch_size_= hyperparameters.BATCH_SIZE, \n",
        "                                         collate_fn=collate_fn)\n",
        "\n",
        "# cross entropy loss function\n",
        "loss_function = torch.nn.BCEWithLogitsLoss()\n",
        "# model\n",
        "model_imdb = MLPCustom(hyperparameters.EMBED_DIM,\n",
        "                       hyperparameters.VOCAB_SIZE,\n",
        "                       hyperparameters.HIDDEN_DIM1,\n",
        "                       hyperparameters.HIDDEN_DIM2,\n",
        "                       hyperparameters.OUTPUT_DIM,\n",
        "                       hyperparameters.NON_LINEARITY)\n",
        "\n",
        "def init_weights(m):\n",
        "    if type(m) == nn.Linear:\n",
        "        torch.nn.init.kaiming_normal_(m.weight)\n",
        "        torch.nn.init.zeros_(m.bias)\n",
        "\n",
        "\n",
        "# apply initialization recursively  to all modules\n",
        "model_imdb.apply(init_weights)\n",
        "\n",
        "# Intialize stochiastic gradient descent optimizer\n",
        "optimizer = torch.optim.Adam(model_imdb.parameters(),\n",
        "                             lr=hyperparameters.LEARNING_RATE,\n",
        "                             weight_decay=hyperparameters.WEIGHT_DECAY,\n",
        "                             )\n",
        "device = torch.device('cuda:0' if torch.cuda.is_available() else 'cpu')"
      ],
      "metadata": {
        "id": "BCIHHBEKoyjH"
      },
      "execution_count": 30,
      "outputs": []
    },
    {
      "cell_type": "code",
      "source": [
        "for (texts, offsets), labels in train_loader:   #Traversing the train_loader\n",
        "  print(labels, texts, offsets)\n",
        "  break"
      ],
      "metadata": {
        "id": "mpLBXT3pj4_W",
        "colab": {
          "base_uri": "https://localhost:8080/",
          "height": 0
        },
        "outputId": "ddc97ce1-755c-4f1c-d18f-0c500add4e4e"
      },
      "execution_count": 31,
      "outputs": [
        {
          "output_type": "stream",
          "name": "stdout",
          "text": [
            "tensor([[1., 0., 0.,  ..., 0., 0., 1.],\n",
            "        [0., 1., 0.,  ..., 0., 0., 0.],\n",
            "        [0., 1., 0.,  ..., 0., 0., 0.],\n",
            "        ...,\n",
            "        [0., 0., 0.,  ..., 0., 0., 0.],\n",
            "        [0., 0., 0.,  ..., 0., 0., 0.],\n",
            "        [1., 0., 0.,  ..., 0., 0., 1.]]) tensor([  540, 17584,    16,  ...,   209,  7293,  7294]) tensor([    0,   242,   381,   444,   503,   652,   817,   958,  1005,  1032,\n",
            "         1118,  1203,  1549,  1571,  1636,  1680,  1700,  1797,  1850,  1969,\n",
            "         2048,  2124,  2379,  2486,  2605,  2649,  2681,  2693,  2764,  2823,\n",
            "         2857,  2896,  3076,  3321,  3422,  3462,  3564,  3607,  3650,  3755,\n",
            "         3802,  3862,  4120,  4140,  4170,  4248,  4299,  4352,  4423,  4505,\n",
            "         4596,  4631,  4697,  4752,  4774,  4810,  4935,  4990,  5019,  5060,\n",
            "         5122,  5197,  5390,  5420,  5470,  5528,  5597,  5890,  5985,  6007,\n",
            "         6044,  6160,  6204,  6277,  6363,  6454,  6480,  6681,  6684,  6757,\n",
            "         6806,  6883,  6900,  7040,  7063,  7153,  7187,  7234,  7280,  7408,\n",
            "         7568,  7763,  7813,  7975,  8469,  8500,  8613,  8755,  8908,  8996,\n",
            "         9013,  9041,  9097,  9135,  9168,  9177,  9227,  9366,  9444, 10469,\n",
            "        10509, 10538, 10559, 10613, 10663, 10928, 10969, 11049, 11078, 11112,\n",
            "        11247, 11284, 11346, 11400, 11429, 11532, 11641, 11680])\n"
          ]
        },
        {
          "output_type": "stream",
          "name": "stderr",
          "text": [
            "<ipython-input-29-eca38cbe030c>:3: UserWarning: Creating a tensor from a list of numpy.ndarrays is extremely slow. Please consider converting the list to a single numpy.ndarray with numpy.array() before converting to a tensor. (Triggered internally at ../torch/csrc/utils/tensor_new.cpp:245.)\n",
            "  labels = torch.tensor(labels, dtype=torch.float32)\n"
          ]
        }
      ]
    },
    {
      "cell_type": "markdown",
      "source": [
        "#Training Model"
      ],
      "metadata": {
        "id": "D_i3Q8ygQPv3"
      }
    },
    {
      "cell_type": "code",
      "source": [
        "trainer = Trainer(model=model_imdb, optimizer=optimizer,         \n",
        "                  criterion=loss_function, device=device)       #creating class instance"
      ],
      "metadata": {
        "id": "hJyQaLgkQUCH"
      },
      "execution_count": 32,
      "outputs": []
    },
    {
      "cell_type": "code",
      "source": [
        "from torchmetrics.classification import MultilabelHammingDistance     #Defining other class instances and variables\n",
        "run_folder = assignment_fldr/'rev2'\n",
        "run_folder.mkdir(exist_ok=True)\n",
        "\n",
        "# set loaders\n",
        "trainer.set_loaders(train_loader, valid_loader)\n",
        "\n",
        "# set metric -- OPTIONAL\n",
        "train_metric = MultilabelHammingDistance(mode='multilabel',task='multilabel', num_labels=10,compute_on_step=False)\n",
        "valid_metric = MultilabelHammingDistance(mode='multilabel',task='multilabel', num_labels=10,compute_on_step=False)\n",
        "trainer.set_metric(train_metric.to(device), valid_metric.to(device))\n",
        "\n",
        "# set checkpoint -- OPTIONAL\n",
        "trainer.set_checkpoint(save_path=run_folder,\n",
        "                       save_best=True, save_every_n_epochs=1, save_last_epoch=False)\n",
        "\n",
        "# set early stopping -- OPTIONAL\n",
        "trainer.set_early_stopping(patience = hyperparameters.PATIENCE)\n",
        "\n",
        "# set gradient Clipping  -- OPTIONAL\n",
        "trainer.set_gradient_clipping(hyperparameters.CLIP_TYPE, hyperparameters.CLIP_VALUE, norm_type=2)"
      ],
      "metadata": {
        "id": "tAmN1W-TQcgo"
      },
      "execution_count": 33,
      "outputs": []
    },
    {
      "cell_type": "code",
      "source": [
        "trainer.sanity_check(num_classes=2)   #Doing sanity check"
      ],
      "metadata": {
        "id": "lbRc3MKcRAKC",
        "colab": {
          "base_uri": "https://localhost:8080/",
          "height": 0
        },
        "outputId": "9b5b03a2-9133-40eb-f888-c53bb362b86b"
      },
      "execution_count": 34,
      "outputs": [
        {
          "output_type": "stream",
          "name": "stdout",
          "text": [
            "Actual loss: 0.6742189526557922\n",
            "Expected Theoretical loss: 0.6931471805599453\n"
          ]
        }
      ]
    },
    {
      "cell_type": "code",
      "source": [
        "trainer.train(num_epochs=hyperparameters.EPOCHS, multilabel=True)    #Training the model"
      ],
      "metadata": {
        "id": "vX0wRIdJREc6",
        "colab": {
          "base_uri": "https://localhost:8080/",
          "height": 0
        },
        "outputId": "5e7994eb-ba15-43e1-9707-a178977745bc"
      },
      "execution_count": 35,
      "outputs": [
        {
          "output_type": "stream",
          "name": "stdout",
          "text": [
            "Epoch 1/5 - Train Loss: 0.5746, Train Metric: 0.2704, Train Time: 0:00:03.228184\n",
            "Epoch 1/5 - Val Loss: 0.2339, Val Metric: 0.0741, Val Time: 0:00:00.836388\n",
            "\n",
            "Epoch 2/5 - Train Loss: 0.2361, Train Metric: 0.0848, Train Time: 0:00:03.312485\n",
            "Epoch 2/5 - Val Loss: 0.1622, Val Metric: 0.0590, Val Time: 0:00:00.794074\n",
            "\n",
            "Epoch 3/5 - Train Loss: 0.1777, Train Metric: 0.0641, Train Time: 0:00:03.294919\n",
            "Epoch 3/5 - Val Loss: 0.1428, Val Metric: 0.0522, Val Time: 0:00:00.820113\n",
            "\n",
            "Epoch 4/5 - Train Loss: 0.1518, Train Metric: 0.0542, Train Time: 0:00:03.211055\n",
            "Epoch 4/5 - Val Loss: 0.1307, Val Metric: 0.0482, Val Time: 0:00:00.790137\n",
            "\n",
            "Epoch 5/5 - Train Loss: 0.1341, Train Metric: 0.0479, Train Time: 0:00:03.231810\n",
            "Epoch 5/5 - Val Loss: 0.1221, Val Metric: 0.0449, Val Time: 0:00:00.796349\n",
            "\n"
          ]
        }
      ]
    },
    {
      "cell_type": "code",
      "source": [
        "trainer.plot_history()   #plotting the train & validation loss "
      ],
      "metadata": {
        "id": "UsSEIC6dmgN8",
        "colab": {
          "base_uri": "https://localhost:8080/",
          "height": 881
        },
        "outputId": "eeeaa8cd-18f1-4dde-85df-ffd30f94bdcc"
      },
      "execution_count": 36,
      "outputs": [
        {
          "output_type": "display_data",
          "data": {
            "text/plain": [
              "<Figure size 640x480 with 1 Axes>"
            ],
            "image/png": "[encoded data removed]"
          },
          "metadata": {}
        },
        {
          "output_type": "display_data",
          "data": {
            "text/plain": [
              "<Figure size 640x480 with 1 Axes>"
            ],
            "image/png": "[encoded data removed]"
          },
          "metadata": {}
        }
      ]
    },
    {
      "cell_type": "code",
      "source": [
        "trainer.best_epoch   #Displaying best epoch number "
      ],
      "metadata": {
        "id": "N7AjYIIBmmf0",
        "colab": {
          "base_uri": "https://localhost:8080/",
          "height": 0
        },
        "outputId": "668b3f3d-b4b0-4812-d079-b9b3231b1d5e"
      },
      "execution_count": 37,
      "outputs": [
        {
          "output_type": "execute_result",
          "data": {
            "text/plain": [
              "5"
            ]
          },
          "metadata": {},
          "execution_count": 37
        }
      ]
    },
    {
      "cell_type": "code",
      "source": [
        "file = 'checkpoint_' + str(trainer.timestamp) + '_best.pt'     #Saving the epoch\n",
        "trainer.load_checkpoint(run_folder /file)"
      ],
      "metadata": {
        "colab": {
          "base_uri": "https://localhost:8080/",
          "height": 0
        },
        "id": "HDSHzqxuVsa3",
        "outputId": "dd1e735b-433f-404b-adee-ecbe72ebcc4a"
      },
      "execution_count": 38,
      "outputs": [
        {
          "output_type": "stream",
          "name": "stdout",
          "text": [
            "Loaded checkpoint from '/content/drive/MyDrive/NLP/assignment6/rev2/checkpoint_2023-04-10_03-58-10_best.pt'.\n"
          ]
        }
      ]
    },
    {
      "cell_type": "code",
      "source": [
        "trainer.train(num_epochs=10, multilabel=True)  #Rerunning the model again 10 times"
      ],
      "metadata": {
        "colab": {
          "base_uri": "https://localhost:8080/",
          "height": 0
        },
        "id": "dhxHEmM3VxNY",
        "outputId": "9e048c50-6e55-4172-a9dc-b4126f7f51fa"
      },
      "execution_count": 39,
      "outputs": [
        {
          "output_type": "stream",
          "name": "stdout",
          "text": [
            "Epoch 1/10 - Train Loss: 0.1186, Train Metric: 0.0423, Train Time: 0:00:03.207281\n",
            "Epoch 1/10 - Val Loss: 0.1167, Val Metric: 0.0429, Val Time: 0:00:00.796738\n",
            "\n",
            "Epoch 2/10 - Train Loss: 0.1078, Train Metric: 0.0387, Train Time: 0:00:03.169728\n",
            "Epoch 2/10 - Val Loss: 0.1119, Val Metric: 0.0408, Val Time: 0:00:00.822383\n",
            "\n",
            "Epoch 3/10 - Train Loss: 0.0974, Train Metric: 0.0350, Train Time: 0:00:03.209095\n",
            "Epoch 3/10 - Val Loss: 0.1076, Val Metric: 0.0393, Val Time: 0:00:00.795086\n",
            "\n",
            "Epoch 4/10 - Train Loss: 0.0896, Train Metric: 0.0321, Train Time: 0:00:03.191739\n",
            "Epoch 4/10 - Val Loss: 0.1061, Val Metric: 0.0380, Val Time: 0:00:00.799408\n",
            "\n",
            "Epoch 5/10 - Train Loss: 0.0808, Train Metric: 0.0291, Train Time: 0:00:03.283298\n",
            "Epoch 5/10 - Val Loss: 0.1034, Val Metric: 0.0362, Val Time: 0:00:00.794907\n",
            "\n",
            "EarlyStopping counter: 1 out of 5\n",
            "Epoch 6/10 - Train Loss: 0.0744, Train Metric: 0.0267, Train Time: 0:00:03.191665\n",
            "Epoch 6/10 - Val Loss: 0.1037, Val Metric: 0.0357, Val Time: 0:00:00.801756\n",
            "\n",
            "Epoch 7/10 - Train Loss: 0.0681, Train Metric: 0.0246, Train Time: 0:00:03.211574\n",
            "Epoch 7/10 - Val Loss: 0.1010, Val Metric: 0.0347, Val Time: 0:00:00.800718\n",
            "\n",
            "EarlyStopping counter: 1 out of 5\n",
            "Epoch 8/10 - Train Loss: 0.0626, Train Metric: 0.0226, Train Time: 0:00:03.182699\n",
            "Epoch 8/10 - Val Loss: 0.1030, Val Metric: 0.0347, Val Time: 0:00:00.796518\n",
            "\n",
            "EarlyStopping counter: 2 out of 5\n",
            "Epoch 9/10 - Train Loss: 0.0578, Train Metric: 0.0208, Train Time: 0:00:03.196120\n",
            "Epoch 9/10 - Val Loss: 0.1031, Val Metric: 0.0342, Val Time: 0:00:00.793673\n",
            "\n",
            "EarlyStopping counter: 3 out of 5\n",
            "Epoch 10/10 - Train Loss: 0.0542, Train Metric: 0.0192, Train Time: 0:00:03.222563\n",
            "Epoch 10/10 - Val Loss: 0.1041, Val Metric: 0.0340, Val Time: 0:00:00.795272\n",
            "\n"
          ]
        }
      ]
    },
    {
      "cell_type": "code",
      "source": [
        "trainer.plot_history()  #Replotting the train & valid loss"
      ],
      "metadata": {
        "colab": {
          "base_uri": "https://localhost:8080/",
          "height": 886
        },
        "id": "mDEICWB_W6G_",
        "outputId": "d35cdfad-cbb5-4b7f-9eb0-3517ca3e11db"
      },
      "execution_count": 40,
      "outputs": [
        {
          "output_type": "display_data",
          "data": {
            "text/plain": [
              "<Figure size 640x480 with 1 Axes>"
            ],
            "image/png": "[encoded data removed]"
          },
          "metadata": {}
        },
        {
          "output_type": "display_data",
          "data": {
            "text/plain": [
              "<Figure size 640x480 with 1 Axes>"
            ],
            "image/png": "[encoded data removed]"
          },
          "metadata": {}
        }
      ]
    },
    {
      "cell_type": "code",
      "source": [
        "trainer.best_epoch #displaying the best epoch"
      ],
      "metadata": {
        "colab": {
          "base_uri": "https://localhost:8080/",
          "height": 0
        },
        "id": "_2wQdEoKW9Jh",
        "outputId": "ac3670c5-a9ad-4082-cf8c-8a9b2440eb7f"
      },
      "execution_count": 41,
      "outputs": [
        {
          "output_type": "execute_result",
          "data": {
            "text/plain": [
              "11"
            ]
          },
          "metadata": {},
          "execution_count": 41
        }
      ]
    },
    {
      "cell_type": "markdown",
      "source": [
        "#Get Accuracy, Predictions"
      ],
      "metadata": {
        "id": "cMVMdF1Fmq1N"
      }
    },
    {
      "cell_type": "code",
      "source": [
        "test_multilabel_vocab = get_vocab(testset, min_freq=2)   #Create test vocab"
      ],
      "metadata": {
        "id": "TGJf7kGb67Gr"
      },
      "execution_count": 42,
      "outputs": []
    },
    {
      "cell_type": "code",
      "source": [
        "collate_fn = partial(collate_batch_multilabel, vocab=test_multilabel_vocab)    #Creating test loader\n",
        "test_loader = get_test_loaders(testset, batch_size_=hyperparameters.BATCH_SIZE,\n",
        "                               collate_fn=collate_fn)"
      ],
      "metadata": {
        "id": "1-UxWIofmyjT"
      },
      "execution_count": 43,
      "outputs": []
    },
    {
      "cell_type": "code",
      "source": [
        "for (texts, offsets), labels in test_loader:   #Traversing the test loader\n",
        "  print(labels, texts, offsets)\n",
        "  break"
      ],
      "metadata": {
        "colab": {
          "base_uri": "https://localhost:8080/",
          "height": 0
        },
        "id": "ikK4HDnQ_xM0",
        "outputId": "e88ca758-ba8c-4ec5-ef99-991bd1b8753a"
      },
      "execution_count": 44,
      "outputs": [
        {
          "output_type": "stream",
          "name": "stdout",
          "text": [
            "tensor([[0., 0., 0.,  ..., 0., 0., 0.],\n",
            "        [0., 0., 1.,  ..., 0., 0., 0.],\n",
            "        [0., 0., 0.,  ..., 0., 0., 0.],\n",
            "        ...,\n",
            "        [1., 1., 0.,  ..., 0., 0., 0.],\n",
            "        [0., 0., 0.,  ..., 0., 0., 0.],\n",
            "        [1., 0., 0.,  ..., 0., 0., 1.]]) tensor([  1,   2,   0,  ...,   6, 236,   8]) tensor([    0,    91,   157,   380,   415,   447,   597,   621,   637,   664,\n",
            "          682,   690,   809,   838,   891,   958,  1062,  1081,  1285,  1321,\n",
            "         1364,  1454,  1499,  1532,  1603,  1701,  1891,  1947,  2070,  2104,\n",
            "         2125,  2221,  2263,  2317,  2384,  2413,  2426,  2481,  2559,  2739,\n",
            "         2830,  2891,  3112,  3173,  3321,  3421,  3484,  3910,  3992,  4140,\n",
            "         4161,  4217,  4274,  4297,  4377,  4622,  4675,  4710,  4767,  4876,\n",
            "         4945,  5120,  5336,  5383,  5637,  5829,  5895,  6108,  6141,  6185,\n",
            "         6270,  6323,  6373,  6425,  6455,  6495,  6532,  6567,  6602,  6673,\n",
            "         6721,  6890,  6945,  7026,  7058,  7100,  7126,  7162,  7190,  7277,\n",
            "         7302,  7322,  7333,  7371,  7481,  7546,  7555,  7854,  8015,  8068,\n",
            "         8127,  8239,  8262,  8303,  8434,  8483,  8519,  8823,  8842,  8956,\n",
            "         8996,  9023,  9110,  9160,  9291,  9384,  9417,  9471,  9543,  9681,\n",
            "         9720, 10617, 10634, 10680, 10707, 10734, 10917, 10985])\n"
          ]
        }
      ]
    },
    {
      "cell_type": "code",
      "source": [
        "#Predicting train, valid & test dataset\n",
        "predictions_train, target_train = trainer.predict(\n",
        "    train_loader, return_targets=True, multilabel=True)\n",
        "predictions_valid, target_valid = trainer.predict(\n",
        "    valid_loader, return_targets=True, multilabel=True)\n",
        "predictions_test, target_test = trainer.predict(\n",
        "    test_loader, return_targets=True, multilabel=True)"
      ],
      "metadata": {
        "id": "0VL87BLKAJp4"
      },
      "execution_count": 45,
      "outputs": []
    },
    {
      "cell_type": "code",
      "source": [
        "print(target_train.shape, predictions_train.shape)   #Displaying the train, valid & test target & predicted shape\n",
        "print(target_valid.shape, predictions_valid.shape)\n",
        "print(target_test.shape, predictions_test.shape)"
      ],
      "metadata": {
        "colab": {
          "base_uri": "https://localhost:8080/",
          "height": 0
        },
        "id": "PdTmCwu0H3xO",
        "outputId": "638bf2ad-f2eb-4066-c93f-d80e565f1967"
      },
      "execution_count": 46,
      "outputs": [
        {
          "output_type": "stream",
          "name": "stdout",
          "text": [
            "torch.Size([28456, 10]) torch.Size([28456, 10])\n",
            "torch.Size([9485, 10]) torch.Size([9485, 10])\n",
            "torch.Size([9486, 10]) torch.Size([9486, 10])\n"
          ]
        }
      ]
    },
    {
      "cell_type": "code",
      "source": [
        "import torchmetrics"
      ],
      "metadata": {
        "id": "yjl98LkpnjGa"
      },
      "execution_count": 47,
      "outputs": []
    },
    {
      "cell_type": "code",
      "source": [
        "#Calculating the multilable F1 score & hamming distance\n",
        "from torchmetrics.functional.classification import multilabel_f1_score, multilabel_hamming_distance\n",
        "num_classes = target_train.shape[-1]\n",
        "f1_score_train = multilabel_f1_score(target_train, predictions_train, average='micro',num_labels=num_classes)\n",
        "hamming_distance_train = multilabel_hamming_distance(target_train,predictions_train, num_labels=num_classes)\n",
        "print(\"Train F1 Score: \",f1_score_train, \" Train hamming distance: \", hamming_distance_train)\n",
        "num_classes = target_valid.shape[-1]\n",
        "f1_score_valid = multilabel_f1_score(target_valid,predictions_valid, average='micro',num_labels=num_classes)\n",
        "hamming_distance_valid = multilabel_hamming_distance(target_valid,predictions_valid, num_labels=num_classes)\n",
        "print(\"Train F1 Score: \",f1_score_valid, \" Train hamming distance: \", hamming_distance_valid)\n",
        "num_classes = target_test.shape[-1]\n",
        "f1_score_test = multilabel_f1_score(target_test, predictions_test, average='micro', num_labels=num_classes)\n",
        "hamming_distance_test = multilabel_hamming_distance(target_test,predictions_test,num_labels=num_classes)\n",
        "print(\"Test F1 Score: \",f1_score_test, \" Test hamming distance: \", hamming_distance_test)"
      ],
      "metadata": {
        "id": "kahxGQvxn_Lq",
        "colab": {
          "base_uri": "https://localhost:8080/",
          "height": 0
        },
        "outputId": "caed4587-2290-413b-f34f-470f9379ff2a"
      },
      "execution_count": 48,
      "outputs": [
        {
          "output_type": "stream",
          "name": "stdout",
          "text": [
            "Train F1 Score:  tensor(0.9766)  Train hamming distance:  tensor(0.0096)\n",
            "Train F1 Score:  tensor(0.9171)  Train hamming distance:  tensor(0.0340)\n",
            "Test F1 Score:  tensor(0.2324)  Test hamming distance:  tensor(0.3051)\n"
          ]
        }
      ]
    }
  ]
}