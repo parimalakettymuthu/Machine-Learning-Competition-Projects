{
  "nbformat": 4,
  "nbformat_minor": 0,
  "metadata": {
    "colab": {
      "provenance": [],
      "machine_shape": "hm",
      "authorship_tag": "ABX9TyOnEEmLv14Jvhcfie2M/eLu",
      "include_colab_link": true
    },
    "kernelspec": {
      "name": "python3",
      "display_name": "Python 3"
    },
    "language_info": {
      "name": "python"
    },
    "accelerator": "GPU",
    "gpuClass": "premium"
  },
  "cells": [
    {
      "cell_type": "markdown",
      "metadata": {
        "id": "view-in-github",
        "colab_type": "text"
      },
      "source": [
        "<a href=\"https://colab.research.google.com/github/parimalakettymuthu/MachineLearning-Projects/blob/main/MultiLabel_Classification_NLP.ipynb\" target=\"_parent\"><img src=\"https://colab.research.google.com/assets/colab-badge.svg\" alt=\"Open In Colab\"/></a>"
      ]
    },
    {
      "cell_type": "code",
      "source": [
        "%load_ext autoreload\n",
        "%autoreload 2"
      ],
      "metadata": {
        "id": "0hAyTHurT-lH"
      },
      "execution_count": 1,
      "outputs": []
    },
    {
      "cell_type": "code",
      "source": [
        "import sys "
      ],
      "metadata": {
        "id": "zT63hu4OUC82"
      },
      "execution_count": 2,
      "outputs": []
    },
    {
      "cell_type": "code",
      "execution_count": 3,
      "metadata": {
        "id": "3Kdp7KNWRxSa"
      },
      "outputs": [],
      "source": [
        "import pandas as pd\n",
        "from pathlib import Path\n",
        "import joblib\n",
        "# Importing the necessary libraries\n",
        "import torch\n",
        "import torch.nn as nn\n",
        "import torch.nn.functional as F\n",
        "from torchtext.vocab import  vocab\n",
        "\n",
        "import random\n",
        "import numpy as np\n",
        "import pandas as pd\n",
        "import joblib\n",
        "from collections import Counter\n",
        "\n",
        "\n",
        "from pathlib import Path\n",
        "import sys\n",
        "\n",
        "from sklearn.model_selection import train_test_split\n",
        "!pip install wandb -qq\n",
        "import wandb"
      ]
    },
    {
      "cell_type": "code",
      "source": [
        "if 'google.colab' in str(get_ipython()):\n",
        "  from google.colab import drive\n",
        "  drive.mount('/content/drive')   \n",
        "  base_path = '/content/drive/MyDrive/NLP'\n",
        "  sys.path.append('/content/drive/MyDrive/NLP/user-defined-fns')\n",
        "  sys.path.append('/content/drive/MyDrive/NLP/user-defined-fn')\n",
        "  sys.path.append('/content/drive/MyDrive/NLP/user-defined')"
      ],
      "metadata": {
        "colab": {
          "base_uri": "https://localhost:8080/"
        },
        "id": "vEqI31NGSB8E",
        "outputId": "ebf23b53-61d4-4bd1-b02d-0556f8ec6bdf"
      },
      "execution_count": 4,
      "outputs": [
        {
          "output_type": "stream",
          "name": "stdout",
          "text": [
            "Drive already mounted at /content/drive; to attempt to forcibly remount, call drive.mount(\"/content/drive\", force_remount=True).\n"
          ]
        }
      ]
    },
    {
      "cell_type": "code",
      "source": [
        "base_folder = Path(base_path)\n",
        "assignment_fldr = base_folder/ 'assignment6'\n",
        "custom_fldr = base_folder/ 'user-defined-fn'\n",
        "\n",
        "#Check contents in data folder\n",
        "for entries in custom_fldr.iterdir():\n",
        "  print(entries.name)"
      ],
      "metadata": {
        "colab": {
          "base_uri": "https://localhost:8080/"
        },
        "id": "3-o_n-FkS2qs",
        "outputId": "95099d29-66fa-4766-bed3-20105d7a72b7"
      },
      "execution_count": 5,
      "outputs": [
        {
          "output_type": "stream",
          "name": "stdout",
          "text": [
            "data_preparation_imdb_rev0.py\n",
            ".ipynb_checkpoints\n",
            "__pycache__\n"
          ]
        }
      ]
    },
    {
      "cell_type": "code",
      "source": [
        "sys.path = list(set(sys.path))"
      ],
      "metadata": {
        "id": "cUbDeEuAmSGX"
      },
      "execution_count": 6,
      "outputs": []
    },
    {
      "cell_type": "code",
      "source": [
        "sys.path"
      ],
      "metadata": {
        "colab": {
          "base_uri": "https://localhost:8080/"
        },
        "id": "63DrEKz6mVWO",
        "outputId": "3d6c6367-d1c6-48b1-91a7-dda4a9679c54"
      },
      "execution_count": 7,
      "outputs": [
        {
          "output_type": "execute_result",
          "data": {
            "text/plain": [
              "['',\n",
              " '/usr/lib/python3.9/lib-dynload',\n",
              " '/usr/lib/python39.zip',\n",
              " '/content',\n",
              " '/usr/local/lib/python3.9/dist-packages/IPython/extensions',\n",
              " '/content/drive/MyDrive/NLP/user-defined-fn',\n",
              " '/content/drive/MyDrive/NLP/user-defined-fns',\n",
              " '/content/drive/MyDrive/NLP/user-defined',\n",
              " '/usr/local/lib/python3.9/dist-packages',\n",
              " '/root/.ipython',\n",
              " '/usr/lib/python3.9',\n",
              " '/env/python',\n",
              " '/usr/lib/python3/dist-packages']"
            ]
          },
          "metadata": {},
          "execution_count": 7
        }
      ]
    },
    {
      "cell_type": "code",
      "source": [
        "!pip install torchmetrics -qq"
      ],
      "metadata": {
        "id": "Qdu0GC2FG-v7"
      },
      "execution_count": 8,
      "outputs": []
    },
    {
      "cell_type": "code",
      "source": [
        "from Trainer_v2 import Trainer\n",
        "from ff_3_layer_sequential_model import MLPCustom"
      ],
      "metadata": {
        "id": "C29fXsrflwoO"
      },
      "execution_count": 9,
      "outputs": []
    },
    {
      "cell_type": "code",
      "source": [
        "from data_preparation_imdb_rev0 import *"
      ],
      "metadata": {
        "id": "KegW-cQiIjui"
      },
      "execution_count": 10,
      "outputs": []
    },
    {
      "cell_type": "code",
      "source": [
        "df_multilable_data = assignment_fldr/ 'df_multilabel_hw_cleaned.joblib'\n",
        "multiLabel_Data = joblib.load(df_multilable_data)"
      ],
      "metadata": {
        "id": "8CMy-nX9TQvM"
      },
      "execution_count": 11,
      "outputs": []
    },
    {
      "cell_type": "code",
      "source": [
        "multiLabel_Data.columns"
      ],
      "metadata": {
        "id": "hFG1VYkjadBh",
        "colab": {
          "base_uri": "https://localhost:8080/"
        },
        "outputId": "5a56a4cd-1e6d-4172-ce42-577371672303"
      },
      "execution_count": 12,
      "outputs": [
        {
          "output_type": "execute_result",
          "data": {
            "text/plain": [
              "Index(['cleaned_text', 'Tags', 'Tag_Number'], dtype='object')"
            ]
          },
          "metadata": {},
          "execution_count": 12
        }
      ]
    },
    {
      "cell_type": "code",
      "source": [
        "multiLabel_Data.shape"
      ],
      "metadata": {
        "id": "qM9YdVq5air3",
        "colab": {
          "base_uri": "https://localhost:8080/"
        },
        "outputId": "637608bb-81f7-466f-a81e-742be1c8fe9e"
      },
      "execution_count": 13,
      "outputs": [
        {
          "output_type": "execute_result",
          "data": {
            "text/plain": [
              "(47427, 3)"
            ]
          },
          "metadata": {},
          "execution_count": 13
        }
      ]
    },
    {
      "cell_type": "code",
      "source": [
        "import ast\n",
        "# assume 'df' is your pandas DataFrame\n",
        "multiLabel_Data['Tag_Number'] = multiLabel_Data['Tag_Number'].apply(lambda x: [int(i) for i in ast.literal_eval(x)])"
      ],
      "metadata": {
        "id": "9aTsr8lshC_w"
      },
      "execution_count": 14,
      "outputs": []
    },
    {
      "cell_type": "code",
      "source": [
        "from sklearn.preprocessing import MultiLabelBinarizer\n",
        "\n",
        "# assume 'labels' is your list of labels (i.e., 'Tag_Number' column after conversion to integers)\n",
        "mlb = MultiLabelBinarizer()\n",
        "one_hot_labels= mlb.fit_transform(multiLabel_Data['Tag_Number'])\n",
        "for i in range(len(mlb.classes_)):\n",
        "    multiLabel_Data[f\"one_hot_{mlb.classes_[i]}\"] = one_hot_labels[:, i]"
      ],
      "metadata": {
        "id": "iAJsrBAvhIXe"
      },
      "execution_count": 15,
      "outputs": []
    },
    {
      "cell_type": "code",
      "source": [
        "multiLabel_Data.columns"
      ],
      "metadata": {
        "colab": {
          "base_uri": "https://localhost:8080/"
        },
        "id": "WQMyUmyx7fiu",
        "outputId": "9344fc2a-fc93-4a40-8d68-90635c89699e"
      },
      "execution_count": 16,
      "outputs": [
        {
          "output_type": "execute_result",
          "data": {
            "text/plain": [
              "Index(['cleaned_text', 'Tags', 'Tag_Number', 'one_hot_0', 'one_hot_1',\n",
              "       'one_hot_2', 'one_hot_3', 'one_hot_4', 'one_hot_5', 'one_hot_6',\n",
              "       'one_hot_7', 'one_hot_8', 'one_hot_9'],\n",
              "      dtype='object')"
            ]
          },
          "metadata": {},
          "execution_count": 16
        }
      ]
    },
    {
      "cell_type": "code",
      "source": [
        "X_final = multiLabel_Data['cleaned_text'].values"
      ],
      "metadata": {
        "id": "9Et9mS4IaowM"
      },
      "execution_count": 19,
      "outputs": []
    },
    {
      "cell_type": "code",
      "source": [
        "y_final = multiLabel_Data.loc[:, 'one_hot_0':'one_hot_9'].values\n",
        "unique_labels = np.unique(y_final)\n",
        "print(unique_labels)"
      ],
      "metadata": {
        "id": "BrRAxTxZejaF",
        "colab": {
          "base_uri": "https://localhost:8080/"
        },
        "outputId": "e5201ecd-3be4-4a3d-c979-027255961541"
      },
      "execution_count": 20,
      "outputs": [
        {
          "output_type": "stream",
          "name": "stdout",
          "text": [
            "[0 1]\n"
          ]
        }
      ]
    },
    {
      "cell_type": "code",
      "source": [
        "print(type(y_final), y_final.shape)"
      ],
      "metadata": {
        "id": "V4-ktoCfelQE",
        "colab": {
          "base_uri": "https://localhost:8080/"
        },
        "outputId": "844aaf0a-66f2-47b0-8657-17f76859d138"
      },
      "execution_count": 21,
      "outputs": [
        {
          "output_type": "stream",
          "name": "stdout",
          "text": [
            "<class 'numpy.ndarray'> (47427, 10)\n"
          ]
        }
      ]
    },
    {
      "cell_type": "markdown",
      "source": [
        "#Create Train/Test/Valid Split"
      ],
      "metadata": {
        "id": "_Soz3Y_feyv7"
      }
    },
    {
      "cell_type": "code",
      "source": [
        "X_train, x_valid_test, y_train, y_valid_test = train_test_split(X_final, y_final, test_size = 0.4, random_state=42)"
      ],
      "metadata": {
        "id": "a0XiDspOewFT"
      },
      "execution_count": 22,
      "outputs": []
    },
    {
      "cell_type": "code",
      "source": [
        "X_valid, X_test, y_valid, y_test = train_test_split(x_valid_test, y_valid_test, test_size = 0.5, random_state=42)"
      ],
      "metadata": {
        "id": "e2Ko3qrwe1hb"
      },
      "execution_count": 23,
      "outputs": []
    },
    {
      "cell_type": "code",
      "source": [
        "print(\"Train set shape: \", X_train.shape, \"Split %: \", len(X_train)/len(X_final))\n",
        "print(\"Validation set shape: \", X_valid.shape,\"Split %: \", len(X_valid)/len(X_final))\n",
        "print(\"Test set shape: \", X_test.shape, \"Split %: \", len(X_test)/len(X_final))"
      ],
      "metadata": {
        "id": "2Hn0kveegX79",
        "colab": {
          "base_uri": "https://localhost:8080/"
        },
        "outputId": "bcd1e830-72e4-4a8b-8772-30e68b5d847b"
      },
      "execution_count": 24,
      "outputs": [
        {
          "output_type": "stream",
          "name": "stdout",
          "text": [
            "Train set shape:  (28456,) Split %:  0.59999578299281\n",
            "Validation set shape:  (9485,) Split %:  0.19999156598562\n",
            "Test set shape:  (9486,) Split %:  0.20001265102156998\n"
          ]
        }
      ]
    },
    {
      "cell_type": "code",
      "source": [
        "trainset = CustomDataset(X_train,y_train)\n",
        "validset = CustomDataset(X_valid,y_valid)\n",
        "testset = CustomDataset(X_test,y_test)"
      ],
      "metadata": {
        "id": "U3058MHPgpht"
      },
      "execution_count": 25,
      "outputs": []
    },
    {
      "cell_type": "code",
      "source": [
        "print(np.unique(y_train), np.unique(y_valid), np.unique(y_test))"
      ],
      "metadata": {
        "colab": {
          "base_uri": "https://localhost:8080/"
        },
        "id": "FRxGI1DZljV0",
        "outputId": "74d343d2-36f2-4142-e80e-81f4269d2170"
      },
      "execution_count": 26,
      "outputs": [
        {
          "output_type": "stream",
          "name": "stdout",
          "text": [
            "[0 1] [0 1] [0 1]\n"
          ]
        }
      ]
    },
    {
      "cell_type": "markdown",
      "source": [
        "#Create vocab"
      ],
      "metadata": {
        "id": "Pml3PuH3j-V-"
      }
    },
    {
      "cell_type": "code",
      "source": [
        "multilabel_vocab = get_vocab(trainset, min_freq=2)"
      ],
      "metadata": {
        "id": "Lkxzji92j63N"
      },
      "execution_count": 27,
      "outputs": []
    },
    {
      "cell_type": "code",
      "source": [
        "len(multilabel_vocab)"
      ],
      "metadata": {
        "colab": {
          "base_uri": "https://localhost:8080/"
        },
        "id": "vtFsMZgEOk5o",
        "outputId": "caf1a1b1-51ae-4f7c-a1c6-6488cc908fa9"
      },
      "execution_count": 28,
      "outputs": [
        {
          "output_type": "execute_result",
          "data": {
            "text/plain": [
              "90287"
            ]
          },
          "metadata": {},
          "execution_count": 28
        }
      ]
    },
    {
      "cell_type": "code",
      "source": [
        "valid_multilabel_vocab = get_vocab(validset, min_freq=2)"
      ],
      "metadata": {
        "id": "SI264seClU5-"
      },
      "execution_count": 29,
      "outputs": []
    },
    {
      "cell_type": "markdown",
      "source": [
        "#Meta Data"
      ],
      "metadata": {
        "id": "jmnuyTRbOzew"
      }
    },
    {
      "cell_type": "code",
      "source": [
        "from types import SimpleNamespace\n",
        "\n",
        "hyperparameters = SimpleNamespace(\n",
        "    # model Parameters\n",
        "    EMBED_DIM=300,\n",
        "    VOCAB_SIZE=len(multilabel_vocab),\n",
        "    OUTPUT_DIM=10,\n",
        "    HIDDEN_DIM1=200,\n",
        "    HIDDEN_DIM2=100,\n",
        "    NON_LINEARITY=F.relu,\n",
        "    \n",
        "    # training \n",
        "    EPOCHS=5,\n",
        "    BATCH_SIZE=128,\n",
        "    LEARNING_RATE=0.001,\n",
        "    WEIGHT_DECAY=0.000,\n",
        "    CLIP_TYPE = 'value',\n",
        "    CLIP_VALUE = 10,\n",
        "    PATIENCE=5,\n",
        "    MOMENTUM=0,  \n",
        ")"
      ],
      "metadata": {
        "id": "jHqulM93Ovrf"
      },
      "execution_count": 30,
      "outputs": []
    },
    {
      "cell_type": "markdown",
      "source": [
        "#Trainer Configuration"
      ],
      "metadata": {
        "id": "Bxoww9DhPvJF"
      }
    },
    {
      "cell_type": "code",
      "source": [
        "def collate_batch_multilabel(batch, vocab):\n",
        "    labels, texts = zip(*batch)\n",
        "    labels = torch.tensor(labels, dtype=torch.float32)\n",
        "    list_of_list_of_indices = [text_pipeline(text, vocab) for text in texts]\n",
        "    offsets = [0] + [len(i) for i in list_of_list_of_indices]\n",
        "    offsets = torch.tensor(offsets[:-1]).cumsum(dim=0)\n",
        "    texts = torch.cat([torch.tensor(i, dtype=torch.int64) for i in list_of_list_of_indices])\n",
        "    return (texts, offsets), labels"
      ],
      "metadata": {
        "id": "HxR9W5jA-Nqj"
      },
      "execution_count": 31,
      "outputs": []
    },
    {
      "cell_type": "code",
      "source": [
        "from functools import partial\n",
        "# Fix seed value\n",
        "Trainer.set_seed()\n",
        "\n",
        "collate_fn = partial(collate_batch_multilabel, vocab=multilabel_vocab)\n",
        "\n",
        "# Data Loader\n",
        "train_loader, valid_loader = get_loaders(trainset, validset, batch_size_= hyperparameters.BATCH_SIZE, \n",
        "                                         collate_fn=collate_fn)\n",
        "\n",
        "# cross entropy loss function\n",
        "loss_function = torch.nn.BCEWithLogitsLoss()\n",
        "# model\n",
        "model_imdb = MLPCustom(hyperparameters.EMBED_DIM,\n",
        "                       hyperparameters.VOCAB_SIZE,\n",
        "                       hyperparameters.HIDDEN_DIM1,\n",
        "                       hyperparameters.HIDDEN_DIM2,\n",
        "                       hyperparameters.OUTPUT_DIM,\n",
        "                       hyperparameters.NON_LINEARITY)\n",
        "\n",
        "def init_weights(m):\n",
        "    if type(m) == nn.Linear:\n",
        "        torch.nn.init.kaiming_normal_(m.weight)\n",
        "        torch.nn.init.zeros_(m.bias)\n",
        "\n",
        "\n",
        "# apply initialization recursively  to all modules\n",
        "model_imdb.apply(init_weights)\n",
        "\n",
        "# Intialize stochiastic gradient descent optimizer\n",
        "optimizer = torch.optim.Adam(model_imdb.parameters(),\n",
        "                             lr=hyperparameters.LEARNING_RATE,\n",
        "                             weight_decay=hyperparameters.WEIGHT_DECAY,\n",
        "                             )\n",
        "device = torch.device('cuda:0' if torch.cuda.is_available() else 'cpu')"
      ],
      "metadata": {
        "id": "BCIHHBEKoyjH"
      },
      "execution_count": 32,
      "outputs": []
    },
    {
      "cell_type": "code",
      "source": [
        "for (texts, offsets), labels in train_loader:\n",
        "  print(labels, texts, offsets)\n",
        "  break"
      ],
      "metadata": {
        "id": "mpLBXT3pj4_W",
        "colab": {
          "base_uri": "https://localhost:8080/"
        },
        "outputId": "22be223c-19bf-473a-b7fa-ffb42f3eaf2d"
      },
      "execution_count": 33,
      "outputs": [
        {
          "output_type": "stream",
          "name": "stdout",
          "text": [
            "tensor([[0., 0., 0.,  ..., 0., 0., 1.],\n",
            "        [0., 0., 0.,  ..., 0., 0., 0.],\n",
            "        [0., 0., 0.,  ..., 0., 0., 1.],\n",
            "        ...,\n",
            "        [0., 0., 0.,  ..., 0., 0., 0.],\n",
            "        [0., 0., 0.,  ..., 0., 0., 0.],\n",
            "        [0., 0., 0.,  ..., 0., 0., 0.]]) tensor([  266,    90,  1853,  ...,   140, 58359,    84]) tensor([   0,   51,   96,  126,  161,  242,  321,  473,  486,  509,  534,  588,\n",
            "         635,  805,  884,  914,  939,  983, 1035, 1090, 1128, 1195, 1226, 1269,\n",
            "        1391, 1522, 1612, 1686, 1745, 1773, 1851, 1873, 1943, 1996, 2141, 2254,\n",
            "        2299, 2416, 2466, 2571, 2606, 2647, 2774, 2789, 2811, 2837, 2866, 2959,\n",
            "        3013, 3120, 3147, 3172, 3227, 3321, 3384, 3399, 3429, 3749, 3801, 3828,\n",
            "        3895, 3949, 4103, 4115, 4236, 4286, 4315, 4361, 4392, 4602, 4654, 4700,\n",
            "        4716, 4750, 4833, 4864, 4964, 5036, 5382, 5444, 5476, 5513, 5588, 5627,\n",
            "        5637, 5705, 5742, 5780, 5858, 5957, 5996, 6064, 6153, 6775, 6819, 7154,\n",
            "        7762, 7876, 7902, 8063, 8110, 8129, 8169, 8258, 8305, 8328, 8434, 8476,\n",
            "        8521, 8586, 8624, 8699, 8744, 8833, 8850, 8961, 9005, 9058, 9136, 9233,\n",
            "        9270, 9305, 9342, 9353, 9388, 9428, 9454, 9577])\n"
          ]
        },
        {
          "output_type": "stream",
          "name": "stderr",
          "text": [
            "<ipython-input-31-0afa194fa4de>:3: UserWarning: Creating a tensor from a list of numpy.ndarrays is extremely slow. Please consider converting the list to a single numpy.ndarray with numpy.array() before converting to a tensor. (Triggered internally at ../torch/csrc/utils/tensor_new.cpp:245.)\n",
            "  labels = torch.tensor(labels, dtype=torch.float32)\n"
          ]
        }
      ]
    },
    {
      "cell_type": "markdown",
      "source": [
        "#Training Model"
      ],
      "metadata": {
        "id": "D_i3Q8ygQPv3"
      }
    },
    {
      "cell_type": "code",
      "source": [
        "trainer = Trainer(model=model_imdb, optimizer=optimizer,\n",
        "                  criterion=loss_function, device=device)"
      ],
      "metadata": {
        "id": "hJyQaLgkQUCH"
      },
      "execution_count": 34,
      "outputs": []
    },
    {
      "cell_type": "code",
      "source": [
        "#from torchmetrics.classification import Accuracy\n",
        "from torchmetrics.classification import MultilabelHammingDistance\n",
        "run_folder = assignment_fldr/'rev2'\n",
        "run_folder.mkdir(exist_ok=True)\n",
        "\n",
        "# set loaders\n",
        "trainer.set_loaders(train_loader, valid_loader)\n",
        "\n",
        "# set metric -- OPTIONAL\n",
        "train_metric = MultilabelHammingDistance(mode='multilabel',task='multilabel', num_labels=10,compute_on_step=False)\n",
        "valid_metric = MultilabelHammingDistance(mode='multilabel',task='multilabel', num_labels=10,compute_on_step=False)\n",
        "trainer.set_metric(train_metric.to(device), valid_metric.to(device))\n",
        "\n",
        "# set checkpoint -- OPTIONAL\n",
        "trainer.set_checkpoint(save_path=run_folder,\n",
        "                       save_best=True, save_every_n_epochs=1, save_last_epoch=False)\n",
        "\n",
        "# set early stopping -- OPTIONAL\n",
        "trainer.set_early_stopping(patience = hyperparameters.PATIENCE)\n",
        "\n",
        "# set gradient Clipping  -- OPTIONAL\n",
        "trainer.set_gradient_clipping(hyperparameters.CLIP_TYPE, hyperparameters.CLIP_VALUE, norm_type=2)"
      ],
      "metadata": {
        "id": "tAmN1W-TQcgo"
      },
      "execution_count": 35,
      "outputs": []
    },
    {
      "cell_type": "markdown",
      "source": [
        "Add a brief description about the metric and why it is a good metric for multilabel classification problems.\n",
        "\n",
        "\n",
        "Answer: MultilabelHammingDistance is a metric used for evaluating the performance of multilabel classification models. It calculates the proportion of labels that are incorrectly predicted by the model, i.e., the average number of labels that differ between the predicted and true labels across all samples. It takes into account the fact that each sample can have multiple labels, and penalizes the model for making incorrect predictions for each label independently. This is different from other metrics like accuracy, which only consider the overall percentage of correctly classified samples, without taking into account the number of labels each sample has. And robust to imbalanced classes, which is a common issue in multilabel classification problems where some labels might be more frequent than others. Because it considers the total number of label predictions rather than the number of correctly predicted labels, making it less sensitive to the distribution of the labels.\n",
        "\n",
        "> Indented block\n",
        "\n"
      ],
      "metadata": {
        "id": "jURC1lAIqT6X"
      }
    },
    {
      "cell_type": "code",
      "source": [
        "trainer.sanity_check(num_classes=2)"
      ],
      "metadata": {
        "id": "lbRc3MKcRAKC",
        "colab": {
          "base_uri": "https://localhost:8080/"
        },
        "outputId": "d373fe01-5012-489f-c35b-e5c172f9c964"
      },
      "execution_count": 36,
      "outputs": [
        {
          "output_type": "stream",
          "name": "stdout",
          "text": [
            "Actual loss: 0.6789035201072693\n",
            "Expected Theoretical loss: 0.6931471805599453\n"
          ]
        }
      ]
    },
    {
      "cell_type": "code",
      "source": [
        "trainer.train(num_epochs=hyperparameters.EPOCHS, multilabel=True)"
      ],
      "metadata": {
        "id": "vX0wRIdJREc6",
        "colab": {
          "base_uri": "https://localhost:8080/"
        },
        "outputId": "5c7f3a03-9f80-4103-8fd6-40a6cbc5785a"
      },
      "execution_count": 37,
      "outputs": [
        {
          "output_type": "stream",
          "name": "stdout",
          "text": [
            "Epoch 1/5 - Train Loss: 0.5849, Train Metric: 0.2767, Train Time: 0:00:03.392841\n",
            "Epoch 1/5 - Val Loss: 0.2420, Val Metric: 0.0756, Val Time: 0:00:00.893183\n",
            "\n",
            "Epoch 2/5 - Train Loss: 0.2354, Train Metric: 0.0851, Train Time: 0:00:03.691509\n",
            "Epoch 2/5 - Val Loss: 0.1661, Val Metric: 0.0611, Val Time: 0:00:00.860377\n",
            "\n",
            "Epoch 3/5 - Train Loss: 0.1781, Train Metric: 0.0638, Train Time: 0:00:03.652983\n",
            "Epoch 3/5 - Val Loss: 0.1435, Val Metric: 0.0529, Val Time: 0:00:00.924056\n",
            "\n",
            "Epoch 4/5 - Train Loss: 0.1517, Train Metric: 0.0537, Train Time: 0:00:03.653909\n",
            "Epoch 4/5 - Val Loss: 0.1317, Val Metric: 0.0489, Val Time: 0:00:00.914385\n",
            "\n",
            "Epoch 5/5 - Train Loss: 0.1334, Train Metric: 0.0477, Train Time: 0:00:03.562494\n",
            "Epoch 5/5 - Val Loss: 0.1229, Val Metric: 0.0457, Val Time: 0:00:00.925509\n",
            "\n"
          ]
        }
      ]
    },
    {
      "cell_type": "code",
      "source": [
        "trainer.plot_history()"
      ],
      "metadata": {
        "id": "UsSEIC6dmgN8",
        "colab": {
          "base_uri": "https://localhost:8080/",
          "height": 881
        },
        "outputId": "09e64ce1-19ef-4ed7-a959-139409bb6acc"
      },
      "execution_count": 38,
      "outputs": [
        {
          "output_type": "display_data",
          "data": {
            "text/plain": [
              "<Figure size 640x480 with 1 Axes>"
            ],
            "image/png": "[encoded data removed]"
          },
          "metadata": {}
        },
        {
          "output_type": "display_data",
          "data": {
            "text/plain": [
              "<Figure size 640x480 with 1 Axes>"
            ],
            "image/png": "[encoded data removed]"
          },
          "metadata": {}
        }
      ]
    },
    {
      "cell_type": "code",
      "source": [
        "trainer.best_epoch"
      ],
      "metadata": {
        "id": "N7AjYIIBmmf0",
        "colab": {
          "base_uri": "https://localhost:8080/"
        },
        "outputId": "fee3fbdf-8e00-49aa-a596-61470e064ced"
      },
      "execution_count": 39,
      "outputs": [
        {
          "output_type": "execute_result",
          "data": {
            "text/plain": [
              "5"
            ]
          },
          "metadata": {},
          "execution_count": 39
        }
      ]
    },
    {
      "cell_type": "code",
      "source": [
        "file = 'checkpoint_' + str(trainer.timestamp) + '_best.pt'\n",
        "trainer.load_checkpoint(run_folder /file)"
      ],
      "metadata": {
        "colab": {
          "base_uri": "https://localhost:8080/"
        },
        "id": "HDSHzqxuVsa3",
        "outputId": "bb93c34d-8235-410b-a089-8ff0cde7616c"
      },
      "execution_count": 40,
      "outputs": [
        {
          "output_type": "stream",
          "name": "stdout",
          "text": [
            "Loaded checkpoint from '/content/drive/MyDrive/NLP/assignment6/rev2/checkpoint_2023-04-10_02-49-01_best.pt'.\n"
          ]
        }
      ]
    },
    {
      "cell_type": "code",
      "source": [
        "trainer.train(num_epochs=10, multilabel=True)"
      ],
      "metadata": {
        "colab": {
          "base_uri": "https://localhost:8080/"
        },
        "id": "dhxHEmM3VxNY",
        "outputId": "24480197-8e3c-4fb3-bbf3-a51dd30f503f"
      },
      "execution_count": 41,
      "outputs": [
        {
          "output_type": "stream",
          "name": "stdout",
          "text": [
            "Epoch 1/10 - Train Loss: 0.1195, Train Metric: 0.0426, Train Time: 0:00:03.350878\n",
            "Epoch 1/10 - Val Loss: 0.1166, Val Metric: 0.0432, Val Time: 0:00:00.844351\n",
            "\n",
            "Epoch 2/10 - Train Loss: 0.1085, Train Metric: 0.0385, Train Time: 0:00:03.406050\n",
            "Epoch 2/10 - Val Loss: 0.1106, Val Metric: 0.0403, Val Time: 0:00:00.850658\n",
            "\n",
            "Epoch 3/10 - Train Loss: 0.0992, Train Metric: 0.0356, Train Time: 0:00:03.319957\n",
            "Epoch 3/10 - Val Loss: 0.1070, Val Metric: 0.0389, Val Time: 0:00:00.853254\n",
            "\n",
            "Epoch 4/10 - Train Loss: 0.0903, Train Metric: 0.0322, Train Time: 0:00:03.373187\n",
            "Epoch 4/10 - Val Loss: 0.1041, Val Metric: 0.0373, Val Time: 0:00:00.857853\n",
            "\n",
            "Epoch 5/10 - Train Loss: 0.0822, Train Metric: 0.0295, Train Time: 0:00:03.395988\n",
            "Epoch 5/10 - Val Loss: 0.1020, Val Metric: 0.0361, Val Time: 0:00:00.857387\n",
            "\n",
            "Epoch 6/10 - Train Loss: 0.0756, Train Metric: 0.0273, Train Time: 0:00:03.397108\n",
            "Epoch 6/10 - Val Loss: 0.1017, Val Metric: 0.0355, Val Time: 0:00:00.900148\n",
            "\n",
            "Epoch 7/10 - Train Loss: 0.0705, Train Metric: 0.0251, Train Time: 0:00:03.350814\n",
            "Epoch 7/10 - Val Loss: 0.1009, Val Metric: 0.0345, Val Time: 0:00:00.842627\n",
            "\n",
            "EarlyStopping counter: 1 out of 5\n",
            "Epoch 8/10 - Train Loss: 0.0640, Train Metric: 0.0230, Train Time: 0:00:03.381868\n",
            "Epoch 8/10 - Val Loss: 0.1038, Val Metric: 0.0346, Val Time: 0:00:00.854211\n",
            "\n",
            "EarlyStopping counter: 2 out of 5\n",
            "Epoch 9/10 - Train Loss: 0.0604, Train Metric: 0.0216, Train Time: 0:00:03.357727\n",
            "Epoch 9/10 - Val Loss: 0.1012, Val Metric: 0.0344, Val Time: 0:00:00.843553\n",
            "\n",
            "EarlyStopping counter: 3 out of 5\n",
            "Epoch 10/10 - Train Loss: 0.0560, Train Metric: 0.0203, Train Time: 0:00:03.361982\n",
            "Epoch 10/10 - Val Loss: 0.1021, Val Metric: 0.0337, Val Time: 0:00:00.847516\n",
            "\n"
          ]
        }
      ]
    },
    {
      "cell_type": "code",
      "source": [
        "trainer.plot_history()"
      ],
      "metadata": {
        "colab": {
          "base_uri": "https://localhost:8080/",
          "height": 881
        },
        "id": "mDEICWB_W6G_",
        "outputId": "b27b24a3-972c-472e-de41-0e3482d602ec"
      },
      "execution_count": 42,
      "outputs": [
        {
          "output_type": "display_data",
          "data": {
            "text/plain": [
              "<Figure size 640x480 with 1 Axes>"
            ],
            "image/png": "[encoded data removed]"
          },
          "metadata": {}
        },
        {
          "output_type": "display_data",
          "data": {
            "text/plain": [
              "<Figure size 640x480 with 1 Axes>"
            ],
            "image/png": "[encoded data removed]"
          },
          "metadata": {}
        }
      ]
    },
    {
      "cell_type": "code",
      "source": [
        "trainer.best_epoch"
      ],
      "metadata": {
        "colab": {
          "base_uri": "https://localhost:8080/"
        },
        "id": "_2wQdEoKW9Jh",
        "outputId": "6bebf396-7413-4940-aab8-ea7706b41d59"
      },
      "execution_count": 43,
      "outputs": [
        {
          "output_type": "execute_result",
          "data": {
            "text/plain": [
              "11"
            ]
          },
          "metadata": {},
          "execution_count": 43
        }
      ]
    },
    {
      "cell_type": "markdown",
      "source": [
        "#Get Accuracy, Predictions"
      ],
      "metadata": {
        "id": "cMVMdF1Fmq1N"
      }
    },
    {
      "cell_type": "code",
      "source": [
        "#testset = CustomDataset(X_test, y_test)"
      ],
      "metadata": {
        "id": "tW0F0JwDmo-N"
      },
      "execution_count": 44,
      "outputs": []
    },
    {
      "cell_type": "code",
      "source": [
        "test_multilabel_vocab = get_vocab(testset, min_freq=2)"
      ],
      "metadata": {
        "id": "TGJf7kGb67Gr"
      },
      "execution_count": 45,
      "outputs": []
    },
    {
      "cell_type": "code",
      "source": [
        "collate_fn = partial(collate_batch_multilabel, vocab=test_multilabel_vocab)\n",
        "test_loader = get_test_loaders(testset, batch_size_=hyperparameters.BATCH_SIZE,\n",
        "                               collate_fn=collate_fn)"
      ],
      "metadata": {
        "id": "1-UxWIofmyjT"
      },
      "execution_count": 46,
      "outputs": []
    },
    {
      "cell_type": "code",
      "source": [
        "for (texts, offsets), labels in train_loader:\n",
        "  print(labels, texts, offsets)\n",
        "  break"
      ],
      "metadata": {
        "colab": {
          "base_uri": "https://localhost:8080/"
        },
        "id": "ikK4HDnQ_xM0",
        "outputId": "153c8716-a76e-4b30-b596-16a034b33c9e"
      },
      "execution_count": 47,
      "outputs": [
        {
          "output_type": "stream",
          "name": "stdout",
          "text": [
            "tensor([[0., 0., 1.,  ..., 0., 0., 0.],\n",
            "        [0., 0., 0.,  ..., 0., 0., 0.],\n",
            "        [1., 0., 0.,  ..., 0., 0., 1.],\n",
            "        ...,\n",
            "        [0., 0., 0.,  ..., 0., 0., 0.],\n",
            "        [1., 0., 0.,  ..., 0., 0., 1.],\n",
            "        [0., 0., 1.,  ..., 0., 0., 0.]]) tensor([ 741,   99,   96,  ...,  428, 2280, 1584]) tensor([    0,   171,   517,   624,   719,   798,  1299,  1392,  1469,  1505,\n",
            "         1525,  1611,  1667,  2002,  2092,  2156,  2320,  2355,  2416,  2466,\n",
            "         2504,  2571,  2634,  2669,  2725,  2823,  2923,  2989,  3020,  3214,\n",
            "         3349,  3378,  3398,  3417,  3471,  3522,  3540,  3572,  3651,  3733,\n",
            "         3798,  3818,  3886,  3931,  4129,  4144,  4166,  4233,  4342,  4419,\n",
            "         4621,  4660,  4719,  4753,  4767,  4801,  4862,  4917,  4962,  4980,\n",
            "         5182,  5286,  5334,  5386,  5848,  5868,  5970,  6117,  6499,  6550,\n",
            "         6576,  6617,  6629,  6767,  6897,  6964,  6973,  7039,  7109,  7211,\n",
            "         7262,  7272,  7285,  7318,  7469,  7609,  7658,  7699,  7731,  7797,\n",
            "         8333,  8385,  8426,  8469,  9086,  9164,  9203,  9250,  9276,  9305,\n",
            "         9341,  9386,  9414,  9438,  9467,  9494,  9562,  9693,  9793,  9866,\n",
            "         9935, 10118, 10172, 10264, 10315, 10700, 10722, 10839, 10901, 11085,\n",
            "        11103, 11261, 11295, 11321, 11432, 11476, 11500, 11554])\n"
          ]
        }
      ]
    },
    {
      "cell_type": "code",
      "source": [
        "predictions_train, target_train = trainer.predict(\n",
        "    train_loader, return_targets=True, multilabel=True)\n",
        "predictions_valid, target_valid = trainer.predict(\n",
        "    valid_loader, return_targets=True, multilabel=True)\n",
        "predictions_test, target_test = trainer.predict(\n",
        "    test_loader, return_targets=True, multilabel=True)"
      ],
      "metadata": {
        "id": "0VL87BLKAJp4"
      },
      "execution_count": 48,
      "outputs": []
    },
    {
      "cell_type": "code",
      "source": [
        "print(target_train.shape, predictions_train.shape)\n",
        "print(target_valid.shape, predictions_valid.shape)\n",
        "print(target_test.shape, predictions_test.shape)"
      ],
      "metadata": {
        "colab": {
          "base_uri": "https://localhost:8080/"
        },
        "id": "PdTmCwu0H3xO",
        "outputId": "940f0bf8-e00a-40ed-b97c-be6b6645f62a"
      },
      "execution_count": 49,
      "outputs": [
        {
          "output_type": "stream",
          "name": "stdout",
          "text": [
            "torch.Size([28456, 10]) torch.Size([28456, 10])\n",
            "torch.Size([9485, 10]) torch.Size([9485, 10])\n",
            "torch.Size([9486, 10]) torch.Size([9486, 10])\n"
          ]
        }
      ]
    },
    {
      "cell_type": "code",
      "source": [
        "import torchmetrics"
      ],
      "metadata": {
        "id": "yjl98LkpnjGa"
      },
      "execution_count": 50,
      "outputs": []
    },
    {
      "cell_type": "code",
      "source": [
        "#from sklearn.metrics import accuracy_score, f1_score\n",
        "from torchmetrics.functional.classification import multilabel_f1_score, multilabel_hamming_distance\n",
        "num_classes = target_train.shape[-1]\n",
        "f1_score_train = multilabel_f1_score(target_train, predictions_train, average='micro',num_labels=num_classes)\n",
        "hamming_distance_train = multilabel_hamming_distance(target_train,predictions_train, num_labels=num_classes)\n",
        "print(\"Train F1 Score: \",f1_score_train, \" Train hamming distance: \", hamming_distance_train)\n",
        "num_classes = target_valid.shape[-1]\n",
        "f1_score_valid = multilabel_f1_score(target_valid,predictions_valid, average='micro',num_labels=num_classes)\n",
        "hamming_distance_valid = multilabel_hamming_distance(target_valid,predictions_valid, num_labels=num_classes)\n",
        "print(\"Train F1 Score: \",f1_score_valid, \" Train hamming distance: \", hamming_distance_valid)\n",
        "num_classes = target_test.shape[-1]\n",
        "f1_score_test = multilabel_f1_score(target_test, predictions_test, average='micro', num_labels=num_classes)\n",
        "hamming_distance_test = multilabel_hamming_distance(target_test,predictions_test,num_labels=num_classes)\n",
        "print(\"Test F1 Score: \",f1_score_test, \" Test hamming distance: \", hamming_distance_test)"
      ],
      "metadata": {
        "id": "kahxGQvxn_Lq",
        "colab": {
          "base_uri": "https://localhost:8080/"
        },
        "outputId": "b61c6d7c-7320-4c78-e331-5a08f43d7470"
      },
      "execution_count": 52,
      "outputs": [
        {
          "output_type": "stream",
          "name": "stdout",
          "text": [
            "Train F1 Score:  tensor(0.9749)  Train hamming distance:  tensor(0.0104)\n",
            "Train F1 Score:  tensor(0.9181)  Train hamming distance:  tensor(0.0337)\n",
            "Test F1 Score:  tensor(0.3510)  Test hamming distance:  tensor(0.2582)\n"
          ]
        }
      ]
    }
  ]
}