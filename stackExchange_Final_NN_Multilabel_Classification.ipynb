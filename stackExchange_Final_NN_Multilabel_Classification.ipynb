{
  "nbformat": 4,
  "nbformat_minor": 0,
  "metadata": {
    "colab": {
      "provenance": [],
      "authorship_tag": "ABX9TyPS+WZ/74M6dM6RICzADLDL",
      "include_colab_link": true
    },
    "kernelspec": {
      "name": "python3",
      "display_name": "Python 3"
    },
    "language_info": {
      "name": "python"
    },
    "widgets": {
      "application/vnd.jupyter.widget-state+json": {
        "b958f64586a046c38342811ddf58d953": {
          "model_module": "@jupyter-widgets/controls",
          "model_name": "HBoxModel",
          "model_module_version": "1.5.0",
          "state": {
            "_dom_classes": [],
            "_model_module": "@jupyter-widgets/controls",
            "_model_module_version": "1.5.0",
            "_model_name": "HBoxModel",
            "_view_count": null,
            "_view_module": "@jupyter-widgets/controls",
            "_view_module_version": "1.5.0",
            "_view_name": "HBoxView",
            "box_style": "",
            "children": [
              "IPY_MODEL_89f21d2b33944685a34e73d58b657d6d",
              "IPY_MODEL_6c5836befae447c59609f7b68a936817",
              "IPY_MODEL_7ca6477f35674a6997e64ee0c37f03bc"
            ],
            "layout": "IPY_MODEL_097b7561306a480580d99af28fffbc80"
          }
        },
        "89f21d2b33944685a34e73d58b657d6d": {
          "model_module": "@jupyter-widgets/controls",
          "model_name": "HTMLModel",
          "model_module_version": "1.5.0",
          "state": {
            "_dom_classes": [],
            "_model_module": "@jupyter-widgets/controls",
            "_model_module_version": "1.5.0",
            "_model_name": "HTMLModel",
            "_view_count": null,
            "_view_module": "@jupyter-widgets/controls",
            "_view_module_version": "1.5.0",
            "_view_name": "HTMLView",
            "description": "",
            "description_tooltip": null,
            "layout": "IPY_MODEL_19cb11c17a764c57ba1606660deea335",
            "placeholder": "​",
            "style": "IPY_MODEL_841f717ff1af4099b38a6e2b6593e8f5",
            "value": "Pandas Apply: 100%"
          }
        },
        "6c5836befae447c59609f7b68a936817": {
          "model_module": "@jupyter-widgets/controls",
          "model_name": "FloatProgressModel",
          "model_module_version": "1.5.0",
          "state": {
            "_dom_classes": [],
            "_model_module": "@jupyter-widgets/controls",
            "_model_module_version": "1.5.0",
            "_model_name": "FloatProgressModel",
            "_view_count": null,
            "_view_module": "@jupyter-widgets/controls",
            "_view_module_version": "1.5.0",
            "_view_name": "ProgressView",
            "bar_style": "success",
            "description": "",
            "description_tooltip": null,
            "layout": "IPY_MODEL_4b999610fc7d40c2a7b625b6c590215d",
            "max": 47427,
            "min": 0,
            "orientation": "horizontal",
            "style": "IPY_MODEL_97189175c9ac48af8d27940df4233533",
            "value": 47427
          }
        },
        "7ca6477f35674a6997e64ee0c37f03bc": {
          "model_module": "@jupyter-widgets/controls",
          "model_name": "HTMLModel",
          "model_module_version": "1.5.0",
          "state": {
            "_dom_classes": [],
            "_model_module": "@jupyter-widgets/controls",
            "_model_module_version": "1.5.0",
            "_model_name": "HTMLModel",
            "_view_count": null,
            "_view_module": "@jupyter-widgets/controls",
            "_view_module_version": "1.5.0",
            "_view_name": "HTMLView",
            "description": "",
            "description_tooltip": null,
            "layout": "IPY_MODEL_6a612fb34c5c4c608521c47e832f3ded",
            "placeholder": "​",
            "style": "IPY_MODEL_5bbefcfcda63459298cd223048c07a30",
            "value": " 47427/47427 [00:02&lt;00:00, 26388.41it/s]"
          }
        },
        "097b7561306a480580d99af28fffbc80": {
          "model_module": "@jupyter-widgets/base",
          "model_name": "LayoutModel",
          "model_module_version": "1.2.0",
          "state": {
            "_model_module": "@jupyter-widgets/base",
            "_model_module_version": "1.2.0",
            "_model_name": "LayoutModel",
            "_view_count": null,
            "_view_module": "@jupyter-widgets/base",
            "_view_module_version": "1.2.0",
            "_view_name": "LayoutView",
            "align_content": null,
            "align_items": null,
            "align_self": null,
            "border": null,
            "bottom": null,
            "display": null,
            "flex": null,
            "flex_flow": null,
            "grid_area": null,
            "grid_auto_columns": null,
            "grid_auto_flow": null,
            "grid_auto_rows": null,
            "grid_column": null,
            "grid_gap": null,
            "grid_row": null,
            "grid_template_areas": null,
            "grid_template_columns": null,
            "grid_template_rows": null,
            "height": null,
            "justify_content": null,
            "justify_items": null,
            "left": null,
            "margin": null,
            "max_height": null,
            "max_width": null,
            "min_height": null,
            "min_width": null,
            "object_fit": null,
            "object_position": null,
            "order": null,
            "overflow": null,
            "overflow_x": null,
            "overflow_y": null,
            "padding": null,
            "right": null,
            "top": null,
            "visibility": null,
            "width": null
          }
        },
        "19cb11c17a764c57ba1606660deea335": {
          "model_module": "@jupyter-widgets/base",
          "model_name": "LayoutModel",
          "model_module_version": "1.2.0",
          "state": {
            "_model_module": "@jupyter-widgets/base",
            "_model_module_version": "1.2.0",
            "_model_name": "LayoutModel",
            "_view_count": null,
            "_view_module": "@jupyter-widgets/base",
            "_view_module_version": "1.2.0",
            "_view_name": "LayoutView",
            "align_content": null,
            "align_items": null,
            "align_self": null,
            "border": null,
            "bottom": null,
            "display": null,
            "flex": null,
            "flex_flow": null,
            "grid_area": null,
            "grid_auto_columns": null,
            "grid_auto_flow": null,
            "grid_auto_rows": null,
            "grid_column": null,
            "grid_gap": null,
            "grid_row": null,
            "grid_template_areas": null,
            "grid_template_columns": null,
            "grid_template_rows": null,
            "height": null,
            "justify_content": null,
            "justify_items": null,
            "left": null,
            "margin": null,
            "max_height": null,
            "max_width": null,
            "min_height": null,
            "min_width": null,
            "object_fit": null,
            "object_position": null,
            "order": null,
            "overflow": null,
            "overflow_x": null,
            "overflow_y": null,
            "padding": null,
            "right": null,
            "top": null,
            "visibility": null,
            "width": null
          }
        },
        "841f717ff1af4099b38a6e2b6593e8f5": {
          "model_module": "@jupyter-widgets/controls",
          "model_name": "DescriptionStyleModel",
          "model_module_version": "1.5.0",
          "state": {
            "_model_module": "@jupyter-widgets/controls",
            "_model_module_version": "1.5.0",
            "_model_name": "DescriptionStyleModel",
            "_view_count": null,
            "_view_module": "@jupyter-widgets/base",
            "_view_module_version": "1.2.0",
            "_view_name": "StyleView",
            "description_width": ""
          }
        },
        "4b999610fc7d40c2a7b625b6c590215d": {
          "model_module": "@jupyter-widgets/base",
          "model_name": "LayoutModel",
          "model_module_version": "1.2.0",
          "state": {
            "_model_module": "@jupyter-widgets/base",
            "_model_module_version": "1.2.0",
            "_model_name": "LayoutModel",
            "_view_count": null,
            "_view_module": "@jupyter-widgets/base",
            "_view_module_version": "1.2.0",
            "_view_name": "LayoutView",
            "align_content": null,
            "align_items": null,
            "align_self": null,
            "border": null,
            "bottom": null,
            "display": null,
            "flex": null,
            "flex_flow": null,
            "grid_area": null,
            "grid_auto_columns": null,
            "grid_auto_flow": null,
            "grid_auto_rows": null,
            "grid_column": null,
            "grid_gap": null,
            "grid_row": null,
            "grid_template_areas": null,
            "grid_template_columns": null,
            "grid_template_rows": null,
            "height": null,
            "justify_content": null,
            "justify_items": null,
            "left": null,
            "margin": null,
            "max_height": null,
            "max_width": null,
            "min_height": null,
            "min_width": null,
            "object_fit": null,
            "object_position": null,
            "order": null,
            "overflow": null,
            "overflow_x": null,
            "overflow_y": null,
            "padding": null,
            "right": null,
            "top": null,
            "visibility": null,
            "width": null
          }
        },
        "97189175c9ac48af8d27940df4233533": {
          "model_module": "@jupyter-widgets/controls",
          "model_name": "ProgressStyleModel",
          "model_module_version": "1.5.0",
          "state": {
            "_model_module": "@jupyter-widgets/controls",
            "_model_module_version": "1.5.0",
            "_model_name": "ProgressStyleModel",
            "_view_count": null,
            "_view_module": "@jupyter-widgets/base",
            "_view_module_version": "1.2.0",
            "_view_name": "StyleView",
            "bar_color": null,
            "description_width": ""
          }
        },
        "6a612fb34c5c4c608521c47e832f3ded": {
          "model_module": "@jupyter-widgets/base",
          "model_name": "LayoutModel",
          "model_module_version": "1.2.0",
          "state": {
            "_model_module": "@jupyter-widgets/base",
            "_model_module_version": "1.2.0",
            "_model_name": "LayoutModel",
            "_view_count": null,
            "_view_module": "@jupyter-widgets/base",
            "_view_module_version": "1.2.0",
            "_view_name": "LayoutView",
            "align_content": null,
            "align_items": null,
            "align_self": null,
            "border": null,
            "bottom": null,
            "display": null,
            "flex": null,
            "flex_flow": null,
            "grid_area": null,
            "grid_auto_columns": null,
            "grid_auto_flow": null,
            "grid_auto_rows": null,
            "grid_column": null,
            "grid_gap": null,
            "grid_row": null,
            "grid_template_areas": null,
            "grid_template_columns": null,
            "grid_template_rows": null,
            "height": null,
            "justify_content": null,
            "justify_items": null,
            "left": null,
            "margin": null,
            "max_height": null,
            "max_width": null,
            "min_height": null,
            "min_width": null,
            "object_fit": null,
            "object_position": null,
            "order": null,
            "overflow": null,
            "overflow_x": null,
            "overflow_y": null,
            "padding": null,
            "right": null,
            "top": null,
            "visibility": null,
            "width": null
          }
        },
        "5bbefcfcda63459298cd223048c07a30": {
          "model_module": "@jupyter-widgets/controls",
          "model_name": "DescriptionStyleModel",
          "model_module_version": "1.5.0",
          "state": {
            "_model_module": "@jupyter-widgets/controls",
            "_model_module_version": "1.5.0",
            "_model_name": "DescriptionStyleModel",
            "_view_count": null,
            "_view_module": "@jupyter-widgets/base",
            "_view_module_version": "1.2.0",
            "_view_name": "StyleView",
            "description_width": ""
          }
        }
      }
    }
  },
  "cells": [
    {
      "cell_type": "markdown",
      "metadata": {
        "id": "view-in-github",
        "colab_type": "text"
      },
      "source": [
        "<a href=\"https://colab.research.google.com/github/parimalakettymuthu/MachineLearning-Projects/blob/main/stackExchange_Final_NN_Multilabel_Classification.ipynb\" target=\"_parent\"><img src=\"https://colab.research.google.com/assets/colab-badge.svg\" alt=\"Open In Colab\"/></a>"
      ]
    },
    {
      "cell_type": "code",
      "execution_count": 1,
      "metadata": {
        "id": "lD103gpJGRUv"
      },
      "outputs": [],
      "source": [
        "%load_ext autoreload\n",
        "%autoreload 2"
      ]
    },
    {
      "cell_type": "code",
      "source": [
        "import sys\n",
        "if 'google.colab' in str(get_ipython()):\n",
        "  from google.colab import drive\n",
        "  drive.mount('/content/drive')\n",
        "\n",
        "  !pip install torchtext --upgrade --q\n",
        "  !pip install torchmetrics --q\n",
        "  !pip install --quiet torch-lr-finder --q\n",
        "  !pip install --upgrade wandb --q\n",
        "  !pip install --gensim --q\n",
        "\n",
        "  basepath = '/content/drive/My Drive/NLP'\n",
        "  sys.path.append('/content/drive/My Drive/NLP/custom-functions')"
      ],
      "metadata": {
        "colab": {
          "base_uri": "https://localhost:8080/"
        },
        "id": "niYpbqdmGee8",
        "outputId": "ffdf4613-6ce8-4c60-a925-58eaf507fd9c"
      },
      "execution_count": 2,
      "outputs": [
        {
          "output_type": "stream",
          "name": "stdout",
          "text": [
            "Drive already mounted at /content/drive; to attempt to forcibly remount, call drive.mount(\"/content/drive\", force_remount=True).\n",
            "\n",
            "Usage:   \n",
            "  pip3 install [options] <requirement specifier> [package-index-options] ...\n",
            "  pip3 install [options] -r <requirements file> [package-index-options] ...\n",
            "  pip3 install [options] [-e] <vcs project url> ...\n",
            "  pip3 install [options] [-e] <local project path> ...\n",
            "  pip3 install [options] <archive url/path> ...\n",
            "\n",
            "no such option: --gensim\n"
          ]
        }
      ]
    },
    {
      "cell_type": "code",
      "source": [
        "#Importing the required libraries\n",
        "import torch\n",
        "import torch.nn as nn\n",
        "import torch.nn.functional as F\n",
        "\n",
        "import torchmetrics\n",
        "from torchmetrics.classification import MultilabelF1Score, MulticlassHammingDistance\n",
        "from torchmetrics.functional.classification import multilabel_f1_score,multilabel_hamming_distance\n",
        "\n",
        "import joblib\n",
        "import ast\n",
        "import wandb\n",
        "\n",
        "from types import SimpleNamespace\n",
        "from functools import partial\n",
        "from pathlib import Path\n",
        "from sklearn.model_selection import train_test_split\n",
        "from sklearn.preprocessing import MultiLabelBinarizer as mlb"
      ],
      "metadata": {
        "id": "PnlDottZHGp2"
      },
      "execution_count": 3,
      "outputs": []
    },
    {
      "cell_type": "code",
      "source": [
        "#Defined the google drive folders for accessing/saving model progress\n",
        "embeddings_folder = Path(basepath)/ 'assignment7/WordEmbeddings'\n",
        "data_folder = Path(basepath)/ 'assignment7/MultiLabel_Classification'\n",
        "model_saving_folder = Path(basepath)/ 'assignment7/NN_MultiLabel_Classification_task3b'\n"
      ],
      "metadata": {
        "id": "e-j3MGnXIv_Q"
      },
      "execution_count": 4,
      "outputs": []
    },
    {
      "cell_type": "code",
      "source": [
        "data_cleaned = data_folder/ \"df_multilabel_hw_cleaned.joblib\"\n",
        "stackExchange_dataset = joblib.load(data_cleaned)"
      ],
      "metadata": {
        "id": "ZUXNMBESJlBz"
      },
      "execution_count": 5,
      "outputs": []
    },
    {
      "cell_type": "code",
      "source": [
        "X = stackExchange_dataset['cleaned_text'].values\n",
        "y = stackExchange_dataset['Tag_Number'].values"
      ],
      "metadata": {
        "id": "0e72yv8uJweQ"
      },
      "execution_count": 6,
      "outputs": []
    },
    {
      "cell_type": "code",
      "source": [
        "!pip install swifter -qq"
      ],
      "metadata": {
        "id": "CKvLRqjYJ9YP"
      },
      "execution_count": 7,
      "outputs": []
    },
    {
      "cell_type": "code",
      "source": [
        "import swifter\n",
        "import ast\n",
        "stackExchange_dataset['Tag_number_list'] = stackExchange_dataset['Tag_Number'].swifter.apply(lambda x: ast.literal_eval(x))"
      ],
      "metadata": {
        "colab": {
          "base_uri": "https://localhost:8080/",
          "height": 77,
          "referenced_widgets": [
            "b958f64586a046c38342811ddf58d953",
            "89f21d2b33944685a34e73d58b657d6d",
            "6c5836befae447c59609f7b68a936817",
            "7ca6477f35674a6997e64ee0c37f03bc",
            "097b7561306a480580d99af28fffbc80",
            "19cb11c17a764c57ba1606660deea335",
            "841f717ff1af4099b38a6e2b6593e8f5",
            "4b999610fc7d40c2a7b625b6c590215d",
            "97189175c9ac48af8d27940df4233533",
            "6a612fb34c5c4c608521c47e832f3ded",
            "5bbefcfcda63459298cd223048c07a30"
          ]
        },
        "id": "2Sp6rZbSKBUp",
        "outputId": "3fd7bf7b-6c7b-45f0-f48b-c4739aeb75cf"
      },
      "execution_count": 8,
      "outputs": [
        {
          "output_type": "display_data",
          "data": {
            "text/plain": [
              "Pandas Apply:   0%|          | 0/47427 [00:00<?, ?it/s]"
            ],
            "application/vnd.jupyter.widget-view+json": {
              "version_major": 2,
              "version_minor": 0,
              "model_id": "b958f64586a046c38342811ddf58d953"
            }
          },
          "metadata": {}
        }
      ]
    },
    {
      "cell_type": "code",
      "source": [
        "y_final = stackExchange_dataset['Tag_number_list'].values"
      ],
      "metadata": {
        "id": "NMAV6a5aKU6q"
      },
      "execution_count": 9,
      "outputs": []
    },
    {
      "cell_type": "code",
      "source": [
        "#from sklearn.preprocessing import MultiLabelBinarizer as mlb\n",
        "y_stackExchange_encoding = mlb().fit_transform(y_final)"
      ],
      "metadata": {
        "id": "w_LBf1tDKX3v"
      },
      "execution_count": 10,
      "outputs": []
    },
    {
      "cell_type": "code",
      "source": [
        "from sklearn.model_selection import train_test_split\n",
        "X_sExchange_train, X_valid_test, y_sExchange_train, y_valid_test = train_test_split(X, y_stackExchange_encoding, test_size=0.4, random_state=42)\n",
        "X_sExchange_valid, X_sExchange_test, y_sExchange_valid, y_sExchange_test = train_test_split(X_valid_test, y_valid_test, test_size=0.5, random_state=42)"
      ],
      "metadata": {
        "id": "3WQRfaoHKaej"
      },
      "execution_count": 11,
      "outputs": []
    },
    {
      "cell_type": "code",
      "source": [
        "from gensim.models import KeyedVectors\n",
        "pretrained_sExchange_file = str(embeddings_folder/ \"model_stackExchange_CBOW.bin\")\n",
        "sExchange_vectors = KeyedVectors.load(pretrained_sExchange_file)"
      ],
      "metadata": {
        "id": "5sz0-6-cKcuW"
      },
      "execution_count": 12,
      "outputs": []
    },
    {
      "cell_type": "code",
      "source": [
        "!pip install torch_lr_finder -qq"
      ],
      "metadata": {
        "id": "msRp53LRKkuP"
      },
      "execution_count": 13,
      "outputs": []
    },
    {
      "cell_type": "code",
      "source": [
        "from torch_lr_finder import LRFinder\n",
        "from Trainer_v4 import Trainer\n",
        "from data_preparation_HW7 import *"
      ],
      "metadata": {
        "id": "zqR58BTUKo3R"
      },
      "execution_count": 14,
      "outputs": []
    },
    {
      "cell_type": "code",
      "source": [
        "from ff_sequential_model_v1 import MLPCustom"
      ],
      "metadata": {
        "id": "mfuTxEy8Kwvi"
      },
      "execution_count": 15,
      "outputs": []
    },
    {
      "cell_type": "markdown",
      "source": [
        "#Creating Dataset & Vocab"
      ],
      "metadata": {
        "id": "k_fe2Z8SK8CX"
      }
    },
    {
      "cell_type": "code",
      "source": [
        "se_trainset = CustomDataset(X_sExchange_train, y_sExchange_train)\n",
        "se_validset = CustomDataset(X_sExchange_valid, y_sExchange_valid)\n",
        "se_testset = CustomDataset(X_sExchange_test, y_sExchange_test)\n",
        "\n",
        "#Creating stackexchange vocab\n",
        "stackExchange_vocab = get_vocab(se_trainset, min_freq=2)"
      ],
      "metadata": {
        "id": "Peh49J0jK1AX"
      },
      "execution_count": 17,
      "outputs": []
    },
    {
      "cell_type": "code",
      "source": [
        "pretrained_weights, words_found, words_not_found = get_pretrained_weights(\n",
        "    vocab=stackExchange_vocab,\n",
        "    pretrained_vectors=sExchange_vectors,\n",
        "    embedding_dim = 300,\n",
        "    )"
      ],
      "metadata": {
        "id": "ixqPCRHJLqRZ"
      },
      "execution_count": 20,
      "outputs": []
    },
    {
      "cell_type": "code",
      "source": [
        "pretrained_weights.shape"
      ],
      "metadata": {
        "colab": {
          "base_uri": "https://localhost:8080/"
        },
        "id": "nTJJPui7OD-H",
        "outputId": "f8f2cbe4-ab91-4a64-be0e-25fb01e91dee"
      },
      "execution_count": 21,
      "outputs": [
        {
          "output_type": "execute_result",
          "data": {
            "text/plain": [
              "torch.Size([90287, 300])"
            ]
          },
          "metadata": {},
          "execution_count": 21
        }
      ]
    },
    {
      "cell_type": "code",
      "source": [
        "type(pretrained_weights), words_found, words_not_found"
      ],
      "metadata": {
        "colab": {
          "base_uri": "https://localhost:8080/"
        },
        "id": "g7Y2BUIjOGfG",
        "outputId": "407bff4b-674a-420c-cfe5-d5ce2b38ea73"
      },
      "execution_count": 22,
      "outputs": [
        {
          "output_type": "execute_result",
          "data": {
            "text/plain": [
              "(torch.Tensor, 14664, 75623)"
            ]
          },
          "metadata": {},
          "execution_count": 22
        }
      ]
    },
    {
      "cell_type": "code",
      "source": [
        "hyperparameters = SimpleNamespace(\n",
        "    # for model\n",
        "    EMBED_DIM=300,\n",
        "    VOCAB_SIZE=len(stackExchange_vocab),\n",
        "    OUTPUT_DIM=10,\n",
        "    HIDDEN_SIZES_LIST=[200],\n",
        "    DPROB_LIST=[0.0],\n",
        "    NON_LINEARITY=nn.ReLU(),\n",
        "    BATCH_NORM=False,\n",
        "\n",
        "    # for training\n",
        "    INITIALIZATION ='kaiming',\n",
        "    EPOCHS=50,\n",
        "    BATCH_SIZE=128,\n",
        "    LEARNING_RATE=0.001,\n",
        "    DATASET='IMDB',\n",
        "    ARCHITECTURE='embed_layer-ffn',\n",
        "\n",
        "    # for optimizer\n",
        "    OPTIMIZER='AdamW',\n",
        "    MOMENTUM = 0,\n",
        "    NESTEROV = False,\n",
        "    WEIGHT_DECAY = 0.000,\n",
        "\n",
        "    # gradient clipping\n",
        "    CLIP_TYPE='norm',\n",
        "    CLIP_VALUE=2,\n",
        "\n",
        "    # early stopping\n",
        "    EARLY_STOP_PATIENCE=5,\n",
        "\n",
        "    #scheduler\n",
        "    SCHEDULER = 'None'\n",
        "    )"
      ],
      "metadata": {
        "id": "rPvQYcLcOKmv"
      },
      "execution_count": 24,
      "outputs": []
    },
    {
      "cell_type": "markdown",
      "source": [
        "Specify the run name and folder"
      ],
      "metadata": {
        "id": "EsNRNmfKOcEy"
      }
    },
    {
      "cell_type": "code",
      "source": [
        "project_name = 'Regularization_stackExchange_v4'\n",
        "run_name = 'exp8'\n",
        "run_folder = model_saving_folder/project_name/run_name\n",
        "run_folder.mkdir(exist_ok=True, parents=True)\n",
        "log_frequency = 5"
      ],
      "metadata": {
        "id": "siiHWSsXObeP"
      },
      "execution_count": 25,
      "outputs": []
    },
    {
      "cell_type": "code",
      "source": [
        "run_folder"
      ],
      "metadata": {
        "colab": {
          "base_uri": "https://localhost:8080/"
        },
        "id": "eu0b3v2wOrtm",
        "outputId": "054c8921-9b2f-4f42-afa3-37e002fedd22"
      },
      "execution_count": 26,
      "outputs": [
        {
          "output_type": "execute_result",
          "data": {
            "text/plain": [
              "PosixPath('/content/drive/My Drive/NLP/assignment7/NN_MultiLabel_Classification_task3b/Regularization_stackExchange_v4/exp8')"
            ]
          },
          "metadata": {},
          "execution_count": 26
        }
      ]
    },
    {
      "cell_type": "code",
      "source": [
        "# run 1 - based on default initialization\n",
        "# Notes: Final Learning rate was set to 0.01\n",
        "\n",
        "# run 2 - add dropout\n",
        "hyperparameters.LEARNING_RATE = 0.01   \n",
        "hyperparameters.DPROB_LIST=[0.5] \n",
        "\n",
        "# run 3 - remove dropout, add weight decay\n",
        "hyperparameters.WEIGHT_DECAY = 1\n",
        "hyperparameters.DPROB_LIST=[0] \n",
        "\n",
        "# run 4 - remove dropout, add weight decay\n",
        "hyperparameters.WEIGHT_DECAY = 0.1\n",
        "\n",
        "# run 5 - increase batch size to 256\n",
        "hyperparameters.BATCH_SIZE = 256\n",
        "\n",
        "# run 6 - One cyucle scheduler\n",
        "hyperparameters.LEARNING_RATE = 0.001   \n",
        "hyperparameters.WEIGHT_DECAY = 10\n",
        "hyperparameters.SCHEDULER='OneCyclicLR'\n",
        "hyperparameters.SCHEDULER_MAX_LR=0.01\n",
        "hyperparameters.SCHEDULER_DIV_FACTOR=25\n",
        "hyperparameters.SCHEDULER_FINAL_DIV_FACTOR=1e3\n",
        "hyperparameters.EPOCHS = 10\n",
        "\n",
        "#  run 7 - use pre-trained weights but freeze teh weights - model will \n",
        "hyperparameters.USE_PRE_TRAINED_WEIGHTS = True\n",
        "hyperparameters.FREEZE_PRETRAINED = True\n",
        "\n",
        "# run 8 - Unfreeze the weights\n",
        "hyperparameters.FREEZE_PRETRAINED = False"
      ],
      "metadata": {
        "id": "e--6b0QeOssE"
      },
      "execution_count": 27,
      "outputs": []
    },
    {
      "cell_type": "markdown",
      "source": [
        "Trainer Configuration"
      ],
      "metadata": {
        "id": "TacRg3OnOziv"
      }
    },
    {
      "cell_type": "code",
      "source": [
        "# Fix seed value\n",
        "Trainer.set_seed()\n",
        "\n",
        "collate_fn = partial(collate_batch, vocab=stackExchange_vocab)\n",
        "\n",
        "# Data Loader\n",
        "train_loader, valid_loader = get_loaders(trainset=se_trainset, validset=se_validset, \n",
        "                                         batch_size_=hyperparameters.BATCH_SIZE,\n",
        "                                         collate_fn=collate_fn)\n",
        "\n",
        "# cross entropy loss function\n",
        "loss_function = nn.BCEWithLogitsLoss()\n",
        "\n",
        "# model\n",
        "model_imdb = MLPCustom(hyperparameters.EMBED_DIM,\n",
        "                       hyperparameters.VOCAB_SIZE,\n",
        "                       hyperparameters.HIDDEN_SIZES_LIST,\n",
        "                       hyperparameters.DPROB_LIST,\n",
        "                       hyperparameters.OUTPUT_DIM,\n",
        "                       hyperparameters.NON_LINEARITY,\n",
        "                       hyperparameters.BATCH_NORM,                       \n",
        "                       use_pre_trained_weights =hyperparameters.USE_PRE_TRAINED_WEIGHTS,\n",
        "                       pretrained_weights=pretrained_weights, \n",
        "                       freeze_pretrained = hyperparameters.FREEZE_PRETRAINED)\n",
        "\n",
        "def init_weights(m):\n",
        "  if type(m) == nn.Linear:\n",
        "      torch.nn.init.kaiming_normal_(m.weight)\n",
        "      torch.nn.init.zeros_(m.bias)\n",
        "\n",
        "# apply initialization recursively  to all modules\n",
        "if hyperparameters.INITIALIZATION =='kaiming':\n",
        "    model_imdb.apply(init_weights)\n",
        "\n",
        "# OPTIMIZERS\n",
        "def get_optimizer():\n",
        "    if hyperparameters.OPTIMIZER == \"SGD\":\n",
        "        optimizer = torch.optim.SGD(\n",
        "            model_imdb.parameters(),\n",
        "            lr=hyperparameters.LEARNING_RATE,\n",
        "            momentum=hyperparameters.MOMENTUM,\n",
        "            nesterov=hyperparameters.NESTEROV,\n",
        "            weight_decay = hyperparameters.WEIGHT_DECAY\n",
        "        )\n",
        "    else:\n",
        "        optimizer = torch.optim.AdamW(\n",
        "            model_imdb.parameters(), \n",
        "            lr=hyperparameters.LEARNING_RATE,\n",
        "            weight_decay = hyperparameters.WEIGHT_DECAY\n",
        "\n",
        "        )\n",
        "    return optimizer\n",
        "\n",
        "optimizer = get_optimizer()\n",
        "device = torch.device('cuda:0' if torch.cuda.is_available() else 'cpu')"
      ],
      "metadata": {
        "colab": {
          "base_uri": "https://localhost:8080/",
          "height": 287
        },
        "id": "7SKUiD1DOymn",
        "outputId": "a84ce530-ea86-43c2-e3fb-cb83535d8b55"
      },
      "execution_count": 29,
      "outputs": [
        {
          "output_type": "error",
          "ename": "TypeError",
          "evalue": "ignored",
          "traceback": [
            "\u001b[0;31m---------------------------------------------------------------------------\u001b[0m",
            "\u001b[0;31mTypeError\u001b[0m                                 Traceback (most recent call last)",
            "\u001b[0;32m<ipython-input-29-d211a4b7aa7a>\u001b[0m in \u001b[0;36m<cell line: 15>\u001b[0;34m()\u001b[0m\n\u001b[1;32m     13\u001b[0m \u001b[0;34m\u001b[0m\u001b[0m\n\u001b[1;32m     14\u001b[0m \u001b[0;31m# model\u001b[0m\u001b[0;34m\u001b[0m\u001b[0;34m\u001b[0m\u001b[0m\n\u001b[0;32m---> 15\u001b[0;31m model_imdb = MLPCustom(hyperparameters.EMBED_DIM,\n\u001b[0m\u001b[1;32m     16\u001b[0m                        \u001b[0mhyperparameters\u001b[0m\u001b[0;34m.\u001b[0m\u001b[0mVOCAB_SIZE\u001b[0m\u001b[0;34m,\u001b[0m\u001b[0;34m\u001b[0m\u001b[0;34m\u001b[0m\u001b[0m\n\u001b[1;32m     17\u001b[0m                        \u001b[0mhyperparameters\u001b[0m\u001b[0;34m.\u001b[0m\u001b[0mHIDDEN_SIZES_LIST\u001b[0m\u001b[0;34m,\u001b[0m\u001b[0;34m\u001b[0m\u001b[0;34m\u001b[0m\u001b[0m\n",
            "\u001b[0;31mTypeError\u001b[0m: __init__() got an unexpected keyword argument 'use_pre_trained_weights'"
          ]
        }
      ]
    }
  ]
}