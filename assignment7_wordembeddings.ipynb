{
  "nbformat": 4,
  "nbformat_minor": 0,
  "metadata": {
    "colab": {
      "provenance": [],
      "machine_shape": "hm",
      "authorship_tag": "ABX9TyPL8CXtTQ1aQDsoePPWy17y",
      "include_colab_link": true
    },
    "kernelspec": {
      "name": "python3",
      "display_name": "Python 3"
    },
    "language_info": {
      "name": "python"
    },
    "accelerator": "GPU",
    "gpuClass": "premium"
  },
  "cells": [
    {
      "cell_type": "markdown",
      "metadata": {
        "id": "view-in-github",
        "colab_type": "text"
      },
      "source": [
        "<a href=\"https://colab.research.google.com/github/parimalakettymuthu/MachineLearning-Projects/blob/main/assignment7_wordembeddings.ipynb\" target=\"_parent\"><img src=\"https://colab.research.google.com/assets/colab-badge.svg\" alt=\"Open In Colab\"/></a>"
      ]
    },
    {
      "cell_type": "code",
      "execution_count": 1,
      "metadata": {
        "id": "HhIyzA-4uwE9"
      },
      "outputs": [],
      "source": [
        "%load_ext autoreload\n",
        "%autoreload"
      ]
    },
    {
      "cell_type": "code",
      "source": [
        "import os \n",
        "os.environ['OMP_NUM_THREADS'] = '64'"
      ],
      "metadata": {
        "id": "5Jij1BiMu9OV"
      },
      "execution_count": 2,
      "outputs": []
    },
    {
      "cell_type": "code",
      "source": [
        "import sys\n",
        "if 'google.colab' in str(get_ipython()):\n",
        "    from google.colab import drive\n",
        "    drive.mount('/content/drive')\n",
        "\n",
        "    !pip install --upgrade gensim -qq\n",
        "    !pip install -U spacy -qq\n",
        "\n",
        "\n",
        "    basepath = '/content/drive/MyDrive/NLP/assignment7'\n",
        "    sys.path.append('/content/drive/MyDrive/NLP/custom-functions')"
      ],
      "metadata": {
        "colab": {
          "base_uri": "https://localhost:8080/"
        },
        "id": "2kSiJArJvRJS",
        "outputId": "f8e4ad5d-6dd3-4eec-f6a4-76009e83b401"
      },
      "execution_count": 3,
      "outputs": [
        {
          "output_type": "stream",
          "name": "stdout",
          "text": [
            "Mounted at /content/drive\n"
          ]
        }
      ]
    },
    {
      "cell_type": "code",
      "source": [
        "import random\n",
        "import spacy\n",
        "import textwrap\n",
        "import joblib\n",
        "from pathlib import Path\n",
        "import numpy as np\n",
        "import gensim\n",
        "import gensim.downloader as loader\n",
        "from gensim.models import Word2Vec\n",
        "from gensim.models import KeyedVectors\n",
        "import itertools"
      ],
      "metadata": {
        "id": "pge8O2BHvTCy"
      },
      "execution_count": 4,
      "outputs": []
    },
    {
      "cell_type": "code",
      "source": [
        "import os\n",
        "os.cpu_count()"
      ],
      "metadata": {
        "colab": {
          "base_uri": "https://localhost:8080/"
        },
        "id": "daRdPUUHybWV",
        "outputId": "91a16970-510a-44ec-d366-82da9ed7367d"
      },
      "execution_count": 5,
      "outputs": [
        {
          "output_type": "execute_result",
          "data": {
            "text/plain": [
              "12"
            ]
          },
          "metadata": {},
          "execution_count": 5
        }
      ]
    },
    {
      "cell_type": "code",
      "source": [
        "print(f'spacy-version: {spacy.__version__}  || gensim-version{ gensim.__version__}')"
      ],
      "metadata": {
        "colab": {
          "base_uri": "https://localhost:8080/"
        },
        "id": "zbiWjmDsyezM",
        "outputId": "fb985f96-23af-4e32-f22a-76720f66fb25"
      },
      "execution_count": 6,
      "outputs": [
        {
          "output_type": "stream",
          "name": "stdout",
          "text": [
            "spacy-version: 3.5.2  || gensim-version4.3.1\n"
          ]
        }
      ]
    },
    {
      "cell_type": "code",
      "source": [
        "#!python3 --version"
      ],
      "metadata": {
        "id": "A7X4CcZOyiMb"
      },
      "execution_count": 7,
      "outputs": []
    },
    {
      "cell_type": "code",
      "source": [
        "if gensim.models.doc2vec.FAST_VERSION > -1:\n",
        "    print(\"Fast gensim version is being used.\")\n",
        "else:\n",
        "    print(\"Slow gensim version is being used.\")"
      ],
      "metadata": {
        "colab": {
          "base_uri": "https://localhost:8080/"
        },
        "id": "oxSr0E48ykUq",
        "outputId": "c1b8708f-16bc-4563-f2dd-ccb960975120"
      },
      "execution_count": 8,
      "outputs": [
        {
          "output_type": "stream",
          "name": "stdout",
          "text": [
            "Fast gensim version is being used.\n"
          ]
        }
      ]
    },
    {
      "cell_type": "code",
      "source": [
        "folder = Path(basepath)/'WordEmbeddings'"
      ],
      "metadata": {
        "id": "EGUxLc8ayoD8"
      },
      "execution_count": 9,
      "outputs": []
    },
    {
      "cell_type": "code",
      "source": [
        "sys.path"
      ],
      "metadata": {
        "colab": {
          "base_uri": "https://localhost:8080/"
        },
        "id": "Qxw0_nhEy9tc",
        "outputId": "0dd50509-c7fd-4d7b-b239-783f81fd5743"
      },
      "execution_count": 10,
      "outputs": [
        {
          "output_type": "execute_result",
          "data": {
            "text/plain": [
              "['/content',\n",
              " '/env/python',\n",
              " '/usr/lib/python39.zip',\n",
              " '/usr/lib/python3.9',\n",
              " '/usr/lib/python3.9/lib-dynload',\n",
              " '',\n",
              " '/usr/local/lib/python3.9/dist-packages',\n",
              " '/usr/lib/python3/dist-packages',\n",
              " '/usr/local/lib/python3.9/dist-packages/IPython/extensions',\n",
              " '/root/.ipython',\n",
              " '/content/drive/MyDrive/NLP/custom-functions']"
            ]
          },
          "metadata": {},
          "execution_count": 10
        }
      ]
    },
    {
      "cell_type": "code",
      "source": [
        "stackExchange_cleaned_text_file = folder / 'df_raw_small_hw.joblib'    #Folder path was set for accessing the file"
      ],
      "metadata": {
        "id": "vtIsTJB3zAQ7"
      },
      "execution_count": 11,
      "outputs": []
    },
    {
      "cell_type": "code",
      "source": [
        "#Load the file \n",
        "stackExchange_cleaned_text = joblib.load(stackExchange_cleaned_text_file)"
      ],
      "metadata": {
        "id": "IvfD2lF58vpN"
      },
      "execution_count": 12,
      "outputs": []
    },
    {
      "cell_type": "code",
      "source": [
        "type(stackExchange_cleaned_text)"
      ],
      "metadata": {
        "id": "ewEPosRLzvQh",
        "colab": {
          "base_uri": "https://localhost:8080/"
        },
        "outputId": "cb8687cb-7d14-46b3-fb7c-6a22c0fbd65c"
      },
      "execution_count": 13,
      "outputs": [
        {
          "output_type": "execute_result",
          "data": {
            "text/plain": [
              "pandas.core.frame.DataFrame"
            ]
          },
          "metadata": {},
          "execution_count": 13
        }
      ]
    },
    {
      "cell_type": "code",
      "source": [
        "stackExchange_cleaned_text.shape"
      ],
      "metadata": {
        "colab": {
          "base_uri": "https://localhost:8080/"
        },
        "id": "Ni_lcFl96l--",
        "outputId": "dae09939-84db-4778-d9ea-e19931f4f408"
      },
      "execution_count": 14,
      "outputs": [
        {
          "output_type": "execute_result",
          "data": {
            "text/plain": [
              "(438813, 4)"
            ]
          },
          "metadata": {},
          "execution_count": 14
        }
      ]
    },
    {
      "cell_type": "code",
      "source": [
        "stackExchange_cleaned_text.columns"
      ],
      "metadata": {
        "colab": {
          "base_uri": "https://localhost:8080/"
        },
        "id": "rDvuSEcRNVUg",
        "outputId": "230c455f-60ea-48ea-a0d3-5bffca27ae62"
      },
      "execution_count": 15,
      "outputs": [
        {
          "output_type": "execute_result",
          "data": {
            "text/plain": [
              "Index(['Unnamed: 0', 'Id', 'Title', 'Body'], dtype='object')"
            ]
          },
          "metadata": {},
          "execution_count": 15
        }
      ]
    },
    {
      "cell_type": "code",
      "source": [
        "stackExchange_cleaned_text = stackExchange_cleaned_text.drop(columns=['Unnamed: 0'])"
      ],
      "metadata": {
        "id": "4JmqyEf4Sh2E"
      },
      "execution_count": 16,
      "outputs": []
    },
    {
      "cell_type": "code",
      "source": [
        "stackExchange_cleaned_text.head(5)"
      ],
      "metadata": {
        "colab": {
          "base_uri": "https://localhost:8080/",
          "height": 206
        },
        "id": "R8HK8DdDNYUY",
        "outputId": "743da2e0-0977-4be8-c331-f13a2af86cc7"
      },
      "execution_count": 17,
      "outputs": [
        {
          "output_type": "execute_result",
          "data": {
            "text/plain": [
              "              Id                                              Title  \\\n",
              "3595496  7254900                      Identify un-activated servers   \n",
              "1929804  4905251  How to abort the loading of an external HTML r...   \n",
              "2513704  6173108  Xcode: how do you make it to where clicking on...   \n",
              "3794169  7453573                      Common WQL Monitoring Queries   \n",
              "4341677  8001081  Loading Native Managed and C++ DLL within IIS ...   \n",
              "\n",
              "                                                      Body  \n",
              "3595496  <p>I've been on a bit of a roll this week and ...  \n",
              "1929804  <p>I'm writing a JavaScript widget, which is i...  \n",
              "2513704  <p>I know how to make a button in Xcode with I...  \n",
              "3794169  <p>What WQL queries would you use for monitori...  \n",
              "4341677  <p>I have WCF service developed in C# for with...  "
            ],
            "text/html": [
              "\n",
              "  <div id=\"df-0c66681b-0d9c-4f4a-8530-95cb7f0b4c7c\">\n",
              "    <div class=\"colab-df-container\">\n",
              "      <div>\n",
              "<style scoped>\n",
              "    .dataframe tbody tr th:only-of-type {\n",
              "        vertical-align: middle;\n",
              "    }\n",
              "\n",
              "    .dataframe tbody tr th {\n",
              "        vertical-align: top;\n",
              "    }\n",
              "\n",
              "    .dataframe thead th {\n",
              "        text-align: right;\n",
              "    }\n",
              "</style>\n",
              "<table border=\"1\" class=\"dataframe\">\n",
              "  <thead>\n",
              "    <tr style=\"text-align: right;\">\n",
              "      <th></th>\n",
              "      <th>Id</th>\n",
              "      <th>Title</th>\n",
              "      <th>Body</th>\n",
              "    </tr>\n",
              "  </thead>\n",
              "  <tbody>\n",
              "    <tr>\n",
              "      <th>3595496</th>\n",
              "      <td>7254900</td>\n",
              "      <td>Identify un-activated servers</td>\n",
              "      <td>&lt;p&gt;I've been on a bit of a roll this week and ...</td>\n",
              "    </tr>\n",
              "    <tr>\n",
              "      <th>1929804</th>\n",
              "      <td>4905251</td>\n",
              "      <td>How to abort the loading of an external HTML r...</td>\n",
              "      <td>&lt;p&gt;I'm writing a JavaScript widget, which is i...</td>\n",
              "    </tr>\n",
              "    <tr>\n",
              "      <th>2513704</th>\n",
              "      <td>6173108</td>\n",
              "      <td>Xcode: how do you make it to where clicking on...</td>\n",
              "      <td>&lt;p&gt;I know how to make a button in Xcode with I...</td>\n",
              "    </tr>\n",
              "    <tr>\n",
              "      <th>3794169</th>\n",
              "      <td>7453573</td>\n",
              "      <td>Common WQL Monitoring Queries</td>\n",
              "      <td>&lt;p&gt;What WQL queries would you use for monitori...</td>\n",
              "    </tr>\n",
              "    <tr>\n",
              "      <th>4341677</th>\n",
              "      <td>8001081</td>\n",
              "      <td>Loading Native Managed and C++ DLL within IIS ...</td>\n",
              "      <td>&lt;p&gt;I have WCF service developed in C# for with...</td>\n",
              "    </tr>\n",
              "  </tbody>\n",
              "</table>\n",
              "</div>\n",
              "      <button class=\"colab-df-convert\" onclick=\"convertToInteractive('df-0c66681b-0d9c-4f4a-8530-95cb7f0b4c7c')\"\n",
              "              title=\"Convert this dataframe to an interactive table.\"\n",
              "              style=\"display:none;\">\n",
              "        \n",
              "  <svg xmlns=\"http://www.w3.org/2000/svg\" height=\"24px\"viewBox=\"0 0 24 24\"\n",
              "       width=\"24px\">\n",
              "    <path d=\"M0 0h24v24H0V0z\" fill=\"none\"/>\n",
              "    <path d=\"M18.56 5.44l.94 2.06.94-2.06 2.06-.94-2.06-.94-.94-2.06-.94 2.06-2.06.94zm-11 1L8.5 8.5l.94-2.06 2.06-.94-2.06-.94L8.5 2.5l-.94 2.06-2.06.94zm10 10l.94 2.06.94-2.06 2.06-.94-2.06-.94-.94-2.06-.94 2.06-2.06.94z\"/><path d=\"M17.41 7.96l-1.37-1.37c-.4-.4-.92-.59-1.43-.59-.52 0-1.04.2-1.43.59L10.3 9.45l-7.72 7.72c-.78.78-.78 2.05 0 2.83L4 21.41c.39.39.9.59 1.41.59.51 0 1.02-.2 1.41-.59l7.78-7.78 2.81-2.81c.8-.78.8-2.07 0-2.86zM5.41 20L4 18.59l7.72-7.72 1.47 1.35L5.41 20z\"/>\n",
              "  </svg>\n",
              "      </button>\n",
              "      \n",
              "  <style>\n",
              "    .colab-df-container {\n",
              "      display:flex;\n",
              "      flex-wrap:wrap;\n",
              "      gap: 12px;\n",
              "    }\n",
              "\n",
              "    .colab-df-convert {\n",
              "      background-color: #E8F0FE;\n",
              "      border: none;\n",
              "      border-radius: 50%;\n",
              "      cursor: pointer;\n",
              "      display: none;\n",
              "      fill: #1967D2;\n",
              "      height: 32px;\n",
              "      padding: 0 0 0 0;\n",
              "      width: 32px;\n",
              "    }\n",
              "\n",
              "    .colab-df-convert:hover {\n",
              "      background-color: #E2EBFA;\n",
              "      box-shadow: 0px 1px 2px rgba(60, 64, 67, 0.3), 0px 1px 3px 1px rgba(60, 64, 67, 0.15);\n",
              "      fill: #174EA6;\n",
              "    }\n",
              "\n",
              "    [theme=dark] .colab-df-convert {\n",
              "      background-color: #3B4455;\n",
              "      fill: #D2E3FC;\n",
              "    }\n",
              "\n",
              "    [theme=dark] .colab-df-convert:hover {\n",
              "      background-color: #434B5C;\n",
              "      box-shadow: 0px 1px 3px 1px rgba(0, 0, 0, 0.15);\n",
              "      filter: drop-shadow(0px 1px 2px rgba(0, 0, 0, 0.3));\n",
              "      fill: #FFFFFF;\n",
              "    }\n",
              "  </style>\n",
              "\n",
              "      <script>\n",
              "        const buttonEl =\n",
              "          document.querySelector('#df-0c66681b-0d9c-4f4a-8530-95cb7f0b4c7c button.colab-df-convert');\n",
              "        buttonEl.style.display =\n",
              "          google.colab.kernel.accessAllowed ? 'block' : 'none';\n",
              "\n",
              "        async function convertToInteractive(key) {\n",
              "          const element = document.querySelector('#df-0c66681b-0d9c-4f4a-8530-95cb7f0b4c7c');\n",
              "          const dataTable =\n",
              "            await google.colab.kernel.invokeFunction('convertToInteractive',\n",
              "                                                     [key], {});\n",
              "          if (!dataTable) return;\n",
              "\n",
              "          const docLinkHtml = 'Like what you see? Visit the ' +\n",
              "            '<a target=\"_blank\" href=https://colab.research.google.com/notebooks/data_table.ipynb>data table notebook</a>'\n",
              "            + ' to learn more about interactive tables.';\n",
              "          element.innerHTML = '';\n",
              "          dataTable['output_type'] = 'display_data';\n",
              "          await google.colab.output.renderOutput(dataTable, element);\n",
              "          const docLink = document.createElement('div');\n",
              "          docLink.innerHTML = docLinkHtml;\n",
              "          element.appendChild(docLink);\n",
              "        }\n",
              "      </script>\n",
              "    </div>\n",
              "  </div>\n",
              "  "
            ]
          },
          "metadata": {},
          "execution_count": 17
        }
      ]
    },
    {
      "cell_type": "code",
      "source": [
        "stackExchange_sentences = [text.split() for text in stackExchange_cleaned_text['Body']]\n",
        "#len(stackExchange_cleaned_text)\n",
        "#print(stackExchange_cleaned_text)\n",
        "#stackExchange_preprocess_sent = []\n",
        "#for text in stackExchange_cleaned_text['Body']:\n",
        "  #sentence = preprocess(text)\n",
        "  #stackExchange_preprocess_sent.append(sentence)"
      ],
      "metadata": {
        "id": "fooLyQ3jRq-z"
      },
      "execution_count": 18,
      "outputs": []
    },
    {
      "cell_type": "code",
      "source": [
        "type(stackExchange_sentences)"
      ],
      "metadata": {
        "colab": {
          "base_uri": "https://localhost:8080/"
        },
        "id": "EIIq1Y2ualDC",
        "outputId": "891cdd37-dd2c-4ef4-b1ef-6fe4e1de760b"
      },
      "execution_count": 19,
      "outputs": [
        {
          "output_type": "execute_result",
          "data": {
            "text/plain": [
              "list"
            ]
          },
          "metadata": {},
          "execution_count": 19
        }
      ]
    },
    {
      "cell_type": "code",
      "source": [
        "len(stackExchange_sentences)"
      ],
      "metadata": {
        "colab": {
          "base_uri": "https://localhost:8080/"
        },
        "id": "ehLS9aQJapeK",
        "outputId": "2a710bf3-90ec-4da0-cdf2-a4eeb6366265"
      },
      "execution_count": 20,
      "outputs": [
        {
          "output_type": "execute_result",
          "data": {
            "text/plain": [
              "438813"
            ]
          },
          "metadata": {},
          "execution_count": 20
        }
      ]
    },
    {
      "cell_type": "code",
      "source": [
        "print(stackExchange_sentences[0])"
      ],
      "metadata": {
        "colab": {
          "base_uri": "https://localhost:8080/"
        },
        "id": "2OHDx8HfavC7",
        "outputId": "752f0a43-de30-418e-a9b5-a6ffc1c2b34d"
      },
      "execution_count": 21,
      "outputs": [
        {
          "output_type": "stream",
          "name": "stdout",
          "text": [
            "[\"<p>I've\", 'been', 'on', 'a', 'bit', 'of', 'a', 'roll', 'this', 'week', 'and', 'have', 'deployed', 'around', '30', 'fresh', 'installs', 'of', 'Windows', 'Server', '2008', 'R2', 'using', 'our', 'Datacentre', 'license,', 'inside', 'a', 'VMWare', 'environment.</p>', '<p>However,', 'what', \"I've\", 'gone', 'and', 'forgotten', 'as', 'part', 'of', 'the', 'setup', 'routine', 'is', 'to', 'activate', 'the', 'servers.</p>', '<p>The', 'last', 'thing', 'I', 'want', 'is', 'next', 'month', 'to', 'find', 'out', 'that', 'our', 'clients', \"can't\", 'log', 'into', 'our', 'terminal', 'servers', 'because', \"I've\", 'forgotten', 'to', 'activate', 'them,', 'or', 'for', 'them', 'to', 'see', '\"You', 'have', 'been', 'a', 'victim', 'of', 'software', 'piracy\"', 'pop', 'up', 'on', 'their', 'desktop.</p>', '<p>Is', 'there', 'any', 'script/dirty', 'hacks', 'that', 'I', 'can', 'use', 'to', 'quickly', 'scan', 'the', 'network', 'for', 'un-activated', 'machines?', \"I'm\", 'guessing', 'it', 'will', 'probably', 'be', 'a', 'powershell', 'script', 'stuck', 'into', 'a', 'GPO,', 'but', \"that's\", 'as', 'far', 'as', 'my', 'imagination', 'can', 'take', 'me', 'at', 'the', 'moment.</p>']\n"
          ]
        }
      ]
    },
    {
      "cell_type": "code",
      "source": [
        "model_stackExchange_CBOW = Word2Vec(sentences=stackExchange_sentences,epochs=10, vector_size=300, window=10, min_count=5, workers = 32, sg=0)\n",
        "#model_stackExchange_CBOW.build_vocab(sentences=stackExchange_sentences)\n",
        "\n",
        "#model_stackExchange_CBOW.train(sentences=stackExchange_sentences, total_examples=len(stackExchange_sentences), epochs=10)\n"
      ],
      "metadata": {
        "id": "qVzP-yz-Ndtw"
      },
      "execution_count": 22,
      "outputs": []
    },
    {
      "cell_type": "code",
      "source": [
        "type(model_stackExchange_CBOW)"
      ],
      "metadata": {
        "colab": {
          "base_uri": "https://localhost:8080/"
        },
        "id": "xmvzV4bYeLBL",
        "outputId": "a0caeae2-640e-49e8-bb4c-a9759eb469d1"
      },
      "execution_count": 23,
      "outputs": [
        {
          "output_type": "execute_result",
          "data": {
            "text/plain": [
              "gensim.models.word2vec.Word2Vec"
            ]
          },
          "metadata": {},
          "execution_count": 23
        }
      ]
    },
    {
      "cell_type": "code",
      "source": [
        "model_stackExchange_CBOW.vector_size"
      ],
      "metadata": {
        "colab": {
          "base_uri": "https://localhost:8080/"
        },
        "id": "gyQqHQD7fEkr",
        "outputId": "b4d4b8fb-129d-4697-c74f-b6734a6aa429"
      },
      "execution_count": 24,
      "outputs": [
        {
          "output_type": "execute_result",
          "data": {
            "text/plain": [
              "300"
            ]
          },
          "metadata": {},
          "execution_count": 24
        }
      ]
    },
    {
      "cell_type": "code",
      "source": [
        "model_stackExchange_CBOW.wv.vectors.shape  #There are 356393 unique words in the corpus and each word is represented by 150 dimensional vector"
      ],
      "metadata": {
        "colab": {
          "base_uri": "https://localhost:8080/"
        },
        "id": "xG8J6dKlfG35",
        "outputId": "057368c4-6332-4370-87d3-7cbe60429460"
      },
      "execution_count": 25,
      "outputs": [
        {
          "output_type": "execute_result",
          "data": {
            "text/plain": [
              "(356393, 300)"
            ]
          },
          "metadata": {},
          "execution_count": 25
        }
      ]
    },
    {
      "cell_type": "code",
      "source": [
        "model_stackExchange_CBOW.wv.save(str(folder/'model_stackExchange_CBOW.bin')) #Saved the file to google drive folder"
      ],
      "metadata": {
        "id": "LkdvYFViffGR"
      },
      "execution_count": 26,
      "outputs": []
    },
    {
      "cell_type": "code",
      "source": [
        "model_stackExchange_CBOW_vectors = KeyedVectors.load(str(folder/'model_stackExchange_CBOW.bin'))"
      ],
      "metadata": {
        "id": "SmE-i9exRRqA"
      },
      "execution_count": 27,
      "outputs": []
    },
    {
      "cell_type": "code",
      "source": [
        "try:\n",
        "  model_stackExchange_CBOW_vectors['science']\n",
        "except:\n",
        "  print(f'word science is not in vocab of model')"
      ],
      "metadata": {
        "id": "--YzX9X_Tt1Z"
      },
      "execution_count": 28,
      "outputs": []
    },
    {
      "cell_type": "code",
      "source": [
        "model_stackExchange_CBOW_vectors['science']"
      ],
      "metadata": {
        "id": "NjJjZePFTyzg",
        "outputId": "7d67c612-eb46-4e0d-f600-5ce834a3baba",
        "colab": {
          "base_uri": "https://localhost:8080/"
        }
      },
      "execution_count": 29,
      "outputs": [
        {
          "output_type": "execute_result",
          "data": {
            "text/plain": [
              "array([-1.35909751e-01,  4.90951657e-01, -6.90723062e-01, -1.19112659e+00,\n",
              "       -1.27963698e+00, -2.55269166e-02,  5.57979882e-01,  2.62147498e+00,\n",
              "       -1.27132058e-01, -2.66058087e-01, -1.66371197e-01,  1.09057188e+00,\n",
              "        1.11895430e+00,  2.35218430e+00,  6.43377781e-01, -5.45901000e-01,\n",
              "       -1.36878878e-01, -8.54272604e-01,  2.69718841e-02, -4.76245850e-01,\n",
              "        4.18050259e-01, -2.50670493e-01, -1.56077719e+00, -1.33949208e+00,\n",
              "       -6.13696396e-01,  1.34143424e+00,  6.75126731e-01,  1.43725842e-01,\n",
              "        1.10130355e-01,  1.06276035e+00,  1.24564636e+00,  9.41760063e-01,\n",
              "       -1.26846766e+00,  6.26928747e-01,  2.58798543e-02, -1.35114670e+00,\n",
              "       -7.69969046e-01,  1.91165960e+00,  7.60623336e-01, -9.11171556e-01,\n",
              "        1.13474810e+00, -1.19508557e-01,  1.37815371e-01, -2.92856216e-01,\n",
              "       -9.45241392e-01, -8.06777179e-01, -4.38655108e-01,  7.52468348e-01,\n",
              "        1.59940982e+00,  2.39546680e+00,  1.86257482e+00,  7.56718636e-01,\n",
              "        1.25211954e+00, -8.88819754e-01, -2.08165064e-01, -5.07261932e-01,\n",
              "        2.25571752e-01,  7.12600872e-02,  8.29466045e-01, -3.97735208e-01,\n",
              "       -1.13170958e+00,  6.62873149e-01, -3.25207174e-01, -7.13287368e-02,\n",
              "        3.53482246e-01, -8.20574701e-01, -7.36504316e-01,  3.83007586e-01,\n",
              "        9.13622975e-01,  1.41178870e+00, -1.25027776e+00, -1.38081491e-01,\n",
              "       -1.63987768e+00,  1.62305629e+00,  1.53458619e+00, -4.70862001e-01,\n",
              "       -8.83657873e-01,  1.10367596e+00,  9.72530007e-01,  3.86394888e-01,\n",
              "        1.24655020e+00,  1.87813854e+00, -9.95777905e-01,  1.03158724e+00,\n",
              "       -9.15291369e-01,  2.78569579e-01,  1.55524051e+00, -8.15457463e-01,\n",
              "       -6.91294014e-01, -5.39739311e-01, -1.12302673e+00,  2.05187708e-01,\n",
              "       -3.89476456e-02, -5.23681343e-01, -1.69417500e+00,  9.25805509e-01,\n",
              "        1.03718197e+00, -9.63088393e-01,  4.74702239e-01, -3.60140234e-01,\n",
              "        1.14076030e+00,  1.15548563e+00,  1.34380916e-02,  2.21814775e+00,\n",
              "        4.77766186e-01,  1.41266859e+00,  7.65572965e-01,  2.55310792e-03,\n",
              "        2.37285450e-01, -4.20151114e-01, -7.30859786e-02,  4.58335698e-01,\n",
              "       -4.01320964e-01,  1.31132966e-03, -7.33042657e-01, -3.39126468e+00,\n",
              "       -8.41214240e-01, -1.06810927e-01, -1.39766896e+00, -6.85227692e-01,\n",
              "       -4.76790249e-01, -7.32029378e-01,  6.36988461e-01,  7.60157704e-02,\n",
              "       -2.01093122e-01, -4.84246224e-01,  9.15411487e-02, -7.34261692e-01,\n",
              "        1.56902695e+00, -1.27320647e-01,  4.89984602e-01, -7.48235226e-01,\n",
              "       -3.12209874e-01, -1.35183430e+00,  6.64305612e-02, -1.15924191e+00,\n",
              "       -4.01573032e-01,  9.10781771e-02, -1.24459767e+00, -4.94275689e-01,\n",
              "       -2.35721871e-01,  5.77132702e-01, -3.82957965e-01,  2.05050802e+00,\n",
              "        1.13592982e+00, -1.27004838e+00, -7.90563822e-01,  6.43645346e-01,\n",
              "        2.58838326e-01,  1.35725307e+00,  1.18422098e-01, -2.17268825e+00,\n",
              "       -4.29475605e-01, -5.15443146e-01,  9.92096126e-01,  2.48847499e-01,\n",
              "       -3.10795039e-01, -1.29146039e-01,  8.78885746e-01,  1.10109977e-01,\n",
              "        5.94007015e-01, -2.42241219e-01, -7.08696961e-01,  1.19122696e+00,\n",
              "       -1.08941019e+00,  8.28482628e-01, -1.33419856e-01,  1.33937001e+00,\n",
              "       -1.47411394e+00, -1.81799757e+00,  4.74211752e-01,  7.75029123e-01,\n",
              "        3.13269466e-01,  9.58305120e-01,  3.27805936e-01,  1.13687918e-01,\n",
              "       -1.79151797e+00,  1.30558217e+00, -7.10330248e-01,  3.00377399e-01,\n",
              "        3.02831441e-01,  7.12586641e-01, -3.33635956e-01,  1.43062723e+00,\n",
              "        1.39629221e+00,  1.04306197e+00, -1.83058947e-01,  2.66983581e+00,\n",
              "       -3.85763913e-01, -1.79820514e+00, -2.64444709e+00,  5.23671389e-01,\n",
              "        5.09825528e-01,  8.91569138e-01, -9.93162513e-01,  1.27481389e+00,\n",
              "       -9.03435796e-02,  1.08496320e+00,  8.78589213e-01, -1.24369182e-01,\n",
              "       -1.19455898e+00,  4.31528360e-01, -1.76755977e+00,  4.11288619e-01,\n",
              "       -8.66838813e-01,  7.17101455e-01,  1.32675683e+00, -9.82650161e-01,\n",
              "       -7.46758580e-01,  1.88456342e-01, -1.28206873e+00, -1.08392036e+00,\n",
              "        5.85431039e-01, -1.50680828e+00,  6.86392069e-01, -7.07897022e-02,\n",
              "        3.51216733e-01, -7.83355594e-01,  2.53403693e-01, -3.08948100e-01,\n",
              "       -4.76108164e-01, -1.49966919e+00,  4.24293607e-01, -5.47349304e-02,\n",
              "        2.40223303e-01, -2.24439248e-01, -1.62341273e+00,  7.65692115e-01,\n",
              "       -2.39672706e-01, -7.24841774e-01, -4.77728456e-01,  3.72273594e-01,\n",
              "       -1.52900529e+00, -7.30667710e-01, -1.09464252e+00, -6.71706498e-01,\n",
              "       -8.99666667e-01, -1.55258656e+00, -3.82928342e-01, -7.14107990e-01,\n",
              "       -5.66117764e-01, -7.91522324e-01,  2.84663811e-02,  9.84345198e-01,\n",
              "       -7.67526552e-02, -3.73093009e-01, -1.38069034e-01, -5.99769413e-01,\n",
              "       -3.00114542e-01, -2.92236477e-01, -3.07319257e-02, -5.68827629e-01,\n",
              "       -1.29857194e-02, -8.04841667e-02, -4.31718268e-02, -3.59449983e-02,\n",
              "       -7.73292601e-01, -4.42297786e-01, -1.97095799e+00, -9.45003629e-01,\n",
              "        5.45802474e-01, -9.30348933e-01, -1.32210386e+00, -2.05639340e-02,\n",
              "       -6.00505471e-01, -7.37356067e-01, -5.33287644e-01, -1.11168599e+00,\n",
              "       -7.24026978e-01, -7.88620114e-01, -1.33543909e+00,  9.62153152e-02,\n",
              "        1.57295489e+00,  9.53111172e-01,  6.23046339e-01,  1.33897269e+00,\n",
              "        3.38658988e-01, -9.60908309e-02,  1.54363525e+00,  3.49743694e-01,\n",
              "        2.83922791e-01, -4.69677866e-01, -6.69718683e-01,  3.68175805e-01,\n",
              "        1.61579669e+00,  1.46456540e+00,  7.61130154e-01,  1.16755259e+00,\n",
              "        6.11745119e-01, -7.92884409e-01, -1.35856986e+00, -3.45206857e-01,\n",
              "        7.73630321e-01,  1.06183302e+00,  1.23853827e+00,  6.17189288e-01,\n",
              "        2.83123404e-01,  1.20496124e-01,  2.15872988e-01, -1.30443251e+00],\n",
              "      dtype=float32)"
            ]
          },
          "metadata": {},
          "execution_count": 29
        }
      ]
    },
    {
      "cell_type": "code",
      "source": [
        "vocab_stackExchange_cbow=model_stackExchange_CBOW_vectors.index_to_key"
      ],
      "metadata": {
        "id": "0Ai4HG7QSCCg"
      },
      "execution_count": 30,
      "outputs": []
    },
    {
      "cell_type": "code",
      "source": [
        "type(vocab_stackExchange_cbow)"
      ],
      "metadata": {
        "id": "D83COMwYSG-P",
        "outputId": "6e7fafad-0aa6-4647-c78a-19cdcaa17fcc",
        "colab": {
          "base_uri": "https://localhost:8080/"
        }
      },
      "execution_count": 31,
      "outputs": [
        {
          "output_type": "execute_result",
          "data": {
            "text/plain": [
              "list"
            ]
          },
          "metadata": {},
          "execution_count": 31
        }
      ]
    },
    {
      "cell_type": "code",
      "source": [
        "vocab_stackExchange_cbow[0:5]"
      ],
      "metadata": {
        "id": "uWaFCYfbSLKY",
        "outputId": "fc0a875d-cb4d-43fd-f5cd-9ac854a336f2",
        "colab": {
          "base_uri": "https://localhost:8080/"
        }
      },
      "execution_count": 32,
      "outputs": [
        {
          "output_type": "execute_result",
          "data": {
            "text/plain": [
              "['the', 'to', 'I', 'a', '=']"
            ]
          },
          "metadata": {},
          "execution_count": 32
        }
      ]
    },
    {
      "cell_type": "code",
      "source": [
        "model_stackExchange_CBOW_vectors.most_similar('beautiful',topn=10)"
      ],
      "metadata": {
        "id": "IOvnXGkeSk2U",
        "outputId": "5a9d25c2-61ab-4828-f65e-ada3dc08ede1",
        "colab": {
          "base_uri": "https://localhost:8080/"
        }
      },
      "execution_count": 33,
      "outputs": [
        {
          "output_type": "execute_result",
          "data": {
            "text/plain": [
              "[('wonderful', 0.514295220375061),\n",
              " ('famous', 0.512818455696106),\n",
              " ('cool', 0.4823142886161804),\n",
              " ('nice,', 0.4701679050922394),\n",
              " ('nice', 0.4690350294113159),\n",
              " ('neat', 0.44718849658966064),\n",
              " ('popular', 0.44691231846809387),\n",
              " ('understandable', 0.4418742060661316),\n",
              " ('awesome', 0.43004435300827026),\n",
              " ('boring', 0.4282698631286621)]"
            ]
          },
          "metadata": {},
          "execution_count": 33
        }
      ]
    },
    {
      "cell_type": "code",
      "source": [
        "print(f\"similarity between airline and car is : {model_stackExchange_CBOW_vectors.similarity('slick','fun')}\")"
      ],
      "metadata": {
        "id": "uhh6AVCeSqdq",
        "outputId": "8df5f194-0f2e-43d0-9634-a6d575fbf634",
        "colab": {
          "base_uri": "https://localhost:8080/"
        }
      },
      "execution_count": 34,
      "outputs": [
        {
          "output_type": "stream",
          "name": "stdout",
          "text": [
            "similarity between airline and car is : 0.31683167815208435\n"
          ]
        }
      ]
    },
    {
      "cell_type": "code",
      "source": [
        "for i in  random.choices(range(1,3000),k=20):\n",
        "    print(vocab_stackExchange_cbow[i])"
      ],
      "metadata": {
        "id": "w7X1aH3PS1HZ",
        "outputId": "f20d8e63-f505-4682-dc89-38e822746cbd",
        "colab": {
          "base_uri": "https://localhost:8080/"
        }
      },
      "execution_count": 35,
      "outputs": [
        {
          "output_type": "stream",
          "name": "stdout",
          "text": [
            "changing\n",
            "mail\n",
            "throwing\n",
            "(most\n",
            "derived\n",
            "that.\n",
            "present\n",
            "learn\n",
            "B\n",
            "there\n",
            "transfer\n",
            "Safari\n",
            "filename\n",
            "IN\n",
            "window.\n",
            "located\n",
            "connect\n",
            "&lt;/script&gt;\n",
            "batch\n",
            "value;\n"
          ]
        }
      ]
    },
    {
      "cell_type": "code",
      "source": [
        "model_stackExchange_CBOW_vectors.doesnt_match(['printStackTrace','woman','readonly'])"
      ],
      "metadata": {
        "id": "tGLhDtSoUc-c",
        "outputId": "f0d94655-bce1-4a10-dfcb-f16a206a4647",
        "colab": {
          "base_uri": "https://localhost:8080/",
          "height": 35
        }
      },
      "execution_count": 36,
      "outputs": [
        {
          "output_type": "execute_result",
          "data": {
            "text/plain": [
              "'woman'"
            ],
            "application/vnd.google.colaboratory.intrinsic+json": {
              "type": "string"
            }
          },
          "metadata": {},
          "execution_count": 36
        }
      ]
    }
  ]
}