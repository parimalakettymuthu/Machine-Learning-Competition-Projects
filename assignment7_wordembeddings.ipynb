{
  "nbformat": 4,
  "nbformat_minor": 0,
  "metadata": {
    "colab": {
      "provenance": [],
      "machine_shape": "hm",
      "authorship_tag": "ABX9TyPL8CXtTQ1aQDsoePPWy17y",
      "include_colab_link": true
    },
    "kernelspec": {
      "name": "python3",
      "display_name": "Python 3"
    },
    "language_info": {
      "name": "python"
    },
    "accelerator": "GPU",
    "gpuClass": "premium"
  },
  "cells": [
    {
      "cell_type": "markdown",
      "metadata": {
        "id": "view-in-github",
        "colab_type": "text"
      },
      "source": [
        "<a href=\"https://colab.research.google.com/github/parimalakettymuthu/MachineLearning-Projects/blob/main/assignment7_wordembeddings.ipynb\" target=\"_parent\"><img src=\"https://colab.research.google.com/assets/colab-badge.svg\" alt=\"Open In Colab\"/></a>"
      ]
    },
    {
      "cell_type": "code",
      "execution_count": null,
      "metadata": {
        "id": "HhIyzA-4uwE9"
      },
      "outputs": [],
      "source": [
        "%load_ext autoreload\n",
        "%autoreload"
      ]
    },
    {
      "cell_type": "code",
      "source": [
        "import os \n",
        "os.environ['OMP_NUM_THREADS'] = '64'"
      ],
      "metadata": {
        "id": "5Jij1BiMu9OV"
      },
      "execution_count": null,
      "outputs": []
    },
    {
      "cell_type": "code",
      "source": [
        "import sys\n",
        "if 'google.colab' in str(get_ipython()):\n",
        "    from google.colab import drive\n",
        "    drive.mount('/content/drive')\n",
        "\n",
        "    !pip install --upgrade gensim -qq\n",
        "    !pip install -U spacy -qq\n",
        "\n",
        "\n",
        "    basepath = '/content/drive/MyDrive/NLP/assignment7'\n",
        "    sys.path.append('/content/drive/MyDrive/NLP/custom-functions')"
      ],
      "metadata": {
        "colab": {
          "base_uri": "https://localhost:8080/"
        },
        "id": "2kSiJArJvRJS",
        "outputId": "a7d7c1b1-4dab-486d-cbe4-796d0f063335"
      },
      "execution_count": null,
      "outputs": [
        {
          "output_type": "stream",
          "name": "stdout",
          "text": [
            "Mounted at /content/drive\n"
          ]
        }
      ]
    },
    {
      "cell_type": "code",
      "source": [
        "import random\n",
        "import spacy\n",
        "import textwrap\n",
        "import joblib\n",
        "from pathlib import Path\n",
        "import numpy as np\n",
        "import gensim\n",
        "import gensim.downloader as loader\n",
        "from gensim.models import Word2Vec\n",
        "from gensim.models import KeyedVectors\n",
        "import itertools"
      ],
      "metadata": {
        "id": "pge8O2BHvTCy"
      },
      "execution_count": null,
      "outputs": []
    },
    {
      "cell_type": "code",
      "source": [
        "import os\n",
        "os.cpu_count()"
      ],
      "metadata": {
        "colab": {
          "base_uri": "https://localhost:8080/"
        },
        "id": "daRdPUUHybWV",
        "outputId": "2b0840d3-4c56-4669-edff-435aba7acda1"
      },
      "execution_count": null,
      "outputs": [
        {
          "output_type": "execute_result",
          "data": {
            "text/plain": [
              "2"
            ]
          },
          "metadata": {},
          "execution_count": 5
        }
      ]
    },
    {
      "cell_type": "code",
      "source": [
        "print(f'spacy-version: {spacy.__version__}  || gensim-version{ gensim.__version__}')"
      ],
      "metadata": {
        "colab": {
          "base_uri": "https://localhost:8080/"
        },
        "id": "zbiWjmDsyezM",
        "outputId": "1c0d0e02-637a-46df-d16d-50b679c54bfb"
      },
      "execution_count": null,
      "outputs": [
        {
          "output_type": "stream",
          "name": "stdout",
          "text": [
            "spacy-version: 3.5.2  || gensim-version4.3.1\n"
          ]
        }
      ]
    },
    {
      "cell_type": "code",
      "source": [
        "#!python3 --version"
      ],
      "metadata": {
        "id": "A7X4CcZOyiMb"
      },
      "execution_count": null,
      "outputs": []
    },
    {
      "cell_type": "code",
      "source": [
        "if gensim.models.doc2vec.FAST_VERSION > -1:\n",
        "    print(\"Fast gensim version is being used.\")\n",
        "else:\n",
        "    print(\"Slow gensim version is being used.\")"
      ],
      "metadata": {
        "colab": {
          "base_uri": "https://localhost:8080/"
        },
        "id": "oxSr0E48ykUq",
        "outputId": "cabacb6a-2f28-47e7-c305-c34783794c58"
      },
      "execution_count": null,
      "outputs": [
        {
          "output_type": "stream",
          "name": "stdout",
          "text": [
            "Fast gensim version is being used.\n"
          ]
        }
      ]
    },
    {
      "cell_type": "code",
      "source": [
        "folder = Path(basepath)/'WordEmbeddings'"
      ],
      "metadata": {
        "id": "EGUxLc8ayoD8"
      },
      "execution_count": null,
      "outputs": []
    },
    {
      "cell_type": "code",
      "source": [
        "sys.path"
      ],
      "metadata": {
        "colab": {
          "base_uri": "https://localhost:8080/"
        },
        "id": "Qxw0_nhEy9tc",
        "outputId": "553d2791-958a-4fb6-f621-cf4d50c0fea1"
      },
      "execution_count": null,
      "outputs": [
        {
          "output_type": "execute_result",
          "data": {
            "text/plain": [
              "['/content',\n",
              " '/env/python',\n",
              " '/usr/lib/python39.zip',\n",
              " '/usr/lib/python3.9',\n",
              " '/usr/lib/python3.9/lib-dynload',\n",
              " '',\n",
              " '/usr/local/lib/python3.9/dist-packages',\n",
              " '/usr/lib/python3/dist-packages',\n",
              " '/usr/local/lib/python3.9/dist-packages/IPython/extensions',\n",
              " '/root/.ipython',\n",
              " '/content/drive/MyDrive/NLP/custom-functions']"
            ]
          },
          "metadata": {},
          "execution_count": 10
        }
      ]
    },
    {
      "cell_type": "code",
      "source": [
        "stackExchange_cleaned_text_file = folder / 'df_raw_small_hw.joblib'    #Folder path was set for accessing the file"
      ],
      "metadata": {
        "id": "vtIsTJB3zAQ7"
      },
      "execution_count": null,
      "outputs": []
    },
    {
      "cell_type": "code",
      "source": [
        "#Load the file \n",
        "stackExchange_cleaned_text = joblib.load(stackExchange_cleaned_text_file)"
      ],
      "metadata": {
        "id": "IvfD2lF58vpN"
      },
      "execution_count": null,
      "outputs": []
    },
    {
      "cell_type": "code",
      "source": [
        "type(stackExchange_cleaned_text)"
      ],
      "metadata": {
        "id": "ewEPosRLzvQh",
        "colab": {
          "base_uri": "https://localhost:8080/"
        },
        "outputId": "cb53c1aa-227a-40d2-fc55-79cfc3f346e9"
      },
      "execution_count": null,
      "outputs": [
        {
          "output_type": "execute_result",
          "data": {
            "text/plain": [
              "pandas.core.frame.DataFrame"
            ]
          },
          "metadata": {},
          "execution_count": 13
        }
      ]
    },
    {
      "cell_type": "code",
      "source": [
        "stackExchange_cleaned_text.shape"
      ],
      "metadata": {
        "colab": {
          "base_uri": "https://localhost:8080/"
        },
        "id": "Ni_lcFl96l--",
        "outputId": "b7a499fc-3763-4d78-fdd3-f64c73b8f1f2"
      },
      "execution_count": null,
      "outputs": [
        {
          "output_type": "execute_result",
          "data": {
            "text/plain": [
              "(438813, 4)"
            ]
          },
          "metadata": {},
          "execution_count": 14
        }
      ]
    },
    {
      "cell_type": "code",
      "source": [
        "stackExchange_cleaned_text.columns"
      ],
      "metadata": {
        "colab": {
          "base_uri": "https://localhost:8080/"
        },
        "id": "rDvuSEcRNVUg",
        "outputId": "eb38303a-d25f-4498-bdf3-05a4e90498fe"
      },
      "execution_count": null,
      "outputs": [
        {
          "output_type": "execute_result",
          "data": {
            "text/plain": [
              "Index(['Unnamed: 0', 'Id', 'Title', 'Body'], dtype='object')"
            ]
          },
          "metadata": {},
          "execution_count": 15
        }
      ]
    },
    {
      "cell_type": "code",
      "source": [
        "stackExchange_cleaned_text = stackExchange_cleaned_text.drop(columns=['Unnamed: 0'])"
      ],
      "metadata": {
        "id": "4JmqyEf4Sh2E"
      },
      "execution_count": null,
      "outputs": []
    },
    {
      "cell_type": "code",
      "source": [
        "stackExchange_cleaned_text.head(5)"
      ],
      "metadata": {
        "colab": {
          "base_uri": "https://localhost:8080/",
          "height": 206
        },
        "id": "R8HK8DdDNYUY",
        "outputId": "d1e874fb-b6f7-4575-942b-a7c4ff139230"
      },
      "execution_count": null,
      "outputs": [
        {
          "output_type": "execute_result",
          "data": {
            "text/plain": [
              "              Id                                              Title  \\\n",
              "3595496  7254900                      Identify un-activated servers   \n",
              "1929804  4905251  How to abort the loading of an external HTML r...   \n",
              "2513704  6173108  Xcode: how do you make it to where clicking on...   \n",
              "3794169  7453573                      Common WQL Monitoring Queries   \n",
              "4341677  8001081  Loading Native Managed and C++ DLL within IIS ...   \n",
              "\n",
              "                                                      Body  \n",
              "3595496  <p>I've been on a bit of a roll this week and ...  \n",
              "1929804  <p>I'm writing a JavaScript widget, which is i...  \n",
              "2513704  <p>I know how to make a button in Xcode with I...  \n",
              "3794169  <p>What WQL queries would you use for monitori...  \n",
              "4341677  <p>I have WCF service developed in C# for with...  "
            ],
            "text/html": [
              "\n",
              "  <div id=\"df-0baecf9f-b2b0-42c5-bc79-30997c1e315c\">\n",
              "    <div class=\"colab-df-container\">\n",
              "      <div>\n",
              "<style scoped>\n",
              "    .dataframe tbody tr th:only-of-type {\n",
              "        vertical-align: middle;\n",
              "    }\n",
              "\n",
              "    .dataframe tbody tr th {\n",
              "        vertical-align: top;\n",
              "    }\n",
              "\n",
              "    .dataframe thead th {\n",
              "        text-align: right;\n",
              "    }\n",
              "</style>\n",
              "<table border=\"1\" class=\"dataframe\">\n",
              "  <thead>\n",
              "    <tr style=\"text-align: right;\">\n",
              "      <th></th>\n",
              "      <th>Id</th>\n",
              "      <th>Title</th>\n",
              "      <th>Body</th>\n",
              "    </tr>\n",
              "  </thead>\n",
              "  <tbody>\n",
              "    <tr>\n",
              "      <th>3595496</th>\n",
              "      <td>7254900</td>\n",
              "      <td>Identify un-activated servers</td>\n",
              "      <td>&lt;p&gt;I've been on a bit of a roll this week and ...</td>\n",
              "    </tr>\n",
              "    <tr>\n",
              "      <th>1929804</th>\n",
              "      <td>4905251</td>\n",
              "      <td>How to abort the loading of an external HTML r...</td>\n",
              "      <td>&lt;p&gt;I'm writing a JavaScript widget, which is i...</td>\n",
              "    </tr>\n",
              "    <tr>\n",
              "      <th>2513704</th>\n",
              "      <td>6173108</td>\n",
              "      <td>Xcode: how do you make it to where clicking on...</td>\n",
              "      <td>&lt;p&gt;I know how to make a button in Xcode with I...</td>\n",
              "    </tr>\n",
              "    <tr>\n",
              "      <th>3794169</th>\n",
              "      <td>7453573</td>\n",
              "      <td>Common WQL Monitoring Queries</td>\n",
              "      <td>&lt;p&gt;What WQL queries would you use for monitori...</td>\n",
              "    </tr>\n",
              "    <tr>\n",
              "      <th>4341677</th>\n",
              "      <td>8001081</td>\n",
              "      <td>Loading Native Managed and C++ DLL within IIS ...</td>\n",
              "      <td>&lt;p&gt;I have WCF service developed in C# for with...</td>\n",
              "    </tr>\n",
              "  </tbody>\n",
              "</table>\n",
              "</div>\n",
              "      <button class=\"colab-df-convert\" onclick=\"convertToInteractive('df-0baecf9f-b2b0-42c5-bc79-30997c1e315c')\"\n",
              "              title=\"Convert this dataframe to an interactive table.\"\n",
              "              style=\"display:none;\">\n",
              "        \n",
              "  <svg xmlns=\"http://www.w3.org/2000/svg\" height=\"24px\"viewBox=\"0 0 24 24\"\n",
              "       width=\"24px\">\n",
              "    <path d=\"M0 0h24v24H0V0z\" fill=\"none\"/>\n",
              "    <path d=\"M18.56 5.44l.94 2.06.94-2.06 2.06-.94-2.06-.94-.94-2.06-.94 2.06-2.06.94zm-11 1L8.5 8.5l.94-2.06 2.06-.94-2.06-.94L8.5 2.5l-.94 2.06-2.06.94zm10 10l.94 2.06.94-2.06 2.06-.94-2.06-.94-.94-2.06-.94 2.06-2.06.94z\"/><path d=\"M17.41 7.96l-1.37-1.37c-.4-.4-.92-.59-1.43-.59-.52 0-1.04.2-1.43.59L10.3 9.45l-7.72 7.72c-.78.78-.78 2.05 0 2.83L4 21.41c.39.39.9.59 1.41.59.51 0 1.02-.2 1.41-.59l7.78-7.78 2.81-2.81c.8-.78.8-2.07 0-2.86zM5.41 20L4 18.59l7.72-7.72 1.47 1.35L5.41 20z\"/>\n",
              "  </svg>\n",
              "      </button>\n",
              "      \n",
              "  <style>\n",
              "    .colab-df-container {\n",
              "      display:flex;\n",
              "      flex-wrap:wrap;\n",
              "      gap: 12px;\n",
              "    }\n",
              "\n",
              "    .colab-df-convert {\n",
              "      background-color: #E8F0FE;\n",
              "      border: none;\n",
              "      border-radius: 50%;\n",
              "      cursor: pointer;\n",
              "      display: none;\n",
              "      fill: #1967D2;\n",
              "      height: 32px;\n",
              "      padding: 0 0 0 0;\n",
              "      width: 32px;\n",
              "    }\n",
              "\n",
              "    .colab-df-convert:hover {\n",
              "      background-color: #E2EBFA;\n",
              "      box-shadow: 0px 1px 2px rgba(60, 64, 67, 0.3), 0px 1px 3px 1px rgba(60, 64, 67, 0.15);\n",
              "      fill: #174EA6;\n",
              "    }\n",
              "\n",
              "    [theme=dark] .colab-df-convert {\n",
              "      background-color: #3B4455;\n",
              "      fill: #D2E3FC;\n",
              "    }\n",
              "\n",
              "    [theme=dark] .colab-df-convert:hover {\n",
              "      background-color: #434B5C;\n",
              "      box-shadow: 0px 1px 3px 1px rgba(0, 0, 0, 0.15);\n",
              "      filter: drop-shadow(0px 1px 2px rgba(0, 0, 0, 0.3));\n",
              "      fill: #FFFFFF;\n",
              "    }\n",
              "  </style>\n",
              "\n",
              "      <script>\n",
              "        const buttonEl =\n",
              "          document.querySelector('#df-0baecf9f-b2b0-42c5-bc79-30997c1e315c button.colab-df-convert');\n",
              "        buttonEl.style.display =\n",
              "          google.colab.kernel.accessAllowed ? 'block' : 'none';\n",
              "\n",
              "        async function convertToInteractive(key) {\n",
              "          const element = document.querySelector('#df-0baecf9f-b2b0-42c5-bc79-30997c1e315c');\n",
              "          const dataTable =\n",
              "            await google.colab.kernel.invokeFunction('convertToInteractive',\n",
              "                                                     [key], {});\n",
              "          if (!dataTable) return;\n",
              "\n",
              "          const docLinkHtml = 'Like what you see? Visit the ' +\n",
              "            '<a target=\"_blank\" href=https://colab.research.google.com/notebooks/data_table.ipynb>data table notebook</a>'\n",
              "            + ' to learn more about interactive tables.';\n",
              "          element.innerHTML = '';\n",
              "          dataTable['output_type'] = 'display_data';\n",
              "          await google.colab.output.renderOutput(dataTable, element);\n",
              "          const docLink = document.createElement('div');\n",
              "          docLink.innerHTML = docLinkHtml;\n",
              "          element.appendChild(docLink);\n",
              "        }\n",
              "      </script>\n",
              "    </div>\n",
              "  </div>\n",
              "  "
            ]
          },
          "metadata": {},
          "execution_count": 17
        }
      ]
    },
    {
      "cell_type": "code",
      "source": [
        "stackExchange_sentences = [text.split() for text in stackExchange_cleaned_text['Body']]\n",
        "#len(stackExchange_cleaned_text)\n",
        "#print(stackExchange_cleaned_text)\n",
        "#stackExchange_preprocess_sent = []\n",
        "#for text in stackExchange_cleaned_text['Body']:\n",
        "  #sentence = preprocess(text)\n",
        "  #stackExchange_preprocess_sent.append(sentence)"
      ],
      "metadata": {
        "id": "fooLyQ3jRq-z"
      },
      "execution_count": null,
      "outputs": []
    },
    {
      "cell_type": "code",
      "source": [
        "type(stackExchange_sentences)"
      ],
      "metadata": {
        "colab": {
          "base_uri": "https://localhost:8080/"
        },
        "id": "EIIq1Y2ualDC",
        "outputId": "f24d933b-dbfc-4a34-9664-5449c6327433"
      },
      "execution_count": null,
      "outputs": [
        {
          "output_type": "execute_result",
          "data": {
            "text/plain": [
              "list"
            ]
          },
          "metadata": {},
          "execution_count": 19
        }
      ]
    },
    {
      "cell_type": "code",
      "source": [
        "len(stackExchange_sentences)"
      ],
      "metadata": {
        "colab": {
          "base_uri": "https://localhost:8080/"
        },
        "id": "ehLS9aQJapeK",
        "outputId": "7f97e7a1-91e3-42ac-9302-c844d01b04a3"
      },
      "execution_count": null,
      "outputs": [
        {
          "output_type": "execute_result",
          "data": {
            "text/plain": [
              "438813"
            ]
          },
          "metadata": {},
          "execution_count": 20
        }
      ]
    },
    {
      "cell_type": "code",
      "source": [
        "print(stackExchange_sentences[0])"
      ],
      "metadata": {
        "colab": {
          "base_uri": "https://localhost:8080/"
        },
        "id": "2OHDx8HfavC7",
        "outputId": "3637ad53-5e64-48fb-d0d9-bce81758468f"
      },
      "execution_count": null,
      "outputs": [
        {
          "output_type": "stream",
          "name": "stdout",
          "text": [
            "[\"<p>I've\", 'been', 'on', 'a', 'bit', 'of', 'a', 'roll', 'this', 'week', 'and', 'have', 'deployed', 'around', '30', 'fresh', 'installs', 'of', 'Windows', 'Server', '2008', 'R2', 'using', 'our', 'Datacentre', 'license,', 'inside', 'a', 'VMWare', 'environment.</p>', '<p>However,', 'what', \"I've\", 'gone', 'and', 'forgotten', 'as', 'part', 'of', 'the', 'setup', 'routine', 'is', 'to', 'activate', 'the', 'servers.</p>', '<p>The', 'last', 'thing', 'I', 'want', 'is', 'next', 'month', 'to', 'find', 'out', 'that', 'our', 'clients', \"can't\", 'log', 'into', 'our', 'terminal', 'servers', 'because', \"I've\", 'forgotten', 'to', 'activate', 'them,', 'or', 'for', 'them', 'to', 'see', '\"You', 'have', 'been', 'a', 'victim', 'of', 'software', 'piracy\"', 'pop', 'up', 'on', 'their', 'desktop.</p>', '<p>Is', 'there', 'any', 'script/dirty', 'hacks', 'that', 'I', 'can', 'use', 'to', 'quickly', 'scan', 'the', 'network', 'for', 'un-activated', 'machines?', \"I'm\", 'guessing', 'it', 'will', 'probably', 'be', 'a', 'powershell', 'script', 'stuck', 'into', 'a', 'GPO,', 'but', \"that's\", 'as', 'far', 'as', 'my', 'imagination', 'can', 'take', 'me', 'at', 'the', 'moment.</p>']\n"
          ]
        }
      ]
    },
    {
      "cell_type": "code",
      "source": [
        "model_stackExchange_CBOW = Word2Vec(sentences=stackExchange_sentences,epochs=10, vector_size=300, window=10, min_count=5, workers = 32, sg=0)\n",
        "#model_stackExchange_CBOW.build_vocab(sentences=stackExchange_sentences)\n",
        "\n",
        "#model_stackExchange_CBOW.train(sentences=stackExchange_sentences, total_examples=len(stackExchange_sentences), epochs=10)\n"
      ],
      "metadata": {
        "id": "qVzP-yz-Ndtw"
      },
      "execution_count": null,
      "outputs": []
    },
    {
      "cell_type": "code",
      "source": [
        "type(model_stackExchange_CBOW)"
      ],
      "metadata": {
        "colab": {
          "base_uri": "https://localhost:8080/"
        },
        "id": "xmvzV4bYeLBL",
        "outputId": "e789f2b8-26fc-409d-9764-289897a2d3f6"
      },
      "execution_count": null,
      "outputs": [
        {
          "output_type": "execute_result",
          "data": {
            "text/plain": [
              "gensim.models.word2vec.Word2Vec"
            ]
          },
          "metadata": {},
          "execution_count": 23
        }
      ]
    },
    {
      "cell_type": "code",
      "source": [
        "model_stackExchange_CBOW.vector_size"
      ],
      "metadata": {
        "colab": {
          "base_uri": "https://localhost:8080/"
        },
        "id": "gyQqHQD7fEkr",
        "outputId": "f653f185-824c-4708-9948-3db504599380"
      },
      "execution_count": null,
      "outputs": [
        {
          "output_type": "execute_result",
          "data": {
            "text/plain": [
              "150"
            ]
          },
          "metadata": {},
          "execution_count": 24
        }
      ]
    },
    {
      "cell_type": "code",
      "source": [
        "model_stackExchange_CBOW.wv.vectors.shape  #There are 356393 unique words in the corpus and each word is represented by 150 dimensional vector"
      ],
      "metadata": {
        "colab": {
          "base_uri": "https://localhost:8080/"
        },
        "id": "xG8J6dKlfG35",
        "outputId": "5c494f21-b795-43d2-c09f-5be3cb16ac2b"
      },
      "execution_count": null,
      "outputs": [
        {
          "output_type": "execute_result",
          "data": {
            "text/plain": [
              "(356393, 150)"
            ]
          },
          "metadata": {},
          "execution_count": 25
        }
      ]
    },
    {
      "cell_type": "code",
      "source": [
        "model_stackExchange_CBOW.wv.save(str(folder/'model_stackExchange_CBOW.bin')) #Saved the file to google drive folder"
      ],
      "metadata": {
        "id": "LkdvYFViffGR"
      },
      "execution_count": null,
      "outputs": []
    },
    {
      "cell_type": "code",
      "source": [
        "model_stackExchange_CBOW_vectors = KeyedVectors.load(str(folder/'model_stackExchange_CBOW.bin'))"
      ],
      "metadata": {
        "id": "SmE-i9exRRqA"
      },
      "execution_count": null,
      "outputs": []
    },
    {
      "cell_type": "code",
      "source": [
        "try:\n",
        "  model_stackExchange_CBOW_vectors['science']\n",
        "except:\n",
        "  print(f'word science is not in vocab of model')"
      ],
      "metadata": {
        "id": "--YzX9X_Tt1Z"
      },
      "execution_count": null,
      "outputs": []
    },
    {
      "cell_type": "code",
      "source": [
        "model_stackExchange_CBOW_vectors['science']"
      ],
      "metadata": {
        "id": "NjJjZePFTyzg",
        "outputId": "b94ae02c-fb2c-425a-9175-778da65e7b5c",
        "colab": {
          "base_uri": "https://localhost:8080/"
        }
      },
      "execution_count": null,
      "outputs": [
        {
          "output_type": "execute_result",
          "data": {
            "text/plain": [
              "array([ 0.40962756,  2.6622126 ,  0.20537792,  0.87750244,  1.4648224 ,\n",
              "        0.14702705, -0.8002696 ,  1.8798313 , -1.2703792 ,  1.6898727 ,\n",
              "       -0.60029346,  2.605713  ,  0.04700831, -1.7430087 ,  1.0076667 ,\n",
              "        0.14075007,  0.02483106,  0.63657176,  1.6531366 ,  1.4334024 ,\n",
              "        0.55768216, -0.12525578,  1.4372687 ,  0.31104997, -1.0186431 ,\n",
              "        0.71017826, -1.7429302 , -1.2922642 , -1.5820191 ,  1.5602354 ,\n",
              "       -0.7226889 , -2.2022302 , -2.8540323 , -1.4683979 ,  2.256781  ,\n",
              "       -2.7449193 ,  1.0760417 ,  3.564089  ,  1.8089902 ,  1.2642685 ,\n",
              "        1.1811726 ,  1.030965  ,  1.493262  , -0.76820266,  1.2845331 ,\n",
              "       -1.2838773 ,  0.28420436, -0.28382382,  2.1914089 , -0.05275181,\n",
              "        1.9114656 ,  0.6627896 ,  0.8890082 , -1.2365764 , -0.19270048,\n",
              "       -0.95815593,  0.24627459,  2.1811895 , -0.9778044 ,  1.292354  ,\n",
              "       -3.0625806 , -0.37509164, -0.98846424, -0.46962464,  1.350784  ,\n",
              "       -0.53707457,  0.22979483, -0.17672738,  0.5801698 , -0.60888934,\n",
              "        0.03622315,  0.5849994 ,  0.0813213 ,  0.84218234,  1.8147099 ,\n",
              "       -1.0910715 , -0.7532552 , -0.40302095,  0.77804327,  0.77347827,\n",
              "       -0.90434605, -0.46041292, -2.0641103 ,  0.3223427 ,  2.2255228 ,\n",
              "       -0.84237164, -1.6149589 ,  0.7140903 ,  0.19799249, -0.9238782 ,\n",
              "        1.6582423 , -0.67786324, -0.46544978, -0.09296014,  0.13595459,\n",
              "        0.15328991,  1.4236462 ,  0.26210004, -1.1227831 , -1.1366202 ,\n",
              "       -1.5376269 ,  3.4586062 ,  0.21677965, -0.7931501 ,  1.0962104 ,\n",
              "       -0.14254948, -0.3714432 ,  1.1824955 ,  0.5046374 ,  3.4169853 ,\n",
              "       -0.11962222,  3.1057422 ,  1.470916  , -0.35238603,  1.2453345 ,\n",
              "       -0.38157162, -0.64024866, -0.18356656,  0.85514855,  0.39111117,\n",
              "        0.13975754, -0.1556706 , -0.3592924 ,  0.0510476 , -0.4364345 ,\n",
              "        0.18136728,  0.13773535,  0.40164444,  3.7498198 , -0.19267944,\n",
              "        1.4356558 ,  0.8166914 , -0.5665231 ,  1.197425  ,  1.0929221 ,\n",
              "       -0.03071078, -0.87772244,  2.1831656 ,  0.409977  ,  0.33324692,\n",
              "        1.0872586 ,  0.05105974, -1.1866987 , -0.4222851 ,  0.3011136 ,\n",
              "       -1.0374082 ,  1.4274715 , -0.8529679 , -0.21244453, -2.1025805 ],\n",
              "      dtype=float32)"
            ]
          },
          "metadata": {},
          "execution_count": 40
        }
      ]
    },
    {
      "cell_type": "code",
      "source": [
        "vocab_stackExchange_cbow=model_stackExchange_CBOW_vectors.index_to_key"
      ],
      "metadata": {
        "id": "0Ai4HG7QSCCg"
      },
      "execution_count": null,
      "outputs": []
    },
    {
      "cell_type": "code",
      "source": [
        "type(vocab_stackExchange_cbow)"
      ],
      "metadata": {
        "id": "D83COMwYSG-P",
        "outputId": "1b110b58-cec8-406b-9c61-2b2e682d719c",
        "colab": {
          "base_uri": "https://localhost:8080/"
        }
      },
      "execution_count": null,
      "outputs": [
        {
          "output_type": "execute_result",
          "data": {
            "text/plain": [
              "list"
            ]
          },
          "metadata": {},
          "execution_count": 30
        }
      ]
    },
    {
      "cell_type": "code",
      "source": [
        "vocab_stackExchange_cbow[0:5]"
      ],
      "metadata": {
        "id": "uWaFCYfbSLKY",
        "outputId": "72f87a5c-b0fd-4ed4-8e74-7f877a9eca3e",
        "colab": {
          "base_uri": "https://localhost:8080/"
        }
      },
      "execution_count": null,
      "outputs": [
        {
          "output_type": "execute_result",
          "data": {
            "text/plain": [
              "['the', 'to', 'I', 'a', '=']"
            ]
          },
          "metadata": {},
          "execution_count": 42
        }
      ]
    },
    {
      "cell_type": "code",
      "source": [
        "model_stackExchange_CBOW_vectors.most_similar('beautiful',topn=10)"
      ],
      "metadata": {
        "id": "IOvnXGkeSk2U",
        "outputId": "c8726504-8332-4150-be02-c5213a157bac",
        "colab": {
          "base_uri": "https://localhost:8080/"
        }
      },
      "execution_count": null,
      "outputs": [
        {
          "output_type": "execute_result",
          "data": {
            "text/plain": [
              "[('wonderful', 0.595547080039978),\n",
              " ('cool', 0.5950064659118652),\n",
              " ('nice', 0.5883001685142517),\n",
              " ('famous', 0.5629765391349792),\n",
              " ('slick', 0.5291317701339722),\n",
              " ('nice,', 0.512283205986023),\n",
              " ('jargon', 0.5087358951568604),\n",
              " ('fun', 0.5054478645324707),\n",
              " ('loved', 0.49093788862228394),\n",
              " ('beautiful,', 0.4891890585422516)]"
            ]
          },
          "metadata": {},
          "execution_count": 43
        }
      ]
    },
    {
      "cell_type": "code",
      "source": [
        "print(f\"similarity between airline and car is : {model_stackExchange_CBOW_vectors.similarity('slick','fun')}\")"
      ],
      "metadata": {
        "id": "uhh6AVCeSqdq",
        "outputId": "61798867-5455-4b0a-9961-11da3147d055",
        "colab": {
          "base_uri": "https://localhost:8080/"
        }
      },
      "execution_count": null,
      "outputs": [
        {
          "output_type": "stream",
          "name": "stdout",
          "text": [
            "similarity between airline and car is : 0.3545458912849426\n"
          ]
        }
      ]
    },
    {
      "cell_type": "code",
      "source": [
        "for i in  random.choices(range(1,3000),k=20):\n",
        "    print(vocab_stackExchange_cbow[i])"
      ],
      "metadata": {
        "id": "w7X1aH3PS1HZ",
        "outputId": "c1b56f3d-ae3c-4ee0-d6c0-032559a0dd9e",
        "colab": {
          "base_uri": "https://localhost:8080/"
        }
      },
      "execution_count": null,
      "outputs": [
        {
          "output_type": "stream",
          "name": "stdout",
          "text": [
            "c\n",
            "below.</p>\n",
            "question.</p>\n",
            "&lt;/ul&gt;\n",
            "e.printStackTrace();\n",
            "situation\n",
            "keep\n",
            "best\n",
            "==\n",
            "readonly\n",
            "simple\n",
            "pixels\n",
            "works.\n",
            "slide\n",
            "drive\n",
            "receives\n",
            "TABLE\n",
            "longer\n",
            "operation\n",
            "<pre><code>for\n"
          ]
        }
      ]
    },
    {
      "cell_type": "code",
      "source": [
        "model_stackExchange_CBOW_vectors.doesnt_match(['printStackTrace','woman','readonly'])"
      ],
      "metadata": {
        "id": "tGLhDtSoUc-c",
        "outputId": "25f8ff3a-890c-4d63-f18d-7cf7773dea39",
        "colab": {
          "base_uri": "https://localhost:8080/",
          "height": 35
        }
      },
      "execution_count": null,
      "outputs": [
        {
          "output_type": "execute_result",
          "data": {
            "text/plain": [
              "'woman'"
            ],
            "application/vnd.google.colaboratory.intrinsic+json": {
              "type": "string"
            }
          },
          "metadata": {},
          "execution_count": 48
        }
      ]
    }
  ]
}