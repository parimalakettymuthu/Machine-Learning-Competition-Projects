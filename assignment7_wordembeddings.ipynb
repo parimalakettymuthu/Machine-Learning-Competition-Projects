{
  "nbformat": 4,
  "nbformat_minor": 0,
  "metadata": {
    "colab": {
      "provenance": [],
      "machine_shape": "hm",
      "authorship_tag": "ABX9TyMUiF/QrKViKuGRBVqu+TjW",
      "include_colab_link": true
    },
    "kernelspec": {
      "name": "python3",
      "display_name": "Python 3"
    },
    "language_info": {
      "name": "python"
    },
    "accelerator": "GPU",
    "gpuClass": "standard"
  },
  "cells": [
    {
      "cell_type": "markdown",
      "metadata": {
        "id": "view-in-github",
        "colab_type": "text"
      },
      "source": [
        "<a href=\"https://colab.research.google.com/github/parimalakettymuthu/MachineLearning-Projects/blob/main/assignment7_wordembeddings.ipynb\" target=\"_parent\"><img src=\"https://colab.research.google.com/assets/colab-badge.svg\" alt=\"Open In Colab\"/></a>"
      ]
    },
    {
      "cell_type": "code",
      "execution_count": 1,
      "metadata": {
        "id": "HhIyzA-4uwE9"
      },
      "outputs": [],
      "source": [
        "%load_ext autoreload\n",
        "%autoreload"
      ]
    },
    {
      "cell_type": "code",
      "source": [
        "import os \n",
        "os.environ['OMP_NUM_THREADS'] = '64'"
      ],
      "metadata": {
        "id": "5Jij1BiMu9OV"
      },
      "execution_count": 2,
      "outputs": []
    },
    {
      "cell_type": "code",
      "source": [
        "import sys\n",
        "if 'google.colab' in str(get_ipython()):\n",
        "    from google.colab import drive\n",
        "    drive.mount('/content/drive')\n",
        "\n",
        "    !pip install --upgrade gensim -qq\n",
        "    !pip install -U spacy -qq\n",
        "\n",
        "\n",
        "    basepath = '/content/drive/MyDrive/NLP/assignment7'\n",
        "    sys.path.append('/content/drive/MyDrive/NLP/custom-functions')"
      ],
      "metadata": {
        "colab": {
          "base_uri": "https://localhost:8080/"
        },
        "id": "2kSiJArJvRJS",
        "outputId": "29ac82b5-774c-46b6-c528-973997a4ecfa"
      },
      "execution_count": 3,
      "outputs": [
        {
          "output_type": "stream",
          "name": "stdout",
          "text": [
            "Drive already mounted at /content/drive; to attempt to forcibly remount, call drive.mount(\"/content/drive\", force_remount=True).\n"
          ]
        }
      ]
    },
    {
      "cell_type": "code",
      "source": [
        "import random\n",
        "import spacy\n",
        "import textwrap\n",
        "import joblib\n",
        "from pathlib import Path\n",
        "import numpy as np\n",
        "import gensim\n",
        "import gensim.downloader as loader\n",
        "from gensim.models import Word2Vec\n",
        "from gensim.models import KeyedVectors\n",
        "import itertools"
      ],
      "metadata": {
        "id": "pge8O2BHvTCy"
      },
      "execution_count": 4,
      "outputs": []
    },
    {
      "cell_type": "code",
      "source": [
        "import os\n",
        "os.cpu_count()"
      ],
      "metadata": {
        "colab": {
          "base_uri": "https://localhost:8080/"
        },
        "id": "daRdPUUHybWV",
        "outputId": "d3e57524-d991-4ba7-ecfa-04a4a383bb2e"
      },
      "execution_count": 5,
      "outputs": [
        {
          "output_type": "execute_result",
          "data": {
            "text/plain": [
              "4"
            ]
          },
          "metadata": {},
          "execution_count": 5
        }
      ]
    },
    {
      "cell_type": "code",
      "source": [
        "print(f'spacy-version: {spacy.__version__}  || gensim-version{ gensim.__version__}')"
      ],
      "metadata": {
        "colab": {
          "base_uri": "https://localhost:8080/"
        },
        "id": "zbiWjmDsyezM",
        "outputId": "e19599e7-1ccf-4af6-8c94-68f434544188"
      },
      "execution_count": 6,
      "outputs": [
        {
          "output_type": "stream",
          "name": "stdout",
          "text": [
            "spacy-version: 3.5.2  || gensim-version4.3.1\n"
          ]
        }
      ]
    },
    {
      "cell_type": "code",
      "source": [
        "#!python3 --version"
      ],
      "metadata": {
        "id": "A7X4CcZOyiMb"
      },
      "execution_count": 7,
      "outputs": []
    },
    {
      "cell_type": "code",
      "source": [
        "if gensim.models.doc2vec.FAST_VERSION > -1:\n",
        "    print(\"Fast gensim version is being used.\")\n",
        "else:\n",
        "    print(\"Slow gensim version is being used.\")"
      ],
      "metadata": {
        "colab": {
          "base_uri": "https://localhost:8080/"
        },
        "id": "oxSr0E48ykUq",
        "outputId": "f7242248-3936-4b53-b761-0309bb94db0e"
      },
      "execution_count": 8,
      "outputs": [
        {
          "output_type": "stream",
          "name": "stdout",
          "text": [
            "Fast gensim version is being used.\n"
          ]
        }
      ]
    },
    {
      "cell_type": "code",
      "source": [
        "folder = Path(basepath)/'WordEmbeddings'"
      ],
      "metadata": {
        "id": "EGUxLc8ayoD8"
      },
      "execution_count": 9,
      "outputs": []
    },
    {
      "cell_type": "code",
      "source": [
        "sys.path"
      ],
      "metadata": {
        "colab": {
          "base_uri": "https://localhost:8080/"
        },
        "id": "Qxw0_nhEy9tc",
        "outputId": "3acf494d-589d-41d4-a6c4-5ed1b2551936"
      },
      "execution_count": 10,
      "outputs": [
        {
          "output_type": "execute_result",
          "data": {
            "text/plain": [
              "['/content',\n",
              " '/env/python',\n",
              " '/usr/lib/python39.zip',\n",
              " '/usr/lib/python3.9',\n",
              " '/usr/lib/python3.9/lib-dynload',\n",
              " '',\n",
              " '/usr/local/lib/python3.9/dist-packages',\n",
              " '/usr/lib/python3/dist-packages',\n",
              " '/usr/local/lib/python3.9/dist-packages/IPython/extensions',\n",
              " '/root/.ipython',\n",
              " '/content/drive/MyDrive/NLP/custom-functions']"
            ]
          },
          "metadata": {},
          "execution_count": 10
        }
      ]
    },
    {
      "cell_type": "code",
      "source": [
        "stackExchange_cleaned_text_file = folder / 'df_raw_small_hw.joblib'    #Folder path was set for accessing the file"
      ],
      "metadata": {
        "id": "vtIsTJB3zAQ7"
      },
      "execution_count": 11,
      "outputs": []
    },
    {
      "cell_type": "code",
      "source": [
        "#Load the file \n",
        "stackExchange_cleaned_text = joblib.load(stackExchange_cleaned_text_file)"
      ],
      "metadata": {
        "id": "IvfD2lF58vpN"
      },
      "execution_count": 12,
      "outputs": []
    },
    {
      "cell_type": "code",
      "source": [
        "type(stackExchange_cleaned_text)"
      ],
      "metadata": {
        "id": "ewEPosRLzvQh",
        "colab": {
          "base_uri": "https://localhost:8080/"
        },
        "outputId": "4df10599-f4b0-4015-e7fb-c34ace879b72"
      },
      "execution_count": 13,
      "outputs": [
        {
          "output_type": "execute_result",
          "data": {
            "text/plain": [
              "pandas.core.frame.DataFrame"
            ]
          },
          "metadata": {},
          "execution_count": 13
        }
      ]
    },
    {
      "cell_type": "code",
      "source": [
        "stackExchange_cleaned_text.shape"
      ],
      "metadata": {
        "colab": {
          "base_uri": "https://localhost:8080/"
        },
        "id": "Ni_lcFl96l--",
        "outputId": "0fbda37a-79ac-484d-c661-945d13f66032"
      },
      "execution_count": 14,
      "outputs": [
        {
          "output_type": "execute_result",
          "data": {
            "text/plain": [
              "(438813, 4)"
            ]
          },
          "metadata": {},
          "execution_count": 14
        }
      ]
    },
    {
      "cell_type": "code",
      "source": [
        "stackExchange_cleaned_text.columns"
      ],
      "metadata": {
        "colab": {
          "base_uri": "https://localhost:8080/"
        },
        "id": "rDvuSEcRNVUg",
        "outputId": "3f6395fb-77bf-459c-c0b0-8ed775decff2"
      },
      "execution_count": 15,
      "outputs": [
        {
          "output_type": "execute_result",
          "data": {
            "text/plain": [
              "Index(['Unnamed: 0', 'Id', 'Title', 'Body'], dtype='object')"
            ]
          },
          "metadata": {},
          "execution_count": 15
        }
      ]
    },
    {
      "cell_type": "code",
      "source": [
        "stackExchange_cleaned_text = stackExchange_cleaned_text.drop(columns=['Unnamed: 0'])"
      ],
      "metadata": {
        "id": "4JmqyEf4Sh2E"
      },
      "execution_count": 16,
      "outputs": []
    },
    {
      "cell_type": "code",
      "source": [
        "stackExchange_cleaned_text.head(5)"
      ],
      "metadata": {
        "colab": {
          "base_uri": "https://localhost:8080/",
          "height": 206
        },
        "id": "R8HK8DdDNYUY",
        "outputId": "01e2063a-2b21-4bc0-c47d-267a7c87d989"
      },
      "execution_count": 17,
      "outputs": [
        {
          "output_type": "execute_result",
          "data": {
            "text/plain": [
              "              Id                                              Title  \\\n",
              "3595496  7254900                      Identify un-activated servers   \n",
              "1929804  4905251  How to abort the loading of an external HTML r...   \n",
              "2513704  6173108  Xcode: how do you make it to where clicking on...   \n",
              "3794169  7453573                      Common WQL Monitoring Queries   \n",
              "4341677  8001081  Loading Native Managed and C++ DLL within IIS ...   \n",
              "\n",
              "                                                      Body  \n",
              "3595496  <p>I've been on a bit of a roll this week and ...  \n",
              "1929804  <p>I'm writing a JavaScript widget, which is i...  \n",
              "2513704  <p>I know how to make a button in Xcode with I...  \n",
              "3794169  <p>What WQL queries would you use for monitori...  \n",
              "4341677  <p>I have WCF service developed in C# for with...  "
            ],
            "text/html": [
              "\n",
              "  <div id=\"df-e6989e76-ce15-4755-a391-3a09b92924fc\">\n",
              "    <div class=\"colab-df-container\">\n",
              "      <div>\n",
              "<style scoped>\n",
              "    .dataframe tbody tr th:only-of-type {\n",
              "        vertical-align: middle;\n",
              "    }\n",
              "\n",
              "    .dataframe tbody tr th {\n",
              "        vertical-align: top;\n",
              "    }\n",
              "\n",
              "    .dataframe thead th {\n",
              "        text-align: right;\n",
              "    }\n",
              "</style>\n",
              "<table border=\"1\" class=\"dataframe\">\n",
              "  <thead>\n",
              "    <tr style=\"text-align: right;\">\n",
              "      <th></th>\n",
              "      <th>Id</th>\n",
              "      <th>Title</th>\n",
              "      <th>Body</th>\n",
              "    </tr>\n",
              "  </thead>\n",
              "  <tbody>\n",
              "    <tr>\n",
              "      <th>3595496</th>\n",
              "      <td>7254900</td>\n",
              "      <td>Identify un-activated servers</td>\n",
              "      <td>&lt;p&gt;I've been on a bit of a roll this week and ...</td>\n",
              "    </tr>\n",
              "    <tr>\n",
              "      <th>1929804</th>\n",
              "      <td>4905251</td>\n",
              "      <td>How to abort the loading of an external HTML r...</td>\n",
              "      <td>&lt;p&gt;I'm writing a JavaScript widget, which is i...</td>\n",
              "    </tr>\n",
              "    <tr>\n",
              "      <th>2513704</th>\n",
              "      <td>6173108</td>\n",
              "      <td>Xcode: how do you make it to where clicking on...</td>\n",
              "      <td>&lt;p&gt;I know how to make a button in Xcode with I...</td>\n",
              "    </tr>\n",
              "    <tr>\n",
              "      <th>3794169</th>\n",
              "      <td>7453573</td>\n",
              "      <td>Common WQL Monitoring Queries</td>\n",
              "      <td>&lt;p&gt;What WQL queries would you use for monitori...</td>\n",
              "    </tr>\n",
              "    <tr>\n",
              "      <th>4341677</th>\n",
              "      <td>8001081</td>\n",
              "      <td>Loading Native Managed and C++ DLL within IIS ...</td>\n",
              "      <td>&lt;p&gt;I have WCF service developed in C# for with...</td>\n",
              "    </tr>\n",
              "  </tbody>\n",
              "</table>\n",
              "</div>\n",
              "      <button class=\"colab-df-convert\" onclick=\"convertToInteractive('df-e6989e76-ce15-4755-a391-3a09b92924fc')\"\n",
              "              title=\"Convert this dataframe to an interactive table.\"\n",
              "              style=\"display:none;\">\n",
              "        \n",
              "  <svg xmlns=\"http://www.w3.org/2000/svg\" height=\"24px\"viewBox=\"0 0 24 24\"\n",
              "       width=\"24px\">\n",
              "    <path d=\"M0 0h24v24H0V0z\" fill=\"none\"/>\n",
              "    <path d=\"M18.56 5.44l.94 2.06.94-2.06 2.06-.94-2.06-.94-.94-2.06-.94 2.06-2.06.94zm-11 1L8.5 8.5l.94-2.06 2.06-.94-2.06-.94L8.5 2.5l-.94 2.06-2.06.94zm10 10l.94 2.06.94-2.06 2.06-.94-2.06-.94-.94-2.06-.94 2.06-2.06.94z\"/><path d=\"M17.41 7.96l-1.37-1.37c-.4-.4-.92-.59-1.43-.59-.52 0-1.04.2-1.43.59L10.3 9.45l-7.72 7.72c-.78.78-.78 2.05 0 2.83L4 21.41c.39.39.9.59 1.41.59.51 0 1.02-.2 1.41-.59l7.78-7.78 2.81-2.81c.8-.78.8-2.07 0-2.86zM5.41 20L4 18.59l7.72-7.72 1.47 1.35L5.41 20z\"/>\n",
              "  </svg>\n",
              "      </button>\n",
              "      \n",
              "  <style>\n",
              "    .colab-df-container {\n",
              "      display:flex;\n",
              "      flex-wrap:wrap;\n",
              "      gap: 12px;\n",
              "    }\n",
              "\n",
              "    .colab-df-convert {\n",
              "      background-color: #E8F0FE;\n",
              "      border: none;\n",
              "      border-radius: 50%;\n",
              "      cursor: pointer;\n",
              "      display: none;\n",
              "      fill: #1967D2;\n",
              "      height: 32px;\n",
              "      padding: 0 0 0 0;\n",
              "      width: 32px;\n",
              "    }\n",
              "\n",
              "    .colab-df-convert:hover {\n",
              "      background-color: #E2EBFA;\n",
              "      box-shadow: 0px 1px 2px rgba(60, 64, 67, 0.3), 0px 1px 3px 1px rgba(60, 64, 67, 0.15);\n",
              "      fill: #174EA6;\n",
              "    }\n",
              "\n",
              "    [theme=dark] .colab-df-convert {\n",
              "      background-color: #3B4455;\n",
              "      fill: #D2E3FC;\n",
              "    }\n",
              "\n",
              "    [theme=dark] .colab-df-convert:hover {\n",
              "      background-color: #434B5C;\n",
              "      box-shadow: 0px 1px 3px 1px rgba(0, 0, 0, 0.15);\n",
              "      filter: drop-shadow(0px 1px 2px rgba(0, 0, 0, 0.3));\n",
              "      fill: #FFFFFF;\n",
              "    }\n",
              "  </style>\n",
              "\n",
              "      <script>\n",
              "        const buttonEl =\n",
              "          document.querySelector('#df-e6989e76-ce15-4755-a391-3a09b92924fc button.colab-df-convert');\n",
              "        buttonEl.style.display =\n",
              "          google.colab.kernel.accessAllowed ? 'block' : 'none';\n",
              "\n",
              "        async function convertToInteractive(key) {\n",
              "          const element = document.querySelector('#df-e6989e76-ce15-4755-a391-3a09b92924fc');\n",
              "          const dataTable =\n",
              "            await google.colab.kernel.invokeFunction('convertToInteractive',\n",
              "                                                     [key], {});\n",
              "          if (!dataTable) return;\n",
              "\n",
              "          const docLinkHtml = 'Like what you see? Visit the ' +\n",
              "            '<a target=\"_blank\" href=https://colab.research.google.com/notebooks/data_table.ipynb>data table notebook</a>'\n",
              "            + ' to learn more about interactive tables.';\n",
              "          element.innerHTML = '';\n",
              "          dataTable['output_type'] = 'display_data';\n",
              "          await google.colab.output.renderOutput(dataTable, element);\n",
              "          const docLink = document.createElement('div');\n",
              "          docLink.innerHTML = docLinkHtml;\n",
              "          element.appendChild(docLink);\n",
              "        }\n",
              "      </script>\n",
              "    </div>\n",
              "  </div>\n",
              "  "
            ]
          },
          "metadata": {},
          "execution_count": 17
        }
      ]
    },
    {
      "cell_type": "code",
      "source": [
        "stackExchange_sentences = [text.split() for text in stackExchange_cleaned_text['Body']]\n",
        "#len(stackExchange_cleaned_text)\n",
        "#print(stackExchange_cleaned_text)\n",
        "#stackExchange_preprocess_sent = []\n",
        "#for text in stackExchange_cleaned_text['Body']:\n",
        "  #sentence = preprocess(text)\n",
        "  #stackExchange_preprocess_sent.append(sentence)"
      ],
      "metadata": {
        "id": "fooLyQ3jRq-z"
      },
      "execution_count": 18,
      "outputs": []
    },
    {
      "cell_type": "code",
      "source": [
        "type(stackExchange_sentences)"
      ],
      "metadata": {
        "id": "EIIq1Y2ualDC",
        "outputId": "99b23cb8-dc45-4905-da5a-daccd2fcc5aa",
        "colab": {
          "base_uri": "https://localhost:8080/"
        }
      },
      "execution_count": 19,
      "outputs": [
        {
          "output_type": "execute_result",
          "data": {
            "text/plain": [
              "list"
            ]
          },
          "metadata": {},
          "execution_count": 19
        }
      ]
    },
    {
      "cell_type": "code",
      "source": [
        "len(stackExchange_sentences)"
      ],
      "metadata": {
        "id": "ehLS9aQJapeK",
        "outputId": "dabefb54-766f-4db4-e50b-ffcddac56c85",
        "colab": {
          "base_uri": "https://localhost:8080/"
        }
      },
      "execution_count": 20,
      "outputs": [
        {
          "output_type": "execute_result",
          "data": {
            "text/plain": [
              "438813"
            ]
          },
          "metadata": {},
          "execution_count": 20
        }
      ]
    },
    {
      "cell_type": "code",
      "source": [
        "print(stackExchange_sentences[0])"
      ],
      "metadata": {
        "id": "2OHDx8HfavC7",
        "outputId": "a52e5577-c346-420b-e419-64113325c5dc",
        "colab": {
          "base_uri": "https://localhost:8080/"
        }
      },
      "execution_count": 21,
      "outputs": [
        {
          "output_type": "stream",
          "name": "stdout",
          "text": [
            "[\"<p>I've\", 'been', 'on', 'a', 'bit', 'of', 'a', 'roll', 'this', 'week', 'and', 'have', 'deployed', 'around', '30', 'fresh', 'installs', 'of', 'Windows', 'Server', '2008', 'R2', 'using', 'our', 'Datacentre', 'license,', 'inside', 'a', 'VMWare', 'environment.</p>', '<p>However,', 'what', \"I've\", 'gone', 'and', 'forgotten', 'as', 'part', 'of', 'the', 'setup', 'routine', 'is', 'to', 'activate', 'the', 'servers.</p>', '<p>The', 'last', 'thing', 'I', 'want', 'is', 'next', 'month', 'to', 'find', 'out', 'that', 'our', 'clients', \"can't\", 'log', 'into', 'our', 'terminal', 'servers', 'because', \"I've\", 'forgotten', 'to', 'activate', 'them,', 'or', 'for', 'them', 'to', 'see', '\"You', 'have', 'been', 'a', 'victim', 'of', 'software', 'piracy\"', 'pop', 'up', 'on', 'their', 'desktop.</p>', '<p>Is', 'there', 'any', 'script/dirty', 'hacks', 'that', 'I', 'can', 'use', 'to', 'quickly', 'scan', 'the', 'network', 'for', 'un-activated', 'machines?', \"I'm\", 'guessing', 'it', 'will', 'probably', 'be', 'a', 'powershell', 'script', 'stuck', 'into', 'a', 'GPO,', 'but', \"that's\", 'as', 'far', 'as', 'my', 'imagination', 'can', 'take', 'me', 'at', 'the', 'moment.</p>']\n"
          ]
        }
      ]
    },
    {
      "cell_type": "code",
      "source": [
        "model_stackExchange_CBOW = Word2Vec(sentences=stackExchange_sentences,epochs=10, vector_size=150, window=10, min_count=5, workers = 32, sg=0)\n",
        "#model_stackExchange_CBOW.build_vocab(sentences=stackExchange_sentences)\n",
        "\n",
        "#model_stackExchange_CBOW.train(sentences=stackExchange_sentences, total_examples=len(stackExchange_sentences), epochs=10)\n"
      ],
      "metadata": {
        "id": "qVzP-yz-Ndtw"
      },
      "execution_count": 22,
      "outputs": []
    },
    {
      "cell_type": "code",
      "source": [
        "type(model_stackExchange_CBOW)"
      ],
      "metadata": {
        "id": "xmvzV4bYeLBL",
        "outputId": "e2754903-6223-4781-b5ad-c0a84c484dab",
        "colab": {
          "base_uri": "https://localhost:8080/"
        }
      },
      "execution_count": 23,
      "outputs": [
        {
          "output_type": "execute_result",
          "data": {
            "text/plain": [
              "gensim.models.word2vec.Word2Vec"
            ]
          },
          "metadata": {},
          "execution_count": 23
        }
      ]
    },
    {
      "cell_type": "code",
      "source": [
        "model_stackExchange_CBOW.vector_size"
      ],
      "metadata": {
        "id": "gyQqHQD7fEkr",
        "outputId": "5f1f9d0a-d510-407c-ec98-d74a66489f9a",
        "colab": {
          "base_uri": "https://localhost:8080/"
        }
      },
      "execution_count": 25,
      "outputs": [
        {
          "output_type": "execute_result",
          "data": {
            "text/plain": [
              "150"
            ]
          },
          "metadata": {},
          "execution_count": 25
        }
      ]
    },
    {
      "cell_type": "code",
      "source": [
        "model_stackExchange_CBOW.wv.vectors.shape  #There are 356393 unique words in the corpus and each word is represented by 150 dimensional vector"
      ],
      "metadata": {
        "id": "xG8J6dKlfG35",
        "outputId": "a7a7d277-c361-450d-b15d-6d3f6319151e",
        "colab": {
          "base_uri": "https://localhost:8080/"
        }
      },
      "execution_count": 26,
      "outputs": [
        {
          "output_type": "execute_result",
          "data": {
            "text/plain": [
              "(356393, 150)"
            ]
          },
          "metadata": {},
          "execution_count": 26
        }
      ]
    },
    {
      "cell_type": "code",
      "source": [
        "model_stackExchange_CBOW.wv.save(str(folder/'model_stackExchange_CBOW.bin'))"
      ],
      "metadata": {
        "id": "LkdvYFViffGR"
      },
      "execution_count": 27,
      "outputs": []
    }
  ]
}