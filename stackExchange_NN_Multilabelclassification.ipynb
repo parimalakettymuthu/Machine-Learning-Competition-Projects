{
  "nbformat": 4,
  "nbformat_minor": 0,
  "metadata": {
    "colab": {
      "provenance": [],
      "machine_shape": "hm",
      "authorship_tag": "ABX9TyP7xhrBb0EK3VKQ1VXSqUJv",
      "include_colab_link": true
    },
    "kernelspec": {
      "name": "python3",
      "display_name": "Python 3"
    },
    "language_info": {
      "name": "python"
    },
    "accelerator": "GPU",
    "gpuClass": "premium",
    "widgets": {
      "application/vnd.jupyter.widget-state+json": {
        "07b94c9353b14236804d3be2cc92223d": {
          "model_module": "@jupyter-widgets/controls",
          "model_name": "HBoxModel",
          "model_module_version": "1.5.0",
          "state": {
            "_dom_classes": [],
            "_model_module": "@jupyter-widgets/controls",
            "_model_module_version": "1.5.0",
            "_model_name": "HBoxModel",
            "_view_count": null,
            "_view_module": "@jupyter-widgets/controls",
            "_view_module_version": "1.5.0",
            "_view_name": "HBoxView",
            "box_style": "",
            "children": [
              "IPY_MODEL_8b4a7b354d1a4f9d9458cd896f3ca196",
              "IPY_MODEL_a19f68e20ede4ca7bf7d5f6fb1a0e16b",
              "IPY_MODEL_09a16cccb314410297d3f15e32ee916f"
            ],
            "layout": "IPY_MODEL_d2658f838767407b8c3339e089c3a8ac"
          }
        },
        "8b4a7b354d1a4f9d9458cd896f3ca196": {
          "model_module": "@jupyter-widgets/controls",
          "model_name": "HTMLModel",
          "model_module_version": "1.5.0",
          "state": {
            "_dom_classes": [],
            "_model_module": "@jupyter-widgets/controls",
            "_model_module_version": "1.5.0",
            "_model_name": "HTMLModel",
            "_view_count": null,
            "_view_module": "@jupyter-widgets/controls",
            "_view_module_version": "1.5.0",
            "_view_name": "HTMLView",
            "description": "",
            "description_tooltip": null,
            "layout": "IPY_MODEL_77d232d9c2634b28a85a5577b297e81f",
            "placeholder": "​",
            "style": "IPY_MODEL_d5482734578649d6aabc2a66733fca4e",
            "value": "Pandas Apply: 100%"
          }
        },
        "a19f68e20ede4ca7bf7d5f6fb1a0e16b": {
          "model_module": "@jupyter-widgets/controls",
          "model_name": "FloatProgressModel",
          "model_module_version": "1.5.0",
          "state": {
            "_dom_classes": [],
            "_model_module": "@jupyter-widgets/controls",
            "_model_module_version": "1.5.0",
            "_model_name": "FloatProgressModel",
            "_view_count": null,
            "_view_module": "@jupyter-widgets/controls",
            "_view_module_version": "1.5.0",
            "_view_name": "ProgressView",
            "bar_style": "success",
            "description": "",
            "description_tooltip": null,
            "layout": "IPY_MODEL_c3e0b9c1396b4c8293f938816e5aad93",
            "max": 47427,
            "min": 0,
            "orientation": "horizontal",
            "style": "IPY_MODEL_352fbcc7d9dc40e892e6daeefc024a32",
            "value": 47427
          }
        },
        "09a16cccb314410297d3f15e32ee916f": {
          "model_module": "@jupyter-widgets/controls",
          "model_name": "HTMLModel",
          "model_module_version": "1.5.0",
          "state": {
            "_dom_classes": [],
            "_model_module": "@jupyter-widgets/controls",
            "_model_module_version": "1.5.0",
            "_model_name": "HTMLModel",
            "_view_count": null,
            "_view_module": "@jupyter-widgets/controls",
            "_view_module_version": "1.5.0",
            "_view_name": "HTMLView",
            "description": "",
            "description_tooltip": null,
            "layout": "IPY_MODEL_30313ff2420e48f0883e7e6570e4cbcc",
            "placeholder": "​",
            "style": "IPY_MODEL_8c922aee73304b779defeb1e4aea47e3",
            "value": " 47427/47427 [00:00&lt;00:00, 97933.73it/s]"
          }
        },
        "d2658f838767407b8c3339e089c3a8ac": {
          "model_module": "@jupyter-widgets/base",
          "model_name": "LayoutModel",
          "model_module_version": "1.2.0",
          "state": {
            "_model_module": "@jupyter-widgets/base",
            "_model_module_version": "1.2.0",
            "_model_name": "LayoutModel",
            "_view_count": null,
            "_view_module": "@jupyter-widgets/base",
            "_view_module_version": "1.2.0",
            "_view_name": "LayoutView",
            "align_content": null,
            "align_items": null,
            "align_self": null,
            "border": null,
            "bottom": null,
            "display": null,
            "flex": null,
            "flex_flow": null,
            "grid_area": null,
            "grid_auto_columns": null,
            "grid_auto_flow": null,
            "grid_auto_rows": null,
            "grid_column": null,
            "grid_gap": null,
            "grid_row": null,
            "grid_template_areas": null,
            "grid_template_columns": null,
            "grid_template_rows": null,
            "height": null,
            "justify_content": null,
            "justify_items": null,
            "left": null,
            "margin": null,
            "max_height": null,
            "max_width": null,
            "min_height": null,
            "min_width": null,
            "object_fit": null,
            "object_position": null,
            "order": null,
            "overflow": null,
            "overflow_x": null,
            "overflow_y": null,
            "padding": null,
            "right": null,
            "top": null,
            "visibility": null,
            "width": null
          }
        },
        "77d232d9c2634b28a85a5577b297e81f": {
          "model_module": "@jupyter-widgets/base",
          "model_name": "LayoutModel",
          "model_module_version": "1.2.0",
          "state": {
            "_model_module": "@jupyter-widgets/base",
            "_model_module_version": "1.2.0",
            "_model_name": "LayoutModel",
            "_view_count": null,
            "_view_module": "@jupyter-widgets/base",
            "_view_module_version": "1.2.0",
            "_view_name": "LayoutView",
            "align_content": null,
            "align_items": null,
            "align_self": null,
            "border": null,
            "bottom": null,
            "display": null,
            "flex": null,
            "flex_flow": null,
            "grid_area": null,
            "grid_auto_columns": null,
            "grid_auto_flow": null,
            "grid_auto_rows": null,
            "grid_column": null,
            "grid_gap": null,
            "grid_row": null,
            "grid_template_areas": null,
            "grid_template_columns": null,
            "grid_template_rows": null,
            "height": null,
            "justify_content": null,
            "justify_items": null,
            "left": null,
            "margin": null,
            "max_height": null,
            "max_width": null,
            "min_height": null,
            "min_width": null,
            "object_fit": null,
            "object_position": null,
            "order": null,
            "overflow": null,
            "overflow_x": null,
            "overflow_y": null,
            "padding": null,
            "right": null,
            "top": null,
            "visibility": null,
            "width": null
          }
        },
        "d5482734578649d6aabc2a66733fca4e": {
          "model_module": "@jupyter-widgets/controls",
          "model_name": "DescriptionStyleModel",
          "model_module_version": "1.5.0",
          "state": {
            "_model_module": "@jupyter-widgets/controls",
            "_model_module_version": "1.5.0",
            "_model_name": "DescriptionStyleModel",
            "_view_count": null,
            "_view_module": "@jupyter-widgets/base",
            "_view_module_version": "1.2.0",
            "_view_name": "StyleView",
            "description_width": ""
          }
        },
        "c3e0b9c1396b4c8293f938816e5aad93": {
          "model_module": "@jupyter-widgets/base",
          "model_name": "LayoutModel",
          "model_module_version": "1.2.0",
          "state": {
            "_model_module": "@jupyter-widgets/base",
            "_model_module_version": "1.2.0",
            "_model_name": "LayoutModel",
            "_view_count": null,
            "_view_module": "@jupyter-widgets/base",
            "_view_module_version": "1.2.0",
            "_view_name": "LayoutView",
            "align_content": null,
            "align_items": null,
            "align_self": null,
            "border": null,
            "bottom": null,
            "display": null,
            "flex": null,
            "flex_flow": null,
            "grid_area": null,
            "grid_auto_columns": null,
            "grid_auto_flow": null,
            "grid_auto_rows": null,
            "grid_column": null,
            "grid_gap": null,
            "grid_row": null,
            "grid_template_areas": null,
            "grid_template_columns": null,
            "grid_template_rows": null,
            "height": null,
            "justify_content": null,
            "justify_items": null,
            "left": null,
            "margin": null,
            "max_height": null,
            "max_width": null,
            "min_height": null,
            "min_width": null,
            "object_fit": null,
            "object_position": null,
            "order": null,
            "overflow": null,
            "overflow_x": null,
            "overflow_y": null,
            "padding": null,
            "right": null,
            "top": null,
            "visibility": null,
            "width": null
          }
        },
        "352fbcc7d9dc40e892e6daeefc024a32": {
          "model_module": "@jupyter-widgets/controls",
          "model_name": "ProgressStyleModel",
          "model_module_version": "1.5.0",
          "state": {
            "_model_module": "@jupyter-widgets/controls",
            "_model_module_version": "1.5.0",
            "_model_name": "ProgressStyleModel",
            "_view_count": null,
            "_view_module": "@jupyter-widgets/base",
            "_view_module_version": "1.2.0",
            "_view_name": "StyleView",
            "bar_color": null,
            "description_width": ""
          }
        },
        "30313ff2420e48f0883e7e6570e4cbcc": {
          "model_module": "@jupyter-widgets/base",
          "model_name": "LayoutModel",
          "model_module_version": "1.2.0",
          "state": {
            "_model_module": "@jupyter-widgets/base",
            "_model_module_version": "1.2.0",
            "_model_name": "LayoutModel",
            "_view_count": null,
            "_view_module": "@jupyter-widgets/base",
            "_view_module_version": "1.2.0",
            "_view_name": "LayoutView",
            "align_content": null,
            "align_items": null,
            "align_self": null,
            "border": null,
            "bottom": null,
            "display": null,
            "flex": null,
            "flex_flow": null,
            "grid_area": null,
            "grid_auto_columns": null,
            "grid_auto_flow": null,
            "grid_auto_rows": null,
            "grid_column": null,
            "grid_gap": null,
            "grid_row": null,
            "grid_template_areas": null,
            "grid_template_columns": null,
            "grid_template_rows": null,
            "height": null,
            "justify_content": null,
            "justify_items": null,
            "left": null,
            "margin": null,
            "max_height": null,
            "max_width": null,
            "min_height": null,
            "min_width": null,
            "object_fit": null,
            "object_position": null,
            "order": null,
            "overflow": null,
            "overflow_x": null,
            "overflow_y": null,
            "padding": null,
            "right": null,
            "top": null,
            "visibility": null,
            "width": null
          }
        },
        "8c922aee73304b779defeb1e4aea47e3": {
          "model_module": "@jupyter-widgets/controls",
          "model_name": "DescriptionStyleModel",
          "model_module_version": "1.5.0",
          "state": {
            "_model_module": "@jupyter-widgets/controls",
            "_model_module_version": "1.5.0",
            "_model_name": "DescriptionStyleModel",
            "_view_count": null,
            "_view_module": "@jupyter-widgets/base",
            "_view_module_version": "1.2.0",
            "_view_name": "StyleView",
            "description_width": ""
          }
        },
        "0c5643d94cce43cbb7feba1e3cee609f": {
          "model_module": "@jupyter-widgets/controls",
          "model_name": "HBoxModel",
          "model_module_version": "1.5.0",
          "state": {
            "_dom_classes": [],
            "_model_module": "@jupyter-widgets/controls",
            "_model_module_version": "1.5.0",
            "_model_name": "HBoxModel",
            "_view_count": null,
            "_view_module": "@jupyter-widgets/controls",
            "_view_module_version": "1.5.0",
            "_view_name": "HBoxView",
            "box_style": "",
            "children": [
              "IPY_MODEL_78e34bc8fca04daabc1d6f927cd89e69",
              "IPY_MODEL_5472d6ca942041a0b02632624a591480",
              "IPY_MODEL_0570b63a73214e3f947fb97dabb2ded3"
            ],
            "layout": "IPY_MODEL_92c72ac0303146f2b0e501a5a6ac2fe0"
          }
        },
        "78e34bc8fca04daabc1d6f927cd89e69": {
          "model_module": "@jupyter-widgets/controls",
          "model_name": "HTMLModel",
          "model_module_version": "1.5.0",
          "state": {
            "_dom_classes": [],
            "_model_module": "@jupyter-widgets/controls",
            "_model_module_version": "1.5.0",
            "_model_name": "HTMLModel",
            "_view_count": null,
            "_view_module": "@jupyter-widgets/controls",
            "_view_module_version": "1.5.0",
            "_view_name": "HTMLView",
            "description": "",
            "description_tooltip": null,
            "layout": "IPY_MODEL_95bf2c81676f4a0daca4089ecd0d93df",
            "placeholder": "​",
            "style": "IPY_MODEL_f202673476ed48b39308ff149a4ed7a4",
            "value": " 73%"
          }
        },
        "5472d6ca942041a0b02632624a591480": {
          "model_module": "@jupyter-widgets/controls",
          "model_name": "FloatProgressModel",
          "model_module_version": "1.5.0",
          "state": {
            "_dom_classes": [],
            "_model_module": "@jupyter-widgets/controls",
            "_model_module_version": "1.5.0",
            "_model_name": "FloatProgressModel",
            "_view_count": null,
            "_view_module": "@jupyter-widgets/controls",
            "_view_module_version": "1.5.0",
            "_view_name": "ProgressView",
            "bar_style": "danger",
            "description": "",
            "description_tooltip": null,
            "layout": "IPY_MODEL_bb8a307d5cf44db494ef24b327dfb512",
            "max": 100,
            "min": 0,
            "orientation": "horizontal",
            "style": "IPY_MODEL_418511d8ed4042f6acc630e4415da4dd",
            "value": 73
          }
        },
        "0570b63a73214e3f947fb97dabb2ded3": {
          "model_module": "@jupyter-widgets/controls",
          "model_name": "HTMLModel",
          "model_module_version": "1.5.0",
          "state": {
            "_dom_classes": [],
            "_model_module": "@jupyter-widgets/controls",
            "_model_module_version": "1.5.0",
            "_model_name": "HTMLModel",
            "_view_count": null,
            "_view_module": "@jupyter-widgets/controls",
            "_view_module_version": "1.5.0",
            "_view_name": "HTMLView",
            "description": "",
            "description_tooltip": null,
            "layout": "IPY_MODEL_bdcd1aa19b434ebfa335253d6a6c243e",
            "placeholder": "​",
            "style": "IPY_MODEL_1025434271c3470cb99a5bd6187a78b5",
            "value": " 73/100 [00:01&lt;00:00, 80.58it/s]"
          }
        },
        "92c72ac0303146f2b0e501a5a6ac2fe0": {
          "model_module": "@jupyter-widgets/base",
          "model_name": "LayoutModel",
          "model_module_version": "1.2.0",
          "state": {
            "_model_module": "@jupyter-widgets/base",
            "_model_module_version": "1.2.0",
            "_model_name": "LayoutModel",
            "_view_count": null,
            "_view_module": "@jupyter-widgets/base",
            "_view_module_version": "1.2.0",
            "_view_name": "LayoutView",
            "align_content": null,
            "align_items": null,
            "align_self": null,
            "border": null,
            "bottom": null,
            "display": null,
            "flex": null,
            "flex_flow": null,
            "grid_area": null,
            "grid_auto_columns": null,
            "grid_auto_flow": null,
            "grid_auto_rows": null,
            "grid_column": null,
            "grid_gap": null,
            "grid_row": null,
            "grid_template_areas": null,
            "grid_template_columns": null,
            "grid_template_rows": null,
            "height": null,
            "justify_content": null,
            "justify_items": null,
            "left": null,
            "margin": null,
            "max_height": null,
            "max_width": null,
            "min_height": null,
            "min_width": null,
            "object_fit": null,
            "object_position": null,
            "order": null,
            "overflow": null,
            "overflow_x": null,
            "overflow_y": null,
            "padding": null,
            "right": null,
            "top": null,
            "visibility": null,
            "width": null
          }
        },
        "95bf2c81676f4a0daca4089ecd0d93df": {
          "model_module": "@jupyter-widgets/base",
          "model_name": "LayoutModel",
          "model_module_version": "1.2.0",
          "state": {
            "_model_module": "@jupyter-widgets/base",
            "_model_module_version": "1.2.0",
            "_model_name": "LayoutModel",
            "_view_count": null,
            "_view_module": "@jupyter-widgets/base",
            "_view_module_version": "1.2.0",
            "_view_name": "LayoutView",
            "align_content": null,
            "align_items": null,
            "align_self": null,
            "border": null,
            "bottom": null,
            "display": null,
            "flex": null,
            "flex_flow": null,
            "grid_area": null,
            "grid_auto_columns": null,
            "grid_auto_flow": null,
            "grid_auto_rows": null,
            "grid_column": null,
            "grid_gap": null,
            "grid_row": null,
            "grid_template_areas": null,
            "grid_template_columns": null,
            "grid_template_rows": null,
            "height": null,
            "justify_content": null,
            "justify_items": null,
            "left": null,
            "margin": null,
            "max_height": null,
            "max_width": null,
            "min_height": null,
            "min_width": null,
            "object_fit": null,
            "object_position": null,
            "order": null,
            "overflow": null,
            "overflow_x": null,
            "overflow_y": null,
            "padding": null,
            "right": null,
            "top": null,
            "visibility": null,
            "width": null
          }
        },
        "f202673476ed48b39308ff149a4ed7a4": {
          "model_module": "@jupyter-widgets/controls",
          "model_name": "DescriptionStyleModel",
          "model_module_version": "1.5.0",
          "state": {
            "_model_module": "@jupyter-widgets/controls",
            "_model_module_version": "1.5.0",
            "_model_name": "DescriptionStyleModel",
            "_view_count": null,
            "_view_module": "@jupyter-widgets/base",
            "_view_module_version": "1.2.0",
            "_view_name": "StyleView",
            "description_width": ""
          }
        },
        "bb8a307d5cf44db494ef24b327dfb512": {
          "model_module": "@jupyter-widgets/base",
          "model_name": "LayoutModel",
          "model_module_version": "1.2.0",
          "state": {
            "_model_module": "@jupyter-widgets/base",
            "_model_module_version": "1.2.0",
            "_model_name": "LayoutModel",
            "_view_count": null,
            "_view_module": "@jupyter-widgets/base",
            "_view_module_version": "1.2.0",
            "_view_name": "LayoutView",
            "align_content": null,
            "align_items": null,
            "align_self": null,
            "border": null,
            "bottom": null,
            "display": null,
            "flex": null,
            "flex_flow": null,
            "grid_area": null,
            "grid_auto_columns": null,
            "grid_auto_flow": null,
            "grid_auto_rows": null,
            "grid_column": null,
            "grid_gap": null,
            "grid_row": null,
            "grid_template_areas": null,
            "grid_template_columns": null,
            "grid_template_rows": null,
            "height": null,
            "justify_content": null,
            "justify_items": null,
            "left": null,
            "margin": null,
            "max_height": null,
            "max_width": null,
            "min_height": null,
            "min_width": null,
            "object_fit": null,
            "object_position": null,
            "order": null,
            "overflow": null,
            "overflow_x": null,
            "overflow_y": null,
            "padding": null,
            "right": null,
            "top": null,
            "visibility": null,
            "width": null
          }
        },
        "418511d8ed4042f6acc630e4415da4dd": {
          "model_module": "@jupyter-widgets/controls",
          "model_name": "ProgressStyleModel",
          "model_module_version": "1.5.0",
          "state": {
            "_model_module": "@jupyter-widgets/controls",
            "_model_module_version": "1.5.0",
            "_model_name": "ProgressStyleModel",
            "_view_count": null,
            "_view_module": "@jupyter-widgets/base",
            "_view_module_version": "1.2.0",
            "_view_name": "StyleView",
            "bar_color": null,
            "description_width": ""
          }
        },
        "bdcd1aa19b434ebfa335253d6a6c243e": {
          "model_module": "@jupyter-widgets/base",
          "model_name": "LayoutModel",
          "model_module_version": "1.2.0",
          "state": {
            "_model_module": "@jupyter-widgets/base",
            "_model_module_version": "1.2.0",
            "_model_name": "LayoutModel",
            "_view_count": null,
            "_view_module": "@jupyter-widgets/base",
            "_view_module_version": "1.2.0",
            "_view_name": "LayoutView",
            "align_content": null,
            "align_items": null,
            "align_self": null,
            "border": null,
            "bottom": null,
            "display": null,
            "flex": null,
            "flex_flow": null,
            "grid_area": null,
            "grid_auto_columns": null,
            "grid_auto_flow": null,
            "grid_auto_rows": null,
            "grid_column": null,
            "grid_gap": null,
            "grid_row": null,
            "grid_template_areas": null,
            "grid_template_columns": null,
            "grid_template_rows": null,
            "height": null,
            "justify_content": null,
            "justify_items": null,
            "left": null,
            "margin": null,
            "max_height": null,
            "max_width": null,
            "min_height": null,
            "min_width": null,
            "object_fit": null,
            "object_position": null,
            "order": null,
            "overflow": null,
            "overflow_x": null,
            "overflow_y": null,
            "padding": null,
            "right": null,
            "top": null,
            "visibility": null,
            "width": null
          }
        },
        "1025434271c3470cb99a5bd6187a78b5": {
          "model_module": "@jupyter-widgets/controls",
          "model_name": "DescriptionStyleModel",
          "model_module_version": "1.5.0",
          "state": {
            "_model_module": "@jupyter-widgets/controls",
            "_model_module_version": "1.5.0",
            "_model_name": "DescriptionStyleModel",
            "_view_count": null,
            "_view_module": "@jupyter-widgets/base",
            "_view_module_version": "1.2.0",
            "_view_name": "StyleView",
            "description_width": ""
          }
        }
      }
    }
  },
  "cells": [
    {
      "cell_type": "markdown",
      "metadata": {
        "id": "view-in-github",
        "colab_type": "text"
      },
      "source": [
        "<a href=\"https://colab.research.google.com/github/parimalakettymuthu/MachineLearning-Projects/blob/main/stackExchange_NN_Multilabelclassification.ipynb\" target=\"_parent\"><img src=\"https://colab.research.google.com/assets/colab-badge.svg\" alt=\"Open In Colab\"/></a>"
      ]
    },
    {
      "cell_type": "code",
      "execution_count": null,
      "metadata": {
        "id": "yWiXXVeW_cfv"
      },
      "outputs": [],
      "source": [
        "%load_ext autoreload\n",
        "%autoreload 2"
      ]
    },
    {
      "cell_type": "code",
      "source": [
        "import sys\n",
        "if 'google.colab' in str(get_ipython()):\n",
        "  from google.colab import drive\n",
        "  drive.mount('/content/drive')\n",
        "\n",
        "  !pip install torchtext --upgrade --q\n",
        "  !pip install torchmetrics --q\n",
        "  !pip install -quiet torch-lr-finder --q\n",
        "  !pip install wandb --q --upgrade\n",
        "\n",
        "  basepath = '/content/drive/My Drive/NLP' \n",
        "  sys.path.append('/content/drive/My Drive/NLP/custom-functions')"
      ],
      "metadata": {
        "colab": {
          "base_uri": "https://localhost:8080/"
        },
        "id": "roTXjiPGC3ax",
        "outputId": "621cd46d-4985-4926-bda1-8a86acb6406b"
      },
      "execution_count": null,
      "outputs": [
        {
          "output_type": "stream",
          "name": "stdout",
          "text": [
            "Drive already mounted at /content/drive; to attempt to forcibly remount, call drive.mount(\"/content/drive\", force_remount=True).\n",
            "\n",
            "Usage:   \n",
            "  pip3 install [options] <requirement specifier> [package-index-options] ...\n",
            "  pip3 install [options] -r <requirements file> [package-index-options] ...\n",
            "  pip3 install [options] [-e] <vcs project url> ...\n",
            "  pip3 install [options] [-e] <local project path> ...\n",
            "  pip3 install [options] <archive url/path> ...\n",
            "\n",
            "no such option: -u\n"
          ]
        }
      ]
    },
    {
      "cell_type": "code",
      "source": [
        "#Importing the required libraries \n",
        "import torch\n",
        "import torch.nn as nn\n",
        "import torch.nn.functional as F\n",
        "\n",
        "import torchmetrics\n",
        "from torchmetrics.classification import MultilabelF1Score, MultilabelHammingDistance\n",
        "from torchmetrics.functional.classification import multilabel_f1_score, multilabel_hamming_distance\n",
        "\n",
        "import joblib\n",
        "#import swifter\n",
        "import ast\n",
        "import wandb\n",
        "\n",
        "from types import SimpleNamespace\n",
        "from functools import partial\n",
        "from pathlib import Path\n",
        "from sklearn.model_selection import train_test_split\n",
        "from sklearn.preprocessing import MultiLabelBinarizer as mlb\n"
      ],
      "metadata": {
        "id": "byKpUJjmDgYh"
      },
      "execution_count": null,
      "outputs": []
    },
    {
      "cell_type": "code",
      "source": [
        "#Defined the google drive folders for accessing/saving models related files\n",
        "embeddings_folder = Path(basepath)/ 'assignment7/WordEmbeddings'\n",
        "data_folder = Path(basepath)/ 'assignment7/MultiLabel_Classification'\n",
        "model_saving_folder = Path(basepath)/ 'assignment7/MultiLabel_Classification'"
      ],
      "metadata": {
        "id": "GmNdHyTvDhwb"
      },
      "execution_count": null,
      "outputs": []
    },
    {
      "cell_type": "code",
      "source": [
        "data_cleaned = data_folder/ \"df_multilabel_hw_cleaned.joblib\"\n",
        "stackExchange_dataset = joblib.load(data_cleaned)"
      ],
      "metadata": {
        "id": "-xOnlKc1Ydmo"
      },
      "execution_count": null,
      "outputs": []
    },
    {
      "cell_type": "code",
      "source": [
        "X = stackExchange_dataset['cleaned_text'].values\n",
        "y = stackExchange_dataset['Tag_Number'].values"
      ],
      "metadata": {
        "id": "xbf44Q-XYrvw"
      },
      "execution_count": null,
      "outputs": []
    },
    {
      "cell_type": "code",
      "source": [
        "#!pip install swifter -qq"
      ],
      "metadata": {
        "id": "89QcmYtfYyWo"
      },
      "execution_count": null,
      "outputs": []
    },
    {
      "cell_type": "code",
      "source": [
        "import swifter\n",
        "import ast\n",
        "stackExchange_dataset['Tag_Number_list'] = stackExchange_dataset['Tag_Number'].swifter.apply(lambda x: ast.literal_eval(x))"
      ],
      "metadata": {
        "colab": {
          "base_uri": "https://localhost:8080/",
          "height": 49,
          "referenced_widgets": [
            "07b94c9353b14236804d3be2cc92223d",
            "8b4a7b354d1a4f9d9458cd896f3ca196",
            "a19f68e20ede4ca7bf7d5f6fb1a0e16b",
            "09a16cccb314410297d3f15e32ee916f",
            "d2658f838767407b8c3339e089c3a8ac",
            "77d232d9c2634b28a85a5577b297e81f",
            "d5482734578649d6aabc2a66733fca4e",
            "c3e0b9c1396b4c8293f938816e5aad93",
            "352fbcc7d9dc40e892e6daeefc024a32",
            "30313ff2420e48f0883e7e6570e4cbcc",
            "8c922aee73304b779defeb1e4aea47e3"
          ]
        },
        "id": "5b-mizHzY21P",
        "outputId": "8c6496b4-817b-41a7-f38f-d89ac5a12ba5"
      },
      "execution_count": null,
      "outputs": [
        {
          "output_type": "display_data",
          "data": {
            "text/plain": [
              "Pandas Apply:   0%|          | 0/47427 [00:00<?, ?it/s]"
            ],
            "application/vnd.jupyter.widget-view+json": {
              "version_major": 2,
              "version_minor": 0,
              "model_id": "07b94c9353b14236804d3be2cc92223d"
            }
          },
          "metadata": {}
        }
      ]
    },
    {
      "cell_type": "code",
      "source": [
        "y_final = stackExchange_dataset['Tag_Number_list'].values"
      ],
      "metadata": {
        "id": "jOP5vGOIZwiZ"
      },
      "execution_count": null,
      "outputs": []
    },
    {
      "cell_type": "code",
      "source": [
        "from sklearn.preprocessing import MultiLabelBinarizer as mlb\n",
        "y_stackExchange_encoding = mlb().fit_transform(y_final)"
      ],
      "metadata": {
        "id": "oQX_RJsUZtz6"
      },
      "execution_count": null,
      "outputs": []
    },
    {
      "cell_type": "code",
      "source": [
        "from sklearn.model_selection import train_test_split\n",
        "X_sExchange_train, X_valid_test, y_sExchange_train, y_valid_test = train_test_split(X, y_stackExchange_encoding, test_size=0.4, random_state=42)\n",
        "X_sExchange_valid, X_sExchange_test, y_sExchange_valid, y_sExchange_test = train_test_split(X_valid_test, y_valid_test, test_size=0.5, random_state=42)"
      ],
      "metadata": {
        "id": "awTdtZf6Y6yI"
      },
      "execution_count": null,
      "outputs": []
    },
    {
      "cell_type": "code",
      "source": [
        "from gensim.models import KeyedVectors\n",
        "pretrained_sExchange_file = str(embeddings_folder/ \"model_stackExchange_CBOW.bin\")\n",
        "sExchange_vectors = KeyedVectors.load(pretrained_sExchange_file)"
      ],
      "metadata": {
        "id": "zpz6KhcoZsIJ"
      },
      "execution_count": null,
      "outputs": []
    },
    {
      "cell_type": "code",
      "source": [
        "!pip install torch_lr_finder -qq"
      ],
      "metadata": {
        "id": "5FAncfudb53H"
      },
      "execution_count": null,
      "outputs": []
    },
    {
      "cell_type": "code",
      "source": [
        "from torch_lr_finder import LRFinder\n",
        "from Trainer_v4 import Trainer\n",
        "from data_preparation_HW7 import * "
      ],
      "metadata": {
        "id": "ttiIxeiaaCA6"
      },
      "execution_count": null,
      "outputs": []
    },
    {
      "cell_type": "code",
      "source": [
        "from ff_sequential_model import MLPCustom\n",
        "#from ff_sequential_model_v1 import MLPCustom"
      ],
      "metadata": {
        "id": "tuj-uxyKbcM4"
      },
      "execution_count": null,
      "outputs": []
    },
    {
      "cell_type": "code",
      "source": [
        "#Creating training dataset with subset \n",
        "import random\n",
        "Trainer.set_seed()\n",
        "sExchange_trainset = CustomDataset(X_sExchange_train, y_sExchange_train)\n",
        "se_train_subset_indices = random.sample(range(0, len(sExchange_trainset)), 500)\n",
        "se_train_subset = torch.utils.data.Subset(sExchange_trainset, se_train_subset_indices)\n",
        "se_vocab = get_vocab(sExchange_trainset, min_freq=2)"
      ],
      "metadata": {
        "id": "AdzD3XA-d3Hk"
      },
      "execution_count": null,
      "outputs": []
    },
    {
      "cell_type": "code",
      "source": [
        "type(se_vocab), se_vocab['debug']"
      ],
      "metadata": {
        "colab": {
          "base_uri": "https://localhost:8080/"
        },
        "id": "cbbffFS0wqhh",
        "outputId": "51287ace-351b-491c-8894-7b2e845a4a1c"
      },
      "execution_count": null,
      "outputs": [
        {
          "output_type": "execute_result",
          "data": {
            "text/plain": [
              "(torchtext.vocab.vocab.Vocab, 4164)"
            ]
          },
          "metadata": {},
          "execution_count": 17
        }
      ]
    },
    {
      "cell_type": "markdown",
      "source": [],
      "metadata": {
        "id": "bWWMlSLUhiW2"
      }
    },
    {
      "cell_type": "code",
      "source": [
        "pretrained_sExchange_file = str(embeddings_folder/ \"model_stackExchange_CBOW.bin\")\n",
        "sExchange_vectors = KeyedVectors.load(pretrained_sExchange_file)"
      ],
      "metadata": {
        "id": "8wGZYxg7eLuu"
      },
      "execution_count": null,
      "outputs": []
    },
    {
      "cell_type": "code",
      "source": [
        "pretrained_weights, words_found, words_not_found = get_pretrained_weights(\n",
        "    vocab = se_vocab,\n",
        "    pretrained_vectors = sExchange_vectors,\n",
        "    embedding_dim = 300, #updated from 300 to 150\n",
        ")"
      ],
      "metadata": {
        "id": "Lq8qPuGLlOUh"
      },
      "execution_count": null,
      "outputs": []
    },
    {
      "cell_type": "code",
      "source": [
        "pretrained_weights.shape"
      ],
      "metadata": {
        "colab": {
          "base_uri": "https://localhost:8080/"
        },
        "id": "hDT7L0lOlx34",
        "outputId": "c4c36fab-82cb-4815-f138-de9561e6493c"
      },
      "execution_count": null,
      "outputs": [
        {
          "output_type": "execute_result",
          "data": {
            "text/plain": [
              "torch.Size([90287, 300])"
            ]
          },
          "metadata": {},
          "execution_count": 20
        }
      ]
    },
    {
      "cell_type": "code",
      "source": [
        "type(pretrained_weights), words_found, words_not_found"
      ],
      "metadata": {
        "colab": {
          "base_uri": "https://localhost:8080/"
        },
        "id": "6XmLwDyil2V2",
        "outputId": "719f1c1d-329e-4ab4-aa2e-ba1d231d07b4"
      },
      "execution_count": null,
      "outputs": [
        {
          "output_type": "execute_result",
          "data": {
            "text/plain": [
              "(torch.Tensor, 14664, 75623)"
            ]
          },
          "metadata": {},
          "execution_count": 21
        }
      ]
    },
    {
      "cell_type": "markdown",
      "source": [
        "Initialining all required HyperParameters "
      ],
      "metadata": {
        "id": "2cxT_0v8fgot"
      }
    },
    {
      "cell_type": "code",
      "source": [
        "hyperparameters = SimpleNamespace(\n",
        "# for model\n",
        "    EMBED_DIM=300,\n",
        "    VOCAB_SIZE=len(se_vocab),\n",
        "    OUTPUT_DIM=10,\n",
        "    HIDDEN_SIZES_LIST=[],\n",
        "    DPROB_LIST=[],\n",
        "    NON_LINEARITY=nn.SELU(),\n",
        "    BATCH_NORM=False,\n",
        "    \n",
        "    # for optimizer\n",
        "    OPTIMIZER=\"SGD\",\n",
        "    MOMENTUM=0,\n",
        "    NESTEROV=False,\n",
        "    \n",
        "    # for training\n",
        "    INITIALIZATION=\"default\",\n",
        "    EPOCHS=20,\n",
        "    BATCH_SIZE=32,\n",
        "    LEARNING_RATE=0.001,\n",
        "    DATASET=\"STACKEXCHANGE\",\n",
        "    ARCHITECTURE=\"emdbag_linear\",\n",
        "    \n",
        "    # Schedulers\n",
        "    SCHEDULER=\"None\",\n",
        ")"
      ],
      "metadata": {
        "id": "1aocgXe7vws4"
      },
      "execution_count": null,
      "outputs": []
    },
    {
      "cell_type": "markdown",
      "source": [
        "Specifying run name & folder"
      ],
      "metadata": {
        "id": "iR3EXC18iovu"
      }
    },
    {
      "cell_type": "code",
      "source": [
        "#Defining the variables\n",
        "project_name = \"StackExchange NN architecture\"\n",
        "run_name=\"Task3a exp1\"\n",
        "run_folder = model_saving_folder / run_name\n",
        "run_folder.mkdir(exist_ok=True)\n",
        "log_frequency = 5"
      ],
      "metadata": {
        "id": "VPyitAyTilNb"
      },
      "execution_count": null,
      "outputs": []
    },
    {
      "cell_type": "markdown",
      "source": [
        "Modifying Hyperparameters for Run"
      ],
      "metadata": {
        "id": "iEAjOIYKjGtD"
      }
    },
    {
      "cell_type": "code",
      "source": [
        "# # run 1 - based on default initialization\n",
        "# # Notes: Final Learning rate was set to 0.01\n",
        "\n",
        "# # run 2 - add dropout\n",
        "# hyperparameters.LEARNING_RATE = 0.01   \n",
        "# hyperparameters.DPROB_LIST=[0.5] \n",
        "\n",
        "# # run 3 - remove dropout, add weight decay\n",
        "# hyperparameters.WEIGHT_DECAY = 1\n",
        "# hyperparameters.DPROB_LIST=[0] \n",
        "\n",
        "# # run 4 - remove dropout, add weight decay\n",
        "# hyperparameters.WEIGHT_DECAY = 0.1\n",
        "\n",
        "# # run 5 - increase batch size to 256\n",
        "# hyperparameters.BATCH_SIZE = 256\n",
        "\n",
        "# # run 6 - One cyucle scheduler\n",
        "# hyperparameters.LEARNING_RATE = 0.001   \n",
        "# hyperparameters.WEIGHT_DECAY = 10\n",
        "# hyperparameters.SCHEDULER='OneCyclicLR'\n",
        "# hyperparameters.SCHEDULER_MAX_LR=0.01\n",
        "# hyperparameters.SCHEDULER_DIV_FACTOR=25\n",
        "# hyperparameters.SCHEDULER_FINAL_DIV_FACTOR=1e3\n",
        "# hyperparameters.EPOCHS = 10\n",
        "\n",
        "# #  run 7 - use pre-trained weights but freeze teh weights - model will \n",
        "# hyperparameters.USE_PRE_TRAINED_WEIGHTS = True\n",
        "# hyperparameters.FREEZE_PRETRAINED = True\n",
        "\n",
        "# # run 8 - Unfreeze the weights\n",
        "# hyperparameters.FREEZE_PRETRAINED = False"
      ],
      "metadata": {
        "id": "XBfGuQCVjGNq"
      },
      "execution_count": null,
      "outputs": []
    },
    {
      "cell_type": "code",
      "source": [
        "# run 1 - based on default initialization\n",
        "# Notes: Final Learning rate was set to 1\n",
        "\n",
        "# run 2\n",
        "#hyperparameters.HIDDEN_SIZES_LIST = [200]\n",
        "#hyperparameters.DPROB_LIST = [0]\n",
        "#hyperparameters.LEARNING_RATE = 0.001  # reset initial learning rate\n",
        "# Notes : Final Learning rate was set to 1\n",
        "\n",
        "# run 3\n",
        "#hyperparameters.OPTIMIZER = \"Adam\"\n",
        "#hyperparameters.LEARNING_RATE = 0.001  # reset initial learning rate\n",
        "# Notes : Final Learning rate was set to 0.02\n",
        "\n",
        "# run 4\n",
        "#hyperparameters.HIDDEN_SIZES_LIST = [200] + [200]\n",
        "#hyperparameters.DPROB_LIST = [0] + [0]\n",
        "#hyperparameters.LEARNING_RATE = 0.001  # reset initial learning rate\n",
        "# Notes : Final Learning rate was set to 0.02\n",
        "\n",
        "# run 5\n",
        "#hyperparameters.INITIALIZATION = 'kaiming'\n",
        "#hyperparameters.NON_LINEARITY = nn.ReLU()\n",
        "#hyperparameters.LEARNING_RATE = 0.001  # reset initial learning rate\n",
        "# Notes : Final Learning rate was set to 0.02\n",
        "\n",
        "# run 6\n",
        "#hyperparameters.HIDDEN_SIZES_LIST = [400] \n",
        "#hyperparameters.DPROB_LIST = [0] \n",
        "#hyperparameters.LEARNING_RATE = 0.001  # reset initial learning rate\n",
        "# # Notes : Final Learning rate was set to 0.02"
      ],
      "metadata": {
        "id": "Mz6HeXcUusz1"
      },
      "execution_count": null,
      "outputs": []
    },
    {
      "cell_type": "markdown",
      "source": [
        "Configuring the trainer "
      ],
      "metadata": {
        "id": "5d24Bq1lk3MB"
      }
    },
    {
      "cell_type": "code",
      "source": [
        "#Set the seed value \n",
        "Trainer.set_seed()\n",
        "\n",
        "se_collate_fn = partial(collate_batch, vocab=se_vocab)"
      ],
      "metadata": {
        "id": "qXtU7DtFk2ny"
      },
      "execution_count": null,
      "outputs": []
    },
    {
      "cell_type": "code",
      "source": [
        "type(se_collate_fn)"
      ],
      "metadata": {
        "colab": {
          "base_uri": "https://localhost:8080/"
        },
        "id": "SngvqxvPNdEq",
        "outputId": "e7d096d6-cfd9-48f3-c6ac-efcc872f9e0c"
      },
      "execution_count": null,
      "outputs": [
        {
          "output_type": "execute_result",
          "data": {
            "text/plain": [
              "functools.partial"
            ]
          },
          "metadata": {},
          "execution_count": 28
        }
      ]
    },
    {
      "cell_type": "code",
      "source": [
        "print(se_collate_fn)"
      ],
      "metadata": {
        "colab": {
          "base_uri": "https://localhost:8080/"
        },
        "id": "SrX_6pLcNr1I",
        "outputId": "9e728c4a-eed1-40c4-b329-8c3b1f7d2308"
      },
      "execution_count": null,
      "outputs": [
        {
          "output_type": "stream",
          "name": "stdout",
          "text": [
            "functools.partial(<function collate_batch at 0x7ffb0995ad30>, vocab=Vocab())\n"
          ]
        }
      ]
    },
    {
      "cell_type": "code",
      "source": [
        "#Data Loader\n",
        "se_train_loader, _ = get_loaders(trainset=sExchange_trainset, validset=None, \n",
        "                                         batch_size_=hyperparameters.BATCH_SIZE,\n",
        "                                         collate_fn=se_collate_fn)\n",
        "\n",
        "se_loss_function = nn.BCEWithLogitsLoss()\n",
        "stackExchange_model = MLPCustom(hyperparameters.EMBED_DIM,\n",
        "                                hyperparameters.VOCAB_SIZE,\n",
        "                                hyperparameters.HIDDEN_SIZES_LIST,\n",
        "                                hyperparameters.DPROB_LIST, \n",
        "                                hyperparameters.OUTPUT_DIM, \n",
        "                                hyperparameters.NON_LINEARITY,\n",
        "                                hyperparameters.BATCH_NORM,)\n",
        "                                # use_pre_trained_weights = hyperparameters.USE_PRE_TRAINED_WEIGHTS,\n",
        "                                # pretrained_weights = pretrained_weights,\n",
        "                                # freeze_pretrained = hyperparameters.FREEZE_PRETRAINED)\n",
        "def init_weights(m):\n",
        "  if type(m)==\"nn.Linear\":\n",
        "    torch.nn.init.kaiming_normal_(m.weight)\n",
        "    torch.nn.init.zeros_(nn.bias)\n",
        "\n",
        "#Apply initialization to all modules\n",
        "if hyperparameters.INITIALIZATION == 'kaiming':\n",
        "  stackExchange_model.apply(init_weights)\n",
        "\n",
        "\n",
        "#Defining optimizer\n",
        "def get_optimizer():\n",
        "  if hyperparameters.OPTIMIZER == 'SGD':\n",
        "    optimizer = torch.optim.SGD(\n",
        "        stackExchange_model.parameters(),\n",
        "        lr = hyperparameters.LEARNING_RATE,\n",
        "        momentum = hyperparameters.MOMENTUM,\n",
        "        nesterov = hyperparameters.NESTROV,\n",
        "    )\n",
        "  else:\n",
        "    optimizer = torch.optim.Adam(\n",
        "        stackExchange_model.parameters(),\n",
        "        lr = hyperparameters.LEARNING_RATE\n",
        "    )\n",
        "  return optimizer\n",
        "\n",
        "sExchange_optimizer = get_optimizer()\n",
        "sExchange_device = torch.device(\"cuda:0\" if torch.cuda.is_available() else \"cpu\")"
      ],
      "metadata": {
        "id": "P0JRv-hjNb77"
      },
      "execution_count": null,
      "outputs": []
    },
    {
      "cell_type": "code",
      "source": [
        "sExchange_optimizer"
      ],
      "metadata": {
        "colab": {
          "base_uri": "https://localhost:8080/"
        },
        "id": "WyEhsfq7OF79",
        "outputId": "ac9b2520-3fca-47cb-c6cb-0f1cfb42a0a0"
      },
      "execution_count": null,
      "outputs": [
        {
          "output_type": "execute_result",
          "data": {
            "text/plain": [
              "Adam (\n",
              "Parameter Group 0\n",
              "    amsgrad: False\n",
              "    betas: (0.9, 0.999)\n",
              "    capturable: False\n",
              "    differentiable: False\n",
              "    eps: 1e-08\n",
              "    foreach: None\n",
              "    fused: None\n",
              "    lr: 0.001\n",
              "    maximize: False\n",
              "    weight_decay: 0\n",
              ")"
            ]
          },
          "metadata": {},
          "execution_count": 31
        }
      ]
    },
    {
      "cell_type": "code",
      "source": [
        "stackExchange_model"
      ],
      "metadata": {
        "colab": {
          "base_uri": "https://localhost:8080/"
        },
        "id": "efkzX1wUdGK0",
        "outputId": "0e95d917-cefa-4959-d9a8-bc45355bebeb"
      },
      "execution_count": null,
      "outputs": [
        {
          "output_type": "execute_result",
          "data": {
            "text/plain": [
              "MLPCustom(\n",
              "  (non_linearity): ReLU()\n",
              "  (embedding): EmbeddingBag(90287, 300, mode='mean')\n",
              "  (module_list): ModuleList(\n",
              "    (0): Linear(in_features=300, out_features=400, bias=True)\n",
              "    (1): ReLU()\n",
              "    (2): Dropout(p=0, inplace=False)\n",
              "    (3): Linear(in_features=400, out_features=10, bias=True)\n",
              "  )\n",
              ")"
            ]
          },
          "metadata": {},
          "execution_count": 32
        }
      ]
    },
    {
      "cell_type": "markdown",
      "source": [
        "Trainer"
      ],
      "metadata": {
        "id": "bas5zQrwdPmj"
      }
    },
    {
      "cell_type": "code",
      "source": [
        "sEXchange_trainer = Trainer(\n",
        "    model=stackExchange_model, optimizer=sExchange_optimizer, \n",
        "    criterion=se_loss_function,\n",
        "    device=sExchange_device\n",
        ")\n",
        "sEXchange_trainer.set_loaders(se_train_loader)"
      ],
      "metadata": {
        "id": "8EzS-2JDdJRa"
      },
      "execution_count": null,
      "outputs": []
    },
    {
      "cell_type": "markdown",
      "source": [
        "Learning Rate Finder"
      ],
      "metadata": {
        "id": "4gE7wNq_emrR"
      }
    },
    {
      "cell_type": "code",
      "source": [
        "type(se_train_loader)"
      ],
      "metadata": {
        "colab": {
          "base_uri": "https://localhost:8080/"
        },
        "id": "VU50F65-hdwz",
        "outputId": "4ee9ee49-7f15-47c3-866d-b6b424cf5f99"
      },
      "execution_count": null,
      "outputs": [
        {
          "output_type": "execute_result",
          "data": {
            "text/plain": [
              "torch.utils.data.dataloader.DataLoader"
            ]
          },
          "metadata": {},
          "execution_count": 34
        }
      ]
    },
    {
      "cell_type": "code",
      "source": [
        "#sEXchange_trainer.lr_finder_range_test(sEXchange_trainer.se_train_loader)\n",
        "sEXchange_trainer.lr_finder_range_test(se_train_loader)"
      ],
      "metadata": {
        "colab": {
          "base_uri": "https://localhost:8080/",
          "height": 610,
          "referenced_widgets": [
            "0c5643d94cce43cbb7feba1e3cee609f",
            "78e34bc8fca04daabc1d6f927cd89e69",
            "5472d6ca942041a0b02632624a591480",
            "0570b63a73214e3f947fb97dabb2ded3",
            "92c72ac0303146f2b0e501a5a6ac2fe0",
            "95bf2c81676f4a0daca4089ecd0d93df",
            "f202673476ed48b39308ff149a4ed7a4",
            "bb8a307d5cf44db494ef24b327dfb512",
            "418511d8ed4042f6acc630e4415da4dd",
            "bdcd1aa19b434ebfa335253d6a6c243e",
            "1025434271c3470cb99a5bd6187a78b5"
          ]
        },
        "id": "LZsdhPy-el6q",
        "outputId": "456a0952-e022-4fb6-a976-74bebd4afd83"
      },
      "execution_count": null,
      "outputs": [
        {
          "output_type": "display_data",
          "data": {
            "text/plain": [
              "  0%|          | 0/100 [00:00<?, ?it/s]"
            ],
            "application/vnd.jupyter.widget-view+json": {
              "version_major": 2,
              "version_minor": 0,
              "model_id": "0c5643d94cce43cbb7feba1e3cee609f"
            }
          },
          "metadata": {}
        },
        {
          "output_type": "stream",
          "name": "stderr",
          "text": [
            "/content/drive/My Drive/NLP/custom-functions/data_preparation_HW7.py:72: UserWarning: Creating a tensor from a list of numpy.ndarrays is extremely slow. Please consider converting the list to a single numpy.ndarray with numpy.array() before converting to a tensor. (Triggered internally at ../torch/csrc/utils/tensor_new.cpp:245.)\n",
            "  labels = torch.tensor(labels, dtype=torch.float64)\n"
          ]
        },
        {
          "output_type": "stream",
          "name": "stdout",
          "text": [
            "Stopping early, the loss has diverged\n",
            "Learning rate search finished. See the graph with {finder_name}.plot()\n",
            "LR suggestion: steepest gradient\n",
            "Suggested LR: 4.86E-03\n"
          ]
        },
        {
          "output_type": "display_data",
          "data": {
            "text/plain": [
              "<Figure size 640x480 with 1 Axes>"
            ],
            "image/png": "[encoded data removed]"
          },
          "metadata": {}
        }
      ]
    },
    {
      "cell_type": "code",
      "source": [
        "hyperparameters.LEARNING_RATE = 0.02"
      ],
      "metadata": {
        "id": "mwdjeuJviJx1"
      },
      "execution_count": null,
      "outputs": []
    },
    {
      "cell_type": "markdown",
      "source": [
        "Set trainer based on hyperparameters"
      ],
      "metadata": {
        "id": "eDXINAJ9i-nC"
      }
    },
    {
      "cell_type": "code",
      "source": [
        "#Resetting optimizer\n",
        "sEXchange_trainer.set_optimizer(get_optimizer())\n",
        "\n",
        "#Setting metric \n",
        "se_train_metric = MultilabelHammingDistance(num_labels=10)\n",
        "sEXchange_trainer.set_metric(se_train_metric.to(sExchange_device))\n"
      ],
      "metadata": {
        "id": "YwmeeecQi9nj"
      },
      "execution_count": null,
      "outputs": []
    },
    {
      "cell_type": "code",
      "source": [
        "#Setting wandb \n",
        "sEXchange_trainer.set_wandb(\n",
        "    project_name = project_name,\n",
        "    run_name = run_name,\n",
        "    config = hyperparameters,\n",
        "    log_batch=True, \n",
        "    log_frequency=log_frequency\n",
        ")"
      ],
      "metadata": {
        "colab": {
          "base_uri": "https://localhost:8080/",
          "height": 139
        },
        "id": "lzR_TCxXkWRe",
        "outputId": "b9aabb87-58b9-4976-b669-df56b4c45c1f"
      },
      "execution_count": null,
      "outputs": [
        {
          "output_type": "stream",
          "name": "stderr",
          "text": [
            "\u001b[34m\u001b[1mwandb\u001b[0m: Currently logged in as: \u001b[33mparimala-kettymuthu\u001b[0m (\u001b[33mparimala\u001b[0m). Use \u001b[1m`wandb login --relogin`\u001b[0m to force relogin\n"
          ]
        },
        {
          "output_type": "display_data",
          "data": {
            "text/plain": [
              "<IPython.core.display.HTML object>"
            ],
            "text/html": [
              "Tracking run with wandb version 0.15.0"
            ]
          },
          "metadata": {}
        },
        {
          "output_type": "display_data",
          "data": {
            "text/plain": [
              "<IPython.core.display.HTML object>"
            ],
            "text/html": [
              "Run data is saved locally in <code>/content/wandb/run-20230421_221448-ndih2fuj</code>"
            ]
          },
          "metadata": {}
        },
        {
          "output_type": "display_data",
          "data": {
            "text/plain": [
              "<IPython.core.display.HTML object>"
            ],
            "text/html": [
              "Syncing run <strong><a href='https://wandb.ai/parimala/StackExchange%20NN%20architecture/runs/ndih2fuj' target=\"_blank\">Task3a</a></strong> to <a href='https://wandb.ai/parimala/StackExchange%20NN%20architecture' target=\"_blank\">Weights & Biases</a> (<a href='https://wandb.me/run' target=\"_blank\">docs</a>)<br/>"
            ]
          },
          "metadata": {}
        },
        {
          "output_type": "display_data",
          "data": {
            "text/plain": [
              "<IPython.core.display.HTML object>"
            ],
            "text/html": [
              " View project at <a href='https://wandb.ai/parimala/StackExchange%20NN%20architecture' target=\"_blank\">https://wandb.ai/parimala/StackExchange%20NN%20architecture</a>"
            ]
          },
          "metadata": {}
        },
        {
          "output_type": "display_data",
          "data": {
            "text/plain": [
              "<IPython.core.display.HTML object>"
            ],
            "text/html": [
              " View run at <a href='https://wandb.ai/parimala/StackExchange%20NN%20architecture/runs/ndih2fuj' target=\"_blank\">https://wandb.ai/parimala/StackExchange%20NN%20architecture/runs/ndih2fuj</a>"
            ]
          },
          "metadata": {}
        },
        {
          "output_type": "stream",
          "name": "stderr",
          "text": [
            "\u001b[34m\u001b[1mwandb\u001b[0m: logging graph, to disable use `wandb.watch(log_graph=False)`\n"
          ]
        }
      ]
    },
    {
      "cell_type": "code",
      "source": [
        "sEXchange_trainer.learning_rates"
      ],
      "metadata": {
        "colab": {
          "base_uri": "https://localhost:8080/"
        },
        "id": "9glKMW3wkuk2",
        "outputId": "05ef809a-122c-40a9-9550-bb23d120a13d"
      },
      "execution_count": null,
      "outputs": [
        {
          "output_type": "execute_result",
          "data": {
            "text/plain": [
              "[0.02]"
            ]
          },
          "metadata": {},
          "execution_count": 39
        }
      ]
    },
    {
      "cell_type": "markdown",
      "source": [
        "Sanity Check"
      ],
      "metadata": {
        "id": "xzFz0pXBxmJc"
      }
    },
    {
      "cell_type": "code",
      "source": [
        "sEXchange_trainer.sanity_check(num_classes=2)"
      ],
      "metadata": {
        "colab": {
          "base_uri": "https://localhost:8080/"
        },
        "id": "Pb0sAh6akxu-",
        "outputId": "9c8621f1-4bba-46eb-ccda-c4a1efc561f2"
      },
      "execution_count": null,
      "outputs": [
        {
          "output_type": "stream",
          "name": "stdout",
          "text": [
            "Actual loss: 0.6847624350339174\n",
            "Expected Theoretical loss: 0.6931471805599453\n"
          ]
        }
      ]
    },
    {
      "cell_type": "code",
      "source": [
        "sEXchange_trainer.train(num_epochs=hyperparameters.EPOCHS, multilabel=True)"
      ],
      "metadata": {
        "colab": {
          "base_uri": "https://localhost:8080/"
        },
        "id": "HQvp2LoLxszY",
        "outputId": "16e0b5e1-a532-4eae-b960-5df619a0fd72"
      },
      "execution_count": null,
      "outputs": [
        {
          "output_type": "stream",
          "name": "stdout",
          "text": [
            "Validation loader is not set. The trainer will only execute training Loop\n",
            "Not saving any checkpoint\n",
            "Epoch 1/20 - Train Loss: 0.1521, Train Metric: 0.0530, Train Time: 0:00:47.880438\n",
            "Current Learning rate is 0.02\n",
            "\n",
            "Epoch 2/20 - Train Loss: 0.0796, Train Metric: 0.0273, Train Time: 0:00:47.559731\n",
            "Current Learning rate is 0.02\n",
            "\n",
            "Epoch 3/20 - Train Loss: 0.0688, Train Metric: 0.0212, Train Time: 0:00:47.647853\n",
            "Current Learning rate is 0.02\n",
            "\n",
            "Epoch 4/20 - Train Loss: 0.0599, Train Metric: 0.0184, Train Time: 0:00:48.717493\n",
            "Current Learning rate is 0.02\n",
            "\n",
            "Epoch 5/20 - Train Loss: 0.0509, Train Metric: 0.0154, Train Time: 0:00:47.790268\n",
            "Current Learning rate is 0.02\n",
            "\n",
            "Epoch 6/20 - Train Loss: 0.0480, Train Metric: 0.0147, Train Time: 0:00:48.813294\n",
            "Current Learning rate is 0.02\n",
            "\n",
            "Epoch 7/20 - Train Loss: 0.0461, Train Metric: 0.0145, Train Time: 0:00:48.200895\n",
            "Current Learning rate is 0.02\n",
            "\n",
            "Epoch 8/20 - Train Loss: 0.0573, Train Metric: 0.0144, Train Time: 0:00:48.822558\n",
            "Current Learning rate is 0.02\n",
            "\n",
            "Epoch 9/20 - Train Loss: 0.0783, Train Metric: 0.0142, Train Time: 0:00:48.204316\n",
            "Current Learning rate is 0.02\n",
            "\n",
            "Epoch 10/20 - Train Loss: 0.0442, Train Metric: 0.0134, Train Time: 0:00:48.930243\n",
            "Current Learning rate is 0.02\n",
            "\n",
            "Epoch 11/20 - Train Loss: 0.0411, Train Metric: 0.0131, Train Time: 0:00:48.428969\n",
            "Current Learning rate is 0.02\n",
            "\n",
            "Epoch 12/20 - Train Loss: 0.0435, Train Metric: 0.0129, Train Time: 0:00:49.461075\n",
            "Current Learning rate is 0.02\n",
            "\n",
            "Epoch 13/20 - Train Loss: 0.0538, Train Metric: 0.0139, Train Time: 0:00:49.048705\n",
            "Current Learning rate is 0.02\n",
            "\n",
            "Epoch 14/20 - Train Loss: 0.0989, Train Metric: 0.0138, Train Time: 0:00:48.330750\n",
            "Current Learning rate is 0.02\n",
            "\n",
            "Epoch 15/20 - Train Loss: 0.0510, Train Metric: 0.0146, Train Time: 0:00:49.062516\n",
            "Current Learning rate is 0.02\n",
            "\n",
            "Epoch 16/20 - Train Loss: 0.0610, Train Metric: 0.0141, Train Time: 0:00:48.110814\n",
            "Current Learning rate is 0.02\n",
            "\n",
            "Epoch 17/20 - Train Loss: 0.0438, Train Metric: 0.0134, Train Time: 0:00:49.516303\n",
            "Current Learning rate is 0.02\n",
            "\n",
            "Epoch 18/20 - Train Loss: 0.0508, Train Metric: 0.0137, Train Time: 0:00:48.516015\n",
            "Current Learning rate is 0.02\n",
            "\n",
            "Epoch 19/20 - Train Loss: 0.0496, Train Metric: 0.0143, Train Time: 0:00:49.212915\n",
            "Current Learning rate is 0.02\n",
            "\n",
            "Epoch 20/20 - Train Loss: 0.0482, Train Metric: 0.0144, Train Time: 0:00:49.847414\n",
            "Current Learning rate is 0.02\n",
            "\n"
          ]
        }
      ]
    },
    {
      "cell_type": "code",
      "source": [
        "sEXchange_trainer.plot_history()"
      ],
      "metadata": {
        "colab": {
          "base_uri": "https://localhost:8080/",
          "height": 881
        },
        "id": "UQ1_Lz9uyaQB",
        "outputId": "4e3f4025-26b8-4123-a883-86b6fbc09d0f"
      },
      "execution_count": null,
      "outputs": [
        {
          "output_type": "display_data",
          "data": {
            "text/plain": [
              "<Figure size 640x480 with 1 Axes>"
            ],
            "image/png": "[encoded data removed]"
          },
          "metadata": {}
        },
        {
          "output_type": "display_data",
          "data": {
            "text/plain": [
              "<Figure size 640x480 with 1 Axes>"
            ],
            "image/png": "[encoded data removed]"
          },
          "metadata": {}
        }
      ]
    },
    {
      "cell_type": "markdown",
      "source": [
        "Finish Run"
      ],
      "metadata": {
        "id": "Sax6tSQF38Tf"
      }
    },
    {
      "cell_type": "code",
      "source": [
        "wandb.finish()"
      ],
      "metadata": {
        "colab": {
          "base_uri": "https://localhost:8080/",
          "height": 227
        },
        "id": "7VknFTpY30vr",
        "outputId": "cb5e9088-4366-48b9-d9eb-33da6f937042"
      },
      "execution_count": null,
      "outputs": [
        {
          "output_type": "display_data",
          "data": {
            "text/plain": [
              "<IPython.core.display.HTML object>"
            ],
            "text/html": [
              "Waiting for W&B process to finish... <strong style=\"color:green\">(success).</strong>"
            ]
          },
          "metadata": {}
        },
        {
          "output_type": "display_data",
          "data": {
            "text/plain": [
              "<IPython.core.display.HTML object>"
            ],
            "text/html": [
              "<style>\n",
              "    table.wandb td:nth-child(1) { padding: 0 10px; text-align: left ; width: auto;} td:nth-child(2) {text-align: left ; width: 100%}\n",
              "    .wandb-row { display: flex; flex-direction: row; flex-wrap: wrap; justify-content: flex-start; width: 100% }\n",
              "    .wandb-col { display: flex; flex-direction: column; flex-basis: 100%; flex: 1; padding: 10px; }\n",
              "    </style>\n",
              "<div class=\"wandb-row\"><div class=\"wandb-col\"><h3>Run history:</h3><br/><table class=\"wandb\"><tr><td>train_epoch_loss</td><td>█▃▃▂▂▁▁▂▃▁▁▁▂▅▂▂▁▂▂▁</td></tr><tr><td>train_epoch_metric</td><td>█▄▂▂▁▁▁▁▁▁▁▁▁▁▁▁▁▁▁▁</td></tr></table><br/></div><div class=\"wandb-col\"><h3>Run summary:</h3><br/><table class=\"wandb\"><tr><td>train_epoch_loss</td><td>0.0482</td></tr><tr><td>train_epoch_metric</td><td>0.01437</td></tr></table><br/></div></div>"
            ]
          },
          "metadata": {}
        },
        {
          "output_type": "display_data",
          "data": {
            "text/plain": [
              "<IPython.core.display.HTML object>"
            ],
            "text/html": [
              " View run <strong style=\"color:#cdcd00\">Task3a</strong> at: <a href='https://wandb.ai/parimala/StackExchange%20NN%20architecture/runs/ndih2fuj' target=\"_blank\">https://wandb.ai/parimala/StackExchange%20NN%20architecture/runs/ndih2fuj</a><br/>Synced 5 W&B file(s), 1 media file(s), 0 artifact file(s) and 0 other file(s)"
            ]
          },
          "metadata": {}
        },
        {
          "output_type": "display_data",
          "data": {
            "text/plain": [
              "<IPython.core.display.HTML object>"
            ],
            "text/html": [
              "Find logs at: <code>./wandb/run-20230421_221448-ndih2fuj/logs</code>"
            ]
          },
          "metadata": {}
        }
      ]
    },
    {
      "cell_type": "code",
      "source": [],
      "metadata": {
        "id": "GYKF9dP93-oq"
      },
      "execution_count": null,
      "outputs": []
    }
  ]
}