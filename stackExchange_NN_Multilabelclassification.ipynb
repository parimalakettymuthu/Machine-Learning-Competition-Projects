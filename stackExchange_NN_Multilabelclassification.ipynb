{
  "nbformat": 4,
  "nbformat_minor": 0,
  "metadata": {
    "colab": {
      "provenance": [],
      "machine_shape": "hm",
      "authorship_tag": "ABX9TyOl87ypgZSKd3I7WE/M8wdJ",
      "include_colab_link": true
    },
    "kernelspec": {
      "name": "python3",
      "display_name": "Python 3"
    },
    "language_info": {
      "name": "python"
    },
    "accelerator": "GPU",
    "gpuClass": "standard",
    "widgets": {
      "application/vnd.jupyter.widget-state+json": {
        "3e3c8f74ad6d400bab9b16d039a669ec": {
          "model_module": "@jupyter-widgets/controls",
          "model_name": "HBoxModel",
          "model_module_version": "1.5.0",
          "state": {
            "_dom_classes": [],
            "_model_module": "@jupyter-widgets/controls",
            "_model_module_version": "1.5.0",
            "_model_name": "HBoxModel",
            "_view_count": null,
            "_view_module": "@jupyter-widgets/controls",
            "_view_module_version": "1.5.0",
            "_view_name": "HBoxView",
            "box_style": "",
            "children": [
              "IPY_MODEL_f2ace197e4ab439a93c81dc5b0fdbf08",
              "IPY_MODEL_1279d606e6ab4176ade12b5af3dfd32e",
              "IPY_MODEL_ba37b2f9974e43cc8bae94636dcc0a8c"
            ],
            "layout": "IPY_MODEL_12e961e2a7e847e8991c2b4048223e55"
          }
        },
        "f2ace197e4ab439a93c81dc5b0fdbf08": {
          "model_module": "@jupyter-widgets/controls",
          "model_name": "HTMLModel",
          "model_module_version": "1.5.0",
          "state": {
            "_dom_classes": [],
            "_model_module": "@jupyter-widgets/controls",
            "_model_module_version": "1.5.0",
            "_model_name": "HTMLModel",
            "_view_count": null,
            "_view_module": "@jupyter-widgets/controls",
            "_view_module_version": "1.5.0",
            "_view_name": "HTMLView",
            "description": "",
            "description_tooltip": null,
            "layout": "IPY_MODEL_f879cd50bc2348b98f6d04cbced29e49",
            "placeholder": "​",
            "style": "IPY_MODEL_9b64e0714ef0457e8cd8236e2ce62961",
            "value": "Pandas Apply: 100%"
          }
        },
        "1279d606e6ab4176ade12b5af3dfd32e": {
          "model_module": "@jupyter-widgets/controls",
          "model_name": "FloatProgressModel",
          "model_module_version": "1.5.0",
          "state": {
            "_dom_classes": [],
            "_model_module": "@jupyter-widgets/controls",
            "_model_module_version": "1.5.0",
            "_model_name": "FloatProgressModel",
            "_view_count": null,
            "_view_module": "@jupyter-widgets/controls",
            "_view_module_version": "1.5.0",
            "_view_name": "ProgressView",
            "bar_style": "success",
            "description": "",
            "description_tooltip": null,
            "layout": "IPY_MODEL_bbcc576ca8ce4b368edd0d6de9d1faf6",
            "max": 47427,
            "min": 0,
            "orientation": "horizontal",
            "style": "IPY_MODEL_4cf541b8742d47bab7f586917c3fd9c4",
            "value": 47427
          }
        },
        "ba37b2f9974e43cc8bae94636dcc0a8c": {
          "model_module": "@jupyter-widgets/controls",
          "model_name": "HTMLModel",
          "model_module_version": "1.5.0",
          "state": {
            "_dom_classes": [],
            "_model_module": "@jupyter-widgets/controls",
            "_model_module_version": "1.5.0",
            "_model_name": "HTMLModel",
            "_view_count": null,
            "_view_module": "@jupyter-widgets/controls",
            "_view_module_version": "1.5.0",
            "_view_name": "HTMLView",
            "description": "",
            "description_tooltip": null,
            "layout": "IPY_MODEL_516dba16e1c640659fed8e358cbdd622",
            "placeholder": "​",
            "style": "IPY_MODEL_2e8ee7c9b6d646bca3599e9733eb4ede",
            "value": " 47427/47427 [00:00&lt;00:00, 109256.89it/s]"
          }
        },
        "12e961e2a7e847e8991c2b4048223e55": {
          "model_module": "@jupyter-widgets/base",
          "model_name": "LayoutModel",
          "model_module_version": "1.2.0",
          "state": {
            "_model_module": "@jupyter-widgets/base",
            "_model_module_version": "1.2.0",
            "_model_name": "LayoutModel",
            "_view_count": null,
            "_view_module": "@jupyter-widgets/base",
            "_view_module_version": "1.2.0",
            "_view_name": "LayoutView",
            "align_content": null,
            "align_items": null,
            "align_self": null,
            "border": null,
            "bottom": null,
            "display": null,
            "flex": null,
            "flex_flow": null,
            "grid_area": null,
            "grid_auto_columns": null,
            "grid_auto_flow": null,
            "grid_auto_rows": null,
            "grid_column": null,
            "grid_gap": null,
            "grid_row": null,
            "grid_template_areas": null,
            "grid_template_columns": null,
            "grid_template_rows": null,
            "height": null,
            "justify_content": null,
            "justify_items": null,
            "left": null,
            "margin": null,
            "max_height": null,
            "max_width": null,
            "min_height": null,
            "min_width": null,
            "object_fit": null,
            "object_position": null,
            "order": null,
            "overflow": null,
            "overflow_x": null,
            "overflow_y": null,
            "padding": null,
            "right": null,
            "top": null,
            "visibility": null,
            "width": null
          }
        },
        "f879cd50bc2348b98f6d04cbced29e49": {
          "model_module": "@jupyter-widgets/base",
          "model_name": "LayoutModel",
          "model_module_version": "1.2.0",
          "state": {
            "_model_module": "@jupyter-widgets/base",
            "_model_module_version": "1.2.0",
            "_model_name": "LayoutModel",
            "_view_count": null,
            "_view_module": "@jupyter-widgets/base",
            "_view_module_version": "1.2.0",
            "_view_name": "LayoutView",
            "align_content": null,
            "align_items": null,
            "align_self": null,
            "border": null,
            "bottom": null,
            "display": null,
            "flex": null,
            "flex_flow": null,
            "grid_area": null,
            "grid_auto_columns": null,
            "grid_auto_flow": null,
            "grid_auto_rows": null,
            "grid_column": null,
            "grid_gap": null,
            "grid_row": null,
            "grid_template_areas": null,
            "grid_template_columns": null,
            "grid_template_rows": null,
            "height": null,
            "justify_content": null,
            "justify_items": null,
            "left": null,
            "margin": null,
            "max_height": null,
            "max_width": null,
            "min_height": null,
            "min_width": null,
            "object_fit": null,
            "object_position": null,
            "order": null,
            "overflow": null,
            "overflow_x": null,
            "overflow_y": null,
            "padding": null,
            "right": null,
            "top": null,
            "visibility": null,
            "width": null
          }
        },
        "9b64e0714ef0457e8cd8236e2ce62961": {
          "model_module": "@jupyter-widgets/controls",
          "model_name": "DescriptionStyleModel",
          "model_module_version": "1.5.0",
          "state": {
            "_model_module": "@jupyter-widgets/controls",
            "_model_module_version": "1.5.0",
            "_model_name": "DescriptionStyleModel",
            "_view_count": null,
            "_view_module": "@jupyter-widgets/base",
            "_view_module_version": "1.2.0",
            "_view_name": "StyleView",
            "description_width": ""
          }
        },
        "bbcc576ca8ce4b368edd0d6de9d1faf6": {
          "model_module": "@jupyter-widgets/base",
          "model_name": "LayoutModel",
          "model_module_version": "1.2.0",
          "state": {
            "_model_module": "@jupyter-widgets/base",
            "_model_module_version": "1.2.0",
            "_model_name": "LayoutModel",
            "_view_count": null,
            "_view_module": "@jupyter-widgets/base",
            "_view_module_version": "1.2.0",
            "_view_name": "LayoutView",
            "align_content": null,
            "align_items": null,
            "align_self": null,
            "border": null,
            "bottom": null,
            "display": null,
            "flex": null,
            "flex_flow": null,
            "grid_area": null,
            "grid_auto_columns": null,
            "grid_auto_flow": null,
            "grid_auto_rows": null,
            "grid_column": null,
            "grid_gap": null,
            "grid_row": null,
            "grid_template_areas": null,
            "grid_template_columns": null,
            "grid_template_rows": null,
            "height": null,
            "justify_content": null,
            "justify_items": null,
            "left": null,
            "margin": null,
            "max_height": null,
            "max_width": null,
            "min_height": null,
            "min_width": null,
            "object_fit": null,
            "object_position": null,
            "order": null,
            "overflow": null,
            "overflow_x": null,
            "overflow_y": null,
            "padding": null,
            "right": null,
            "top": null,
            "visibility": null,
            "width": null
          }
        },
        "4cf541b8742d47bab7f586917c3fd9c4": {
          "model_module": "@jupyter-widgets/controls",
          "model_name": "ProgressStyleModel",
          "model_module_version": "1.5.0",
          "state": {
            "_model_module": "@jupyter-widgets/controls",
            "_model_module_version": "1.5.0",
            "_model_name": "ProgressStyleModel",
            "_view_count": null,
            "_view_module": "@jupyter-widgets/base",
            "_view_module_version": "1.2.0",
            "_view_name": "StyleView",
            "bar_color": null,
            "description_width": ""
          }
        },
        "516dba16e1c640659fed8e358cbdd622": {
          "model_module": "@jupyter-widgets/base",
          "model_name": "LayoutModel",
          "model_module_version": "1.2.0",
          "state": {
            "_model_module": "@jupyter-widgets/base",
            "_model_module_version": "1.2.0",
            "_model_name": "LayoutModel",
            "_view_count": null,
            "_view_module": "@jupyter-widgets/base",
            "_view_module_version": "1.2.0",
            "_view_name": "LayoutView",
            "align_content": null,
            "align_items": null,
            "align_self": null,
            "border": null,
            "bottom": null,
            "display": null,
            "flex": null,
            "flex_flow": null,
            "grid_area": null,
            "grid_auto_columns": null,
            "grid_auto_flow": null,
            "grid_auto_rows": null,
            "grid_column": null,
            "grid_gap": null,
            "grid_row": null,
            "grid_template_areas": null,
            "grid_template_columns": null,
            "grid_template_rows": null,
            "height": null,
            "justify_content": null,
            "justify_items": null,
            "left": null,
            "margin": null,
            "max_height": null,
            "max_width": null,
            "min_height": null,
            "min_width": null,
            "object_fit": null,
            "object_position": null,
            "order": null,
            "overflow": null,
            "overflow_x": null,
            "overflow_y": null,
            "padding": null,
            "right": null,
            "top": null,
            "visibility": null,
            "width": null
          }
        },
        "2e8ee7c9b6d646bca3599e9733eb4ede": {
          "model_module": "@jupyter-widgets/controls",
          "model_name": "DescriptionStyleModel",
          "model_module_version": "1.5.0",
          "state": {
            "_model_module": "@jupyter-widgets/controls",
            "_model_module_version": "1.5.0",
            "_model_name": "DescriptionStyleModel",
            "_view_count": null,
            "_view_module": "@jupyter-widgets/base",
            "_view_module_version": "1.2.0",
            "_view_name": "StyleView",
            "description_width": ""
          }
        }
      }
    }
  },
  "cells": [
    {
      "cell_type": "markdown",
      "metadata": {
        "id": "view-in-github",
        "colab_type": "text"
      },
      "source": [
        "<a href=\"https://colab.research.google.com/github/parimalakettymuthu/MachineLearning-Projects/blob/main/stackExchange_NN_Multilabelclassification.ipynb\" target=\"_parent\"><img src=\"https://colab.research.google.com/assets/colab-badge.svg\" alt=\"Open In Colab\"/></a>"
      ]
    },
    {
      "cell_type": "code",
      "execution_count": 1,
      "metadata": {
        "id": "yWiXXVeW_cfv"
      },
      "outputs": [],
      "source": [
        "%load_ext autoreload\n",
        "%autoreload 2"
      ]
    },
    {
      "cell_type": "code",
      "source": [
        "import sys\n",
        "if 'google.colab' in str(get_ipython()):\n",
        "  from google.colab import drive\n",
        "  drive.mount('/content/drive')\n",
        "\n",
        "  !pip install torchtext --upgrade --q\n",
        "  !pip install torchmetrics --q\n",
        "  !pip install -quiet torch-lr-finder --q\n",
        "  !pip install wandb --q --upgrade\n",
        "\n",
        "  basepath = '/content/drive/My Drive/NLP' \n",
        "  sys.path.append('/content/drive/My Drive/NLP/custom-functions')"
      ],
      "metadata": {
        "colab": {
          "base_uri": "https://localhost:8080/"
        },
        "id": "roTXjiPGC3ax",
        "outputId": "c8db4123-e73f-4397-f46d-f9bb919f4364"
      },
      "execution_count": 2,
      "outputs": [
        {
          "output_type": "stream",
          "name": "stdout",
          "text": [
            "Drive already mounted at /content/drive; to attempt to forcibly remount, call drive.mount(\"/content/drive\", force_remount=True).\n",
            "\n",
            "Usage:   \n",
            "  pip3 install [options] <requirement specifier> [package-index-options] ...\n",
            "  pip3 install [options] -r <requirements file> [package-index-options] ...\n",
            "  pip3 install [options] [-e] <vcs project url> ...\n",
            "  pip3 install [options] [-e] <local project path> ...\n",
            "  pip3 install [options] <archive url/path> ...\n",
            "\n",
            "no such option: -u\n"
          ]
        }
      ]
    },
    {
      "cell_type": "code",
      "source": [
        "#Importing the required libraries \n",
        "import torch\n",
        "import torch.nn as nn\n",
        "import torch.nn.functional as F\n",
        "\n",
        "import torchmetrics\n",
        "from torchmetrics.classification import MultilabelF1Score, MultilabelHammingDistance\n",
        "from torchmetrics.functional.classification import multilabel_f1_score, multilabel_hamming_distance\n",
        "\n",
        "import joblib\n",
        "#import swifter\n",
        "import ast\n",
        "import wandb\n",
        "\n",
        "from types import SimpleNamespace\n",
        "from functools import partial\n",
        "from pathlib import Path\n",
        "from sklearn.model_selection import train_test_split\n",
        "from sklearn.preprocessing import MultiLabelBinarizer as mlb\n"
      ],
      "metadata": {
        "id": "byKpUJjmDgYh"
      },
      "execution_count": 3,
      "outputs": []
    },
    {
      "cell_type": "code",
      "source": [
        "#Defined the google drive folders for accessing/saving models related files\n",
        "embeddings_folder = Path(basepath)/ 'assignment7/WordEmbeddings'\n",
        "data_folder = Path(basepath)/ 'assignment7/MultiLabel_Classification'\n",
        "model_saving_folder = Path(basepath)/ 'assignment7/MultiLabel_Classification'"
      ],
      "metadata": {
        "id": "GmNdHyTvDhwb"
      },
      "execution_count": 4,
      "outputs": []
    },
    {
      "cell_type": "code",
      "source": [
        "data_cleaned = data_folder/ \"df_multilabel_hw_cleaned.joblib\"\n",
        "stackExchange_dataset = joblib.load(data_cleaned)"
      ],
      "metadata": {
        "id": "-xOnlKc1Ydmo"
      },
      "execution_count": 5,
      "outputs": []
    },
    {
      "cell_type": "code",
      "source": [
        "X = stackExchange_dataset['cleaned_text'].values\n",
        "y = stackExchange_dataset['Tag_Number'].values"
      ],
      "metadata": {
        "id": "xbf44Q-XYrvw"
      },
      "execution_count": 6,
      "outputs": []
    },
    {
      "cell_type": "code",
      "source": [
        "!pip install swifter -qq"
      ],
      "metadata": {
        "id": "89QcmYtfYyWo"
      },
      "execution_count": 7,
      "outputs": []
    },
    {
      "cell_type": "code",
      "source": [
        "import swifter\n",
        "import ast\n",
        "stackExchange_dataset['Tag_Number_list'] = stackExchange_dataset['Tag_Number'].swifter.apply(lambda x: ast.literal_eval(x))"
      ],
      "metadata": {
        "colab": {
          "base_uri": "https://localhost:8080/",
          "height": 49,
          "referenced_widgets": [
            "3e3c8f74ad6d400bab9b16d039a669ec",
            "f2ace197e4ab439a93c81dc5b0fdbf08",
            "1279d606e6ab4176ade12b5af3dfd32e",
            "ba37b2f9974e43cc8bae94636dcc0a8c",
            "12e961e2a7e847e8991c2b4048223e55",
            "f879cd50bc2348b98f6d04cbced29e49",
            "9b64e0714ef0457e8cd8236e2ce62961",
            "bbcc576ca8ce4b368edd0d6de9d1faf6",
            "4cf541b8742d47bab7f586917c3fd9c4",
            "516dba16e1c640659fed8e358cbdd622",
            "2e8ee7c9b6d646bca3599e9733eb4ede"
          ]
        },
        "id": "5b-mizHzY21P",
        "outputId": "2b1092b3-acb4-4e49-f586-7002a8c8c6da"
      },
      "execution_count": 8,
      "outputs": [
        {
          "output_type": "display_data",
          "data": {
            "text/plain": [
              "Pandas Apply:   0%|          | 0/47427 [00:00<?, ?it/s]"
            ],
            "application/vnd.jupyter.widget-view+json": {
              "version_major": 2,
              "version_minor": 0,
              "model_id": "3e3c8f74ad6d400bab9b16d039a669ec"
            }
          },
          "metadata": {}
        }
      ]
    },
    {
      "cell_type": "code",
      "source": [
        "y_final = stackExchange_dataset['Tag_Number_list'].values"
      ],
      "metadata": {
        "id": "jOP5vGOIZwiZ"
      },
      "execution_count": 9,
      "outputs": []
    },
    {
      "cell_type": "code",
      "source": [
        "from sklearn.preprocessing import MultiLabelBinarizer as mlb\n",
        "y_stackExchange_encoding = mlb().fit_transform(y_final)"
      ],
      "metadata": {
        "id": "oQX_RJsUZtz6"
      },
      "execution_count": 10,
      "outputs": []
    },
    {
      "cell_type": "code",
      "source": [
        "from sklearn.model_selection import train_test_split\n",
        "X_sExchange_train, X_valid_test, y_sExchange_train, y_valid_test = train_test_split(X, y_stackExchange_encoding, test_size=0.4, random_state=42)\n",
        "X_sExchange_valid, X_sExchange_test, y_sExchange_valid, y_sExchange_test = train_test_split(X_valid_test, y_valid_test, test_size=0.5, random_state=42)"
      ],
      "metadata": {
        "id": "awTdtZf6Y6yI"
      },
      "execution_count": 11,
      "outputs": []
    },
    {
      "cell_type": "code",
      "source": [
        "from gensim.models import KeyedVectors\n",
        "pretrained_sExchange_file = str(embeddings_folder/ \"model_stackExchange_CBOW.bin\")\n",
        "sExchange_vectors = KeyedVectors.load(pretrained_sExchange_file)"
      ],
      "metadata": {
        "id": "zpz6KhcoZsIJ"
      },
      "execution_count": 12,
      "outputs": []
    },
    {
      "cell_type": "code",
      "source": [
        "!pip install torch_lr_finder -qq"
      ],
      "metadata": {
        "id": "5FAncfudb53H"
      },
      "execution_count": 13,
      "outputs": []
    },
    {
      "cell_type": "code",
      "source": [
        "from torch_lr_finder import LRFinder\n",
        "from Trainer_v4 import Trainer\n",
        "from data_preparation_HW7 import * "
      ],
      "metadata": {
        "id": "ttiIxeiaaCA6"
      },
      "execution_count": 14,
      "outputs": []
    },
    {
      "cell_type": "code",
      "source": [
        "from ff_sequential_model import MLPCustom\n",
        "#from ff_sequential_model_v1 import MLPCustom"
      ],
      "metadata": {
        "id": "tuj-uxyKbcM4"
      },
      "execution_count": 15,
      "outputs": []
    },
    {
      "cell_type": "code",
      "source": [
        "#Creating training dataset with subset \n",
        "import random\n",
        "Trainer.set_seed()\n",
        "sExchange_trainset = CustomDataset(X_sExchange_train, y_sExchange_train)\n",
        "se_train_subset_indices = random.sample(range(0, len(sExchange_trainset)), 500)\n",
        "se_train_subset = torch.utils.data.Subset(sExchange_trainset, se_train_subset_indices)\n",
        "se_vocab = get_vocab(sExchange_trainset, min_freq=2)"
      ],
      "metadata": {
        "id": "AdzD3XA-d3Hk"
      },
      "execution_count": 16,
      "outputs": []
    },
    {
      "cell_type": "code",
      "source": [
        "type(se_vocab), se_vocab['debug']"
      ],
      "metadata": {
        "colab": {
          "base_uri": "https://localhost:8080/"
        },
        "id": "cbbffFS0wqhh",
        "outputId": "78b5f683-eb29-430d-f64d-3c31f626bd44"
      },
      "execution_count": 17,
      "outputs": [
        {
          "output_type": "execute_result",
          "data": {
            "text/plain": [
              "(torchtext.vocab.vocab.Vocab, 4164)"
            ]
          },
          "metadata": {},
          "execution_count": 17
        }
      ]
    },
    {
      "cell_type": "markdown",
      "source": [],
      "metadata": {
        "id": "bWWMlSLUhiW2"
      }
    },
    {
      "cell_type": "code",
      "source": [
        "pretrained_sExchange_file = str(embeddings_folder/ \"model_stackExchange_CBOW.bin\")\n",
        "sExchange_vectors = KeyedVectors.load(pretrained_sExchange_file)"
      ],
      "metadata": {
        "id": "8wGZYxg7eLuu"
      },
      "execution_count": 18,
      "outputs": []
    },
    {
      "cell_type": "code",
      "source": [
        "pretrained_weights, words_found, words_not_found = get_pretrained_weights(\n",
        "    vocab = se_vocab,\n",
        "    pretrained_vectors = sExchange_vectors,\n",
        "    embedding_dim = 300, #updated from 300 to 150\n",
        ")"
      ],
      "metadata": {
        "id": "Lq8qPuGLlOUh"
      },
      "execution_count": 19,
      "outputs": []
    },
    {
      "cell_type": "code",
      "source": [
        "pretrained_weights.shape"
      ],
      "metadata": {
        "colab": {
          "base_uri": "https://localhost:8080/"
        },
        "id": "hDT7L0lOlx34",
        "outputId": "45a4f43c-d04c-462d-a00c-658e6f59cbc8"
      },
      "execution_count": 20,
      "outputs": [
        {
          "output_type": "execute_result",
          "data": {
            "text/plain": [
              "torch.Size([90287, 300])"
            ]
          },
          "metadata": {},
          "execution_count": 20
        }
      ]
    },
    {
      "cell_type": "code",
      "source": [
        "type(pretrained_weights), words_found, words_not_found"
      ],
      "metadata": {
        "colab": {
          "base_uri": "https://localhost:8080/"
        },
        "id": "6XmLwDyil2V2",
        "outputId": "b617c314-c9b0-4520-e740-66314c07c7ce"
      },
      "execution_count": 21,
      "outputs": [
        {
          "output_type": "execute_result",
          "data": {
            "text/plain": [
              "(torch.Tensor, 14664, 75623)"
            ]
          },
          "metadata": {},
          "execution_count": 21
        }
      ]
    },
    {
      "cell_type": "markdown",
      "source": [
        "Initialining all required HyperParameters "
      ],
      "metadata": {
        "id": "2cxT_0v8fgot"
      }
    },
    {
      "cell_type": "code",
      "source": [
        "hyperparameters = SimpleNamespace(\n",
        "# for model\n",
        "    EMBED_DIM=300,\n",
        "    VOCAB_SIZE=len(se_vocab),\n",
        "    OUTPUT_DIM=10,\n",
        "    HIDDEN_SIZES_LIST=[],\n",
        "    DPROB_LIST=[],\n",
        "    NON_LINEARITY=nn.SELU(),\n",
        "    BATCH_NORM=False,\n",
        "    \n",
        "    # for optimizer\n",
        "    OPTIMIZER=\"AdamW\",\n",
        "    MOMENTUM=0,\n",
        "    NESTEROV=False,\n",
        "    \n",
        "    # for training\n",
        "    INITIALIZATION=\"default\",\n",
        "    EPOCHS=20,\n",
        "    BATCH_SIZE=32,\n",
        "    LEARNING_RATE=0.001,\n",
        "    DATASET=\"STACKEXCHANGE\",\n",
        "    ARCHITECTURE=\"emdbag_linear\",\n",
        "    \n",
        "    # Schedulers\n",
        "    SCHEDULER=\"None\",\n",
        "\n",
        "    #gradient clipping\n",
        "    CLIP_TYPE='norm',\n",
        "    CLIP_VALUE=2\n",
        ")"
      ],
      "metadata": {
        "id": "1aocgXe7vws4"
      },
      "execution_count": 244,
      "outputs": []
    },
    {
      "cell_type": "markdown",
      "source": [
        "Specifying run name & folder"
      ],
      "metadata": {
        "id": "iR3EXC18iovu"
      }
    },
    {
      "cell_type": "code",
      "source": [
        "#Defining the variables\n",
        "project_name = \"StackExchange NN architecture\"\n",
        "run_name=\"Task3a experiment17 version4\"\n",
        "run_folder = model_saving_folder / run_name\n",
        "run_folder.mkdir(exist_ok=True)\n",
        "log_frequency = 5"
      ],
      "metadata": {
        "id": "VPyitAyTilNb"
      },
      "execution_count": 245,
      "outputs": []
    },
    {
      "cell_type": "markdown",
      "source": [
        "Modifying Hyperparameters for Run"
      ],
      "metadata": {
        "id": "iEAjOIYKjGtD"
      }
    },
    {
      "cell_type": "code",
      "source": [
        "# # run 1 - based on default initialization\n",
        "# # Notes: Final Learning rate was set to 1\n",
        "\n",
        "# # run 2\n",
        "hyperparameters.HIDDEN_SIZES_LIST = [200]\n",
        "hyperparameters.DPROB_LIST = [0]\n",
        "hyperparameters.LEARNING_RATE = 0.001  # reset initial learning rate\n",
        "# # Notes : Final Learning rate was set to 1.18\n",
        "\n",
        "# # run 3\n",
        "#hyperparameters.OPTIMIZER = \"Adam\"\n",
        "hyperparameters.LEARNING_RATE = 0.001  # reset initial learning rate\n",
        "# # Notes : Final Learning rate was set to 0.006\n",
        "\n",
        "# # run 4\n",
        "hyperparameters.HIDDEN_SIZES_LIST = [200] + [200]\n",
        "hyperparameters.DPROB_LIST = [0] + [0]\n",
        "hyperparameters.LEARNING_RATE = 0.001  # reset initial learning rate\n",
        "# # Notes : Final Learning rate was set to 0.003\n",
        "\n",
        "# # run 5\n",
        "hyperparameters.INITIALIZATION = 'kaiming'\n",
        "hyperparameters.NON_LINEARITY = nn.ReLU()\n",
        "hyperparameters.LEARNING_RATE = 0.001  # reset initial learning rate\n",
        "# # Notes : Final Learning rate was set to 0.003\n",
        "\n",
        "# # run 6\n",
        "hyperparameters.HIDDEN_SIZES_LIST = [400] \n",
        "hyperparameters.DPROB_LIST = [0] \n",
        "hyperparameters.LEARNING_RATE = 0.001  # reset initial learning rate\n",
        "# # Notes : Final Learning rate was set to 0.005\n",
        "\n",
        "##run 7\n",
        "hyperparameters.HIDDEN_SIZES_LIST = [100] + [200] +[200]\n",
        "hyperparameters.DPROB_LIST = [0] + [0] +[0]\n",
        "hyperparameters.LEARNING_RATE = 0.001  # reset initial learning rate\n",
        "# # Notes : Final Learning rate was set to 0.016\n",
        "\n",
        "#run 8 \n",
        "# hyperparameters.HIDDEN_SIZES_LIST = [400] + [300] +[200] \n",
        "# hyperparameters.DPROB_LIST = [0] + [0] +[0]\n",
        "# hyperparameters.LEARNING_RATE = 0.001\n",
        "# # Notes : Final Learning rate was set to 1\n",
        "\n",
        "#run9\n",
        "# hyperparameters.HIDDEN_SIZES_LIST = [400] + [300] +[200]\n",
        "# hyperparameters.DPROB_LIST = [0.5] + [0.5] +[0.5]\n",
        "# hyperparameters.LEARNING_RATE = 0.001\n",
        "# # Notes : Final Learning rate was set to 2\n",
        "#run10\n",
        "# hyperparameters.HIDDEN_SIZES_LIST = [500] + [400] +[300]\n",
        "# hyperparameters.DPROB_LIST = [0] + [0] +[0]\n",
        "# hyperparameters.LEARNING_RATE = 0.001\n",
        "# # Notes : Final Learning rate was set to 0.9 \n",
        "\n",
        "#run 11\n",
        "# hyperparameters.HIDDEN_SIZES_LIST = [600] + [500] +[400]\n",
        "# hyperparameters.DPROB_LIST = [0] + [0] +[0]\n",
        "# hyperparameters.LEARNING_RATE = 0.001\n",
        "# # Notes : Final Learning rate was set to 0.1\n",
        "\n",
        "#run 12\n",
        "# hyperparameters.HIDDEN_SIZES_LIST = [600] + [600] +[400]\n",
        "# hyperparameters.DPROB_LIST = [0] + [0] +[0]\n",
        "# hyperparameters.LEARNING_RATE = 0.001\n",
        "# # Notes : Final Learning rate was set to 0.5 \n",
        "\n",
        "#run13\n",
        "# hyperparameters.HIDDEN_SIZES_LIST = [500] + [400] +[300]\n",
        "# hyperparameters.DPROB_LIST = [0] + [0] +[0]\n",
        "# hyperparameters.LEARNING_RATE = 0.001\n",
        "# # Notes : Final Learning rate was set to 0.1\n",
        "\n",
        "#run14\n",
        "# hyperparameters.HIDDEN_SIZES_LIST = [600] + [500] +[400]\n",
        "# hyperparameters.DPROB_LIST = [0.2] + [0.1] +[0.1]\n",
        "# hyperparameters.LEARNING_RATE = 0.001\n",
        "# # Notes : Final Learning rate was set to 0.1\n",
        "\n",
        "#run14\n",
        "# hyperparameters.HIDDEN_SIZES_LIST = [600] + [500] +[400]\n",
        "# hyperparameters.DPROB_LIST = [0.2] + [0.2] +[0.2]\n",
        "# hyperparameters.LEARNING_RATE = 0.001\n",
        "# # Notes : Final Learning rate was set to 0.1\n",
        "\n",
        "#run15 \n",
        "#gradient clipping\n",
        "hyperparameters.DPROB_LIST = [0.2] + [0.2] +[0.1]\n",
        "CLIP_TYPE='norm',\n",
        "CLIP_VALUE=2,\n",
        "EPOCHS=10,\n",
        "hyperparameters.WEIGHT_DECAY = 0.1\n",
        "# # Notes : Final Learning rate was set to 0.1\n",
        "\n",
        "#run 16\n",
        "#One cycle scheduler\n",
        "hyperparameters.LEARNING_RATE = 0.001   \n",
        "hyperparameters.WEIGHT_DECAY = 10\n",
        "hyperparameters.SCHEDULER='OneCyclicLR'\n",
        "hyperparameters.SCHEDULER_MAX_LR=0.01\n",
        "hyperparameters.SCHEDULER_DIV_FACTOR=25\n",
        "hyperparameters.SCHEDULER_FINAL_DIV_FACTOR=1e3\n",
        "hyperparameters.EPOCHS = 10\n",
        "# # Notes : Final Learning rate was set to 0.1\n",
        "\n",
        "#run17\n",
        "hyperparameters.HIDDEN_SIZES_LIST = [200] + [200] +[100]"
      ],
      "metadata": {
        "id": "Mz6HeXcUusz1"
      },
      "execution_count": 246,
      "outputs": []
    },
    {
      "cell_type": "markdown",
      "source": [
        "Configuring the trainer "
      ],
      "metadata": {
        "id": "5d24Bq1lk3MB"
      }
    },
    {
      "cell_type": "code",
      "source": [
        "#Set the seed value \n",
        "Trainer.set_seed()\n",
        "\n",
        "\n",
        "se_collate_fn = partial(collate_batch, vocab=se_vocab)"
      ],
      "metadata": {
        "id": "qXtU7DtFk2ny"
      },
      "execution_count": 247,
      "outputs": []
    },
    {
      "cell_type": "code",
      "source": [
        "type(se_collate_fn)"
      ],
      "metadata": {
        "colab": {
          "base_uri": "https://localhost:8080/"
        },
        "id": "SngvqxvPNdEq",
        "outputId": "6a2218b1-570f-4f28-b781-17d0bbadcb32"
      },
      "execution_count": 248,
      "outputs": [
        {
          "output_type": "execute_result",
          "data": {
            "text/plain": [
              "functools.partial"
            ]
          },
          "metadata": {},
          "execution_count": 248
        }
      ]
    },
    {
      "cell_type": "code",
      "source": [
        "#Data Loader\n",
        "se_train_loader, _ = get_loaders(trainset=sExchange_trainset, validset=None, \n",
        "                                         batch_size_=hyperparameters.BATCH_SIZE,\n",
        "                                         collate_fn=se_collate_fn)\n",
        "\n",
        "se_loss_function = nn.BCEWithLogitsLoss()\n",
        "stackExchange_model = MLPCustom(hyperparameters.EMBED_DIM,\n",
        "                                hyperparameters.VOCAB_SIZE,\n",
        "                                hyperparameters.HIDDEN_SIZES_LIST,\n",
        "                                hyperparameters.DPROB_LIST, \n",
        "                                hyperparameters.OUTPUT_DIM, \n",
        "                                hyperparameters.NON_LINEARITY,\n",
        "                                hyperparameters.BATCH_NORM,)\n",
        "                                # use_pre_trained_weights = hyperparameters.USE_PRE_TRAINED_WEIGHTS,\n",
        "                                # pretrained_weights = pretrained_weights,\n",
        "                                # freeze_pretrained = hyperparameters.FREEZE_PRETRAINED)\n",
        "def init_weights(m):\n",
        "  if type(m)==\"nn.Linear\":\n",
        "    torch.nn.init.kaiming_normal_(m.weight)\n",
        "    torch.nn.init.zeros_(nn.bias)\n",
        "\n",
        "#Apply initialization to all modules\n",
        "if hyperparameters.INITIALIZATION == 'kaiming':\n",
        "  stackExchange_model.apply(init_weights)\n",
        "# set gradient clipping\n",
        "\n",
        "#Defining optimizer\n",
        "def get_optimizer():\n",
        "  if hyperparameters.OPTIMIZER == 'SGD':\n",
        "    optimizer = torch.optim.SGD(\n",
        "        stackExchange_model.parameters(),\n",
        "        lr = hyperparameters.LEARNING_RATE,\n",
        "        momentum = hyperparameters.MOMENTUM,\n",
        "        nesterov = hyperparameters.NESTEROV,\n",
        "        weight_decay = hyperparameters.WEIGHT_DECAY\n",
        "    )\n",
        "  else:\n",
        "    optimizer = torch.optim.AdamW(\n",
        "        stackExchange_model.parameters(),\n",
        "        lr = hyperparameters.LEARNING_RATE,\n",
        "        weight_decay = hyperparameters.WEIGHT_DECAY\n",
        "    )\n",
        "  return optimizer\n",
        "\n",
        "sExchange_optimizer = get_optimizer()\n",
        "sExchange_device = torch.device(\"cuda:0\" if torch.cuda.is_available() else \"cpu\")"
      ],
      "metadata": {
        "id": "P0JRv-hjNb77"
      },
      "execution_count": 249,
      "outputs": []
    },
    {
      "cell_type": "code",
      "source": [
        "sExchange_optimizer"
      ],
      "metadata": {
        "colab": {
          "base_uri": "https://localhost:8080/"
        },
        "id": "WyEhsfq7OF79",
        "outputId": "faac4276-bb11-4ba0-c09a-e94e995adef0"
      },
      "execution_count": 250,
      "outputs": [
        {
          "output_type": "execute_result",
          "data": {
            "text/plain": [
              "AdamW (\n",
              "Parameter Group 0\n",
              "    amsgrad: False\n",
              "    betas: (0.9, 0.999)\n",
              "    capturable: False\n",
              "    differentiable: False\n",
              "    eps: 1e-08\n",
              "    foreach: None\n",
              "    fused: None\n",
              "    lr: 0.001\n",
              "    maximize: False\n",
              "    weight_decay: 10\n",
              ")"
            ]
          },
          "metadata": {},
          "execution_count": 250
        }
      ]
    },
    {
      "cell_type": "code",
      "source": [
        "stackExchange_model"
      ],
      "metadata": {
        "colab": {
          "base_uri": "https://localhost:8080/"
        },
        "id": "efkzX1wUdGK0",
        "outputId": "fe1ad948-6847-4195-c127-f3105c8c900c"
      },
      "execution_count": 251,
      "outputs": [
        {
          "output_type": "execute_result",
          "data": {
            "text/plain": [
              "MLPCustom(\n",
              "  (non_linearity): ReLU()\n",
              "  (embedding): EmbeddingBag(90287, 300, mode='mean')\n",
              "  (module_list): ModuleList(\n",
              "    (0): Linear(in_features=300, out_features=200, bias=True)\n",
              "    (1): ReLU()\n",
              "    (2): Dropout(p=0.2, inplace=False)\n",
              "    (3): Linear(in_features=200, out_features=200, bias=True)\n",
              "    (4): ReLU()\n",
              "    (5): Dropout(p=0.2, inplace=False)\n",
              "    (6): Linear(in_features=200, out_features=100, bias=True)\n",
              "    (7): ReLU()\n",
              "    (8): Dropout(p=0.1, inplace=False)\n",
              "    (9): Linear(in_features=100, out_features=10, bias=True)\n",
              "  )\n",
              ")"
            ]
          },
          "metadata": {},
          "execution_count": 251
        }
      ]
    },
    {
      "cell_type": "markdown",
      "source": [
        "Trainer"
      ],
      "metadata": {
        "id": "bas5zQrwdPmj"
      }
    },
    {
      "cell_type": "code",
      "source": [
        "sEXchange_trainer = Trainer(\n",
        "    model=stackExchange_model, optimizer=sExchange_optimizer, \n",
        "    criterion=se_loss_function,\n",
        "    device=sExchange_device\n",
        ")\n",
        "sEXchange_trainer.set_loaders(se_train_loader)\n",
        "sEXchange_trainer.set_gradient_clipping(hyperparameters.CLIP_TYPE, hyperparameters.CLIP_VALUE, norm_type=2)\n",
        "steps_per_epoch = len(sEXchange_trainer.train_loader)\n",
        "scheduler = torch.optim.lr_scheduler.OneCycleLR(sEXchange_trainer.optimizer, \n",
        "                                                hyperparameters.SCHEDULER_MAX_LR, \n",
        "                                                steps_per_epoch=steps_per_epoch,\n",
        "                                                epochs=hyperparameters.EPOCHS,\n",
        "                                                div_factor=hyperparameters.SCHEDULER_DIV_FACTOR,\n",
        "                                                final_div_factor=hyperparameters.SCHEDULER_FINAL_DIV_FACTOR)\n",
        "sEXchange_trainer.set_lr_scheduler(scheduler=scheduler)"
      ],
      "metadata": {
        "id": "8EzS-2JDdJRa"
      },
      "execution_count": 252,
      "outputs": []
    },
    {
      "cell_type": "markdown",
      "source": [
        "Learning Rate Finder"
      ],
      "metadata": {
        "id": "4gE7wNq_emrR"
      }
    },
    {
      "cell_type": "code",
      "source": [
        "type(se_train_loader)"
      ],
      "metadata": {
        "colab": {
          "base_uri": "https://localhost:8080/"
        },
        "id": "VU50F65-hdwz",
        "outputId": "2c593c71-9ce4-45af-9041-29d955e82f57"
      },
      "execution_count": 253,
      "outputs": [
        {
          "output_type": "execute_result",
          "data": {
            "text/plain": [
              "torch.utils.data.dataloader.DataLoader"
            ]
          },
          "metadata": {},
          "execution_count": 253
        }
      ]
    },
    {
      "cell_type": "code",
      "source": [
        "#sEXchange_trainer.lr_finder_range_test(sEXchange_trainer.se_train_loader)\n",
        "sExchange_optimizer.scheduler = None\n",
        "sEXchange_trainer.lr_finder_range_test(se_train_loader)"
      ],
      "metadata": {
        "colab": {
          "base_uri": "https://localhost:8080/",
          "height": 345
        },
        "id": "LZsdhPy-el6q",
        "outputId": "2583c9b7-3520-4ee6-d232-545fe578773c"
      },
      "execution_count": 254,
      "outputs": [
        {
          "output_type": "error",
          "ename": "RuntimeError",
          "evalue": "ignored",
          "traceback": [
            "\u001b[0;31m---------------------------------------------------------------------------\u001b[0m",
            "\u001b[0;31mRuntimeError\u001b[0m                              Traceback (most recent call last)",
            "\u001b[0;32m<ipython-input-254-9c20eb8ec3d8>\u001b[0m in \u001b[0;36m<cell line: 3>\u001b[0;34m()\u001b[0m\n\u001b[1;32m      1\u001b[0m \u001b[0;31m#sEXchange_trainer.lr_finder_range_test(sEXchange_trainer.se_train_loader)\u001b[0m\u001b[0;34m\u001b[0m\u001b[0;34m\u001b[0m\u001b[0m\n\u001b[1;32m      2\u001b[0m \u001b[0msExchange_optimizer\u001b[0m\u001b[0;34m.\u001b[0m\u001b[0mscheduler\u001b[0m \u001b[0;34m=\u001b[0m \u001b[0;32mNone\u001b[0m\u001b[0;34m\u001b[0m\u001b[0;34m\u001b[0m\u001b[0m\n\u001b[0;32m----> 3\u001b[0;31m \u001b[0msEXchange_trainer\u001b[0m\u001b[0;34m.\u001b[0m\u001b[0mlr_finder_range_test\u001b[0m\u001b[0;34m(\u001b[0m\u001b[0mse_train_loader\u001b[0m\u001b[0;34m)\u001b[0m\u001b[0;34m\u001b[0m\u001b[0;34m\u001b[0m\u001b[0m\n\u001b[0m",
            "\u001b[0;32m/content/drive/My Drive/NLP/custom-functions/Trainer_v4.py\u001b[0m in \u001b[0;36mlr_finder_range_test\u001b[0;34m(self, train_loader, val_loader, start_lr, end_lr, num_iter, step_mode)\u001b[0m\n\u001b[1;32m    557\u001b[0m         \u001b[0mstep_mode\u001b[0m\u001b[0;34m=\u001b[0m\u001b[0;34m\"exp\"\u001b[0m\u001b[0;34m,\u001b[0m\u001b[0;34m\u001b[0m\u001b[0;34m\u001b[0m\u001b[0m\n\u001b[1;32m    558\u001b[0m     ):\n\u001b[0;32m--> 559\u001b[0;31m         \u001b[0mlr_finder\u001b[0m \u001b[0;34m=\u001b[0m \u001b[0mLRFinder\u001b[0m\u001b[0;34m(\u001b[0m\u001b[0mself\u001b[0m\u001b[0;34m.\u001b[0m\u001b[0mmodel\u001b[0m\u001b[0;34m,\u001b[0m \u001b[0mself\u001b[0m\u001b[0;34m.\u001b[0m\u001b[0moptimizer\u001b[0m\u001b[0;34m,\u001b[0m \u001b[0mself\u001b[0m\u001b[0;34m.\u001b[0m\u001b[0mcriterion\u001b[0m\u001b[0;34m,\u001b[0m \u001b[0mself\u001b[0m\u001b[0;34m.\u001b[0m\u001b[0mdevice\u001b[0m\u001b[0;34m)\u001b[0m\u001b[0;34m\u001b[0m\u001b[0;34m\u001b[0m\u001b[0m\n\u001b[0m\u001b[1;32m    560\u001b[0m         lr_finder.range_test(\n\u001b[1;32m    561\u001b[0m             \u001b[0mtrain_loader\u001b[0m\u001b[0;34m,\u001b[0m\u001b[0;34m\u001b[0m\u001b[0;34m\u001b[0m\u001b[0m\n",
            "\u001b[0;32m/usr/local/lib/python3.9/dist-packages/torch_lr_finder/lr_finder.py\u001b[0m in \u001b[0;36m__init__\u001b[0;34m(self, model, optimizer, criterion, device, memory_cache, cache_dir)\u001b[0m\n\u001b[1;32m    151\u001b[0m         \u001b[0;31m# Check if the optimizer is already attached to a scheduler\u001b[0m\u001b[0;34m\u001b[0m\u001b[0;34m\u001b[0m\u001b[0m\n\u001b[1;32m    152\u001b[0m         \u001b[0mself\u001b[0m\u001b[0;34m.\u001b[0m\u001b[0moptimizer\u001b[0m \u001b[0;34m=\u001b[0m \u001b[0moptimizer\u001b[0m\u001b[0;34m\u001b[0m\u001b[0;34m\u001b[0m\u001b[0m\n\u001b[0;32m--> 153\u001b[0;31m         \u001b[0mself\u001b[0m\u001b[0;34m.\u001b[0m\u001b[0m_check_for_scheduler\u001b[0m\u001b[0;34m(\u001b[0m\u001b[0;34m)\u001b[0m\u001b[0;34m\u001b[0m\u001b[0;34m\u001b[0m\u001b[0m\n\u001b[0m\u001b[1;32m    154\u001b[0m \u001b[0;34m\u001b[0m\u001b[0m\n\u001b[1;32m    155\u001b[0m         \u001b[0mself\u001b[0m\u001b[0;34m.\u001b[0m\u001b[0mmodel\u001b[0m \u001b[0;34m=\u001b[0m \u001b[0mmodel\u001b[0m\u001b[0;34m\u001b[0m\u001b[0;34m\u001b[0m\u001b[0m\n",
            "\u001b[0;32m/usr/local/lib/python3.9/dist-packages/torch_lr_finder/lr_finder.py\u001b[0m in \u001b[0;36m_check_for_scheduler\u001b[0;34m(self)\u001b[0m\n\u001b[1;32m    361\u001b[0m         \u001b[0;32mfor\u001b[0m \u001b[0mparam_group\u001b[0m \u001b[0;32min\u001b[0m \u001b[0mself\u001b[0m\u001b[0;34m.\u001b[0m\u001b[0moptimizer\u001b[0m\u001b[0;34m.\u001b[0m\u001b[0mparam_groups\u001b[0m\u001b[0;34m:\u001b[0m\u001b[0;34m\u001b[0m\u001b[0;34m\u001b[0m\u001b[0m\n\u001b[1;32m    362\u001b[0m             \u001b[0;32mif\u001b[0m \u001b[0;34m\"initial_lr\"\u001b[0m \u001b[0;32min\u001b[0m \u001b[0mparam_group\u001b[0m\u001b[0;34m:\u001b[0m\u001b[0;34m\u001b[0m\u001b[0;34m\u001b[0m\u001b[0m\n\u001b[0;32m--> 363\u001b[0;31m                 \u001b[0;32mraise\u001b[0m \u001b[0mRuntimeError\u001b[0m\u001b[0;34m(\u001b[0m\u001b[0;34m\"Optimizer already has a scheduler attached to it\"\u001b[0m\u001b[0;34m)\u001b[0m\u001b[0;34m\u001b[0m\u001b[0;34m\u001b[0m\u001b[0m\n\u001b[0m\u001b[1;32m    364\u001b[0m \u001b[0;34m\u001b[0m\u001b[0m\n\u001b[1;32m    365\u001b[0m     \u001b[0;32mdef\u001b[0m \u001b[0m_train_batch\u001b[0m\u001b[0;34m(\u001b[0m\u001b[0mself\u001b[0m\u001b[0;34m,\u001b[0m \u001b[0mtrain_iter\u001b[0m\u001b[0;34m,\u001b[0m \u001b[0maccumulation_steps\u001b[0m\u001b[0;34m,\u001b[0m \u001b[0mnon_blocking_transfer\u001b[0m\u001b[0;34m=\u001b[0m\u001b[0;32mTrue\u001b[0m\u001b[0;34m)\u001b[0m\u001b[0;34m:\u001b[0m\u001b[0;34m\u001b[0m\u001b[0;34m\u001b[0m\u001b[0m\n",
            "\u001b[0;31mRuntimeError\u001b[0m: Optimizer already has a scheduler attached to it"
          ]
        }
      ]
    },
    {
      "cell_type": "code",
      "source": [
        "hyperparameters.LEARNING_RATE = 0.1"
      ],
      "metadata": {
        "id": "mwdjeuJviJx1"
      },
      "execution_count": 237,
      "outputs": []
    },
    {
      "cell_type": "markdown",
      "source": [
        "Set trainer based on hyperparameters"
      ],
      "metadata": {
        "id": "eDXINAJ9i-nC"
      }
    },
    {
      "cell_type": "code",
      "source": [
        "#Resetting optimizer\n",
        "sEXchange_trainer.set_optimizer(get_optimizer())\n",
        "\n",
        "# # #Setting metric \n",
        "se_train_metric = MultilabelHammingDistance(num_labels=10)\n",
        "sEXchange_trainer.set_metric(se_train_metric.to(sExchange_device))\n",
        "sEXchange_trainer.set_lr_scheduler(scheduler=scheduler)"
      ],
      "metadata": {
        "id": "YwmeeecQi9nj"
      },
      "execution_count": 238,
      "outputs": []
    },
    {
      "cell_type": "code",
      "source": [
        "#Defining the variables\n",
        "project_name = \"StackExchange NN architecture\"\n",
        "run_name=\"Task3a experiment17 version2\"\n",
        "run_folder = model_saving_folder / run_name\n",
        "run_folder.mkdir(exist_ok=True)\n",
        "log_frequency = 5"
      ],
      "metadata": {
        "id": "lljtnLkgy_jY"
      },
      "execution_count": 228,
      "outputs": []
    },
    {
      "cell_type": "code",
      "source": [
        "#Setting wandb \n",
        "sEXchange_trainer.set_wandb(\n",
        "   project_name = project_name,\n",
        "   run_name = run_name,\n",
        "   config = hyperparameters,\n",
        "   log_batch=True, \n",
        "   log_frequency=log_frequency\n",
        " )"
      ],
      "metadata": {
        "colab": {
          "base_uri": "https://localhost:8080/",
          "height": 519
        },
        "id": "lzR_TCxXkWRe",
        "outputId": "1a247614-ffac-4b6f-9085-23da7daf2c4b"
      },
      "execution_count": 229,
      "outputs": [
        {
          "output_type": "display_data",
          "data": {
            "text/plain": [
              "<IPython.core.display.HTML object>"
            ],
            "text/html": [
              "Tracking run with wandb version 0.15.0"
            ]
          },
          "metadata": {}
        },
        {
          "output_type": "display_data",
          "data": {
            "text/plain": [
              "<IPython.core.display.HTML object>"
            ],
            "text/html": [
              "Run data is saved locally in <code>/content/wandb/run-20230426_003110-r6k4hro4</code>"
            ]
          },
          "metadata": {}
        },
        {
          "output_type": "display_data",
          "data": {
            "text/plain": [
              "<IPython.core.display.HTML object>"
            ],
            "text/html": [
              "Syncing run <strong><a href='https://wandb.ai/parimala/StackExchange%20NN%20architecture/runs/r6k4hro4' target=\"_blank\">Task3a experiment17 version2</a></strong> to <a href='https://wandb.ai/parimala/StackExchange%20NN%20architecture' target=\"_blank\">Weights & Biases</a> (<a href='https://wandb.me/run' target=\"_blank\">docs</a>)<br/>"
            ]
          },
          "metadata": {}
        },
        {
          "output_type": "display_data",
          "data": {
            "text/plain": [
              "<IPython.core.display.HTML object>"
            ],
            "text/html": [
              " View project at <a href='https://wandb.ai/parimala/StackExchange%20NN%20architecture' target=\"_blank\">https://wandb.ai/parimala/StackExchange%20NN%20architecture</a>"
            ]
          },
          "metadata": {}
        },
        {
          "output_type": "display_data",
          "data": {
            "text/plain": [
              "<IPython.core.display.HTML object>"
            ],
            "text/html": [
              " View run at <a href='https://wandb.ai/parimala/StackExchange%20NN%20architecture/runs/r6k4hro4' target=\"_blank\">https://wandb.ai/parimala/StackExchange%20NN%20architecture/runs/r6k4hro4</a>"
            ]
          },
          "metadata": {}
        },
        {
          "output_type": "stream",
          "name": "stderr",
          "text": [
            "\u001b[34m\u001b[1mwandb\u001b[0m: logging graph, to disable use `wandb.watch(log_graph=False)`\n"
          ]
        },
        {
          "output_type": "error",
          "ename": "ValueError",
          "evalue": "ignored",
          "traceback": [
            "\u001b[0;31m---------------------------------------------------------------------------\u001b[0m",
            "\u001b[0;31mValueError\u001b[0m                                Traceback (most recent call last)",
            "\u001b[0;32m<ipython-input-229-319afb9a9c86>\u001b[0m in \u001b[0;36m<cell line: 2>\u001b[0;34m()\u001b[0m\n\u001b[1;32m      1\u001b[0m \u001b[0;31m#Setting wandb\u001b[0m\u001b[0;34m\u001b[0m\u001b[0;34m\u001b[0m\u001b[0m\n\u001b[0;32m----> 2\u001b[0;31m sEXchange_trainer.set_wandb(\n\u001b[0m\u001b[1;32m      3\u001b[0m    \u001b[0mproject_name\u001b[0m \u001b[0;34m=\u001b[0m \u001b[0mproject_name\u001b[0m\u001b[0;34m,\u001b[0m\u001b[0;34m\u001b[0m\u001b[0;34m\u001b[0m\u001b[0m\n\u001b[1;32m      4\u001b[0m    \u001b[0mrun_name\u001b[0m \u001b[0;34m=\u001b[0m \u001b[0mrun_name\u001b[0m\u001b[0;34m,\u001b[0m\u001b[0;34m\u001b[0m\u001b[0;34m\u001b[0m\u001b[0m\n\u001b[1;32m      5\u001b[0m    \u001b[0mconfig\u001b[0m \u001b[0;34m=\u001b[0m \u001b[0mhyperparameters\u001b[0m\u001b[0;34m,\u001b[0m\u001b[0;34m\u001b[0m\u001b[0;34m\u001b[0m\u001b[0m\n",
            "\u001b[0;32m/content/drive/My Drive/NLP/custom-functions/Trainer_v4.py\u001b[0m in \u001b[0;36mset_wandb\u001b[0;34m(self, project_name, run_name, config, run_id, resume, log_batch, log_frequency)\u001b[0m\n\u001b[1;32m    149\u001b[0m         \u001b[0mself\u001b[0m\u001b[0;34m.\u001b[0m\u001b[0mwandb_initialized\u001b[0m \u001b[0;34m=\u001b[0m \u001b[0;32mTrue\u001b[0m\u001b[0;34m\u001b[0m\u001b[0;34m\u001b[0m\u001b[0m\n\u001b[1;32m    150\u001b[0m         \u001b[0mself\u001b[0m\u001b[0;34m.\u001b[0m\u001b[0mlog_frequency\u001b[0m \u001b[0;34m=\u001b[0m \u001b[0mlog_frequency\u001b[0m\u001b[0;34m\u001b[0m\u001b[0;34m\u001b[0m\u001b[0m\n\u001b[0;32m--> 151\u001b[0;31m         \u001b[0mwandb\u001b[0m\u001b[0;34m.\u001b[0m\u001b[0mwatch\u001b[0m\u001b[0;34m(\u001b[0m\u001b[0mself\u001b[0m\u001b[0;34m.\u001b[0m\u001b[0mmodel\u001b[0m\u001b[0;34m,\u001b[0m \u001b[0mlog\u001b[0m\u001b[0;34m=\u001b[0m\u001b[0;34m\"all\"\u001b[0m\u001b[0;34m,\u001b[0m \u001b[0mlog_freq\u001b[0m\u001b[0;34m=\u001b[0m\u001b[0mself\u001b[0m\u001b[0;34m.\u001b[0m\u001b[0mlog_frequency\u001b[0m\u001b[0;34m,\u001b[0m \u001b[0mlog_graph\u001b[0m\u001b[0;34m=\u001b[0m\u001b[0;32mTrue\u001b[0m\u001b[0;34m)\u001b[0m\u001b[0;34m\u001b[0m\u001b[0;34m\u001b[0m\u001b[0m\n\u001b[0m\u001b[1;32m    152\u001b[0m         \u001b[0mself\u001b[0m\u001b[0;34m.\u001b[0m\u001b[0mlog_batch\u001b[0m \u001b[0;34m=\u001b[0m \u001b[0mlog_batch\u001b[0m\u001b[0;34m\u001b[0m\u001b[0;34m\u001b[0m\u001b[0m\n\u001b[1;32m    153\u001b[0m \u001b[0;34m\u001b[0m\u001b[0m\n",
            "\u001b[0;32m/usr/local/lib/python3.9/dist-packages/wandb/sdk/wandb_watch.py\u001b[0m in \u001b[0;36mwatch\u001b[0;34m(models, criterion, log, log_freq, idx, log_graph)\u001b[0m\n\u001b[1;32m    101\u001b[0m \u001b[0;34m\u001b[0m\u001b[0m\n\u001b[1;32m    102\u001b[0m         \u001b[0;32mif\u001b[0m \u001b[0mlog_graph\u001b[0m\u001b[0;34m:\u001b[0m\u001b[0;34m\u001b[0m\u001b[0;34m\u001b[0m\u001b[0m\n\u001b[0;32m--> 103\u001b[0;31m             \u001b[0mgraph\u001b[0m \u001b[0;34m=\u001b[0m \u001b[0mwandb\u001b[0m\u001b[0;34m.\u001b[0m\u001b[0mrun\u001b[0m\u001b[0;34m.\u001b[0m\u001b[0m_torch\u001b[0m\u001b[0;34m.\u001b[0m\u001b[0mhook_torch\u001b[0m\u001b[0;34m(\u001b[0m\u001b[0mmodel\u001b[0m\u001b[0;34m,\u001b[0m \u001b[0mcriterion\u001b[0m\u001b[0;34m,\u001b[0m \u001b[0mgraph_idx\u001b[0m\u001b[0;34m=\u001b[0m\u001b[0mglobal_idx\u001b[0m\u001b[0;34m)\u001b[0m\u001b[0;34m\u001b[0m\u001b[0;34m\u001b[0m\u001b[0m\n\u001b[0m\u001b[1;32m    104\u001b[0m             \u001b[0mgraphs\u001b[0m\u001b[0;34m.\u001b[0m\u001b[0mappend\u001b[0m\u001b[0;34m(\u001b[0m\u001b[0mgraph\u001b[0m\u001b[0;34m)\u001b[0m\u001b[0;34m\u001b[0m\u001b[0;34m\u001b[0m\u001b[0m\n\u001b[1;32m    105\u001b[0m             \u001b[0;31m# NOTE: the graph is set in run.summary by hook_torch on the backward pass\u001b[0m\u001b[0;34m\u001b[0m\u001b[0;34m\u001b[0m\u001b[0m\n",
            "\u001b[0;32m/usr/local/lib/python3.9/dist-packages/wandb/wandb_torch.py\u001b[0m in \u001b[0;36mhook_torch\u001b[0;34m(cls, model, criterion, graph_idx)\u001b[0m\n\u001b[1;32m    319\u001b[0m         \u001b[0mwandb\u001b[0m\u001b[0;34m.\u001b[0m\u001b[0mtermlog\u001b[0m\u001b[0;34m(\u001b[0m\u001b[0;34m\"logging graph, to disable use `wandb.watch(log_graph=False)`\"\u001b[0m\u001b[0;34m)\u001b[0m\u001b[0;34m\u001b[0m\u001b[0;34m\u001b[0m\u001b[0m\n\u001b[1;32m    320\u001b[0m         \u001b[0mgraph\u001b[0m \u001b[0;34m=\u001b[0m \u001b[0mTorchGraph\u001b[0m\u001b[0;34m(\u001b[0m\u001b[0;34m)\u001b[0m\u001b[0;34m\u001b[0m\u001b[0;34m\u001b[0m\u001b[0m\n\u001b[0;32m--> 321\u001b[0;31m         \u001b[0mgraph\u001b[0m\u001b[0;34m.\u001b[0m\u001b[0mhook_torch_modules\u001b[0m\u001b[0;34m(\u001b[0m\u001b[0mmodel\u001b[0m\u001b[0;34m,\u001b[0m \u001b[0mcriterion\u001b[0m\u001b[0;34m,\u001b[0m \u001b[0mgraph_idx\u001b[0m\u001b[0;34m=\u001b[0m\u001b[0mgraph_idx\u001b[0m\u001b[0;34m)\u001b[0m\u001b[0;34m\u001b[0m\u001b[0;34m\u001b[0m\u001b[0m\n\u001b[0m\u001b[1;32m    322\u001b[0m         \u001b[0;32mreturn\u001b[0m \u001b[0mgraph\u001b[0m\u001b[0;34m\u001b[0m\u001b[0;34m\u001b[0m\u001b[0m\n\u001b[1;32m    323\u001b[0m \u001b[0;34m\u001b[0m\u001b[0m\n",
            "\u001b[0;32m/usr/local/lib/python3.9/dist-packages/wandb/wandb_torch.py\u001b[0m in \u001b[0;36mhook_torch_modules\u001b[0;34m(self, module, criterion, prefix, graph_idx, parent)\u001b[0m\n\u001b[1;32m    374\u001b[0m         \u001b[0mgraph\u001b[0m \u001b[0;34m=\u001b[0m \u001b[0mself\u001b[0m\u001b[0;34m\u001b[0m\u001b[0;34m\u001b[0m\u001b[0m\n\u001b[1;32m    375\u001b[0m         \u001b[0;32mif\u001b[0m \u001b[0mhasattr\u001b[0m\u001b[0;34m(\u001b[0m\u001b[0mmodule\u001b[0m\u001b[0;34m,\u001b[0m \u001b[0;34m\"_wandb_watch_called\"\u001b[0m\u001b[0;34m)\u001b[0m \u001b[0;32mand\u001b[0m \u001b[0mmodule\u001b[0m\u001b[0;34m.\u001b[0m\u001b[0m_wandb_watch_called\u001b[0m\u001b[0;34m:\u001b[0m\u001b[0;34m\u001b[0m\u001b[0;34m\u001b[0m\u001b[0m\n\u001b[0;32m--> 376\u001b[0;31m             raise ValueError(\n\u001b[0m\u001b[1;32m    377\u001b[0m                 \u001b[0;34m\"You can only call `wandb.watch` once per model.  Pass a new instance of the model if you need to call wandb.watch again in your code.\"\u001b[0m\u001b[0;34m\u001b[0m\u001b[0;34m\u001b[0m\u001b[0m\n\u001b[1;32m    378\u001b[0m             )\n",
            "\u001b[0;31mValueError\u001b[0m: You can only call `wandb.watch` once per model.  Pass a new instance of the model if you need to call wandb.watch again in your code."
          ]
        }
      ]
    },
    {
      "cell_type": "code",
      "source": [
        "sEXchange_trainer.learning_rates"
      ],
      "metadata": {
        "colab": {
          "base_uri": "https://localhost:8080/"
        },
        "id": "9glKMW3wkuk2",
        "outputId": "d22aaf87-ceae-49f5-e46c-ea189034fef8"
      },
      "execution_count": 239,
      "outputs": [
        {
          "output_type": "execute_result",
          "data": {
            "text/plain": [
              "[0.002]"
            ]
          },
          "metadata": {},
          "execution_count": 239
        }
      ]
    },
    {
      "cell_type": "code",
      "source": [
        "#hyperparameters.LEARNING_RATE = 1.2"
      ],
      "metadata": {
        "id": "mWgNi4Z9-gd_"
      },
      "execution_count": 37,
      "outputs": []
    },
    {
      "cell_type": "code",
      "source": [
        "# #Resetting optimizer\n",
        "# sEXchange_trainer.set_optimizer(get_optimizer())\n",
        "\n",
        "# # # #Setting metric \n",
        "# se_train_metric = MultilabelHammingDistance(num_labels=10)\n",
        "# sEXchange_trainer.set_metric(se_train_metric.to(sExchange_device))"
      ],
      "metadata": {
        "id": "B2lyiqzJXAAY"
      },
      "execution_count": 38,
      "outputs": []
    },
    {
      "cell_type": "markdown",
      "source": [
        "Sanity Check"
      ],
      "metadata": {
        "id": "xzFz0pXBxmJc"
      }
    },
    {
      "cell_type": "code",
      "source": [
        "sEXchange_trainer.sanity_check(num_classes=2)"
      ],
      "metadata": {
        "colab": {
          "base_uri": "https://localhost:8080/"
        },
        "id": "Pb0sAh6akxu-",
        "outputId": "f88acab3-a05b-4754-9530-8fa4bdc87f9a"
      },
      "execution_count": 240,
      "outputs": [
        {
          "output_type": "stream",
          "name": "stdout",
          "text": [
            "Actual loss: nan\n",
            "Expected Theoretical loss: 0.6931471805599453\n"
          ]
        }
      ]
    },
    {
      "cell_type": "code",
      "source": [
        "sEXchange_trainer.train(num_epochs=hyperparameters.EPOCHS, multilabel=True)"
      ],
      "metadata": {
        "colab": {
          "base_uri": "https://localhost:8080/",
          "height": 363
        },
        "id": "HQvp2LoLxszY",
        "outputId": "a3ddf8db-2d44-4dec-e229-b6dbdc1379d0"
      },
      "execution_count": 232,
      "outputs": [
        {
          "output_type": "stream",
          "name": "stdout",
          "text": [
            "Validation loader is not set. The trainer will only execute training Loop\n",
            "Not saving any checkpoint\n"
          ]
        },
        {
          "output_type": "error",
          "ename": "KeyboardInterrupt",
          "evalue": "ignored",
          "traceback": [
            "\u001b[0;31m---------------------------------------------------------------------------\u001b[0m",
            "\u001b[0;31mKeyboardInterrupt\u001b[0m                         Traceback (most recent call last)",
            "\u001b[0;32m<ipython-input-232-8ea37114746c>\u001b[0m in \u001b[0;36m<cell line: 1>\u001b[0;34m()\u001b[0m\n\u001b[0;32m----> 1\u001b[0;31m \u001b[0msEXchange_trainer\u001b[0m\u001b[0;34m.\u001b[0m\u001b[0mtrain\u001b[0m\u001b[0;34m(\u001b[0m\u001b[0mnum_epochs\u001b[0m\u001b[0;34m=\u001b[0m\u001b[0mhyperparameters\u001b[0m\u001b[0;34m.\u001b[0m\u001b[0mEPOCHS\u001b[0m\u001b[0;34m,\u001b[0m \u001b[0mmultilabel\u001b[0m\u001b[0;34m=\u001b[0m\u001b[0;32mTrue\u001b[0m\u001b[0;34m)\u001b[0m\u001b[0;34m\u001b[0m\u001b[0;34m\u001b[0m\u001b[0m\n\u001b[0m",
            "\u001b[0;32m/content/drive/My Drive/NLP/custom-functions/Trainer_v4.py\u001b[0m in \u001b[0;36mtrain\u001b[0;34m(self, num_epochs, multilabel, threshold)\u001b[0m\n\u001b[1;32m    406\u001b[0m             \u001b[0mt0\u001b[0m \u001b[0;34m=\u001b[0m \u001b[0mdatetime\u001b[0m\u001b[0;34m.\u001b[0m\u001b[0mnow\u001b[0m\u001b[0;34m(\u001b[0m\u001b[0;34m)\u001b[0m\u001b[0;34m\u001b[0m\u001b[0;34m\u001b[0m\u001b[0m\n\u001b[1;32m    407\u001b[0m \u001b[0;34m\u001b[0m\u001b[0m\n\u001b[0;32m--> 408\u001b[0;31m             train_loss, train_metric = self._run_epoch(\n\u001b[0m\u001b[1;32m    409\u001b[0m                 \u001b[0mself\u001b[0m\u001b[0;34m.\u001b[0m\u001b[0mtrain_loader\u001b[0m\u001b[0;34m,\u001b[0m\u001b[0;34m\u001b[0m\u001b[0;34m\u001b[0m\u001b[0m\n\u001b[1;32m    410\u001b[0m                 \u001b[0mtraining\u001b[0m\u001b[0;34m=\u001b[0m\u001b[0;32mTrue\u001b[0m\u001b[0;34m,\u001b[0m\u001b[0;34m\u001b[0m\u001b[0;34m\u001b[0m\u001b[0m\n",
            "\u001b[0;32m/content/drive/My Drive/NLP/custom-functions/Trainer_v4.py\u001b[0m in \u001b[0;36m_run_epoch\u001b[0;34m(self, loader, training, multilabel, threshold)\u001b[0m\n\u001b[1;32m    323\u001b[0m \u001b[0;34m\u001b[0m\u001b[0m\n\u001b[1;32m    324\u001b[0m         \u001b[0;32mfor\u001b[0m \u001b[0mi\u001b[0m\u001b[0;34m,\u001b[0m \u001b[0;34m(\u001b[0m\u001b[0minputs\u001b[0m\u001b[0;34m,\u001b[0m \u001b[0mtargets\u001b[0m\u001b[0;34m)\u001b[0m \u001b[0;32min\u001b[0m \u001b[0menumerate\u001b[0m\u001b[0;34m(\u001b[0m\u001b[0mloader\u001b[0m\u001b[0;34m)\u001b[0m\u001b[0;34m:\u001b[0m\u001b[0;34m\u001b[0m\u001b[0;34m\u001b[0m\u001b[0m\n\u001b[0;32m--> 325\u001b[0;31m             loss = self._run_batch(\n\u001b[0m\u001b[1;32m    326\u001b[0m                 \u001b[0mi\u001b[0m\u001b[0;34m,\u001b[0m \u001b[0minputs\u001b[0m\u001b[0;34m,\u001b[0m \u001b[0mtargets\u001b[0m\u001b[0;34m,\u001b[0m \u001b[0mmetric\u001b[0m\u001b[0;34m,\u001b[0m \u001b[0mmultilabel\u001b[0m\u001b[0;34m,\u001b[0m \u001b[0mthreshold\u001b[0m\u001b[0;34m,\u001b[0m \u001b[0mtraining\u001b[0m\u001b[0;34m,\u001b[0m \u001b[0mlen\u001b[0m\u001b[0;34m(\u001b[0m\u001b[0mloader\u001b[0m\u001b[0;34m)\u001b[0m\u001b[0;34m\u001b[0m\u001b[0;34m\u001b[0m\u001b[0m\n\u001b[1;32m    327\u001b[0m             )\n",
            "\u001b[0;32m/content/drive/My Drive/NLP/custom-functions/Trainer_v4.py\u001b[0m in \u001b[0;36m_run_batch\u001b[0;34m(self, step_number, inputs, targets, metric, multilabel, threshold, training, len_loader)\u001b[0m\n\u001b[1;32m    287\u001b[0m \u001b[0;34m\u001b[0m\u001b[0m\n\u001b[1;32m    288\u001b[0m             \u001b[0;32mif\u001b[0m \u001b[0mtraining\u001b[0m\u001b[0;34m:\u001b[0m\u001b[0;34m\u001b[0m\u001b[0;34m\u001b[0m\u001b[0m\n\u001b[0;32m--> 289\u001b[0;31m                 self._backward(\n\u001b[0m\u001b[1;32m    290\u001b[0m                     \u001b[0mloss\u001b[0m\u001b[0;34m,\u001b[0m\u001b[0;34m\u001b[0m\u001b[0;34m\u001b[0m\u001b[0m\n\u001b[1;32m    291\u001b[0m                 )\n",
            "\u001b[0;32m/content/drive/My Drive/NLP/custom-functions/Trainer_v4.py\u001b[0m in \u001b[0;36m_backward\u001b[0;34m(self, loss)\u001b[0m\n\u001b[1;32m    188\u001b[0m         \u001b[0mloss\u001b[0m\u001b[0;34m,\u001b[0m\u001b[0;34m\u001b[0m\u001b[0;34m\u001b[0m\u001b[0m\n\u001b[1;32m    189\u001b[0m     ):\n\u001b[0;32m--> 190\u001b[0;31m         \u001b[0mloss\u001b[0m\u001b[0;34m.\u001b[0m\u001b[0mbackward\u001b[0m\u001b[0;34m(\u001b[0m\u001b[0;34m)\u001b[0m\u001b[0;34m\u001b[0m\u001b[0;34m\u001b[0m\u001b[0m\n\u001b[0m\u001b[1;32m    191\u001b[0m         \u001b[0;32mif\u001b[0m \u001b[0mcallable\u001b[0m\u001b[0;34m(\u001b[0m\u001b[0mself\u001b[0m\u001b[0;34m.\u001b[0m\u001b[0mclipping\u001b[0m\u001b[0;34m)\u001b[0m\u001b[0;34m:\u001b[0m\u001b[0;34m\u001b[0m\u001b[0;34m\u001b[0m\u001b[0m\n\u001b[1;32m    192\u001b[0m             \u001b[0mself\u001b[0m\u001b[0;34m.\u001b[0m\u001b[0mclipping\u001b[0m\u001b[0;34m(\u001b[0m\u001b[0;34m)\u001b[0m\u001b[0;34m\u001b[0m\u001b[0;34m\u001b[0m\u001b[0m\n",
            "\u001b[0;32m/usr/local/lib/python3.9/dist-packages/torch/_tensor.py\u001b[0m in \u001b[0;36mbackward\u001b[0;34m(self, gradient, retain_graph, create_graph, inputs)\u001b[0m\n\u001b[1;32m    485\u001b[0m                 \u001b[0minputs\u001b[0m\u001b[0;34m=\u001b[0m\u001b[0minputs\u001b[0m\u001b[0;34m,\u001b[0m\u001b[0;34m\u001b[0m\u001b[0;34m\u001b[0m\u001b[0m\n\u001b[1;32m    486\u001b[0m             )\n\u001b[0;32m--> 487\u001b[0;31m         torch.autograd.backward(\n\u001b[0m\u001b[1;32m    488\u001b[0m             \u001b[0mself\u001b[0m\u001b[0;34m,\u001b[0m \u001b[0mgradient\u001b[0m\u001b[0;34m,\u001b[0m \u001b[0mretain_graph\u001b[0m\u001b[0;34m,\u001b[0m \u001b[0mcreate_graph\u001b[0m\u001b[0;34m,\u001b[0m \u001b[0minputs\u001b[0m\u001b[0;34m=\u001b[0m\u001b[0minputs\u001b[0m\u001b[0;34m\u001b[0m\u001b[0;34m\u001b[0m\u001b[0m\n\u001b[1;32m    489\u001b[0m         )\n",
            "\u001b[0;32m/usr/local/lib/python3.9/dist-packages/torch/autograd/__init__.py\u001b[0m in \u001b[0;36mbackward\u001b[0;34m(tensors, grad_tensors, retain_graph, create_graph, grad_variables, inputs)\u001b[0m\n\u001b[1;32m    198\u001b[0m     \u001b[0;31m# some Python versions print out the first line of a multi-line function\u001b[0m\u001b[0;34m\u001b[0m\u001b[0;34m\u001b[0m\u001b[0m\n\u001b[1;32m    199\u001b[0m     \u001b[0;31m# calls in the traceback and some print out the last line\u001b[0m\u001b[0;34m\u001b[0m\u001b[0;34m\u001b[0m\u001b[0m\n\u001b[0;32m--> 200\u001b[0;31m     Variable._execution_engine.run_backward(  # Calls into the C++ engine to run the backward pass\n\u001b[0m\u001b[1;32m    201\u001b[0m         \u001b[0mtensors\u001b[0m\u001b[0;34m,\u001b[0m \u001b[0mgrad_tensors_\u001b[0m\u001b[0;34m,\u001b[0m \u001b[0mretain_graph\u001b[0m\u001b[0;34m,\u001b[0m \u001b[0mcreate_graph\u001b[0m\u001b[0;34m,\u001b[0m \u001b[0minputs\u001b[0m\u001b[0;34m,\u001b[0m\u001b[0;34m\u001b[0m\u001b[0;34m\u001b[0m\u001b[0m\n\u001b[1;32m    202\u001b[0m         allow_unreachable=True, accumulate_grad=True)  # Calls into the C++ engine to run the backward pass\n",
            "\u001b[0;31mKeyboardInterrupt\u001b[0m: "
          ]
        }
      ]
    },
    {
      "cell_type": "code",
      "source": [
        "sEXchange_trainer.plot_history()"
      ],
      "metadata": {
        "colab": {
          "base_uri": "https://localhost:8080/",
          "height": 881
        },
        "id": "UQ1_Lz9uyaQB",
        "outputId": "ba22a886-9cc4-49f2-9f33-7e0b4d86cdc0"
      },
      "execution_count": 224,
      "outputs": [
        {
          "output_type": "display_data",
          "data": {
            "text/plain": [
              "<Figure size 640x480 with 1 Axes>"
            ],
            "image/png": "[encoded data removed]"
          },
          "metadata": {}
        },
        {
          "output_type": "display_data",
          "data": {
            "text/plain": [
              "<Figure size 640x480 with 1 Axes>"
            ],
            "image/png": "[encoded data removed]"
          },
          "metadata": {}
        }
      ]
    },
    {
      "cell_type": "markdown",
      "source": [
        "Finish Run"
      ],
      "metadata": {
        "id": "Sax6tSQF38Tf"
      }
    },
    {
      "cell_type": "code",
      "source": [
        "wandb.finish()"
      ],
      "metadata": {
        "colab": {
          "base_uri": "https://localhost:8080/",
          "height": 227
        },
        "id": "7VknFTpY30vr",
        "outputId": "806e443f-a917-457a-a9e6-c8089677ddad"
      },
      "execution_count": 225,
      "outputs": [
        {
          "output_type": "display_data",
          "data": {
            "text/plain": [
              "<IPython.core.display.HTML object>"
            ],
            "text/html": [
              "Waiting for W&B process to finish... <strong style=\"color:green\">(success).</strong>"
            ]
          },
          "metadata": {}
        },
        {
          "output_type": "display_data",
          "data": {
            "text/plain": [
              "<IPython.core.display.HTML object>"
            ],
            "text/html": [
              "<style>\n",
              "    table.wandb td:nth-child(1) { padding: 0 10px; text-align: left ; width: auto;} td:nth-child(2) {text-align: left ; width: 100%}\n",
              "    .wandb-row { display: flex; flex-direction: row; flex-wrap: wrap; justify-content: flex-start; width: 100% }\n",
              "    .wandb-col { display: flex; flex-direction: column; flex-basis: 100%; flex: 1; padding: 10px; }\n",
              "    </style>\n",
              "<div class=\"wandb-row\"><div class=\"wandb-col\"><h3>Run history:</h3><br/><table class=\"wandb\"><tr><td>train_epoch_metric</td><td>█▁▁▁▁▁▁▁▁▁</td></tr></table><br/></div><div class=\"wandb-col\"><h3>Run summary:</h3><br/><table class=\"wandb\"><tr><td>train_epoch_loss</td><td>nan</td></tr><tr><td>train_epoch_metric</td><td>0.2081</td></tr></table><br/></div></div>"
            ]
          },
          "metadata": {}
        },
        {
          "output_type": "display_data",
          "data": {
            "text/plain": [
              "<IPython.core.display.HTML object>"
            ],
            "text/html": [
              " View run <strong style=\"color:#cdcd00\">Task3a experiment17 vs1</strong> at: <a href='https://wandb.ai/parimala/StackExchange%20NN%20architecture/runs/n6xdq3qw' target=\"_blank\">https://wandb.ai/parimala/StackExchange%20NN%20architecture/runs/n6xdq3qw</a><br/>Synced 5 W&B file(s), 1 media file(s), 0 artifact file(s) and 0 other file(s)"
            ]
          },
          "metadata": {}
        },
        {
          "output_type": "display_data",
          "data": {
            "text/plain": [
              "<IPython.core.display.HTML object>"
            ],
            "text/html": [
              "Find logs at: <code>./wandb/run-20230426_000446-n6xdq3qw/logs</code>"
            ]
          },
          "metadata": {}
        }
      ]
    },
    {
      "cell_type": "code",
      "source": [],
      "metadata": {
        "id": "GYKF9dP93-oq"
      },
      "execution_count": 42,
      "outputs": []
    }
  ]
}