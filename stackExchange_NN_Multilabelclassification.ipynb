{
  "nbformat": 4,
  "nbformat_minor": 0,
  "metadata": {
    "colab": {
      "provenance": [],
      "machine_shape": "hm",
      "authorship_tag": "ABX9TyM6zZPuzp3aZc1BguSorD0C",
      "include_colab_link": true
    },
    "kernelspec": {
      "name": "python3",
      "display_name": "Python 3"
    },
    "language_info": {
      "name": "python"
    },
    "accelerator": "GPU",
    "gpuClass": "premium",
    "widgets": {
      "application/vnd.jupyter.widget-state+json": {
        "12663a4240e74c63833148d516ecde5b": {
          "model_module": "@jupyter-widgets/controls",
          "model_name": "HBoxModel",
          "model_module_version": "1.5.0",
          "state": {
            "_dom_classes": [],
            "_model_module": "@jupyter-widgets/controls",
            "_model_module_version": "1.5.0",
            "_model_name": "HBoxModel",
            "_view_count": null,
            "_view_module": "@jupyter-widgets/controls",
            "_view_module_version": "1.5.0",
            "_view_name": "HBoxView",
            "box_style": "",
            "children": [
              "IPY_MODEL_edb36372fa0849e3ada38818323c20d5",
              "IPY_MODEL_ae8632644f0b404ebc3a98691548aa33",
              "IPY_MODEL_b71f3bf7b957459db7012ea1d65105ce"
            ],
            "layout": "IPY_MODEL_c412a910aca94aef8adabc632f9bf58c"
          }
        },
        "edb36372fa0849e3ada38818323c20d5": {
          "model_module": "@jupyter-widgets/controls",
          "model_name": "HTMLModel",
          "model_module_version": "1.5.0",
          "state": {
            "_dom_classes": [],
            "_model_module": "@jupyter-widgets/controls",
            "_model_module_version": "1.5.0",
            "_model_name": "HTMLModel",
            "_view_count": null,
            "_view_module": "@jupyter-widgets/controls",
            "_view_module_version": "1.5.0",
            "_view_name": "HTMLView",
            "description": "",
            "description_tooltip": null,
            "layout": "IPY_MODEL_e958ca7fa14c4a06af24a753be93093a",
            "placeholder": "​",
            "style": "IPY_MODEL_c6649c5e9bb34e7990d11e12fb8595e7",
            "value": "Pandas Apply: 100%"
          }
        },
        "ae8632644f0b404ebc3a98691548aa33": {
          "model_module": "@jupyter-widgets/controls",
          "model_name": "FloatProgressModel",
          "model_module_version": "1.5.0",
          "state": {
            "_dom_classes": [],
            "_model_module": "@jupyter-widgets/controls",
            "_model_module_version": "1.5.0",
            "_model_name": "FloatProgressModel",
            "_view_count": null,
            "_view_module": "@jupyter-widgets/controls",
            "_view_module_version": "1.5.0",
            "_view_name": "ProgressView",
            "bar_style": "success",
            "description": "",
            "description_tooltip": null,
            "layout": "IPY_MODEL_396d77b04dd046c5854fbd94d9e35411",
            "max": 47427,
            "min": 0,
            "orientation": "horizontal",
            "style": "IPY_MODEL_1d2c537aeac74bb0b17e13f78aaeb10e",
            "value": 47427
          }
        },
        "b71f3bf7b957459db7012ea1d65105ce": {
          "model_module": "@jupyter-widgets/controls",
          "model_name": "HTMLModel",
          "model_module_version": "1.5.0",
          "state": {
            "_dom_classes": [],
            "_model_module": "@jupyter-widgets/controls",
            "_model_module_version": "1.5.0",
            "_model_name": "HTMLModel",
            "_view_count": null,
            "_view_module": "@jupyter-widgets/controls",
            "_view_module_version": "1.5.0",
            "_view_name": "HTMLView",
            "description": "",
            "description_tooltip": null,
            "layout": "IPY_MODEL_99ae6911c1274835b4027d38b761127a",
            "placeholder": "​",
            "style": "IPY_MODEL_17726fe66cd245079700b2fd5a6b86cf",
            "value": " 47427/47427 [00:00&lt;00:00, 103119.10it/s]"
          }
        },
        "c412a910aca94aef8adabc632f9bf58c": {
          "model_module": "@jupyter-widgets/base",
          "model_name": "LayoutModel",
          "model_module_version": "1.2.0",
          "state": {
            "_model_module": "@jupyter-widgets/base",
            "_model_module_version": "1.2.0",
            "_model_name": "LayoutModel",
            "_view_count": null,
            "_view_module": "@jupyter-widgets/base",
            "_view_module_version": "1.2.0",
            "_view_name": "LayoutView",
            "align_content": null,
            "align_items": null,
            "align_self": null,
            "border": null,
            "bottom": null,
            "display": null,
            "flex": null,
            "flex_flow": null,
            "grid_area": null,
            "grid_auto_columns": null,
            "grid_auto_flow": null,
            "grid_auto_rows": null,
            "grid_column": null,
            "grid_gap": null,
            "grid_row": null,
            "grid_template_areas": null,
            "grid_template_columns": null,
            "grid_template_rows": null,
            "height": null,
            "justify_content": null,
            "justify_items": null,
            "left": null,
            "margin": null,
            "max_height": null,
            "max_width": null,
            "min_height": null,
            "min_width": null,
            "object_fit": null,
            "object_position": null,
            "order": null,
            "overflow": null,
            "overflow_x": null,
            "overflow_y": null,
            "padding": null,
            "right": null,
            "top": null,
            "visibility": null,
            "width": null
          }
        },
        "e958ca7fa14c4a06af24a753be93093a": {
          "model_module": "@jupyter-widgets/base",
          "model_name": "LayoutModel",
          "model_module_version": "1.2.0",
          "state": {
            "_model_module": "@jupyter-widgets/base",
            "_model_module_version": "1.2.0",
            "_model_name": "LayoutModel",
            "_view_count": null,
            "_view_module": "@jupyter-widgets/base",
            "_view_module_version": "1.2.0",
            "_view_name": "LayoutView",
            "align_content": null,
            "align_items": null,
            "align_self": null,
            "border": null,
            "bottom": null,
            "display": null,
            "flex": null,
            "flex_flow": null,
            "grid_area": null,
            "grid_auto_columns": null,
            "grid_auto_flow": null,
            "grid_auto_rows": null,
            "grid_column": null,
            "grid_gap": null,
            "grid_row": null,
            "grid_template_areas": null,
            "grid_template_columns": null,
            "grid_template_rows": null,
            "height": null,
            "justify_content": null,
            "justify_items": null,
            "left": null,
            "margin": null,
            "max_height": null,
            "max_width": null,
            "min_height": null,
            "min_width": null,
            "object_fit": null,
            "object_position": null,
            "order": null,
            "overflow": null,
            "overflow_x": null,
            "overflow_y": null,
            "padding": null,
            "right": null,
            "top": null,
            "visibility": null,
            "width": null
          }
        },
        "c6649c5e9bb34e7990d11e12fb8595e7": {
          "model_module": "@jupyter-widgets/controls",
          "model_name": "DescriptionStyleModel",
          "model_module_version": "1.5.0",
          "state": {
            "_model_module": "@jupyter-widgets/controls",
            "_model_module_version": "1.5.0",
            "_model_name": "DescriptionStyleModel",
            "_view_count": null,
            "_view_module": "@jupyter-widgets/base",
            "_view_module_version": "1.2.0",
            "_view_name": "StyleView",
            "description_width": ""
          }
        },
        "396d77b04dd046c5854fbd94d9e35411": {
          "model_module": "@jupyter-widgets/base",
          "model_name": "LayoutModel",
          "model_module_version": "1.2.0",
          "state": {
            "_model_module": "@jupyter-widgets/base",
            "_model_module_version": "1.2.0",
            "_model_name": "LayoutModel",
            "_view_count": null,
            "_view_module": "@jupyter-widgets/base",
            "_view_module_version": "1.2.0",
            "_view_name": "LayoutView",
            "align_content": null,
            "align_items": null,
            "align_self": null,
            "border": null,
            "bottom": null,
            "display": null,
            "flex": null,
            "flex_flow": null,
            "grid_area": null,
            "grid_auto_columns": null,
            "grid_auto_flow": null,
            "grid_auto_rows": null,
            "grid_column": null,
            "grid_gap": null,
            "grid_row": null,
            "grid_template_areas": null,
            "grid_template_columns": null,
            "grid_template_rows": null,
            "height": null,
            "justify_content": null,
            "justify_items": null,
            "left": null,
            "margin": null,
            "max_height": null,
            "max_width": null,
            "min_height": null,
            "min_width": null,
            "object_fit": null,
            "object_position": null,
            "order": null,
            "overflow": null,
            "overflow_x": null,
            "overflow_y": null,
            "padding": null,
            "right": null,
            "top": null,
            "visibility": null,
            "width": null
          }
        },
        "1d2c537aeac74bb0b17e13f78aaeb10e": {
          "model_module": "@jupyter-widgets/controls",
          "model_name": "ProgressStyleModel",
          "model_module_version": "1.5.0",
          "state": {
            "_model_module": "@jupyter-widgets/controls",
            "_model_module_version": "1.5.0",
            "_model_name": "ProgressStyleModel",
            "_view_count": null,
            "_view_module": "@jupyter-widgets/base",
            "_view_module_version": "1.2.0",
            "_view_name": "StyleView",
            "bar_color": null,
            "description_width": ""
          }
        },
        "99ae6911c1274835b4027d38b761127a": {
          "model_module": "@jupyter-widgets/base",
          "model_name": "LayoutModel",
          "model_module_version": "1.2.0",
          "state": {
            "_model_module": "@jupyter-widgets/base",
            "_model_module_version": "1.2.0",
            "_model_name": "LayoutModel",
            "_view_count": null,
            "_view_module": "@jupyter-widgets/base",
            "_view_module_version": "1.2.0",
            "_view_name": "LayoutView",
            "align_content": null,
            "align_items": null,
            "align_self": null,
            "border": null,
            "bottom": null,
            "display": null,
            "flex": null,
            "flex_flow": null,
            "grid_area": null,
            "grid_auto_columns": null,
            "grid_auto_flow": null,
            "grid_auto_rows": null,
            "grid_column": null,
            "grid_gap": null,
            "grid_row": null,
            "grid_template_areas": null,
            "grid_template_columns": null,
            "grid_template_rows": null,
            "height": null,
            "justify_content": null,
            "justify_items": null,
            "left": null,
            "margin": null,
            "max_height": null,
            "max_width": null,
            "min_height": null,
            "min_width": null,
            "object_fit": null,
            "object_position": null,
            "order": null,
            "overflow": null,
            "overflow_x": null,
            "overflow_y": null,
            "padding": null,
            "right": null,
            "top": null,
            "visibility": null,
            "width": null
          }
        },
        "17726fe66cd245079700b2fd5a6b86cf": {
          "model_module": "@jupyter-widgets/controls",
          "model_name": "DescriptionStyleModel",
          "model_module_version": "1.5.0",
          "state": {
            "_model_module": "@jupyter-widgets/controls",
            "_model_module_version": "1.5.0",
            "_model_name": "DescriptionStyleModel",
            "_view_count": null,
            "_view_module": "@jupyter-widgets/base",
            "_view_module_version": "1.2.0",
            "_view_name": "StyleView",
            "description_width": ""
          }
        }
      }
    }
  },
  "cells": [
    {
      "cell_type": "markdown",
      "metadata": {
        "id": "view-in-github",
        "colab_type": "text"
      },
      "source": [
        "<a href=\"https://colab.research.google.com/github/parimalakettymuthu/MachineLearning-Projects/blob/main/stackExchange_NN_Multilabelclassification.ipynb\" target=\"_parent\"><img src=\"https://colab.research.google.com/assets/colab-badge.svg\" alt=\"Open In Colab\"/></a>"
      ]
    },
    {
      "cell_type": "code",
      "execution_count": 3,
      "metadata": {
        "id": "yWiXXVeW_cfv"
      },
      "outputs": [],
      "source": [
        "%load_ext autoreload\n",
        "%autoreload 2"
      ]
    },
    {
      "cell_type": "code",
      "source": [
        "import sys\n",
        "if 'google.colab' in str(get_ipython()):\n",
        "  from google.colab import drive\n",
        "  drive.mount('/content/drive')\n",
        "\n",
        "  !pip install torchtext --upgrade --q\n",
        "  !pip install torchmetrics --q\n",
        "  !pip install -quiet torch-lr-finder --q\n",
        "  !pip install wandb --q --upgrade\n",
        "\n",
        "  basepath = '/content/drive/My Drive/NLP' \n",
        "  sys.path.append('/content/drive/My Drive/NLP/custom-functions')"
      ],
      "metadata": {
        "colab": {
          "base_uri": "https://localhost:8080/"
        },
        "id": "roTXjiPGC3ax",
        "outputId": "d0c5b62b-a785-4f6c-a4c1-5b167d48aaf5"
      },
      "execution_count": 4,
      "outputs": [
        {
          "output_type": "stream",
          "name": "stdout",
          "text": [
            "Mounted at /content/drive\n",
            "\u001b[2K     \u001b[90m━━━━━━━━━━━━━━━━━━━━━━━━━━━━━━━━━━━━━━\u001b[0m \u001b[32m519.2/519.2 kB\u001b[0m \u001b[31m20.2 MB/s\u001b[0m eta \u001b[36m0:00:00\u001b[0m\n",
            "\u001b[?25h\n",
            "Usage:   \n",
            "  pip3 install [options] <requirement specifier> [package-index-options] ...\n",
            "  pip3 install [options] -r <requirements file> [package-index-options] ...\n",
            "  pip3 install [options] [-e] <vcs project url> ...\n",
            "  pip3 install [options] [-e] <local project path> ...\n",
            "  pip3 install [options] <archive url/path> ...\n",
            "\n",
            "no such option: -u\n",
            "\u001b[2K     \u001b[90m━━━━━━━━━━━━━━━━━━━━━━━━━━━━━━━━━━━━━━━━\u001b[0m \u001b[32m2.0/2.0 MB\u001b[0m \u001b[31m74.7 MB/s\u001b[0m eta \u001b[36m0:00:00\u001b[0m\n",
            "\u001b[?25h  Preparing metadata (setup.py) ... \u001b[?25l\u001b[?25hdone\n",
            "\u001b[2K     \u001b[90m━━━━━━━━━━━━━━━━━━━━━━━━━━━━━━━━━━━━━━\u001b[0m \u001b[32m184.3/184.3 kB\u001b[0m \u001b[31m25.9 MB/s\u001b[0m eta \u001b[36m0:00:00\u001b[0m\n",
            "\u001b[2K     \u001b[90m━━━━━━━━━━━━━━━━━━━━━━━━━━━━━━━━━━━━━━\u001b[0m \u001b[32m198.8/198.8 kB\u001b[0m \u001b[31m27.1 MB/s\u001b[0m eta \u001b[36m0:00:00\u001b[0m\n",
            "\u001b[2K     \u001b[90m━━━━━━━━━━━━━━━━━━━━━━━━━━━━━━━━━━━━━━━━\u001b[0m \u001b[32m62.7/62.7 kB\u001b[0m \u001b[31m10.0 MB/s\u001b[0m eta \u001b[36m0:00:00\u001b[0m\n",
            "\u001b[?25h  Building wheel for pathtools (setup.py) ... \u001b[?25l\u001b[?25hdone\n"
          ]
        }
      ]
    },
    {
      "cell_type": "code",
      "source": [
        "#Importing the required libraries \n",
        "import torch\n",
        "import torch.nn as nn\n",
        "import torch.nn.functional as F\n",
        "\n",
        "import torchmetrics\n",
        "from torchmetrics.classification import MultilabelF1Score, MultilabelHammingDistance\n",
        "from torchmetrics.functional.classification import multilabel_f1_score, multilabel_hamming_distance\n",
        "\n",
        "import joblib\n",
        "#import swifter\n",
        "import ast\n",
        "\n",
        "from types import SimpleNamespace\n",
        "from functools import partial\n",
        "from pathlib import Path\n",
        "from sklearn.model_selection import train_test_split\n",
        "from sklearn.preprocessing import MultiLabelBinarizer as mlb\n"
      ],
      "metadata": {
        "id": "byKpUJjmDgYh"
      },
      "execution_count": 5,
      "outputs": []
    },
    {
      "cell_type": "code",
      "source": [
        "#Defined the google drive folders for accessing/saving models related files\n",
        "embeddings_folder = Path(basepath)/ 'assignment7/WordEmbeddings'\n",
        "data_folder = Path(basepath)/ 'assignment7/MultiLabel_Classification'\n",
        "model_saving_folder = Path(basepath)/ 'assignment7/MultiLabel_Classification'"
      ],
      "metadata": {
        "id": "GmNdHyTvDhwb"
      },
      "execution_count": 6,
      "outputs": []
    },
    {
      "cell_type": "code",
      "source": [
        "data_cleaned = data_folder/ \"df_multilabel_hw_cleaned.joblib\"\n",
        "stackExchange_dataset = joblib.load(data_cleaned)"
      ],
      "metadata": {
        "id": "-xOnlKc1Ydmo"
      },
      "execution_count": 7,
      "outputs": []
    },
    {
      "cell_type": "code",
      "source": [
        "X = stackExchange_dataset['cleaned_text'].values\n",
        "y = stackExchange_dataset['Tag_Number'].values"
      ],
      "metadata": {
        "id": "xbf44Q-XYrvw"
      },
      "execution_count": 8,
      "outputs": []
    },
    {
      "cell_type": "code",
      "source": [
        "#!pip install swifter -qq"
      ],
      "metadata": {
        "colab": {
          "base_uri": "https://localhost:8080/"
        },
        "id": "89QcmYtfYyWo",
        "outputId": "fb067b47-658b-426c-e0a2-cc79a8dca8d7"
      },
      "execution_count": 9,
      "outputs": [
        {
          "output_type": "stream",
          "name": "stdout",
          "text": [
            "\u001b[?25l     \u001b[90m━━━━━━━━━━━━━━━━━━━━━━━━━━━━━━━━━━━━━━━━\u001b[0m \u001b[32m0.0/830.9 kB\u001b[0m \u001b[31m?\u001b[0m eta \u001b[36m-:--:--\u001b[0m\r\u001b[2K     \u001b[90m━━━━━━━━━━━━━━━━━━━━━━━━━━━━━━━━━━━━━━\u001b[0m \u001b[32m830.9/830.9 kB\u001b[0m \u001b[31m48.5 MB/s\u001b[0m eta \u001b[36m0:00:00\u001b[0m\n",
            "\u001b[?25h  Preparing metadata (setup.py) ... \u001b[?25l\u001b[?25hdone\n",
            "\u001b[2K     \u001b[90m━━━━━━━━━━━━━━━━━━━━━━━━━━━━━━━━━━━━━━━━\u001b[0m \u001b[32m1.6/1.6 MB\u001b[0m \u001b[31m87.2 MB/s\u001b[0m eta \u001b[36m0:00:00\u001b[0m\n",
            "\u001b[?25h  Building wheel for swifter (setup.py) ... \u001b[?25l\u001b[?25hdone\n"
          ]
        }
      ]
    },
    {
      "cell_type": "code",
      "source": [
        "import swifter\n",
        "import ast\n",
        "stackExchange_dataset['Tag_Number_list'] = stackExchange_dataset['Tag_Number'].swifter.apply(lambda x: ast.literal_eval(x))"
      ],
      "metadata": {
        "colab": {
          "base_uri": "https://localhost:8080/",
          "height": 49,
          "referenced_widgets": [
            "12663a4240e74c63833148d516ecde5b",
            "edb36372fa0849e3ada38818323c20d5",
            "ae8632644f0b404ebc3a98691548aa33",
            "b71f3bf7b957459db7012ea1d65105ce",
            "c412a910aca94aef8adabc632f9bf58c",
            "e958ca7fa14c4a06af24a753be93093a",
            "c6649c5e9bb34e7990d11e12fb8595e7",
            "396d77b04dd046c5854fbd94d9e35411",
            "1d2c537aeac74bb0b17e13f78aaeb10e",
            "99ae6911c1274835b4027d38b761127a",
            "17726fe66cd245079700b2fd5a6b86cf"
          ]
        },
        "id": "5b-mizHzY21P",
        "outputId": "254e04f1-fe5d-48c5-ed15-9aa7289685a9"
      },
      "execution_count": 10,
      "outputs": [
        {
          "output_type": "display_data",
          "data": {
            "text/plain": [
              "Pandas Apply:   0%|          | 0/47427 [00:00<?, ?it/s]"
            ],
            "application/vnd.jupyter.widget-view+json": {
              "version_major": 2,
              "version_minor": 0,
              "model_id": "12663a4240e74c63833148d516ecde5b"
            }
          },
          "metadata": {}
        }
      ]
    },
    {
      "cell_type": "code",
      "source": [
        "y_final = stackExchange_dataset['Tag_Number_list'].values"
      ],
      "metadata": {
        "id": "jOP5vGOIZwiZ"
      },
      "execution_count": 11,
      "outputs": []
    },
    {
      "cell_type": "code",
      "source": [
        "from sklearn.preprocessing import MultiLabelBinarizer as mlb\n",
        "y_stackExchange_encoding = mlb().fit_transform(y_final)"
      ],
      "metadata": {
        "id": "oQX_RJsUZtz6"
      },
      "execution_count": 12,
      "outputs": []
    },
    {
      "cell_type": "code",
      "source": [
        "from sklearn.model_selection import train_test_split\n",
        "X_sExchange_train, X_valid_test, y_sExchange_train, y_valid_test = train_test_split(X, y_stackExchange_encoding, test_size=0.4, random_state=42)\n",
        "X_sExchange_valid, X_sExchange_test, y_sExchange_valid, y_sExchange_test = train_test_split(X_valid_test, y_valid_test, test_size=0.5, random_state=42)"
      ],
      "metadata": {
        "id": "awTdtZf6Y6yI"
      },
      "execution_count": 13,
      "outputs": []
    },
    {
      "cell_type": "code",
      "source": [
        "from gensim.models import KeyedVectors\n",
        "pretrained_sExchange_file = str(embeddings_folder/ \"model_stackExchange_CBOW.bin\")\n",
        "sExchange_vectors = KeyedVectors.load(pretrained_sExchange_file)"
      ],
      "metadata": {
        "id": "zpz6KhcoZsIJ"
      },
      "execution_count": 14,
      "outputs": []
    },
    {
      "cell_type": "code",
      "source": [
        "!pip install torch_lr_finder -qq"
      ],
      "metadata": {
        "id": "5FAncfudb53H"
      },
      "execution_count": 15,
      "outputs": []
    },
    {
      "cell_type": "code",
      "source": [
        "from torch_lr_finder import LRFinder\n",
        "from Trainer_v4 import Trainer\n",
        "from data_preparation_HW7 import * "
      ],
      "metadata": {
        "id": "ttiIxeiaaCA6"
      },
      "execution_count": 16,
      "outputs": []
    },
    {
      "cell_type": "code",
      "source": [
        "from ff_sequential_model import MLPCustom"
      ],
      "metadata": {
        "id": "tuj-uxyKbcM4"
      },
      "execution_count": 17,
      "outputs": []
    },
    {
      "cell_type": "code",
      "source": [
        "#Creating training dataset with subset \n",
        "import random\n",
        "Trainer.set_seed()\n",
        "sExchange_trainset = CustomDataset(X_sExchange_train, y_sExchange_train)\n",
        "se_train_subset_indices = random.sample(range(0, len(sExchange_trainset)), 500)\n",
        "se_train_subset = torch.utils.data.Subset(sExchange_trainset, se_train_subset_indices)\n",
        "se_vocab = get_vocab(sExchange_trainset, min_freq=2)"
      ],
      "metadata": {
        "id": "AdzD3XA-d3Hk"
      },
      "execution_count": 18,
      "outputs": []
    },
    {
      "cell_type": "code",
      "source": [
        "type(se_vocab), se_vocab['debug']"
      ],
      "metadata": {
        "colab": {
          "base_uri": "https://localhost:8080/"
        },
        "id": "cbbffFS0wqhh",
        "outputId": "b08d0dcd-2c46-46a5-fc21-04b6f55f1ef4"
      },
      "execution_count": 19,
      "outputs": [
        {
          "output_type": "execute_result",
          "data": {
            "text/plain": [
              "(torchtext.vocab.vocab.Vocab, 4164)"
            ]
          },
          "metadata": {},
          "execution_count": 19
        }
      ]
    },
    {
      "cell_type": "markdown",
      "source": [],
      "metadata": {
        "id": "bWWMlSLUhiW2"
      }
    },
    {
      "cell_type": "code",
      "source": [
        "pretrained_sExchange_file = str(embeddings_folder/ \"model_stackExchange_CBOW.bin\")\n",
        "sExchange_vectors = KeyedVectors.load(pretrained_sExchange_file)"
      ],
      "metadata": {
        "id": "8wGZYxg7eLuu"
      },
      "execution_count": 20,
      "outputs": []
    },
    {
      "cell_type": "code",
      "source": [
        "pretrained_weights, words_found, words_not_found = get_pretrained_weights(\n",
        "    vocab = se_vocab,\n",
        "    pretrained_vectors = sExchange_vectors,\n",
        "    embedding_dim = 300, #updated from 300 to 150\n",
        ")"
      ],
      "metadata": {
        "id": "Lq8qPuGLlOUh"
      },
      "execution_count": 21,
      "outputs": []
    },
    {
      "cell_type": "code",
      "source": [
        "pretrained_weights.shape"
      ],
      "metadata": {
        "colab": {
          "base_uri": "https://localhost:8080/"
        },
        "id": "hDT7L0lOlx34",
        "outputId": "6cfe0d06-6563-49e4-8189-ad442d6e3dba"
      },
      "execution_count": 22,
      "outputs": [
        {
          "output_type": "execute_result",
          "data": {
            "text/plain": [
              "torch.Size([90287, 300])"
            ]
          },
          "metadata": {},
          "execution_count": 22
        }
      ]
    },
    {
      "cell_type": "code",
      "source": [
        "type(pretrained_weights), words_found, words_not_found"
      ],
      "metadata": {
        "colab": {
          "base_uri": "https://localhost:8080/"
        },
        "id": "6XmLwDyil2V2",
        "outputId": "787b9c99-b528-4896-ce8b-518f800119a6"
      },
      "execution_count": 23,
      "outputs": [
        {
          "output_type": "execute_result",
          "data": {
            "text/plain": [
              "(torch.Tensor, 14664, 75623)"
            ]
          },
          "metadata": {},
          "execution_count": 23
        }
      ]
    },
    {
      "cell_type": "markdown",
      "source": [
        "Initialining all required HyperParameters "
      ],
      "metadata": {
        "id": "2cxT_0v8fgot"
      }
    },
    {
      "cell_type": "code",
      "source": [
        "hyperparameters = SimpleNamespace(\n",
        "    EMBED_DIM=300,\n",
        "    VOCAB_SIZE=len(se_vocab),\n",
        "    OUTPUT_DIM=2,\n",
        "    HIDDEN_SIZES_LIST=[200],\n",
        "    DPROB_LIST=[0.0],\n",
        "    NON_LINEARITY=nn.ReLU(),\n",
        "    BATCH_NORM=False,\n",
        "\n",
        "    # for training\n",
        "    INITIALIZATION ='kaiming',\n",
        "    EPOCHS=50,\n",
        "    BATCH_SIZE=128,\n",
        "    LEARNING_RATE=0.001,\n",
        "    DATASET='IMDB',\n",
        "    ARCHITECTURE='embed_layer-ffn',\n",
        "\n",
        "    # for optimizer\n",
        "    OPTIMIZER='AdamW',\n",
        "    MOMENTUM = 0,\n",
        "    NESTEROV = False,\n",
        "    WEIGHT_DECAY = 0.000,\n",
        "\n",
        "    # gradient clipping\n",
        "    CLIP_TYPE='norm',\n",
        "    CLIP_VALUE=2,\n",
        "\n",
        "    # early stopping\n",
        "    EARLY_STOP_PATIENCE=5,\n",
        "\n",
        "    #scheduler\n",
        "    SCHEDULER = 'None'\n",
        ")"
      ],
      "metadata": {
        "id": "95hm4WfbfYn6"
      },
      "execution_count": 25,
      "outputs": []
    },
    {
      "cell_type": "markdown",
      "source": [
        "Specifying run name & folder"
      ],
      "metadata": {
        "id": "iR3EXC18iovu"
      }
    },
    {
      "cell_type": "code",
      "source": [
        "#Defining the variables\n",
        "project_name = \"StackExchange NN architecture\"\n",
        "run_name=\"Task3a\"\n",
        "run_folder = model_saving_folder / run_name\n",
        "run_folder.mkdir(exist_ok=True)\n",
        "log_frequency = 5"
      ],
      "metadata": {
        "id": "VPyitAyTilNb"
      },
      "execution_count": 22,
      "outputs": []
    },
    {
      "cell_type": "markdown",
      "source": [
        "Modifying Hyperparameters for Run"
      ],
      "metadata": {
        "id": "iEAjOIYKjGtD"
      }
    },
    {
      "cell_type": "code",
      "source": [
        "# run 1 - based on default initialization\n",
        "# Notes: Final Learning rate was set to 0.01\n",
        "\n",
        "# run 2 - add dropout\n",
        "hyperparameters.LEARNING_RATE = 0.01   \n",
        "hyperparameters.DPROB_LIST=[0.5] \n",
        "\n",
        "# run 3 - remove dropout, add weight decay\n",
        "hyperparameters.WEIGHT_DECAY = 1\n",
        "hyperparameters.DPROB_LIST=[0] \n",
        "\n",
        "# run 4 - remove dropout, add weight decay\n",
        "hyperparameters.WEIGHT_DECAY = 0.1\n",
        "\n",
        "# run 5 - increase batch size to 256\n",
        "hyperparameters.BATCH_SIZE = 256\n",
        "\n",
        "# run 6 - One cyucle scheduler\n",
        "hyperparameters.LEARNING_RATE = 0.001   \n",
        "hyperparameters.WEIGHT_DECAY = 10\n",
        "hyperparameters.SCHEDULER='OneCyclicLR'\n",
        "hyperparameters.SCHEDULER_MAX_LR=0.01\n",
        "hyperparameters.SCHEDULER_DIV_FACTOR=25\n",
        "hyperparameters.SCHEDULER_FINAL_DIV_FACTOR=1e3\n",
        "hyperparameters.EPOCHS = 10\n",
        "\n",
        "#  run 7 - use pre-trained weights but freeze teh weights - model will \n",
        "hyperparameters.USE_PRE_TRAINED_WEIGHTS = True\n",
        "hyperparameters.FREEZE_PRETRAINED = True\n",
        "\n",
        "# run 8 - Unfreeze the weights\n",
        "hyperparameters.FREEZE_PRETRAINED = False"
      ],
      "metadata": {
        "id": "XBfGuQCVjGNq"
      },
      "execution_count": 23,
      "outputs": []
    },
    {
      "cell_type": "markdown",
      "source": [
        "Configuring the trainer "
      ],
      "metadata": {
        "id": "5d24Bq1lk3MB"
      }
    },
    {
      "cell_type": "code",
      "source": [
        "#Set the seed value \n",
        "Trainer.set_seed()\n",
        "\n",
        "se_collate_fn = partial(collate_batch, vocab=se_vocab)"
      ],
      "metadata": {
        "colab": {
          "base_uri": "https://localhost:8080/",
          "height": 217
        },
        "id": "qXtU7DtFk2ny",
        "outputId": "b7afc5ca-42d0-4be9-95c1-c46388a3ab55"
      },
      "execution_count": 1,
      "outputs": [
        {
          "output_type": "error",
          "ename": "NameError",
          "evalue": "ignored",
          "traceback": [
            "\u001b[0;31m---------------------------------------------------------------------------\u001b[0m",
            "\u001b[0;31mNameError\u001b[0m                                 Traceback (most recent call last)",
            "\u001b[0;32m<ipython-input-1-c30983f2ec1b>\u001b[0m in \u001b[0;36m<cell line: 2>\u001b[0;34m()\u001b[0m\n\u001b[1;32m      1\u001b[0m \u001b[0;31m#Set the seed value\u001b[0m\u001b[0;34m\u001b[0m\u001b[0;34m\u001b[0m\u001b[0m\n\u001b[0;32m----> 2\u001b[0;31m \u001b[0mTrainer\u001b[0m\u001b[0;34m.\u001b[0m\u001b[0mset_seed\u001b[0m\u001b[0;34m(\u001b[0m\u001b[0;34m)\u001b[0m\u001b[0;34m\u001b[0m\u001b[0;34m\u001b[0m\u001b[0m\n\u001b[0m\u001b[1;32m      3\u001b[0m \u001b[0;34m\u001b[0m\u001b[0m\n\u001b[1;32m      4\u001b[0m \u001b[0mse_collate_fn\u001b[0m \u001b[0;34m=\u001b[0m \u001b[0mpartial\u001b[0m\u001b[0;34m(\u001b[0m\u001b[0mcollate_batch\u001b[0m\u001b[0;34m,\u001b[0m \u001b[0mvocab\u001b[0m\u001b[0;34m=\u001b[0m\u001b[0mse_vocab\u001b[0m\u001b[0;34m)\u001b[0m\u001b[0;34m\u001b[0m\u001b[0;34m\u001b[0m\u001b[0m\n",
            "\u001b[0;31mNameError\u001b[0m: name 'Trainer' is not defined"
          ]
        }
      ]
    },
    {
      "cell_type": "code",
      "source": [
        "type(se_collate_fn)"
      ],
      "metadata": {
        "id": "SngvqxvPNdEq"
      },
      "execution_count": null,
      "outputs": []
    },
    {
      "cell_type": "code",
      "source": [],
      "metadata": {
        "id": "SrX_6pLcNr1I"
      },
      "execution_count": null,
      "outputs": []
    },
    {
      "cell_type": "code",
      "source": [
        "#Data Loader\n",
        "se_train_loader, _ = get_loaders(\n",
        "    trainset=se_train_subset,\n",
        "    validset=None,\n",
        "    batch_size = hyperparameters.BATCH_SIZE,\n",
        "    collate_fn = se_collate_fn\n",
        ")\n",
        "\n",
        "loss_function = nn.BCEWithLogitsLoss()\n",
        "model_stackExchange = MLPCustom(hyperparameters.EMBED_DIM,\n",
        "                                hyperparameters.VOCAB_SIZE,\n",
        "                                hyperparameters.HIDDEN_SIZES_LIST,\n",
        "                                hyperparameters.DPROB_LIST, \n",
        "                                hyperparameters.OUTPUT_DIM, \n",
        "                                hyperparameters.NON_LINEARITY,\n",
        "                                hyperparameters.BATCH_NORM,\n",
        "                                use_pre_trained_weights =                              \n",
        "\n",
        ")"
      ],
      "metadata": {
        "colab": {
          "base_uri": "https://localhost:8080/",
          "height": 235
        },
        "id": "P0JRv-hjNb77",
        "outputId": "f9bce814-3894-4321-e300-9392a9c58286"
      },
      "execution_count": 2,
      "outputs": [
        {
          "output_type": "error",
          "ename": "NameError",
          "evalue": "ignored",
          "traceback": [
            "\u001b[0;31m---------------------------------------------------------------------------\u001b[0m",
            "\u001b[0;31mNameError\u001b[0m                                 Traceback (most recent call last)",
            "\u001b[0;32m<ipython-input-2-37edf92e27aa>\u001b[0m in \u001b[0;36m<cell line: 2>\u001b[0;34m()\u001b[0m\n\u001b[1;32m      1\u001b[0m \u001b[0;31m#Data Loader\u001b[0m\u001b[0;34m\u001b[0m\u001b[0;34m\u001b[0m\u001b[0m\n\u001b[0;32m----> 2\u001b[0;31m se_train_loader, _ = get_loaders(\n\u001b[0m\u001b[1;32m      3\u001b[0m     \u001b[0mtrainset\u001b[0m\u001b[0;34m=\u001b[0m\u001b[0mse_train_subset\u001b[0m\u001b[0;34m,\u001b[0m\u001b[0;34m\u001b[0m\u001b[0;34m\u001b[0m\u001b[0m\n\u001b[1;32m      4\u001b[0m     \u001b[0mvalidset\u001b[0m\u001b[0;34m=\u001b[0m\u001b[0;32mNone\u001b[0m\u001b[0;34m,\u001b[0m\u001b[0;34m\u001b[0m\u001b[0;34m\u001b[0m\u001b[0m\n\u001b[1;32m      5\u001b[0m     \u001b[0mbatch_size\u001b[0m \u001b[0;34m=\u001b[0m \u001b[0mhyperparameters\u001b[0m\u001b[0;34m.\u001b[0m\u001b[0mBATCH_SIZE\u001b[0m\u001b[0;34m,\u001b[0m\u001b[0;34m\u001b[0m\u001b[0;34m\u001b[0m\u001b[0m\n",
            "\u001b[0;31mNameError\u001b[0m: name 'get_loaders' is not defined"
          ]
        }
      ]
    },
    {
      "cell_type": "code",
      "source": [],
      "metadata": {
        "id": "WyEhsfq7OF79"
      },
      "execution_count": null,
      "outputs": []
    }
  ]
}