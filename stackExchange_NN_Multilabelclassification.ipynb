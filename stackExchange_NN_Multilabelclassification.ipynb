{
  "nbformat": 4,
  "nbformat_minor": 0,
  "metadata": {
    "colab": {
      "provenance": [],
      "machine_shape": "hm",
      "authorship_tag": "ABX9TyNq+T3STdPkLJ7wLkYO3hDG",
      "include_colab_link": true
    },
    "kernelspec": {
      "name": "python3",
      "display_name": "Python 3"
    },
    "language_info": {
      "name": "python"
    },
    "accelerator": "GPU",
    "gpuClass": "premium",
    "widgets": {
      "application/vnd.jupyter.widget-state+json": {
        "a7617ef3181749eba1609756fb0aa626": {
          "model_module": "@jupyter-widgets/controls",
          "model_name": "HBoxModel",
          "model_module_version": "1.5.0",
          "state": {
            "_dom_classes": [],
            "_model_module": "@jupyter-widgets/controls",
            "_model_module_version": "1.5.0",
            "_model_name": "HBoxModel",
            "_view_count": null,
            "_view_module": "@jupyter-widgets/controls",
            "_view_module_version": "1.5.0",
            "_view_name": "HBoxView",
            "box_style": "",
            "children": [
              "IPY_MODEL_c47aac973be8499d9f81136ea55634ba",
              "IPY_MODEL_8a113038321f466aab263f380e5e8c51",
              "IPY_MODEL_f75a5ef3640f4667b7c74bee43babe5e"
            ],
            "layout": "IPY_MODEL_01c22639b0cb47b9ac662f63431ad955"
          }
        },
        "c47aac973be8499d9f81136ea55634ba": {
          "model_module": "@jupyter-widgets/controls",
          "model_name": "HTMLModel",
          "model_module_version": "1.5.0",
          "state": {
            "_dom_classes": [],
            "_model_module": "@jupyter-widgets/controls",
            "_model_module_version": "1.5.0",
            "_model_name": "HTMLModel",
            "_view_count": null,
            "_view_module": "@jupyter-widgets/controls",
            "_view_module_version": "1.5.0",
            "_view_name": "HTMLView",
            "description": "",
            "description_tooltip": null,
            "layout": "IPY_MODEL_869b6be19fee4db9a7096a44258cad7b",
            "placeholder": "​",
            "style": "IPY_MODEL_5c8858b65742446e885f8b8acc88d140",
            "value": "Pandas Apply: 100%"
          }
        },
        "8a113038321f466aab263f380e5e8c51": {
          "model_module": "@jupyter-widgets/controls",
          "model_name": "FloatProgressModel",
          "model_module_version": "1.5.0",
          "state": {
            "_dom_classes": [],
            "_model_module": "@jupyter-widgets/controls",
            "_model_module_version": "1.5.0",
            "_model_name": "FloatProgressModel",
            "_view_count": null,
            "_view_module": "@jupyter-widgets/controls",
            "_view_module_version": "1.5.0",
            "_view_name": "ProgressView",
            "bar_style": "success",
            "description": "",
            "description_tooltip": null,
            "layout": "IPY_MODEL_77f43ae5ba6b4444bd728fa3e670708c",
            "max": 47427,
            "min": 0,
            "orientation": "horizontal",
            "style": "IPY_MODEL_4ed948aa82f04701bd11517426485dde",
            "value": 47427
          }
        },
        "f75a5ef3640f4667b7c74bee43babe5e": {
          "model_module": "@jupyter-widgets/controls",
          "model_name": "HTMLModel",
          "model_module_version": "1.5.0",
          "state": {
            "_dom_classes": [],
            "_model_module": "@jupyter-widgets/controls",
            "_model_module_version": "1.5.0",
            "_model_name": "HTMLModel",
            "_view_count": null,
            "_view_module": "@jupyter-widgets/controls",
            "_view_module_version": "1.5.0",
            "_view_name": "HTMLView",
            "description": "",
            "description_tooltip": null,
            "layout": "IPY_MODEL_4773db5496d442148f0442c044f20301",
            "placeholder": "​",
            "style": "IPY_MODEL_5fca4860815c453485b8de404f7ed8b9",
            "value": " 47427/47427 [00:00&lt;00:00, 103539.66it/s]"
          }
        },
        "01c22639b0cb47b9ac662f63431ad955": {
          "model_module": "@jupyter-widgets/base",
          "model_name": "LayoutModel",
          "model_module_version": "1.2.0",
          "state": {
            "_model_module": "@jupyter-widgets/base",
            "_model_module_version": "1.2.0",
            "_model_name": "LayoutModel",
            "_view_count": null,
            "_view_module": "@jupyter-widgets/base",
            "_view_module_version": "1.2.0",
            "_view_name": "LayoutView",
            "align_content": null,
            "align_items": null,
            "align_self": null,
            "border": null,
            "bottom": null,
            "display": null,
            "flex": null,
            "flex_flow": null,
            "grid_area": null,
            "grid_auto_columns": null,
            "grid_auto_flow": null,
            "grid_auto_rows": null,
            "grid_column": null,
            "grid_gap": null,
            "grid_row": null,
            "grid_template_areas": null,
            "grid_template_columns": null,
            "grid_template_rows": null,
            "height": null,
            "justify_content": null,
            "justify_items": null,
            "left": null,
            "margin": null,
            "max_height": null,
            "max_width": null,
            "min_height": null,
            "min_width": null,
            "object_fit": null,
            "object_position": null,
            "order": null,
            "overflow": null,
            "overflow_x": null,
            "overflow_y": null,
            "padding": null,
            "right": null,
            "top": null,
            "visibility": null,
            "width": null
          }
        },
        "869b6be19fee4db9a7096a44258cad7b": {
          "model_module": "@jupyter-widgets/base",
          "model_name": "LayoutModel",
          "model_module_version": "1.2.0",
          "state": {
            "_model_module": "@jupyter-widgets/base",
            "_model_module_version": "1.2.0",
            "_model_name": "LayoutModel",
            "_view_count": null,
            "_view_module": "@jupyter-widgets/base",
            "_view_module_version": "1.2.0",
            "_view_name": "LayoutView",
            "align_content": null,
            "align_items": null,
            "align_self": null,
            "border": null,
            "bottom": null,
            "display": null,
            "flex": null,
            "flex_flow": null,
            "grid_area": null,
            "grid_auto_columns": null,
            "grid_auto_flow": null,
            "grid_auto_rows": null,
            "grid_column": null,
            "grid_gap": null,
            "grid_row": null,
            "grid_template_areas": null,
            "grid_template_columns": null,
            "grid_template_rows": null,
            "height": null,
            "justify_content": null,
            "justify_items": null,
            "left": null,
            "margin": null,
            "max_height": null,
            "max_width": null,
            "min_height": null,
            "min_width": null,
            "object_fit": null,
            "object_position": null,
            "order": null,
            "overflow": null,
            "overflow_x": null,
            "overflow_y": null,
            "padding": null,
            "right": null,
            "top": null,
            "visibility": null,
            "width": null
          }
        },
        "5c8858b65742446e885f8b8acc88d140": {
          "model_module": "@jupyter-widgets/controls",
          "model_name": "DescriptionStyleModel",
          "model_module_version": "1.5.0",
          "state": {
            "_model_module": "@jupyter-widgets/controls",
            "_model_module_version": "1.5.0",
            "_model_name": "DescriptionStyleModel",
            "_view_count": null,
            "_view_module": "@jupyter-widgets/base",
            "_view_module_version": "1.2.0",
            "_view_name": "StyleView",
            "description_width": ""
          }
        },
        "77f43ae5ba6b4444bd728fa3e670708c": {
          "model_module": "@jupyter-widgets/base",
          "model_name": "LayoutModel",
          "model_module_version": "1.2.0",
          "state": {
            "_model_module": "@jupyter-widgets/base",
            "_model_module_version": "1.2.0",
            "_model_name": "LayoutModel",
            "_view_count": null,
            "_view_module": "@jupyter-widgets/base",
            "_view_module_version": "1.2.0",
            "_view_name": "LayoutView",
            "align_content": null,
            "align_items": null,
            "align_self": null,
            "border": null,
            "bottom": null,
            "display": null,
            "flex": null,
            "flex_flow": null,
            "grid_area": null,
            "grid_auto_columns": null,
            "grid_auto_flow": null,
            "grid_auto_rows": null,
            "grid_column": null,
            "grid_gap": null,
            "grid_row": null,
            "grid_template_areas": null,
            "grid_template_columns": null,
            "grid_template_rows": null,
            "height": null,
            "justify_content": null,
            "justify_items": null,
            "left": null,
            "margin": null,
            "max_height": null,
            "max_width": null,
            "min_height": null,
            "min_width": null,
            "object_fit": null,
            "object_position": null,
            "order": null,
            "overflow": null,
            "overflow_x": null,
            "overflow_y": null,
            "padding": null,
            "right": null,
            "top": null,
            "visibility": null,
            "width": null
          }
        },
        "4ed948aa82f04701bd11517426485dde": {
          "model_module": "@jupyter-widgets/controls",
          "model_name": "ProgressStyleModel",
          "model_module_version": "1.5.0",
          "state": {
            "_model_module": "@jupyter-widgets/controls",
            "_model_module_version": "1.5.0",
            "_model_name": "ProgressStyleModel",
            "_view_count": null,
            "_view_module": "@jupyter-widgets/base",
            "_view_module_version": "1.2.0",
            "_view_name": "StyleView",
            "bar_color": null,
            "description_width": ""
          }
        },
        "4773db5496d442148f0442c044f20301": {
          "model_module": "@jupyter-widgets/base",
          "model_name": "LayoutModel",
          "model_module_version": "1.2.0",
          "state": {
            "_model_module": "@jupyter-widgets/base",
            "_model_module_version": "1.2.0",
            "_model_name": "LayoutModel",
            "_view_count": null,
            "_view_module": "@jupyter-widgets/base",
            "_view_module_version": "1.2.0",
            "_view_name": "LayoutView",
            "align_content": null,
            "align_items": null,
            "align_self": null,
            "border": null,
            "bottom": null,
            "display": null,
            "flex": null,
            "flex_flow": null,
            "grid_area": null,
            "grid_auto_columns": null,
            "grid_auto_flow": null,
            "grid_auto_rows": null,
            "grid_column": null,
            "grid_gap": null,
            "grid_row": null,
            "grid_template_areas": null,
            "grid_template_columns": null,
            "grid_template_rows": null,
            "height": null,
            "justify_content": null,
            "justify_items": null,
            "left": null,
            "margin": null,
            "max_height": null,
            "max_width": null,
            "min_height": null,
            "min_width": null,
            "object_fit": null,
            "object_position": null,
            "order": null,
            "overflow": null,
            "overflow_x": null,
            "overflow_y": null,
            "padding": null,
            "right": null,
            "top": null,
            "visibility": null,
            "width": null
          }
        },
        "5fca4860815c453485b8de404f7ed8b9": {
          "model_module": "@jupyter-widgets/controls",
          "model_name": "DescriptionStyleModel",
          "model_module_version": "1.5.0",
          "state": {
            "_model_module": "@jupyter-widgets/controls",
            "_model_module_version": "1.5.0",
            "_model_name": "DescriptionStyleModel",
            "_view_count": null,
            "_view_module": "@jupyter-widgets/base",
            "_view_module_version": "1.2.0",
            "_view_name": "StyleView",
            "description_width": ""
          }
        },
        "4d62726b3bbb425d9f0c735187b86a78": {
          "model_module": "@jupyter-widgets/controls",
          "model_name": "HBoxModel",
          "model_module_version": "1.5.0",
          "state": {
            "_dom_classes": [],
            "_model_module": "@jupyter-widgets/controls",
            "_model_module_version": "1.5.0",
            "_model_name": "HBoxModel",
            "_view_count": null,
            "_view_module": "@jupyter-widgets/controls",
            "_view_module_version": "1.5.0",
            "_view_name": "HBoxView",
            "box_style": "",
            "children": [
              "IPY_MODEL_177d3ab99f9546c8ab4b60a4c65d4d26",
              "IPY_MODEL_9a36d3b34755493ab73bd8db650a9900",
              "IPY_MODEL_41a77478fb284ab58e1c313c80bf9d51"
            ],
            "layout": "IPY_MODEL_37a78e0a5d794d7f8486867c11981e94"
          }
        },
        "177d3ab99f9546c8ab4b60a4c65d4d26": {
          "model_module": "@jupyter-widgets/controls",
          "model_name": "HTMLModel",
          "model_module_version": "1.5.0",
          "state": {
            "_dom_classes": [],
            "_model_module": "@jupyter-widgets/controls",
            "_model_module_version": "1.5.0",
            "_model_name": "HTMLModel",
            "_view_count": null,
            "_view_module": "@jupyter-widgets/controls",
            "_view_module_version": "1.5.0",
            "_view_name": "HTMLView",
            "description": "",
            "description_tooltip": null,
            "layout": "IPY_MODEL_49ddc6b1ae5c4b4da96131f0f9713f73",
            "placeholder": "​",
            "style": "IPY_MODEL_a0b16c40134541c9b330946b3bbda9c4",
            "value": "100%"
          }
        },
        "9a36d3b34755493ab73bd8db650a9900": {
          "model_module": "@jupyter-widgets/controls",
          "model_name": "FloatProgressModel",
          "model_module_version": "1.5.0",
          "state": {
            "_dom_classes": [],
            "_model_module": "@jupyter-widgets/controls",
            "_model_module_version": "1.5.0",
            "_model_name": "FloatProgressModel",
            "_view_count": null,
            "_view_module": "@jupyter-widgets/controls",
            "_view_module_version": "1.5.0",
            "_view_name": "ProgressView",
            "bar_style": "success",
            "description": "",
            "description_tooltip": null,
            "layout": "IPY_MODEL_6c370a8eff0949a3a800a092380efbad",
            "max": 100,
            "min": 0,
            "orientation": "horizontal",
            "style": "IPY_MODEL_00aa892fc7374b9aa6ee19b6642ff776",
            "value": 100
          }
        },
        "41a77478fb284ab58e1c313c80bf9d51": {
          "model_module": "@jupyter-widgets/controls",
          "model_name": "HTMLModel",
          "model_module_version": "1.5.0",
          "state": {
            "_dom_classes": [],
            "_model_module": "@jupyter-widgets/controls",
            "_model_module_version": "1.5.0",
            "_model_name": "HTMLModel",
            "_view_count": null,
            "_view_module": "@jupyter-widgets/controls",
            "_view_module_version": "1.5.0",
            "_view_name": "HTMLView",
            "description": "",
            "description_tooltip": null,
            "layout": "IPY_MODEL_96b93ae3162b4f6a982cb93105f877db",
            "placeholder": "​",
            "style": "IPY_MODEL_81d00693588b401789fabba669c5343f",
            "value": " 100/100 [00:01&lt;00:00, 106.92it/s]"
          }
        },
        "37a78e0a5d794d7f8486867c11981e94": {
          "model_module": "@jupyter-widgets/base",
          "model_name": "LayoutModel",
          "model_module_version": "1.2.0",
          "state": {
            "_model_module": "@jupyter-widgets/base",
            "_model_module_version": "1.2.0",
            "_model_name": "LayoutModel",
            "_view_count": null,
            "_view_module": "@jupyter-widgets/base",
            "_view_module_version": "1.2.0",
            "_view_name": "LayoutView",
            "align_content": null,
            "align_items": null,
            "align_self": null,
            "border": null,
            "bottom": null,
            "display": null,
            "flex": null,
            "flex_flow": null,
            "grid_area": null,
            "grid_auto_columns": null,
            "grid_auto_flow": null,
            "grid_auto_rows": null,
            "grid_column": null,
            "grid_gap": null,
            "grid_row": null,
            "grid_template_areas": null,
            "grid_template_columns": null,
            "grid_template_rows": null,
            "height": null,
            "justify_content": null,
            "justify_items": null,
            "left": null,
            "margin": null,
            "max_height": null,
            "max_width": null,
            "min_height": null,
            "min_width": null,
            "object_fit": null,
            "object_position": null,
            "order": null,
            "overflow": null,
            "overflow_x": null,
            "overflow_y": null,
            "padding": null,
            "right": null,
            "top": null,
            "visibility": null,
            "width": null
          }
        },
        "49ddc6b1ae5c4b4da96131f0f9713f73": {
          "model_module": "@jupyter-widgets/base",
          "model_name": "LayoutModel",
          "model_module_version": "1.2.0",
          "state": {
            "_model_module": "@jupyter-widgets/base",
            "_model_module_version": "1.2.0",
            "_model_name": "LayoutModel",
            "_view_count": null,
            "_view_module": "@jupyter-widgets/base",
            "_view_module_version": "1.2.0",
            "_view_name": "LayoutView",
            "align_content": null,
            "align_items": null,
            "align_self": null,
            "border": null,
            "bottom": null,
            "display": null,
            "flex": null,
            "flex_flow": null,
            "grid_area": null,
            "grid_auto_columns": null,
            "grid_auto_flow": null,
            "grid_auto_rows": null,
            "grid_column": null,
            "grid_gap": null,
            "grid_row": null,
            "grid_template_areas": null,
            "grid_template_columns": null,
            "grid_template_rows": null,
            "height": null,
            "justify_content": null,
            "justify_items": null,
            "left": null,
            "margin": null,
            "max_height": null,
            "max_width": null,
            "min_height": null,
            "min_width": null,
            "object_fit": null,
            "object_position": null,
            "order": null,
            "overflow": null,
            "overflow_x": null,
            "overflow_y": null,
            "padding": null,
            "right": null,
            "top": null,
            "visibility": null,
            "width": null
          }
        },
        "a0b16c40134541c9b330946b3bbda9c4": {
          "model_module": "@jupyter-widgets/controls",
          "model_name": "DescriptionStyleModel",
          "model_module_version": "1.5.0",
          "state": {
            "_model_module": "@jupyter-widgets/controls",
            "_model_module_version": "1.5.0",
            "_model_name": "DescriptionStyleModel",
            "_view_count": null,
            "_view_module": "@jupyter-widgets/base",
            "_view_module_version": "1.2.0",
            "_view_name": "StyleView",
            "description_width": ""
          }
        },
        "6c370a8eff0949a3a800a092380efbad": {
          "model_module": "@jupyter-widgets/base",
          "model_name": "LayoutModel",
          "model_module_version": "1.2.0",
          "state": {
            "_model_module": "@jupyter-widgets/base",
            "_model_module_version": "1.2.0",
            "_model_name": "LayoutModel",
            "_view_count": null,
            "_view_module": "@jupyter-widgets/base",
            "_view_module_version": "1.2.0",
            "_view_name": "LayoutView",
            "align_content": null,
            "align_items": null,
            "align_self": null,
            "border": null,
            "bottom": null,
            "display": null,
            "flex": null,
            "flex_flow": null,
            "grid_area": null,
            "grid_auto_columns": null,
            "grid_auto_flow": null,
            "grid_auto_rows": null,
            "grid_column": null,
            "grid_gap": null,
            "grid_row": null,
            "grid_template_areas": null,
            "grid_template_columns": null,
            "grid_template_rows": null,
            "height": null,
            "justify_content": null,
            "justify_items": null,
            "left": null,
            "margin": null,
            "max_height": null,
            "max_width": null,
            "min_height": null,
            "min_width": null,
            "object_fit": null,
            "object_position": null,
            "order": null,
            "overflow": null,
            "overflow_x": null,
            "overflow_y": null,
            "padding": null,
            "right": null,
            "top": null,
            "visibility": null,
            "width": null
          }
        },
        "00aa892fc7374b9aa6ee19b6642ff776": {
          "model_module": "@jupyter-widgets/controls",
          "model_name": "ProgressStyleModel",
          "model_module_version": "1.5.0",
          "state": {
            "_model_module": "@jupyter-widgets/controls",
            "_model_module_version": "1.5.0",
            "_model_name": "ProgressStyleModel",
            "_view_count": null,
            "_view_module": "@jupyter-widgets/base",
            "_view_module_version": "1.2.0",
            "_view_name": "StyleView",
            "bar_color": null,
            "description_width": ""
          }
        },
        "96b93ae3162b4f6a982cb93105f877db": {
          "model_module": "@jupyter-widgets/base",
          "model_name": "LayoutModel",
          "model_module_version": "1.2.0",
          "state": {
            "_model_module": "@jupyter-widgets/base",
            "_model_module_version": "1.2.0",
            "_model_name": "LayoutModel",
            "_view_count": null,
            "_view_module": "@jupyter-widgets/base",
            "_view_module_version": "1.2.0",
            "_view_name": "LayoutView",
            "align_content": null,
            "align_items": null,
            "align_self": null,
            "border": null,
            "bottom": null,
            "display": null,
            "flex": null,
            "flex_flow": null,
            "grid_area": null,
            "grid_auto_columns": null,
            "grid_auto_flow": null,
            "grid_auto_rows": null,
            "grid_column": null,
            "grid_gap": null,
            "grid_row": null,
            "grid_template_areas": null,
            "grid_template_columns": null,
            "grid_template_rows": null,
            "height": null,
            "justify_content": null,
            "justify_items": null,
            "left": null,
            "margin": null,
            "max_height": null,
            "max_width": null,
            "min_height": null,
            "min_width": null,
            "object_fit": null,
            "object_position": null,
            "order": null,
            "overflow": null,
            "overflow_x": null,
            "overflow_y": null,
            "padding": null,
            "right": null,
            "top": null,
            "visibility": null,
            "width": null
          }
        },
        "81d00693588b401789fabba669c5343f": {
          "model_module": "@jupyter-widgets/controls",
          "model_name": "DescriptionStyleModel",
          "model_module_version": "1.5.0",
          "state": {
            "_model_module": "@jupyter-widgets/controls",
            "_model_module_version": "1.5.0",
            "_model_name": "DescriptionStyleModel",
            "_view_count": null,
            "_view_module": "@jupyter-widgets/base",
            "_view_module_version": "1.2.0",
            "_view_name": "StyleView",
            "description_width": ""
          }
        }
      }
    }
  },
  "cells": [
    {
      "cell_type": "markdown",
      "metadata": {
        "id": "view-in-github",
        "colab_type": "text"
      },
      "source": [
        "<a href=\"https://colab.research.google.com/github/parimalakettymuthu/MachineLearning-Projects/blob/main/stackExchange_NN_Multilabelclassification.ipynb\" target=\"_parent\"><img src=\"https://colab.research.google.com/assets/colab-badge.svg\" alt=\"Open In Colab\"/></a>"
      ]
    },
    {
      "cell_type": "code",
      "execution_count": 1,
      "metadata": {
        "id": "yWiXXVeW_cfv"
      },
      "outputs": [],
      "source": [
        "%load_ext autoreload\n",
        "%autoreload 2"
      ]
    },
    {
      "cell_type": "code",
      "source": [
        "import sys\n",
        "if 'google.colab' in str(get_ipython()):\n",
        "  from google.colab import drive\n",
        "  drive.mount('/content/drive')\n",
        "\n",
        "  !pip install torchtext --upgrade --q\n",
        "  !pip install torchmetrics --q\n",
        "  !pip install -quiet torch-lr-finder --q\n",
        "  !pip install wandb --q --upgrade\n",
        "\n",
        "  basepath = '/content/drive/My Drive/NLP' \n",
        "  sys.path.append('/content/drive/My Drive/NLP/custom-functions')"
      ],
      "metadata": {
        "colab": {
          "base_uri": "https://localhost:8080/"
        },
        "id": "roTXjiPGC3ax",
        "outputId": "76c14128-48ce-4d94-a7f5-848f518793c0"
      },
      "execution_count": 2,
      "outputs": [
        {
          "output_type": "stream",
          "name": "stdout",
          "text": [
            "Drive already mounted at /content/drive; to attempt to forcibly remount, call drive.mount(\"/content/drive\", force_remount=True).\n",
            "\n",
            "Usage:   \n",
            "  pip3 install [options] <requirement specifier> [package-index-options] ...\n",
            "  pip3 install [options] -r <requirements file> [package-index-options] ...\n",
            "  pip3 install [options] [-e] <vcs project url> ...\n",
            "  pip3 install [options] [-e] <local project path> ...\n",
            "  pip3 install [options] <archive url/path> ...\n",
            "\n",
            "no such option: -u\n"
          ]
        }
      ]
    },
    {
      "cell_type": "code",
      "source": [
        "#Importing the required libraries \n",
        "import torch\n",
        "import torch.nn as nn\n",
        "import torch.nn.functional as F\n",
        "\n",
        "import torchmetrics\n",
        "from torchmetrics.classification import MultilabelF1Score, MultilabelHammingDistance\n",
        "from torchmetrics.functional.classification import multilabel_f1_score, multilabel_hamming_distance\n",
        "\n",
        "import joblib\n",
        "#import swifter\n",
        "import ast\n",
        "import wandb\n",
        "\n",
        "from types import SimpleNamespace\n",
        "from functools import partial\n",
        "from pathlib import Path\n",
        "from sklearn.model_selection import train_test_split\n",
        "from sklearn.preprocessing import MultiLabelBinarizer as mlb\n"
      ],
      "metadata": {
        "id": "byKpUJjmDgYh"
      },
      "execution_count": 3,
      "outputs": []
    },
    {
      "cell_type": "code",
      "source": [
        "#Defined the google drive folders for accessing/saving models related files\n",
        "embeddings_folder = Path(basepath)/ 'assignment7/WordEmbeddings'\n",
        "data_folder = Path(basepath)/ 'assignment7/MultiLabel_Classification'\n",
        "model_saving_folder = Path(basepath)/ 'assignment7/MultiLabel_Classification'"
      ],
      "metadata": {
        "id": "GmNdHyTvDhwb"
      },
      "execution_count": 4,
      "outputs": []
    },
    {
      "cell_type": "code",
      "source": [
        "data_cleaned = data_folder/ \"df_multilabel_hw_cleaned.joblib\"\n",
        "stackExchange_dataset = joblib.load(data_cleaned)"
      ],
      "metadata": {
        "id": "-xOnlKc1Ydmo"
      },
      "execution_count": 5,
      "outputs": []
    },
    {
      "cell_type": "code",
      "source": [
        "X = stackExchange_dataset['cleaned_text'].values\n",
        "y = stackExchange_dataset['Tag_Number'].values"
      ],
      "metadata": {
        "id": "xbf44Q-XYrvw"
      },
      "execution_count": 6,
      "outputs": []
    },
    {
      "cell_type": "code",
      "source": [
        "!pip install swifter -qq"
      ],
      "metadata": {
        "id": "89QcmYtfYyWo"
      },
      "execution_count": 7,
      "outputs": []
    },
    {
      "cell_type": "code",
      "source": [
        "import swifter\n",
        "import ast\n",
        "stackExchange_dataset['Tag_Number_list'] = stackExchange_dataset['Tag_Number'].swifter.apply(lambda x: ast.literal_eval(x))"
      ],
      "metadata": {
        "colab": {
          "base_uri": "https://localhost:8080/",
          "height": 49,
          "referenced_widgets": [
            "a7617ef3181749eba1609756fb0aa626",
            "c47aac973be8499d9f81136ea55634ba",
            "8a113038321f466aab263f380e5e8c51",
            "f75a5ef3640f4667b7c74bee43babe5e",
            "01c22639b0cb47b9ac662f63431ad955",
            "869b6be19fee4db9a7096a44258cad7b",
            "5c8858b65742446e885f8b8acc88d140",
            "77f43ae5ba6b4444bd728fa3e670708c",
            "4ed948aa82f04701bd11517426485dde",
            "4773db5496d442148f0442c044f20301",
            "5fca4860815c453485b8de404f7ed8b9"
          ]
        },
        "id": "5b-mizHzY21P",
        "outputId": "16bb247f-bfaa-4f84-c036-b8136b0f6f69"
      },
      "execution_count": 8,
      "outputs": [
        {
          "output_type": "display_data",
          "data": {
            "text/plain": [
              "Pandas Apply:   0%|          | 0/47427 [00:00<?, ?it/s]"
            ],
            "application/vnd.jupyter.widget-view+json": {
              "version_major": 2,
              "version_minor": 0,
              "model_id": "a7617ef3181749eba1609756fb0aa626"
            }
          },
          "metadata": {}
        }
      ]
    },
    {
      "cell_type": "code",
      "source": [
        "y_final = stackExchange_dataset['Tag_Number_list'].values"
      ],
      "metadata": {
        "id": "jOP5vGOIZwiZ"
      },
      "execution_count": 9,
      "outputs": []
    },
    {
      "cell_type": "code",
      "source": [
        "from sklearn.preprocessing import MultiLabelBinarizer as mlb\n",
        "y_stackExchange_encoding = mlb().fit_transform(y_final)"
      ],
      "metadata": {
        "id": "oQX_RJsUZtz6"
      },
      "execution_count": 10,
      "outputs": []
    },
    {
      "cell_type": "code",
      "source": [
        "from sklearn.model_selection import train_test_split\n",
        "X_sExchange_train, X_valid_test, y_sExchange_train, y_valid_test = train_test_split(X, y_stackExchange_encoding, test_size=0.4, random_state=42)\n",
        "X_sExchange_valid, X_sExchange_test, y_sExchange_valid, y_sExchange_test = train_test_split(X_valid_test, y_valid_test, test_size=0.5, random_state=42)"
      ],
      "metadata": {
        "id": "awTdtZf6Y6yI"
      },
      "execution_count": 11,
      "outputs": []
    },
    {
      "cell_type": "code",
      "source": [
        "from gensim.models import KeyedVectors\n",
        "pretrained_sExchange_file = str(embeddings_folder/ \"model_stackExchange_CBOW.bin\")\n",
        "sExchange_vectors = KeyedVectors.load(pretrained_sExchange_file)"
      ],
      "metadata": {
        "id": "zpz6KhcoZsIJ"
      },
      "execution_count": 12,
      "outputs": []
    },
    {
      "cell_type": "code",
      "source": [
        "!pip install torch_lr_finder -qq"
      ],
      "metadata": {
        "id": "5FAncfudb53H"
      },
      "execution_count": 13,
      "outputs": []
    },
    {
      "cell_type": "code",
      "source": [
        "from torch_lr_finder import LRFinder\n",
        "from Trainer_v4 import Trainer\n",
        "from data_preparation_HW7 import * "
      ],
      "metadata": {
        "id": "ttiIxeiaaCA6"
      },
      "execution_count": 14,
      "outputs": []
    },
    {
      "cell_type": "code",
      "source": [
        "from ff_sequential_model import MLPCustom\n",
        "#from ff_sequential_model_v1 import MLPCustom"
      ],
      "metadata": {
        "id": "tuj-uxyKbcM4"
      },
      "execution_count": 15,
      "outputs": []
    },
    {
      "cell_type": "code",
      "source": [
        "#Creating training dataset with subset \n",
        "import random\n",
        "Trainer.set_seed()\n",
        "sExchange_trainset = CustomDataset(X_sExchange_train, y_sExchange_train)\n",
        "se_train_subset_indices = random.sample(range(0, len(sExchange_trainset)), 500)\n",
        "se_train_subset = torch.utils.data.Subset(sExchange_trainset, se_train_subset_indices)\n",
        "se_vocab = get_vocab(sExchange_trainset, min_freq=2)"
      ],
      "metadata": {
        "id": "AdzD3XA-d3Hk"
      },
      "execution_count": 16,
      "outputs": []
    },
    {
      "cell_type": "code",
      "source": [
        "type(se_vocab), se_vocab['debug']"
      ],
      "metadata": {
        "colab": {
          "base_uri": "https://localhost:8080/"
        },
        "id": "cbbffFS0wqhh",
        "outputId": "8abb0e59-d7ee-4e20-87a6-a2ff356d8d18"
      },
      "execution_count": 17,
      "outputs": [
        {
          "output_type": "execute_result",
          "data": {
            "text/plain": [
              "(torchtext.vocab.vocab.Vocab, 4164)"
            ]
          },
          "metadata": {},
          "execution_count": 17
        }
      ]
    },
    {
      "cell_type": "markdown",
      "source": [],
      "metadata": {
        "id": "bWWMlSLUhiW2"
      }
    },
    {
      "cell_type": "code",
      "source": [
        "pretrained_sExchange_file = str(embeddings_folder/ \"model_stackExchange_CBOW.bin\")\n",
        "sExchange_vectors = KeyedVectors.load(pretrained_sExchange_file)"
      ],
      "metadata": {
        "id": "8wGZYxg7eLuu"
      },
      "execution_count": 18,
      "outputs": []
    },
    {
      "cell_type": "code",
      "source": [
        "pretrained_weights, words_found, words_not_found = get_pretrained_weights(\n",
        "    vocab = se_vocab,\n",
        "    pretrained_vectors = sExchange_vectors,\n",
        "    embedding_dim = 300, #updated from 300 to 150\n",
        ")"
      ],
      "metadata": {
        "id": "Lq8qPuGLlOUh"
      },
      "execution_count": 19,
      "outputs": []
    },
    {
      "cell_type": "code",
      "source": [
        "pretrained_weights.shape"
      ],
      "metadata": {
        "colab": {
          "base_uri": "https://localhost:8080/"
        },
        "id": "hDT7L0lOlx34",
        "outputId": "3a7798f5-ad29-4857-b5be-3b9538d9d4eb"
      },
      "execution_count": 20,
      "outputs": [
        {
          "output_type": "execute_result",
          "data": {
            "text/plain": [
              "torch.Size([90287, 300])"
            ]
          },
          "metadata": {},
          "execution_count": 20
        }
      ]
    },
    {
      "cell_type": "code",
      "source": [
        "type(pretrained_weights), words_found, words_not_found"
      ],
      "metadata": {
        "colab": {
          "base_uri": "https://localhost:8080/"
        },
        "id": "6XmLwDyil2V2",
        "outputId": "e33a4a83-6aba-453d-8503-ab235c163c34"
      },
      "execution_count": 21,
      "outputs": [
        {
          "output_type": "execute_result",
          "data": {
            "text/plain": [
              "(torch.Tensor, 14664, 75623)"
            ]
          },
          "metadata": {},
          "execution_count": 21
        }
      ]
    },
    {
      "cell_type": "markdown",
      "source": [
        "Initialining all required HyperParameters "
      ],
      "metadata": {
        "id": "2cxT_0v8fgot"
      }
    },
    {
      "cell_type": "code",
      "source": [
        "hyperparameters = SimpleNamespace(\n",
        "# for model\n",
        "    EMBED_DIM=300,\n",
        "    VOCAB_SIZE=len(se_vocab),\n",
        "    OUTPUT_DIM=10,\n",
        "    HIDDEN_SIZES_LIST=[],\n",
        "    DPROB_LIST=[],\n",
        "    NON_LINEARITY=nn.SELU(),\n",
        "    BATCH_NORM=False,\n",
        "    \n",
        "    # for optimizer\n",
        "    OPTIMIZER=\"SGD\",\n",
        "    MOMENTUM=0,\n",
        "    NESTEROV=False,\n",
        "    \n",
        "    # for training\n",
        "    INITIALIZATION=\"default\",\n",
        "    EPOCHS=20,\n",
        "    BATCH_SIZE=32,\n",
        "    LEARNING_RATE=0.001,\n",
        "    DATASET=\"STACKEXCHANGE\",\n",
        "    ARCHITECTURE=\"emdbag_linear\",\n",
        "    \n",
        "    # Schedulers\n",
        "    SCHEDULER=\"None\",\n",
        ")"
      ],
      "metadata": {
        "id": "1aocgXe7vws4"
      },
      "execution_count": 22,
      "outputs": []
    },
    {
      "cell_type": "markdown",
      "source": [
        "Specifying run name & folder"
      ],
      "metadata": {
        "id": "iR3EXC18iovu"
      }
    },
    {
      "cell_type": "code",
      "source": [
        "#Defining the variables\n",
        "project_name = \"StackExchange NN architecture\"\n",
        "run_name=\"Task3a exp2\"\n",
        "run_folder = model_saving_folder / run_name\n",
        "run_folder.mkdir(exist_ok=True)\n",
        "log_frequency = 5"
      ],
      "metadata": {
        "id": "VPyitAyTilNb"
      },
      "execution_count": 23,
      "outputs": []
    },
    {
      "cell_type": "markdown",
      "source": [
        "Modifying Hyperparameters for Run"
      ],
      "metadata": {
        "id": "iEAjOIYKjGtD"
      }
    },
    {
      "cell_type": "code",
      "source": [
        "# run 1 - based on default initialization\n",
        "# Notes: Final Learning rate was set to 1\n",
        "\n",
        "# run 2\n",
        "hyperparameters.HIDDEN_SIZES_LIST = [200]\n",
        "hyperparameters.DPROB_LIST = [0]\n",
        "hyperparameters.LEARNING_RATE = 0.001  # reset initial learning rate\n",
        "# Notes : Final Learning rate was set to 1\n",
        "\n",
        "# run 3\n",
        "#hyperparameters.OPTIMIZER = \"Adam\"\n",
        "#hyperparameters.LEARNING_RATE = 0.001  # reset initial learning rate\n",
        "# Notes : Final Learning rate was set to 0.02\n",
        "\n",
        "# run 4\n",
        "#hyperparameters.HIDDEN_SIZES_LIST = [200] + [200]\n",
        "#hyperparameters.DPROB_LIST = [0] + [0]\n",
        "#hyperparameters.LEARNING_RATE = 0.001  # reset initial learning rate\n",
        "# Notes : Final Learning rate was set to 0.02\n",
        "\n",
        "# run 5\n",
        "#hyperparameters.INITIALIZATION = 'kaiming'\n",
        "#hyperparameters.NON_LINEARITY = nn.ReLU()\n",
        "#hyperparameters.LEARNING_RATE = 0.001  # reset initial learning rate\n",
        "# Notes : Final Learning rate was set to 0.02\n",
        "\n",
        "# run 6\n",
        "#hyperparameters.HIDDEN_SIZES_LIST = [400] \n",
        "#hyperparameters.DPROB_LIST = [0] \n",
        "#hyperparameters.LEARNING_RATE = 0.001  # reset initial learning rate\n",
        "# # Notes : Final Learning rate was set to 0.02"
      ],
      "metadata": {
        "id": "Mz6HeXcUusz1"
      },
      "execution_count": 24,
      "outputs": []
    },
    {
      "cell_type": "markdown",
      "source": [
        "Configuring the trainer "
      ],
      "metadata": {
        "id": "5d24Bq1lk3MB"
      }
    },
    {
      "cell_type": "code",
      "source": [
        "#Set the seed value \n",
        "Trainer.set_seed()\n",
        "\n",
        "se_collate_fn = partial(collate_batch, vocab=se_vocab)"
      ],
      "metadata": {
        "id": "qXtU7DtFk2ny"
      },
      "execution_count": 25,
      "outputs": []
    },
    {
      "cell_type": "code",
      "source": [
        "type(se_collate_fn)"
      ],
      "metadata": {
        "colab": {
          "base_uri": "https://localhost:8080/"
        },
        "id": "SngvqxvPNdEq",
        "outputId": "89726f00-87a8-425d-97d1-ff0a0b287269"
      },
      "execution_count": 26,
      "outputs": [
        {
          "output_type": "execute_result",
          "data": {
            "text/plain": [
              "functools.partial"
            ]
          },
          "metadata": {},
          "execution_count": 26
        }
      ]
    },
    {
      "cell_type": "code",
      "source": [
        "#Data Loader\n",
        "se_train_loader, _ = get_loaders(trainset=sExchange_trainset, validset=None, \n",
        "                                         batch_size_=hyperparameters.BATCH_SIZE,\n",
        "                                         collate_fn=se_collate_fn)\n",
        "\n",
        "se_loss_function = nn.BCEWithLogitsLoss()\n",
        "stackExchange_model = MLPCustom(hyperparameters.EMBED_DIM,\n",
        "                                hyperparameters.VOCAB_SIZE,\n",
        "                                hyperparameters.HIDDEN_SIZES_LIST,\n",
        "                                hyperparameters.DPROB_LIST, \n",
        "                                hyperparameters.OUTPUT_DIM, \n",
        "                                hyperparameters.NON_LINEARITY,\n",
        "                                hyperparameters.BATCH_NORM,)\n",
        "                                # use_pre_trained_weights = hyperparameters.USE_PRE_TRAINED_WEIGHTS,\n",
        "                                # pretrained_weights = pretrained_weights,\n",
        "                                # freeze_pretrained = hyperparameters.FREEZE_PRETRAINED)\n",
        "def init_weights(m):\n",
        "  if type(m)==\"nn.Linear\":\n",
        "    torch.nn.init.kaiming_normal_(m.weight)\n",
        "    torch.nn.init.zeros_(nn.bias)\n",
        "\n",
        "#Apply initialization to all modules\n",
        "if hyperparameters.INITIALIZATION == 'kaiming':\n",
        "  stackExchange_model.apply(init_weights)\n",
        "\n",
        "\n",
        "#Defining optimizer\n",
        "def get_optimizer():\n",
        "  if hyperparameters.OPTIMIZER == 'SGD':\n",
        "    optimizer = torch.optim.SGD(\n",
        "        stackExchange_model.parameters(),\n",
        "        lr = hyperparameters.LEARNING_RATE,\n",
        "        momentum = hyperparameters.MOMENTUM,\n",
        "        nesterov = hyperparameters.NESTEROV,\n",
        "    )\n",
        "  else:\n",
        "    optimizer = torch.optim.Adam(\n",
        "        stackExchange_model.parameters(),\n",
        "        lr = hyperparameters.LEARNING_RATE\n",
        "    )\n",
        "  return optimizer\n",
        "\n",
        "sExchange_optimizer = get_optimizer()\n",
        "sExchange_device = torch.device(\"cuda:0\" if torch.cuda.is_available() else \"cpu\")"
      ],
      "metadata": {
        "id": "P0JRv-hjNb77"
      },
      "execution_count": 27,
      "outputs": []
    },
    {
      "cell_type": "code",
      "source": [
        "sExchange_optimizer"
      ],
      "metadata": {
        "colab": {
          "base_uri": "https://localhost:8080/"
        },
        "id": "WyEhsfq7OF79",
        "outputId": "0d9ba5af-bca5-411c-82bb-e6789c916756"
      },
      "execution_count": 28,
      "outputs": [
        {
          "output_type": "execute_result",
          "data": {
            "text/plain": [
              "SGD (\n",
              "Parameter Group 0\n",
              "    dampening: 0\n",
              "    differentiable: False\n",
              "    foreach: None\n",
              "    lr: 0.001\n",
              "    maximize: False\n",
              "    momentum: 0\n",
              "    nesterov: False\n",
              "    weight_decay: 0\n",
              ")"
            ]
          },
          "metadata": {},
          "execution_count": 28
        }
      ]
    },
    {
      "cell_type": "code",
      "source": [
        "stackExchange_model"
      ],
      "metadata": {
        "colab": {
          "base_uri": "https://localhost:8080/"
        },
        "id": "efkzX1wUdGK0",
        "outputId": "d1a3fbaf-121f-4fde-c2af-a127d743b96a"
      },
      "execution_count": 29,
      "outputs": [
        {
          "output_type": "execute_result",
          "data": {
            "text/plain": [
              "MLPCustom(\n",
              "  (non_linearity): SELU()\n",
              "  (embedding): EmbeddingBag(90287, 300, mode='mean')\n",
              "  (module_list): ModuleList(\n",
              "    (0): Linear(in_features=300, out_features=200, bias=True)\n",
              "    (1): SELU()\n",
              "    (2): Dropout(p=0, inplace=False)\n",
              "    (3): Linear(in_features=200, out_features=10, bias=True)\n",
              "  )\n",
              ")"
            ]
          },
          "metadata": {},
          "execution_count": 29
        }
      ]
    },
    {
      "cell_type": "markdown",
      "source": [
        "Trainer"
      ],
      "metadata": {
        "id": "bas5zQrwdPmj"
      }
    },
    {
      "cell_type": "code",
      "source": [
        "sEXchange_trainer = Trainer(\n",
        "    model=stackExchange_model, optimizer=sExchange_optimizer, \n",
        "    criterion=se_loss_function,\n",
        "    device=sExchange_device\n",
        ")\n",
        "sEXchange_trainer.set_loaders(se_train_loader)"
      ],
      "metadata": {
        "id": "8EzS-2JDdJRa"
      },
      "execution_count": 30,
      "outputs": []
    },
    {
      "cell_type": "markdown",
      "source": [
        "Learning Rate Finder"
      ],
      "metadata": {
        "id": "4gE7wNq_emrR"
      }
    },
    {
      "cell_type": "code",
      "source": [
        "type(se_train_loader)"
      ],
      "metadata": {
        "colab": {
          "base_uri": "https://localhost:8080/"
        },
        "id": "VU50F65-hdwz",
        "outputId": "e0b1dffc-15b1-4494-b2e5-229d6a8cbb7d"
      },
      "execution_count": 31,
      "outputs": [
        {
          "output_type": "execute_result",
          "data": {
            "text/plain": [
              "torch.utils.data.dataloader.DataLoader"
            ]
          },
          "metadata": {},
          "execution_count": 31
        }
      ]
    },
    {
      "cell_type": "code",
      "source": [
        "#sEXchange_trainer.lr_finder_range_test(sEXchange_trainer.se_train_loader)\n",
        "sEXchange_trainer.lr_finder_range_test(se_train_loader)"
      ],
      "metadata": {
        "colab": {
          "base_uri": "https://localhost:8080/",
          "height": 593,
          "referenced_widgets": [
            "4d62726b3bbb425d9f0c735187b86a78",
            "177d3ab99f9546c8ab4b60a4c65d4d26",
            "9a36d3b34755493ab73bd8db650a9900",
            "41a77478fb284ab58e1c313c80bf9d51",
            "37a78e0a5d794d7f8486867c11981e94",
            "49ddc6b1ae5c4b4da96131f0f9713f73",
            "a0b16c40134541c9b330946b3bbda9c4",
            "6c370a8eff0949a3a800a092380efbad",
            "00aa892fc7374b9aa6ee19b6642ff776",
            "96b93ae3162b4f6a982cb93105f877db",
            "81d00693588b401789fabba669c5343f"
          ]
        },
        "id": "LZsdhPy-el6q",
        "outputId": "31fc7596-acdc-483b-a3d4-5aef0985556c"
      },
      "execution_count": 32,
      "outputs": [
        {
          "output_type": "display_data",
          "data": {
            "text/plain": [
              "  0%|          | 0/100 [00:00<?, ?it/s]"
            ],
            "application/vnd.jupyter.widget-view+json": {
              "version_major": 2,
              "version_minor": 0,
              "model_id": "4d62726b3bbb425d9f0c735187b86a78"
            }
          },
          "metadata": {}
        },
        {
          "output_type": "stream",
          "name": "stderr",
          "text": [
            "/content/drive/My Drive/NLP/custom-functions/data_preparation_HW7.py:72: UserWarning: Creating a tensor from a list of numpy.ndarrays is extremely slow. Please consider converting the list to a single numpy.ndarray with numpy.array() before converting to a tensor. (Triggered internally at ../torch/csrc/utils/tensor_new.cpp:245.)\n",
            "  labels = torch.tensor(labels, dtype=torch.float64)\n"
          ]
        },
        {
          "output_type": "stream",
          "name": "stdout",
          "text": [
            "Learning rate search finished. See the graph with {finder_name}.plot()\n",
            "LR suggestion: steepest gradient\n",
            "Suggested LR: 1.18E+00\n"
          ]
        },
        {
          "output_type": "display_data",
          "data": {
            "text/plain": [
              "<Figure size 640x480 with 1 Axes>"
            ],
            "image/png": "[encoded data removed]"
          },
          "metadata": {}
        }
      ]
    },
    {
      "cell_type": "code",
      "source": [
        "hyperparameters.LEARNING_RATE = 0.02"
      ],
      "metadata": {
        "id": "mwdjeuJviJx1"
      },
      "execution_count": 41,
      "outputs": []
    },
    {
      "cell_type": "markdown",
      "source": [
        "Set trainer based on hyperparameters"
      ],
      "metadata": {
        "id": "eDXINAJ9i-nC"
      }
    },
    {
      "cell_type": "code",
      "source": [
        "#Resetting optimizer\n",
        "sEXchange_trainer.set_optimizer(get_optimizer())\n",
        "\n",
        "#Setting metric \n",
        "se_train_metric = MultilabelHammingDistance(num_labels=10)\n",
        "sEXchange_trainer.set_metric(se_train_metric.to(sExchange_device))\n"
      ],
      "metadata": {
        "id": "YwmeeecQi9nj"
      },
      "execution_count": 34,
      "outputs": []
    },
    {
      "cell_type": "code",
      "source": [
        "#Setting wandb \n",
        "sEXchange_trainer.set_wandb(\n",
        "    project_name = project_name,\n",
        "    run_name = run_name,\n",
        "    config = hyperparameters,\n",
        "    log_batch=True, \n",
        "    log_frequency=log_frequency\n",
        ")"
      ],
      "metadata": {
        "colab": {
          "base_uri": "https://localhost:8080/",
          "height": 139
        },
        "id": "lzR_TCxXkWRe",
        "outputId": "93310772-5e43-41a9-91ee-cffc86b19eb5"
      },
      "execution_count": 35,
      "outputs": [
        {
          "output_type": "stream",
          "name": "stderr",
          "text": [
            "\u001b[34m\u001b[1mwandb\u001b[0m: Currently logged in as: \u001b[33mparimala-kettymuthu\u001b[0m (\u001b[33mparimala\u001b[0m). Use \u001b[1m`wandb login --relogin`\u001b[0m to force relogin\n"
          ]
        },
        {
          "output_type": "display_data",
          "data": {
            "text/plain": [
              "<IPython.core.display.HTML object>"
            ],
            "text/html": [
              "Tracking run with wandb version 0.15.0"
            ]
          },
          "metadata": {}
        },
        {
          "output_type": "display_data",
          "data": {
            "text/plain": [
              "<IPython.core.display.HTML object>"
            ],
            "text/html": [
              "Run data is saved locally in <code>/content/wandb/run-20230423_214341-ibe40qg9</code>"
            ]
          },
          "metadata": {}
        },
        {
          "output_type": "display_data",
          "data": {
            "text/plain": [
              "<IPython.core.display.HTML object>"
            ],
            "text/html": [
              "Syncing run <strong><a href='https://wandb.ai/parimala/StackExchange%20NN%20architecture/runs/ibe40qg9' target=\"_blank\">Task3a exp2</a></strong> to <a href='https://wandb.ai/parimala/StackExchange%20NN%20architecture' target=\"_blank\">Weights & Biases</a> (<a href='https://wandb.me/run' target=\"_blank\">docs</a>)<br/>"
            ]
          },
          "metadata": {}
        },
        {
          "output_type": "display_data",
          "data": {
            "text/plain": [
              "<IPython.core.display.HTML object>"
            ],
            "text/html": [
              " View project at <a href='https://wandb.ai/parimala/StackExchange%20NN%20architecture' target=\"_blank\">https://wandb.ai/parimala/StackExchange%20NN%20architecture</a>"
            ]
          },
          "metadata": {}
        },
        {
          "output_type": "display_data",
          "data": {
            "text/plain": [
              "<IPython.core.display.HTML object>"
            ],
            "text/html": [
              " View run at <a href='https://wandb.ai/parimala/StackExchange%20NN%20architecture/runs/ibe40qg9' target=\"_blank\">https://wandb.ai/parimala/StackExchange%20NN%20architecture/runs/ibe40qg9</a>"
            ]
          },
          "metadata": {}
        },
        {
          "output_type": "stream",
          "name": "stderr",
          "text": [
            "\u001b[34m\u001b[1mwandb\u001b[0m: logging graph, to disable use `wandb.watch(log_graph=False)`\n"
          ]
        }
      ]
    },
    {
      "cell_type": "code",
      "source": [
        "sEXchange_trainer.learning_rates"
      ],
      "metadata": {
        "colab": {
          "base_uri": "https://localhost:8080/"
        },
        "id": "9glKMW3wkuk2",
        "outputId": "64f4e1a0-7896-412d-c010-adbbea023bbf"
      },
      "execution_count": 36,
      "outputs": [
        {
          "output_type": "execute_result",
          "data": {
            "text/plain": [
              "[0.02]"
            ]
          },
          "metadata": {},
          "execution_count": 36
        }
      ]
    },
    {
      "cell_type": "markdown",
      "source": [
        "Sanity Check"
      ],
      "metadata": {
        "id": "xzFz0pXBxmJc"
      }
    },
    {
      "cell_type": "code",
      "source": [
        "sEXchange_trainer.sanity_check(num_classes=2)"
      ],
      "metadata": {
        "colab": {
          "base_uri": "https://localhost:8080/"
        },
        "id": "Pb0sAh6akxu-",
        "outputId": "4c34de41-d9e1-437a-a515-f117689a4a26"
      },
      "execution_count": 37,
      "outputs": [
        {
          "output_type": "stream",
          "name": "stdout",
          "text": [
            "Actual loss: 0.7045540796854767\n",
            "Expected Theoretical loss: 0.6931471805599453\n"
          ]
        }
      ]
    },
    {
      "cell_type": "code",
      "source": [
        "sEXchange_trainer.train(num_epochs=hyperparameters.EPOCHS, multilabel=True)"
      ],
      "metadata": {
        "colab": {
          "base_uri": "https://localhost:8080/"
        },
        "id": "HQvp2LoLxszY",
        "outputId": "72c59762-289e-4b57-e658-e5d3f3cfa966"
      },
      "execution_count": 38,
      "outputs": [
        {
          "output_type": "stream",
          "name": "stdout",
          "text": [
            "Validation loader is not set. The trainer will only execute training Loop\n",
            "Not saving any checkpoint\n",
            "Epoch 1/20 - Train Loss: 0.4517, Train Metric: 0.1851, Train Time: 0:00:48.072741\n",
            "Current Learning rate is 0.02\n",
            "\n",
            "Epoch 2/20 - Train Loss: 0.3415, Train Metric: 0.1424, Train Time: 0:00:47.071454\n",
            "Current Learning rate is 0.02\n",
            "\n",
            "Epoch 3/20 - Train Loss: 0.3033, Train Metric: 0.1275, Train Time: 0:00:46.550404\n",
            "Current Learning rate is 0.02\n",
            "\n",
            "Epoch 4/20 - Train Loss: 0.2771, Train Metric: 0.1164, Train Time: 0:00:46.553478\n",
            "Current Learning rate is 0.02\n",
            "\n",
            "Epoch 5/20 - Train Loss: 0.2594, Train Metric: 0.1059, Train Time: 0:00:47.210760\n",
            "Current Learning rate is 0.02\n",
            "\n",
            "Epoch 6/20 - Train Loss: 0.2461, Train Metric: 0.0976, Train Time: 0:00:47.239102\n",
            "Current Learning rate is 0.02\n",
            "\n",
            "Epoch 7/20 - Train Loss: 0.2355, Train Metric: 0.0917, Train Time: 0:00:47.638977\n",
            "Current Learning rate is 0.02\n",
            "\n",
            "Epoch 8/20 - Train Loss: 0.2270, Train Metric: 0.0877, Train Time: 0:00:47.345885\n",
            "Current Learning rate is 0.02\n",
            "\n",
            "Epoch 9/20 - Train Loss: 0.2200, Train Metric: 0.0845, Train Time: 0:00:47.758282\n",
            "Current Learning rate is 0.02\n",
            "\n",
            "Epoch 10/20 - Train Loss: 0.2144, Train Metric: 0.0819, Train Time: 0:00:46.743059\n",
            "Current Learning rate is 0.02\n",
            "\n",
            "Epoch 11/20 - Train Loss: 0.2097, Train Metric: 0.0798, Train Time: 0:00:46.893760\n",
            "Current Learning rate is 0.02\n",
            "\n",
            "Epoch 12/20 - Train Loss: 0.2057, Train Metric: 0.0784, Train Time: 0:00:46.428090\n",
            "Current Learning rate is 0.02\n",
            "\n",
            "Epoch 13/20 - Train Loss: 0.2024, Train Metric: 0.0771, Train Time: 0:00:47.105700\n",
            "Current Learning rate is 0.02\n",
            "\n",
            "Epoch 14/20 - Train Loss: 0.1995, Train Metric: 0.0760, Train Time: 0:00:46.651473\n",
            "Current Learning rate is 0.02\n",
            "\n",
            "Epoch 15/20 - Train Loss: 0.1971, Train Metric: 0.0750, Train Time: 0:00:46.691543\n",
            "Current Learning rate is 0.02\n",
            "\n",
            "Epoch 16/20 - Train Loss: 0.1949, Train Metric: 0.0741, Train Time: 0:00:46.227977\n",
            "Current Learning rate is 0.02\n",
            "\n",
            "Epoch 17/20 - Train Loss: 0.1929, Train Metric: 0.0734, Train Time: 0:00:47.032876\n",
            "Current Learning rate is 0.02\n",
            "\n",
            "Epoch 18/20 - Train Loss: 0.1912, Train Metric: 0.0727, Train Time: 0:00:46.410954\n",
            "Current Learning rate is 0.02\n",
            "\n",
            "Epoch 19/20 - Train Loss: 0.1896, Train Metric: 0.0723, Train Time: 0:00:46.949955\n",
            "Current Learning rate is 0.02\n",
            "\n",
            "Epoch 20/20 - Train Loss: 0.1882, Train Metric: 0.0715, Train Time: 0:00:46.322772\n",
            "Current Learning rate is 0.02\n",
            "\n"
          ]
        }
      ]
    },
    {
      "cell_type": "code",
      "source": [
        "sEXchange_trainer.plot_history()"
      ],
      "metadata": {
        "colab": {
          "base_uri": "https://localhost:8080/",
          "height": 881
        },
        "id": "UQ1_Lz9uyaQB",
        "outputId": "792d020f-c963-4b5a-97f6-28c01c5bb6a7"
      },
      "execution_count": 42,
      "outputs": [
        {
          "output_type": "display_data",
          "data": {
            "text/plain": [
              "<Figure size 640x480 with 1 Axes>"
            ],
            "image/png": "[encoded data removed]"
          },
          "metadata": {}
        },
        {
          "output_type": "display_data",
          "data": {
            "text/plain": [
              "<Figure size 640x480 with 1 Axes>"
            ],
            "image/png": "[encoded data removed]"
          },
          "metadata": {}
        }
      ]
    },
    {
      "cell_type": "markdown",
      "source": [
        "Finish Run"
      ],
      "metadata": {
        "id": "Sax6tSQF38Tf"
      }
    },
    {
      "cell_type": "code",
      "source": [
        "wandb.finish()"
      ],
      "metadata": {
        "id": "7VknFTpY30vr"
      },
      "execution_count": 44,
      "outputs": []
    },
    {
      "cell_type": "code",
      "source": [],
      "metadata": {
        "id": "GYKF9dP93-oq"
      },
      "execution_count": 40,
      "outputs": []
    }
  ]
}